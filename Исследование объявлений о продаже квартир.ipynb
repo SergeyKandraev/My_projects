{
 "cells": [
  {
   "cell_type": "markdown",
   "metadata": {
    "toc": true
   },
   "source": [
    "<h1>Содержание<span class=\"tocSkip\"></span></h1>\n",
    "<div class=\"toc\"><ul class=\"toc-item\"><li><span><a href=\"#Изучение-данных-из-файла\" data-toc-modified-id=\"Изучение-данных-из-файла-1\"><span class=\"toc-item-num\">1&nbsp;&nbsp;</span>Изучение данных из файла</a></span><ul class=\"toc-item\"><li><span><a href=\"#Вывод\" data-toc-modified-id=\"Вывод-1.1\"><span class=\"toc-item-num\">1.1&nbsp;&nbsp;</span>Вывод</a></span></li></ul></li><li><span><a href=\"#Предобработка-данных\" data-toc-modified-id=\"Предобработка-данных-2\"><span class=\"toc-item-num\">2&nbsp;&nbsp;</span>Предобработка данных</a></span></li><li><span><a href=\"#Расчёты-и-добавление-результатов-в-таблицу\" data-toc-modified-id=\"Расчёты-и-добавление-результатов-в-таблицу-3\"><span class=\"toc-item-num\">3&nbsp;&nbsp;</span>Расчёты и добавление результатов в таблицу</a></span></li><li><span><a href=\"#Исследовательский-анализ-данных\" data-toc-modified-id=\"Исследовательский-анализ-данных-4\"><span class=\"toc-item-num\">4&nbsp;&nbsp;</span>Исследовательский анализ данных</a></span></li><li><span><a href=\"#Общий-вывод\" data-toc-modified-id=\"Общий-вывод-5\"><span class=\"toc-item-num\">5&nbsp;&nbsp;</span>Общий вывод</a></span></li><li><span><a href=\"#Чек-лист-готовности-проекта\" data-toc-modified-id=\"Чек-лист-готовности-проекта-6\"><span class=\"toc-item-num\">6&nbsp;&nbsp;</span>Чек-лист готовности проекта</a></span></li></ul></div>"
   ]
  },
  {
   "cell_type": "markdown",
   "metadata": {},
   "source": [
    "# Исследование объявлений о продаже квартир\n",
    "\n",
    "В вашем распоряжении данные сервиса Яндекc Недвижимость — архив объявлений о продаже квартир в Санкт-Петербурге и соседних населённых пунктах за несколько лет. Нужно научиться определять рыночную стоимость объектов недвижимости. Ваша задача — установить параметры. Это позволит построить автоматизированную систему: она отследит аномалии и мошенническую деятельность. \n",
    "\n",
    "По каждой квартире на продажу доступны два вида данных. Первые вписаны пользователем, вторые получены автоматически на основе картографических данных. Например, расстояние до центра, аэропорта, ближайшего парка и водоёма. "
   ]
  },
  {
   "cell_type": "markdown",
   "metadata": {},
   "source": [
    "## Изучение данных из файла"
   ]
  },
  {
   "cell_type": "code",
   "execution_count": 2,
   "metadata": {},
   "outputs": [
    {
     "data": {
      "text/html": [
       "<div>\n",
       "<style scoped>\n",
       "    .dataframe tbody tr th:only-of-type {\n",
       "        vertical-align: middle;\n",
       "    }\n",
       "\n",
       "    .dataframe tbody tr th {\n",
       "        vertical-align: top;\n",
       "    }\n",
       "\n",
       "    .dataframe thead th {\n",
       "        text-align: right;\n",
       "    }\n",
       "</style>\n",
       "<table border=\"1\" class=\"dataframe\">\n",
       "  <thead>\n",
       "    <tr style=\"text-align: right;\">\n",
       "      <th></th>\n",
       "      <th>total_images</th>\n",
       "      <th>last_price</th>\n",
       "      <th>total_area</th>\n",
       "      <th>first_day_exposition</th>\n",
       "      <th>rooms</th>\n",
       "      <th>ceiling_height</th>\n",
       "      <th>floors_total</th>\n",
       "      <th>living_area</th>\n",
       "      <th>floor</th>\n",
       "      <th>is_apartment</th>\n",
       "      <th>studio</th>\n",
       "      <th>open_plan</th>\n",
       "      <th>kitchen_area</th>\n",
       "      <th>balcony</th>\n",
       "      <th>locality_name</th>\n",
       "      <th>airports_nearest</th>\n",
       "      <th>cityCenters_nearest</th>\n",
       "      <th>parks_around3000</th>\n",
       "      <th>parks_nearest</th>\n",
       "      <th>ponds_around3000</th>\n",
       "      <th>ponds_nearest</th>\n",
       "      <th>days_exposition</th>\n",
       "    </tr>\n",
       "  </thead>\n",
       "  <tbody>\n",
       "    <tr>\n",
       "      <th>0</th>\n",
       "      <td>20</td>\n",
       "      <td>13000000.0</td>\n",
       "      <td>108.00</td>\n",
       "      <td>2019-03-07T00:00:00</td>\n",
       "      <td>3</td>\n",
       "      <td>2.70</td>\n",
       "      <td>16.0</td>\n",
       "      <td>51.00</td>\n",
       "      <td>8</td>\n",
       "      <td>NaN</td>\n",
       "      <td>False</td>\n",
       "      <td>False</td>\n",
       "      <td>25.00</td>\n",
       "      <td>NaN</td>\n",
       "      <td>Санкт-Петербург</td>\n",
       "      <td>18863.0</td>\n",
       "      <td>16028.0</td>\n",
       "      <td>1.0</td>\n",
       "      <td>482.0</td>\n",
       "      <td>2.0</td>\n",
       "      <td>755.0</td>\n",
       "      <td>NaN</td>\n",
       "    </tr>\n",
       "    <tr>\n",
       "      <th>1</th>\n",
       "      <td>7</td>\n",
       "      <td>3350000.0</td>\n",
       "      <td>40.40</td>\n",
       "      <td>2018-12-04T00:00:00</td>\n",
       "      <td>1</td>\n",
       "      <td>NaN</td>\n",
       "      <td>11.0</td>\n",
       "      <td>18.60</td>\n",
       "      <td>1</td>\n",
       "      <td>NaN</td>\n",
       "      <td>False</td>\n",
       "      <td>False</td>\n",
       "      <td>11.00</td>\n",
       "      <td>2.0</td>\n",
       "      <td>посёлок Шушары</td>\n",
       "      <td>12817.0</td>\n",
       "      <td>18603.0</td>\n",
       "      <td>0.0</td>\n",
       "      <td>NaN</td>\n",
       "      <td>0.0</td>\n",
       "      <td>NaN</td>\n",
       "      <td>81.0</td>\n",
       "    </tr>\n",
       "    <tr>\n",
       "      <th>2</th>\n",
       "      <td>10</td>\n",
       "      <td>5196000.0</td>\n",
       "      <td>56.00</td>\n",
       "      <td>2015-08-20T00:00:00</td>\n",
       "      <td>2</td>\n",
       "      <td>NaN</td>\n",
       "      <td>5.0</td>\n",
       "      <td>34.30</td>\n",
       "      <td>4</td>\n",
       "      <td>NaN</td>\n",
       "      <td>False</td>\n",
       "      <td>False</td>\n",
       "      <td>8.30</td>\n",
       "      <td>0.0</td>\n",
       "      <td>Санкт-Петербург</td>\n",
       "      <td>21741.0</td>\n",
       "      <td>13933.0</td>\n",
       "      <td>1.0</td>\n",
       "      <td>90.0</td>\n",
       "      <td>2.0</td>\n",
       "      <td>574.0</td>\n",
       "      <td>558.0</td>\n",
       "    </tr>\n",
       "    <tr>\n",
       "      <th>3</th>\n",
       "      <td>0</td>\n",
       "      <td>64900000.0</td>\n",
       "      <td>159.00</td>\n",
       "      <td>2015-07-24T00:00:00</td>\n",
       "      <td>3</td>\n",
       "      <td>NaN</td>\n",
       "      <td>14.0</td>\n",
       "      <td>NaN</td>\n",
       "      <td>9</td>\n",
       "      <td>NaN</td>\n",
       "      <td>False</td>\n",
       "      <td>False</td>\n",
       "      <td>NaN</td>\n",
       "      <td>0.0</td>\n",
       "      <td>Санкт-Петербург</td>\n",
       "      <td>28098.0</td>\n",
       "      <td>6800.0</td>\n",
       "      <td>2.0</td>\n",
       "      <td>84.0</td>\n",
       "      <td>3.0</td>\n",
       "      <td>234.0</td>\n",
       "      <td>424.0</td>\n",
       "    </tr>\n",
       "    <tr>\n",
       "      <th>4</th>\n",
       "      <td>2</td>\n",
       "      <td>10000000.0</td>\n",
       "      <td>100.00</td>\n",
       "      <td>2018-06-19T00:00:00</td>\n",
       "      <td>2</td>\n",
       "      <td>3.03</td>\n",
       "      <td>14.0</td>\n",
       "      <td>32.00</td>\n",
       "      <td>13</td>\n",
       "      <td>NaN</td>\n",
       "      <td>False</td>\n",
       "      <td>False</td>\n",
       "      <td>41.00</td>\n",
       "      <td>NaN</td>\n",
       "      <td>Санкт-Петербург</td>\n",
       "      <td>31856.0</td>\n",
       "      <td>8098.0</td>\n",
       "      <td>2.0</td>\n",
       "      <td>112.0</td>\n",
       "      <td>1.0</td>\n",
       "      <td>48.0</td>\n",
       "      <td>121.0</td>\n",
       "    </tr>\n",
       "    <tr>\n",
       "      <th>5</th>\n",
       "      <td>10</td>\n",
       "      <td>2890000.0</td>\n",
       "      <td>30.40</td>\n",
       "      <td>2018-09-10T00:00:00</td>\n",
       "      <td>1</td>\n",
       "      <td>NaN</td>\n",
       "      <td>12.0</td>\n",
       "      <td>14.40</td>\n",
       "      <td>5</td>\n",
       "      <td>NaN</td>\n",
       "      <td>False</td>\n",
       "      <td>False</td>\n",
       "      <td>9.10</td>\n",
       "      <td>NaN</td>\n",
       "      <td>городской посёлок Янино-1</td>\n",
       "      <td>NaN</td>\n",
       "      <td>NaN</td>\n",
       "      <td>NaN</td>\n",
       "      <td>NaN</td>\n",
       "      <td>NaN</td>\n",
       "      <td>NaN</td>\n",
       "      <td>55.0</td>\n",
       "    </tr>\n",
       "    <tr>\n",
       "      <th>6</th>\n",
       "      <td>6</td>\n",
       "      <td>3700000.0</td>\n",
       "      <td>37.30</td>\n",
       "      <td>2017-11-02T00:00:00</td>\n",
       "      <td>1</td>\n",
       "      <td>NaN</td>\n",
       "      <td>26.0</td>\n",
       "      <td>10.60</td>\n",
       "      <td>6</td>\n",
       "      <td>NaN</td>\n",
       "      <td>False</td>\n",
       "      <td>False</td>\n",
       "      <td>14.40</td>\n",
       "      <td>1.0</td>\n",
       "      <td>посёлок Парголово</td>\n",
       "      <td>52996.0</td>\n",
       "      <td>19143.0</td>\n",
       "      <td>0.0</td>\n",
       "      <td>NaN</td>\n",
       "      <td>0.0</td>\n",
       "      <td>NaN</td>\n",
       "      <td>155.0</td>\n",
       "    </tr>\n",
       "    <tr>\n",
       "      <th>7</th>\n",
       "      <td>5</td>\n",
       "      <td>7915000.0</td>\n",
       "      <td>71.60</td>\n",
       "      <td>2019-04-18T00:00:00</td>\n",
       "      <td>2</td>\n",
       "      <td>NaN</td>\n",
       "      <td>24.0</td>\n",
       "      <td>NaN</td>\n",
       "      <td>22</td>\n",
       "      <td>NaN</td>\n",
       "      <td>False</td>\n",
       "      <td>False</td>\n",
       "      <td>18.90</td>\n",
       "      <td>2.0</td>\n",
       "      <td>Санкт-Петербург</td>\n",
       "      <td>23982.0</td>\n",
       "      <td>11634.0</td>\n",
       "      <td>0.0</td>\n",
       "      <td>NaN</td>\n",
       "      <td>0.0</td>\n",
       "      <td>NaN</td>\n",
       "      <td>NaN</td>\n",
       "    </tr>\n",
       "    <tr>\n",
       "      <th>8</th>\n",
       "      <td>20</td>\n",
       "      <td>2900000.0</td>\n",
       "      <td>33.16</td>\n",
       "      <td>2018-05-23T00:00:00</td>\n",
       "      <td>1</td>\n",
       "      <td>NaN</td>\n",
       "      <td>27.0</td>\n",
       "      <td>15.43</td>\n",
       "      <td>26</td>\n",
       "      <td>NaN</td>\n",
       "      <td>False</td>\n",
       "      <td>False</td>\n",
       "      <td>8.81</td>\n",
       "      <td>NaN</td>\n",
       "      <td>посёлок Мурино</td>\n",
       "      <td>NaN</td>\n",
       "      <td>NaN</td>\n",
       "      <td>NaN</td>\n",
       "      <td>NaN</td>\n",
       "      <td>NaN</td>\n",
       "      <td>NaN</td>\n",
       "      <td>189.0</td>\n",
       "    </tr>\n",
       "    <tr>\n",
       "      <th>9</th>\n",
       "      <td>18</td>\n",
       "      <td>5400000.0</td>\n",
       "      <td>61.00</td>\n",
       "      <td>2017-02-26T00:00:00</td>\n",
       "      <td>3</td>\n",
       "      <td>2.50</td>\n",
       "      <td>9.0</td>\n",
       "      <td>43.60</td>\n",
       "      <td>7</td>\n",
       "      <td>NaN</td>\n",
       "      <td>False</td>\n",
       "      <td>False</td>\n",
       "      <td>6.50</td>\n",
       "      <td>2.0</td>\n",
       "      <td>Санкт-Петербург</td>\n",
       "      <td>50898.0</td>\n",
       "      <td>15008.0</td>\n",
       "      <td>0.0</td>\n",
       "      <td>NaN</td>\n",
       "      <td>0.0</td>\n",
       "      <td>NaN</td>\n",
       "      <td>289.0</td>\n",
       "    </tr>\n",
       "    <tr>\n",
       "      <th>10</th>\n",
       "      <td>5</td>\n",
       "      <td>5050000.0</td>\n",
       "      <td>39.60</td>\n",
       "      <td>2017-11-16T00:00:00</td>\n",
       "      <td>1</td>\n",
       "      <td>2.67</td>\n",
       "      <td>12.0</td>\n",
       "      <td>20.30</td>\n",
       "      <td>3</td>\n",
       "      <td>NaN</td>\n",
       "      <td>False</td>\n",
       "      <td>False</td>\n",
       "      <td>8.50</td>\n",
       "      <td>NaN</td>\n",
       "      <td>Санкт-Петербург</td>\n",
       "      <td>38357.0</td>\n",
       "      <td>13878.0</td>\n",
       "      <td>1.0</td>\n",
       "      <td>310.0</td>\n",
       "      <td>2.0</td>\n",
       "      <td>553.0</td>\n",
       "      <td>137.0</td>\n",
       "    </tr>\n",
       "    <tr>\n",
       "      <th>11</th>\n",
       "      <td>9</td>\n",
       "      <td>3300000.0</td>\n",
       "      <td>44.00</td>\n",
       "      <td>2018-08-27T00:00:00</td>\n",
       "      <td>2</td>\n",
       "      <td>NaN</td>\n",
       "      <td>5.0</td>\n",
       "      <td>31.00</td>\n",
       "      <td>4</td>\n",
       "      <td>False</td>\n",
       "      <td>False</td>\n",
       "      <td>False</td>\n",
       "      <td>6.00</td>\n",
       "      <td>1.0</td>\n",
       "      <td>Ломоносов</td>\n",
       "      <td>48252.0</td>\n",
       "      <td>51677.0</td>\n",
       "      <td>0.0</td>\n",
       "      <td>NaN</td>\n",
       "      <td>0.0</td>\n",
       "      <td>NaN</td>\n",
       "      <td>7.0</td>\n",
       "    </tr>\n",
       "    <tr>\n",
       "      <th>12</th>\n",
       "      <td>10</td>\n",
       "      <td>3890000.0</td>\n",
       "      <td>54.00</td>\n",
       "      <td>2016-06-30T00:00:00</td>\n",
       "      <td>2</td>\n",
       "      <td>NaN</td>\n",
       "      <td>5.0</td>\n",
       "      <td>30.00</td>\n",
       "      <td>5</td>\n",
       "      <td>NaN</td>\n",
       "      <td>False</td>\n",
       "      <td>False</td>\n",
       "      <td>9.00</td>\n",
       "      <td>0.0</td>\n",
       "      <td>Сертолово</td>\n",
       "      <td>NaN</td>\n",
       "      <td>NaN</td>\n",
       "      <td>NaN</td>\n",
       "      <td>NaN</td>\n",
       "      <td>NaN</td>\n",
       "      <td>NaN</td>\n",
       "      <td>90.0</td>\n",
       "    </tr>\n",
       "    <tr>\n",
       "      <th>13</th>\n",
       "      <td>20</td>\n",
       "      <td>3550000.0</td>\n",
       "      <td>42.80</td>\n",
       "      <td>2017-07-01T00:00:00</td>\n",
       "      <td>2</td>\n",
       "      <td>2.56</td>\n",
       "      <td>5.0</td>\n",
       "      <td>27.00</td>\n",
       "      <td>5</td>\n",
       "      <td>NaN</td>\n",
       "      <td>False</td>\n",
       "      <td>False</td>\n",
       "      <td>5.20</td>\n",
       "      <td>1.0</td>\n",
       "      <td>Петергоф</td>\n",
       "      <td>37868.0</td>\n",
       "      <td>33058.0</td>\n",
       "      <td>1.0</td>\n",
       "      <td>294.0</td>\n",
       "      <td>3.0</td>\n",
       "      <td>298.0</td>\n",
       "      <td>366.0</td>\n",
       "    </tr>\n",
       "    <tr>\n",
       "      <th>14</th>\n",
       "      <td>1</td>\n",
       "      <td>4400000.0</td>\n",
       "      <td>36.00</td>\n",
       "      <td>2016-06-23T00:00:00</td>\n",
       "      <td>1</td>\n",
       "      <td>NaN</td>\n",
       "      <td>6.0</td>\n",
       "      <td>17.00</td>\n",
       "      <td>1</td>\n",
       "      <td>NaN</td>\n",
       "      <td>False</td>\n",
       "      <td>False</td>\n",
       "      <td>8.00</td>\n",
       "      <td>0.0</td>\n",
       "      <td>Пушкин</td>\n",
       "      <td>20782.0</td>\n",
       "      <td>30759.0</td>\n",
       "      <td>0.0</td>\n",
       "      <td>NaN</td>\n",
       "      <td>1.0</td>\n",
       "      <td>96.0</td>\n",
       "      <td>203.0</td>\n",
       "    </tr>\n",
       "  </tbody>\n",
       "</table>\n",
       "</div>"
      ],
      "text/plain": [
       "    total_images  last_price  total_area first_day_exposition  rooms  \\\n",
       "0             20  13000000.0      108.00  2019-03-07T00:00:00      3   \n",
       "1              7   3350000.0       40.40  2018-12-04T00:00:00      1   \n",
       "2             10   5196000.0       56.00  2015-08-20T00:00:00      2   \n",
       "3              0  64900000.0      159.00  2015-07-24T00:00:00      3   \n",
       "4              2  10000000.0      100.00  2018-06-19T00:00:00      2   \n",
       "5             10   2890000.0       30.40  2018-09-10T00:00:00      1   \n",
       "6              6   3700000.0       37.30  2017-11-02T00:00:00      1   \n",
       "7              5   7915000.0       71.60  2019-04-18T00:00:00      2   \n",
       "8             20   2900000.0       33.16  2018-05-23T00:00:00      1   \n",
       "9             18   5400000.0       61.00  2017-02-26T00:00:00      3   \n",
       "10             5   5050000.0       39.60  2017-11-16T00:00:00      1   \n",
       "11             9   3300000.0       44.00  2018-08-27T00:00:00      2   \n",
       "12            10   3890000.0       54.00  2016-06-30T00:00:00      2   \n",
       "13            20   3550000.0       42.80  2017-07-01T00:00:00      2   \n",
       "14             1   4400000.0       36.00  2016-06-23T00:00:00      1   \n",
       "\n",
       "    ceiling_height  floors_total  living_area  floor is_apartment  studio  \\\n",
       "0             2.70          16.0        51.00      8          NaN   False   \n",
       "1              NaN          11.0        18.60      1          NaN   False   \n",
       "2              NaN           5.0        34.30      4          NaN   False   \n",
       "3              NaN          14.0          NaN      9          NaN   False   \n",
       "4             3.03          14.0        32.00     13          NaN   False   \n",
       "5              NaN          12.0        14.40      5          NaN   False   \n",
       "6              NaN          26.0        10.60      6          NaN   False   \n",
       "7              NaN          24.0          NaN     22          NaN   False   \n",
       "8              NaN          27.0        15.43     26          NaN   False   \n",
       "9             2.50           9.0        43.60      7          NaN   False   \n",
       "10            2.67          12.0        20.30      3          NaN   False   \n",
       "11             NaN           5.0        31.00      4        False   False   \n",
       "12             NaN           5.0        30.00      5          NaN   False   \n",
       "13            2.56           5.0        27.00      5          NaN   False   \n",
       "14             NaN           6.0        17.00      1          NaN   False   \n",
       "\n",
       "    open_plan  kitchen_area  balcony              locality_name  \\\n",
       "0       False         25.00      NaN            Санкт-Петербург   \n",
       "1       False         11.00      2.0             посёлок Шушары   \n",
       "2       False          8.30      0.0            Санкт-Петербург   \n",
       "3       False           NaN      0.0            Санкт-Петербург   \n",
       "4       False         41.00      NaN            Санкт-Петербург   \n",
       "5       False          9.10      NaN  городской посёлок Янино-1   \n",
       "6       False         14.40      1.0          посёлок Парголово   \n",
       "7       False         18.90      2.0            Санкт-Петербург   \n",
       "8       False          8.81      NaN             посёлок Мурино   \n",
       "9       False          6.50      2.0            Санкт-Петербург   \n",
       "10      False          8.50      NaN            Санкт-Петербург   \n",
       "11      False          6.00      1.0                  Ломоносов   \n",
       "12      False          9.00      0.0                  Сертолово   \n",
       "13      False          5.20      1.0                   Петергоф   \n",
       "14      False          8.00      0.0                     Пушкин   \n",
       "\n",
       "    airports_nearest  cityCenters_nearest  parks_around3000  parks_nearest  \\\n",
       "0            18863.0              16028.0               1.0          482.0   \n",
       "1            12817.0              18603.0               0.0            NaN   \n",
       "2            21741.0              13933.0               1.0           90.0   \n",
       "3            28098.0               6800.0               2.0           84.0   \n",
       "4            31856.0               8098.0               2.0          112.0   \n",
       "5                NaN                  NaN               NaN            NaN   \n",
       "6            52996.0              19143.0               0.0            NaN   \n",
       "7            23982.0              11634.0               0.0            NaN   \n",
       "8                NaN                  NaN               NaN            NaN   \n",
       "9            50898.0              15008.0               0.0            NaN   \n",
       "10           38357.0              13878.0               1.0          310.0   \n",
       "11           48252.0              51677.0               0.0            NaN   \n",
       "12               NaN                  NaN               NaN            NaN   \n",
       "13           37868.0              33058.0               1.0          294.0   \n",
       "14           20782.0              30759.0               0.0            NaN   \n",
       "\n",
       "    ponds_around3000  ponds_nearest  days_exposition  \n",
       "0                2.0          755.0              NaN  \n",
       "1                0.0            NaN             81.0  \n",
       "2                2.0          574.0            558.0  \n",
       "3                3.0          234.0            424.0  \n",
       "4                1.0           48.0            121.0  \n",
       "5                NaN            NaN             55.0  \n",
       "6                0.0            NaN            155.0  \n",
       "7                0.0            NaN              NaN  \n",
       "8                NaN            NaN            189.0  \n",
       "9                0.0            NaN            289.0  \n",
       "10               2.0          553.0            137.0  \n",
       "11               0.0            NaN              7.0  \n",
       "12               NaN            NaN             90.0  \n",
       "13               3.0          298.0            366.0  \n",
       "14               1.0           96.0            203.0  "
      ]
     },
     "metadata": {},
     "output_type": "display_data"
    },
    {
     "name": "stdout",
     "output_type": "stream",
     "text": [
      "<class 'pandas.core.frame.DataFrame'>\n",
      "RangeIndex: 23699 entries, 0 to 23698\n",
      "Data columns (total 22 columns):\n",
      " #   Column                Non-Null Count  Dtype  \n",
      "---  ------                --------------  -----  \n",
      " 0   total_images          23699 non-null  int64  \n",
      " 1   last_price            23699 non-null  float64\n",
      " 2   total_area            23699 non-null  float64\n",
      " 3   first_day_exposition  23699 non-null  object \n",
      " 4   rooms                 23699 non-null  int64  \n",
      " 5   ceiling_height        14504 non-null  float64\n",
      " 6   floors_total          23613 non-null  float64\n",
      " 7   living_area           21796 non-null  float64\n",
      " 8   floor                 23699 non-null  int64  \n",
      " 9   is_apartment          2775 non-null   object \n",
      " 10  studio                23699 non-null  bool   \n",
      " 11  open_plan             23699 non-null  bool   \n",
      " 12  kitchen_area          21421 non-null  float64\n",
      " 13  balcony               12180 non-null  float64\n",
      " 14  locality_name         23650 non-null  object \n",
      " 15  airports_nearest      18157 non-null  float64\n",
      " 16  cityCenters_nearest   18180 non-null  float64\n",
      " 17  parks_around3000      18181 non-null  float64\n",
      " 18  parks_nearest         8079 non-null   float64\n",
      " 19  ponds_around3000      18181 non-null  float64\n",
      " 20  ponds_nearest         9110 non-null   float64\n",
      " 21  days_exposition       20518 non-null  float64\n",
      "dtypes: bool(2), float64(14), int64(3), object(3)\n",
      "memory usage: 3.7+ MB\n"
     ]
    }
   ],
   "source": [
    "import matplotlib.pyplot as plt\n",
    "import pandas as pd\n",
    "pd.set_option('display.max_columns', None)\n",
    "df = pd.read_csv('/datasets/real_estate_data.csv', sep = '\\t')\n",
    "display(df.head(15))\n",
    "df.info()"
   ]
  },
  {
   "cell_type": "code",
   "execution_count": 3,
   "metadata": {},
   "outputs": [
    {
     "name": "stdout",
     "output_type": "stream",
     "text": [
      "Количество пропущеных значений по каждому столбцу датафрейма.\n"
     ]
    },
    {
     "data": {
      "text/plain": [
       "is_apartment            20924\n",
       "parks_nearest           15620\n",
       "ponds_nearest           14589\n",
       "balcony                 11519\n",
       "ceiling_height           9195\n",
       "airports_nearest         5542\n",
       "cityCenters_nearest      5519\n",
       "ponds_around3000         5518\n",
       "parks_around3000         5518\n",
       "days_exposition          3181\n",
       "kitchen_area             2278\n",
       "living_area              1903\n",
       "floors_total               86\n",
       "locality_name              49\n",
       "total_images                0\n",
       "last_price                  0\n",
       "studio                      0\n",
       "floor                       0\n",
       "rooms                       0\n",
       "first_day_exposition        0\n",
       "total_area                  0\n",
       "open_plan                   0\n",
       "dtype: int64"
      ]
     },
     "metadata": {},
     "output_type": "display_data"
    },
    {
     "name": "stdout",
     "output_type": "stream",
     "text": [
      "\n",
      "Процент пропусков в столбцах датафрейма.\n"
     ]
    },
    {
     "data": {
      "text/plain": [
       "is_apartment            88.290645\n",
       "parks_nearest           65.909954\n",
       "ponds_nearest           61.559559\n",
       "balcony                 48.605426\n",
       "ceiling_height          38.799105\n",
       "airports_nearest        23.384953\n",
       "cityCenters_nearest     23.287902\n",
       "ponds_around3000        23.283683\n",
       "parks_around3000        23.283683\n",
       "days_exposition         13.422507\n",
       "kitchen_area             9.612220\n",
       "living_area              8.029875\n",
       "floors_total             0.362885\n",
       "locality_name            0.206760\n",
       "total_images             0.000000\n",
       "last_price               0.000000\n",
       "studio                   0.000000\n",
       "floor                    0.000000\n",
       "rooms                    0.000000\n",
       "first_day_exposition     0.000000\n",
       "total_area               0.000000\n",
       "open_plan                0.000000\n",
       "dtype: float64"
      ]
     },
     "metadata": {},
     "output_type": "display_data"
    },
    {
     "name": "stdout",
     "output_type": "stream",
     "text": [
      "\n"
     ]
    },
    {
     "data": {
      "text/plain": [
       "23699"
      ]
     },
     "execution_count": 3,
     "metadata": {},
     "output_type": "execute_result"
    }
   ],
   "source": [
    "# Посмотрим сколько пропусков в каждом из солбцов датафрейма.\n",
    "print('Количество пропущеных значений по каждому столбцу датафрейма.')\n",
    "display(df.isna().sum().sort_values(ascending=False))\n",
    "print('')\n",
    "\n",
    "# Посчитаем процент пропусков в данных для каждого столбца в датафрейме.\n",
    "percent_of_nan = df.isna().sum()/len(df)*100\n",
    "print('Процент пропусков в столбцах датафрейма.')\n",
    "display(percent_of_nan.sort_values(ascending=False))\n",
    "print('')\n",
    "\n",
    "# Выявим количество явнях дубликатов в датафрейме.\n",
    "df.duplicated().count()"
   ]
  },
  {
   "cell_type": "markdown",
   "metadata": {},
   "source": [
    "### Вывод"
   ]
  },
  {
   "cell_type": "markdown",
   "metadata": {},
   "source": [
    "Попредворительному просмотру данных можно понять что в таблице 23699 строк и 22 колонки. Не во всех столбцах присутствуют значения, это мы можем понять по вызову команды info. Так например присутствуют пропуски в колонках ceiling_height, floors_total, living_area и т.д. Предворительно просмотрев эти столбцы можно понять какие действия стоит предпринимать при предобработке. К примеру: Для столбца ceiling_height - высота потолков пропуски присутствуют так как не все пользователи считали нужным их заполнять, таким образом стоит оставить пропущенные значения в данном столбце без изменений. Аналогичные логические суждения мы будем предпринимать в следующем шаге \"Предобработка данных\"."
   ]
  },
  {
   "cell_type": "markdown",
   "metadata": {},
   "source": [
    "## Предобработка данных"
   ]
  },
  {
   "cell_type": "markdown",
   "metadata": {},
   "source": [
    "В предобработке данных будем следовать списку пропущенных значений из предыдущего шага, от столбцов с большим количеством пропусков к меньшим: \n",
    "* is_apartment        \n",
    "* parks_nearest       \n",
    "* ponds_nearest       \n",
    "* balcony             \n",
    "* ceiling_height      \n",
    "* airports_nearest    \n",
    "* cityCenters_nearest \n",
    "* ponds_around3000    \n",
    "* parks_around3000    \n",
    "* days_exposition     \n",
    "* kitchen_area         \n",
    "* living_area          \n",
    "* floors_total         \n",
    "* locality_name        \n",
    "* total_images         \n",
    "* last_price           \n",
    "* studio               \n",
    "* floor               \n",
    "* rooms                \n",
    "* first_day_exposition \n",
    "* total_area           \n",
    "* open_plan      "
   ]
  },
  {
   "cell_type": "markdown",
   "metadata": {},
   "source": [
    "**Предобработка в столбце** `is_apartment` - апартаменты (булев тип)."
   ]
  },
  {
   "cell_type": "code",
   "execution_count": 4,
   "metadata": {},
   "outputs": [
    {
     "name": "stdout",
     "output_type": "stream",
     "text": [
      "Количество пропусков: 20924\n",
      "\n",
      "False    2725\n",
      "True       50\n",
      "Name: is_apartment, dtype: int64\n"
     ]
    }
   ],
   "source": [
    "# Проверим пропуски в столбце 'is_apartment'.\n",
    "print('Количество пропусков:', df['is_apartment'].isna().sum())\n",
    "print('')\n",
    "\n",
    "# Проверим столбец для выявления нестандартных значений на первый взгляд и ошибок.\n",
    "print(df['is_apartment'].value_counts())\n",
    "\n",
    "# Cтолбец апартаменты видимо появился не вместе с началом ведения записей, все пропущенные значения заменим на False, \n",
    "# апартаменты появились относительно недавно.\n",
    "df['is_apartment'] = df['is_apartment'].fillna(False)\n",
    "\n",
    "# Переведем значения столбца из булевого типа в числовой.\n",
    "df['is_apartment'] = df['is_apartment'].astype('int')"
   ]
  },
  {
   "cell_type": "markdown",
   "metadata": {},
   "source": [
    "**Предобработка в столбце** `parks_nearest` - расстояние до ближайшего парка (м)."
   ]
  },
  {
   "cell_type": "code",
   "execution_count": 5,
   "metadata": {},
   "outputs": [
    {
     "name": "stdout",
     "output_type": "stream",
     "text": [
      "Количество пропусков: 15620\n",
      "\n",
      "441.0     67\n",
      "392.0     41\n",
      "173.0     41\n",
      "456.0     40\n",
      "471.0     32\n",
      "          ..\n",
      "2489.0     1\n",
      "786.0      1\n",
      "793.0      1\n",
      "92.0       1\n",
      "929.0      1\n",
      "Name: parks_nearest, Length: 995, dtype: int64\n"
     ]
    }
   ],
   "source": [
    "# Проверим пропуски в столбце 'parks_nearest'.\n",
    "print('Количество пропусков:', df['parks_nearest'].isna().sum())\n",
    "print('')\n",
    "\n",
    "# Проверим столбец для выявления нестандартных значений на первый взгляд и ошибок.\n",
    "print(df['parks_nearest'].value_counts()) # Данные в порядке.\n",
    "\n",
    "# Заменим пропуски в столбце на '0'. и приведем значения столбца к целочисленным.\n",
    "df['parks_nearest'] = df['parks_nearest'].fillna(0).astype('int')\n",
    "\n",
    "# В данных присутстуют пропуски которые мы не можем заполнить медианным значением, так как действительное расстояние до парка\n",
    "# может отличаться, такая замена не будет отражать реального расстояния до парка в действительноси."
   ]
  },
  {
   "cell_type": "markdown",
   "metadata": {},
   "source": [
    "**Предобработка в столбце** `ponds_nearest` - расстояние до ближайшего водоёма (м)."
   ]
  },
  {
   "cell_type": "code",
   "execution_count": 6,
   "metadata": {},
   "outputs": [
    {
     "name": "stdout",
     "output_type": "stream",
     "text": [
      "Количество пропусков: 14589\n",
      "\n",
      "427.0     70\n",
      "454.0     41\n",
      "153.0     40\n",
      "433.0     39\n",
      "564.0     37\n",
      "          ..\n",
      "1075.0     1\n",
      "74.0       1\n",
      "1236.0     1\n",
      "395.0      1\n",
      "995.0      1\n",
      "Name: ponds_nearest, Length: 1096, dtype: int64\n"
     ]
    }
   ],
   "source": [
    "# Проверим пропуски в столбце 'ponds_nearest'.\n",
    "print('Количество пропусков:', df['ponds_nearest'].isna().sum())\n",
    "print('')\n",
    "\n",
    "# Проверим столбец для выявления нестандартных значений на первый взгляд и ошибок.\n",
    "print(df['ponds_nearest'].value_counts())\n",
    "\n",
    "# Заменим пропуски в столбце на '0'. и приведем значения столбца к целочисленным.\n",
    "df['ponds_nearest'] = df['ponds_nearest'].fillna(0).astype('int')\n",
    "\n",
    "# В данных присутстуют пропуски которые мы не можем заполнить медианным значением, так как действительное расстояние до водоема\n",
    "# может отличаться, такая замена не будет отражать реального расстояния до водоема в действительноси."
   ]
  },
  {
   "cell_type": "markdown",
   "metadata": {},
   "source": [
    "**Предобработка в столбце** `balcony` - число балконов."
   ]
  },
  {
   "cell_type": "code",
   "execution_count": 7,
   "metadata": {},
   "outputs": [
    {
     "name": "stdout",
     "output_type": "stream",
     "text": [
      "Количество пропусков: 11519\n",
      "\n",
      "1.0    4195\n",
      "0.0    3758\n",
      "2.0    3659\n",
      "5.0     304\n",
      "4.0     183\n",
      "3.0      81\n",
      "Name: balcony, dtype: int64\n"
     ]
    }
   ],
   "source": [
    "# Проверим пропуски в столбце 'balcony'.\n",
    "print('Количество пропусков:', df['balcony'].isna().sum())\n",
    "print('')\n",
    "\n",
    "# Проверим столбец для выявления нестандартных значений на первый взгляд и ошибок.\n",
    "print(df['balcony'].value_counts())\n",
    "\n",
    "# Пропуски в этом столбце обусловленны тем что пользователь который разместил обьявление не стал указывать количество балконов в\n",
    "# виду его отсутствия.\n",
    "# Заменим пропуски в столбце на '0'. и приведем значения столбца к целочисленным.\n",
    "df['balcony'] = df['balcony'].fillna(0).astype('int')"
   ]
  },
  {
   "cell_type": "markdown",
   "metadata": {},
   "source": [
    "**Предобработка в столбце** `ceiling_height` -  высота потолков (м)."
   ]
  },
  {
   "cell_type": "code",
   "execution_count": 8,
   "metadata": {},
   "outputs": [
    {
     "name": "stdout",
     "output_type": "stream",
     "text": [
      "Количество пропусков: 9195\n",
      "\n",
      "2.50     3515\n",
      "2.60     1646\n",
      "2.70     1574\n",
      "3.00     1112\n",
      "2.80      993\n",
      "         ... \n",
      "4.25        1\n",
      "3.39        1\n",
      "3.93        1\n",
      "10.30       1\n",
      "4.65        1\n",
      "Name: ceiling_height, Length: 183, dtype: int64\n",
      "\n",
      "count    14504.000000\n",
      "mean         2.771499\n",
      "std          1.261056\n",
      "min          1.000000\n",
      "25%          2.520000\n",
      "50%          2.650000\n",
      "75%          2.800000\n",
      "max        100.000000\n",
      "Name: ceiling_height, dtype: float64\n"
     ]
    }
   ],
   "source": [
    "# Проверим пропуски в столбце 'ceiling_height'.\n",
    "print('Количество пропусков:', df['ceiling_height'].isna().sum())\n",
    "print('')\n",
    "\n",
    "# Проверим столбец для выявления нестандартных значений на первый взгляд и ошибок.\n",
    "# В столбце можно заметить аномалии, такие как: потолок высотой 10.30 м. Но такое значение всего одно и не повлияет на расчеты.\n",
    "print(df['ceiling_height'].value_counts())\n",
    "print('')\n",
    "\n",
    "# Для пропущенных значений в данном столбце хорошо подойдет замена на медианное. Так как в целом в большинстве жилых площадей \n",
    "# высота потолков в среднем равна 2.77 (м).\n",
    "print(df['ceiling_height'].describe())\n",
    "df['ceiling_height'] = df['ceiling_height'].fillna(df['ceiling_height'].median())"
   ]
  },
  {
   "cell_type": "markdown",
   "metadata": {},
   "source": [
    "**Предобработка в столбце** `airports_nearest` - расстояние до ближайшего аэропорта в метрах (м)."
   ]
  },
  {
   "cell_type": "code",
   "execution_count": 9,
   "metadata": {},
   "outputs": [
    {
     "name": "stdout",
     "output_type": "stream",
     "text": [
      "Количество пропусков: 5542\n",
      "\n",
      "37434.0    61\n",
      "21928.0    32\n",
      "39946.0    30\n",
      "44870.0    30\n",
      "18732.0    27\n",
      "           ..\n",
      "53478.0     1\n",
      "20335.0     1\n",
      "33699.0     1\n",
      "26945.0     1\n",
      "20875.0     1\n",
      "Name: airports_nearest, Length: 8275, dtype: int64\n"
     ]
    }
   ],
   "source": [
    "# Проверим пропуски в столбце 'airports_nearest'.\n",
    "print('Количество пропусков:', df['airports_nearest'].isna().sum())\n",
    "print('')\n",
    "\n",
    "# Проверим столбец для выявления нестандартных значений на первый взгляд и ошибок.\n",
    "print(df['airports_nearest'].value_counts()) # Данные в порядке.\n",
    "\n",
    "# Пропуски в данном столбце неполучится заменить на усредненное или медианное, так как такие изменения не будут соответсвовать\n",
    "# действительности."
   ]
  },
  {
   "cell_type": "markdown",
   "metadata": {},
   "source": [
    "**Предобработка в столбце** `cityCenters_nearest` - расстояние до ближайшего аэропорта в метрах (м)."
   ]
  },
  {
   "cell_type": "code",
   "execution_count": 10,
   "metadata": {},
   "outputs": [
    {
     "name": "stdout",
     "output_type": "stream",
     "text": [
      "Количество пропусков: 5519\n",
      "\n",
      "8460.0     61\n",
      "20802.0    32\n",
      "10720.0    30\n",
      "8434.0     27\n",
      "20444.0    27\n",
      "           ..\n",
      "5278.0      1\n",
      "11575.0     1\n",
      "3205.0      1\n",
      "12747.0     1\n",
      "4234.0      1\n",
      "Name: cityCenters_nearest, Length: 7642, dtype: int64\n"
     ]
    }
   ],
   "source": [
    "# Проверим пропуски в столбце 'cityCenters_nearest'.\n",
    "print('Количество пропусков:', df['cityCenters_nearest'].isna().sum())\n",
    "print('')\n",
    "\n",
    "# Проверим столбец для выявления нестандартных значений на первый взгляд и ошибок.\n",
    "print(df['cityCenters_nearest'].value_counts())# Данные в порядке.\n",
    "\n",
    "# Пропуски в данном столбце неполучится заменить на усредненное или медианное, так как такие изменения не будут соответсвовать\n",
    "# действительности."
   ]
  },
  {
   "cell_type": "markdown",
   "metadata": {},
   "source": [
    "**Предобработка в столбце** `ponds_around3000` - число водоёмов в радиусе 3 км."
   ]
  },
  {
   "cell_type": "code",
   "execution_count": 11,
   "metadata": {},
   "outputs": [
    {
     "name": "stdout",
     "output_type": "stream",
     "text": [
      "Количество пропусков: 5518\n",
      "\n",
      "0.0    9071\n",
      "1.0    5717\n",
      "2.0    1892\n",
      "3.0    1501\n",
      "Name: ponds_around3000, dtype: int64\n"
     ]
    }
   ],
   "source": [
    "# Проверим пропуски в столбце 'ponds_around3000'.\n",
    "print('Количество пропусков:', df['ponds_around3000'].isna().sum())\n",
    "print('')\n",
    "\n",
    "# Проверим столбец для выявления нестандартных значений на первый взгляд и ошибок.\n",
    "print(df['ponds_around3000'].value_counts())# Данные в порядке.\n",
    "\n",
    "# Скорее всего пропуски в данном столбце обусловленны тем что пользователь не отмечал количество водоемов вокруг недвижимости\n",
    "# В виду их отсутствия можно изменить пропуски в солбце на '0', так же преведем данне в целочисленные.\n",
    "df['ponds_around3000'] = df['ponds_around3000'].fillna(0).astype('int')"
   ]
  },
  {
   "cell_type": "markdown",
   "metadata": {},
   "source": [
    "**Предобработка в столбце** `parks_around3000` - число парков в радиусе 3 км."
   ]
  },
  {
   "cell_type": "code",
   "execution_count": 12,
   "metadata": {},
   "outputs": [
    {
     "name": "stdout",
     "output_type": "stream",
     "text": [
      "Количество пропусков: 5518\n",
      "\n",
      "0.0    10106\n",
      "1.0     5681\n",
      "2.0     1747\n",
      "3.0      647\n",
      "Name: parks_around3000, dtype: int64\n"
     ]
    }
   ],
   "source": [
    "# Проверим пропуски в столбце 'parks_around3000'.\n",
    "print('Количество пропусков:', df['parks_around3000'].isna().sum())\n",
    "print('')\n",
    "\n",
    "# Проверим столбец для выявления нестандартных значений на первый взгляд и ошибок.\n",
    "print(df['parks_around3000'].value_counts())# Данные в порядке.\n",
    "\n",
    "# Скорее всего пропуски в данном столбце обусловленны тем что пользователь не отмечал количество парков вокруг его недвижимости\n",
    "# В виду их отсутствия можно изменить пропуски в солбце на '0', так же преведем данне в целочисленные.\n",
    "df['parks_around3000'] = df['parks_around3000'].fillna(0).astype('int')"
   ]
  },
  {
   "cell_type": "markdown",
   "metadata": {},
   "source": [
    "**Предобработка в столбце** `days_exposition` - сколько дней было размещено объявление (от публикации до снятия)."
   ]
  },
  {
   "cell_type": "code",
   "execution_count": 13,
   "metadata": {},
   "outputs": [
    {
     "name": "stdout",
     "output_type": "stream",
     "text": [
      "Количество пропусков: 3181\n",
      "\n",
      "45.0      880\n",
      "60.0      538\n",
      "7.0       234\n",
      "30.0      208\n",
      "90.0      204\n",
      "         ... \n",
      "969.0       1\n",
      "1.0         1\n",
      "1147.0      1\n",
      "1148.0      1\n",
      "1174.0      1\n",
      "Name: days_exposition, Length: 1141, dtype: int64\n"
     ]
    }
   ],
   "source": [
    "# Проверим пропуски в столбце 'days_exposition'.\n",
    "print('Количество пропусков:', df['days_exposition'].isna().sum())\n",
    "print('')\n",
    "\n",
    "# Проверим столбец для выявления нестандартных значений на первый взгляд и ошибок.\n",
    "print(df['days_exposition'].value_counts())# Данные в порядке.\n",
    "\n",
    "# Пропуски в данном столбце уместно заполнить на '0'. Так как если присутствует пропуск значит обьявление еще не снято.\n",
    "# Приведем значения столбца к целочисленным.\n",
    "df['days_exposition'] = df['days_exposition'].fillna(0).astype('int')"
   ]
  },
  {
   "cell_type": "markdown",
   "metadata": {},
   "source": [
    "**Предобработка в столбце** `kitchen_area` - площадь кухни в квадратных метрах (м²)."
   ]
  },
  {
   "cell_type": "code",
   "execution_count": 14,
   "metadata": {},
   "outputs": [
    {
     "name": "stdout",
     "output_type": "stream",
     "text": [
      "Количество пропусков: 2278\n",
      "\n",
      "6.00     1300\n",
      "10.00    1262\n",
      "8.00     1110\n",
      "9.00     1101\n",
      "7.00     1062\n",
      "         ... \n",
      "7.12        1\n",
      "13.73       1\n",
      "14.74       1\n",
      "53.10       1\n",
      "16.74       1\n",
      "Name: kitchen_area, Length: 971, dtype: int64\n",
      "count    21421.000000\n",
      "mean        10.569807\n",
      "std          5.905438\n",
      "min          1.300000\n",
      "25%          7.000000\n",
      "50%          9.100000\n",
      "75%         12.000000\n",
      "max        112.000000\n",
      "Name: kitchen_area, dtype: float64\n",
      "\n",
      "count    21421.000000\n",
      "mean        18.735474\n",
      "std          7.296781\n",
      "min          2.538071\n",
      "25%         13.333333\n",
      "50%         17.241379\n",
      "75%         23.241590\n",
      "max         78.787879\n",
      "dtype: float64\n",
      "\n"
     ]
    },
    {
     "data": {
      "image/png": "[encoded data removed]",
      "text/plain": [
       "<Figure size 432x288 with 1 Axes>"
      ]
     },
     "metadata": {
      "needs_background": "light"
     },
     "output_type": "display_data"
    }
   ],
   "source": [
    "# Проверим пропуски в столбце 'kitchen_area'.\n",
    "print('Количество пропусков:', df['kitchen_area'].isna().sum())\n",
    "print('')\n",
    "\n",
    "# Проверим столбец для выявления нестандартных значений на первый взгляд и ошибок.\n",
    "print(df['kitchen_area'].value_counts())\n",
    "print(df['kitchen_area'].describe())# Присутствует аномальное значение 1м².\n",
    "\n",
    "# Из-за типового строительства на гистограме мы можем наблюдать выброс в районе 18м² для кухонь.\n",
    "# В целом аномальные значения не влияют на расчеты, так как не представляют с собой большой обьем выбросов.\n",
    "df['kitchen_area'].sort_values().plot(y = 'kitchen_area', kind = 'hist', bins = 50, range=(0,50))\n",
    "print('')\n",
    "\n",
    "# Для замены пропусков в столбце найдем отношение площади кухни к общей площади.\n",
    "coefficient_kitchen_area = df['kitchen_area']/df['total_area']*100\n",
    "print(coefficient_kitchen_area.describe())\n",
    "print('')\n",
    "df['kitchen_area'] = df['kitchen_area'].fillna(coefficient_kitchen_area.mean().astype('int'))"
   ]
  },
  {
   "cell_type": "markdown",
   "metadata": {},
   "source": [
    "**Предобработка в столбце** `living_area` - жилая площадь в квадратных метрах (м²)."
   ]
  },
  {
   "cell_type": "code",
   "execution_count": 15,
   "metadata": {},
   "outputs": [
    {
     "name": "stdout",
     "output_type": "stream",
     "text": [
      "Количество пропусков: 0\n",
      "\n",
      "18.00    882\n",
      "17.00    675\n",
      "30.00    598\n",
      "16.00    486\n",
      "20.00    481\n",
      "        ... \n",
      "96.40      1\n",
      "50.26      1\n",
      "43.81      1\n",
      "54.43      1\n",
      "16.74      1\n",
      "Name: living_area, Length: 1782, dtype: int64\n",
      "count    21796.000000\n",
      "mean        34.457852\n",
      "std         22.030445\n",
      "min          2.000000\n",
      "25%         18.600000\n",
      "50%         30.000000\n",
      "75%         42.300000\n",
      "max        409.700000\n",
      "Name: living_area, dtype: float64\n",
      "\n",
      "\n",
      "count    21796.000000\n",
      "mean        56.476552\n",
      "std         10.536828\n",
      "min          2.158273\n",
      "25%         49.517685\n",
      "50%         56.785990\n",
      "75%         63.787984\n",
      "max        100.000000\n",
      "dtype: float64\n",
      "\n"
     ]
    },
    {
     "data": {
      "image/png": "[encoded data removed]",
      "text/plain": [
       "<Figure size 432x288 with 1 Axes>"
      ]
     },
     "metadata": {
      "needs_background": "light"
     },
     "output_type": "display_data"
    }
   ],
   "source": [
    "# Проверим пропуски в столбце 'living_area'.\n",
    "print('Количество пропусков:', df['kitchen_area'].isna().sum())\n",
    "print('')\n",
    "\n",
    "# Проверим столбец для выявления нестандартных значений на первый взгляд и ошибок.\n",
    "print(df['living_area'].value_counts())\n",
    "print(df['living_area'].describe())# В данных присутствует мининимальная жилая площадь 2 м².\n",
    "print('')\n",
    "\n",
    "# На графике заметны выбросы, так как жилой фонд в СПБ формировался в разные годы, в плоть от царских времен мы можем наблюдать\n",
    "# широкие различия размера жилой площади. Дороговизна квартир в центре СПБ предпологает малую жилую площадь, отсюда например\n",
    "# становится понятно такое широкое распростронение квартир с жилой площадью 18 м²\n",
    "df['living_area'].sort_values().plot(y = 'living_area', kind = 'hist', bins = 50, range=(0,150))\n",
    "print('')\n",
    "\n",
    "# Для замены пропусков в столбце найдем отношение жилой площади к общей площади.\n",
    "coefficient_kitchen_area = df['living_area']/df['total_area']*100\n",
    "print(coefficient_kitchen_area.describe())\n",
    "print('')\n",
    "df['living_area'] = df['living_area'].fillna(coefficient_kitchen_area.mean().astype('int'))"
   ]
  },
  {
   "cell_type": "markdown",
   "metadata": {},
   "source": [
    "**Предобработка в столбце** `floors_total` -  всего этажей в доме."
   ]
  },
  {
   "cell_type": "code",
   "execution_count": 16,
   "metadata": {},
   "outputs": [
    {
     "name": "stdout",
     "output_type": "stream",
     "text": [
      "Количество пропусков: 86\n",
      "\n",
      "count    23613.000000\n",
      "mean        10.673824\n",
      "std          6.597173\n",
      "min          1.000000\n",
      "25%          5.000000\n",
      "50%          9.000000\n",
      "75%         16.000000\n",
      "max         60.000000\n",
      "Name: floors_total, dtype: float64\n"
     ]
    }
   ],
   "source": [
    "# Проверим пропуски в столбце 'floors_total'.\n",
    "print('Количество пропусков:', df['floors_total'].isna().sum())\n",
    "print('')\n",
    "\n",
    "# Проверим столбец для выявления нестандартных значений на первый взгляд и ошибок.\n",
    "# print(df['floors_total'].value_counts())\n",
    "print(df['floors_total'].describe())\n",
    "\n",
    "# Для пропущенных значений в столбце нельзя подобрать значений, возможно пропуски являются призноком того что в обьявлении \n",
    "# размещена не квартира а дом, но в таком случаи мы никак не можем это проверить."
   ]
  },
  {
   "cell_type": "markdown",
   "metadata": {},
   "source": [
    "**Предобработка в столбце** `locality_name` -  название населённого пункта."
   ]
  },
  {
   "cell_type": "code",
   "execution_count": 17,
   "metadata": {},
   "outputs": [
    {
     "name": "stdout",
     "output_type": "stream",
     "text": [
      "Количество пропусков: 49\n",
      "\n",
      "Санкт-Петербург            15721\n",
      "посёлок Мурино               522\n",
      "посёлок Шушары               440\n",
      "Всеволожск                   398\n",
      "Пушкин                       369\n",
      "                           ...  \n",
      "поселок Цвылёво                1\n",
      "деревня Рапполово              1\n",
      "деревня Щеглово                1\n",
      "поселок станции Лужайка        1\n",
      "посёлок Дзержинского           1\n",
      "Name: locality_name, Length: 364, dtype: int64\n",
      "count               23650\n",
      "unique                364\n",
      "top       Санкт-Петербург\n",
      "freq                15721\n",
      "Name: locality_name, dtype: object\n"
     ]
    }
   ],
   "source": [
    "# Проверим пропуски в столбце 'locality_name'.\n",
    "print('Количество пропусков:', df['locality_name'].isna().sum())\n",
    "print('')\n",
    "\n",
    "# Проверим столбец для выявления нестандартных значений на первый взгляд и ошибок.\n",
    "print(df['locality_name'].value_counts())\n",
    "print(df['locality_name'].describe())\n",
    "\n",
    "# Пропуски в данном столбце невозможно заменить другими значениями, по этому оставим все как есть."
   ]
  },
  {
   "cell_type": "markdown",
   "metadata": {},
   "source": [
    "**Предобработка в столбце** `total_images` -  название населённого пункта."
   ]
  },
  {
   "cell_type": "code",
   "execution_count": 18,
   "metadata": {},
   "outputs": [
    {
     "name": "stdout",
     "output_type": "stream",
     "text": [
      "Количество пропусков: 0\n",
      "\n",
      "count    23699.000000\n",
      "mean         9.858475\n",
      "std          5.682529\n",
      "min          0.000000\n",
      "25%          6.000000\n",
      "50%          9.000000\n",
      "75%         14.000000\n",
      "max         50.000000\n",
      "Name: total_images, dtype: float64\n"
     ]
    }
   ],
   "source": [
    "# Проверим пропуски в столбце 'total_images'.\n",
    "print('Количество пропусков:', df['total_images'].isna().sum())\n",
    "print('')\n",
    "\n",
    "# Проверим столбец для выявления нестандартных значений на первый взгляд и ошибок.\n",
    "# print(df['total_images'].value_counts())\n",
    "print(df['total_images'].describe())\n",
    "\n",
    "# Данные в порядке."
   ]
  },
  {
   "cell_type": "markdown",
   "metadata": {},
   "source": [
    "**Предобработка в столбце** `last_price` - название населённого пункта."
   ]
  },
  {
   "cell_type": "code",
   "execution_count": 19,
   "metadata": {},
   "outputs": [
    {
     "name": "stdout",
     "output_type": "stream",
     "text": [
      "Количество пропусков: 0\n",
      "\n",
      "4500000.0     342\n",
      "3500000.0     291\n",
      "4000000.0     260\n",
      "4300000.0     260\n",
      "4200000.0     259\n",
      "             ... \n",
      "10430000.0      1\n",
      "9917600.0       1\n",
      "3180500.0       1\n",
      "7297000.0       1\n",
      "4386000.0       1\n",
      "Name: last_price, Length: 2978, dtype: int64\n"
     ]
    }
   ],
   "source": [
    "# Проверим пропуски в столбце 'last_price'.\n",
    "print('Количество пропусков:', df['last_price'].isna().sum())\n",
    "print('')\n",
    "\n",
    "# Проверим столбец для выявления нестандартных значений на первый взгляд и ошибок.\n",
    "print(df['last_price'].value_counts())\n",
    "\n",
    "# Приведем тип данных к целочисленному.\n",
    "df['last_price'] = df['last_price'].astype('int')"
   ]
  },
  {
   "cell_type": "markdown",
   "metadata": {},
   "source": [
    "**Предобработка в столбце** `studio` - квартира-студия (булев тип)."
   ]
  },
  {
   "cell_type": "code",
   "execution_count": 20,
   "metadata": {},
   "outputs": [
    {
     "name": "stdout",
     "output_type": "stream",
     "text": [
      "Количество пропусков: 0\n",
      "\n",
      "False    23550\n",
      "True       149\n",
      "Name: studio, dtype: int64\n"
     ]
    }
   ],
   "source": [
    "# Проверим пропуски в столбце 'studio'.\n",
    "print('Количество пропусков:', df['studio'].isna().sum())\n",
    "print('')\n",
    "\n",
    "# Проверим столбец для выявления нестандартных значений на первый взгляд и ошибок.\n",
    "print(df['studio'].value_counts())\n",
    "\n",
    "# Переведем значения столбца из булевого типа в числовой.\n",
    "df['studio'] = df['studio'].astype('int')"
   ]
  },
  {
   "cell_type": "markdown",
   "metadata": {},
   "source": [
    "**Предобработка в столбце** `floor` - этаж."
   ]
  },
  {
   "cell_type": "code",
   "execution_count": 21,
   "metadata": {},
   "outputs": [
    {
     "name": "stdout",
     "output_type": "stream",
     "text": [
      "Количество пропусков: 0\n",
      "\n"
     ]
    }
   ],
   "source": [
    "# Проверим пропуски в столбце 'floor'.\n",
    "print('Количество пропусков:', df['floor'].isna().sum())\n",
    "print('')\n",
    "\n",
    "# Проверим столбец для выявления нестандартных значений на первый взгляд и ошибок.\n",
    "# print(df['floor'].value_counts()) # Данные в порядке."
   ]
  },
  {
   "cell_type": "markdown",
   "metadata": {},
   "source": [
    "**Предобработка в столбце** `rooms` - число комнат."
   ]
  },
  {
   "cell_type": "code",
   "execution_count": 22,
   "metadata": {},
   "outputs": [
    {
     "name": "stdout",
     "output_type": "stream",
     "text": [
      "Количество пропусков: 0\n",
      "\n"
     ]
    }
   ],
   "source": [
    "# Проверим пропуски в столбце 'rooms'.\n",
    "print('Количество пропусков:', df['rooms'].isna().sum())\n",
    "print('')\n",
    "\n",
    "# Проверим столбец для выявления нестандартных значений на первый взгляд и ошибок.\n",
    "# print(df['rooms'].value_counts()) # Данные в порядке."
   ]
  },
  {
   "cell_type": "markdown",
   "metadata": {},
   "source": [
    "**Предобработка в столбце** `first_day_exposition` - дата публикации."
   ]
  },
  {
   "cell_type": "code",
   "execution_count": 23,
   "metadata": {},
   "outputs": [
    {
     "name": "stdout",
     "output_type": "stream",
     "text": [
      "Количество пропусков: 0\n",
      "\n"
     ]
    }
   ],
   "source": [
    "# Проверим пропуски в столбце 'first_day_exposition'.\n",
    "print('Количество пропусков:', df['first_day_exposition'].isna().sum())\n",
    "print('')\n",
    "\n",
    "# Переведем столбец с датой в формат даты без времени, т.к. время не указано.\n",
    "df['first_day_exposition'] = pd.to_datetime(df['first_day_exposition'], format = '%Y-%m-%d')"
   ]
  },
  {
   "cell_type": "markdown",
   "metadata": {},
   "source": [
    "**Предобработка в столбце** `total_area` - площадь квартиры в квадратных метрах (м²)."
   ]
  },
  {
   "cell_type": "code",
   "execution_count": 24,
   "metadata": {},
   "outputs": [
    {
     "name": "stdout",
     "output_type": "stream",
     "text": [
      "Количество пропусков: 0\n",
      "\n",
      "45.00     419\n",
      "42.00     383\n",
      "60.00     347\n",
      "31.00     346\n",
      "44.00     345\n",
      "         ... \n",
      "44.24       1\n",
      "56.85       1\n",
      "37.92       1\n",
      "115.60      1\n",
      "55.06       1\n",
      "Name: total_area, Length: 2182, dtype: int64\n"
     ]
    }
   ],
   "source": [
    "# Проверим пропуски в столбце 'total_area'.\n",
    "print('Количество пропусков:', df['total_area'].isna().sum())\n",
    "print('')\n",
    "\n",
    "# Проверим столбец для выявления нестандартных значений на первый взгляд и ошибок.\n",
    "print(df['total_area'].value_counts())\n",
    "# Данные в порядке, оставляем столбец без изменений."
   ]
  },
  {
   "cell_type": "markdown",
   "metadata": {},
   "source": [
    "**Предобработка в столбце** `open_plan` - площадь квартиры в квадратных метрах (м²)."
   ]
  },
  {
   "cell_type": "code",
   "execution_count": 25,
   "metadata": {},
   "outputs": [
    {
     "name": "stdout",
     "output_type": "stream",
     "text": [
      "Количество пропусков: 0\n",
      "\n",
      "False    23632\n",
      "True        67\n",
      "Name: open_plan, dtype: int64\n"
     ]
    }
   ],
   "source": [
    "# Проверим пропуски в столбце 'open_plan'.\n",
    "print('Количество пропусков:', df['open_plan'].isna().sum())\n",
    "print('')\n",
    "\n",
    "# Проверим столбец для выявления нестандартных значений на первый взгляд и ошибок.\n",
    "print(df['open_plan'].value_counts())\n",
    "\n",
    "# Переведем значения столбца из булевого типа в числовой.\n",
    "df['open_plan'] = df['open_plan'].astype('int')"
   ]
  },
  {
   "cell_type": "markdown",
   "metadata": {},
   "source": [
    "**Проверим предобработку и выведем датафрейм на экран.**"
   ]
  },
  {
   "cell_type": "code",
   "execution_count": 26,
   "metadata": {},
   "outputs": [
    {
     "data": {
      "text/html": [
       "<div>\n",
       "<style scoped>\n",
       "    .dataframe tbody tr th:only-of-type {\n",
       "        vertical-align: middle;\n",
       "    }\n",
       "\n",
       "    .dataframe tbody tr th {\n",
       "        vertical-align: top;\n",
       "    }\n",
       "\n",
       "    .dataframe thead th {\n",
       "        text-align: right;\n",
       "    }\n",
       "</style>\n",
       "<table border=\"1\" class=\"dataframe\">\n",
       "  <thead>\n",
       "    <tr style=\"text-align: right;\">\n",
       "      <th></th>\n",
       "      <th>total_images</th>\n",
       "      <th>last_price</th>\n",
       "      <th>total_area</th>\n",
       "      <th>first_day_exposition</th>\n",
       "      <th>rooms</th>\n",
       "      <th>ceiling_height</th>\n",
       "      <th>floors_total</th>\n",
       "      <th>living_area</th>\n",
       "      <th>floor</th>\n",
       "      <th>is_apartment</th>\n",
       "      <th>studio</th>\n",
       "      <th>open_plan</th>\n",
       "      <th>kitchen_area</th>\n",
       "      <th>balcony</th>\n",
       "      <th>locality_name</th>\n",
       "      <th>airports_nearest</th>\n",
       "      <th>cityCenters_nearest</th>\n",
       "      <th>parks_around3000</th>\n",
       "      <th>parks_nearest</th>\n",
       "      <th>ponds_around3000</th>\n",
       "      <th>ponds_nearest</th>\n",
       "      <th>days_exposition</th>\n",
       "    </tr>\n",
       "  </thead>\n",
       "  <tbody>\n",
       "    <tr>\n",
       "      <th>0</th>\n",
       "      <td>20</td>\n",
       "      <td>13000000</td>\n",
       "      <td>108.00</td>\n",
       "      <td>2019-03-07</td>\n",
       "      <td>3</td>\n",
       "      <td>2.70</td>\n",
       "      <td>16.0</td>\n",
       "      <td>51.00</td>\n",
       "      <td>8</td>\n",
       "      <td>0</td>\n",
       "      <td>0</td>\n",
       "      <td>0</td>\n",
       "      <td>25.00</td>\n",
       "      <td>0</td>\n",
       "      <td>Санкт-Петербург</td>\n",
       "      <td>18863.0</td>\n",
       "      <td>16028.0</td>\n",
       "      <td>1</td>\n",
       "      <td>482</td>\n",
       "      <td>2</td>\n",
       "      <td>755</td>\n",
       "      <td>0</td>\n",
       "    </tr>\n",
       "    <tr>\n",
       "      <th>1</th>\n",
       "      <td>7</td>\n",
       "      <td>3350000</td>\n",
       "      <td>40.40</td>\n",
       "      <td>2018-12-04</td>\n",
       "      <td>1</td>\n",
       "      <td>2.65</td>\n",
       "      <td>11.0</td>\n",
       "      <td>18.60</td>\n",
       "      <td>1</td>\n",
       "      <td>0</td>\n",
       "      <td>0</td>\n",
       "      <td>0</td>\n",
       "      <td>11.00</td>\n",
       "      <td>2</td>\n",
       "      <td>посёлок Шушары</td>\n",
       "      <td>12817.0</td>\n",
       "      <td>18603.0</td>\n",
       "      <td>0</td>\n",
       "      <td>0</td>\n",
       "      <td>0</td>\n",
       "      <td>0</td>\n",
       "      <td>81</td>\n",
       "    </tr>\n",
       "    <tr>\n",
       "      <th>2</th>\n",
       "      <td>10</td>\n",
       "      <td>5196000</td>\n",
       "      <td>56.00</td>\n",
       "      <td>2015-08-20</td>\n",
       "      <td>2</td>\n",
       "      <td>2.65</td>\n",
       "      <td>5.0</td>\n",
       "      <td>34.30</td>\n",
       "      <td>4</td>\n",
       "      <td>0</td>\n",
       "      <td>0</td>\n",
       "      <td>0</td>\n",
       "      <td>8.30</td>\n",
       "      <td>0</td>\n",
       "      <td>Санкт-Петербург</td>\n",
       "      <td>21741.0</td>\n",
       "      <td>13933.0</td>\n",
       "      <td>1</td>\n",
       "      <td>90</td>\n",
       "      <td>2</td>\n",
       "      <td>574</td>\n",
       "      <td>558</td>\n",
       "    </tr>\n",
       "    <tr>\n",
       "      <th>3</th>\n",
       "      <td>0</td>\n",
       "      <td>64900000</td>\n",
       "      <td>159.00</td>\n",
       "      <td>2015-07-24</td>\n",
       "      <td>3</td>\n",
       "      <td>2.65</td>\n",
       "      <td>14.0</td>\n",
       "      <td>56.00</td>\n",
       "      <td>9</td>\n",
       "      <td>0</td>\n",
       "      <td>0</td>\n",
       "      <td>0</td>\n",
       "      <td>18.00</td>\n",
       "      <td>0</td>\n",
       "      <td>Санкт-Петербург</td>\n",
       "      <td>28098.0</td>\n",
       "      <td>6800.0</td>\n",
       "      <td>2</td>\n",
       "      <td>84</td>\n",
       "      <td>3</td>\n",
       "      <td>234</td>\n",
       "      <td>424</td>\n",
       "    </tr>\n",
       "    <tr>\n",
       "      <th>4</th>\n",
       "      <td>2</td>\n",
       "      <td>10000000</td>\n",
       "      <td>100.00</td>\n",
       "      <td>2018-06-19</td>\n",
       "      <td>2</td>\n",
       "      <td>3.03</td>\n",
       "      <td>14.0</td>\n",
       "      <td>32.00</td>\n",
       "      <td>13</td>\n",
       "      <td>0</td>\n",
       "      <td>0</td>\n",
       "      <td>0</td>\n",
       "      <td>41.00</td>\n",
       "      <td>0</td>\n",
       "      <td>Санкт-Петербург</td>\n",
       "      <td>31856.0</td>\n",
       "      <td>8098.0</td>\n",
       "      <td>2</td>\n",
       "      <td>112</td>\n",
       "      <td>1</td>\n",
       "      <td>48</td>\n",
       "      <td>121</td>\n",
       "    </tr>\n",
       "    <tr>\n",
       "      <th>5</th>\n",
       "      <td>10</td>\n",
       "      <td>2890000</td>\n",
       "      <td>30.40</td>\n",
       "      <td>2018-09-10</td>\n",
       "      <td>1</td>\n",
       "      <td>2.65</td>\n",
       "      <td>12.0</td>\n",
       "      <td>14.40</td>\n",
       "      <td>5</td>\n",
       "      <td>0</td>\n",
       "      <td>0</td>\n",
       "      <td>0</td>\n",
       "      <td>9.10</td>\n",
       "      <td>0</td>\n",
       "      <td>городской посёлок Янино-1</td>\n",
       "      <td>NaN</td>\n",
       "      <td>NaN</td>\n",
       "      <td>0</td>\n",
       "      <td>0</td>\n",
       "      <td>0</td>\n",
       "      <td>0</td>\n",
       "      <td>55</td>\n",
       "    </tr>\n",
       "    <tr>\n",
       "      <th>6</th>\n",
       "      <td>6</td>\n",
       "      <td>3700000</td>\n",
       "      <td>37.30</td>\n",
       "      <td>2017-11-02</td>\n",
       "      <td>1</td>\n",
       "      <td>2.65</td>\n",
       "      <td>26.0</td>\n",
       "      <td>10.60</td>\n",
       "      <td>6</td>\n",
       "      <td>0</td>\n",
       "      <td>0</td>\n",
       "      <td>0</td>\n",
       "      <td>14.40</td>\n",
       "      <td>1</td>\n",
       "      <td>посёлок Парголово</td>\n",
       "      <td>52996.0</td>\n",
       "      <td>19143.0</td>\n",
       "      <td>0</td>\n",
       "      <td>0</td>\n",
       "      <td>0</td>\n",
       "      <td>0</td>\n",
       "      <td>155</td>\n",
       "    </tr>\n",
       "    <tr>\n",
       "      <th>7</th>\n",
       "      <td>5</td>\n",
       "      <td>7915000</td>\n",
       "      <td>71.60</td>\n",
       "      <td>2019-04-18</td>\n",
       "      <td>2</td>\n",
       "      <td>2.65</td>\n",
       "      <td>24.0</td>\n",
       "      <td>56.00</td>\n",
       "      <td>22</td>\n",
       "      <td>0</td>\n",
       "      <td>0</td>\n",
       "      <td>0</td>\n",
       "      <td>18.90</td>\n",
       "      <td>2</td>\n",
       "      <td>Санкт-Петербург</td>\n",
       "      <td>23982.0</td>\n",
       "      <td>11634.0</td>\n",
       "      <td>0</td>\n",
       "      <td>0</td>\n",
       "      <td>0</td>\n",
       "      <td>0</td>\n",
       "      <td>0</td>\n",
       "    </tr>\n",
       "    <tr>\n",
       "      <th>8</th>\n",
       "      <td>20</td>\n",
       "      <td>2900000</td>\n",
       "      <td>33.16</td>\n",
       "      <td>2018-05-23</td>\n",
       "      <td>1</td>\n",
       "      <td>2.65</td>\n",
       "      <td>27.0</td>\n",
       "      <td>15.43</td>\n",
       "      <td>26</td>\n",
       "      <td>0</td>\n",
       "      <td>0</td>\n",
       "      <td>0</td>\n",
       "      <td>8.81</td>\n",
       "      <td>0</td>\n",
       "      <td>посёлок Мурино</td>\n",
       "      <td>NaN</td>\n",
       "      <td>NaN</td>\n",
       "      <td>0</td>\n",
       "      <td>0</td>\n",
       "      <td>0</td>\n",
       "      <td>0</td>\n",
       "      <td>189</td>\n",
       "    </tr>\n",
       "    <tr>\n",
       "      <th>9</th>\n",
       "      <td>18</td>\n",
       "      <td>5400000</td>\n",
       "      <td>61.00</td>\n",
       "      <td>2017-02-26</td>\n",
       "      <td>3</td>\n",
       "      <td>2.50</td>\n",
       "      <td>9.0</td>\n",
       "      <td>43.60</td>\n",
       "      <td>7</td>\n",
       "      <td>0</td>\n",
       "      <td>0</td>\n",
       "      <td>0</td>\n",
       "      <td>6.50</td>\n",
       "      <td>2</td>\n",
       "      <td>Санкт-Петербург</td>\n",
       "      <td>50898.0</td>\n",
       "      <td>15008.0</td>\n",
       "      <td>0</td>\n",
       "      <td>0</td>\n",
       "      <td>0</td>\n",
       "      <td>0</td>\n",
       "      <td>289</td>\n",
       "    </tr>\n",
       "  </tbody>\n",
       "</table>\n",
       "</div>"
      ],
      "text/plain": [
       "   total_images  last_price  total_area first_day_exposition  rooms  \\\n",
       "0            20    13000000      108.00           2019-03-07      3   \n",
       "1             7     3350000       40.40           2018-12-04      1   \n",
       "2            10     5196000       56.00           2015-08-20      2   \n",
       "3             0    64900000      159.00           2015-07-24      3   \n",
       "4             2    10000000      100.00           2018-06-19      2   \n",
       "5            10     2890000       30.40           2018-09-10      1   \n",
       "6             6     3700000       37.30           2017-11-02      1   \n",
       "7             5     7915000       71.60           2019-04-18      2   \n",
       "8            20     2900000       33.16           2018-05-23      1   \n",
       "9            18     5400000       61.00           2017-02-26      3   \n",
       "\n",
       "   ceiling_height  floors_total  living_area  floor  is_apartment  studio  \\\n",
       "0            2.70          16.0        51.00      8             0       0   \n",
       "1            2.65          11.0        18.60      1             0       0   \n",
       "2            2.65           5.0        34.30      4             0       0   \n",
       "3            2.65          14.0        56.00      9             0       0   \n",
       "4            3.03          14.0        32.00     13             0       0   \n",
       "5            2.65          12.0        14.40      5             0       0   \n",
       "6            2.65          26.0        10.60      6             0       0   \n",
       "7            2.65          24.0        56.00     22             0       0   \n",
       "8            2.65          27.0        15.43     26             0       0   \n",
       "9            2.50           9.0        43.60      7             0       0   \n",
       "\n",
       "   open_plan  kitchen_area  balcony              locality_name  \\\n",
       "0          0         25.00        0            Санкт-Петербург   \n",
       "1          0         11.00        2             посёлок Шушары   \n",
       "2          0          8.30        0            Санкт-Петербург   \n",
       "3          0         18.00        0            Санкт-Петербург   \n",
       "4          0         41.00        0            Санкт-Петербург   \n",
       "5          0          9.10        0  городской посёлок Янино-1   \n",
       "6          0         14.40        1          посёлок Парголово   \n",
       "7          0         18.90        2            Санкт-Петербург   \n",
       "8          0          8.81        0             посёлок Мурино   \n",
       "9          0          6.50        2            Санкт-Петербург   \n",
       "\n",
       "   airports_nearest  cityCenters_nearest  parks_around3000  parks_nearest  \\\n",
       "0           18863.0              16028.0                 1            482   \n",
       "1           12817.0              18603.0                 0              0   \n",
       "2           21741.0              13933.0                 1             90   \n",
       "3           28098.0               6800.0                 2             84   \n",
       "4           31856.0               8098.0                 2            112   \n",
       "5               NaN                  NaN                 0              0   \n",
       "6           52996.0              19143.0                 0              0   \n",
       "7           23982.0              11634.0                 0              0   \n",
       "8               NaN                  NaN                 0              0   \n",
       "9           50898.0              15008.0                 0              0   \n",
       "\n",
       "   ponds_around3000  ponds_nearest  days_exposition  \n",
       "0                 2            755                0  \n",
       "1                 0              0               81  \n",
       "2                 2            574              558  \n",
       "3                 3            234              424  \n",
       "4                 1             48              121  \n",
       "5                 0              0               55  \n",
       "6                 0              0              155  \n",
       "7                 0              0                0  \n",
       "8                 0              0              189  \n",
       "9                 0              0              289  "
      ]
     },
     "metadata": {},
     "output_type": "display_data"
    }
   ],
   "source": [
    "display(df.head(10))"
   ]
  },
  {
   "cell_type": "markdown",
   "metadata": {},
   "source": [
    "## Расчёты и добавление результатов в таблицу"
   ]
  },
  {
   "cell_type": "code",
   "execution_count": 27,
   "metadata": {
    "scrolled": true
   },
   "outputs": [
    {
     "data": {
      "text/html": [
       "<div>\n",
       "<style scoped>\n",
       "    .dataframe tbody tr th:only-of-type {\n",
       "        vertical-align: middle;\n",
       "    }\n",
       "\n",
       "    .dataframe tbody tr th {\n",
       "        vertical-align: top;\n",
       "    }\n",
       "\n",
       "    .dataframe thead th {\n",
       "        text-align: right;\n",
       "    }\n",
       "</style>\n",
       "<table border=\"1\" class=\"dataframe\">\n",
       "  <thead>\n",
       "    <tr style=\"text-align: right;\">\n",
       "      <th></th>\n",
       "      <th>total_images</th>\n",
       "      <th>last_price</th>\n",
       "      <th>total_area</th>\n",
       "      <th>first_day_exposition</th>\n",
       "      <th>rooms</th>\n",
       "      <th>ceiling_height</th>\n",
       "      <th>floors_total</th>\n",
       "      <th>living_area</th>\n",
       "      <th>floor</th>\n",
       "      <th>is_apartment</th>\n",
       "      <th>studio</th>\n",
       "      <th>open_plan</th>\n",
       "      <th>kitchen_area</th>\n",
       "      <th>balcony</th>\n",
       "      <th>locality_name</th>\n",
       "      <th>airports_nearest</th>\n",
       "      <th>cityCenters_nearest</th>\n",
       "      <th>parks_around3000</th>\n",
       "      <th>parks_nearest</th>\n",
       "      <th>ponds_around3000</th>\n",
       "      <th>ponds_nearest</th>\n",
       "      <th>days_exposition</th>\n",
       "      <th>price_per_square_meter</th>\n",
       "      <th>weekday_exposition</th>\n",
       "      <th>month_exposition</th>\n",
       "      <th>year_exposition</th>\n",
       "      <th>floor_category</th>\n",
       "      <th>useful_area_ratio</th>\n",
       "      <th>kitchen_area_ratio</th>\n",
       "    </tr>\n",
       "  </thead>\n",
       "  <tbody>\n",
       "    <tr>\n",
       "      <th>0</th>\n",
       "      <td>20</td>\n",
       "      <td>13000000</td>\n",
       "      <td>108.00</td>\n",
       "      <td>2019-03-07</td>\n",
       "      <td>3</td>\n",
       "      <td>2.70</td>\n",
       "      <td>16.0</td>\n",
       "      <td>51.00</td>\n",
       "      <td>8</td>\n",
       "      <td>0</td>\n",
       "      <td>0</td>\n",
       "      <td>0</td>\n",
       "      <td>25.00</td>\n",
       "      <td>0</td>\n",
       "      <td>Санкт-Петербург</td>\n",
       "      <td>18863.0</td>\n",
       "      <td>16028.0</td>\n",
       "      <td>1</td>\n",
       "      <td>482</td>\n",
       "      <td>2</td>\n",
       "      <td>755</td>\n",
       "      <td>0</td>\n",
       "      <td>120370</td>\n",
       "      <td>3</td>\n",
       "      <td>3</td>\n",
       "      <td>2019</td>\n",
       "      <td>другой</td>\n",
       "      <td>0.472222</td>\n",
       "      <td>0.231481</td>\n",
       "    </tr>\n",
       "    <tr>\n",
       "      <th>1</th>\n",
       "      <td>7</td>\n",
       "      <td>3350000</td>\n",
       "      <td>40.40</td>\n",
       "      <td>2018-12-04</td>\n",
       "      <td>1</td>\n",
       "      <td>2.65</td>\n",
       "      <td>11.0</td>\n",
       "      <td>18.60</td>\n",
       "      <td>1</td>\n",
       "      <td>0</td>\n",
       "      <td>0</td>\n",
       "      <td>0</td>\n",
       "      <td>11.00</td>\n",
       "      <td>2</td>\n",
       "      <td>посёлок Шушары</td>\n",
       "      <td>12817.0</td>\n",
       "      <td>18603.0</td>\n",
       "      <td>0</td>\n",
       "      <td>0</td>\n",
       "      <td>0</td>\n",
       "      <td>0</td>\n",
       "      <td>81</td>\n",
       "      <td>82920</td>\n",
       "      <td>1</td>\n",
       "      <td>12</td>\n",
       "      <td>2018</td>\n",
       "      <td>первый</td>\n",
       "      <td>0.460396</td>\n",
       "      <td>0.272277</td>\n",
       "    </tr>\n",
       "    <tr>\n",
       "      <th>2</th>\n",
       "      <td>10</td>\n",
       "      <td>5196000</td>\n",
       "      <td>56.00</td>\n",
       "      <td>2015-08-20</td>\n",
       "      <td>2</td>\n",
       "      <td>2.65</td>\n",
       "      <td>5.0</td>\n",
       "      <td>34.30</td>\n",
       "      <td>4</td>\n",
       "      <td>0</td>\n",
       "      <td>0</td>\n",
       "      <td>0</td>\n",
       "      <td>8.30</td>\n",
       "      <td>0</td>\n",
       "      <td>Санкт-Петербург</td>\n",
       "      <td>21741.0</td>\n",
       "      <td>13933.0</td>\n",
       "      <td>1</td>\n",
       "      <td>90</td>\n",
       "      <td>2</td>\n",
       "      <td>574</td>\n",
       "      <td>558</td>\n",
       "      <td>92785</td>\n",
       "      <td>3</td>\n",
       "      <td>8</td>\n",
       "      <td>2015</td>\n",
       "      <td>другой</td>\n",
       "      <td>0.612500</td>\n",
       "      <td>0.148214</td>\n",
       "    </tr>\n",
       "    <tr>\n",
       "      <th>3</th>\n",
       "      <td>0</td>\n",
       "      <td>64900000</td>\n",
       "      <td>159.00</td>\n",
       "      <td>2015-07-24</td>\n",
       "      <td>3</td>\n",
       "      <td>2.65</td>\n",
       "      <td>14.0</td>\n",
       "      <td>56.00</td>\n",
       "      <td>9</td>\n",
       "      <td>0</td>\n",
       "      <td>0</td>\n",
       "      <td>0</td>\n",
       "      <td>18.00</td>\n",
       "      <td>0</td>\n",
       "      <td>Санкт-Петербург</td>\n",
       "      <td>28098.0</td>\n",
       "      <td>6800.0</td>\n",
       "      <td>2</td>\n",
       "      <td>84</td>\n",
       "      <td>3</td>\n",
       "      <td>234</td>\n",
       "      <td>424</td>\n",
       "      <td>408176</td>\n",
       "      <td>4</td>\n",
       "      <td>7</td>\n",
       "      <td>2015</td>\n",
       "      <td>другой</td>\n",
       "      <td>0.352201</td>\n",
       "      <td>0.113208</td>\n",
       "    </tr>\n",
       "    <tr>\n",
       "      <th>4</th>\n",
       "      <td>2</td>\n",
       "      <td>10000000</td>\n",
       "      <td>100.00</td>\n",
       "      <td>2018-06-19</td>\n",
       "      <td>2</td>\n",
       "      <td>3.03</td>\n",
       "      <td>14.0</td>\n",
       "      <td>32.00</td>\n",
       "      <td>13</td>\n",
       "      <td>0</td>\n",
       "      <td>0</td>\n",
       "      <td>0</td>\n",
       "      <td>41.00</td>\n",
       "      <td>0</td>\n",
       "      <td>Санкт-Петербург</td>\n",
       "      <td>31856.0</td>\n",
       "      <td>8098.0</td>\n",
       "      <td>2</td>\n",
       "      <td>112</td>\n",
       "      <td>1</td>\n",
       "      <td>48</td>\n",
       "      <td>121</td>\n",
       "      <td>100000</td>\n",
       "      <td>1</td>\n",
       "      <td>6</td>\n",
       "      <td>2018</td>\n",
       "      <td>другой</td>\n",
       "      <td>0.320000</td>\n",
       "      <td>0.410000</td>\n",
       "    </tr>\n",
       "    <tr>\n",
       "      <th>5</th>\n",
       "      <td>10</td>\n",
       "      <td>2890000</td>\n",
       "      <td>30.40</td>\n",
       "      <td>2018-09-10</td>\n",
       "      <td>1</td>\n",
       "      <td>2.65</td>\n",
       "      <td>12.0</td>\n",
       "      <td>14.40</td>\n",
       "      <td>5</td>\n",
       "      <td>0</td>\n",
       "      <td>0</td>\n",
       "      <td>0</td>\n",
       "      <td>9.10</td>\n",
       "      <td>0</td>\n",
       "      <td>городской посёлок Янино-1</td>\n",
       "      <td>NaN</td>\n",
       "      <td>NaN</td>\n",
       "      <td>0</td>\n",
       "      <td>0</td>\n",
       "      <td>0</td>\n",
       "      <td>0</td>\n",
       "      <td>55</td>\n",
       "      <td>95065</td>\n",
       "      <td>0</td>\n",
       "      <td>9</td>\n",
       "      <td>2018</td>\n",
       "      <td>другой</td>\n",
       "      <td>0.473684</td>\n",
       "      <td>0.299342</td>\n",
       "    </tr>\n",
       "    <tr>\n",
       "      <th>6</th>\n",
       "      <td>6</td>\n",
       "      <td>3700000</td>\n",
       "      <td>37.30</td>\n",
       "      <td>2017-11-02</td>\n",
       "      <td>1</td>\n",
       "      <td>2.65</td>\n",
       "      <td>26.0</td>\n",
       "      <td>10.60</td>\n",
       "      <td>6</td>\n",
       "      <td>0</td>\n",
       "      <td>0</td>\n",
       "      <td>0</td>\n",
       "      <td>14.40</td>\n",
       "      <td>1</td>\n",
       "      <td>посёлок Парголово</td>\n",
       "      <td>52996.0</td>\n",
       "      <td>19143.0</td>\n",
       "      <td>0</td>\n",
       "      <td>0</td>\n",
       "      <td>0</td>\n",
       "      <td>0</td>\n",
       "      <td>155</td>\n",
       "      <td>99195</td>\n",
       "      <td>3</td>\n",
       "      <td>11</td>\n",
       "      <td>2017</td>\n",
       "      <td>другой</td>\n",
       "      <td>0.284182</td>\n",
       "      <td>0.386059</td>\n",
       "    </tr>\n",
       "    <tr>\n",
       "      <th>7</th>\n",
       "      <td>5</td>\n",
       "      <td>7915000</td>\n",
       "      <td>71.60</td>\n",
       "      <td>2019-04-18</td>\n",
       "      <td>2</td>\n",
       "      <td>2.65</td>\n",
       "      <td>24.0</td>\n",
       "      <td>56.00</td>\n",
       "      <td>22</td>\n",
       "      <td>0</td>\n",
       "      <td>0</td>\n",
       "      <td>0</td>\n",
       "      <td>18.90</td>\n",
       "      <td>2</td>\n",
       "      <td>Санкт-Петербург</td>\n",
       "      <td>23982.0</td>\n",
       "      <td>11634.0</td>\n",
       "      <td>0</td>\n",
       "      <td>0</td>\n",
       "      <td>0</td>\n",
       "      <td>0</td>\n",
       "      <td>0</td>\n",
       "      <td>110544</td>\n",
       "      <td>3</td>\n",
       "      <td>4</td>\n",
       "      <td>2019</td>\n",
       "      <td>другой</td>\n",
       "      <td>0.782123</td>\n",
       "      <td>0.263966</td>\n",
       "    </tr>\n",
       "    <tr>\n",
       "      <th>8</th>\n",
       "      <td>20</td>\n",
       "      <td>2900000</td>\n",
       "      <td>33.16</td>\n",
       "      <td>2018-05-23</td>\n",
       "      <td>1</td>\n",
       "      <td>2.65</td>\n",
       "      <td>27.0</td>\n",
       "      <td>15.43</td>\n",
       "      <td>26</td>\n",
       "      <td>0</td>\n",
       "      <td>0</td>\n",
       "      <td>0</td>\n",
       "      <td>8.81</td>\n",
       "      <td>0</td>\n",
       "      <td>посёлок Мурино</td>\n",
       "      <td>NaN</td>\n",
       "      <td>NaN</td>\n",
       "      <td>0</td>\n",
       "      <td>0</td>\n",
       "      <td>0</td>\n",
       "      <td>0</td>\n",
       "      <td>189</td>\n",
       "      <td>87454</td>\n",
       "      <td>2</td>\n",
       "      <td>5</td>\n",
       "      <td>2018</td>\n",
       "      <td>другой</td>\n",
       "      <td>0.465320</td>\n",
       "      <td>0.265682</td>\n",
       "    </tr>\n",
       "    <tr>\n",
       "      <th>9</th>\n",
       "      <td>18</td>\n",
       "      <td>5400000</td>\n",
       "      <td>61.00</td>\n",
       "      <td>2017-02-26</td>\n",
       "      <td>3</td>\n",
       "      <td>2.50</td>\n",
       "      <td>9.0</td>\n",
       "      <td>43.60</td>\n",
       "      <td>7</td>\n",
       "      <td>0</td>\n",
       "      <td>0</td>\n",
       "      <td>0</td>\n",
       "      <td>6.50</td>\n",
       "      <td>2</td>\n",
       "      <td>Санкт-Петербург</td>\n",
       "      <td>50898.0</td>\n",
       "      <td>15008.0</td>\n",
       "      <td>0</td>\n",
       "      <td>0</td>\n",
       "      <td>0</td>\n",
       "      <td>0</td>\n",
       "      <td>289</td>\n",
       "      <td>88524</td>\n",
       "      <td>6</td>\n",
       "      <td>2</td>\n",
       "      <td>2017</td>\n",
       "      <td>другой</td>\n",
       "      <td>0.714754</td>\n",
       "      <td>0.106557</td>\n",
       "    </tr>\n",
       "    <tr>\n",
       "      <th>10</th>\n",
       "      <td>5</td>\n",
       "      <td>5050000</td>\n",
       "      <td>39.60</td>\n",
       "      <td>2017-11-16</td>\n",
       "      <td>1</td>\n",
       "      <td>2.67</td>\n",
       "      <td>12.0</td>\n",
       "      <td>20.30</td>\n",
       "      <td>3</td>\n",
       "      <td>0</td>\n",
       "      <td>0</td>\n",
       "      <td>0</td>\n",
       "      <td>8.50</td>\n",
       "      <td>0</td>\n",
       "      <td>Санкт-Петербург</td>\n",
       "      <td>38357.0</td>\n",
       "      <td>13878.0</td>\n",
       "      <td>1</td>\n",
       "      <td>310</td>\n",
       "      <td>2</td>\n",
       "      <td>553</td>\n",
       "      <td>137</td>\n",
       "      <td>127525</td>\n",
       "      <td>3</td>\n",
       "      <td>11</td>\n",
       "      <td>2017</td>\n",
       "      <td>другой</td>\n",
       "      <td>0.512626</td>\n",
       "      <td>0.214646</td>\n",
       "    </tr>\n",
       "    <tr>\n",
       "      <th>11</th>\n",
       "      <td>9</td>\n",
       "      <td>3300000</td>\n",
       "      <td>44.00</td>\n",
       "      <td>2018-08-27</td>\n",
       "      <td>2</td>\n",
       "      <td>2.65</td>\n",
       "      <td>5.0</td>\n",
       "      <td>31.00</td>\n",
       "      <td>4</td>\n",
       "      <td>0</td>\n",
       "      <td>0</td>\n",
       "      <td>0</td>\n",
       "      <td>6.00</td>\n",
       "      <td>1</td>\n",
       "      <td>Ломоносов</td>\n",
       "      <td>48252.0</td>\n",
       "      <td>51677.0</td>\n",
       "      <td>0</td>\n",
       "      <td>0</td>\n",
       "      <td>0</td>\n",
       "      <td>0</td>\n",
       "      <td>7</td>\n",
       "      <td>75000</td>\n",
       "      <td>0</td>\n",
       "      <td>8</td>\n",
       "      <td>2018</td>\n",
       "      <td>другой</td>\n",
       "      <td>0.704545</td>\n",
       "      <td>0.136364</td>\n",
       "    </tr>\n",
       "    <tr>\n",
       "      <th>12</th>\n",
       "      <td>10</td>\n",
       "      <td>3890000</td>\n",
       "      <td>54.00</td>\n",
       "      <td>2016-06-30</td>\n",
       "      <td>2</td>\n",
       "      <td>2.65</td>\n",
       "      <td>5.0</td>\n",
       "      <td>30.00</td>\n",
       "      <td>5</td>\n",
       "      <td>0</td>\n",
       "      <td>0</td>\n",
       "      <td>0</td>\n",
       "      <td>9.00</td>\n",
       "      <td>0</td>\n",
       "      <td>Сертолово</td>\n",
       "      <td>NaN</td>\n",
       "      <td>NaN</td>\n",
       "      <td>0</td>\n",
       "      <td>0</td>\n",
       "      <td>0</td>\n",
       "      <td>0</td>\n",
       "      <td>90</td>\n",
       "      <td>72037</td>\n",
       "      <td>3</td>\n",
       "      <td>6</td>\n",
       "      <td>2016</td>\n",
       "      <td>последний</td>\n",
       "      <td>0.555556</td>\n",
       "      <td>0.166667</td>\n",
       "    </tr>\n",
       "    <tr>\n",
       "      <th>13</th>\n",
       "      <td>20</td>\n",
       "      <td>3550000</td>\n",
       "      <td>42.80</td>\n",
       "      <td>2017-07-01</td>\n",
       "      <td>2</td>\n",
       "      <td>2.56</td>\n",
       "      <td>5.0</td>\n",
       "      <td>27.00</td>\n",
       "      <td>5</td>\n",
       "      <td>0</td>\n",
       "      <td>0</td>\n",
       "      <td>0</td>\n",
       "      <td>5.20</td>\n",
       "      <td>1</td>\n",
       "      <td>Петергоф</td>\n",
       "      <td>37868.0</td>\n",
       "      <td>33058.0</td>\n",
       "      <td>1</td>\n",
       "      <td>294</td>\n",
       "      <td>3</td>\n",
       "      <td>298</td>\n",
       "      <td>366</td>\n",
       "      <td>82943</td>\n",
       "      <td>5</td>\n",
       "      <td>7</td>\n",
       "      <td>2017</td>\n",
       "      <td>последний</td>\n",
       "      <td>0.630841</td>\n",
       "      <td>0.121495</td>\n",
       "    </tr>\n",
       "    <tr>\n",
       "      <th>14</th>\n",
       "      <td>1</td>\n",
       "      <td>4400000</td>\n",
       "      <td>36.00</td>\n",
       "      <td>2016-06-23</td>\n",
       "      <td>1</td>\n",
       "      <td>2.65</td>\n",
       "      <td>6.0</td>\n",
       "      <td>17.00</td>\n",
       "      <td>1</td>\n",
       "      <td>0</td>\n",
       "      <td>0</td>\n",
       "      <td>0</td>\n",
       "      <td>8.00</td>\n",
       "      <td>0</td>\n",
       "      <td>Пушкин</td>\n",
       "      <td>20782.0</td>\n",
       "      <td>30759.0</td>\n",
       "      <td>0</td>\n",
       "      <td>0</td>\n",
       "      <td>1</td>\n",
       "      <td>96</td>\n",
       "      <td>203</td>\n",
       "      <td>122222</td>\n",
       "      <td>3</td>\n",
       "      <td>6</td>\n",
       "      <td>2016</td>\n",
       "      <td>первый</td>\n",
       "      <td>0.472222</td>\n",
       "      <td>0.222222</td>\n",
       "    </tr>\n",
       "  </tbody>\n",
       "</table>\n",
       "</div>"
      ],
      "text/plain": [
       "    total_images  last_price  total_area first_day_exposition  rooms  \\\n",
       "0             20    13000000      108.00           2019-03-07      3   \n",
       "1              7     3350000       40.40           2018-12-04      1   \n",
       "2             10     5196000       56.00           2015-08-20      2   \n",
       "3              0    64900000      159.00           2015-07-24      3   \n",
       "4              2    10000000      100.00           2018-06-19      2   \n",
       "5             10     2890000       30.40           2018-09-10      1   \n",
       "6              6     3700000       37.30           2017-11-02      1   \n",
       "7              5     7915000       71.60           2019-04-18      2   \n",
       "8             20     2900000       33.16           2018-05-23      1   \n",
       "9             18     5400000       61.00           2017-02-26      3   \n",
       "10             5     5050000       39.60           2017-11-16      1   \n",
       "11             9     3300000       44.00           2018-08-27      2   \n",
       "12            10     3890000       54.00           2016-06-30      2   \n",
       "13            20     3550000       42.80           2017-07-01      2   \n",
       "14             1     4400000       36.00           2016-06-23      1   \n",
       "\n",
       "    ceiling_height  floors_total  living_area  floor  is_apartment  studio  \\\n",
       "0             2.70          16.0        51.00      8             0       0   \n",
       "1             2.65          11.0        18.60      1             0       0   \n",
       "2             2.65           5.0        34.30      4             0       0   \n",
       "3             2.65          14.0        56.00      9             0       0   \n",
       "4             3.03          14.0        32.00     13             0       0   \n",
       "5             2.65          12.0        14.40      5             0       0   \n",
       "6             2.65          26.0        10.60      6             0       0   \n",
       "7             2.65          24.0        56.00     22             0       0   \n",
       "8             2.65          27.0        15.43     26             0       0   \n",
       "9             2.50           9.0        43.60      7             0       0   \n",
       "10            2.67          12.0        20.30      3             0       0   \n",
       "11            2.65           5.0        31.00      4             0       0   \n",
       "12            2.65           5.0        30.00      5             0       0   \n",
       "13            2.56           5.0        27.00      5             0       0   \n",
       "14            2.65           6.0        17.00      1             0       0   \n",
       "\n",
       "    open_plan  kitchen_area  balcony              locality_name  \\\n",
       "0           0         25.00        0            Санкт-Петербург   \n",
       "1           0         11.00        2             посёлок Шушары   \n",
       "2           0          8.30        0            Санкт-Петербург   \n",
       "3           0         18.00        0            Санкт-Петербург   \n",
       "4           0         41.00        0            Санкт-Петербург   \n",
       "5           0          9.10        0  городской посёлок Янино-1   \n",
       "6           0         14.40        1          посёлок Парголово   \n",
       "7           0         18.90        2            Санкт-Петербург   \n",
       "8           0          8.81        0             посёлок Мурино   \n",
       "9           0          6.50        2            Санкт-Петербург   \n",
       "10          0          8.50        0            Санкт-Петербург   \n",
       "11          0          6.00        1                  Ломоносов   \n",
       "12          0          9.00        0                  Сертолово   \n",
       "13          0          5.20        1                   Петергоф   \n",
       "14          0          8.00        0                     Пушкин   \n",
       "\n",
       "    airports_nearest  cityCenters_nearest  parks_around3000  parks_nearest  \\\n",
       "0            18863.0              16028.0                 1            482   \n",
       "1            12817.0              18603.0                 0              0   \n",
       "2            21741.0              13933.0                 1             90   \n",
       "3            28098.0               6800.0                 2             84   \n",
       "4            31856.0               8098.0                 2            112   \n",
       "5                NaN                  NaN                 0              0   \n",
       "6            52996.0              19143.0                 0              0   \n",
       "7            23982.0              11634.0                 0              0   \n",
       "8                NaN                  NaN                 0              0   \n",
       "9            50898.0              15008.0                 0              0   \n",
       "10           38357.0              13878.0                 1            310   \n",
       "11           48252.0              51677.0                 0              0   \n",
       "12               NaN                  NaN                 0              0   \n",
       "13           37868.0              33058.0                 1            294   \n",
       "14           20782.0              30759.0                 0              0   \n",
       "\n",
       "    ponds_around3000  ponds_nearest  days_exposition  price_per_square_meter  \\\n",
       "0                  2            755                0                  120370   \n",
       "1                  0              0               81                   82920   \n",
       "2                  2            574              558                   92785   \n",
       "3                  3            234              424                  408176   \n",
       "4                  1             48              121                  100000   \n",
       "5                  0              0               55                   95065   \n",
       "6                  0              0              155                   99195   \n",
       "7                  0              0                0                  110544   \n",
       "8                  0              0              189                   87454   \n",
       "9                  0              0              289                   88524   \n",
       "10                 2            553              137                  127525   \n",
       "11                 0              0                7                   75000   \n",
       "12                 0              0               90                   72037   \n",
       "13                 3            298              366                   82943   \n",
       "14                 1             96              203                  122222   \n",
       "\n",
       "    weekday_exposition  month_exposition  year_exposition floor_category  \\\n",
       "0                    3                 3             2019         другой   \n",
       "1                    1                12             2018         первый   \n",
       "2                    3                 8             2015         другой   \n",
       "3                    4                 7             2015         другой   \n",
       "4                    1                 6             2018         другой   \n",
       "5                    0                 9             2018         другой   \n",
       "6                    3                11             2017         другой   \n",
       "7                    3                 4             2019         другой   \n",
       "8                    2                 5             2018         другой   \n",
       "9                    6                 2             2017         другой   \n",
       "10                   3                11             2017         другой   \n",
       "11                   0                 8             2018         другой   \n",
       "12                   3                 6             2016      последний   \n",
       "13                   5                 7             2017      последний   \n",
       "14                   3                 6             2016         первый   \n",
       "\n",
       "    useful_area_ratio  kitchen_area_ratio  \n",
       "0            0.472222            0.231481  \n",
       "1            0.460396            0.272277  \n",
       "2            0.612500            0.148214  \n",
       "3            0.352201            0.113208  \n",
       "4            0.320000            0.410000  \n",
       "5            0.473684            0.299342  \n",
       "6            0.284182            0.386059  \n",
       "7            0.782123            0.263966  \n",
       "8            0.465320            0.265682  \n",
       "9            0.714754            0.106557  \n",
       "10           0.512626            0.214646  \n",
       "11           0.704545            0.136364  \n",
       "12           0.555556            0.166667  \n",
       "13           0.630841            0.121495  \n",
       "14           0.472222            0.222222  "
      ]
     },
     "metadata": {},
     "output_type": "display_data"
    }
   ],
   "source": [
    "# Выполним расчеты для выявления цены за квадратный метр.\n",
    "# Приведем данные столбца к целочисленным значениям.\n",
    "df['price_per_square_meter'] = df['last_price'] / df['total_area']\n",
    "df['price_per_square_meter'] = df['price_per_square_meter'].astype('int')\n",
    "\n",
    "\n",
    "# Создадим столбец дня недели.\n",
    "df['weekday_exposition'] = df['first_day_exposition'].dt.weekday\n",
    "\n",
    "# Создадим столбец месяца.\n",
    "df['month_exposition'] = df['first_day_exposition'].dt.month\n",
    "\n",
    "# Создадим столбец года.\n",
    "df['year_exposition'] = df['first_day_exposition'].dt.year\n",
    "\n",
    "\n",
    "\n",
    "# Напишем функцию категоризации по этажам, используя метод apply применимо к каждой строке датафрейма через axis = 1\n",
    "def floor_category(row):\n",
    "    floors_total = row['floors_total']\n",
    "    floor = row['floor']\n",
    "    if floor == 1:\n",
    "        return 'первый'\n",
    "    elif floor == floors_total:\n",
    "        return 'последний'\n",
    "    elif 1 < floor < floors_total:\n",
    "        return 'другой'\n",
    "\n",
    "# Категоризуем этажи с помощью функции.\n",
    "df['floor_category'] = df.apply(floor_category, axis = 1)\n",
    "\n",
    "\n",
    "\n",
    "# Добавим столбец соотношения жилой плозади к общей.\n",
    "df['useful_area_ratio'] = df['living_area'] / df['total_area']\n",
    "\n",
    "# Добавим столбец отношения площади кухни к общей.\n",
    "df['kitchen_area_ratio'] = df['kitchen_area'] / df['total_area']\n",
    "\n",
    "# Проверим результат выведем первые 15 строк датафрейма на экран.\n",
    "display(df.head(15))"
   ]
  },
  {
   "cell_type": "markdown",
   "metadata": {},
   "source": [
    "## Исследовательский анализ данных"
   ]
  },
  {
   "cell_type": "markdown",
   "metadata": {},
   "source": [
    "* **4.1.** Изучим следующие параметры: площадь, цена, число комнат, высота потолков. Построим гистограммы для каждого параметра.\n",
    "\n",
    "* **4.2.** Изучим время продажи квартиры. Построим гистограмму. Посчитаем среднее и медиану. Опишем, сколько обычно занимает продажа. Когда можно считать, что продажи прошли очень быстро, а когда необычно долго?\n",
    "\n",
    "* **4.3.** Уберем редкие и выбивающиеся значения. Опишим, какие особенности обнаружили.\n",
    "\n",
    "* **4.4.** Какие факторы больше всего влияют на стоимость квартиры? Изучим, зависит ли цена от площади, числа комнат, удалённости от центра. Изучим зависимость цены от того, на каком этаже расположена квартира: первом, последнем или другом. Также изучим зависимость от даты размещения: дня недели, месяца и года.\n",
    "\n",
    "* **4.5.** Выберем 10 населённых пунктов с наибольшим числом объявлений. Посчитаем среднюю цену квадратного метра в этих населённых пунктах. Выделим населённые пункты с самой высокой и низкой стоимостью жилья. Эти данные можно найти по имени в столбце locality_name.\n",
    "\n",
    "* **4.6.** Изучим предложения квартир: для каждой квартиры есть информация о расстоянии до центра. Выделим квартиры в Санкт-Петербурге (locality_name). Ваша задача — выяснить, какая область входит в центр. Создайте столбец с расстоянием до центра в километрах: округлим до целых значений. После этого посчитаем среднюю цену для каждого километра. Построем график: он должен показывать, как цена зависит от удалённости от центра. Определим границу, где график сильно меняется, — это и будет центральная зона.\n",
    "\n",
    "* **4.7.** Выделим сегмент квартир в центре. Проанализируем эту территорию и изучим следующие параметры: площадь, цена, число комнат, высота потолков. Также выделим факторы, которые влияют на стоимость квартиры (число комнат, этаж, удалённость от центра, дата размещения объявления). Сделаем выводы. Отличаются ли они от общих выводов по всей базе?"
   ]
  },
  {
   "cell_type": "markdown",
   "metadata": {},
   "source": [
    " **4.1.** Изучим цену, площадь, число комнат, выстоту потолков и построим гистограммы для каждого параметра."
   ]
  },
  {
   "cell_type": "code",
   "execution_count": 28,
   "metadata": {},
   "outputs": [
    {
     "name": "stdout",
     "output_type": "stream",
     "text": [
      "count    23699.000000\n",
      "mean        60.348651\n",
      "std         35.654083\n",
      "min         12.000000\n",
      "25%         40.000000\n",
      "50%         52.000000\n",
      "75%         69.900000\n",
      "max        900.000000\n",
      "Name: total_area, dtype: float64\n"
     ]
    },
    {
     "data": {
      "image/png": "[encoded data removed]",
      "text/plain": [
       "<Figure size 432x288 with 1 Axes>"
      ]
     },
     "metadata": {
      "needs_background": "light"
     },
     "output_type": "display_data"
    },
    {
     "data": {
      "image/png": "[encoded data removed]",
      "text/plain": [
       "<Figure size 432x216 with 1 Axes>"
      ]
     },
     "metadata": {
      "needs_background": "light"
     },
     "output_type": "display_data"
    }
   ],
   "source": [
    "# Изучим общую площадь.\n",
    "df.plot(y= 'total_area', kind= 'hist', bins= 100)\n",
    "df.plot(y= 'total_area', kind= 'hist', bins= 100, grid=True, figsize=(6,3), range=(0,300))\n",
    "print(df['total_area'].describe())\n",
    "# Частота распределения данных нормальная, хоть в данных и присутствуют некоторые выбросы.\n",
    "# С помошью describe получил общее представление."
   ]
  },
  {
   "cell_type": "markdown",
   "metadata": {},
   "source": [
    "**Вывод:** \n",
    "Общая площадь в нашей выборке колеблется от 12 до 900 м2, среднее значение 60, а медиана 52 м2. Распределение данных Гаусса."
   ]
  },
  {
   "cell_type": "code",
   "execution_count": 29,
   "metadata": {},
   "outputs": [
    {
     "name": "stdout",
     "output_type": "stream",
     "text": [
      "count    2.369900e+04\n",
      "mean     6.541549e+06\n",
      "std      1.088701e+07\n",
      "min      1.219000e+04\n",
      "25%      3.400000e+06\n",
      "50%      4.650000e+06\n",
      "75%      6.800000e+06\n",
      "max      7.630000e+08\n",
      "Name: last_price, dtype: float64\n"
     ]
    },
    {
     "data": {
      "image/png": "[encoded data removed]",
      "text/plain": [
       "<Figure size 432x288 with 1 Axes>"
      ]
     },
     "metadata": {
      "needs_background": "light"
     },
     "output_type": "display_data"
    },
    {
     "data": {
      "image/png": "[encoded data removed]",
      "text/plain": [
       "<Figure size 432x216 with 1 Axes>"
      ]
     },
     "metadata": {
      "needs_background": "light"
     },
     "output_type": "display_data"
    }
   ],
   "source": [
    "# Изучим цену.\n",
    "df.plot(y = 'last_price', kind = 'hist', bins = 100)\n",
    "df.plot(y = 'last_price', kind = 'hist', bins = 100, grid=True, range = (0,15000000), figsize = (6,3))\n",
    "print(df['last_price'].describe())\n",
    "# С данными все впорядке но значения выводятся в экспоненциальной записи чисел."
   ]
  },
  {
   "cell_type": "markdown",
   "metadata": {},
   "source": [
    "**Вывод:** \n",
    "Цены на недвижимость имеют среднее значение в 6,5 млн руб., медиана 4,6 млн руб. Распределение данных Гаусса."
   ]
  },
  {
   "cell_type": "code",
   "execution_count": 30,
   "metadata": {},
   "outputs": [
    {
     "name": "stdout",
     "output_type": "stream",
     "text": [
      "\n",
      "count    23699.000000\n",
      "mean         2.070636\n",
      "std          1.078405\n",
      "min          0.000000\n",
      "25%          1.000000\n",
      "50%          2.000000\n",
      "75%          3.000000\n",
      "max         19.000000\n",
      "Name: rooms, dtype: float64\n"
     ]
    },
    {
     "data": {
      "image/png": "[encoded data removed]",
      "text/plain": [
       "<Figure size 432x288 with 1 Axes>"
      ]
     },
     "metadata": {
      "needs_background": "light"
     },
     "output_type": "display_data"
    },
    {
     "data": {
      "image/png": "[encoded data removed]",
      "text/plain": [
       "<Figure size 432x216 with 1 Axes>"
      ]
     },
     "metadata": {
      "needs_background": "light"
     },
     "output_type": "display_data"
    }
   ],
   "source": [
    "print('')\n",
    "# Изучим число комнат.\n",
    "df.plot(y = 'rooms', kind = 'hist', bins = 30)\n",
    "df.plot(y = 'rooms', kind = 'hist', bins = 30, grid=True, figsize = (6,3))\n",
    "print(df['rooms'].describe())\n",
    "# С данными все впорядке."
   ]
  },
  {
   "cell_type": "markdown",
   "metadata": {},
   "source": [
    "**Вывод:**\n",
    "Количество комнат колеблется от 1 до 19. Больше всего однокомнатных квартир."
   ]
  },
  {
   "cell_type": "code",
   "execution_count": 31,
   "metadata": {},
   "outputs": [
    {
     "name": "stdout",
     "output_type": "stream",
     "text": [
      "\n",
      "count    23699.000000\n",
      "mean         2.724358\n",
      "std          0.988298\n",
      "min          1.000000\n",
      "25%          2.600000\n",
      "50%          2.650000\n",
      "75%          2.700000\n",
      "max        100.000000\n",
      "Name: ceiling_height, dtype: float64\n",
      "2.65\n"
     ]
    },
    {
     "data": {
      "image/png": "[encoded data removed]",
      "text/plain": [
       "<Figure size 432x288 with 1 Axes>"
      ]
     },
     "metadata": {
      "needs_background": "light"
     },
     "output_type": "display_data"
    },
    {
     "data": {
      "image/png": "[encoded data removed]",
      "text/plain": [
       "<Figure size 432x216 with 1 Axes>"
      ]
     },
     "metadata": {
      "needs_background": "light"
     },
     "output_type": "display_data"
    }
   ],
   "source": [
    "print('')\n",
    "# Изучим высоту потолков.\n",
    "df.plot(y = 'ceiling_height', kind = 'hist', bins = 30)\n",
    "df.plot(y = 'ceiling_height', kind = 'hist', bins = 30, range = (2,5), grid=True, figsize = (6,3))\n",
    "print(df['ceiling_height'].describe())\n",
    "print(df['ceiling_height'].median())\n",
    "# С данными все впорядке."
   ]
  },
  {
   "cell_type": "markdown",
   "metadata": {},
   "source": [
    "**Вывод:** \n",
    "Высота потолков в среднем составляет 2,72 м, медиана 2,65 м."
   ]
  },
  {
   "cell_type": "markdown",
   "metadata": {},
   "source": [
    "**4.2.** Изучим время продажи квартиры и построим гистограмму."
   ]
  },
  {
   "cell_type": "code",
   "execution_count": 32,
   "metadata": {},
   "outputs": [
    {
     "name": "stdout",
     "output_type": "stream",
     "text": [
      "count    20518.000000\n",
      "mean       180.888634\n",
      "std        219.727988\n",
      "min          1.000000\n",
      "25%         45.000000\n",
      "50%         95.000000\n",
      "75%        232.000000\n",
      "max       1580.000000\n",
      "Name: days_exposition, dtype: float64\n",
      "\n",
      "45      880\n",
      "60      538\n",
      "7       234\n",
      "30      208\n",
      "90      204\n",
      "       ... \n",
      "1112      1\n",
      "1080      1\n",
      "1064      1\n",
      "1032      1\n",
      "1391      1\n",
      "Name: days_exposition, Length: 1141, dtype: int64\n"
     ]
    },
    {
     "data": {
      "text/html": [
       "<div>\n",
       "<style scoped>\n",
       "    .dataframe tbody tr th:only-of-type {\n",
       "        vertical-align: middle;\n",
       "    }\n",
       "\n",
       "    .dataframe tbody tr th {\n",
       "        vertical-align: top;\n",
       "    }\n",
       "\n",
       "    .dataframe thead th {\n",
       "        text-align: right;\n",
       "    }\n",
       "</style>\n",
       "<table border=\"1\" class=\"dataframe\">\n",
       "  <thead>\n",
       "    <tr style=\"text-align: right;\">\n",
       "      <th></th>\n",
       "      <th>total_images</th>\n",
       "      <th>last_price</th>\n",
       "      <th>total_area</th>\n",
       "      <th>first_day_exposition</th>\n",
       "      <th>rooms</th>\n",
       "      <th>ceiling_height</th>\n",
       "      <th>floors_total</th>\n",
       "      <th>living_area</th>\n",
       "      <th>floor</th>\n",
       "      <th>is_apartment</th>\n",
       "      <th>studio</th>\n",
       "      <th>open_plan</th>\n",
       "      <th>kitchen_area</th>\n",
       "      <th>balcony</th>\n",
       "      <th>locality_name</th>\n",
       "      <th>airports_nearest</th>\n",
       "      <th>cityCenters_nearest</th>\n",
       "      <th>parks_around3000</th>\n",
       "      <th>parks_nearest</th>\n",
       "      <th>ponds_around3000</th>\n",
       "      <th>ponds_nearest</th>\n",
       "      <th>days_exposition</th>\n",
       "      <th>price_per_square_meter</th>\n",
       "      <th>weekday_exposition</th>\n",
       "      <th>month_exposition</th>\n",
       "      <th>year_exposition</th>\n",
       "      <th>floor_category</th>\n",
       "      <th>useful_area_ratio</th>\n",
       "      <th>kitchen_area_ratio</th>\n",
       "    </tr>\n",
       "  </thead>\n",
       "  <tbody>\n",
       "    <tr>\n",
       "      <th>78</th>\n",
       "      <td>9</td>\n",
       "      <td>4350000</td>\n",
       "      <td>37.0</td>\n",
       "      <td>2018-02-22</td>\n",
       "      <td>1</td>\n",
       "      <td>2.65</td>\n",
       "      <td>19.0</td>\n",
       "      <td>18.0</td>\n",
       "      <td>6</td>\n",
       "      <td>0</td>\n",
       "      <td>0</td>\n",
       "      <td>0</td>\n",
       "      <td>10.7</td>\n",
       "      <td>0</td>\n",
       "      <td>Санкт-Петербург</td>\n",
       "      <td>34324.0</td>\n",
       "      <td>14192.0</td>\n",
       "      <td>0</td>\n",
       "      <td>0</td>\n",
       "      <td>0</td>\n",
       "      <td>0</td>\n",
       "      <td>45</td>\n",
       "      <td>117567</td>\n",
       "      <td>3</td>\n",
       "      <td>2</td>\n",
       "      <td>2018</td>\n",
       "      <td>другой</td>\n",
       "      <td>0.486486</td>\n",
       "      <td>0.289189</td>\n",
       "    </tr>\n",
       "    <tr>\n",
       "      <th>89</th>\n",
       "      <td>9</td>\n",
       "      <td>2500000</td>\n",
       "      <td>63.0</td>\n",
       "      <td>2018-10-25</td>\n",
       "      <td>3</td>\n",
       "      <td>2.50</td>\n",
       "      <td>5.0</td>\n",
       "      <td>43.0</td>\n",
       "      <td>4</td>\n",
       "      <td>0</td>\n",
       "      <td>0</td>\n",
       "      <td>0</td>\n",
       "      <td>9.0</td>\n",
       "      <td>0</td>\n",
       "      <td>посёлок городского типа Сиверский</td>\n",
       "      <td>NaN</td>\n",
       "      <td>NaN</td>\n",
       "      <td>0</td>\n",
       "      <td>0</td>\n",
       "      <td>0</td>\n",
       "      <td>0</td>\n",
       "      <td>45</td>\n",
       "      <td>39682</td>\n",
       "      <td>3</td>\n",
       "      <td>10</td>\n",
       "      <td>2018</td>\n",
       "      <td>другой</td>\n",
       "      <td>0.682540</td>\n",
       "      <td>0.142857</td>\n",
       "    </tr>\n",
       "    <tr>\n",
       "      <th>110</th>\n",
       "      <td>6</td>\n",
       "      <td>3850000</td>\n",
       "      <td>72.3</td>\n",
       "      <td>2017-09-29</td>\n",
       "      <td>2</td>\n",
       "      <td>2.65</td>\n",
       "      <td>3.0</td>\n",
       "      <td>27.4</td>\n",
       "      <td>2</td>\n",
       "      <td>0</td>\n",
       "      <td>0</td>\n",
       "      <td>0</td>\n",
       "      <td>23.6</td>\n",
       "      <td>0</td>\n",
       "      <td>деревня Пикколово</td>\n",
       "      <td>NaN</td>\n",
       "      <td>NaN</td>\n",
       "      <td>0</td>\n",
       "      <td>0</td>\n",
       "      <td>0</td>\n",
       "      <td>0</td>\n",
       "      <td>45</td>\n",
       "      <td>53250</td>\n",
       "      <td>4</td>\n",
       "      <td>9</td>\n",
       "      <td>2017</td>\n",
       "      <td>другой</td>\n",
       "      <td>0.378976</td>\n",
       "      <td>0.326418</td>\n",
       "    </tr>\n",
       "    <tr>\n",
       "      <th>153</th>\n",
       "      <td>12</td>\n",
       "      <td>4350000</td>\n",
       "      <td>55.0</td>\n",
       "      <td>2017-05-21</td>\n",
       "      <td>2</td>\n",
       "      <td>2.57</td>\n",
       "      <td>9.0</td>\n",
       "      <td>31.2</td>\n",
       "      <td>2</td>\n",
       "      <td>0</td>\n",
       "      <td>0</td>\n",
       "      <td>0</td>\n",
       "      <td>8.3</td>\n",
       "      <td>0</td>\n",
       "      <td>Петергоф</td>\n",
       "      <td>45958.0</td>\n",
       "      <td>34425.0</td>\n",
       "      <td>1</td>\n",
       "      <td>589</td>\n",
       "      <td>0</td>\n",
       "      <td>0</td>\n",
       "      <td>45</td>\n",
       "      <td>79090</td>\n",
       "      <td>6</td>\n",
       "      <td>5</td>\n",
       "      <td>2017</td>\n",
       "      <td>другой</td>\n",
       "      <td>0.567273</td>\n",
       "      <td>0.150909</td>\n",
       "    </tr>\n",
       "    <tr>\n",
       "      <th>158</th>\n",
       "      <td>15</td>\n",
       "      <td>3100000</td>\n",
       "      <td>47.3</td>\n",
       "      <td>2017-11-07</td>\n",
       "      <td>2</td>\n",
       "      <td>2.65</td>\n",
       "      <td>5.0</td>\n",
       "      <td>27.5</td>\n",
       "      <td>2</td>\n",
       "      <td>0</td>\n",
       "      <td>0</td>\n",
       "      <td>0</td>\n",
       "      <td>8.5</td>\n",
       "      <td>0</td>\n",
       "      <td>городской посёлок Янино-1</td>\n",
       "      <td>NaN</td>\n",
       "      <td>NaN</td>\n",
       "      <td>0</td>\n",
       "      <td>0</td>\n",
       "      <td>0</td>\n",
       "      <td>0</td>\n",
       "      <td>45</td>\n",
       "      <td>65539</td>\n",
       "      <td>1</td>\n",
       "      <td>11</td>\n",
       "      <td>2017</td>\n",
       "      <td>другой</td>\n",
       "      <td>0.581395</td>\n",
       "      <td>0.179704</td>\n",
       "    </tr>\n",
       "    <tr>\n",
       "      <th>...</th>\n",
       "      <td>...</td>\n",
       "      <td>...</td>\n",
       "      <td>...</td>\n",
       "      <td>...</td>\n",
       "      <td>...</td>\n",
       "      <td>...</td>\n",
       "      <td>...</td>\n",
       "      <td>...</td>\n",
       "      <td>...</td>\n",
       "      <td>...</td>\n",
       "      <td>...</td>\n",
       "      <td>...</td>\n",
       "      <td>...</td>\n",
       "      <td>...</td>\n",
       "      <td>...</td>\n",
       "      <td>...</td>\n",
       "      <td>...</td>\n",
       "      <td>...</td>\n",
       "      <td>...</td>\n",
       "      <td>...</td>\n",
       "      <td>...</td>\n",
       "      <td>...</td>\n",
       "      <td>...</td>\n",
       "      <td>...</td>\n",
       "      <td>...</td>\n",
       "      <td>...</td>\n",
       "      <td>...</td>\n",
       "      <td>...</td>\n",
       "      <td>...</td>\n",
       "    </tr>\n",
       "    <tr>\n",
       "      <th>23601</th>\n",
       "      <td>10</td>\n",
       "      <td>2900000</td>\n",
       "      <td>43.4</td>\n",
       "      <td>2018-01-11</td>\n",
       "      <td>2</td>\n",
       "      <td>2.65</td>\n",
       "      <td>5.0</td>\n",
       "      <td>56.0</td>\n",
       "      <td>1</td>\n",
       "      <td>0</td>\n",
       "      <td>0</td>\n",
       "      <td>0</td>\n",
       "      <td>18.0</td>\n",
       "      <td>0</td>\n",
       "      <td>Санкт-Петербург</td>\n",
       "      <td>22001.0</td>\n",
       "      <td>14193.0</td>\n",
       "      <td>1</td>\n",
       "      <td>202</td>\n",
       "      <td>2</td>\n",
       "      <td>397</td>\n",
       "      <td>45</td>\n",
       "      <td>66820</td>\n",
       "      <td>3</td>\n",
       "      <td>1</td>\n",
       "      <td>2018</td>\n",
       "      <td>первый</td>\n",
       "      <td>1.290323</td>\n",
       "      <td>0.414747</td>\n",
       "    </tr>\n",
       "    <tr>\n",
       "      <th>23613</th>\n",
       "      <td>4</td>\n",
       "      <td>3950000</td>\n",
       "      <td>52.0</td>\n",
       "      <td>2018-03-04</td>\n",
       "      <td>3</td>\n",
       "      <td>2.65</td>\n",
       "      <td>5.0</td>\n",
       "      <td>56.0</td>\n",
       "      <td>2</td>\n",
       "      <td>0</td>\n",
       "      <td>0</td>\n",
       "      <td>0</td>\n",
       "      <td>18.0</td>\n",
       "      <td>0</td>\n",
       "      <td>посёлок Парголово</td>\n",
       "      <td>55549.0</td>\n",
       "      <td>21223.0</td>\n",
       "      <td>0</td>\n",
       "      <td>0</td>\n",
       "      <td>0</td>\n",
       "      <td>0</td>\n",
       "      <td>45</td>\n",
       "      <td>75961</td>\n",
       "      <td>6</td>\n",
       "      <td>3</td>\n",
       "      <td>2018</td>\n",
       "      <td>другой</td>\n",
       "      <td>1.076923</td>\n",
       "      <td>0.346154</td>\n",
       "    </tr>\n",
       "    <tr>\n",
       "      <th>23670</th>\n",
       "      <td>9</td>\n",
       "      <td>2450000</td>\n",
       "      <td>45.6</td>\n",
       "      <td>2018-02-08</td>\n",
       "      <td>1</td>\n",
       "      <td>2.80</td>\n",
       "      <td>9.0</td>\n",
       "      <td>56.0</td>\n",
       "      <td>2</td>\n",
       "      <td>0</td>\n",
       "      <td>0</td>\n",
       "      <td>0</td>\n",
       "      <td>18.0</td>\n",
       "      <td>0</td>\n",
       "      <td>поселок городского типа Синявино</td>\n",
       "      <td>NaN</td>\n",
       "      <td>NaN</td>\n",
       "      <td>0</td>\n",
       "      <td>0</td>\n",
       "      <td>0</td>\n",
       "      <td>0</td>\n",
       "      <td>45</td>\n",
       "      <td>53728</td>\n",
       "      <td>3</td>\n",
       "      <td>2</td>\n",
       "      <td>2018</td>\n",
       "      <td>другой</td>\n",
       "      <td>1.228070</td>\n",
       "      <td>0.394737</td>\n",
       "    </tr>\n",
       "    <tr>\n",
       "      <th>23679</th>\n",
       "      <td>0</td>\n",
       "      <td>2500000</td>\n",
       "      <td>35.0</td>\n",
       "      <td>2017-12-08</td>\n",
       "      <td>1</td>\n",
       "      <td>2.65</td>\n",
       "      <td>9.0</td>\n",
       "      <td>56.0</td>\n",
       "      <td>4</td>\n",
       "      <td>0</td>\n",
       "      <td>0</td>\n",
       "      <td>0</td>\n",
       "      <td>18.0</td>\n",
       "      <td>0</td>\n",
       "      <td>Сосновый Бор</td>\n",
       "      <td>NaN</td>\n",
       "      <td>NaN</td>\n",
       "      <td>0</td>\n",
       "      <td>0</td>\n",
       "      <td>0</td>\n",
       "      <td>0</td>\n",
       "      <td>45</td>\n",
       "      <td>71428</td>\n",
       "      <td>4</td>\n",
       "      <td>12</td>\n",
       "      <td>2017</td>\n",
       "      <td>другой</td>\n",
       "      <td>1.600000</td>\n",
       "      <td>0.514286</td>\n",
       "    </tr>\n",
       "    <tr>\n",
       "      <th>23695</th>\n",
       "      <td>14</td>\n",
       "      <td>3100000</td>\n",
       "      <td>59.0</td>\n",
       "      <td>2018-01-15</td>\n",
       "      <td>3</td>\n",
       "      <td>2.65</td>\n",
       "      <td>5.0</td>\n",
       "      <td>38.0</td>\n",
       "      <td>4</td>\n",
       "      <td>0</td>\n",
       "      <td>0</td>\n",
       "      <td>0</td>\n",
       "      <td>8.5</td>\n",
       "      <td>0</td>\n",
       "      <td>Тосно</td>\n",
       "      <td>NaN</td>\n",
       "      <td>NaN</td>\n",
       "      <td>0</td>\n",
       "      <td>0</td>\n",
       "      <td>0</td>\n",
       "      <td>0</td>\n",
       "      <td>45</td>\n",
       "      <td>52542</td>\n",
       "      <td>0</td>\n",
       "      <td>1</td>\n",
       "      <td>2018</td>\n",
       "      <td>другой</td>\n",
       "      <td>0.644068</td>\n",
       "      <td>0.144068</td>\n",
       "    </tr>\n",
       "  </tbody>\n",
       "</table>\n",
       "<p>880 rows × 29 columns</p>\n",
       "</div>"
      ],
      "text/plain": [
       "       total_images  last_price  total_area first_day_exposition  rooms  \\\n",
       "78                9     4350000        37.0           2018-02-22      1   \n",
       "89                9     2500000        63.0           2018-10-25      3   \n",
       "110               6     3850000        72.3           2017-09-29      2   \n",
       "153              12     4350000        55.0           2017-05-21      2   \n",
       "158              15     3100000        47.3           2017-11-07      2   \n",
       "...             ...         ...         ...                  ...    ...   \n",
       "23601            10     2900000        43.4           2018-01-11      2   \n",
       "23613             4     3950000        52.0           2018-03-04      3   \n",
       "23670             9     2450000        45.6           2018-02-08      1   \n",
       "23679             0     2500000        35.0           2017-12-08      1   \n",
       "23695            14     3100000        59.0           2018-01-15      3   \n",
       "\n",
       "       ceiling_height  floors_total  living_area  floor  is_apartment  studio  \\\n",
       "78               2.65          19.0         18.0      6             0       0   \n",
       "89               2.50           5.0         43.0      4             0       0   \n",
       "110              2.65           3.0         27.4      2             0       0   \n",
       "153              2.57           9.0         31.2      2             0       0   \n",
       "158              2.65           5.0         27.5      2             0       0   \n",
       "...               ...           ...          ...    ...           ...     ...   \n",
       "23601            2.65           5.0         56.0      1             0       0   \n",
       "23613            2.65           5.0         56.0      2             0       0   \n",
       "23670            2.80           9.0         56.0      2             0       0   \n",
       "23679            2.65           9.0         56.0      4             0       0   \n",
       "23695            2.65           5.0         38.0      4             0       0   \n",
       "\n",
       "       open_plan  kitchen_area  balcony                      locality_name  \\\n",
       "78             0          10.7        0                    Санкт-Петербург   \n",
       "89             0           9.0        0  посёлок городского типа Сиверский   \n",
       "110            0          23.6        0                  деревня Пикколово   \n",
       "153            0           8.3        0                           Петергоф   \n",
       "158            0           8.5        0          городской посёлок Янино-1   \n",
       "...          ...           ...      ...                                ...   \n",
       "23601          0          18.0        0                    Санкт-Петербург   \n",
       "23613          0          18.0        0                  посёлок Парголово   \n",
       "23670          0          18.0        0   поселок городского типа Синявино   \n",
       "23679          0          18.0        0                       Сосновый Бор   \n",
       "23695          0           8.5        0                              Тосно   \n",
       "\n",
       "       airports_nearest  cityCenters_nearest  parks_around3000  parks_nearest  \\\n",
       "78              34324.0              14192.0                 0              0   \n",
       "89                  NaN                  NaN                 0              0   \n",
       "110                 NaN                  NaN                 0              0   \n",
       "153             45958.0              34425.0                 1            589   \n",
       "158                 NaN                  NaN                 0              0   \n",
       "...                 ...                  ...               ...            ...   \n",
       "23601           22001.0              14193.0                 1            202   \n",
       "23613           55549.0              21223.0                 0              0   \n",
       "23670               NaN                  NaN                 0              0   \n",
       "23679               NaN                  NaN                 0              0   \n",
       "23695               NaN                  NaN                 0              0   \n",
       "\n",
       "       ponds_around3000  ponds_nearest  days_exposition  \\\n",
       "78                    0              0               45   \n",
       "89                    0              0               45   \n",
       "110                   0              0               45   \n",
       "153                   0              0               45   \n",
       "158                   0              0               45   \n",
       "...                 ...            ...              ...   \n",
       "23601                 2            397               45   \n",
       "23613                 0              0               45   \n",
       "23670                 0              0               45   \n",
       "23679                 0              0               45   \n",
       "23695                 0              0               45   \n",
       "\n",
       "       price_per_square_meter  weekday_exposition  month_exposition  \\\n",
       "78                     117567                   3                 2   \n",
       "89                      39682                   3                10   \n",
       "110                     53250                   4                 9   \n",
       "153                     79090                   6                 5   \n",
       "158                     65539                   1                11   \n",
       "...                       ...                 ...               ...   \n",
       "23601                   66820                   3                 1   \n",
       "23613                   75961                   6                 3   \n",
       "23670                   53728                   3                 2   \n",
       "23679                   71428                   4                12   \n",
       "23695                   52542                   0                 1   \n",
       "\n",
       "       year_exposition floor_category  useful_area_ratio  kitchen_area_ratio  \n",
       "78                2018         другой           0.486486            0.289189  \n",
       "89                2018         другой           0.682540            0.142857  \n",
       "110               2017         другой           0.378976            0.326418  \n",
       "153               2017         другой           0.567273            0.150909  \n",
       "158               2017         другой           0.581395            0.179704  \n",
       "...                ...            ...                ...                 ...  \n",
       "23601             2018         первый           1.290323            0.414747  \n",
       "23613             2018         другой           1.076923            0.346154  \n",
       "23670             2018         другой           1.228070            0.394737  \n",
       "23679             2017         другой           1.600000            0.514286  \n",
       "23695             2018         другой           0.644068            0.144068  \n",
       "\n",
       "[880 rows x 29 columns]"
      ]
     },
     "execution_count": 32,
     "metadata": {},
     "output_type": "execute_result"
    },
    {
     "data": {
      "image/png": "[encoded data removed]",
      "text/plain": [
       "<Figure size 432x288 with 1 Axes>"
      ]
     },
     "metadata": {
      "needs_background": "light"
     },
     "output_type": "display_data"
    },
    {
     "data": {
      "image/png": "[encoded data removed]",
      "text/plain": [
       "<Figure size 432x288 with 1 Axes>"
      ]
     },
     "metadata": {
      "needs_background": "light"
     },
     "output_type": "display_data"
    },
    {
     "data": {
      "image/png": "[encoded data removed]",
      "text/plain": [
       "<Figure size 432x288 with 1 Axes>"
      ]
     },
     "metadata": {
      "needs_background": "light"
     },
     "output_type": "display_data"
    }
   ],
   "source": [
    "# Диаграмма размаха.\n",
    "plt.boxplot(df[df['days_exposition']!=0]['days_exposition'])\n",
    "plt.ylim(1,1000)\n",
    "\n",
    "df.plot(y='days_exposition', kind='hist', bins=30, grid=True, range=(1,1600))\n",
    "df.plot(y='days_exposition', kind='hist', bins=100, grid=True, range=(1,200))\n",
    "\n",
    "# Среднее значение, медиана и межквартильный размах.\n",
    "print(df[df['days_exposition']!=0]['days_exposition'].describe())\n",
    "print('')\n",
    "\n",
    "print(df[df['days_exposition']!=0]['days_exposition'].value_counts())\n",
    "df[df['days_exposition']==45]"
   ]
  },
  {
   "cell_type": "markdown",
   "metadata": {},
   "source": [
    "**Вывод:** судя по гистограмме - мы имеем распределение Пуассона. Среднее значение - 180 дней, а медиана - 95 дней. Сделав гистограмму со значениями от 0 до 200 с кол-вом корзин 100, обнаружили выбивающиеся значения и методом value_counts убедились в этом - у нас аномалии на 45, 60, 7, 30, 90 днях - это наиболее популярное количество дней до снятия объявления. Проверив данные на какие либо общие особенности по снятым обьявлениям через 45 дней мы не обнаруживаем никаких взаимосвязей. Скорее всего агрегатор \"Яндекс недвижемость\" снимает обьявления с публикации автомотически через 45, 60, 7, 30, 90 дней."
   ]
  },
  {
   "cell_type": "markdown",
   "metadata": {},
   "source": [
    "**4.3.** Уберем редкие и выбивающиеся значения. Опишим, какие особенности обнаружили."
   ]
  },
  {
   "cell_type": "code",
   "execution_count": 33,
   "metadata": {},
   "outputs": [
    {
     "name": "stdout",
     "output_type": "stream",
     "text": [
      "4       176\n",
      "3       158\n",
      "5       152\n",
      "14      148\n",
      "9       143\n",
      "       ... \n",
      "1112      1\n",
      "1080      1\n",
      "1064      1\n",
      "1032      1\n",
      "1391      1\n",
      "Name: days_exposition, Length: 1136, dtype: int64\n"
     ]
    },
    {
     "data": {
      "text/plain": [
       "count    18454.000000\n",
       "mean       195.803349\n",
       "std        226.760010\n",
       "min          1.000000\n",
       "25%         44.000000\n",
       "50%        114.000000\n",
       "75%        259.000000\n",
       "max       1580.000000\n",
       "Name: days_exposition, dtype: float64"
      ]
     },
     "execution_count": 33,
     "metadata": {},
     "output_type": "execute_result"
    },
    {
     "data": {
      "image/png": "[encoded data removed]",
      "text/plain": [
       "<Figure size 432x288 with 1 Axes>"
      ]
     },
     "metadata": {
      "needs_background": "light"
     },
     "output_type": "display_data"
    },
    {
     "data": {
      "image/png": "[encoded data removed]",
      "text/plain": [
       "<Figure size 432x288 with 1 Axes>"
      ]
     },
     "metadata": {
      "needs_background": "light"
     },
     "output_type": "display_data"
    },
    {
     "data": {
      "image/png": "[encoded data removed]",
      "text/plain": [
       "<Figure size 432x288 with 1 Axes>"
      ]
     },
     "metadata": {
      "needs_background": "light"
     },
     "output_type": "display_data"
    }
   ],
   "source": [
    "# Отфильтруем данные от аномальных выбросов в df которые мы обноружили в предыдущем шаге и запишем их в переменную good_df.\n",
    "good_df = df.query('days_exposition != 45 and days_exposition != 30 and days_exposition != 60 and days_exposition != 90 and days_exposition != 7 and days_exposition != 0')\n",
    "\n",
    "# Диаграмма размаха.\n",
    "plt.boxplot(good_df['days_exposition'])\n",
    "plt.ylim(1,1000)\n",
    "\n",
    "# Гистограммы.\n",
    "good_df.plot(y = 'days_exposition', kind = 'hist', bins = 30, grid = True, range = (1,1600))\n",
    "good_df.plot(y = 'days_exposition', kind = 'hist', bins = 100, grid = True, range = (1,200))\n",
    "\n",
    "# Среднее значение, медиана и межквартильный размах.\n",
    "print(good_df['days_exposition'].value_counts())\n",
    "good_df['days_exposition'].describe()"
   ]
  },
  {
   "cell_type": "markdown",
   "metadata": {},
   "source": [
    "**Вывод:** Итак, после обработки данных мы замечаем, что медеанное значение возрастает, соответственно отчистив данные от аномальных выбросов мы понимаем что в среднем требуется 114 дней от размещения до снятия для продажи квартиры. Так же теперь нормальные значения распологаются в диапозоне от 1 до 600."
   ]
  },
  {
   "cell_type": "markdown",
   "metadata": {},
   "source": [
    "**4.4.** Изучим, зависит ли цена от площади, числа комнат, удалённости от центра. Изучим зависимость цены от того, на каком этаже расположена квартира: первом, последнем или другом. Также изучим зависимость от даты размещения: дня недели, месяца и года.\n",
    "1. Изучим зависимость цены от общей площади квартиры."
   ]
  },
  {
   "cell_type": "code",
   "execution_count": 34,
   "metadata": {},
   "outputs": [
    {
     "data": {
      "text/html": [
       "<div>\n",
       "<style scoped>\n",
       "    .dataframe tbody tr th:only-of-type {\n",
       "        vertical-align: middle;\n",
       "    }\n",
       "\n",
       "    .dataframe tbody tr th {\n",
       "        vertical-align: top;\n",
       "    }\n",
       "\n",
       "    .dataframe thead th {\n",
       "        text-align: right;\n",
       "    }\n",
       "</style>\n",
       "<table border=\"1\" class=\"dataframe\">\n",
       "  <thead>\n",
       "    <tr style=\"text-align: right;\">\n",
       "      <th></th>\n",
       "      <th>last_price</th>\n",
       "      <th>total_area</th>\n",
       "      <th>rooms</th>\n",
       "    </tr>\n",
       "  </thead>\n",
       "  <tbody>\n",
       "    <tr>\n",
       "      <th>last_price</th>\n",
       "      <td>1.000000</td>\n",
       "      <td>0.643337</td>\n",
       "      <td>0.354463</td>\n",
       "    </tr>\n",
       "    <tr>\n",
       "      <th>total_area</th>\n",
       "      <td>0.643337</td>\n",
       "      <td>1.000000</td>\n",
       "      <td>0.760935</td>\n",
       "    </tr>\n",
       "    <tr>\n",
       "      <th>rooms</th>\n",
       "      <td>0.354463</td>\n",
       "      <td>0.760935</td>\n",
       "      <td>1.000000</td>\n",
       "    </tr>\n",
       "  </tbody>\n",
       "</table>\n",
       "</div>"
      ],
      "text/plain": [
       "            last_price  total_area     rooms\n",
       "last_price    1.000000    0.643337  0.354463\n",
       "total_area    0.643337    1.000000  0.760935\n",
       "rooms         0.354463    0.760935  1.000000"
      ]
     },
     "execution_count": 34,
     "metadata": {},
     "output_type": "execute_result"
    }
   ],
   "source": [
    "good_df[['last_price', 'total_area', 'rooms']].corr()"
   ]
  },
  {
   "cell_type": "code",
   "execution_count": 35,
   "metadata": {},
   "outputs": [
    {
     "name": "stdout",
     "output_type": "stream",
     "text": [
      "                   mean  count       median\n",
      "total_area                                 \n",
      "900.00      420000000.0      1  420000000.0\n",
      "401.00      401300000.0      1  401300000.0\n",
      "618.00      300000000.0      1  300000000.0\n",
      "285.70      245000000.0      1  245000000.0\n",
      "410.00      240000000.0      1  240000000.0\n",
      "...                 ...    ...          ...\n",
      "54.33         1300000.0      1    1300000.0\n",
      "14.00         1190000.0      1    1190000.0\n",
      "28.60         2034000.0      5    1060000.0\n",
      "19.50          945750.0      1     945750.0\n",
      "28.66          690000.0      1     690000.0\n",
      "\n",
      "[2182 rows x 3 columns]\n"
     ]
    },
    {
     "data": {
      "text/plain": [
       "0.6536750579657243"
      ]
     },
     "execution_count": 35,
     "metadata": {},
     "output_type": "execute_result"
    },
    {
     "data": {
      "image/png": "[encoded data removed]",
      "text/plain": [
       "<Figure size 432x288 with 1 Axes>"
      ]
     },
     "metadata": {
      "needs_background": "light"
     },
     "output_type": "display_data"
    }
   ],
   "source": [
    "pivot_table_total_area = df.pivot_table(index = 'total_area', values = 'last_price', aggfunc = ['mean', 'count', 'median'])\n",
    "pivot_table_total_area.columns = ['mean', 'count', 'median']\n",
    "pivot_table_total_area.plot(y = 'median', style = 'x')\n",
    "\n",
    "print(pivot_table_total_area.sort_values('median', ascending = False))\n",
    "\n",
    "df['total_area'].corr(df['last_price'])"
   ]
  },
  {
   "cell_type": "markdown",
   "metadata": {},
   "source": [
    "**Вывод:** видим, что зависимость слабая - согласно корреляции Пирсона - 0.6. То есть, чем больше площадь тем немного выше стоимость."
   ]
  },
  {
   "cell_type": "markdown",
   "metadata": {},
   "source": [
    "2. Изучим зависимость цены квадратного метра от этажа первого последнего или другого."
   ]
  },
  {
   "cell_type": "code",
   "execution_count": 36,
   "metadata": {},
   "outputs": [
    {
     "name": "stdout",
     "output_type": "stream",
     "text": [
      "                        mean  count   median\n",
      "floor_category                              \n",
      "другой          6.674074e+06  17363  4850000\n",
      "первый          4.803560e+06   2917  3900000\n",
      "последний       7.361025e+06   3336  4300000\n"
     ]
    },
    {
     "data": {
      "image/png": "[encoded data removed]",
      "text/plain": [
       "<Figure size 432x288 with 1 Axes>"
      ]
     },
     "metadata": {
      "needs_background": "light"
     },
     "output_type": "display_data"
    }
   ],
   "source": [
    "pivot_table_floor_category = df.pivot_table(index = 'floor_category', values = 'last_price', aggfunc = ['mean', 'count', 'median'])\n",
    "pivot_table_floor_category.columns = ['mean', 'count', 'median']\n",
    "pivot_table_floor_category.plot(y = 'median')\n",
    "print(pivot_table_floor_category)"
   ]
  },
  {
   "cell_type": "markdown",
   "metadata": {},
   "source": [
    "**Вывод:** Согласно медиане - как правило квартиры на первом этаже дешевле квартир на последнем этаже - в среднем на 10%!"
   ]
  },
  {
   "cell_type": "markdown",
   "metadata": {},
   "source": [
    "3. Изучим зависимость цены от удалённости от центра."
   ]
  },
  {
   "cell_type": "code",
   "execution_count": 37,
   "metadata": {},
   "outputs": [
    {
     "data": {
      "text/plain": [
       "-0.20674734874298387"
      ]
     },
     "execution_count": 37,
     "metadata": {},
     "output_type": "execute_result"
    },
    {
     "data": {
      "image/png": "[encoded data removed]",
      "text/plain": [
       "<Figure size 432x288 with 1 Axes>"
      ]
     },
     "metadata": {
      "needs_background": "light"
     },
     "output_type": "display_data"
    }
   ],
   "source": [
    "df.plot(kind='scatter', y='last_price', x='cityCenters_nearest', alpha = 0.6)\n",
    "\n",
    "df['cityCenters_nearest'].corr(df['last_price'])"
   ]
  },
  {
   "cell_type": "markdown",
   "metadata": {},
   "source": [
    "**Вывод:** Видим явную зависимость стоимости квадратного метра от близости к центру. Чем ближе к центру, тем выше стоимость."
   ]
  },
  {
   "cell_type": "markdown",
   "metadata": {},
   "source": [
    " 4. Изучим зависимость цены от даты размещения: дня недели."
   ]
  },
  {
   "cell_type": "code",
   "execution_count": 38,
   "metadata": {},
   "outputs": [
    {
     "data": {
      "text/html": [
       "<div>\n",
       "<style scoped>\n",
       "    .dataframe tbody tr th:only-of-type {\n",
       "        vertical-align: middle;\n",
       "    }\n",
       "\n",
       "    .dataframe tbody tr th {\n",
       "        vertical-align: top;\n",
       "    }\n",
       "\n",
       "    .dataframe thead th {\n",
       "        text-align: right;\n",
       "    }\n",
       "</style>\n",
       "<table border=\"1\" class=\"dataframe\">\n",
       "  <thead>\n",
       "    <tr style=\"text-align: right;\">\n",
       "      <th></th>\n",
       "      <th>mean</th>\n",
       "      <th>count</th>\n",
       "      <th>median</th>\n",
       "    </tr>\n",
       "    <tr>\n",
       "      <th>weekday_exposition</th>\n",
       "      <th></th>\n",
       "      <th></th>\n",
       "      <th></th>\n",
       "    </tr>\n",
       "  </thead>\n",
       "  <tbody>\n",
       "    <tr>\n",
       "      <th>1</th>\n",
       "      <td>6.394233e+06</td>\n",
       "      <td>4183</td>\n",
       "      <td>4730000</td>\n",
       "    </tr>\n",
       "    <tr>\n",
       "      <th>2</th>\n",
       "      <td>6.627970e+06</td>\n",
       "      <td>3974</td>\n",
       "      <td>4700000</td>\n",
       "    </tr>\n",
       "    <tr>\n",
       "      <th>0</th>\n",
       "      <td>6.511613e+06</td>\n",
       "      <td>3612</td>\n",
       "      <td>4650000</td>\n",
       "    </tr>\n",
       "    <tr>\n",
       "      <th>3</th>\n",
       "      <td>6.708663e+06</td>\n",
       "      <td>4295</td>\n",
       "      <td>4650000</td>\n",
       "    </tr>\n",
       "    <tr>\n",
       "      <th>4</th>\n",
       "      <td>6.372131e+06</td>\n",
       "      <td>4000</td>\n",
       "      <td>4585000</td>\n",
       "    </tr>\n",
       "    <tr>\n",
       "      <th>5</th>\n",
       "      <td>6.976804e+06</td>\n",
       "      <td>1936</td>\n",
       "      <td>4555000</td>\n",
       "    </tr>\n",
       "    <tr>\n",
       "      <th>6</th>\n",
       "      <td>6.246180e+06</td>\n",
       "      <td>1699</td>\n",
       "      <td>4550000</td>\n",
       "    </tr>\n",
       "  </tbody>\n",
       "</table>\n",
       "</div>"
      ],
      "text/plain": [
       "                            mean  count   median\n",
       "weekday_exposition                              \n",
       "1                   6.394233e+06   4183  4730000\n",
       "2                   6.627970e+06   3974  4700000\n",
       "0                   6.511613e+06   3612  4650000\n",
       "3                   6.708663e+06   4295  4650000\n",
       "4                   6.372131e+06   4000  4585000\n",
       "5                   6.976804e+06   1936  4555000\n",
       "6                   6.246180e+06   1699  4550000"
      ]
     },
     "execution_count": 38,
     "metadata": {},
     "output_type": "execute_result"
    },
    {
     "data": {
      "image/png": "[encoded data removed]",
      "text/plain": [
       "<Figure size 432x288 with 1 Axes>"
      ]
     },
     "metadata": {
      "needs_background": "light"
     },
     "output_type": "display_data"
    }
   ],
   "source": [
    "pivot_table_weekday_exposition = df.pivot_table(index = 'weekday_exposition', values = 'last_price', aggfunc = ['mean', 'count', 'median'])\n",
    "pivot_table_weekday_exposition.columns = ['mean', 'count', 'median']\n",
    "pivot_table_weekday_exposition.plot(y = 'median')\n",
    "\n",
    "pivot_table_weekday_exposition.sort_values('median', ascending = False)"
   ]
  },
  {
   "cell_type": "markdown",
   "metadata": {},
   "source": [
    "**Вывод:** Видим, что чем ближе ко вторнику выставлены объявления тем в среднем выше стоимость, но незначительно! По воскресеньям стоимость самая низкая!\n",
    "\n",
    "Полагаю, что стоимость выставленной на продажу недвижимости зависит от общей активности людей, так как именно в рабочие дни мы видим более высокие цены."
   ]
  },
  {
   "cell_type": "markdown",
   "metadata": {},
   "source": [
    "5. Изучим зависимость цены от даты размещения: месяца."
   ]
  },
  {
   "cell_type": "code",
   "execution_count": 39,
   "metadata": {},
   "outputs": [
    {
     "data": {
      "text/html": [
       "<div>\n",
       "<style scoped>\n",
       "    .dataframe tbody tr th:only-of-type {\n",
       "        vertical-align: middle;\n",
       "    }\n",
       "\n",
       "    .dataframe tbody tr th {\n",
       "        vertical-align: top;\n",
       "    }\n",
       "\n",
       "    .dataframe thead th {\n",
       "        text-align: right;\n",
       "    }\n",
       "</style>\n",
       "<table border=\"1\" class=\"dataframe\">\n",
       "  <thead>\n",
       "    <tr style=\"text-align: right;\">\n",
       "      <th></th>\n",
       "      <th>mean</th>\n",
       "      <th>count</th>\n",
       "      <th>median</th>\n",
       "    </tr>\n",
       "    <tr>\n",
       "      <th>month_exposition</th>\n",
       "      <th></th>\n",
       "      <th></th>\n",
       "      <th></th>\n",
       "    </tr>\n",
       "  </thead>\n",
       "  <tbody>\n",
       "    <tr>\n",
       "      <th>4</th>\n",
       "      <td>6.737198e+06</td>\n",
       "      <td>2379</td>\n",
       "      <td>4800000</td>\n",
       "    </tr>\n",
       "    <tr>\n",
       "      <th>9</th>\n",
       "      <td>6.825470e+06</td>\n",
       "      <td>1981</td>\n",
       "      <td>4700000</td>\n",
       "    </tr>\n",
       "    <tr>\n",
       "      <th>11</th>\n",
       "      <td>6.461363e+06</td>\n",
       "      <td>2371</td>\n",
       "      <td>4700000</td>\n",
       "    </tr>\n",
       "    <tr>\n",
       "      <th>12</th>\n",
       "      <td>7.011731e+06</td>\n",
       "      <td>1641</td>\n",
       "      <td>4700000</td>\n",
       "    </tr>\n",
       "    <tr>\n",
       "      <th>2</th>\n",
       "      <td>6.468500e+06</td>\n",
       "      <td>2640</td>\n",
       "      <td>4650000</td>\n",
       "    </tr>\n",
       "    <tr>\n",
       "      <th>3</th>\n",
       "      <td>6.359275e+06</td>\n",
       "      <td>2587</td>\n",
       "      <td>4650000</td>\n",
       "    </tr>\n",
       "    <tr>\n",
       "      <th>7</th>\n",
       "      <td>6.649337e+06</td>\n",
       "      <td>1695</td>\n",
       "      <td>4650000</td>\n",
       "    </tr>\n",
       "    <tr>\n",
       "      <th>1</th>\n",
       "      <td>6.668233e+06</td>\n",
       "      <td>1500</td>\n",
       "      <td>4600000</td>\n",
       "    </tr>\n",
       "    <tr>\n",
       "      <th>8</th>\n",
       "      <td>6.350233e+06</td>\n",
       "      <td>1744</td>\n",
       "      <td>4570000</td>\n",
       "    </tr>\n",
       "    <tr>\n",
       "      <th>10</th>\n",
       "      <td>6.235013e+06</td>\n",
       "      <td>2127</td>\n",
       "      <td>4570000</td>\n",
       "    </tr>\n",
       "    <tr>\n",
       "      <th>5</th>\n",
       "      <td>6.600435e+06</td>\n",
       "      <td>1274</td>\n",
       "      <td>4515000</td>\n",
       "    </tr>\n",
       "    <tr>\n",
       "      <th>6</th>\n",
       "      <td>6.310269e+06</td>\n",
       "      <td>1760</td>\n",
       "      <td>4400000</td>\n",
       "    </tr>\n",
       "  </tbody>\n",
       "</table>\n",
       "</div>"
      ],
      "text/plain": [
       "                          mean  count   median\n",
       "month_exposition                              \n",
       "4                 6.737198e+06   2379  4800000\n",
       "9                 6.825470e+06   1981  4700000\n",
       "11                6.461363e+06   2371  4700000\n",
       "12                7.011731e+06   1641  4700000\n",
       "2                 6.468500e+06   2640  4650000\n",
       "3                 6.359275e+06   2587  4650000\n",
       "7                 6.649337e+06   1695  4650000\n",
       "1                 6.668233e+06   1500  4600000\n",
       "8                 6.350233e+06   1744  4570000\n",
       "10                6.235013e+06   2127  4570000\n",
       "5                 6.600435e+06   1274  4515000\n",
       "6                 6.310269e+06   1760  4400000"
      ]
     },
     "execution_count": 39,
     "metadata": {},
     "output_type": "execute_result"
    },
    {
     "data": {
      "image/png": "[encoded data removed]",
      "text/plain": [
       "<Figure size 432x288 with 1 Axes>"
      ]
     },
     "metadata": {
      "needs_background": "light"
     },
     "output_type": "display_data"
    }
   ],
   "source": [
    "pivot_table_month_exposition = df.pivot_table(index = 'month_exposition', values = 'last_price', aggfunc = ['mean', 'count', 'median'])\n",
    "pivot_table_month_exposition.columns = ['mean', 'count', 'median']\n",
    "pivot_table_month_exposition.plot(y = 'median'/)\n",
    "\n",
    "pivot_table_month_exposition.sort_values('median', ascending = False)"
   ]
  },
  {
   "cell_type": "markdown",
   "metadata": {},
   "source": [
    "**Вывод:** самая высокая стоимость в апреле и августе. Самая низкая стоимость в мае и июне. На рынке недвижимости, как и во многих других сферах присутствует сезонность - в начале лета мы видим наименьшее предложение как по количеству, так и по стоимости недвижимости. Наверное, это связано с отпусками."
   ]
  },
  {
   "cell_type": "markdown",
   "metadata": {},
   "source": [
    "6. Изучим зависимость конечной цены от даты размещения: года."
   ]
  },
  {
   "cell_type": "code",
   "execution_count": 40,
   "metadata": {},
   "outputs": [
    {
     "data": {
      "text/html": [
       "<div>\n",
       "<style scoped>\n",
       "    .dataframe tbody tr th:only-of-type {\n",
       "        vertical-align: middle;\n",
       "    }\n",
       "\n",
       "    .dataframe tbody tr th {\n",
       "        vertical-align: top;\n",
       "    }\n",
       "\n",
       "    .dataframe thead th {\n",
       "        text-align: right;\n",
       "    }\n",
       "</style>\n",
       "<table border=\"1\" class=\"dataframe\">\n",
       "  <thead>\n",
       "    <tr style=\"text-align: right;\">\n",
       "      <th></th>\n",
       "      <th>mean</th>\n",
       "      <th>count</th>\n",
       "      <th>median</th>\n",
       "    </tr>\n",
       "    <tr>\n",
       "      <th>year_exposition</th>\n",
       "      <th></th>\n",
       "      <th></th>\n",
       "      <th></th>\n",
       "    </tr>\n",
       "  </thead>\n",
       "  <tbody>\n",
       "    <tr>\n",
       "      <th>2014</th>\n",
       "      <td>1.208714e+07</td>\n",
       "      <td>137</td>\n",
       "      <td>7700000</td>\n",
       "    </tr>\n",
       "    <tr>\n",
       "      <th>2015</th>\n",
       "      <td>8.572833e+06</td>\n",
       "      <td>1191</td>\n",
       "      <td>5350000</td>\n",
       "    </tr>\n",
       "    <tr>\n",
       "      <th>2019</th>\n",
       "      <td>6.782388e+06</td>\n",
       "      <td>2879</td>\n",
       "      <td>5050000</td>\n",
       "    </tr>\n",
       "    <tr>\n",
       "      <th>2016</th>\n",
       "      <td>6.827912e+06</td>\n",
       "      <td>2783</td>\n",
       "      <td>4550000</td>\n",
       "    </tr>\n",
       "    <tr>\n",
       "      <th>2018</th>\n",
       "      <td>5.950966e+06</td>\n",
       "      <td>8519</td>\n",
       "      <td>4550000</td>\n",
       "    </tr>\n",
       "    <tr>\n",
       "      <th>2017</th>\n",
       "      <td>6.585729e+06</td>\n",
       "      <td>8190</td>\n",
       "      <td>4500000</td>\n",
       "    </tr>\n",
       "  </tbody>\n",
       "</table>\n",
       "</div>"
      ],
      "text/plain": [
       "                         mean  count   median\n",
       "year_exposition                              \n",
       "2014             1.208714e+07    137  7700000\n",
       "2015             8.572833e+06   1191  5350000\n",
       "2019             6.782388e+06   2879  5050000\n",
       "2016             6.827912e+06   2783  4550000\n",
       "2018             5.950966e+06   8519  4550000\n",
       "2017             6.585729e+06   8190  4500000"
      ]
     },
     "execution_count": 40,
     "metadata": {},
     "output_type": "execute_result"
    },
    {
     "data": {
      "image/png": "[encoded data removed]",
      "text/plain": [
       "<Figure size 432x288 with 1 Axes>"
      ]
     },
     "metadata": {
      "needs_background": "light"
     },
     "output_type": "display_data"
    }
   ],
   "source": [
    "pivot_table_year_exposition = df.pivot_table(index = 'year_exposition', values = 'last_price', aggfunc = ['mean', 'count', 'median'])\n",
    "pivot_table_year_exposition.columns = ['mean', 'count', 'median']\n",
    "pivot_table_year_exposition.plot(y = 'median')\n",
    "\n",
    "pivot_table_year_exposition.sort_values('median', ascending = False)"
   ]
  },
  {
   "cell_type": "markdown",
   "metadata": {},
   "source": [
    "**Вывод:** видим, что с 2014 до 2016 года цена падала, но далее начала увеличиваться."
   ]
  },
  {
   "cell_type": "markdown",
   "metadata": {},
   "source": [
    "**4.5.** Выберем 10 населённых пунктов с наибольшим числом объявлений. Посчитаем среднюю цену квадратного метра в этих населённых пунктах. Выделим населённые пункты с самой высокой и низкой стоимостью жилья. Эти данные можно найти по имени в столбце locality_name."
   ]
  },
  {
   "cell_type": "code",
   "execution_count": 41,
   "metadata": {},
   "outputs": [
    {
     "data": {
      "text/html": [
       "<div>\n",
       "<style scoped>\n",
       "    .dataframe tbody tr th:only-of-type {\n",
       "        vertical-align: middle;\n",
       "    }\n",
       "\n",
       "    .dataframe tbody tr th {\n",
       "        vertical-align: top;\n",
       "    }\n",
       "\n",
       "    .dataframe thead th {\n",
       "        text-align: right;\n",
       "    }\n",
       "</style>\n",
       "<table border=\"1\" class=\"dataframe\">\n",
       "  <thead>\n",
       "    <tr style=\"text-align: right;\">\n",
       "      <th></th>\n",
       "      <th>count</th>\n",
       "      <th>mean</th>\n",
       "    </tr>\n",
       "    <tr>\n",
       "      <th>locality_name</th>\n",
       "      <th></th>\n",
       "      <th></th>\n",
       "    </tr>\n",
       "  </thead>\n",
       "  <tbody>\n",
       "    <tr>\n",
       "      <th>Санкт-Петербург</th>\n",
       "      <td>15721</td>\n",
       "      <td>114848.565231</td>\n",
       "    </tr>\n",
       "    <tr>\n",
       "      <th>посёлок Мурино</th>\n",
       "      <td>522</td>\n",
       "      <td>85751.733716</td>\n",
       "    </tr>\n",
       "    <tr>\n",
       "      <th>посёлок Шушары</th>\n",
       "      <td>440</td>\n",
       "      <td>78676.904545</td>\n",
       "    </tr>\n",
       "    <tr>\n",
       "      <th>Всеволожск</th>\n",
       "      <td>398</td>\n",
       "      <td>68654.007538</td>\n",
       "    </tr>\n",
       "    <tr>\n",
       "      <th>Пушкин</th>\n",
       "      <td>369</td>\n",
       "      <td>103125.373984</td>\n",
       "    </tr>\n",
       "    <tr>\n",
       "      <th>Колпино</th>\n",
       "      <td>338</td>\n",
       "      <td>75424.150888</td>\n",
       "    </tr>\n",
       "    <tr>\n",
       "      <th>посёлок Парголово</th>\n",
       "      <td>327</td>\n",
       "      <td>90175.489297</td>\n",
       "    </tr>\n",
       "    <tr>\n",
       "      <th>Гатчина</th>\n",
       "      <td>307</td>\n",
       "      <td>68745.693811</td>\n",
       "    </tr>\n",
       "    <tr>\n",
       "      <th>деревня Кудрово</th>\n",
       "      <td>299</td>\n",
       "      <td>92473.086957</td>\n",
       "    </tr>\n",
       "    <tr>\n",
       "      <th>Выборг</th>\n",
       "      <td>237</td>\n",
       "      <td>58141.489451</td>\n",
       "    </tr>\n",
       "  </tbody>\n",
       "</table>\n",
       "</div>"
      ],
      "text/plain": [
       "                   count           mean\n",
       "locality_name                          \n",
       "Санкт-Петербург    15721  114848.565231\n",
       "посёлок Мурино       522   85751.733716\n",
       "посёлок Шушары       440   78676.904545\n",
       "Всеволожск           398   68654.007538\n",
       "Пушкин               369  103125.373984\n",
       "Колпино              338   75424.150888\n",
       "посёлок Парголово    327   90175.489297\n",
       "Гатчина              307   68745.693811\n",
       "деревня Кудрово      299   92473.086957\n",
       "Выборг               237   58141.489451"
      ]
     },
     "metadata": {},
     "output_type": "display_data"
    },
    {
     "data": {
      "text/html": [
       "<div>\n",
       "<style scoped>\n",
       "    .dataframe tbody tr th:only-of-type {\n",
       "        vertical-align: middle;\n",
       "    }\n",
       "\n",
       "    .dataframe tbody tr th {\n",
       "        vertical-align: top;\n",
       "    }\n",
       "\n",
       "    .dataframe thead th {\n",
       "        text-align: right;\n",
       "    }\n",
       "</style>\n",
       "<table border=\"1\" class=\"dataframe\">\n",
       "  <thead>\n",
       "    <tr style=\"text-align: right;\">\n",
       "      <th></th>\n",
       "      <th>count</th>\n",
       "      <th>mean</th>\n",
       "    </tr>\n",
       "    <tr>\n",
       "      <th>locality_name</th>\n",
       "      <th></th>\n",
       "      <th></th>\n",
       "    </tr>\n",
       "  </thead>\n",
       "  <tbody>\n",
       "    <tr>\n",
       "      <th>Санкт-Петербург</th>\n",
       "      <td>15721</td>\n",
       "      <td>114848.565231</td>\n",
       "    </tr>\n",
       "  </tbody>\n",
       "</table>\n",
       "</div>"
      ],
      "text/plain": [
       "                 count           mean\n",
       "locality_name                        \n",
       "Санкт-Петербург  15721  114848.565231"
      ]
     },
     "metadata": {},
     "output_type": "display_data"
    },
    {
     "data": {
      "text/html": [
       "<div>\n",
       "<style scoped>\n",
       "    .dataframe tbody tr th:only-of-type {\n",
       "        vertical-align: middle;\n",
       "    }\n",
       "\n",
       "    .dataframe tbody tr th {\n",
       "        vertical-align: top;\n",
       "    }\n",
       "\n",
       "    .dataframe thead th {\n",
       "        text-align: right;\n",
       "    }\n",
       "</style>\n",
       "<table border=\"1\" class=\"dataframe\">\n",
       "  <thead>\n",
       "    <tr style=\"text-align: right;\">\n",
       "      <th></th>\n",
       "      <th>count</th>\n",
       "      <th>mean</th>\n",
       "    </tr>\n",
       "    <tr>\n",
       "      <th>locality_name</th>\n",
       "      <th></th>\n",
       "      <th></th>\n",
       "    </tr>\n",
       "  </thead>\n",
       "  <tbody>\n",
       "    <tr>\n",
       "      <th>Выборг</th>\n",
       "      <td>237</td>\n",
       "      <td>58141.489451</td>\n",
       "    </tr>\n",
       "  </tbody>\n",
       "</table>\n",
       "</div>"
      ],
      "text/plain": [
       "               count          mean\n",
       "locality_name                     \n",
       "Выборг           237  58141.489451"
      ]
     },
     "metadata": {},
     "output_type": "display_data"
    }
   ],
   "source": [
    "locality_pivot_table = df.pivot_table(index = 'locality_name', values = 'price_per_square_meter', aggfunc=['count', 'mean'])\n",
    "locality_pivot_table.columns = ['count', 'mean']\n",
    "locality_pivot_table = locality_pivot_table.sort_values('count', ascending = False).head(10)\n",
    "display(locality_pivot_table)\n",
    "\n",
    "#самая высокая стоимость\n",
    "display(locality_pivot_table[locality_pivot_table['mean']==locality_pivot_table['mean'].max()])\n",
    "\n",
    "#самая низкая стоимость\n",
    "display(locality_pivot_table[locality_pivot_table['mean']==locality_pivot_table['mean'].min()])"
   ]
  },
  {
   "cell_type": "markdown",
   "metadata": {},
   "source": [
    "**Вывод:** Самая высокая стоимость жилья из 10 населённых пунктов с самым большим количеством объявлений в Санкт-Петербурге, тогда как самая низкая стоимость в Выборге."
   ]
  },
  {
   "cell_type": "markdown",
   "metadata": {},
   "source": [
    "**4.6.** Изучим предложения квартир: для каждой квартиры есть информация о расстоянии до центра. Выделим квартиры в Санкт-Петербурге (locality_name). Ваша задача — выяснить, какая область входит в центр. Создайте столбец с расстоянием до центра в километрах: округлим до целых значений. После этого посчитаем среднюю цену для каждого километра. Построем график: он должен показывать, как цена зависит от удалённости от центра. Определим границу, где график сильно меняется, — это и будет центральная зона."
   ]
  },
  {
   "cell_type": "code",
   "execution_count": 42,
   "metadata": {},
   "outputs": [
    {
     "data": {
      "text/html": [
       "<div>\n",
       "<style scoped>\n",
       "    .dataframe tbody tr th:only-of-type {\n",
       "        vertical-align: middle;\n",
       "    }\n",
       "\n",
       "    .dataframe tbody tr th {\n",
       "        vertical-align: top;\n",
       "    }\n",
       "\n",
       "    .dataframe thead th {\n",
       "        text-align: right;\n",
       "    }\n",
       "</style>\n",
       "<table border=\"1\" class=\"dataframe\">\n",
       "  <thead>\n",
       "    <tr style=\"text-align: right;\">\n",
       "      <th></th>\n",
       "      <th>price_per_square_meter</th>\n",
       "    </tr>\n",
       "    <tr>\n",
       "      <th>cityCenters_nearest_km</th>\n",
       "      <th></th>\n",
       "    </tr>\n",
       "  </thead>\n",
       "  <tbody>\n",
       "    <tr>\n",
       "      <th>0</th>\n",
       "      <td>187323.674419</td>\n",
       "    </tr>\n",
       "    <tr>\n",
       "      <th>1</th>\n",
       "      <td>166603.312500</td>\n",
       "    </tr>\n",
       "    <tr>\n",
       "      <th>2</th>\n",
       "      <td>146662.420195</td>\n",
       "    </tr>\n",
       "    <tr>\n",
       "      <th>3</th>\n",
       "      <td>129415.891635</td>\n",
       "    </tr>\n",
       "    <tr>\n",
       "      <th>4</th>\n",
       "      <td>137475.039691</td>\n",
       "    </tr>\n",
       "    <tr>\n",
       "      <th>5</th>\n",
       "      <td>146978.789337</td>\n",
       "    </tr>\n",
       "    <tr>\n",
       "      <th>6</th>\n",
       "      <td>152277.455319</td>\n",
       "    </tr>\n",
       "    <tr>\n",
       "      <th>7</th>\n",
       "      <td>141399.287469</td>\n",
       "    </tr>\n",
       "    <tr>\n",
       "      <th>8</th>\n",
       "      <td>120580.929851</td>\n",
       "    </tr>\n",
       "    <tr>\n",
       "      <th>9</th>\n",
       "      <td>110012.108696</td>\n",
       "    </tr>\n",
       "    <tr>\n",
       "      <th>10</th>\n",
       "      <td>111640.850877</td>\n",
       "    </tr>\n",
       "    <tr>\n",
       "      <th>11</th>\n",
       "      <td>106790.438163</td>\n",
       "    </tr>\n",
       "    <tr>\n",
       "      <th>12</th>\n",
       "      <td>108295.312211</td>\n",
       "    </tr>\n",
       "    <tr>\n",
       "      <th>13</th>\n",
       "      <td>107208.716120</td>\n",
       "    </tr>\n",
       "    <tr>\n",
       "      <th>14</th>\n",
       "      <td>104986.032407</td>\n",
       "    </tr>\n",
       "    <tr>\n",
       "      <th>15</th>\n",
       "      <td>101882.678077</td>\n",
       "    </tr>\n",
       "    <tr>\n",
       "      <th>16</th>\n",
       "      <td>100085.150995</td>\n",
       "    </tr>\n",
       "    <tr>\n",
       "      <th>17</th>\n",
       "      <td>94095.434457</td>\n",
       "    </tr>\n",
       "    <tr>\n",
       "      <th>18</th>\n",
       "      <td>94831.528736</td>\n",
       "    </tr>\n",
       "    <tr>\n",
       "      <th>19</th>\n",
       "      <td>95433.951220</td>\n",
       "    </tr>\n",
       "    <tr>\n",
       "      <th>20</th>\n",
       "      <td>107045.773810</td>\n",
       "    </tr>\n",
       "    <tr>\n",
       "      <th>21</th>\n",
       "      <td>91492.220513</td>\n",
       "    </tr>\n",
       "    <tr>\n",
       "      <th>22</th>\n",
       "      <td>88714.237410</td>\n",
       "    </tr>\n",
       "    <tr>\n",
       "      <th>23</th>\n",
       "      <td>92720.233333</td>\n",
       "    </tr>\n",
       "    <tr>\n",
       "      <th>24</th>\n",
       "      <td>82439.909091</td>\n",
       "    </tr>\n",
       "    <tr>\n",
       "      <th>25</th>\n",
       "      <td>91135.600000</td>\n",
       "    </tr>\n",
       "    <tr>\n",
       "      <th>26</th>\n",
       "      <td>75171.333333</td>\n",
       "    </tr>\n",
       "    <tr>\n",
       "      <th>27</th>\n",
       "      <td>132115.000000</td>\n",
       "    </tr>\n",
       "    <tr>\n",
       "      <th>28</th>\n",
       "      <td>81840.200000</td>\n",
       "    </tr>\n",
       "    <tr>\n",
       "      <th>29</th>\n",
       "      <td>62481.666667</td>\n",
       "    </tr>\n",
       "  </tbody>\n",
       "</table>\n",
       "</div>"
      ],
      "text/plain": [
       "                        price_per_square_meter\n",
       "cityCenters_nearest_km                        \n",
       "0                                187323.674419\n",
       "1                                166603.312500\n",
       "2                                146662.420195\n",
       "3                                129415.891635\n",
       "4                                137475.039691\n",
       "5                                146978.789337\n",
       "6                                152277.455319\n",
       "7                                141399.287469\n",
       "8                                120580.929851\n",
       "9                                110012.108696\n",
       "10                               111640.850877\n",
       "11                               106790.438163\n",
       "12                               108295.312211\n",
       "13                               107208.716120\n",
       "14                               104986.032407\n",
       "15                               101882.678077\n",
       "16                               100085.150995\n",
       "17                                94095.434457\n",
       "18                                94831.528736\n",
       "19                                95433.951220\n",
       "20                               107045.773810\n",
       "21                                91492.220513\n",
       "22                                88714.237410\n",
       "23                                92720.233333\n",
       "24                                82439.909091\n",
       "25                                91135.600000\n",
       "26                                75171.333333\n",
       "27                               132115.000000\n",
       "28                                81840.200000\n",
       "29                                62481.666667"
      ]
     },
     "metadata": {},
     "output_type": "display_data"
    },
    {
     "data": {
      "image/png": "[encoded data removed]",
      "text/plain": [
       "<Figure size 432x288 with 1 Axes>"
      ]
     },
     "metadata": {
      "needs_background": "light"
     },
     "output_type": "display_data"
    }
   ],
   "source": [
    "df['cityCenters_nearest_km'] = df['cityCenters_nearest']/1000\n",
    "df['cityCenters_nearest_km'] = df['cityCenters_nearest_km'].fillna(999999)\n",
    "df['cityCenters_nearest_km'] = df['cityCenters_nearest_km'].astype('int')\n",
    "pivot_table_km = df.query('locality_name == \"Санкт-Петербург\" and cityCenters_nearest_km !=999999').pivot_table(index = 'cityCenters_nearest_km', values = 'price_per_square_meter', aggfunc = 'mean')\n",
    "pivot_table_km.plot()\n",
    "display(pivot_table_km)"
   ]
  },
  {
   "cell_type": "markdown",
   "metadata": {},
   "source": [
    "**Вывод:** Судя по графику центр находится в радиусе 7 километров."
   ]
  },
  {
   "cell_type": "markdown",
   "metadata": {},
   "source": [
    "**4.7.** Выделим сегмент квартир в центре. Проанализируем эту территорию и изучим следующие параметры: площадь, цена, число комнат, высота потолков. Также выделим факторы, которые влияют на стоимость квартиры (число комнат, этаж, удалённость от центра, дата размещения объявления). Сделаем выводы. Отличаются ли они от общих выводов по всей базе?\n",
    "\n",
    "1. Зависимость стоимости конечной от количества комнат."
   ]
  },
  {
   "cell_type": "code",
   "execution_count": 43,
   "metadata": {},
   "outputs": [
    {
     "data": {
      "text/plain": [
       "0.3333422899982652"
      ]
     },
     "execution_count": 43,
     "metadata": {},
     "output_type": "execute_result"
    },
    {
     "data": {
      "image/png": "[encoded data removed]",
      "text/plain": [
       "<Figure size 432x288 with 1 Axes>"
      ]
     },
     "metadata": {
      "needs_background": "light"
     },
     "output_type": "display_data"
    }
   ],
   "source": [
    "center_spb_df = df.query('cityCenters_nearest_km <= 7 and locality_name == \"Санкт-Петербург\"')\n",
    "\n",
    "center_spb_rooms = center_spb_df.pivot_table(index = 'rooms', values = 'last_price', aggfunc = ['mean', 'count', 'median'])\n",
    "center_spb_rooms.columns = ['mean', 'count', 'median']\n",
    "center_spb_rooms.query('count > 50').plot(y = 'median')\n",
    "\n",
    "center_spb_rooms.query('count > 50').sort_values('median', ascending = False)\n",
    "\n",
    "center_spb_df['rooms'].corr(center_spb_df['last_price'])\n",
    "\n"
   ]
  },
  {
   "cell_type": "markdown",
   "metadata": {},
   "source": [
    "**Вывод:** Чем больше комнат тем дороже конечная цена."
   ]
  },
  {
   "cell_type": "markdown",
   "metadata": {},
   "source": [
    "2. Зависимость стоимости от этажа."
   ]
  },
  {
   "cell_type": "code",
   "execution_count": 44,
   "metadata": {},
   "outputs": [
    {
     "data": {
      "text/html": [
       "<div>\n",
       "<style scoped>\n",
       "    .dataframe tbody tr th:only-of-type {\n",
       "        vertical-align: middle;\n",
       "    }\n",
       "\n",
       "    .dataframe tbody tr th {\n",
       "        vertical-align: top;\n",
       "    }\n",
       "\n",
       "    .dataframe thead th {\n",
       "        text-align: right;\n",
       "    }\n",
       "</style>\n",
       "<table border=\"1\" class=\"dataframe\">\n",
       "  <thead>\n",
       "    <tr style=\"text-align: right;\">\n",
       "      <th></th>\n",
       "      <th>mean</th>\n",
       "      <th>count</th>\n",
       "      <th>median</th>\n",
       "    </tr>\n",
       "    <tr>\n",
       "      <th>floor_category</th>\n",
       "      <th></th>\n",
       "      <th></th>\n",
       "      <th></th>\n",
       "    </tr>\n",
       "  </thead>\n",
       "  <tbody>\n",
       "    <tr>\n",
       "      <th>другой</th>\n",
       "      <td>1.456834e+07</td>\n",
       "      <td>2646</td>\n",
       "      <td>9500000</td>\n",
       "    </tr>\n",
       "    <tr>\n",
       "      <th>первый</th>\n",
       "      <td>9.167233e+06</td>\n",
       "      <td>407</td>\n",
       "      <td>6550000</td>\n",
       "    </tr>\n",
       "    <tr>\n",
       "      <th>последний</th>\n",
       "      <td>1.881441e+07</td>\n",
       "      <td>652</td>\n",
       "      <td>9175000</td>\n",
       "    </tr>\n",
       "  </tbody>\n",
       "</table>\n",
       "</div>"
      ],
      "text/plain": [
       "                        mean  count   median\n",
       "floor_category                              \n",
       "другой          1.456834e+07   2646  9500000\n",
       "первый          9.167233e+06    407  6550000\n",
       "последний       1.881441e+07    652  9175000"
      ]
     },
     "metadata": {},
     "output_type": "display_data"
    },
    {
     "data": {
      "image/png": "[encoded data removed]",
      "text/plain": [
       "<Figure size 432x288 with 1 Axes>"
      ]
     },
     "metadata": {
      "needs_background": "light"
     },
     "output_type": "display_data"
    }
   ],
   "source": [
    "center_spb_floor_category = center_spb_df.pivot_table(index = 'floor_category', values = 'last_price', aggfunc = ['mean', 'count', 'median'])\n",
    "center_spb_floor_category.columns = ['mean', 'count', 'median']\n",
    "center_spb_floor_category.plot(y = 'median')\n",
    "display(center_spb_floor_category)"
   ]
  },
  {
   "cell_type": "markdown",
   "metadata": {},
   "source": [
    "**Вывод:** Нет особых отличий от всей выборки квартир. Квартиры на первом этаже в среднем дешевле, чем на последнем."
   ]
  },
  {
   "cell_type": "markdown",
   "metadata": {},
   "source": [
    "3. Зависимость стоимости от удаленности от центра."
   ]
  },
  {
   "cell_type": "code",
   "execution_count": 45,
   "metadata": {},
   "outputs": [
    {
     "data": {
      "text/plain": [
       "-0.048304000474881564"
      ]
     },
     "execution_count": 45,
     "metadata": {},
     "output_type": "execute_result"
    },
    {
     "data": {
      "image/png": "[encoded data removed]",
      "text/plain": [
       "<Figure size 432x288 with 1 Axes>"
      ]
     },
     "metadata": {
      "needs_background": "light"
     },
     "output_type": "display_data"
    }
   ],
   "source": [
    "center_spb_df.plot(kind = 'scatter', y = 'last_price', x = 'cityCenters_nearest', alpha = 0.3)\n",
    "\n",
    "center_spb_df['cityCenters_nearest'].corr(center_spb_df['last_price'])"
   ]
  },
  {
   "cell_type": "markdown",
   "metadata": {},
   "source": [
    "**Вывод:** Четкой зависимости нет, так как у нас уже сделана выборка по центру города."
   ]
  },
  {
   "cell_type": "markdown",
   "metadata": {},
   "source": [
    "4. Зависимость стоимости от дня недели размещения объявления."
   ]
  },
  {
   "cell_type": "code",
   "execution_count": 46,
   "metadata": {},
   "outputs": [
    {
     "data": {
      "text/html": [
       "<div>\n",
       "<style scoped>\n",
       "    .dataframe tbody tr th:only-of-type {\n",
       "        vertical-align: middle;\n",
       "    }\n",
       "\n",
       "    .dataframe tbody tr th {\n",
       "        vertical-align: top;\n",
       "    }\n",
       "\n",
       "    .dataframe thead th {\n",
       "        text-align: right;\n",
       "    }\n",
       "</style>\n",
       "<table border=\"1\" class=\"dataframe\">\n",
       "  <thead>\n",
       "    <tr style=\"text-align: right;\">\n",
       "      <th></th>\n",
       "      <th>mean</th>\n",
       "      <th>count</th>\n",
       "      <th>median</th>\n",
       "    </tr>\n",
       "    <tr>\n",
       "      <th>weekday_exposition</th>\n",
       "      <th></th>\n",
       "      <th></th>\n",
       "      <th></th>\n",
       "    </tr>\n",
       "  </thead>\n",
       "  <tbody>\n",
       "    <tr>\n",
       "      <th>0</th>\n",
       "      <td>1.444047e+07</td>\n",
       "      <td>560</td>\n",
       "      <td>9325000</td>\n",
       "    </tr>\n",
       "    <tr>\n",
       "      <th>3</th>\n",
       "      <td>1.434801e+07</td>\n",
       "      <td>763</td>\n",
       "      <td>9250000</td>\n",
       "    </tr>\n",
       "    <tr>\n",
       "      <th>6</th>\n",
       "      <td>1.503329e+07</td>\n",
       "      <td>210</td>\n",
       "      <td>9200000</td>\n",
       "    </tr>\n",
       "    <tr>\n",
       "      <th>2</th>\n",
       "      <td>1.475535e+07</td>\n",
       "      <td>637</td>\n",
       "      <td>9190000</td>\n",
       "    </tr>\n",
       "    <tr>\n",
       "      <th>1</th>\n",
       "      <td>1.394717e+07</td>\n",
       "      <td>631</td>\n",
       "      <td>9000000</td>\n",
       "    </tr>\n",
       "    <tr>\n",
       "      <th>4</th>\n",
       "      <td>1.423913e+07</td>\n",
       "      <td>629</td>\n",
       "      <td>8990000</td>\n",
       "    </tr>\n",
       "    <tr>\n",
       "      <th>5</th>\n",
       "      <td>1.889688e+07</td>\n",
       "      <td>282</td>\n",
       "      <td>8525000</td>\n",
       "    </tr>\n",
       "  </tbody>\n",
       "</table>\n",
       "</div>"
      ],
      "text/plain": [
       "                            mean  count   median\n",
       "weekday_exposition                              \n",
       "0                   1.444047e+07    560  9325000\n",
       "3                   1.434801e+07    763  9250000\n",
       "6                   1.503329e+07    210  9200000\n",
       "2                   1.475535e+07    637  9190000\n",
       "1                   1.394717e+07    631  9000000\n",
       "4                   1.423913e+07    629  8990000\n",
       "5                   1.889688e+07    282  8525000"
      ]
     },
     "execution_count": 46,
     "metadata": {},
     "output_type": "execute_result"
    },
    {
     "data": {
      "image/png": "[encoded data removed]",
      "text/plain": [
       "<Figure size 432x288 with 1 Axes>"
      ]
     },
     "metadata": {
      "needs_background": "light"
     },
     "output_type": "display_data"
    }
   ],
   "source": [
    "center_spb_weekday_exposition = center_spb_df.pivot_table(index = 'weekday_exposition', values = 'last_price', aggfunc = ['mean', 'count', 'median'])\n",
    "center_spb_weekday_exposition.columns = ['mean', 'count', 'median']\n",
    "center_spb_weekday_exposition.plot(y = 'median')\n",
    "\n",
    "center_spb_weekday_exposition.sort_values('median', ascending = False)"
   ]
  },
  {
   "cell_type": "markdown",
   "metadata": {},
   "source": [
    "**Вывод:** Ситуация отличается от всей выборки, минимальные средние пятница и четверг, самые высокие - в понедельник, четверг и воскресенье."
   ]
  },
  {
   "cell_type": "markdown",
   "metadata": {},
   "source": [
    "5. Зависимость стоимости от месяца размещения объявления."
   ]
  },
  {
   "cell_type": "code",
   "execution_count": 47,
   "metadata": {},
   "outputs": [
    {
     "data": {
      "text/html": [
       "<div>\n",
       "<style scoped>\n",
       "    .dataframe tbody tr th:only-of-type {\n",
       "        vertical-align: middle;\n",
       "    }\n",
       "\n",
       "    .dataframe tbody tr th {\n",
       "        vertical-align: top;\n",
       "    }\n",
       "\n",
       "    .dataframe thead th {\n",
       "        text-align: right;\n",
       "    }\n",
       "</style>\n",
       "<table border=\"1\" class=\"dataframe\">\n",
       "  <thead>\n",
       "    <tr style=\"text-align: right;\">\n",
       "      <th></th>\n",
       "      <th>mean</th>\n",
       "      <th>count</th>\n",
       "      <th>median</th>\n",
       "    </tr>\n",
       "    <tr>\n",
       "      <th>month_exposition</th>\n",
       "      <th></th>\n",
       "      <th></th>\n",
       "      <th></th>\n",
       "    </tr>\n",
       "  </thead>\n",
       "  <tbody>\n",
       "    <tr>\n",
       "      <th>1</th>\n",
       "      <td>1.574588e+07</td>\n",
       "      <td>226</td>\n",
       "      <td>9900000</td>\n",
       "    </tr>\n",
       "    <tr>\n",
       "      <th>2</th>\n",
       "      <td>1.482058e+07</td>\n",
       "      <td>406</td>\n",
       "      <td>9500000</td>\n",
       "    </tr>\n",
       "    <tr>\n",
       "      <th>3</th>\n",
       "      <td>1.443425e+07</td>\n",
       "      <td>395</td>\n",
       "      <td>9400000</td>\n",
       "    </tr>\n",
       "    <tr>\n",
       "      <th>9</th>\n",
       "      <td>1.544356e+07</td>\n",
       "      <td>323</td>\n",
       "      <td>9400000</td>\n",
       "    </tr>\n",
       "    <tr>\n",
       "      <th>11</th>\n",
       "      <td>1.383857e+07</td>\n",
       "      <td>373</td>\n",
       "      <td>9300000</td>\n",
       "    </tr>\n",
       "    <tr>\n",
       "      <th>7</th>\n",
       "      <td>1.486899e+07</td>\n",
       "      <td>288</td>\n",
       "      <td>9040000</td>\n",
       "    </tr>\n",
       "    <tr>\n",
       "      <th>8</th>\n",
       "      <td>1.363078e+07</td>\n",
       "      <td>273</td>\n",
       "      <td>8900000</td>\n",
       "    </tr>\n",
       "    <tr>\n",
       "      <th>4</th>\n",
       "      <td>1.588917e+07</td>\n",
       "      <td>350</td>\n",
       "      <td>8875000</td>\n",
       "    </tr>\n",
       "    <tr>\n",
       "      <th>5</th>\n",
       "      <td>1.439314e+07</td>\n",
       "      <td>208</td>\n",
       "      <td>8825000</td>\n",
       "    </tr>\n",
       "    <tr>\n",
       "      <th>6</th>\n",
       "      <td>1.418999e+07</td>\n",
       "      <td>303</td>\n",
       "      <td>8820000</td>\n",
       "    </tr>\n",
       "    <tr>\n",
       "      <th>10</th>\n",
       "      <td>1.305548e+07</td>\n",
       "      <td>311</td>\n",
       "      <td>8641044</td>\n",
       "    </tr>\n",
       "    <tr>\n",
       "      <th>12</th>\n",
       "      <td>1.691699e+07</td>\n",
       "      <td>256</td>\n",
       "      <td>8500000</td>\n",
       "    </tr>\n",
       "  </tbody>\n",
       "</table>\n",
       "</div>"
      ],
      "text/plain": [
       "                          mean  count   median\n",
       "month_exposition                              \n",
       "1                 1.574588e+07    226  9900000\n",
       "2                 1.482058e+07    406  9500000\n",
       "3                 1.443425e+07    395  9400000\n",
       "9                 1.544356e+07    323  9400000\n",
       "11                1.383857e+07    373  9300000\n",
       "7                 1.486899e+07    288  9040000\n",
       "8                 1.363078e+07    273  8900000\n",
       "4                 1.588917e+07    350  8875000\n",
       "5                 1.439314e+07    208  8825000\n",
       "6                 1.418999e+07    303  8820000\n",
       "10                1.305548e+07    311  8641044\n",
       "12                1.691699e+07    256  8500000"
      ]
     },
     "execution_count": 47,
     "metadata": {},
     "output_type": "execute_result"
    },
    {
     "data": {
      "image/png": "[encoded data removed]",
      "text/plain": [
       "<Figure size 432x288 with 1 Axes>"
      ]
     },
     "metadata": {
      "needs_background": "light"
     },
     "output_type": "display_data"
    }
   ],
   "source": [
    "center_spb_month_exposition = center_spb_df.pivot_table(index = 'month_exposition', values = 'last_price', aggfunc = ['mean', 'count', 'median'])\n",
    "center_spb_month_exposition.columns = ['mean', 'count', 'median']\n",
    "center_spb_month_exposition.plot(y = 'median')\n",
    "\n",
    "center_spb_month_exposition.sort_values('median', ascending = False)"
   ]
  },
  {
   "cell_type": "markdown",
   "metadata": {},
   "source": [
    "**Вывод:** Дороже всего конечная стоимость в январе, феврале. Дешевле в октябре, декабре"
   ]
  },
  {
   "cell_type": "markdown",
   "metadata": {},
   "source": [
    "6. Зависимость стоимости от года размещения объявления."
   ]
  },
  {
   "cell_type": "code",
   "execution_count": 48,
   "metadata": {},
   "outputs": [
    {
     "data": {
      "text/html": [
       "<div>\n",
       "<style scoped>\n",
       "    .dataframe tbody tr th:only-of-type {\n",
       "        vertical-align: middle;\n",
       "    }\n",
       "\n",
       "    .dataframe tbody tr th {\n",
       "        vertical-align: top;\n",
       "    }\n",
       "\n",
       "    .dataframe thead th {\n",
       "        text-align: right;\n",
       "    }\n",
       "</style>\n",
       "<table border=\"1\" class=\"dataframe\">\n",
       "  <thead>\n",
       "    <tr style=\"text-align: right;\">\n",
       "      <th></th>\n",
       "      <th>mean</th>\n",
       "      <th>count</th>\n",
       "      <th>median</th>\n",
       "    </tr>\n",
       "    <tr>\n",
       "      <th>year_exposition</th>\n",
       "      <th></th>\n",
       "      <th></th>\n",
       "      <th></th>\n",
       "    </tr>\n",
       "  </thead>\n",
       "  <tbody>\n",
       "    <tr>\n",
       "      <th>2015</th>\n",
       "      <td>1.688356e+07</td>\n",
       "      <td>328</td>\n",
       "      <td>9995000</td>\n",
       "    </tr>\n",
       "    <tr>\n",
       "      <th>2019</th>\n",
       "      <td>1.521953e+07</td>\n",
       "      <td>401</td>\n",
       "      <td>9476000</td>\n",
       "    </tr>\n",
       "    <tr>\n",
       "      <th>2016</th>\n",
       "      <td>1.531084e+07</td>\n",
       "      <td>522</td>\n",
       "      <td>9400000</td>\n",
       "    </tr>\n",
       "    <tr>\n",
       "      <th>2017</th>\n",
       "      <td>1.527439e+07</td>\n",
       "      <td>1331</td>\n",
       "      <td>8990000</td>\n",
       "    </tr>\n",
       "    <tr>\n",
       "      <th>2018</th>\n",
       "      <td>1.271018e+07</td>\n",
       "      <td>1103</td>\n",
       "      <td>8750000</td>\n",
       "    </tr>\n",
       "  </tbody>\n",
       "</table>\n",
       "</div>"
      ],
      "text/plain": [
       "                         mean  count   median\n",
       "year_exposition                              \n",
       "2015             1.688356e+07    328  9995000\n",
       "2019             1.521953e+07    401  9476000\n",
       "2016             1.531084e+07    522  9400000\n",
       "2017             1.527439e+07   1331  8990000\n",
       "2018             1.271018e+07   1103  8750000"
      ]
     },
     "execution_count": 48,
     "metadata": {},
     "output_type": "execute_result"
    },
    {
     "data": {
      "image/png": "[encoded data removed]",
      "text/plain": [
       "<Figure size 432x288 with 1 Axes>"
      ]
     },
     "metadata": {
      "needs_background": "light"
     },
     "output_type": "display_data"
    }
   ],
   "source": [
    "center_spb_year_exposition = center_spb_df.pivot_table(index = 'year_exposition', values = 'last_price', aggfunc = ['mean', 'count', 'median'])\n",
    "center_spb_year_exposition.columns = ['mean', 'count', 'median']\n",
    "center_spb_year_exposition.query('count > 50').plot(y = 'median')\n",
    "\n",
    "center_spb_year_exposition.query('count > 50').sort_values('median', ascending = False)"
   ]
  },
  {
   "cell_type": "markdown",
   "metadata": {},
   "source": [
    "**Вывод:** Цены на недвижимость в центре СПБ планомерно снижались с 2015 по 2018, но потом начался резкий рост."
   ]
  },
  {
   "cell_type": "markdown",
   "metadata": {},
   "source": [
    "## Общий вывод"
   ]
  },
  {
   "cell_type": "markdown",
   "metadata": {},
   "source": [
    "В первом шаге мы открыли файл с данными и сохранили его в переменную df. Также предварительно ознакомились с содержимым датафрейма, колличеством и форматом данных в нем. Далее приступили к предобработке данных. В датафрейме требовалось заменить некоторые очеведные пропуски которые наверняка присутствовали из-за того что пользователи не заполняли некоторую информацию в своих обьявлениях. Ярким примером служит столбец содержащий значения указывающие на наличие балконов в квартире, для отсутствующих значений в таком столбце мы установили чилсо 0. Также посчитали и добавили в таблицу цену квадратного метра жилья, добавили категории по этажам квартир и вывели из даты дни недели, месяцы и года размещения объявлений. Еще в процессе предобработки мы выявили выбивающиеся значения в столбцах площадь, цена, число комнат, высота потолков. Изучая время продажи квартир мы выявили, что большое количество объявлений было автоматически снято с Яндекс Недвижимость и дату из снятия нельзя считать датой продажи квартиры, поэтому, изучая средние сроки продажи квартир - данные значения не учитывались. Мы выявили при помощи диаграммы размаха, что нормальные значения продажи квартир варьируются от 1 до 600 дней. Мы выявили, что на конечную стоимость квартиры больше всего влияют количество комнат, этаж квартиры, близость к центру. Также значительно на конечную стоимость влияют день, месяц, год размещения и общая площадь."
   ]
  },
  {
   "cell_type": "markdown",
   "metadata": {},
   "source": [
    "## Чек-лист готовности проекта\n",
    "\n",
    "Поставьте 'x' в выполненных пунктах. Далее нажмите Shift+Enter."
   ]
  },
  {
   "cell_type": "markdown",
   "metadata": {},
   "source": [
    "- [x]  открыт файл\n",
    "- [x]  файлы изучены (выведены первые строки, метод `info()`)\n",
    "- [x]  определены пропущенные значения\n",
    "- [x]  заполнены пропущенные значения\n",
    "- [x]  есть пояснение, какие пропущенные значения обнаружены\n",
    "- [x]  изменены типы данных\n",
    "- [x]  есть пояснение, в каких столбцах изменены типы и почему\n",
    "- [x]  посчитано и добавлено в таблицу: цена квадратного метра\n",
    "- [x]  посчитано и добавлено в таблицу: день недели, месяц и год публикации объявления\n",
    "- [x]  посчитано и добавлено в таблицу: этаж квартиры; варианты — первый, последний, другой\n",
    "- [x]  посчитано и добавлено в таблицу: соотношение жилой и общей площади, а также отношение площади кухни к общей\n",
    "- [x]  изучены следующие параметры: площадь, цена, число комнат, высота потолков\n",
    "- [x]  построены гистограммы для каждого параметра\n",
    "- [x]  выполнено задание: «Изучите время продажи квартиры. Постройте гистограмму. Посчитайте среднее и медиану. Опишите, сколько обычно занимает продажа. Когда можно считать, что продажи прошли очень быстро, а когда необычно долго?»\n",
    "- [x]  выполнено задание: «Уберите редкие и выбивающиеся значения. Опишите, какие особенности обнаружили».\n",
    "- [x]  выполнено задание: «Какие факторы больше всего влияют на стоимость квартиры? Изучите, зависит ли цена от квадратного метра, числа комнат, этажа (первого или последнего), удалённости от центра. Также изучите зависимость от даты размещения: дня недели, месяца и года». \n",
    "- [x]  выполнено задание: «Выберите 10 населённых пунктов с наибольшим числом объявлений. Посчитайте среднюю цену квадратного метра в этих населённых пунктах. Выделите населённые пункты с самой высокой и низкой стоимостью жилья. Эти данные можно найти по имени в столбце `locality_name`».\n",
    "- [x]  выполнено задание: «Изучите предложения квартир: для каждой квартиры есть информация о расстоянии до центра. Выделите квартиры в Санкт-Петербурге (`locality_name`). Ваша задача — выяснить, какая область входит в центр. Создайте столбец с расстоянием до центра в километрах: округлите до целых значений. После этого посчитайте среднюю цену для каждого километра. Постройте график: он должен показывать, как цена зависит от удалённости от центра. Определите границу, где график сильно меняется — это и будет центральная зона».\n",
    "- [x]  выполнено задание: «Выделите сегмент квартир в центре. Проанализируйте эту территорию и изучите следующие параметры: площадь, цена, число комнат, высота потолков. Также выделите факторы, которые влияют на стоимость квартиры (число комнат, этаж, удалённость от центра, дата размещения объявления). Сделайте выводы. Отличаются ли они от общих выводов по всей базе?»\n",
    "- [x]  в каждом этапе есть выводы\n",
    "- [x]  есть общий вывод"
   ]
  }
 ],
 "metadata": {
  "ExecuteTimeLog": [
   {
    "duration": 1094,
    "start_time": "2022-05-24T05:28:36.895Z"
   },
   {
    "duration": 96,
    "start_time": "2022-05-24T05:32:13.265Z"
   },
   {
    "duration": 95,
    "start_time": "2022-05-24T05:32:30.696Z"
   },
   {
    "duration": 92,
    "start_time": "2022-05-24T05:32:36.462Z"
   },
   {
    "duration": 105,
    "start_time": "2022-05-24T05:32:46.700Z"
   },
   {
    "duration": 91,
    "start_time": "2022-05-24T05:32:57.197Z"
   },
   {
    "duration": 93,
    "start_time": "2022-05-24T06:06:04.658Z"
   },
   {
    "duration": 156,
    "start_time": "2022-05-24T06:08:25.095Z"
   },
   {
    "duration": 58,
    "start_time": "2022-05-26T08:33:53.346Z"
   },
   {
    "duration": 8,
    "start_time": "2022-05-26T08:33:58.665Z"
   },
   {
    "duration": 6,
    "start_time": "2022-05-26T08:34:09.909Z"
   },
   {
    "duration": 8,
    "start_time": "2022-05-26T08:34:12.001Z"
   },
   {
    "duration": 1058,
    "start_time": "2022-05-26T08:34:19.601Z"
   },
   {
    "duration": 15,
    "start_time": "2022-05-26T08:34:22.521Z"
   },
   {
    "duration": 31,
    "start_time": "2022-05-26T08:37:24.259Z"
   },
   {
    "duration": 18,
    "start_time": "2022-05-26T08:37:40.675Z"
   },
   {
    "duration": 19,
    "start_time": "2022-05-26T08:39:37.968Z"
   },
   {
    "duration": 16,
    "start_time": "2022-05-26T08:39:40.671Z"
   },
   {
    "duration": 138,
    "start_time": "2022-05-26T08:39:44.764Z"
   },
   {
    "duration": 18,
    "start_time": "2022-05-26T08:39:46.765Z"
   },
   {
    "duration": 28,
    "start_time": "2022-05-26T08:46:09.942Z"
   },
   {
    "duration": 24,
    "start_time": "2022-05-26T08:46:43.544Z"
   },
   {
    "duration": 18,
    "start_time": "2022-05-26T08:47:05.740Z"
   },
   {
    "duration": 22,
    "start_time": "2022-05-26T08:48:10.249Z"
   },
   {
    "duration": 24,
    "start_time": "2022-05-26T08:48:17.484Z"
   },
   {
    "duration": 27,
    "start_time": "2022-05-26T08:48:50.069Z"
   },
   {
    "duration": 28,
    "start_time": "2022-05-26T08:49:12.268Z"
   },
   {
    "duration": 121,
    "start_time": "2022-05-26T08:55:17.939Z"
   },
   {
    "duration": 33,
    "start_time": "2022-05-26T09:02:41.723Z"
   },
   {
    "duration": 44,
    "start_time": "2022-05-26T09:03:00.326Z"
   },
   {
    "duration": 159,
    "start_time": "2022-05-26T09:03:04.718Z"
   },
   {
    "duration": 30,
    "start_time": "2022-05-26T09:03:06.147Z"
   },
   {
    "duration": 27,
    "start_time": "2022-05-26T09:03:53.472Z"
   },
   {
    "duration": 26,
    "start_time": "2022-05-26T09:05:06.282Z"
   },
   {
    "duration": 28,
    "start_time": "2022-05-26T09:05:13.471Z"
   },
   {
    "duration": 44,
    "start_time": "2022-05-26T09:05:33.403Z"
   },
   {
    "duration": 28,
    "start_time": "2022-05-26T09:05:41.095Z"
   },
   {
    "duration": 27,
    "start_time": "2022-05-26T09:06:16.685Z"
   },
   {
    "duration": 29,
    "start_time": "2022-05-26T09:07:04.681Z"
   },
   {
    "duration": 58,
    "start_time": "2022-05-26T09:12:39.296Z"
   },
   {
    "duration": 152,
    "start_time": "2022-05-26T09:12:49.080Z"
   },
   {
    "duration": 40,
    "start_time": "2022-05-26T09:12:51.347Z"
   },
   {
    "duration": 40,
    "start_time": "2022-05-26T09:13:26.667Z"
   },
   {
    "duration": 138,
    "start_time": "2022-05-26T09:13:34.848Z"
   },
   {
    "duration": 33,
    "start_time": "2022-05-26T09:13:34.988Z"
   },
   {
    "duration": 29,
    "start_time": "2022-05-26T09:14:18.890Z"
   },
   {
    "duration": 143,
    "start_time": "2022-05-26T09:14:48.003Z"
   },
   {
    "duration": 121,
    "start_time": "2022-05-26T09:14:49.988Z"
   },
   {
    "duration": 43,
    "start_time": "2022-05-26T09:14:56.077Z"
   },
   {
    "duration": 40,
    "start_time": "2022-05-26T09:16:36.355Z"
   },
   {
    "duration": 45,
    "start_time": "2022-05-26T10:11:56.665Z"
   },
   {
    "duration": 129,
    "start_time": "2022-05-26T10:13:28.113Z"
   },
   {
    "duration": 67,
    "start_time": "2022-05-26T10:15:24.644Z"
   },
   {
    "duration": 67,
    "start_time": "2022-05-26T10:16:43.640Z"
   },
   {
    "duration": 54,
    "start_time": "2022-05-26T10:17:27.268Z"
   },
   {
    "duration": 64,
    "start_time": "2022-05-26T10:17:40.589Z"
   },
   {
    "duration": 53,
    "start_time": "2022-05-26T10:18:19.360Z"
   },
   {
    "duration": 16,
    "start_time": "2022-05-26T10:21:07.543Z"
   },
   {
    "duration": 391,
    "start_time": "2022-05-26T10:23:12.291Z"
   },
   {
    "duration": 402,
    "start_time": "2022-05-26T10:24:48.666Z"
   },
   {
    "duration": 8,
    "start_time": "2022-05-26T10:25:56.661Z"
   },
   {
    "duration": 295,
    "start_time": "2022-05-26T10:26:05.376Z"
   },
   {
    "duration": 284,
    "start_time": "2022-05-26T10:26:58.193Z"
   },
   {
    "duration": 263,
    "start_time": "2022-05-26T10:27:03.572Z"
   },
   {
    "duration": 341,
    "start_time": "2022-05-26T10:27:12.564Z"
   },
   {
    "duration": 324,
    "start_time": "2022-05-26T10:27:25.618Z"
   },
   {
    "duration": 289,
    "start_time": "2022-05-26T10:28:30.861Z"
   },
   {
    "duration": 963,
    "start_time": "2022-05-26T10:29:05.040Z"
   },
   {
    "duration": 1179,
    "start_time": "2022-05-26T10:30:32.820Z"
   },
   {
    "duration": 137,
    "start_time": "2022-05-26T12:07:50.975Z"
   },
   {
    "duration": 7,
    "start_time": "2022-05-26T12:29:01.367Z"
   },
   {
    "duration": 3,
    "start_time": "2022-05-26T12:29:06.714Z"
   },
   {
    "duration": 7,
    "start_time": "2022-05-26T12:34:01.559Z"
   },
   {
    "duration": 6,
    "start_time": "2022-05-26T12:35:15.275Z"
   },
   {
    "duration": 8,
    "start_time": "2022-05-26T12:35:55.767Z"
   },
   {
    "duration": 9,
    "start_time": "2022-05-26T12:36:14.587Z"
   },
   {
    "duration": 10,
    "start_time": "2022-05-26T12:36:32.661Z"
   },
   {
    "duration": 718,
    "start_time": "2022-05-26T12:38:49.346Z"
   },
   {
    "duration": 9,
    "start_time": "2022-05-26T12:38:53.111Z"
   },
   {
    "duration": 10,
    "start_time": "2022-05-26T12:39:50.459Z"
   },
   {
    "duration": 13,
    "start_time": "2022-05-26T12:40:58.350Z"
   },
   {
    "duration": 1163,
    "start_time": "2022-05-26T12:41:19.148Z"
   },
   {
    "duration": 288,
    "start_time": "2022-05-26T12:41:30.012Z"
   },
   {
    "duration": 13,
    "start_time": "2022-05-26T12:41:31.881Z"
   },
   {
    "duration": 19,
    "start_time": "2022-05-26T12:42:48.037Z"
   },
   {
    "duration": 39,
    "start_time": "2022-05-26T12:43:29.504Z"
   },
   {
    "duration": 17,
    "start_time": "2022-05-26T12:44:28.448Z"
   },
   {
    "duration": 31,
    "start_time": "2022-05-26T12:44:42.442Z"
   },
   {
    "duration": 51,
    "start_time": "2022-05-26T12:47:57.711Z"
   },
   {
    "duration": 30,
    "start_time": "2022-05-26T12:48:34.342Z"
   },
   {
    "duration": 29,
    "start_time": "2022-05-26T12:49:04.748Z"
   },
   {
    "duration": 31,
    "start_time": "2022-05-26T12:49:36.543Z"
   },
   {
    "duration": 131,
    "start_time": "2022-05-26T12:50:00.247Z"
   },
   {
    "duration": 36,
    "start_time": "2022-05-26T12:50:24.638Z"
   },
   {
    "duration": 27,
    "start_time": "2022-05-26T12:50:34.868Z"
   },
   {
    "duration": 34,
    "start_time": "2022-05-26T12:55:25.450Z"
   },
   {
    "duration": 40,
    "start_time": "2022-05-26T12:56:38.751Z"
   },
   {
    "duration": 249,
    "start_time": "2022-05-26T13:00:47.859Z"
   },
   {
    "duration": 265,
    "start_time": "2022-05-26T13:02:58.416Z"
   },
   {
    "duration": 281,
    "start_time": "2022-05-26T13:03:05.046Z"
   },
   {
    "duration": 229,
    "start_time": "2022-05-26T13:03:11.475Z"
   },
   {
    "duration": 292,
    "start_time": "2022-05-26T13:03:18.942Z"
   },
   {
    "duration": 310,
    "start_time": "2022-05-26T13:03:27.598Z"
   },
   {
    "duration": 269,
    "start_time": "2022-05-26T13:03:33.974Z"
   },
   {
    "duration": 296,
    "start_time": "2022-05-26T13:03:43.079Z"
   },
   {
    "duration": 354,
    "start_time": "2022-05-26T13:04:08.140Z"
   },
   {
    "duration": 287,
    "start_time": "2022-05-26T13:05:36.402Z"
   },
   {
    "duration": 303,
    "start_time": "2022-05-26T13:17:42.848Z"
   },
   {
    "duration": 300,
    "start_time": "2022-05-26T13:18:11.498Z"
   },
   {
    "duration": 207,
    "start_time": "2022-05-26T13:18:18.112Z"
   },
   {
    "duration": 280,
    "start_time": "2022-05-26T13:18:18.323Z"
   },
   {
    "duration": 346,
    "start_time": "2022-05-26T13:19:54.941Z"
   },
   {
    "duration": 311,
    "start_time": "2022-05-26T13:19:58.825Z"
   },
   {
    "duration": 1264,
    "start_time": "2022-05-26T13:20:28.076Z"
   },
   {
    "duration": 273,
    "start_time": "2022-05-26T13:20:50.780Z"
   },
   {
    "duration": 352,
    "start_time": "2022-05-26T13:21:20.752Z"
   },
   {
    "duration": 369,
    "start_time": "2022-05-26T13:23:09.206Z"
   },
   {
    "duration": 276,
    "start_time": "2022-05-26T13:23:42.455Z"
   },
   {
    "duration": 263,
    "start_time": "2022-05-26T13:23:51.078Z"
   },
   {
    "duration": 284,
    "start_time": "2022-05-26T13:25:37.011Z"
   },
   {
    "duration": 296,
    "start_time": "2022-05-26T13:26:26.885Z"
   },
   {
    "duration": 273,
    "start_time": "2022-05-26T13:26:34.160Z"
   },
   {
    "duration": 388,
    "start_time": "2022-05-26T13:30:03.983Z"
   },
   {
    "duration": 310,
    "start_time": "2022-05-26T13:30:36.474Z"
   },
   {
    "duration": 245,
    "start_time": "2022-05-26T13:30:51.148Z"
   },
   {
    "duration": 279,
    "start_time": "2022-05-26T13:31:02.576Z"
   },
   {
    "duration": 245,
    "start_time": "2022-05-26T13:40:26.874Z"
   },
   {
    "duration": 404,
    "start_time": "2022-05-26T13:41:01.505Z"
   },
   {
    "duration": 339,
    "start_time": "2022-05-26T13:41:23.510Z"
   },
   {
    "duration": 216,
    "start_time": "2022-05-26T14:14:04.547Z"
   },
   {
    "duration": 294,
    "start_time": "2022-05-26T14:14:32.637Z"
   },
   {
    "duration": 239,
    "start_time": "2022-05-26T14:14:51.424Z"
   },
   {
    "duration": 235,
    "start_time": "2022-05-26T14:15:07.568Z"
   },
   {
    "duration": 293,
    "start_time": "2022-05-26T14:16:34.816Z"
   },
   {
    "duration": 213,
    "start_time": "2022-05-26T14:17:04.305Z"
   },
   {
    "duration": 221,
    "start_time": "2022-05-26T14:17:45.813Z"
   },
   {
    "duration": 208,
    "start_time": "2022-05-26T14:18:03.680Z"
   },
   {
    "duration": 227,
    "start_time": "2022-05-26T14:21:57.308Z"
   },
   {
    "duration": 306,
    "start_time": "2022-05-26T14:23:40.135Z"
   },
   {
    "duration": 243,
    "start_time": "2022-05-26T14:24:08.540Z"
   },
   {
    "duration": 250,
    "start_time": "2022-05-26T14:24:51.946Z"
   },
   {
    "duration": 279,
    "start_time": "2022-05-26T14:25:01.697Z"
   },
   {
    "duration": 294,
    "start_time": "2022-05-26T14:25:25.296Z"
   },
   {
    "duration": 302,
    "start_time": "2022-05-26T14:29:31.913Z"
   },
   {
    "duration": 224,
    "start_time": "2022-05-26T14:29:38.384Z"
   },
   {
    "duration": 222,
    "start_time": "2022-05-26T14:29:47.409Z"
   },
   {
    "duration": 302,
    "start_time": "2022-05-26T14:30:15.601Z"
   },
   {
    "duration": 287,
    "start_time": "2022-05-26T14:30:24.993Z"
   },
   {
    "duration": 256,
    "start_time": "2022-05-26T14:31:15.537Z"
   },
   {
    "duration": 228,
    "start_time": "2022-05-26T14:33:41.525Z"
   },
   {
    "duration": 309,
    "start_time": "2022-05-26T14:35:45.233Z"
   },
   {
    "duration": 333,
    "start_time": "2022-05-26T14:36:30.212Z"
   },
   {
    "duration": 247,
    "start_time": "2022-05-26T14:37:54.620Z"
   },
   {
    "duration": 243,
    "start_time": "2022-05-26T14:38:07.152Z"
   },
   {
    "duration": 249,
    "start_time": "2022-05-26T14:40:22.916Z"
   },
   {
    "duration": 306,
    "start_time": "2022-05-26T14:40:28.435Z"
   },
   {
    "duration": 264,
    "start_time": "2022-05-26T14:40:57.516Z"
   },
   {
    "duration": 250,
    "start_time": "2022-05-26T14:42:49.298Z"
   },
   {
    "duration": 184,
    "start_time": "2022-05-26T14:45:22.325Z"
   },
   {
    "duration": 307,
    "start_time": "2022-05-26T14:45:54.734Z"
   },
   {
    "duration": 239,
    "start_time": "2022-05-26T14:46:27.352Z"
   },
   {
    "duration": 269,
    "start_time": "2022-05-26T14:48:08.118Z"
   },
   {
    "duration": 382,
    "start_time": "2022-05-26T14:48:58.317Z"
   },
   {
    "duration": 313,
    "start_time": "2022-05-26T14:49:03.207Z"
   },
   {
    "duration": 257,
    "start_time": "2022-05-26T14:49:09.402Z"
   },
   {
    "duration": 267,
    "start_time": "2022-05-26T14:55:37.805Z"
   },
   {
    "duration": 400,
    "start_time": "2022-05-26T14:56:26.656Z"
   },
   {
    "duration": 4,
    "start_time": "2022-05-26T15:01:52.940Z"
   },
   {
    "duration": 13,
    "start_time": "2022-05-26T15:03:08.041Z"
   },
   {
    "duration": 5,
    "start_time": "2022-05-26T15:03:28.760Z"
   },
   {
    "duration": 798,
    "start_time": "2022-05-26T15:12:55.644Z"
   },
   {
    "duration": 310,
    "start_time": "2022-05-26T15:13:38.368Z"
   },
   {
    "duration": 322,
    "start_time": "2022-05-26T15:13:40.386Z"
   },
   {
    "duration": 349,
    "start_time": "2022-05-26T15:13:42.019Z"
   },
   {
    "duration": 422,
    "start_time": "2022-05-26T15:14:27.813Z"
   },
   {
    "duration": 68,
    "start_time": "2022-05-27T11:25:47.363Z"
   },
   {
    "duration": 7,
    "start_time": "2022-05-27T11:32:42.213Z"
   },
   {
    "duration": 154,
    "start_time": "2022-05-27T11:35:27.354Z"
   },
   {
    "duration": 293,
    "start_time": "2022-05-27T11:35:27.509Z"
   },
   {
    "duration": 389,
    "start_time": "2022-05-27T11:35:27.803Z"
   },
   {
    "duration": 300,
    "start_time": "2022-05-27T11:35:28.193Z"
   },
   {
    "duration": 325,
    "start_time": "2022-05-27T11:35:47.625Z"
   },
   {
    "duration": 560,
    "start_time": "2022-05-27T12:14:59.691Z"
   },
   {
    "duration": 667,
    "start_time": "2022-05-27T12:15:25.452Z"
   },
   {
    "duration": 818,
    "start_time": "2022-05-27T12:17:37.087Z"
   },
   {
    "duration": 1059,
    "start_time": "2022-05-27T12:18:32.029Z"
   },
   {
    "duration": 1039,
    "start_time": "2022-05-27T12:19:24.663Z"
   },
   {
    "duration": 1007,
    "start_time": "2022-05-27T12:19:34.608Z"
   },
   {
    "duration": 123,
    "start_time": "2022-05-27T12:19:40.764Z"
   },
   {
    "duration": 328,
    "start_time": "2022-05-27T12:19:40.889Z"
   },
   {
    "duration": 304,
    "start_time": "2022-05-27T12:19:41.219Z"
   },
   {
    "duration": 915,
    "start_time": "2022-05-27T12:19:41.525Z"
   },
   {
    "duration": 1400,
    "start_time": "2022-05-27T14:59:37.452Z"
   },
   {
    "duration": 184,
    "start_time": "2022-05-27T15:02:38.716Z"
   },
   {
    "duration": 391,
    "start_time": "2022-05-27T15:02:38.903Z"
   },
   {
    "duration": 405,
    "start_time": "2022-05-27T15:02:39.296Z"
   },
   {
    "duration": 1107,
    "start_time": "2022-05-27T15:02:39.703Z"
   },
   {
    "duration": 62,
    "start_time": "2022-05-27T15:02:40.812Z"
   },
   {
    "duration": 882,
    "start_time": "2022-05-27T15:04:31.421Z"
   },
   {
    "duration": 581,
    "start_time": "2022-05-27T15:06:33.804Z"
   },
   {
    "duration": 583,
    "start_time": "2022-05-27T15:06:37.501Z"
   },
   {
    "duration": 859,
    "start_time": "2022-05-27T15:13:16.098Z"
   },
   {
    "duration": 560,
    "start_time": "2022-05-27T15:13:42.674Z"
   },
   {
    "duration": 606,
    "start_time": "2022-05-27T15:13:56.467Z"
   },
   {
    "duration": 569,
    "start_time": "2022-05-27T15:15:07.296Z"
   },
   {
    "duration": 1106,
    "start_time": "2022-05-27T15:17:33.345Z"
   },
   {
    "duration": 947,
    "start_time": "2022-05-27T15:18:34.020Z"
   },
   {
    "duration": 663,
    "start_time": "2022-05-27T15:27:38.646Z"
   },
   {
    "duration": 550,
    "start_time": "2022-05-27T15:28:17.563Z"
   },
   {
    "duration": 821,
    "start_time": "2022-05-27T15:29:14.823Z"
   },
   {
    "duration": 770,
    "start_time": "2022-05-27T15:31:13.452Z"
   },
   {
    "duration": 956,
    "start_time": "2022-05-27T15:31:26.442Z"
   },
   {
    "duration": 865,
    "start_time": "2022-05-27T15:37:38.391Z"
   },
   {
    "duration": 41,
    "start_time": "2022-05-27T15:48:55.750Z"
   },
   {
    "duration": 228,
    "start_time": "2022-05-27T15:49:17.194Z"
   },
   {
    "duration": 156,
    "start_time": "2022-05-27T15:50:41.466Z"
   },
   {
    "duration": 201,
    "start_time": "2022-05-27T15:51:17.004Z"
   },
   {
    "duration": 170,
    "start_time": "2022-05-27T15:51:30.844Z"
   },
   {
    "duration": 201,
    "start_time": "2022-05-27T15:51:39.749Z"
   },
   {
    "duration": 155,
    "start_time": "2022-05-27T15:51:49.368Z"
   },
   {
    "duration": 353,
    "start_time": "2022-05-27T15:52:04.811Z"
   },
   {
    "duration": 213,
    "start_time": "2022-05-27T15:52:33.653Z"
   },
   {
    "duration": 202,
    "start_time": "2022-05-27T16:03:04.205Z"
   },
   {
    "duration": 12,
    "start_time": "2022-05-27T16:06:07.096Z"
   },
   {
    "duration": 241,
    "start_time": "2022-05-27T16:06:17.251Z"
   },
   {
    "duration": 175,
    "start_time": "2022-05-27T16:07:52.518Z"
   },
   {
    "duration": 172,
    "start_time": "2022-05-27T16:08:03.658Z"
   },
   {
    "duration": 137,
    "start_time": "2022-05-27T16:08:42.964Z"
   },
   {
    "duration": 31,
    "start_time": "2022-05-27T16:09:11.236Z"
   },
   {
    "duration": 37,
    "start_time": "2022-05-27T16:09:16.906Z"
   },
   {
    "duration": 157,
    "start_time": "2022-05-27T16:09:25.346Z"
   },
   {
    "duration": 25,
    "start_time": "2022-05-27T16:09:37.097Z"
   },
   {
    "duration": 155,
    "start_time": "2022-05-27T16:10:07.757Z"
   },
   {
    "duration": 164,
    "start_time": "2022-05-27T16:17:31.203Z"
   },
   {
    "duration": 205,
    "start_time": "2022-05-27T16:19:12.520Z"
   },
   {
    "duration": 278,
    "start_time": "2022-05-27T16:19:25.329Z"
   },
   {
    "duration": 199,
    "start_time": "2022-05-27T16:19:31.360Z"
   },
   {
    "duration": 224,
    "start_time": "2022-05-27T16:19:36.107Z"
   },
   {
    "duration": 221,
    "start_time": "2022-05-27T16:19:40.547Z"
   },
   {
    "duration": 212,
    "start_time": "2022-05-27T16:20:07.468Z"
   },
   {
    "duration": 243,
    "start_time": "2022-05-27T16:20:21.754Z"
   },
   {
    "duration": 170,
    "start_time": "2022-05-27T16:22:18.809Z"
   },
   {
    "duration": 191,
    "start_time": "2022-05-27T16:22:28.677Z"
   },
   {
    "duration": 35,
    "start_time": "2022-05-27T16:29:11.103Z"
   },
   {
    "duration": 206,
    "start_time": "2022-05-27T16:30:18.879Z"
   },
   {
    "duration": 203,
    "start_time": "2022-05-27T16:30:25.980Z"
   },
   {
    "duration": 321,
    "start_time": "2022-05-27T16:31:50.618Z"
   },
   {
    "duration": 388,
    "start_time": "2022-05-27T16:31:54.636Z"
   },
   {
    "duration": 39,
    "start_time": "2022-05-27T16:35:28.320Z"
   },
   {
    "duration": 26,
    "start_time": "2022-05-27T16:36:49.759Z"
   },
   {
    "duration": 28,
    "start_time": "2022-05-27T16:37:07.163Z"
   },
   {
    "duration": 45,
    "start_time": "2022-05-27T16:37:16.435Z"
   },
   {
    "duration": 52,
    "start_time": "2022-05-27T16:37:57.303Z"
   },
   {
    "duration": 52,
    "start_time": "2022-05-27T16:39:38.312Z"
   },
   {
    "duration": 12,
    "start_time": "2022-05-27T16:42:06.973Z"
   },
   {
    "duration": 175,
    "start_time": "2022-05-27T16:42:14.782Z"
   },
   {
    "duration": 179,
    "start_time": "2022-05-27T16:42:26.080Z"
   },
   {
    "duration": 171,
    "start_time": "2022-05-27T16:43:43.685Z"
   },
   {
    "duration": 15,
    "start_time": "2022-05-27T16:48:39.921Z"
   },
   {
    "duration": 9,
    "start_time": "2022-05-27T16:49:41.573Z"
   },
   {
    "duration": 215,
    "start_time": "2022-05-27T16:50:59.109Z"
   },
   {
    "duration": 199,
    "start_time": "2022-05-27T16:51:40.923Z"
   },
   {
    "duration": 163,
    "start_time": "2022-05-27T17:00:20.089Z"
   },
   {
    "duration": 184,
    "start_time": "2022-05-27T17:00:30.680Z"
   },
   {
    "duration": 181,
    "start_time": "2022-05-27T17:00:52.719Z"
   },
   {
    "duration": 174,
    "start_time": "2022-05-27T17:01:00.594Z"
   },
   {
    "duration": 63,
    "start_time": "2022-05-27T17:01:56.927Z"
   },
   {
    "duration": 183,
    "start_time": "2022-05-27T17:02:31.407Z"
   },
   {
    "duration": 262,
    "start_time": "2022-05-27T17:02:38.090Z"
   },
   {
    "duration": 152,
    "start_time": "2022-05-27T17:04:35.972Z"
   },
   {
    "duration": 148,
    "start_time": "2022-05-27T17:04:42.165Z"
   },
   {
    "duration": 30,
    "start_time": "2022-05-27T17:12:10.857Z"
   },
   {
    "duration": 188,
    "start_time": "2022-05-27T17:12:38.614Z"
   },
   {
    "duration": 183,
    "start_time": "2022-05-27T17:13:00.329Z"
   },
   {
    "duration": 203,
    "start_time": "2022-05-27T17:15:04.574Z"
   },
   {
    "duration": 253,
    "start_time": "2022-05-27T17:15:08.064Z"
   },
   {
    "duration": 29,
    "start_time": "2022-05-27T18:10:49.961Z"
   },
   {
    "duration": 1480,
    "start_time": "2022-05-27T18:11:16.574Z"
   },
   {
    "duration": 38,
    "start_time": "2022-05-27T18:12:23.387Z"
   },
   {
    "duration": 1452,
    "start_time": "2022-05-27T18:12:43.909Z"
   },
   {
    "duration": 341,
    "start_time": "2022-05-27T18:15:33.359Z"
   },
   {
    "duration": 431,
    "start_time": "2022-05-27T18:15:33.703Z"
   },
   {
    "duration": 473,
    "start_time": "2022-05-27T18:15:34.141Z"
   },
   {
    "duration": 1413,
    "start_time": "2022-05-27T18:15:34.616Z"
   },
   {
    "duration": 808,
    "start_time": "2022-05-27T18:15:36.032Z"
   },
   {
    "duration": 741,
    "start_time": "2022-05-27T18:15:36.845Z"
   },
   {
    "duration": 381,
    "start_time": "2022-05-27T18:15:37.589Z"
   },
   {
    "duration": 228,
    "start_time": "2022-05-27T18:15:37.973Z"
   },
   {
    "duration": 270,
    "start_time": "2022-05-27T18:15:38.203Z"
   },
   {
    "duration": 234,
    "start_time": "2022-05-27T18:15:38.475Z"
   },
   {
    "duration": 240,
    "start_time": "2022-05-27T18:15:38.712Z"
   },
   {
    "duration": 232,
    "start_time": "2022-05-27T18:15:38.954Z"
   },
   {
    "duration": 53,
    "start_time": "2022-05-27T18:15:39.188Z"
   },
   {
    "duration": 255,
    "start_time": "2022-05-27T18:15:39.244Z"
   },
   {
    "duration": 244,
    "start_time": "2022-05-27T18:15:39.501Z"
   },
   {
    "duration": 236,
    "start_time": "2022-05-27T18:15:39.747Z"
   },
   {
    "duration": 238,
    "start_time": "2022-05-27T18:15:39.985Z"
   },
   {
    "duration": 218,
    "start_time": "2022-05-27T18:15:40.229Z"
   },
   {
    "duration": 312,
    "start_time": "2022-05-27T18:15:40.451Z"
   },
   {
    "duration": 255,
    "start_time": "2022-05-27T18:15:40.766Z"
   },
   {
    "duration": 54,
    "start_time": "2022-05-28T16:18:36.685Z"
   },
   {
    "duration": 995,
    "start_time": "2022-05-28T16:18:56.799Z"
   },
   {
    "duration": 5,
    "start_time": "2022-05-28T16:18:57.797Z"
   },
   {
    "duration": 400,
    "start_time": "2022-05-28T16:18:57.804Z"
   },
   {
    "duration": 356,
    "start_time": "2022-05-28T16:18:58.205Z"
   },
   {
    "duration": 987,
    "start_time": "2022-05-28T16:18:58.565Z"
   },
   {
    "duration": 656,
    "start_time": "2022-05-28T16:18:59.553Z"
   },
   {
    "duration": 583,
    "start_time": "2022-05-28T16:19:00.210Z"
   },
   {
    "duration": 181,
    "start_time": "2022-05-28T16:19:00.794Z"
   },
   {
    "duration": 160,
    "start_time": "2022-05-28T16:19:00.977Z"
   },
   {
    "duration": 205,
    "start_time": "2022-05-28T16:19:01.139Z"
   },
   {
    "duration": 272,
    "start_time": "2022-05-28T16:19:01.346Z"
   },
   {
    "duration": 197,
    "start_time": "2022-05-28T16:19:01.620Z"
   },
   {
    "duration": 192,
    "start_time": "2022-05-28T16:19:01.820Z"
   },
   {
    "duration": 50,
    "start_time": "2022-05-28T16:19:02.015Z"
   },
   {
    "duration": 165,
    "start_time": "2022-05-28T16:19:02.069Z"
   },
   {
    "duration": 173,
    "start_time": "2022-05-28T16:19:02.235Z"
   },
   {
    "duration": 165,
    "start_time": "2022-05-28T16:19:02.410Z"
   },
   {
    "duration": 195,
    "start_time": "2022-05-28T16:19:02.577Z"
   },
   {
    "duration": 152,
    "start_time": "2022-05-28T16:19:02.773Z"
   },
   {
    "duration": 174,
    "start_time": "2022-05-28T16:19:02.927Z"
   },
   {
    "duration": 189,
    "start_time": "2022-05-28T16:19:03.102Z"
   },
   {
    "duration": 7,
    "start_time": "2022-05-28T16:19:15.727Z"
   },
   {
    "duration": 21,
    "start_time": "2022-05-28T16:39:17.354Z"
   },
   {
    "duration": 37,
    "start_time": "2022-05-28T16:44:25.075Z"
   },
   {
    "duration": 380,
    "start_time": "2022-05-28T16:49:01.301Z"
   },
   {
    "duration": 269,
    "start_time": "2022-05-28T16:49:11.201Z"
   },
   {
    "duration": 84,
    "start_time": "2022-05-28T17:03:52.494Z"
   },
   {
    "duration": 9,
    "start_time": "2022-05-28T17:04:11.041Z"
   },
   {
    "duration": 25,
    "start_time": "2022-05-28T17:04:37.847Z"
   },
   {
    "duration": 991,
    "start_time": "2022-05-28T17:05:03.845Z"
   },
   {
    "duration": 679,
    "start_time": "2022-05-28T17:05:36.242Z"
   },
   {
    "duration": 11,
    "start_time": "2022-05-28T17:06:05.833Z"
   },
   {
    "duration": 148,
    "start_time": "2022-05-29T09:31:33.916Z"
   },
   {
    "duration": 11,
    "start_time": "2022-05-29T09:31:49.120Z"
   },
   {
    "duration": 12,
    "start_time": "2022-05-29T09:32:49.977Z"
   },
   {
    "duration": 208,
    "start_time": "2022-05-29T09:33:59.864Z"
   },
   {
    "duration": 28,
    "start_time": "2022-05-29T09:34:16.594Z"
   },
   {
    "duration": 18,
    "start_time": "2022-05-29T09:37:19.597Z"
   },
   {
    "duration": 34,
    "start_time": "2022-05-29T09:37:25.637Z"
   },
   {
    "duration": 34,
    "start_time": "2022-05-29T09:38:18.115Z"
   },
   {
    "duration": 37,
    "start_time": "2022-05-29T09:38:45.910Z"
   },
   {
    "duration": 36,
    "start_time": "2022-05-29T09:38:56.230Z"
   },
   {
    "duration": 34,
    "start_time": "2022-05-29T09:39:14.247Z"
   },
   {
    "duration": 39,
    "start_time": "2022-05-29T09:47:58.029Z"
   },
   {
    "duration": 108,
    "start_time": "2022-05-29T09:50:02.517Z"
   },
   {
    "duration": 3,
    "start_time": "2022-05-29T09:51:05.843Z"
   },
   {
    "duration": 3,
    "start_time": "2022-05-29T09:51:13.715Z"
   },
   {
    "duration": 4,
    "start_time": "2022-05-29T09:51:35.560Z"
   },
   {
    "duration": 26,
    "start_time": "2022-05-29T09:52:07.605Z"
   },
   {
    "duration": 25,
    "start_time": "2022-05-29T09:53:15.660Z"
   },
   {
    "duration": 24,
    "start_time": "2022-05-29T09:53:19.261Z"
   },
   {
    "duration": 34,
    "start_time": "2022-05-29T09:53:23.087Z"
   },
   {
    "duration": 37,
    "start_time": "2022-05-29T09:53:57.674Z"
   },
   {
    "duration": 23,
    "start_time": "2022-05-29T09:54:13.945Z"
   },
   {
    "duration": 485,
    "start_time": "2022-05-29T10:05:39.661Z"
   },
   {
    "duration": 158,
    "start_time": "2022-05-29T10:09:43.788Z"
   },
   {
    "duration": 52,
    "start_time": "2022-05-29T10:09:43.949Z"
   },
   {
    "duration": 4,
    "start_time": "2022-05-29T10:09:44.003Z"
   },
   {
    "duration": 29,
    "start_time": "2022-05-29T10:09:44.009Z"
   },
   {
    "duration": 11,
    "start_time": "2022-05-29T10:09:44.041Z"
   },
   {
    "duration": 34,
    "start_time": "2022-05-29T10:09:44.053Z"
   },
   {
    "duration": 16,
    "start_time": "2022-05-29T10:09:44.089Z"
   },
   {
    "duration": 242,
    "start_time": "2022-05-29T10:09:44.106Z"
   },
   {
    "duration": 36,
    "start_time": "2022-05-29T10:09:44.349Z"
   },
   {
    "duration": 26,
    "start_time": "2022-05-29T10:09:44.405Z"
   },
   {
    "duration": 11,
    "start_time": "2022-05-29T10:09:44.433Z"
   },
   {
    "duration": 11,
    "start_time": "2022-05-29T10:09:44.446Z"
   },
   {
    "duration": 9,
    "start_time": "2022-05-29T10:09:44.459Z"
   },
   {
    "duration": 31,
    "start_time": "2022-05-29T10:09:44.470Z"
   },
   {
    "duration": 216,
    "start_time": "2022-05-29T10:09:44.503Z"
   },
   {
    "duration": 11,
    "start_time": "2022-05-29T10:09:44.723Z"
   },
   {
    "duration": 8,
    "start_time": "2022-05-29T10:09:44.736Z"
   },
   {
    "duration": 9,
    "start_time": "2022-05-29T10:09:44.746Z"
   },
   {
    "duration": 9,
    "start_time": "2022-05-29T10:09:44.756Z"
   },
   {
    "duration": 40,
    "start_time": "2022-05-29T10:09:44.767Z"
   },
   {
    "duration": 13,
    "start_time": "2022-05-29T10:09:44.810Z"
   },
   {
    "duration": 29,
    "start_time": "2022-05-29T10:09:44.825Z"
   },
   {
    "duration": 374,
    "start_time": "2022-05-29T10:09:44.856Z"
   },
   {
    "duration": 1054,
    "start_time": "2022-05-29T10:09:45.232Z"
   },
   {
    "duration": 362,
    "start_time": "2022-05-29T10:09:46.288Z"
   },
   {
    "duration": 929,
    "start_time": "2022-05-29T10:09:46.652Z"
   },
   {
    "duration": 658,
    "start_time": "2022-05-29T10:09:47.583Z"
   },
   {
    "duration": 13,
    "start_time": "2022-05-29T10:09:48.243Z"
   },
   {
    "duration": 207,
    "start_time": "2022-05-29T10:09:48.258Z"
   },
   {
    "duration": 179,
    "start_time": "2022-05-29T10:09:48.467Z"
   },
   {
    "duration": 225,
    "start_time": "2022-05-29T10:09:48.647Z"
   },
   {
    "duration": 198,
    "start_time": "2022-05-29T10:09:48.875Z"
   },
   {
    "duration": 212,
    "start_time": "2022-05-29T10:09:49.075Z"
   },
   {
    "duration": 197,
    "start_time": "2022-05-29T10:09:49.292Z"
   },
   {
    "duration": 48,
    "start_time": "2022-05-29T10:09:49.493Z"
   },
   {
    "duration": 202,
    "start_time": "2022-05-29T10:09:49.542Z"
   },
   {
    "duration": 195,
    "start_time": "2022-05-29T10:09:49.747Z"
   },
   {
    "duration": 192,
    "start_time": "2022-05-29T10:09:49.944Z"
   },
   {
    "duration": 194,
    "start_time": "2022-05-29T10:09:50.137Z"
   },
   {
    "duration": 192,
    "start_time": "2022-05-29T10:09:50.333Z"
   },
   {
    "duration": 183,
    "start_time": "2022-05-29T10:09:50.529Z"
   },
   {
    "duration": 212,
    "start_time": "2022-05-29T10:09:50.714Z"
   },
   {
    "duration": 4,
    "start_time": "2022-05-29T10:10:50.824Z"
   },
   {
    "duration": 199,
    "start_time": "2022-05-29T10:12:49.733Z"
   },
   {
    "duration": 41,
    "start_time": "2022-05-29T10:21:07.509Z"
   },
   {
    "duration": 36,
    "start_time": "2022-05-29T10:21:25.813Z"
   },
   {
    "duration": 58,
    "start_time": "2022-05-29T10:21:44.277Z"
   },
   {
    "duration": 4,
    "start_time": "2022-05-29T10:30:08.986Z"
   },
   {
    "duration": 10,
    "start_time": "2022-05-29T10:30:11.213Z"
   },
   {
    "duration": 7,
    "start_time": "2022-05-29T10:31:39.344Z"
   },
   {
    "duration": 33,
    "start_time": "2022-05-29T10:35:06.338Z"
   },
   {
    "duration": 7,
    "start_time": "2022-05-29T10:35:11.523Z"
   },
   {
    "duration": 8,
    "start_time": "2022-05-29T10:35:21.631Z"
   },
   {
    "duration": 8,
    "start_time": "2022-05-29T10:37:09.862Z"
   },
   {
    "duration": 7,
    "start_time": "2022-05-29T10:37:18.421Z"
   },
   {
    "duration": 4,
    "start_time": "2022-05-29T10:37:22.662Z"
   },
   {
    "duration": 7,
    "start_time": "2022-05-29T10:37:22.962Z"
   },
   {
    "duration": 143,
    "start_time": "2022-05-29T10:37:32.326Z"
   },
   {
    "duration": 59,
    "start_time": "2022-05-29T10:37:32.471Z"
   },
   {
    "duration": 4,
    "start_time": "2022-05-29T10:37:32.532Z"
   },
   {
    "duration": 15,
    "start_time": "2022-05-29T10:37:32.539Z"
   },
   {
    "duration": 109,
    "start_time": "2022-05-29T10:37:32.556Z"
   },
   {
    "duration": 0,
    "start_time": "2022-05-29T10:37:32.667Z"
   },
   {
    "duration": 0,
    "start_time": "2022-05-29T10:37:32.668Z"
   },
   {
    "duration": 0,
    "start_time": "2022-05-29T10:37:32.669Z"
   },
   {
    "duration": 0,
    "start_time": "2022-05-29T10:37:32.670Z"
   },
   {
    "duration": 0,
    "start_time": "2022-05-29T10:37:32.671Z"
   },
   {
    "duration": 0,
    "start_time": "2022-05-29T10:37:32.672Z"
   },
   {
    "duration": 0,
    "start_time": "2022-05-29T10:37:32.673Z"
   },
   {
    "duration": 0,
    "start_time": "2022-05-29T10:37:32.673Z"
   },
   {
    "duration": 0,
    "start_time": "2022-05-29T10:37:32.675Z"
   },
   {
    "duration": 0,
    "start_time": "2022-05-29T10:37:32.675Z"
   },
   {
    "duration": 0,
    "start_time": "2022-05-29T10:37:32.676Z"
   },
   {
    "duration": 0,
    "start_time": "2022-05-29T10:37:32.700Z"
   },
   {
    "duration": 0,
    "start_time": "2022-05-29T10:37:32.701Z"
   },
   {
    "duration": 0,
    "start_time": "2022-05-29T10:37:32.702Z"
   },
   {
    "duration": 0,
    "start_time": "2022-05-29T10:37:32.706Z"
   },
   {
    "duration": 0,
    "start_time": "2022-05-29T10:37:32.711Z"
   },
   {
    "duration": 0,
    "start_time": "2022-05-29T10:37:32.712Z"
   },
   {
    "duration": 0,
    "start_time": "2022-05-29T10:37:32.714Z"
   },
   {
    "duration": 0,
    "start_time": "2022-05-29T10:37:32.715Z"
   },
   {
    "duration": 9,
    "start_time": "2022-05-29T10:37:58.076Z"
   },
   {
    "duration": 6,
    "start_time": "2022-05-29T10:40:25.092Z"
   },
   {
    "duration": 7,
    "start_time": "2022-05-29T10:40:39.695Z"
   },
   {
    "duration": 19,
    "start_time": "2022-05-29T10:42:15.417Z"
   },
   {
    "duration": 6,
    "start_time": "2022-05-29T10:42:37.785Z"
   },
   {
    "duration": 7,
    "start_time": "2022-05-29T10:42:45.612Z"
   },
   {
    "duration": 4,
    "start_time": "2022-05-29T10:43:04.884Z"
   },
   {
    "duration": 8,
    "start_time": "2022-05-29T10:46:13.549Z"
   },
   {
    "duration": 8,
    "start_time": "2022-05-29T10:48:30.102Z"
   },
   {
    "duration": 8,
    "start_time": "2022-05-29T10:48:44.514Z"
   },
   {
    "duration": 10,
    "start_time": "2022-05-29T10:49:29.407Z"
   },
   {
    "duration": 6,
    "start_time": "2022-05-29T10:49:58.811Z"
   },
   {
    "duration": 128,
    "start_time": "2022-05-29T10:50:19.533Z"
   },
   {
    "duration": 42,
    "start_time": "2022-05-29T10:50:19.663Z"
   },
   {
    "duration": 4,
    "start_time": "2022-05-29T10:50:19.706Z"
   },
   {
    "duration": 14,
    "start_time": "2022-05-29T10:50:19.712Z"
   },
   {
    "duration": 17,
    "start_time": "2022-05-29T10:50:19.728Z"
   },
   {
    "duration": 23,
    "start_time": "2022-05-29T10:50:19.747Z"
   },
   {
    "duration": 0,
    "start_time": "2022-05-29T10:50:19.794Z"
   },
   {
    "duration": 0,
    "start_time": "2022-05-29T10:50:19.796Z"
   },
   {
    "duration": 0,
    "start_time": "2022-05-29T10:50:19.797Z"
   },
   {
    "duration": 0,
    "start_time": "2022-05-29T10:50:19.799Z"
   },
   {
    "duration": 0,
    "start_time": "2022-05-29T10:50:19.800Z"
   },
   {
    "duration": 0,
    "start_time": "2022-05-29T10:50:19.801Z"
   },
   {
    "duration": 0,
    "start_time": "2022-05-29T10:50:19.802Z"
   },
   {
    "duration": 0,
    "start_time": "2022-05-29T10:50:19.803Z"
   },
   {
    "duration": 0,
    "start_time": "2022-05-29T10:50:19.804Z"
   },
   {
    "duration": 0,
    "start_time": "2022-05-29T10:50:19.805Z"
   },
   {
    "duration": 0,
    "start_time": "2022-05-29T10:50:19.806Z"
   },
   {
    "duration": 0,
    "start_time": "2022-05-29T10:50:19.806Z"
   },
   {
    "duration": 0,
    "start_time": "2022-05-29T10:50:19.808Z"
   },
   {
    "duration": 0,
    "start_time": "2022-05-29T10:50:19.808Z"
   },
   {
    "duration": 0,
    "start_time": "2022-05-29T10:50:19.809Z"
   },
   {
    "duration": 0,
    "start_time": "2022-05-29T10:50:19.810Z"
   },
   {
    "duration": 0,
    "start_time": "2022-05-29T10:50:19.811Z"
   },
   {
    "duration": 0,
    "start_time": "2022-05-29T10:50:19.812Z"
   },
   {
    "duration": 0,
    "start_time": "2022-05-29T10:50:19.814Z"
   },
   {
    "duration": 6,
    "start_time": "2022-05-29T10:50:41.334Z"
   },
   {
    "duration": 7,
    "start_time": "2022-05-29T10:52:01.921Z"
   },
   {
    "duration": 4,
    "start_time": "2022-05-29T10:53:56.088Z"
   },
   {
    "duration": 6,
    "start_time": "2022-05-29T10:55:36.065Z"
   },
   {
    "duration": 7,
    "start_time": "2022-05-29T10:56:54.568Z"
   },
   {
    "duration": 8,
    "start_time": "2022-05-29T10:57:11.963Z"
   },
   {
    "duration": 11,
    "start_time": "2022-05-29T10:58:53.620Z"
   },
   {
    "duration": 14,
    "start_time": "2022-05-29T10:59:09.068Z"
   },
   {
    "duration": 15,
    "start_time": "2022-05-29T10:59:30.728Z"
   },
   {
    "duration": 6,
    "start_time": "2022-05-29T10:59:38.625Z"
   },
   {
    "duration": 134,
    "start_time": "2022-05-29T10:59:44.900Z"
   },
   {
    "duration": 36,
    "start_time": "2022-05-29T10:59:45.036Z"
   },
   {
    "duration": 22,
    "start_time": "2022-05-29T10:59:45.074Z"
   },
   {
    "duration": 23,
    "start_time": "2022-05-29T10:59:45.099Z"
   },
   {
    "duration": 10,
    "start_time": "2022-05-29T10:59:45.124Z"
   },
   {
    "duration": 8,
    "start_time": "2022-05-29T10:59:45.136Z"
   },
   {
    "duration": 14,
    "start_time": "2022-05-29T10:59:45.146Z"
   },
   {
    "duration": 0,
    "start_time": "2022-05-29T10:59:45.162Z"
   },
   {
    "duration": 0,
    "start_time": "2022-05-29T10:59:45.163Z"
   },
   {
    "duration": 0,
    "start_time": "2022-05-29T10:59:45.164Z"
   },
   {
    "duration": 0,
    "start_time": "2022-05-29T10:59:45.165Z"
   },
   {
    "duration": 0,
    "start_time": "2022-05-29T10:59:45.166Z"
   },
   {
    "duration": 0,
    "start_time": "2022-05-29T10:59:45.167Z"
   },
   {
    "duration": 0,
    "start_time": "2022-05-29T10:59:45.167Z"
   },
   {
    "duration": 0,
    "start_time": "2022-05-29T10:59:45.168Z"
   },
   {
    "duration": 0,
    "start_time": "2022-05-29T10:59:45.203Z"
   },
   {
    "duration": 0,
    "start_time": "2022-05-29T10:59:45.207Z"
   },
   {
    "duration": 0,
    "start_time": "2022-05-29T10:59:45.209Z"
   },
   {
    "duration": 0,
    "start_time": "2022-05-29T10:59:45.210Z"
   },
   {
    "duration": 0,
    "start_time": "2022-05-29T10:59:45.211Z"
   },
   {
    "duration": 0,
    "start_time": "2022-05-29T10:59:45.212Z"
   },
   {
    "duration": 0,
    "start_time": "2022-05-29T10:59:45.213Z"
   },
   {
    "duration": 0,
    "start_time": "2022-05-29T10:59:45.214Z"
   },
   {
    "duration": 0,
    "start_time": "2022-05-29T10:59:45.215Z"
   },
   {
    "duration": 0,
    "start_time": "2022-05-29T10:59:45.216Z"
   },
   {
    "duration": 0,
    "start_time": "2022-05-29T10:59:45.217Z"
   },
   {
    "duration": 36,
    "start_time": "2022-05-29T11:00:37.612Z"
   },
   {
    "duration": 8,
    "start_time": "2022-05-29T11:01:17.460Z"
   },
   {
    "duration": 119,
    "start_time": "2022-05-29T11:02:36.528Z"
   },
   {
    "duration": 50,
    "start_time": "2022-05-29T11:02:36.649Z"
   },
   {
    "duration": 3,
    "start_time": "2022-05-29T11:02:36.701Z"
   },
   {
    "duration": 26,
    "start_time": "2022-05-29T11:02:36.706Z"
   },
   {
    "duration": 11,
    "start_time": "2022-05-29T11:02:36.734Z"
   },
   {
    "duration": 20,
    "start_time": "2022-05-29T11:02:36.746Z"
   },
   {
    "duration": 30,
    "start_time": "2022-05-29T11:02:36.768Z"
   },
   {
    "duration": 0,
    "start_time": "2022-05-29T11:02:36.800Z"
   },
   {
    "duration": 0,
    "start_time": "2022-05-29T11:02:36.803Z"
   },
   {
    "duration": 0,
    "start_time": "2022-05-29T11:02:36.804Z"
   },
   {
    "duration": 0,
    "start_time": "2022-05-29T11:02:36.805Z"
   },
   {
    "duration": 0,
    "start_time": "2022-05-29T11:02:36.806Z"
   },
   {
    "duration": 0,
    "start_time": "2022-05-29T11:02:36.807Z"
   },
   {
    "duration": 0,
    "start_time": "2022-05-29T11:02:36.809Z"
   },
   {
    "duration": 0,
    "start_time": "2022-05-29T11:02:36.810Z"
   },
   {
    "duration": 0,
    "start_time": "2022-05-29T11:02:36.811Z"
   },
   {
    "duration": 0,
    "start_time": "2022-05-29T11:02:36.812Z"
   },
   {
    "duration": 0,
    "start_time": "2022-05-29T11:02:36.813Z"
   },
   {
    "duration": 0,
    "start_time": "2022-05-29T11:02:36.814Z"
   },
   {
    "duration": 0,
    "start_time": "2022-05-29T11:02:36.816Z"
   },
   {
    "duration": 0,
    "start_time": "2022-05-29T11:02:36.817Z"
   },
   {
    "duration": 0,
    "start_time": "2022-05-29T11:02:36.818Z"
   },
   {
    "duration": 0,
    "start_time": "2022-05-29T11:02:36.819Z"
   },
   {
    "duration": 0,
    "start_time": "2022-05-29T11:02:36.821Z"
   },
   {
    "duration": 0,
    "start_time": "2022-05-29T11:02:36.822Z"
   },
   {
    "duration": 0,
    "start_time": "2022-05-29T11:02:36.823Z"
   },
   {
    "duration": 14,
    "start_time": "2022-05-29T11:03:17.914Z"
   },
   {
    "duration": 17,
    "start_time": "2022-05-29T11:04:18.864Z"
   },
   {
    "duration": 6,
    "start_time": "2022-05-29T11:04:27.983Z"
   },
   {
    "duration": 6,
    "start_time": "2022-05-29T11:04:51.064Z"
   },
   {
    "duration": 6,
    "start_time": "2022-05-29T11:05:55.277Z"
   },
   {
    "duration": 6,
    "start_time": "2022-05-29T11:06:17.885Z"
   },
   {
    "duration": 46,
    "start_time": "2022-05-29T11:08:32.910Z"
   },
   {
    "duration": 7,
    "start_time": "2022-05-29T11:09:07.191Z"
   },
   {
    "duration": 13,
    "start_time": "2022-05-29T11:14:57.625Z"
   },
   {
    "duration": 12,
    "start_time": "2022-05-29T11:15:07.773Z"
   },
   {
    "duration": 16,
    "start_time": "2022-05-29T11:18:54.293Z"
   },
   {
    "duration": 123,
    "start_time": "2022-05-29T11:20:22.104Z"
   },
   {
    "duration": 41,
    "start_time": "2022-05-29T11:20:22.228Z"
   },
   {
    "duration": 23,
    "start_time": "2022-05-29T11:20:22.271Z"
   },
   {
    "duration": 47,
    "start_time": "2022-05-29T11:20:22.296Z"
   },
   {
    "duration": 16,
    "start_time": "2022-05-29T11:20:22.345Z"
   },
   {
    "duration": 26,
    "start_time": "2022-05-29T11:20:22.363Z"
   },
   {
    "duration": 32,
    "start_time": "2022-05-29T11:20:22.390Z"
   },
   {
    "duration": 24,
    "start_time": "2022-05-29T11:20:22.424Z"
   },
   {
    "duration": 18,
    "start_time": "2022-05-29T11:20:22.450Z"
   },
   {
    "duration": 0,
    "start_time": "2022-05-29T11:20:22.471Z"
   },
   {
    "duration": 0,
    "start_time": "2022-05-29T11:20:22.472Z"
   },
   {
    "duration": 0,
    "start_time": "2022-05-29T11:20:22.473Z"
   },
   {
    "duration": 0,
    "start_time": "2022-05-29T11:20:22.474Z"
   },
   {
    "duration": 0,
    "start_time": "2022-05-29T11:20:22.476Z"
   },
   {
    "duration": 0,
    "start_time": "2022-05-29T11:20:22.477Z"
   },
   {
    "duration": 0,
    "start_time": "2022-05-29T11:20:22.478Z"
   },
   {
    "duration": 0,
    "start_time": "2022-05-29T11:20:22.479Z"
   },
   {
    "duration": 0,
    "start_time": "2022-05-29T11:20:22.480Z"
   },
   {
    "duration": 0,
    "start_time": "2022-05-29T11:20:22.481Z"
   },
   {
    "duration": 0,
    "start_time": "2022-05-29T11:20:22.482Z"
   },
   {
    "duration": 0,
    "start_time": "2022-05-29T11:20:22.483Z"
   },
   {
    "duration": 0,
    "start_time": "2022-05-29T11:20:22.484Z"
   },
   {
    "duration": 0,
    "start_time": "2022-05-29T11:20:22.484Z"
   },
   {
    "duration": 0,
    "start_time": "2022-05-29T11:20:22.485Z"
   },
   {
    "duration": 0,
    "start_time": "2022-05-29T11:20:22.486Z"
   },
   {
    "duration": 0,
    "start_time": "2022-05-29T11:20:22.494Z"
   },
   {
    "duration": 0,
    "start_time": "2022-05-29T11:20:22.495Z"
   },
   {
    "duration": 0,
    "start_time": "2022-05-29T11:20:22.496Z"
   },
   {
    "duration": 16,
    "start_time": "2022-05-29T11:21:23.219Z"
   },
   {
    "duration": 15,
    "start_time": "2022-05-29T11:21:47.000Z"
   },
   {
    "duration": 7,
    "start_time": "2022-05-29T11:23:28.559Z"
   },
   {
    "duration": 10,
    "start_time": "2022-05-29T11:24:05.327Z"
   },
   {
    "duration": 9,
    "start_time": "2022-05-29T11:24:21.521Z"
   },
   {
    "duration": 119,
    "start_time": "2022-05-29T11:26:20.106Z"
   },
   {
    "duration": 38,
    "start_time": "2022-05-29T11:26:20.227Z"
   },
   {
    "duration": 3,
    "start_time": "2022-05-29T11:26:20.267Z"
   },
   {
    "duration": 10,
    "start_time": "2022-05-29T11:26:20.294Z"
   },
   {
    "duration": 20,
    "start_time": "2022-05-29T11:26:20.306Z"
   },
   {
    "duration": 8,
    "start_time": "2022-05-29T11:26:20.328Z"
   },
   {
    "duration": 8,
    "start_time": "2022-05-29T11:26:20.337Z"
   },
   {
    "duration": 16,
    "start_time": "2022-05-29T11:26:20.346Z"
   },
   {
    "duration": 31,
    "start_time": "2022-05-29T11:26:20.364Z"
   },
   {
    "duration": 14,
    "start_time": "2022-05-29T11:26:20.398Z"
   },
   {
    "duration": 0,
    "start_time": "2022-05-29T11:26:20.413Z"
   },
   {
    "duration": 0,
    "start_time": "2022-05-29T11:26:20.414Z"
   },
   {
    "duration": 0,
    "start_time": "2022-05-29T11:26:20.416Z"
   },
   {
    "duration": 0,
    "start_time": "2022-05-29T11:26:20.417Z"
   },
   {
    "duration": 0,
    "start_time": "2022-05-29T11:26:20.418Z"
   },
   {
    "duration": 0,
    "start_time": "2022-05-29T11:26:20.420Z"
   },
   {
    "duration": 0,
    "start_time": "2022-05-29T11:26:20.420Z"
   },
   {
    "duration": 0,
    "start_time": "2022-05-29T11:26:20.421Z"
   },
   {
    "duration": 0,
    "start_time": "2022-05-29T11:26:20.422Z"
   },
   {
    "duration": 0,
    "start_time": "2022-05-29T11:26:20.424Z"
   },
   {
    "duration": 1,
    "start_time": "2022-05-29T11:26:20.424Z"
   },
   {
    "duration": 0,
    "start_time": "2022-05-29T11:26:20.426Z"
   },
   {
    "duration": 0,
    "start_time": "2022-05-29T11:26:20.427Z"
   },
   {
    "duration": 0,
    "start_time": "2022-05-29T11:26:20.428Z"
   },
   {
    "duration": 0,
    "start_time": "2022-05-29T11:26:20.429Z"
   },
   {
    "duration": 0,
    "start_time": "2022-05-29T11:26:20.430Z"
   },
   {
    "duration": 0,
    "start_time": "2022-05-29T11:26:20.431Z"
   },
   {
    "duration": 0,
    "start_time": "2022-05-29T11:26:20.432Z"
   },
   {
    "duration": 0,
    "start_time": "2022-05-29T11:26:20.433Z"
   },
   {
    "duration": 8,
    "start_time": "2022-05-29T11:28:10.261Z"
   },
   {
    "duration": 8,
    "start_time": "2022-05-29T11:29:53.668Z"
   },
   {
    "duration": 10,
    "start_time": "2022-05-29T11:31:29.066Z"
   },
   {
    "duration": 20,
    "start_time": "2022-05-29T11:31:34.563Z"
   },
   {
    "duration": 8,
    "start_time": "2022-05-29T11:32:01.357Z"
   },
   {
    "duration": 123,
    "start_time": "2022-05-29T11:32:07.836Z"
   },
   {
    "duration": 50,
    "start_time": "2022-05-29T11:32:07.961Z"
   },
   {
    "duration": 3,
    "start_time": "2022-05-29T11:32:08.012Z"
   },
   {
    "duration": 12,
    "start_time": "2022-05-29T11:32:08.017Z"
   },
   {
    "duration": 21,
    "start_time": "2022-05-29T11:32:08.030Z"
   },
   {
    "duration": 8,
    "start_time": "2022-05-29T11:32:08.052Z"
   },
   {
    "duration": 8,
    "start_time": "2022-05-29T11:32:08.062Z"
   },
   {
    "duration": 14,
    "start_time": "2022-05-29T11:32:08.093Z"
   },
   {
    "duration": 16,
    "start_time": "2022-05-29T11:32:08.108Z"
   },
   {
    "duration": 0,
    "start_time": "2022-05-29T11:32:08.126Z"
   },
   {
    "duration": 0,
    "start_time": "2022-05-29T11:32:08.128Z"
   },
   {
    "duration": 0,
    "start_time": "2022-05-29T11:32:08.128Z"
   },
   {
    "duration": 0,
    "start_time": "2022-05-29T11:32:08.129Z"
   },
   {
    "duration": 0,
    "start_time": "2022-05-29T11:32:08.131Z"
   },
   {
    "duration": 0,
    "start_time": "2022-05-29T11:32:08.132Z"
   },
   {
    "duration": 0,
    "start_time": "2022-05-29T11:32:08.133Z"
   },
   {
    "duration": 0,
    "start_time": "2022-05-29T11:32:08.133Z"
   },
   {
    "duration": 0,
    "start_time": "2022-05-29T11:32:08.134Z"
   },
   {
    "duration": 0,
    "start_time": "2022-05-29T11:32:08.135Z"
   },
   {
    "duration": 0,
    "start_time": "2022-05-29T11:32:08.136Z"
   },
   {
    "duration": 0,
    "start_time": "2022-05-29T11:32:08.137Z"
   },
   {
    "duration": 0,
    "start_time": "2022-05-29T11:32:08.138Z"
   },
   {
    "duration": 0,
    "start_time": "2022-05-29T11:32:08.139Z"
   },
   {
    "duration": 0,
    "start_time": "2022-05-29T11:32:08.140Z"
   },
   {
    "duration": 0,
    "start_time": "2022-05-29T11:32:08.141Z"
   },
   {
    "duration": 0,
    "start_time": "2022-05-29T11:32:08.142Z"
   },
   {
    "duration": 0,
    "start_time": "2022-05-29T11:32:08.143Z"
   },
   {
    "duration": 0,
    "start_time": "2022-05-29T11:32:08.144Z"
   },
   {
    "duration": 0,
    "start_time": "2022-05-29T11:32:08.145Z"
   },
   {
    "duration": 0,
    "start_time": "2022-05-29T11:32:08.146Z"
   },
   {
    "duration": 17,
    "start_time": "2022-05-29T11:33:30.066Z"
   },
   {
    "duration": 8,
    "start_time": "2022-05-29T11:46:10.680Z"
   },
   {
    "duration": 8,
    "start_time": "2022-05-29T11:46:23.872Z"
   },
   {
    "duration": 129,
    "start_time": "2022-05-29T11:46:33.972Z"
   },
   {
    "duration": 35,
    "start_time": "2022-05-29T11:46:34.103Z"
   },
   {
    "duration": 3,
    "start_time": "2022-05-29T11:46:34.140Z"
   },
   {
    "duration": 16,
    "start_time": "2022-05-29T11:46:34.144Z"
   },
   {
    "duration": 32,
    "start_time": "2022-05-29T11:46:34.162Z"
   },
   {
    "duration": 9,
    "start_time": "2022-05-29T11:46:34.196Z"
   },
   {
    "duration": 8,
    "start_time": "2022-05-29T11:46:34.207Z"
   },
   {
    "duration": 15,
    "start_time": "2022-05-29T11:46:34.216Z"
   },
   {
    "duration": 8,
    "start_time": "2022-05-29T11:46:34.232Z"
   },
   {
    "duration": 13,
    "start_time": "2022-05-29T11:46:34.242Z"
   },
   {
    "duration": 0,
    "start_time": "2022-05-29T11:46:34.257Z"
   },
   {
    "duration": 0,
    "start_time": "2022-05-29T11:46:34.258Z"
   },
   {
    "duration": 0,
    "start_time": "2022-05-29T11:46:34.294Z"
   },
   {
    "duration": 0,
    "start_time": "2022-05-29T11:46:34.295Z"
   },
   {
    "duration": 0,
    "start_time": "2022-05-29T11:46:34.296Z"
   },
   {
    "duration": 0,
    "start_time": "2022-05-29T11:46:34.297Z"
   },
   {
    "duration": 0,
    "start_time": "2022-05-29T11:46:34.298Z"
   },
   {
    "duration": 0,
    "start_time": "2022-05-29T11:46:34.299Z"
   },
   {
    "duration": 0,
    "start_time": "2022-05-29T11:46:34.300Z"
   },
   {
    "duration": 0,
    "start_time": "2022-05-29T11:46:34.301Z"
   },
   {
    "duration": 0,
    "start_time": "2022-05-29T11:46:34.301Z"
   },
   {
    "duration": 0,
    "start_time": "2022-05-29T11:46:34.302Z"
   },
   {
    "duration": 0,
    "start_time": "2022-05-29T11:46:34.303Z"
   },
   {
    "duration": 0,
    "start_time": "2022-05-29T11:46:34.304Z"
   },
   {
    "duration": 0,
    "start_time": "2022-05-29T11:46:34.305Z"
   },
   {
    "duration": 0,
    "start_time": "2022-05-29T11:46:34.306Z"
   },
   {
    "duration": 0,
    "start_time": "2022-05-29T11:46:34.307Z"
   },
   {
    "duration": 0,
    "start_time": "2022-05-29T11:46:34.308Z"
   },
   {
    "duration": 0,
    "start_time": "2022-05-29T11:46:34.308Z"
   },
   {
    "duration": 0,
    "start_time": "2022-05-29T11:46:34.309Z"
   },
   {
    "duration": 8,
    "start_time": "2022-05-29T11:46:55.176Z"
   },
   {
    "duration": 12,
    "start_time": "2022-05-29T11:47:08.613Z"
   },
   {
    "duration": 7,
    "start_time": "2022-05-29T11:51:13.858Z"
   },
   {
    "duration": 7,
    "start_time": "2022-05-29T11:51:39.678Z"
   },
   {
    "duration": 8,
    "start_time": "2022-05-29T11:53:32.708Z"
   },
   {
    "duration": 22,
    "start_time": "2022-05-29T11:54:33.084Z"
   },
   {
    "duration": 8,
    "start_time": "2022-05-29T11:55:02.484Z"
   },
   {
    "duration": 6,
    "start_time": "2022-05-29T11:55:12.399Z"
   },
   {
    "duration": 6,
    "start_time": "2022-05-29T11:56:46.482Z"
   },
   {
    "duration": 9,
    "start_time": "2022-05-29T12:01:17.464Z"
   },
   {
    "duration": 13,
    "start_time": "2022-05-29T12:01:29.871Z"
   },
   {
    "duration": 7,
    "start_time": "2022-05-29T12:05:35.338Z"
   },
   {
    "duration": 9,
    "start_time": "2022-05-29T12:07:54.581Z"
   },
   {
    "duration": 7,
    "start_time": "2022-05-29T12:08:25.569Z"
   },
   {
    "duration": 9,
    "start_time": "2022-05-29T12:09:17.575Z"
   },
   {
    "duration": 34,
    "start_time": "2022-05-29T12:18:38.974Z"
   },
   {
    "duration": 11,
    "start_time": "2022-05-29T12:18:42.345Z"
   },
   {
    "duration": 13,
    "start_time": "2022-05-29T12:18:51.070Z"
   },
   {
    "duration": 15,
    "start_time": "2022-05-29T12:26:49.756Z"
   },
   {
    "duration": 13,
    "start_time": "2022-05-29T12:27:45.468Z"
   },
   {
    "duration": 182,
    "start_time": "2022-05-29T12:40:01.955Z"
   },
   {
    "duration": 13,
    "start_time": "2022-05-29T12:41:17.603Z"
   },
   {
    "duration": 15,
    "start_time": "2022-05-29T12:51:00.804Z"
   },
   {
    "duration": 18,
    "start_time": "2022-05-29T12:52:28.734Z"
   },
   {
    "duration": 17,
    "start_time": "2022-05-29T12:53:01.760Z"
   },
   {
    "duration": 17,
    "start_time": "2022-05-29T12:57:20.376Z"
   },
   {
    "duration": 23,
    "start_time": "2022-05-29T13:00:58.618Z"
   },
   {
    "duration": 12,
    "start_time": "2022-05-29T13:01:44.612Z"
   },
   {
    "duration": 118,
    "start_time": "2022-05-29T13:01:55.423Z"
   },
   {
    "duration": 56,
    "start_time": "2022-05-29T13:01:55.543Z"
   },
   {
    "duration": 11,
    "start_time": "2022-05-29T13:01:55.601Z"
   },
   {
    "duration": 18,
    "start_time": "2022-05-29T13:01:55.614Z"
   },
   {
    "duration": 8,
    "start_time": "2022-05-29T13:01:55.634Z"
   },
   {
    "duration": 9,
    "start_time": "2022-05-29T13:01:55.643Z"
   },
   {
    "duration": 43,
    "start_time": "2022-05-29T13:01:55.653Z"
   },
   {
    "duration": 7,
    "start_time": "2022-05-29T13:01:55.698Z"
   },
   {
    "duration": 13,
    "start_time": "2022-05-29T13:01:55.706Z"
   },
   {
    "duration": 12,
    "start_time": "2022-05-29T13:01:55.721Z"
   },
   {
    "duration": 11,
    "start_time": "2022-05-29T13:01:55.734Z"
   },
   {
    "duration": 11,
    "start_time": "2022-05-29T13:01:55.747Z"
   },
   {
    "duration": 48,
    "start_time": "2022-05-29T13:01:55.760Z"
   },
   {
    "duration": 14,
    "start_time": "2022-05-29T13:01:55.811Z"
   },
   {
    "duration": 0,
    "start_time": "2022-05-29T13:01:55.826Z"
   },
   {
    "duration": 0,
    "start_time": "2022-05-29T13:01:55.827Z"
   },
   {
    "duration": 0,
    "start_time": "2022-05-29T13:01:55.828Z"
   },
   {
    "duration": 0,
    "start_time": "2022-05-29T13:01:55.829Z"
   },
   {
    "duration": 0,
    "start_time": "2022-05-29T13:01:55.830Z"
   },
   {
    "duration": 0,
    "start_time": "2022-05-29T13:01:55.831Z"
   },
   {
    "duration": 0,
    "start_time": "2022-05-29T13:01:55.832Z"
   },
   {
    "duration": 0,
    "start_time": "2022-05-29T13:01:55.833Z"
   },
   {
    "duration": 0,
    "start_time": "2022-05-29T13:01:55.834Z"
   },
   {
    "duration": 0,
    "start_time": "2022-05-29T13:01:55.835Z"
   },
   {
    "duration": 0,
    "start_time": "2022-05-29T13:01:55.836Z"
   },
   {
    "duration": 0,
    "start_time": "2022-05-29T13:01:55.837Z"
   },
   {
    "duration": 0,
    "start_time": "2022-05-29T13:01:55.838Z"
   },
   {
    "duration": 0,
    "start_time": "2022-05-29T13:01:55.839Z"
   },
   {
    "duration": 0,
    "start_time": "2022-05-29T13:01:55.840Z"
   },
   {
    "duration": 0,
    "start_time": "2022-05-29T13:01:55.841Z"
   },
   {
    "duration": 0,
    "start_time": "2022-05-29T13:01:55.842Z"
   },
   {
    "duration": 0,
    "start_time": "2022-05-29T13:01:55.843Z"
   },
   {
    "duration": 0,
    "start_time": "2022-05-29T13:01:55.895Z"
   },
   {
    "duration": 19,
    "start_time": "2022-05-29T13:04:30.898Z"
   },
   {
    "duration": 188,
    "start_time": "2022-05-29T13:05:26.929Z"
   },
   {
    "duration": 180,
    "start_time": "2022-05-29T13:05:41.067Z"
   },
   {
    "duration": 158,
    "start_time": "2022-05-29T13:05:55.655Z"
   },
   {
    "duration": 187,
    "start_time": "2022-05-29T13:06:03.482Z"
   },
   {
    "duration": 169,
    "start_time": "2022-05-29T13:06:17.550Z"
   },
   {
    "duration": 161,
    "start_time": "2022-05-29T13:06:26.826Z"
   },
   {
    "duration": 53,
    "start_time": "2022-05-29T13:06:35.154Z"
   },
   {
    "duration": 153,
    "start_time": "2022-05-29T13:06:39.745Z"
   },
   {
    "duration": 153,
    "start_time": "2022-05-29T13:06:46.320Z"
   },
   {
    "duration": 167,
    "start_time": "2022-05-29T13:06:52.043Z"
   },
   {
    "duration": 167,
    "start_time": "2022-05-29T13:06:57.274Z"
   },
   {
    "duration": 217,
    "start_time": "2022-05-29T13:07:08.242Z"
   },
   {
    "duration": 187,
    "start_time": "2022-05-29T13:07:43.771Z"
   },
   {
    "duration": 589,
    "start_time": "2022-05-29T13:07:50.759Z"
   },
   {
    "duration": 196,
    "start_time": "2022-05-29T13:09:37.229Z"
   },
   {
    "duration": 193,
    "start_time": "2022-05-29T13:09:47.660Z"
   },
   {
    "duration": 208,
    "start_time": "2022-05-29T13:10:26.696Z"
   },
   {
    "duration": 202,
    "start_time": "2022-05-29T13:12:50.446Z"
   },
   {
    "duration": 33,
    "start_time": "2022-05-29T13:14:26.973Z"
   },
   {
    "duration": 203,
    "start_time": "2022-05-29T13:14:33.696Z"
   },
   {
    "duration": 28,
    "start_time": "2022-05-29T13:16:52.224Z"
   },
   {
    "duration": 188,
    "start_time": "2022-05-29T13:16:57.301Z"
   },
   {
    "duration": 227,
    "start_time": "2022-05-29T13:17:23.983Z"
   },
   {
    "duration": 125,
    "start_time": "2022-05-29T13:17:50.344Z"
   },
   {
    "duration": 54,
    "start_time": "2022-05-29T13:17:50.471Z"
   },
   {
    "duration": 10,
    "start_time": "2022-05-29T13:17:50.526Z"
   },
   {
    "duration": 13,
    "start_time": "2022-05-29T13:17:50.538Z"
   },
   {
    "duration": 10,
    "start_time": "2022-05-29T13:17:50.553Z"
   },
   {
    "duration": 31,
    "start_time": "2022-05-29T13:17:50.565Z"
   },
   {
    "duration": 15,
    "start_time": "2022-05-29T13:17:50.598Z"
   },
   {
    "duration": 8,
    "start_time": "2022-05-29T13:17:50.615Z"
   },
   {
    "duration": 16,
    "start_time": "2022-05-29T13:17:50.624Z"
   },
   {
    "duration": 9,
    "start_time": "2022-05-29T13:17:50.643Z"
   },
   {
    "duration": 12,
    "start_time": "2022-05-29T13:17:50.654Z"
   },
   {
    "duration": 8,
    "start_time": "2022-05-29T13:17:50.695Z"
   },
   {
    "duration": 233,
    "start_time": "2022-05-29T13:17:50.705Z"
   },
   {
    "duration": 14,
    "start_time": "2022-05-29T13:17:50.939Z"
   },
   {
    "duration": 0,
    "start_time": "2022-05-29T13:17:50.954Z"
   },
   {
    "duration": 0,
    "start_time": "2022-05-29T13:17:50.955Z"
   },
   {
    "duration": 0,
    "start_time": "2022-05-29T13:17:50.957Z"
   },
   {
    "duration": 0,
    "start_time": "2022-05-29T13:17:50.958Z"
   },
   {
    "duration": 0,
    "start_time": "2022-05-29T13:17:50.959Z"
   },
   {
    "duration": 0,
    "start_time": "2022-05-29T13:17:50.960Z"
   },
   {
    "duration": 0,
    "start_time": "2022-05-29T13:17:50.961Z"
   },
   {
    "duration": 0,
    "start_time": "2022-05-29T13:17:50.962Z"
   },
   {
    "duration": 0,
    "start_time": "2022-05-29T13:17:50.963Z"
   },
   {
    "duration": 0,
    "start_time": "2022-05-29T13:17:50.964Z"
   },
   {
    "duration": 0,
    "start_time": "2022-05-29T13:17:50.965Z"
   },
   {
    "duration": 0,
    "start_time": "2022-05-29T13:17:50.965Z"
   },
   {
    "duration": 0,
    "start_time": "2022-05-29T13:17:50.966Z"
   },
   {
    "duration": 0,
    "start_time": "2022-05-29T13:17:50.994Z"
   },
   {
    "duration": 0,
    "start_time": "2022-05-29T13:17:50.995Z"
   },
   {
    "duration": 0,
    "start_time": "2022-05-29T13:17:50.996Z"
   },
   {
    "duration": 0,
    "start_time": "2022-05-29T13:17:50.997Z"
   },
   {
    "duration": 0,
    "start_time": "2022-05-29T13:17:50.998Z"
   },
   {
    "duration": 0,
    "start_time": "2022-05-29T13:17:50.999Z"
   },
   {
    "duration": 211,
    "start_time": "2022-05-29T13:18:32.574Z"
   },
   {
    "duration": 123,
    "start_time": "2022-05-29T13:18:40.145Z"
   },
   {
    "duration": 51,
    "start_time": "2022-05-29T13:18:40.270Z"
   },
   {
    "duration": 11,
    "start_time": "2022-05-29T13:18:40.322Z"
   },
   {
    "duration": 22,
    "start_time": "2022-05-29T13:18:40.334Z"
   },
   {
    "duration": 12,
    "start_time": "2022-05-29T13:18:40.358Z"
   },
   {
    "duration": 36,
    "start_time": "2022-05-29T13:18:40.372Z"
   },
   {
    "duration": 22,
    "start_time": "2022-05-29T13:18:40.410Z"
   },
   {
    "duration": 17,
    "start_time": "2022-05-29T13:18:40.433Z"
   },
   {
    "duration": 17,
    "start_time": "2022-05-29T13:18:40.451Z"
   },
   {
    "duration": 27,
    "start_time": "2022-05-29T13:18:40.470Z"
   },
   {
    "duration": 32,
    "start_time": "2022-05-29T13:18:40.498Z"
   },
   {
    "duration": 18,
    "start_time": "2022-05-29T13:18:40.532Z"
   },
   {
    "duration": 224,
    "start_time": "2022-05-29T13:18:40.552Z"
   },
   {
    "duration": 21,
    "start_time": "2022-05-29T13:18:40.779Z"
   },
   {
    "duration": 0,
    "start_time": "2022-05-29T13:18:40.801Z"
   },
   {
    "duration": 0,
    "start_time": "2022-05-29T13:18:40.802Z"
   },
   {
    "duration": 0,
    "start_time": "2022-05-29T13:18:40.804Z"
   },
   {
    "duration": 0,
    "start_time": "2022-05-29T13:18:40.805Z"
   },
   {
    "duration": 0,
    "start_time": "2022-05-29T13:18:40.807Z"
   },
   {
    "duration": 0,
    "start_time": "2022-05-29T13:18:40.808Z"
   },
   {
    "duration": 0,
    "start_time": "2022-05-29T13:18:40.809Z"
   },
   {
    "duration": 0,
    "start_time": "2022-05-29T13:18:40.811Z"
   },
   {
    "duration": 0,
    "start_time": "2022-05-29T13:18:40.812Z"
   },
   {
    "duration": 0,
    "start_time": "2022-05-29T13:18:40.813Z"
   },
   {
    "duration": 0,
    "start_time": "2022-05-29T13:18:40.814Z"
   },
   {
    "duration": 0,
    "start_time": "2022-05-29T13:18:40.815Z"
   },
   {
    "duration": 0,
    "start_time": "2022-05-29T13:18:40.816Z"
   },
   {
    "duration": 0,
    "start_time": "2022-05-29T13:18:40.817Z"
   },
   {
    "duration": 0,
    "start_time": "2022-05-29T13:18:40.819Z"
   },
   {
    "duration": 0,
    "start_time": "2022-05-29T13:18:40.819Z"
   },
   {
    "duration": 0,
    "start_time": "2022-05-29T13:18:40.820Z"
   },
   {
    "duration": 0,
    "start_time": "2022-05-29T13:18:40.821Z"
   },
   {
    "duration": 0,
    "start_time": "2022-05-29T13:18:40.822Z"
   },
   {
    "duration": 210,
    "start_time": "2022-05-29T13:19:19.516Z"
   },
   {
    "duration": 121,
    "start_time": "2022-05-29T13:19:31.601Z"
   },
   {
    "duration": 36,
    "start_time": "2022-05-29T13:19:31.724Z"
   },
   {
    "duration": 33,
    "start_time": "2022-05-29T13:19:31.761Z"
   },
   {
    "duration": 10,
    "start_time": "2022-05-29T13:19:31.796Z"
   },
   {
    "duration": 20,
    "start_time": "2022-05-29T13:19:31.808Z"
   },
   {
    "duration": 26,
    "start_time": "2022-05-29T13:19:31.830Z"
   },
   {
    "duration": 23,
    "start_time": "2022-05-29T13:19:31.858Z"
   },
   {
    "duration": 23,
    "start_time": "2022-05-29T13:19:31.883Z"
   },
   {
    "duration": 21,
    "start_time": "2022-05-29T13:19:31.908Z"
   },
   {
    "duration": 24,
    "start_time": "2022-05-29T13:19:31.932Z"
   },
   {
    "duration": 22,
    "start_time": "2022-05-29T13:19:31.957Z"
   },
   {
    "duration": 27,
    "start_time": "2022-05-29T13:19:31.981Z"
   },
   {
    "duration": 222,
    "start_time": "2022-05-29T13:19:32.009Z"
   },
   {
    "duration": 15,
    "start_time": "2022-05-29T13:19:32.233Z"
   },
   {
    "duration": 0,
    "start_time": "2022-05-29T13:19:32.250Z"
   },
   {
    "duration": 0,
    "start_time": "2022-05-29T13:19:32.251Z"
   },
   {
    "duration": 0,
    "start_time": "2022-05-29T13:19:32.253Z"
   },
   {
    "duration": 0,
    "start_time": "2022-05-29T13:19:32.254Z"
   },
   {
    "duration": 0,
    "start_time": "2022-05-29T13:19:32.256Z"
   },
   {
    "duration": 0,
    "start_time": "2022-05-29T13:19:32.257Z"
   },
   {
    "duration": 0,
    "start_time": "2022-05-29T13:19:32.258Z"
   },
   {
    "duration": 0,
    "start_time": "2022-05-29T13:19:32.260Z"
   },
   {
    "duration": 0,
    "start_time": "2022-05-29T13:19:32.261Z"
   },
   {
    "duration": 0,
    "start_time": "2022-05-29T13:19:32.263Z"
   },
   {
    "duration": 0,
    "start_time": "2022-05-29T13:19:32.295Z"
   },
   {
    "duration": 0,
    "start_time": "2022-05-29T13:19:32.297Z"
   },
   {
    "duration": 0,
    "start_time": "2022-05-29T13:19:32.299Z"
   },
   {
    "duration": 0,
    "start_time": "2022-05-29T13:19:32.300Z"
   },
   {
    "duration": 0,
    "start_time": "2022-05-29T13:19:32.302Z"
   },
   {
    "duration": 0,
    "start_time": "2022-05-29T13:19:32.303Z"
   },
   {
    "duration": 0,
    "start_time": "2022-05-29T13:19:32.304Z"
   },
   {
    "duration": 0,
    "start_time": "2022-05-29T13:19:32.305Z"
   },
   {
    "duration": 0,
    "start_time": "2022-05-29T13:19:32.307Z"
   },
   {
    "duration": 201,
    "start_time": "2022-05-29T13:21:57.580Z"
   },
   {
    "duration": 233,
    "start_time": "2022-05-29T13:22:40.944Z"
   },
   {
    "duration": 212,
    "start_time": "2022-05-29T13:29:13.857Z"
   },
   {
    "duration": 204,
    "start_time": "2022-05-29T13:29:34.907Z"
   },
   {
    "duration": 213,
    "start_time": "2022-05-29T13:30:00.167Z"
   },
   {
    "duration": 11,
    "start_time": "2022-05-29T13:30:49.671Z"
   },
   {
    "duration": 126,
    "start_time": "2022-05-29T13:30:53.529Z"
   },
   {
    "duration": 64,
    "start_time": "2022-05-29T13:30:53.657Z"
   },
   {
    "duration": 10,
    "start_time": "2022-05-29T13:30:53.722Z"
   },
   {
    "duration": 18,
    "start_time": "2022-05-29T13:30:53.734Z"
   },
   {
    "duration": 17,
    "start_time": "2022-05-29T13:30:53.753Z"
   },
   {
    "duration": 30,
    "start_time": "2022-05-29T13:30:53.772Z"
   },
   {
    "duration": 19,
    "start_time": "2022-05-29T13:30:53.804Z"
   },
   {
    "duration": 9,
    "start_time": "2022-05-29T13:30:53.825Z"
   },
   {
    "duration": 18,
    "start_time": "2022-05-29T13:30:53.836Z"
   },
   {
    "duration": 14,
    "start_time": "2022-05-29T13:30:53.857Z"
   },
   {
    "duration": 9,
    "start_time": "2022-05-29T13:30:53.895Z"
   },
   {
    "duration": 20,
    "start_time": "2022-05-29T13:30:53.906Z"
   },
   {
    "duration": 23,
    "start_time": "2022-05-29T13:30:53.928Z"
   },
   {
    "duration": 16,
    "start_time": "2022-05-29T13:30:53.953Z"
   },
   {
    "duration": 0,
    "start_time": "2022-05-29T13:30:53.971Z"
   },
   {
    "duration": 0,
    "start_time": "2022-05-29T13:30:53.973Z"
   },
   {
    "duration": 0,
    "start_time": "2022-05-29T13:30:53.974Z"
   },
   {
    "duration": 0,
    "start_time": "2022-05-29T13:30:53.975Z"
   },
   {
    "duration": 0,
    "start_time": "2022-05-29T13:30:53.994Z"
   },
   {
    "duration": 0,
    "start_time": "2022-05-29T13:30:53.995Z"
   },
   {
    "duration": 0,
    "start_time": "2022-05-29T13:30:53.996Z"
   },
   {
    "duration": 0,
    "start_time": "2022-05-29T13:30:53.998Z"
   },
   {
    "duration": 0,
    "start_time": "2022-05-29T13:30:53.998Z"
   },
   {
    "duration": 0,
    "start_time": "2022-05-29T13:30:53.999Z"
   },
   {
    "duration": 0,
    "start_time": "2022-05-29T13:30:54.001Z"
   },
   {
    "duration": 0,
    "start_time": "2022-05-29T13:30:54.002Z"
   },
   {
    "duration": 0,
    "start_time": "2022-05-29T13:30:54.003Z"
   },
   {
    "duration": 0,
    "start_time": "2022-05-29T13:30:54.004Z"
   },
   {
    "duration": 0,
    "start_time": "2022-05-29T13:30:54.004Z"
   },
   {
    "duration": 0,
    "start_time": "2022-05-29T13:30:54.005Z"
   },
   {
    "duration": 0,
    "start_time": "2022-05-29T13:30:54.007Z"
   },
   {
    "duration": 0,
    "start_time": "2022-05-29T13:30:54.008Z"
   },
   {
    "duration": 0,
    "start_time": "2022-05-29T13:30:54.008Z"
   },
   {
    "duration": 11,
    "start_time": "2022-05-29T13:38:21.385Z"
   },
   {
    "duration": 12,
    "start_time": "2022-05-29T13:38:29.354Z"
   },
   {
    "duration": 28,
    "start_time": "2022-05-29T13:40:01.570Z"
   },
   {
    "duration": 31,
    "start_time": "2022-05-29T13:40:47.568Z"
   },
   {
    "duration": 31,
    "start_time": "2022-05-29T13:40:54.508Z"
   },
   {
    "duration": 123,
    "start_time": "2022-05-29T13:40:57.228Z"
   },
   {
    "duration": 54,
    "start_time": "2022-05-29T13:40:57.353Z"
   },
   {
    "duration": 10,
    "start_time": "2022-05-29T13:40:57.409Z"
   },
   {
    "duration": 15,
    "start_time": "2022-05-29T13:40:57.421Z"
   },
   {
    "duration": 9,
    "start_time": "2022-05-29T13:40:57.438Z"
   },
   {
    "duration": 7,
    "start_time": "2022-05-29T13:40:57.449Z"
   },
   {
    "duration": 36,
    "start_time": "2022-05-29T13:40:57.458Z"
   },
   {
    "duration": 7,
    "start_time": "2022-05-29T13:40:57.496Z"
   },
   {
    "duration": 8,
    "start_time": "2022-05-29T13:40:57.504Z"
   },
   {
    "duration": 9,
    "start_time": "2022-05-29T13:40:57.514Z"
   },
   {
    "duration": 7,
    "start_time": "2022-05-29T13:40:57.524Z"
   },
   {
    "duration": 11,
    "start_time": "2022-05-29T13:40:57.533Z"
   },
   {
    "duration": 66,
    "start_time": "2022-05-29T13:40:57.546Z"
   },
   {
    "duration": 14,
    "start_time": "2022-05-29T13:40:57.614Z"
   },
   {
    "duration": 0,
    "start_time": "2022-05-29T13:40:57.629Z"
   },
   {
    "duration": 0,
    "start_time": "2022-05-29T13:40:57.631Z"
   },
   {
    "duration": 0,
    "start_time": "2022-05-29T13:40:57.632Z"
   },
   {
    "duration": 0,
    "start_time": "2022-05-29T13:40:57.633Z"
   },
   {
    "duration": 0,
    "start_time": "2022-05-29T13:40:57.633Z"
   },
   {
    "duration": 0,
    "start_time": "2022-05-29T13:40:57.635Z"
   },
   {
    "duration": 0,
    "start_time": "2022-05-29T13:40:57.635Z"
   },
   {
    "duration": 0,
    "start_time": "2022-05-29T13:40:57.636Z"
   },
   {
    "duration": 0,
    "start_time": "2022-05-29T13:40:57.637Z"
   },
   {
    "duration": 0,
    "start_time": "2022-05-29T13:40:57.638Z"
   },
   {
    "duration": 0,
    "start_time": "2022-05-29T13:40:57.639Z"
   },
   {
    "duration": 0,
    "start_time": "2022-05-29T13:40:57.639Z"
   },
   {
    "duration": 0,
    "start_time": "2022-05-29T13:40:57.640Z"
   },
   {
    "duration": 0,
    "start_time": "2022-05-29T13:40:57.641Z"
   },
   {
    "duration": 0,
    "start_time": "2022-05-29T13:40:57.642Z"
   },
   {
    "duration": 0,
    "start_time": "2022-05-29T13:40:57.642Z"
   },
   {
    "duration": 0,
    "start_time": "2022-05-29T13:40:57.643Z"
   },
   {
    "duration": 0,
    "start_time": "2022-05-29T13:40:57.644Z"
   },
   {
    "duration": 0,
    "start_time": "2022-05-29T13:40:57.646Z"
   },
   {
    "duration": 30,
    "start_time": "2022-05-29T13:41:21.548Z"
   },
   {
    "duration": 133,
    "start_time": "2022-05-29T13:41:30.644Z"
   },
   {
    "duration": 46,
    "start_time": "2022-05-29T13:41:30.778Z"
   },
   {
    "duration": 10,
    "start_time": "2022-05-29T13:41:30.826Z"
   },
   {
    "duration": 19,
    "start_time": "2022-05-29T13:41:30.838Z"
   },
   {
    "duration": 10,
    "start_time": "2022-05-29T13:41:30.859Z"
   },
   {
    "duration": 30,
    "start_time": "2022-05-29T13:41:30.871Z"
   },
   {
    "duration": 19,
    "start_time": "2022-05-29T13:41:30.903Z"
   },
   {
    "duration": 9,
    "start_time": "2022-05-29T13:41:30.924Z"
   },
   {
    "duration": 8,
    "start_time": "2022-05-29T13:41:30.934Z"
   },
   {
    "duration": 17,
    "start_time": "2022-05-29T13:41:30.945Z"
   },
   {
    "duration": 32,
    "start_time": "2022-05-29T13:41:30.964Z"
   },
   {
    "duration": 9,
    "start_time": "2022-05-29T13:41:30.998Z"
   },
   {
    "duration": 40,
    "start_time": "2022-05-29T13:41:31.008Z"
   },
   {
    "duration": 18,
    "start_time": "2022-05-29T13:41:31.050Z"
   },
   {
    "duration": 0,
    "start_time": "2022-05-29T13:41:31.070Z"
   },
   {
    "duration": 1,
    "start_time": "2022-05-29T13:41:31.071Z"
   },
   {
    "duration": 0,
    "start_time": "2022-05-29T13:41:31.073Z"
   },
   {
    "duration": 0,
    "start_time": "2022-05-29T13:41:31.075Z"
   },
   {
    "duration": 0,
    "start_time": "2022-05-29T13:41:31.076Z"
   },
   {
    "duration": 0,
    "start_time": "2022-05-29T13:41:31.077Z"
   },
   {
    "duration": 0,
    "start_time": "2022-05-29T13:41:31.078Z"
   },
   {
    "duration": 0,
    "start_time": "2022-05-29T13:41:31.095Z"
   },
   {
    "duration": 0,
    "start_time": "2022-05-29T13:41:31.097Z"
   },
   {
    "duration": 0,
    "start_time": "2022-05-29T13:41:31.097Z"
   },
   {
    "duration": 0,
    "start_time": "2022-05-29T13:41:31.099Z"
   },
   {
    "duration": 0,
    "start_time": "2022-05-29T13:41:31.100Z"
   },
   {
    "duration": 0,
    "start_time": "2022-05-29T13:41:31.101Z"
   },
   {
    "duration": 0,
    "start_time": "2022-05-29T13:41:31.102Z"
   },
   {
    "duration": 0,
    "start_time": "2022-05-29T13:41:31.103Z"
   },
   {
    "duration": 0,
    "start_time": "2022-05-29T13:41:31.105Z"
   },
   {
    "duration": 0,
    "start_time": "2022-05-29T13:41:31.106Z"
   },
   {
    "duration": 1,
    "start_time": "2022-05-29T13:41:31.107Z"
   },
   {
    "duration": 0,
    "start_time": "2022-05-29T13:41:31.109Z"
   },
   {
    "duration": 124,
    "start_time": "2022-05-29T13:42:46.815Z"
   },
   {
    "duration": 59,
    "start_time": "2022-05-29T13:42:46.940Z"
   },
   {
    "duration": 10,
    "start_time": "2022-05-29T13:42:47.000Z"
   },
   {
    "duration": 15,
    "start_time": "2022-05-29T13:42:47.012Z"
   },
   {
    "duration": 17,
    "start_time": "2022-05-29T13:42:47.029Z"
   },
   {
    "duration": 8,
    "start_time": "2022-05-29T13:42:47.047Z"
   },
   {
    "duration": 17,
    "start_time": "2022-05-29T13:42:47.056Z"
   },
   {
    "duration": 23,
    "start_time": "2022-05-29T13:42:47.075Z"
   },
   {
    "duration": 12,
    "start_time": "2022-05-29T13:42:47.100Z"
   },
   {
    "duration": 8,
    "start_time": "2022-05-29T13:42:47.115Z"
   },
   {
    "duration": 10,
    "start_time": "2022-05-29T13:42:47.125Z"
   },
   {
    "duration": 12,
    "start_time": "2022-05-29T13:42:47.137Z"
   },
   {
    "duration": 76,
    "start_time": "2022-05-29T13:42:47.152Z"
   },
   {
    "duration": 13,
    "start_time": "2022-05-29T13:42:47.230Z"
   },
   {
    "duration": 0,
    "start_time": "2022-05-29T13:42:47.245Z"
   },
   {
    "duration": 0,
    "start_time": "2022-05-29T13:42:47.246Z"
   },
   {
    "duration": 0,
    "start_time": "2022-05-29T13:42:47.247Z"
   },
   {
    "duration": 0,
    "start_time": "2022-05-29T13:42:47.249Z"
   },
   {
    "duration": 0,
    "start_time": "2022-05-29T13:42:47.250Z"
   },
   {
    "duration": 0,
    "start_time": "2022-05-29T13:42:47.251Z"
   },
   {
    "duration": 0,
    "start_time": "2022-05-29T13:42:47.253Z"
   },
   {
    "duration": 0,
    "start_time": "2022-05-29T13:42:47.254Z"
   },
   {
    "duration": 0,
    "start_time": "2022-05-29T13:42:47.294Z"
   },
   {
    "duration": 0,
    "start_time": "2022-05-29T13:42:47.295Z"
   },
   {
    "duration": 0,
    "start_time": "2022-05-29T13:42:47.297Z"
   },
   {
    "duration": 0,
    "start_time": "2022-05-29T13:42:47.299Z"
   },
   {
    "duration": 0,
    "start_time": "2022-05-29T13:42:47.300Z"
   },
   {
    "duration": 1,
    "start_time": "2022-05-29T13:42:47.301Z"
   },
   {
    "duration": 0,
    "start_time": "2022-05-29T13:42:47.303Z"
   },
   {
    "duration": 0,
    "start_time": "2022-05-29T13:42:47.304Z"
   },
   {
    "duration": 1,
    "start_time": "2022-05-29T13:42:47.305Z"
   },
   {
    "duration": 0,
    "start_time": "2022-05-29T13:42:47.307Z"
   },
   {
    "duration": 0,
    "start_time": "2022-05-29T13:42:47.308Z"
   },
   {
    "duration": 19,
    "start_time": "2022-05-29T13:47:42.494Z"
   },
   {
    "duration": 164,
    "start_time": "2022-05-29T13:51:34.366Z"
   },
   {
    "duration": 157,
    "start_time": "2022-05-29T13:51:58.184Z"
   },
   {
    "duration": 177,
    "start_time": "2022-05-29T13:52:26.849Z"
   },
   {
    "duration": 158,
    "start_time": "2022-05-29T13:52:34.072Z"
   },
   {
    "duration": 173,
    "start_time": "2022-05-29T13:52:41.089Z"
   },
   {
    "duration": 177,
    "start_time": "2022-05-29T13:53:09.340Z"
   },
   {
    "duration": 603,
    "start_time": "2022-05-29T13:57:43.728Z"
   },
   {
    "duration": 172,
    "start_time": "2022-05-29T13:57:54.767Z"
   },
   {
    "duration": 119,
    "start_time": "2022-05-29T13:58:11.627Z"
   },
   {
    "duration": 48,
    "start_time": "2022-05-29T13:58:11.748Z"
   },
   {
    "duration": 10,
    "start_time": "2022-05-29T13:58:11.797Z"
   },
   {
    "duration": 11,
    "start_time": "2022-05-29T13:58:11.808Z"
   },
   {
    "duration": 8,
    "start_time": "2022-05-29T13:58:11.820Z"
   },
   {
    "duration": 7,
    "start_time": "2022-05-29T13:58:11.829Z"
   },
   {
    "duration": 12,
    "start_time": "2022-05-29T13:58:11.838Z"
   },
   {
    "duration": 6,
    "start_time": "2022-05-29T13:58:11.852Z"
   },
   {
    "duration": 40,
    "start_time": "2022-05-29T13:58:11.859Z"
   },
   {
    "duration": 8,
    "start_time": "2022-05-29T13:58:11.901Z"
   },
   {
    "duration": 6,
    "start_time": "2022-05-29T13:58:11.910Z"
   },
   {
    "duration": 8,
    "start_time": "2022-05-29T13:58:11.918Z"
   },
   {
    "duration": 235,
    "start_time": "2022-05-29T13:58:11.928Z"
   },
   {
    "duration": 194,
    "start_time": "2022-05-29T13:58:12.165Z"
   },
   {
    "duration": 14,
    "start_time": "2022-05-29T13:58:12.361Z"
   },
   {
    "duration": 0,
    "start_time": "2022-05-29T13:58:12.377Z"
   },
   {
    "duration": 0,
    "start_time": "2022-05-29T13:58:12.378Z"
   },
   {
    "duration": 0,
    "start_time": "2022-05-29T13:58:12.394Z"
   },
   {
    "duration": 0,
    "start_time": "2022-05-29T13:58:12.395Z"
   },
   {
    "duration": 0,
    "start_time": "2022-05-29T13:58:12.396Z"
   },
   {
    "duration": 0,
    "start_time": "2022-05-29T13:58:12.397Z"
   },
   {
    "duration": 0,
    "start_time": "2022-05-29T13:58:12.398Z"
   },
   {
    "duration": 0,
    "start_time": "2022-05-29T13:58:12.399Z"
   },
   {
    "duration": 0,
    "start_time": "2022-05-29T13:58:12.400Z"
   },
   {
    "duration": 0,
    "start_time": "2022-05-29T13:58:12.401Z"
   },
   {
    "duration": 0,
    "start_time": "2022-05-29T13:58:12.402Z"
   },
   {
    "duration": 0,
    "start_time": "2022-05-29T13:58:12.403Z"
   },
   {
    "duration": 0,
    "start_time": "2022-05-29T13:58:12.404Z"
   },
   {
    "duration": 0,
    "start_time": "2022-05-29T13:58:12.405Z"
   },
   {
    "duration": 0,
    "start_time": "2022-05-29T13:58:12.406Z"
   },
   {
    "duration": 0,
    "start_time": "2022-05-29T13:58:12.406Z"
   },
   {
    "duration": 0,
    "start_time": "2022-05-29T13:58:12.408Z"
   },
   {
    "duration": 0,
    "start_time": "2022-05-29T13:58:12.409Z"
   },
   {
    "duration": 0,
    "start_time": "2022-05-29T13:58:12.410Z"
   },
   {
    "duration": 203,
    "start_time": "2022-05-29T13:58:43.971Z"
   },
   {
    "duration": 277,
    "start_time": "2022-05-29T13:59:50.662Z"
   },
   {
    "duration": 211,
    "start_time": "2022-05-29T14:00:00.386Z"
   },
   {
    "duration": 187,
    "start_time": "2022-05-29T14:00:13.545Z"
   },
   {
    "duration": 254,
    "start_time": "2022-05-29T14:02:15.374Z"
   },
   {
    "duration": 199,
    "start_time": "2022-05-29T14:05:28.167Z"
   },
   {
    "duration": 194,
    "start_time": "2022-05-29T14:05:38.672Z"
   },
   {
    "duration": 32,
    "start_time": "2022-05-29T14:10:37.548Z"
   },
   {
    "duration": 12,
    "start_time": "2022-05-29T14:11:47.948Z"
   },
   {
    "duration": 11,
    "start_time": "2022-05-29T14:17:17.950Z"
   },
   {
    "duration": 14,
    "start_time": "2022-05-29T14:18:57.766Z"
   },
   {
    "duration": 9,
    "start_time": "2022-05-29T14:20:55.695Z"
   },
   {
    "duration": 10,
    "start_time": "2022-05-29T14:21:23.078Z"
   },
   {
    "duration": 10,
    "start_time": "2022-05-29T14:25:18.146Z"
   },
   {
    "duration": 11,
    "start_time": "2022-05-29T14:26:44.853Z"
   },
   {
    "duration": 9,
    "start_time": "2022-05-29T14:29:14.374Z"
   },
   {
    "duration": 7,
    "start_time": "2022-05-29T14:30:31.726Z"
   },
   {
    "duration": 9,
    "start_time": "2022-05-29T14:34:27.061Z"
   },
   {
    "duration": 9,
    "start_time": "2022-05-29T14:35:42.593Z"
   },
   {
    "duration": 8,
    "start_time": "2022-05-29T14:46:18.973Z"
   },
   {
    "duration": 11,
    "start_time": "2022-05-29T14:46:40.030Z"
   },
   {
    "duration": 6,
    "start_time": "2022-05-29T14:46:54.573Z"
   },
   {
    "duration": 7,
    "start_time": "2022-05-29T14:48:08.251Z"
   },
   {
    "duration": 5,
    "start_time": "2022-05-29T14:48:38.981Z"
   },
   {
    "duration": 6,
    "start_time": "2022-05-29T14:49:26.191Z"
   },
   {
    "duration": 4,
    "start_time": "2022-05-29T14:49:32.995Z"
   },
   {
    "duration": 12,
    "start_time": "2022-05-29T14:50:45.852Z"
   },
   {
    "duration": 5,
    "start_time": "2022-05-29T14:54:34.053Z"
   },
   {
    "duration": 7,
    "start_time": "2022-05-29T14:54:55.057Z"
   },
   {
    "duration": 7,
    "start_time": "2022-05-29T14:57:13.047Z"
   },
   {
    "duration": 7,
    "start_time": "2022-05-29T14:57:37.774Z"
   },
   {
    "duration": 6,
    "start_time": "2022-05-29T14:57:50.724Z"
   },
   {
    "duration": 20,
    "start_time": "2022-05-29T14:58:44.276Z"
   },
   {
    "duration": 7,
    "start_time": "2022-05-29T14:59:34.088Z"
   },
   {
    "duration": 122,
    "start_time": "2022-05-29T14:59:38.538Z"
   },
   {
    "duration": 45,
    "start_time": "2022-05-29T14:59:38.662Z"
   },
   {
    "duration": 11,
    "start_time": "2022-05-29T14:59:38.709Z"
   },
   {
    "duration": 13,
    "start_time": "2022-05-29T14:59:38.722Z"
   },
   {
    "duration": 15,
    "start_time": "2022-05-29T14:59:38.736Z"
   },
   {
    "duration": 7,
    "start_time": "2022-05-29T14:59:38.753Z"
   },
   {
    "duration": 40,
    "start_time": "2022-05-29T14:59:38.761Z"
   },
   {
    "duration": 6,
    "start_time": "2022-05-29T14:59:38.802Z"
   },
   {
    "duration": 11,
    "start_time": "2022-05-29T14:59:38.810Z"
   },
   {
    "duration": 11,
    "start_time": "2022-05-29T14:59:38.824Z"
   },
   {
    "duration": 13,
    "start_time": "2022-05-29T14:59:38.837Z"
   },
   {
    "duration": 8,
    "start_time": "2022-05-29T14:59:38.852Z"
   },
   {
    "duration": 280,
    "start_time": "2022-05-29T14:59:38.862Z"
   },
   {
    "duration": 209,
    "start_time": "2022-05-29T14:59:39.144Z"
   },
   {
    "duration": 9,
    "start_time": "2022-05-29T14:59:39.354Z"
   },
   {
    "duration": 31,
    "start_time": "2022-05-29T14:59:39.365Z"
   },
   {
    "duration": 8,
    "start_time": "2022-05-29T14:59:39.398Z"
   },
   {
    "duration": 14,
    "start_time": "2022-05-29T14:59:39.408Z"
   },
   {
    "duration": 18,
    "start_time": "2022-05-29T14:59:39.423Z"
   },
   {
    "duration": 8,
    "start_time": "2022-05-29T14:59:39.442Z"
   },
   {
    "duration": 12,
    "start_time": "2022-05-29T14:59:39.452Z"
   },
   {
    "duration": 17,
    "start_time": "2022-05-29T14:59:39.465Z"
   },
   {
    "duration": 18,
    "start_time": "2022-05-29T14:59:39.483Z"
   },
   {
    "duration": 10,
    "start_time": "2022-05-29T14:59:39.502Z"
   },
   {
    "duration": 22,
    "start_time": "2022-05-29T14:59:39.513Z"
   },
   {
    "duration": 312,
    "start_time": "2022-05-29T14:59:39.536Z"
   },
   {
    "duration": 1346,
    "start_time": "2022-05-29T14:59:39.850Z"
   },
   {
    "duration": 315,
    "start_time": "2022-05-29T14:59:41.200Z"
   },
   {
    "duration": 606,
    "start_time": "2022-05-29T14:59:41.517Z"
   },
   {
    "duration": 555,
    "start_time": "2022-05-29T14:59:42.125Z"
   },
   {
    "duration": 16,
    "start_time": "2022-05-29T14:59:42.682Z"
   },
   {
    "duration": 157,
    "start_time": "2022-05-29T14:59:42.700Z"
   },
   {
    "duration": 150,
    "start_time": "2022-05-29T14:59:42.858Z"
   },
   {
    "duration": 195,
    "start_time": "2022-05-29T14:59:43.009Z"
   },
   {
    "duration": 149,
    "start_time": "2022-05-29T14:59:43.206Z"
   },
   {
    "duration": 151,
    "start_time": "2022-05-29T14:59:43.357Z"
   },
   {
    "duration": 164,
    "start_time": "2022-05-29T14:59:43.509Z"
   },
   {
    "duration": 38,
    "start_time": "2022-05-29T14:59:43.675Z"
   },
   {
    "duration": 168,
    "start_time": "2022-05-29T14:59:43.715Z"
   },
   {
    "duration": 172,
    "start_time": "2022-05-29T14:59:43.885Z"
   },
   {
    "duration": 163,
    "start_time": "2022-05-29T14:59:44.059Z"
   },
   {
    "duration": 173,
    "start_time": "2022-05-29T14:59:44.224Z"
   },
   {
    "duration": 152,
    "start_time": "2022-05-29T14:59:44.399Z"
   },
   {
    "duration": 149,
    "start_time": "2022-05-29T14:59:44.553Z"
   },
   {
    "duration": 184,
    "start_time": "2022-05-29T14:59:44.704Z"
   },
   {
    "duration": 36,
    "start_time": "2022-05-29T15:02:59.686Z"
   },
   {
    "duration": 123,
    "start_time": "2022-05-29T15:14:03.685Z"
   },
   {
    "duration": 37,
    "start_time": "2022-05-29T15:14:03.811Z"
   },
   {
    "duration": 12,
    "start_time": "2022-05-29T15:14:03.849Z"
   },
   {
    "duration": 12,
    "start_time": "2022-05-29T15:14:03.894Z"
   },
   {
    "duration": 9,
    "start_time": "2022-05-29T15:14:03.907Z"
   },
   {
    "duration": 7,
    "start_time": "2022-05-29T15:14:03.917Z"
   },
   {
    "duration": 13,
    "start_time": "2022-05-29T15:14:03.926Z"
   },
   {
    "duration": 6,
    "start_time": "2022-05-29T15:14:03.940Z"
   },
   {
    "duration": 8,
    "start_time": "2022-05-29T15:14:03.948Z"
   },
   {
    "duration": 41,
    "start_time": "2022-05-29T15:14:03.959Z"
   },
   {
    "duration": 18,
    "start_time": "2022-05-29T15:14:04.002Z"
   },
   {
    "duration": 18,
    "start_time": "2022-05-29T15:14:04.022Z"
   },
   {
    "duration": 197,
    "start_time": "2022-05-29T15:14:04.042Z"
   },
   {
    "duration": 209,
    "start_time": "2022-05-29T15:14:04.241Z"
   },
   {
    "duration": 10,
    "start_time": "2022-05-29T15:14:04.452Z"
   },
   {
    "duration": 14,
    "start_time": "2022-05-29T15:14:04.463Z"
   },
   {
    "duration": 8,
    "start_time": "2022-05-29T15:14:04.495Z"
   },
   {
    "duration": 7,
    "start_time": "2022-05-29T15:14:04.504Z"
   },
   {
    "duration": 6,
    "start_time": "2022-05-29T15:14:04.513Z"
   },
   {
    "duration": 3,
    "start_time": "2022-05-29T15:14:04.521Z"
   },
   {
    "duration": 4,
    "start_time": "2022-05-29T15:14:04.526Z"
   },
   {
    "duration": 11,
    "start_time": "2022-05-29T15:14:04.532Z"
   },
   {
    "duration": 6,
    "start_time": "2022-05-29T15:14:04.545Z"
   },
   {
    "duration": 7,
    "start_time": "2022-05-29T15:14:04.593Z"
   },
   {
    "duration": 20,
    "start_time": "2022-05-29T15:14:04.602Z"
   },
   {
    "duration": 314,
    "start_time": "2022-05-29T15:14:04.623Z"
   },
   {
    "duration": 1293,
    "start_time": "2022-05-29T15:14:04.938Z"
   },
   {
    "duration": 285,
    "start_time": "2022-05-29T15:14:06.235Z"
   },
   {
    "duration": 574,
    "start_time": "2022-05-29T15:14:06.522Z"
   },
   {
    "duration": 528,
    "start_time": "2022-05-29T15:14:07.098Z"
   },
   {
    "duration": 9,
    "start_time": "2022-05-29T15:14:07.627Z"
   },
   {
    "duration": 164,
    "start_time": "2022-05-29T15:14:07.638Z"
   },
   {
    "duration": 157,
    "start_time": "2022-05-29T15:14:07.803Z"
   },
   {
    "duration": 208,
    "start_time": "2022-05-29T15:14:07.962Z"
   },
   {
    "duration": 154,
    "start_time": "2022-05-29T15:14:08.172Z"
   },
   {
    "duration": 153,
    "start_time": "2022-05-29T15:14:08.328Z"
   },
   {
    "duration": 157,
    "start_time": "2022-05-29T15:14:08.493Z"
   },
   {
    "duration": 43,
    "start_time": "2022-05-29T15:14:08.652Z"
   },
   {
    "duration": 162,
    "start_time": "2022-05-29T15:14:08.696Z"
   },
   {
    "duration": 212,
    "start_time": "2022-05-29T15:14:08.860Z"
   },
   {
    "duration": 163,
    "start_time": "2022-05-29T15:14:09.074Z"
   },
   {
    "duration": 162,
    "start_time": "2022-05-29T15:14:09.239Z"
   },
   {
    "duration": 141,
    "start_time": "2022-05-29T15:14:09.402Z"
   },
   {
    "duration": 152,
    "start_time": "2022-05-29T15:14:09.544Z"
   },
   {
    "duration": 167,
    "start_time": "2022-05-29T15:14:09.697Z"
   },
   {
    "duration": 126,
    "start_time": "2022-05-29T15:31:18.740Z"
   },
   {
    "duration": 64,
    "start_time": "2022-05-29T15:31:18.869Z"
   },
   {
    "duration": 14,
    "start_time": "2022-05-29T15:31:18.935Z"
   },
   {
    "duration": 46,
    "start_time": "2022-05-29T15:31:18.950Z"
   },
   {
    "duration": 12,
    "start_time": "2022-05-29T15:31:18.999Z"
   },
   {
    "duration": 18,
    "start_time": "2022-05-29T15:31:19.013Z"
   },
   {
    "duration": 16,
    "start_time": "2022-05-29T15:31:19.033Z"
   },
   {
    "duration": 21,
    "start_time": "2022-05-29T15:31:19.051Z"
   },
   {
    "duration": 24,
    "start_time": "2022-05-29T15:31:19.074Z"
   },
   {
    "duration": 10,
    "start_time": "2022-05-29T15:31:19.100Z"
   },
   {
    "duration": 10,
    "start_time": "2022-05-29T15:31:19.112Z"
   },
   {
    "duration": 18,
    "start_time": "2022-05-29T15:31:19.124Z"
   },
   {
    "duration": 234,
    "start_time": "2022-05-29T15:31:19.145Z"
   },
   {
    "duration": 206,
    "start_time": "2022-05-29T15:31:19.382Z"
   },
   {
    "duration": 9,
    "start_time": "2022-05-29T15:31:19.593Z"
   },
   {
    "duration": 14,
    "start_time": "2022-05-29T15:31:19.604Z"
   },
   {
    "duration": 8,
    "start_time": "2022-05-29T15:31:19.619Z"
   },
   {
    "duration": 7,
    "start_time": "2022-05-29T15:31:19.629Z"
   },
   {
    "duration": 6,
    "start_time": "2022-05-29T15:31:19.637Z"
   },
   {
    "duration": 4,
    "start_time": "2022-05-29T15:31:19.644Z"
   },
   {
    "duration": 45,
    "start_time": "2022-05-29T15:31:19.650Z"
   },
   {
    "duration": 11,
    "start_time": "2022-05-29T15:31:19.697Z"
   },
   {
    "duration": 7,
    "start_time": "2022-05-29T15:31:19.709Z"
   },
   {
    "duration": 7,
    "start_time": "2022-05-29T15:31:19.717Z"
   },
   {
    "duration": 18,
    "start_time": "2022-05-29T15:31:19.725Z"
   },
   {
    "duration": 366,
    "start_time": "2022-05-29T15:31:19.745Z"
   },
   {
    "duration": 268,
    "start_time": "2022-05-29T15:31:20.112Z"
   },
   {
    "duration": 279,
    "start_time": "2022-05-29T15:31:20.382Z"
   },
   {
    "duration": 184,
    "start_time": "2022-05-29T15:31:20.662Z"
   },
   {
    "duration": 722,
    "start_time": "2022-05-29T15:31:20.848Z"
   },
   {
    "duration": 284,
    "start_time": "2022-05-29T15:31:21.572Z"
   },
   {
    "duration": 588,
    "start_time": "2022-05-29T15:31:21.858Z"
   },
   {
    "duration": 559,
    "start_time": "2022-05-29T15:31:22.447Z"
   },
   {
    "duration": 10,
    "start_time": "2022-05-29T15:31:23.008Z"
   },
   {
    "duration": 162,
    "start_time": "2022-05-29T15:31:23.020Z"
   },
   {
    "duration": 161,
    "start_time": "2022-05-29T15:31:23.184Z"
   },
   {
    "duration": 188,
    "start_time": "2022-05-29T15:31:23.346Z"
   },
   {
    "duration": 144,
    "start_time": "2022-05-29T15:31:23.536Z"
   },
   {
    "duration": 155,
    "start_time": "2022-05-29T15:31:23.682Z"
   },
   {
    "duration": 157,
    "start_time": "2022-05-29T15:31:23.839Z"
   },
   {
    "duration": 33,
    "start_time": "2022-05-29T15:31:23.999Z"
   },
   {
    "duration": 179,
    "start_time": "2022-05-29T15:31:24.034Z"
   },
   {
    "duration": 171,
    "start_time": "2022-05-29T15:31:24.215Z"
   },
   {
    "duration": 155,
    "start_time": "2022-05-29T15:31:24.394Z"
   },
   {
    "duration": 156,
    "start_time": "2022-05-29T15:31:24.551Z"
   },
   {
    "duration": 159,
    "start_time": "2022-05-29T15:31:24.709Z"
   },
   {
    "duration": 160,
    "start_time": "2022-05-29T15:31:24.870Z"
   },
   {
    "duration": 169,
    "start_time": "2022-05-29T15:31:25.032Z"
   },
   {
    "duration": 278,
    "start_time": "2022-05-29T15:33:00.867Z"
   },
   {
    "duration": 278,
    "start_time": "2022-05-29T15:33:07.395Z"
   },
   {
    "duration": 316,
    "start_time": "2022-05-29T15:33:31.749Z"
   },
   {
    "duration": 166,
    "start_time": "2022-05-29T15:33:38.045Z"
   },
   {
    "duration": 188,
    "start_time": "2022-05-29T15:33:42.141Z"
   },
   {
    "duration": 189,
    "start_time": "2022-05-29T15:37:16.206Z"
   },
   {
    "duration": 198,
    "start_time": "2022-05-29T15:37:28.026Z"
   },
   {
    "duration": 1015,
    "start_time": "2022-05-29T15:43:04.949Z"
   },
   {
    "duration": 530,
    "start_time": "2022-05-29T15:43:42.493Z"
   },
   {
    "duration": 514,
    "start_time": "2022-05-29T15:43:56.921Z"
   },
   {
    "duration": 507,
    "start_time": "2022-05-29T15:44:06.252Z"
   },
   {
    "duration": 533,
    "start_time": "2022-05-29T15:44:37.423Z"
   },
   {
    "duration": 372,
    "start_time": "2022-05-29T15:45:12.961Z"
   },
   {
    "duration": 374,
    "start_time": "2022-05-29T15:45:30.398Z"
   },
   {
    "duration": 848,
    "start_time": "2022-05-29T15:45:41.741Z"
   },
   {
    "duration": 352,
    "start_time": "2022-05-29T15:45:48.547Z"
   },
   {
    "duration": 442,
    "start_time": "2022-05-29T15:46:59.016Z"
   },
   {
    "duration": 408,
    "start_time": "2022-05-29T15:47:11.815Z"
   },
   {
    "duration": 438,
    "start_time": "2022-05-29T15:47:16.091Z"
   },
   {
    "duration": 418,
    "start_time": "2022-05-29T15:47:19.752Z"
   },
   {
    "duration": 494,
    "start_time": "2022-05-29T15:47:33.731Z"
   },
   {
    "duration": 638,
    "start_time": "2022-05-29T15:47:41.209Z"
   },
   {
    "duration": 502,
    "start_time": "2022-05-29T15:47:48.869Z"
   },
   {
    "duration": 364,
    "start_time": "2022-05-29T15:47:54.039Z"
   },
   {
    "duration": 378,
    "start_time": "2022-05-29T15:48:00.956Z"
   },
   {
    "duration": 151,
    "start_time": "2022-05-29T16:07:08.018Z"
   },
   {
    "duration": 140,
    "start_time": "2022-05-29T16:07:38.478Z"
   },
   {
    "duration": 648,
    "start_time": "2022-05-29T16:10:23.012Z"
   },
   {
    "duration": 193,
    "start_time": "2022-05-29T16:10:47.981Z"
   },
   {
    "duration": 195,
    "start_time": "2022-05-29T16:10:57.563Z"
   },
   {
    "duration": 194,
    "start_time": "2022-05-29T16:11:06.469Z"
   },
   {
    "duration": 193,
    "start_time": "2022-05-29T16:11:52.413Z"
   },
   {
    "duration": 177,
    "start_time": "2022-05-29T16:11:58.829Z"
   },
   {
    "duration": 155,
    "start_time": "2022-05-29T16:12:05.130Z"
   },
   {
    "duration": 156,
    "start_time": "2022-05-29T16:12:59.721Z"
   },
   {
    "duration": 152,
    "start_time": "2022-05-29T16:14:16.262Z"
   },
   {
    "duration": 345,
    "start_time": "2022-05-29T16:26:25.556Z"
   },
   {
    "duration": 512,
    "start_time": "2022-05-29T16:26:47.389Z"
   },
   {
    "duration": 260,
    "start_time": "2022-05-29T16:29:54.569Z"
   },
   {
    "duration": 344,
    "start_time": "2022-05-29T16:31:42.083Z"
   },
   {
    "duration": 1266,
    "start_time": "2022-05-29T16:32:30.884Z"
   },
   {
    "duration": 162,
    "start_time": "2022-05-29T16:36:41.660Z"
   },
   {
    "duration": 405,
    "start_time": "2022-05-29T16:36:52.573Z"
   },
   {
    "duration": 160,
    "start_time": "2022-05-29T16:36:59.606Z"
   },
   {
    "duration": 404,
    "start_time": "2022-05-29T16:40:12.385Z"
   },
   {
    "duration": 444,
    "start_time": "2022-05-29T16:40:20.601Z"
   },
   {
    "duration": 221,
    "start_time": "2022-05-29T16:40:56.352Z"
   },
   {
    "duration": 216,
    "start_time": "2022-05-29T16:41:11.292Z"
   },
   {
    "duration": 223,
    "start_time": "2022-05-29T16:41:17.182Z"
   },
   {
    "duration": 222,
    "start_time": "2022-05-29T16:41:22.899Z"
   },
   {
    "duration": 233,
    "start_time": "2022-05-29T16:41:28.372Z"
   },
   {
    "duration": 409,
    "start_time": "2022-05-29T16:41:59.328Z"
   },
   {
    "duration": 158,
    "start_time": "2022-05-29T16:42:24.184Z"
   },
   {
    "duration": 133,
    "start_time": "2022-05-29T16:42:32.131Z"
   },
   {
    "duration": 164,
    "start_time": "2022-05-29T16:43:34.687Z"
   },
   {
    "duration": 161,
    "start_time": "2022-05-29T16:44:19.192Z"
   },
   {
    "duration": 188,
    "start_time": "2022-05-29T16:44:27.632Z"
   },
   {
    "duration": 166,
    "start_time": "2022-05-29T16:44:36.777Z"
   },
   {
    "duration": 181,
    "start_time": "2022-05-29T16:45:01.073Z"
   },
   {
    "duration": 184,
    "start_time": "2022-05-29T16:45:20.834Z"
   },
   {
    "duration": 337,
    "start_time": "2022-05-29T16:53:20.938Z"
   },
   {
    "duration": 419,
    "start_time": "2022-05-29T16:53:27.975Z"
   },
   {
    "duration": 421,
    "start_time": "2022-05-29T16:53:33.185Z"
   },
   {
    "duration": 154,
    "start_time": "2022-05-29T16:58:31.730Z"
   },
   {
    "duration": 42,
    "start_time": "2022-05-29T17:01:00.089Z"
   },
   {
    "duration": 179,
    "start_time": "2022-05-29T17:01:20.572Z"
   },
   {
    "duration": 183,
    "start_time": "2022-05-29T17:03:22.303Z"
   },
   {
    "duration": 117,
    "start_time": "2022-05-29T17:04:18.423Z"
   },
   {
    "duration": 120,
    "start_time": "2022-05-29T17:04:39.686Z"
   },
   {
    "duration": 532,
    "start_time": "2022-05-29T17:04:55.795Z"
   },
   {
    "duration": 168,
    "start_time": "2022-05-29T17:09:48.021Z"
   },
   {
    "duration": 155,
    "start_time": "2022-05-29T17:10:03.930Z"
   },
   {
    "duration": 156,
    "start_time": "2022-05-29T17:10:22.033Z"
   },
   {
    "duration": 141,
    "start_time": "2022-05-29T17:11:09.764Z"
   },
   {
    "duration": 622,
    "start_time": "2022-05-29T17:11:54.364Z"
   },
   {
    "duration": 160,
    "start_time": "2022-05-29T17:12:22.555Z"
   },
   {
    "duration": 154,
    "start_time": "2022-05-29T17:14:33.185Z"
   },
   {
    "duration": 165,
    "start_time": "2022-05-29T17:17:33.012Z"
   },
   {
    "duration": 40,
    "start_time": "2022-05-29T17:21:14.099Z"
   },
   {
    "duration": 1441,
    "start_time": "2022-05-30T17:28:02.218Z"
   },
   {
    "duration": 43,
    "start_time": "2022-05-30T17:28:03.661Z"
   },
   {
    "duration": 32,
    "start_time": "2022-05-30T17:28:03.706Z"
   },
   {
    "duration": 24,
    "start_time": "2022-05-30T17:28:03.741Z"
   },
   {
    "duration": 20,
    "start_time": "2022-05-30T17:28:03.768Z"
   },
   {
    "duration": 11,
    "start_time": "2022-05-30T17:28:03.791Z"
   },
   {
    "duration": 40,
    "start_time": "2022-05-30T17:28:03.804Z"
   },
   {
    "duration": 23,
    "start_time": "2022-05-30T17:28:03.846Z"
   },
   {
    "duration": 18,
    "start_time": "2022-05-30T17:28:03.871Z"
   },
   {
    "duration": 13,
    "start_time": "2022-05-30T17:28:03.892Z"
   },
   {
    "duration": 26,
    "start_time": "2022-05-30T17:28:03.907Z"
   },
   {
    "duration": 30,
    "start_time": "2022-05-30T17:28:03.935Z"
   },
   {
    "duration": 282,
    "start_time": "2022-05-30T17:28:03.967Z"
   },
   {
    "duration": 267,
    "start_time": "2022-05-30T17:28:04.251Z"
   },
   {
    "duration": 15,
    "start_time": "2022-05-30T17:28:04.520Z"
   },
   {
    "duration": 42,
    "start_time": "2022-05-30T17:28:04.538Z"
   },
   {
    "duration": 18,
    "start_time": "2022-05-30T17:28:04.582Z"
   },
   {
    "duration": 12,
    "start_time": "2022-05-30T17:28:04.602Z"
   },
   {
    "duration": 15,
    "start_time": "2022-05-30T17:28:04.616Z"
   },
   {
    "duration": 30,
    "start_time": "2022-05-30T17:28:04.633Z"
   },
   {
    "duration": 13,
    "start_time": "2022-05-30T17:28:04.665Z"
   },
   {
    "duration": 28,
    "start_time": "2022-05-30T17:28:04.681Z"
   },
   {
    "duration": 8,
    "start_time": "2022-05-30T17:28:04.711Z"
   },
   {
    "duration": 8,
    "start_time": "2022-05-30T17:28:04.721Z"
   },
   {
    "duration": 49,
    "start_time": "2022-05-30T17:28:04.731Z"
   },
   {
    "duration": 372,
    "start_time": "2022-05-30T17:28:04.782Z"
   },
   {
    "duration": 766,
    "start_time": "2022-05-30T17:28:05.156Z"
   },
   {
    "duration": 690,
    "start_time": "2022-05-30T17:28:05.926Z"
   },
   {
    "duration": 610,
    "start_time": "2022-05-30T17:28:06.617Z"
   },
   {
    "duration": 1044,
    "start_time": "2022-05-30T17:28:07.229Z"
   },
   {
    "duration": 1817,
    "start_time": "2022-05-30T17:28:08.276Z"
   },
   {
    "duration": 708,
    "start_time": "2022-05-30T17:28:10.096Z"
   },
   {
    "duration": 32,
    "start_time": "2022-05-30T17:28:10.806Z"
   },
   {
    "duration": 179,
    "start_time": "2022-05-30T17:28:10.841Z"
   },
   {
    "duration": 185,
    "start_time": "2022-05-30T17:28:11.026Z"
   },
   {
    "duration": 232,
    "start_time": "2022-05-30T17:28:11.213Z"
   },
   {
    "duration": 233,
    "start_time": "2022-05-30T17:28:11.447Z"
   },
   {
    "duration": 246,
    "start_time": "2022-05-30T17:28:11.687Z"
   },
   {
    "duration": 251,
    "start_time": "2022-05-30T17:28:11.936Z"
   },
   {
    "duration": 48,
    "start_time": "2022-05-30T17:28:12.189Z"
   },
   {
    "duration": 190,
    "start_time": "2022-05-30T17:28:12.239Z"
   },
   {
    "duration": 334,
    "start_time": "2022-05-30T17:28:12.432Z"
   },
   {
    "duration": 206,
    "start_time": "2022-05-30T17:28:12.768Z"
   },
   {
    "duration": 196,
    "start_time": "2022-05-30T17:28:12.977Z"
   },
   {
    "duration": 225,
    "start_time": "2022-05-30T17:28:13.175Z"
   },
   {
    "duration": 195,
    "start_time": "2022-05-30T17:28:13.402Z"
   },
   {
    "duration": 222,
    "start_time": "2022-05-30T17:28:13.599Z"
   },
   {
    "duration": 6,
    "start_time": "2022-05-30T17:29:15.604Z"
   },
   {
    "duration": 91,
    "start_time": "2022-05-30T17:29:31.778Z"
   },
   {
    "duration": 11,
    "start_time": "2022-05-30T17:29:41.916Z"
   },
   {
    "duration": 11,
    "start_time": "2022-05-30T17:29:54.206Z"
   },
   {
    "duration": 11,
    "start_time": "2022-05-30T17:29:56.708Z"
   },
   {
    "duration": 14,
    "start_time": "2022-05-30T17:30:00.887Z"
   },
   {
    "duration": 829,
    "start_time": "2022-05-30T17:31:25.845Z"
   },
   {
    "duration": 54,
    "start_time": "2022-05-30T17:31:26.676Z"
   },
   {
    "duration": 10,
    "start_time": "2022-05-30T17:32:12.999Z"
   },
   {
    "duration": 18,
    "start_time": "2022-05-30T17:32:21.812Z"
   },
   {
    "duration": 12,
    "start_time": "2022-05-30T17:32:22.103Z"
   },
   {
    "duration": 12,
    "start_time": "2022-05-30T17:32:22.478Z"
   },
   {
    "duration": 10,
    "start_time": "2022-05-30T17:32:22.693Z"
   },
   {
    "duration": 13,
    "start_time": "2022-05-30T17:32:23.045Z"
   },
   {
    "duration": 10,
    "start_time": "2022-05-30T17:32:23.424Z"
   },
   {
    "duration": 7,
    "start_time": "2022-05-30T17:32:24.075Z"
   },
   {
    "duration": 8,
    "start_time": "2022-05-30T17:32:24.446Z"
   },
   {
    "duration": 7,
    "start_time": "2022-05-30T17:32:24.779Z"
   },
   {
    "duration": 8,
    "start_time": "2022-05-30T17:32:25.100Z"
   },
   {
    "duration": 236,
    "start_time": "2022-05-30T17:32:25.538Z"
   },
   {
    "duration": 205,
    "start_time": "2022-05-30T17:32:25.924Z"
   },
   {
    "duration": 10,
    "start_time": "2022-05-30T17:32:27.975Z"
   },
   {
    "duration": 6,
    "start_time": "2022-05-30T17:32:55.771Z"
   },
   {
    "duration": 9,
    "start_time": "2022-05-30T17:32:59.355Z"
   },
   {
    "duration": 54,
    "start_time": "2022-05-30T19:54:38.208Z"
   },
   {
    "duration": 1174,
    "start_time": "2022-05-30T19:54:43.600Z"
   },
   {
    "duration": 40,
    "start_time": "2022-05-30T19:54:44.775Z"
   },
   {
    "duration": 11,
    "start_time": "2022-05-30T19:54:44.817Z"
   },
   {
    "duration": 13,
    "start_time": "2022-05-30T19:54:44.830Z"
   },
   {
    "duration": 9,
    "start_time": "2022-05-30T19:54:44.845Z"
   },
   {
    "duration": 11,
    "start_time": "2022-05-30T19:54:44.856Z"
   },
   {
    "duration": 42,
    "start_time": "2022-05-30T19:54:44.869Z"
   },
   {
    "duration": 8,
    "start_time": "2022-05-30T19:54:44.912Z"
   },
   {
    "duration": 8,
    "start_time": "2022-05-30T19:54:44.921Z"
   },
   {
    "duration": 7,
    "start_time": "2022-05-30T19:54:44.932Z"
   },
   {
    "duration": 8,
    "start_time": "2022-05-30T19:54:44.941Z"
   },
   {
    "duration": 48,
    "start_time": "2022-05-30T19:54:44.951Z"
   },
   {
    "duration": 261,
    "start_time": "2022-05-30T19:54:45.001Z"
   },
   {
    "duration": 209,
    "start_time": "2022-05-30T19:54:45.263Z"
   },
   {
    "duration": 10,
    "start_time": "2022-05-30T19:54:45.473Z"
   },
   {
    "duration": 24,
    "start_time": "2022-05-30T19:54:45.484Z"
   },
   {
    "duration": 7,
    "start_time": "2022-05-30T19:54:45.510Z"
   },
   {
    "duration": 8,
    "start_time": "2022-05-30T19:54:45.519Z"
   },
   {
    "duration": 20,
    "start_time": "2022-05-30T19:54:45.529Z"
   },
   {
    "duration": 6,
    "start_time": "2022-05-30T19:54:45.551Z"
   },
   {
    "duration": 8,
    "start_time": "2022-05-30T19:54:45.559Z"
   },
   {
    "duration": 32,
    "start_time": "2022-05-30T19:54:45.569Z"
   },
   {
    "duration": 8,
    "start_time": "2022-05-30T19:54:45.602Z"
   },
   {
    "duration": 10,
    "start_time": "2022-05-30T19:54:45.611Z"
   },
   {
    "duration": 21,
    "start_time": "2022-05-30T19:54:45.623Z"
   },
   {
    "duration": 318,
    "start_time": "2022-05-30T19:54:45.646Z"
   },
   {
    "duration": 574,
    "start_time": "2022-05-30T19:54:45.965Z"
   },
   {
    "duration": 557,
    "start_time": "2022-05-30T19:54:46.543Z"
   },
   {
    "duration": 349,
    "start_time": "2022-05-30T19:54:47.102Z"
   },
   {
    "duration": 337,
    "start_time": "2022-05-30T19:54:47.453Z"
   },
   {
    "duration": 653,
    "start_time": "2022-05-30T19:54:47.791Z"
   },
   {
    "duration": 577,
    "start_time": "2022-05-30T19:54:48.446Z"
   },
   {
    "duration": 20,
    "start_time": "2022-05-30T19:54:49.025Z"
   },
   {
    "duration": 152,
    "start_time": "2022-05-30T19:54:49.047Z"
   },
   {
    "duration": 137,
    "start_time": "2022-05-30T19:54:49.201Z"
   },
   {
    "duration": 183,
    "start_time": "2022-05-30T19:54:49.340Z"
   },
   {
    "duration": 159,
    "start_time": "2022-05-30T19:54:49.524Z"
   },
   {
    "duration": 167,
    "start_time": "2022-05-30T19:54:49.684Z"
   },
   {
    "duration": 158,
    "start_time": "2022-05-30T19:54:49.853Z"
   },
   {
    "duration": 33,
    "start_time": "2022-05-30T19:54:50.013Z"
   },
   {
    "duration": 180,
    "start_time": "2022-05-30T19:54:50.048Z"
   },
   {
    "duration": 250,
    "start_time": "2022-05-30T19:54:50.229Z"
   },
   {
    "duration": 157,
    "start_time": "2022-05-30T19:54:50.480Z"
   },
   {
    "duration": 160,
    "start_time": "2022-05-30T19:54:50.639Z"
   },
   {
    "duration": 164,
    "start_time": "2022-05-30T19:54:50.800Z"
   },
   {
    "duration": 156,
    "start_time": "2022-05-30T19:54:50.965Z"
   },
   {
    "duration": 168,
    "start_time": "2022-05-30T19:54:51.123Z"
   }
  ],
  "kernelspec": {
   "display_name": "Python 3 (ipykernel)",
   "language": "python",
   "name": "python3"
  },
  "language_info": {
   "codemirror_mode": {
    "name": "ipython",
    "version": 3
   },
   "file_extension": ".py",
   "mimetype": "text/x-python",
   "name": "python",
   "nbconvert_exporter": "python",
   "pygments_lexer": "ipython3",
   "version": "3.10.5"
  },
  "toc": {
   "base_numbering": 1,
   "nav_menu": {},
   "number_sections": true,
   "sideBar": true,
   "skip_h1_title": true,
   "title_cell": "Содержание",
   "title_sidebar": "Contents",
   "toc_cell": true,
   "toc_position": {},
   "toc_section_display": true,
   "toc_window_display": true
  }
 },
 "nbformat": 4,
 "nbformat_minor": 4
}
