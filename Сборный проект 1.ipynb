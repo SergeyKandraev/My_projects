{
 "cells": [
  {
   "cell_type": "markdown",
   "metadata": {},
   "source": [
    "# Сборный проект №1"
   ]
  },
  {
   "cell_type": "markdown",
   "metadata": {},
   "source": [
    "# Описание проекта\n",
    "Вы работаете в интернет-магазине «Стримчик», который продаёт по всему миру компьютерные игры. Из открытых источников доступны исторические данные о продажах игр, оценки пользователей и экспертов, жанры и платформы (например, Xbox или PlayStation). Вам нужно выявить определяющие успешность игры закономерности. Это позволит сделать ставку на потенциально популярный продукт и спланировать рекламные кампании.\n",
    "Перед вами данные до 2016 года. Представим, что сейчас декабрь 2016 г., и вы планируете кампанию на 2017-й. Нужно отработать принцип работы с данными. Неважно, прогнозируете ли вы продажи на 2017 год по данным 2016-го или же 2027-й — по данным 2026 года.\n",
    "В наборе данных попадается аббревиатура ESRB (Entertainment Software Rating Board) — это ассоциация, определяющая возрастной рейтинг компьютерных игр. ESRB оценивает игровой контент и присваивает ему подходящую возрастную категорию, например, «Для взрослых», «Для детей младшего возраста» или «Для подростков»."
   ]
  },
  {
   "cell_type": "markdown",
   "metadata": {},
   "source": [
    "# Шаг 1. Откроем файл с данными и изучим общую информацию"
   ]
  },
  {
   "cell_type": "markdown",
   "metadata": {},
   "source": [
    "Импортируем библиотеки:"
   ]
  },
  {
   "cell_type": "code",
   "execution_count": 1,
   "metadata": {},
   "outputs": [],
   "source": [
    "import pandas as pd\n",
    "pd.set_option('display.max_columns', None)\n",
    "\n",
    "import numpy as np\n",
    "import matplotlib.pyplot as plt\n",
    "import seaborn as sns\n",
    "from scipy import stats as st"
   ]
  },
  {
   "cell_type": "markdown",
   "metadata": {},
   "source": [
    "Сохраним файл в переменную data и выведем его на экран и применим функцию info"
   ]
  },
  {
   "cell_type": "code",
   "execution_count": 2,
   "metadata": {},
   "outputs": [
    {
     "data": {
      "text/html": [
       "<div>\n",
       "<style scoped>\n",
       "    .dataframe tbody tr th:only-of-type {\n",
       "        vertical-align: middle;\n",
       "    }\n",
       "\n",
       "    .dataframe tbody tr th {\n",
       "        vertical-align: top;\n",
       "    }\n",
       "\n",
       "    .dataframe thead th {\n",
       "        text-align: right;\n",
       "    }\n",
       "</style>\n",
       "<table border=\"1\" class=\"dataframe\">\n",
       "  <thead>\n",
       "    <tr style=\"text-align: right;\">\n",
       "      <th></th>\n",
       "      <th>Name</th>\n",
       "      <th>Platform</th>\n",
       "      <th>Year_of_Release</th>\n",
       "      <th>Genre</th>\n",
       "      <th>NA_sales</th>\n",
       "      <th>EU_sales</th>\n",
       "      <th>JP_sales</th>\n",
       "      <th>Other_sales</th>\n",
       "      <th>Critic_Score</th>\n",
       "      <th>User_Score</th>\n",
       "      <th>Rating</th>\n",
       "    </tr>\n",
       "  </thead>\n",
       "  <tbody>\n",
       "    <tr>\n",
       "      <th>0</th>\n",
       "      <td>Wii Sports</td>\n",
       "      <td>Wii</td>\n",
       "      <td>2006.0</td>\n",
       "      <td>Sports</td>\n",
       "      <td>41.36</td>\n",
       "      <td>28.96</td>\n",
       "      <td>3.77</td>\n",
       "      <td>8.45</td>\n",
       "      <td>76.0</td>\n",
       "      <td>8</td>\n",
       "      <td>E</td>\n",
       "    </tr>\n",
       "    <tr>\n",
       "      <th>1</th>\n",
       "      <td>Super Mario Bros.</td>\n",
       "      <td>NES</td>\n",
       "      <td>1985.0</td>\n",
       "      <td>Platform</td>\n",
       "      <td>29.08</td>\n",
       "      <td>3.58</td>\n",
       "      <td>6.81</td>\n",
       "      <td>0.77</td>\n",
       "      <td>NaN</td>\n",
       "      <td>NaN</td>\n",
       "      <td>NaN</td>\n",
       "    </tr>\n",
       "    <tr>\n",
       "      <th>2</th>\n",
       "      <td>Mario Kart Wii</td>\n",
       "      <td>Wii</td>\n",
       "      <td>2008.0</td>\n",
       "      <td>Racing</td>\n",
       "      <td>15.68</td>\n",
       "      <td>12.76</td>\n",
       "      <td>3.79</td>\n",
       "      <td>3.29</td>\n",
       "      <td>82.0</td>\n",
       "      <td>8.3</td>\n",
       "      <td>E</td>\n",
       "    </tr>\n",
       "    <tr>\n",
       "      <th>3</th>\n",
       "      <td>Wii Sports Resort</td>\n",
       "      <td>Wii</td>\n",
       "      <td>2009.0</td>\n",
       "      <td>Sports</td>\n",
       "      <td>15.61</td>\n",
       "      <td>10.93</td>\n",
       "      <td>3.28</td>\n",
       "      <td>2.95</td>\n",
       "      <td>80.0</td>\n",
       "      <td>8</td>\n",
       "      <td>E</td>\n",
       "    </tr>\n",
       "    <tr>\n",
       "      <th>4</th>\n",
       "      <td>Pokemon Red/Pokemon Blue</td>\n",
       "      <td>GB</td>\n",
       "      <td>1996.0</td>\n",
       "      <td>Role-Playing</td>\n",
       "      <td>11.27</td>\n",
       "      <td>8.89</td>\n",
       "      <td>10.22</td>\n",
       "      <td>1.00</td>\n",
       "      <td>NaN</td>\n",
       "      <td>NaN</td>\n",
       "      <td>NaN</td>\n",
       "    </tr>\n",
       "    <tr>\n",
       "      <th>5</th>\n",
       "      <td>Tetris</td>\n",
       "      <td>GB</td>\n",
       "      <td>1989.0</td>\n",
       "      <td>Puzzle</td>\n",
       "      <td>23.20</td>\n",
       "      <td>2.26</td>\n",
       "      <td>4.22</td>\n",
       "      <td>0.58</td>\n",
       "      <td>NaN</td>\n",
       "      <td>NaN</td>\n",
       "      <td>NaN</td>\n",
       "    </tr>\n",
       "    <tr>\n",
       "      <th>6</th>\n",
       "      <td>New Super Mario Bros.</td>\n",
       "      <td>DS</td>\n",
       "      <td>2006.0</td>\n",
       "      <td>Platform</td>\n",
       "      <td>11.28</td>\n",
       "      <td>9.14</td>\n",
       "      <td>6.50</td>\n",
       "      <td>2.88</td>\n",
       "      <td>89.0</td>\n",
       "      <td>8.5</td>\n",
       "      <td>E</td>\n",
       "    </tr>\n",
       "    <tr>\n",
       "      <th>7</th>\n",
       "      <td>Wii Play</td>\n",
       "      <td>Wii</td>\n",
       "      <td>2006.0</td>\n",
       "      <td>Misc</td>\n",
       "      <td>13.96</td>\n",
       "      <td>9.18</td>\n",
       "      <td>2.93</td>\n",
       "      <td>2.84</td>\n",
       "      <td>58.0</td>\n",
       "      <td>6.6</td>\n",
       "      <td>E</td>\n",
       "    </tr>\n",
       "    <tr>\n",
       "      <th>8</th>\n",
       "      <td>New Super Mario Bros. Wii</td>\n",
       "      <td>Wii</td>\n",
       "      <td>2009.0</td>\n",
       "      <td>Platform</td>\n",
       "      <td>14.44</td>\n",
       "      <td>6.94</td>\n",
       "      <td>4.70</td>\n",
       "      <td>2.24</td>\n",
       "      <td>87.0</td>\n",
       "      <td>8.4</td>\n",
       "      <td>E</td>\n",
       "    </tr>\n",
       "    <tr>\n",
       "      <th>9</th>\n",
       "      <td>Duck Hunt</td>\n",
       "      <td>NES</td>\n",
       "      <td>1984.0</td>\n",
       "      <td>Shooter</td>\n",
       "      <td>26.93</td>\n",
       "      <td>0.63</td>\n",
       "      <td>0.28</td>\n",
       "      <td>0.47</td>\n",
       "      <td>NaN</td>\n",
       "      <td>NaN</td>\n",
       "      <td>NaN</td>\n",
       "    </tr>\n",
       "    <tr>\n",
       "      <th>10</th>\n",
       "      <td>Nintendogs</td>\n",
       "      <td>DS</td>\n",
       "      <td>2005.0</td>\n",
       "      <td>Simulation</td>\n",
       "      <td>9.05</td>\n",
       "      <td>10.95</td>\n",
       "      <td>1.93</td>\n",
       "      <td>2.74</td>\n",
       "      <td>NaN</td>\n",
       "      <td>NaN</td>\n",
       "      <td>NaN</td>\n",
       "    </tr>\n",
       "    <tr>\n",
       "      <th>11</th>\n",
       "      <td>Mario Kart DS</td>\n",
       "      <td>DS</td>\n",
       "      <td>2005.0</td>\n",
       "      <td>Racing</td>\n",
       "      <td>9.71</td>\n",
       "      <td>7.47</td>\n",
       "      <td>4.13</td>\n",
       "      <td>1.90</td>\n",
       "      <td>91.0</td>\n",
       "      <td>8.6</td>\n",
       "      <td>E</td>\n",
       "    </tr>\n",
       "    <tr>\n",
       "      <th>12</th>\n",
       "      <td>Pokemon Gold/Pokemon Silver</td>\n",
       "      <td>GB</td>\n",
       "      <td>1999.0</td>\n",
       "      <td>Role-Playing</td>\n",
       "      <td>9.00</td>\n",
       "      <td>6.18</td>\n",
       "      <td>7.20</td>\n",
       "      <td>0.71</td>\n",
       "      <td>NaN</td>\n",
       "      <td>NaN</td>\n",
       "      <td>NaN</td>\n",
       "    </tr>\n",
       "    <tr>\n",
       "      <th>13</th>\n",
       "      <td>Wii Fit</td>\n",
       "      <td>Wii</td>\n",
       "      <td>2007.0</td>\n",
       "      <td>Sports</td>\n",
       "      <td>8.92</td>\n",
       "      <td>8.03</td>\n",
       "      <td>3.60</td>\n",
       "      <td>2.15</td>\n",
       "      <td>80.0</td>\n",
       "      <td>7.7</td>\n",
       "      <td>E</td>\n",
       "    </tr>\n",
       "    <tr>\n",
       "      <th>14</th>\n",
       "      <td>Kinect Adventures!</td>\n",
       "      <td>X360</td>\n",
       "      <td>2010.0</td>\n",
       "      <td>Misc</td>\n",
       "      <td>15.00</td>\n",
       "      <td>4.89</td>\n",
       "      <td>0.24</td>\n",
       "      <td>1.69</td>\n",
       "      <td>61.0</td>\n",
       "      <td>6.3</td>\n",
       "      <td>E</td>\n",
       "    </tr>\n",
       "  </tbody>\n",
       "</table>\n",
       "</div>"
      ],
      "text/plain": [
       "                           Name Platform  Year_of_Release         Genre  \\\n",
       "0                    Wii Sports      Wii           2006.0        Sports   \n",
       "1             Super Mario Bros.      NES           1985.0      Platform   \n",
       "2                Mario Kart Wii      Wii           2008.0        Racing   \n",
       "3             Wii Sports Resort      Wii           2009.0        Sports   \n",
       "4      Pokemon Red/Pokemon Blue       GB           1996.0  Role-Playing   \n",
       "5                        Tetris       GB           1989.0        Puzzle   \n",
       "6         New Super Mario Bros.       DS           2006.0      Platform   \n",
       "7                      Wii Play      Wii           2006.0          Misc   \n",
       "8     New Super Mario Bros. Wii      Wii           2009.0      Platform   \n",
       "9                     Duck Hunt      NES           1984.0       Shooter   \n",
       "10                   Nintendogs       DS           2005.0    Simulation   \n",
       "11                Mario Kart DS       DS           2005.0        Racing   \n",
       "12  Pokemon Gold/Pokemon Silver       GB           1999.0  Role-Playing   \n",
       "13                      Wii Fit      Wii           2007.0        Sports   \n",
       "14           Kinect Adventures!     X360           2010.0          Misc   \n",
       "\n",
       "    NA_sales  EU_sales  JP_sales  Other_sales  Critic_Score User_Score Rating  \n",
       "0      41.36     28.96      3.77         8.45          76.0          8      E  \n",
       "1      29.08      3.58      6.81         0.77           NaN        NaN    NaN  \n",
       "2      15.68     12.76      3.79         3.29          82.0        8.3      E  \n",
       "3      15.61     10.93      3.28         2.95          80.0          8      E  \n",
       "4      11.27      8.89     10.22         1.00           NaN        NaN    NaN  \n",
       "5      23.20      2.26      4.22         0.58           NaN        NaN    NaN  \n",
       "6      11.28      9.14      6.50         2.88          89.0        8.5      E  \n",
       "7      13.96      9.18      2.93         2.84          58.0        6.6      E  \n",
       "8      14.44      6.94      4.70         2.24          87.0        8.4      E  \n",
       "9      26.93      0.63      0.28         0.47           NaN        NaN    NaN  \n",
       "10      9.05     10.95      1.93         2.74           NaN        NaN    NaN  \n",
       "11      9.71      7.47      4.13         1.90          91.0        8.6      E  \n",
       "12      9.00      6.18      7.20         0.71           NaN        NaN    NaN  \n",
       "13      8.92      8.03      3.60         2.15          80.0        7.7      E  \n",
       "14     15.00      4.89      0.24         1.69          61.0        6.3      E  "
      ]
     },
     "metadata": {},
     "output_type": "display_data"
    },
    {
     "name": "stdout",
     "output_type": "stream",
     "text": [
      "<class 'pandas.core.frame.DataFrame'>\n",
      "RangeIndex: 16715 entries, 0 to 16714\n",
      "Data columns (total 11 columns):\n",
      " #   Column           Non-Null Count  Dtype  \n",
      "---  ------           --------------  -----  \n",
      " 0   Name             16713 non-null  object \n",
      " 1   Platform         16715 non-null  object \n",
      " 2   Year_of_Release  16446 non-null  float64\n",
      " 3   Genre            16713 non-null  object \n",
      " 4   NA_sales         16715 non-null  float64\n",
      " 5   EU_sales         16715 non-null  float64\n",
      " 6   JP_sales         16715 non-null  float64\n",
      " 7   Other_sales      16715 non-null  float64\n",
      " 8   Critic_Score     8137 non-null   float64\n",
      " 9   User_Score       10014 non-null  object \n",
      " 10  Rating           9949 non-null   object \n",
      "dtypes: float64(6), object(5)\n",
      "memory usage: 1.4+ MB\n"
     ]
    }
   ],
   "source": [
    "data = pd.read_csv('/datasets/games.csv')\n",
    "display(data.head(15))\n",
    "data.info()"
   ]
  },
  {
   "cell_type": "markdown",
   "metadata": {},
   "source": [
    "* Name — название игры\n",
    "* Platform — платформа\n",
    "* Year_of_Release — год выпуска\n",
    "* Genre — жанр игры\n",
    "* NA_sales — продажи в Северной Америке (миллионы проданных копий)\n",
    "* EU_sales — продажи в Европе (миллионы проданных копий)\n",
    "* JP_sales — продажи в Японии (миллионы проданных копий)\n",
    "* Other_sales — продажи в других странах (миллионы проданных копий)\n",
    "* Critic_Score — оценка критиков (максимум 100)\n",
    "* User_Score — оценка пользователей (максимум 10)\n",
    "* Rating — рейтинг от организации ESRB (англ. Entertainment Software Rating Board). Эта ассоциация определяет рейтинг компьютерных игр и присваивает им подходящую возрастную категорию.\n",
    "\n",
    "В данных видим буквы в верхнем регисте в названии столбцов, следует переименовать их и превести к нижнему регистру. Всего в датафрейме 11 колонок и 16715 строк. Присутствуют пропуски в колонках Name, Year_of_Release, Genre, Critic_Score, User_Score и Rating. Столбец \"год релиза\" тип данных float, следует перевести его в формат int. "
   ]
  },
  {
   "cell_type": "markdown",
   "metadata": {},
   "source": [
    "# Шаг 2. Предобработка данных\n",
    "**2.1.** Заменим названия столбцов (приведем к нижнему регистру)"
   ]
  },
  {
   "cell_type": "code",
   "execution_count": 3,
   "metadata": {},
   "outputs": [
    {
     "data": {
      "text/plain": [
       "['Name',\n",
       " 'Platform',\n",
       " 'Year_of_Release',\n",
       " 'Genre',\n",
       " 'NA_sales',\n",
       " 'EU_sales',\n",
       " 'JP_sales',\n",
       " 'Other_sales',\n",
       " 'Critic_Score',\n",
       " 'User_Score',\n",
       " 'Rating']"
      ]
     },
     "execution_count": 3,
     "metadata": {},
     "output_type": "execute_result"
    }
   ],
   "source": [
    "data.columns.tolist()"
   ]
  },
  {
   "cell_type": "code",
   "execution_count": 4,
   "metadata": {},
   "outputs": [],
   "source": [
    "data.rename(columns = {'Name':'name', 'Platform':'platform', 'Year_of_Release':'year_of_release',\n",
    "                       'Genre':'genre', 'NA_sales':'na_sales', 'EU_sales':'eu_sales', 'JP_sales':'jp_sales',\n",
    "                       'Other_sales':'other_sales', 'Critic_Score':'critic_score',\n",
    "                       'User_Score':'user_score', 'Rating':'rating'}, inplace = True)"
   ]
  },
  {
   "cell_type": "markdown",
   "metadata": {},
   "source": [
    "**2.2.** В столбце `'year_of_release'` присутствуют пропуски, которые сведетельствуют о том что игра не вышла в релиз. Для таких игр заменим дату на `2050`, затем переведем данные столбца к целочисленным. "
   ]
  },
  {
   "cell_type": "code",
   "execution_count": 5,
   "metadata": {
    "scrolled": true
   },
   "outputs": [
    {
     "name": "stdout",
     "output_type": "stream",
     "text": [
      "Пропуски составляют 1.609332934489979 процентов от всего датафрейма\n"
     ]
    },
    {
     "data": {
      "text/html": [
       "<div>\n",
       "<style scoped>\n",
       "    .dataframe tbody tr th:only-of-type {\n",
       "        vertical-align: middle;\n",
       "    }\n",
       "\n",
       "    .dataframe tbody tr th {\n",
       "        vertical-align: top;\n",
       "    }\n",
       "\n",
       "    .dataframe thead th {\n",
       "        text-align: right;\n",
       "    }\n",
       "</style>\n",
       "<table border=\"1\" class=\"dataframe\">\n",
       "  <thead>\n",
       "    <tr style=\"text-align: right;\">\n",
       "      <th></th>\n",
       "      <th>name</th>\n",
       "      <th>platform</th>\n",
       "      <th>year_of_release</th>\n",
       "      <th>genre</th>\n",
       "      <th>na_sales</th>\n",
       "      <th>eu_sales</th>\n",
       "      <th>jp_sales</th>\n",
       "      <th>other_sales</th>\n",
       "      <th>critic_score</th>\n",
       "      <th>user_score</th>\n",
       "      <th>rating</th>\n",
       "    </tr>\n",
       "  </thead>\n",
       "  <tbody>\n",
       "  </tbody>\n",
       "</table>\n",
       "</div>"
      ],
      "text/plain": [
       "Empty DataFrame\n",
       "Columns: [name, platform, year_of_release, genre, na_sales, eu_sales, jp_sales, other_sales, critic_score, user_score, rating]\n",
       "Index: []"
      ]
     },
     "execution_count": 5,
     "metadata": {},
     "output_type": "execute_result"
    }
   ],
   "source": [
    "print('Пропуски составляют', data['year_of_release'].isna().sum()/len(data)*100, 'процентов от всего датафрейма')\n",
    "\n",
    "data['year_of_release'] = data['year_of_release'].fillna(2050)\n",
    "data['year_of_release'] = data['year_of_release'].astype('int')\n",
    "\n",
    "data[data['year_of_release'].isna()].sort_values(by='name')"
   ]
  },
  {
   "cell_type": "markdown",
   "metadata": {},
   "source": [
    "**2.3.** Предобработка в столбце `'name'`, видим что пропуски скорее всего связанны с отсутствием данных об играх. Платформа GEN это скорее всего сокращение от Sega genesis, сега прекратила потдержку этой платформы в 1999 году. Не самая популярная платформа для который вышли две далеко не самые популярные игры, тем не мение в данных есть информация о релизе этих игр и продажах. Данные не значительные, стоит их удалить, на конечный результат это не повлияет."
   ]
  },
  {
   "cell_type": "code",
   "execution_count": 6,
   "metadata": {},
   "outputs": [
    {
     "data": {
      "text/html": [
       "<div>\n",
       "<style scoped>\n",
       "    .dataframe tbody tr th:only-of-type {\n",
       "        vertical-align: middle;\n",
       "    }\n",
       "\n",
       "    .dataframe tbody tr th {\n",
       "        vertical-align: top;\n",
       "    }\n",
       "\n",
       "    .dataframe thead th {\n",
       "        text-align: right;\n",
       "    }\n",
       "</style>\n",
       "<table border=\"1\" class=\"dataframe\">\n",
       "  <thead>\n",
       "    <tr style=\"text-align: right;\">\n",
       "      <th></th>\n",
       "      <th>name</th>\n",
       "      <th>platform</th>\n",
       "      <th>year_of_release</th>\n",
       "      <th>genre</th>\n",
       "      <th>na_sales</th>\n",
       "      <th>eu_sales</th>\n",
       "      <th>jp_sales</th>\n",
       "      <th>other_sales</th>\n",
       "      <th>critic_score</th>\n",
       "      <th>user_score</th>\n",
       "      <th>rating</th>\n",
       "    </tr>\n",
       "  </thead>\n",
       "  <tbody>\n",
       "    <tr>\n",
       "      <th>659</th>\n",
       "      <td>NaN</td>\n",
       "      <td>GEN</td>\n",
       "      <td>1993</td>\n",
       "      <td>NaN</td>\n",
       "      <td>1.78</td>\n",
       "      <td>0.53</td>\n",
       "      <td>0.00</td>\n",
       "      <td>0.08</td>\n",
       "      <td>NaN</td>\n",
       "      <td>NaN</td>\n",
       "      <td>NaN</td>\n",
       "    </tr>\n",
       "    <tr>\n",
       "      <th>14244</th>\n",
       "      <td>NaN</td>\n",
       "      <td>GEN</td>\n",
       "      <td>1993</td>\n",
       "      <td>NaN</td>\n",
       "      <td>0.00</td>\n",
       "      <td>0.00</td>\n",
       "      <td>0.03</td>\n",
       "      <td>0.00</td>\n",
       "      <td>NaN</td>\n",
       "      <td>NaN</td>\n",
       "      <td>NaN</td>\n",
       "    </tr>\n",
       "  </tbody>\n",
       "</table>\n",
       "</div>"
      ],
      "text/plain": [
       "      name platform  year_of_release genre  na_sales  eu_sales  jp_sales  \\\n",
       "659    NaN      GEN             1993   NaN      1.78      0.53      0.00   \n",
       "14244  NaN      GEN             1993   NaN      0.00      0.00      0.03   \n",
       "\n",
       "       other_sales  critic_score user_score rating  \n",
       "659           0.08           NaN        NaN    NaN  \n",
       "14244         0.00           NaN        NaN    NaN  "
      ]
     },
     "metadata": {},
     "output_type": "display_data"
    }
   ],
   "source": [
    "display(data.loc[data['name'].isna()])\n",
    "data.dropna(subset=['name'], axis=0, inplace = True)\n",
    "data['name'] = data['name'].str.lower()"
   ]
  },
  {
   "cell_type": "markdown",
   "metadata": {},
   "source": [
    "**2.4.** Предобработка в столбце `'platform'`"
   ]
  },
  {
   "cell_type": "code",
   "execution_count": 7,
   "metadata": {},
   "outputs": [
    {
     "name": "stdout",
     "output_type": "stream",
     "text": [
      "['Wii' 'NES' 'GB' 'DS' 'X360' 'PS3' 'PS2' 'SNES' 'GBA' 'PS4' '3DS' 'N64'\n",
      " 'PS' 'XB' 'PC' '2600' 'PSP' 'XOne' 'WiiU' 'GC' 'GEN' 'DC' 'PSV' 'SAT'\n",
      " 'SCD' 'WS' 'NG' 'TG16' '3DO' 'GG' 'PCFX']\n"
     ]
    }
   ],
   "source": [
    "print(data.platform.unique())\n",
    "data['platform'] = data['platform'].str.lower()"
   ]
  },
  {
   "cell_type": "markdown",
   "metadata": {},
   "source": [
    "**2.5.** Предобработка в столбце `'critic_score'` есть пропущенные значения, скорее всего они появились из-за отсутствия данных в связи с ранним выходом игры в свет, для таких игр заменим значиния на -1 "
   ]
  },
  {
   "cell_type": "code",
   "execution_count": 8,
   "metadata": {},
   "outputs": [
    {
     "name": "stdout",
     "output_type": "stream",
     "text": [
      "[76. nan 82. 80. 89. 58. 87. 91. 61. 97. 95. 77. 88. 83. 94. 93. 85. 86.\n",
      " 98. 96. 90. 84. 73. 74. 78. 92. 71. 72. 68. 62. 49. 67. 81. 66. 56. 79.\n",
      " 70. 59. 64. 75. 60. 63. 69. 50. 25. 42. 44. 55. 48. 57. 29. 47. 65. 54.\n",
      " 20. 53. 37. 38. 33. 52. 30. 32. 43. 45. 51. 40. 46. 39. 34. 35. 41. 36.\n",
      " 28. 31. 27. 26. 19. 23. 24. 21. 17. 22. 13.]\n"
     ]
    }
   ],
   "source": [
    "print(data['critic_score'].unique())\n",
    "data['critic_score'] = data['critic_score'].fillna(-1)\n",
    "data['critic_score'] = data['critic_score'].astype('int')"
   ]
  },
  {
   "cell_type": "markdown",
   "metadata": {},
   "source": [
    "**2.6.** Предобработка в `'user_score'` в данных содержатся строки с оценками типа 'tbd' - это обривиатура от английского to be decided или to be defined. Это значит что недостаточно пользователей поставило игре оценку, чтобы рассчитывать усреднённую. Чтобы перевести столбец в числовой формат, приравняем это к пропуску, а затем заменим пропуски на -1. Также будет проще сравнивать оценки, если они будут одного типа, поэтому пользовательские умножим на 10, чтобы использовать 100-балльную систему."
   ]
  },
  {
   "cell_type": "code",
   "execution_count": 9,
   "metadata": {},
   "outputs": [
    {
     "name": "stdout",
     "output_type": "stream",
     "text": [
      "['8' nan '8.3' '8.5' '6.6' '8.4' '8.6' '7.7' '6.3' '7.4' '8.2' '9' '7.9'\n",
      " '8.1' '8.7' '7.1' '3.4' '5.3' '4.8' '3.2' '8.9' '6.4' '7.8' '7.5' '2.6'\n",
      " '7.2' '9.2' '7' '7.3' '4.3' '7.6' '5.7' '5' '9.1' '6.5' 'tbd' '8.8' '6.9'\n",
      " '9.4' '6.8' '6.1' '6.7' '5.4' '4' '4.9' '4.5' '9.3' '6.2' '4.2' '6' '3.7'\n",
      " '4.1' '5.8' '5.6' '5.5' '4.4' '4.6' '5.9' '3.9' '3.1' '2.9' '5.2' '3.3'\n",
      " '4.7' '5.1' '3.5' '2.5' '1.9' '3' '2.7' '2.2' '2' '9.5' '2.1' '3.6' '2.8'\n",
      " '1.8' '3.8' '0' '1.6' '9.6' '2.4' '1.7' '1.1' '0.3' '1.5' '0.7' '1.2'\n",
      " '2.3' '0.5' '1.3' '0.2' '0.6' '1.4' '0.9' '1' '9.7']\n"
     ]
    }
   ],
   "source": [
    "print(data['user_score'].unique())\n",
    "data['user_score'] = data['user_score'].replace('tbd', np.NaN)\n",
    "data['user_score'] = data['user_score'].fillna(-1)\n",
    "data['user_score']=data['user_score'].astype('float')\n",
    "data['user_score']=data['user_score']*10\n",
    "data['user_score'] = data['user_score'].astype('int')"
   ]
  },
  {
   "cell_type": "markdown",
   "metadata": {},
   "source": [
    "**2.7.** Предобработка в столбце `'genre'` "
   ]
  },
  {
   "cell_type": "code",
   "execution_count": 10,
   "metadata": {},
   "outputs": [
    {
     "name": "stdout",
     "output_type": "stream",
     "text": [
      "['Sports' 'Platform' 'Racing' 'Role-Playing' 'Puzzle' 'Misc' 'Shooter'\n",
      " 'Simulation' 'Action' 'Fighting' 'Adventure' 'Strategy']\n",
      "0\n"
     ]
    }
   ],
   "source": [
    "print(data['genre'].unique())\n",
    "print(data['genre'].isna().sum())\n",
    "data['genre'] = data['genre'].str.lower()"
   ]
  },
  {
   "cell_type": "markdown",
   "metadata": {},
   "source": [
    "**2.8.** Предобработка в столбце `'rating'` пропуски присутствуют в разных играх для разных годов выпуска и платформ, по большей части рейтинг отсутствует у игр которые имеют очень скромные продажи, установим для таких игр свой рейтинг \"out of rating\""
   ]
  },
  {
   "cell_type": "code",
   "execution_count": 11,
   "metadata": {},
   "outputs": [
    {
     "name": "stdout",
     "output_type": "stream",
     "text": [
      "['E' nan 'M' 'T' 'E10+' 'K-A' 'AO' 'EC' 'RP']\n",
      "6764\n"
     ]
    }
   ],
   "source": [
    "print(data['rating'].unique())\n",
    "print(data['rating'].isna().sum())\n",
    "data[data['rating'].isna()].sort_values(by='name')\n",
    "data['rating'] = data['rating'].fillna('out of rating')\n",
    "data['rating'] = data['rating'].str.lower()"
   ]
  },
  {
   "cell_type": "markdown",
   "metadata": {},
   "source": [
    "**2.9.** Выполним поиск явных дубликатов"
   ]
  },
  {
   "cell_type": "code",
   "execution_count": 12,
   "metadata": {},
   "outputs": [
    {
     "data": {
      "text/plain": [
       "0"
      ]
     },
     "execution_count": 12,
     "metadata": {},
     "output_type": "execute_result"
    }
   ],
   "source": [
    "data.duplicated().sum()\n",
    "# дубликатов в данных не обнаружено"
   ]
  },
  {
   "cell_type": "markdown",
   "metadata": {},
   "source": [
    "**2.10.** Добавим столбец с общими продажами по всем регионам"
   ]
  },
  {
   "cell_type": "code",
   "execution_count": 13,
   "metadata": {},
   "outputs": [],
   "source": [
    "data['total_sales'] = data[['na_sales','eu_sales','jp_sales','other_sales']].sum(axis=1)"
   ]
  },
  {
   "cell_type": "code",
   "execution_count": 14,
   "metadata": {},
   "outputs": [
    {
     "data": {
      "text/html": [
       "<div>\n",
       "<style scoped>\n",
       "    .dataframe tbody tr th:only-of-type {\n",
       "        vertical-align: middle;\n",
       "    }\n",
       "\n",
       "    .dataframe tbody tr th {\n",
       "        vertical-align: top;\n",
       "    }\n",
       "\n",
       "    .dataframe thead th {\n",
       "        text-align: right;\n",
       "    }\n",
       "</style>\n",
       "<table border=\"1\" class=\"dataframe\">\n",
       "  <thead>\n",
       "    <tr style=\"text-align: right;\">\n",
       "      <th></th>\n",
       "      <th>name</th>\n",
       "      <th>platform</th>\n",
       "      <th>year_of_release</th>\n",
       "      <th>genre</th>\n",
       "      <th>na_sales</th>\n",
       "      <th>eu_sales</th>\n",
       "      <th>jp_sales</th>\n",
       "      <th>other_sales</th>\n",
       "      <th>critic_score</th>\n",
       "      <th>user_score</th>\n",
       "      <th>rating</th>\n",
       "      <th>total_sales</th>\n",
       "    </tr>\n",
       "  </thead>\n",
       "  <tbody>\n",
       "    <tr>\n",
       "      <th>0</th>\n",
       "      <td>wii sports</td>\n",
       "      <td>wii</td>\n",
       "      <td>2006</td>\n",
       "      <td>sports</td>\n",
       "      <td>41.36</td>\n",
       "      <td>28.96</td>\n",
       "      <td>3.77</td>\n",
       "      <td>8.45</td>\n",
       "      <td>76</td>\n",
       "      <td>80</td>\n",
       "      <td>e</td>\n",
       "      <td>82.54</td>\n",
       "    </tr>\n",
       "    <tr>\n",
       "      <th>1</th>\n",
       "      <td>super mario bros.</td>\n",
       "      <td>nes</td>\n",
       "      <td>1985</td>\n",
       "      <td>platform</td>\n",
       "      <td>29.08</td>\n",
       "      <td>3.58</td>\n",
       "      <td>6.81</td>\n",
       "      <td>0.77</td>\n",
       "      <td>-1</td>\n",
       "      <td>-10</td>\n",
       "      <td>out of rating</td>\n",
       "      <td>40.24</td>\n",
       "    </tr>\n",
       "    <tr>\n",
       "      <th>2</th>\n",
       "      <td>mario kart wii</td>\n",
       "      <td>wii</td>\n",
       "      <td>2008</td>\n",
       "      <td>racing</td>\n",
       "      <td>15.68</td>\n",
       "      <td>12.76</td>\n",
       "      <td>3.79</td>\n",
       "      <td>3.29</td>\n",
       "      <td>82</td>\n",
       "      <td>83</td>\n",
       "      <td>e</td>\n",
       "      <td>35.52</td>\n",
       "    </tr>\n",
       "    <tr>\n",
       "      <th>3</th>\n",
       "      <td>wii sports resort</td>\n",
       "      <td>wii</td>\n",
       "      <td>2009</td>\n",
       "      <td>sports</td>\n",
       "      <td>15.61</td>\n",
       "      <td>10.93</td>\n",
       "      <td>3.28</td>\n",
       "      <td>2.95</td>\n",
       "      <td>80</td>\n",
       "      <td>80</td>\n",
       "      <td>e</td>\n",
       "      <td>32.77</td>\n",
       "    </tr>\n",
       "    <tr>\n",
       "      <th>4</th>\n",
       "      <td>pokemon red/pokemon blue</td>\n",
       "      <td>gb</td>\n",
       "      <td>1996</td>\n",
       "      <td>role-playing</td>\n",
       "      <td>11.27</td>\n",
       "      <td>8.89</td>\n",
       "      <td>10.22</td>\n",
       "      <td>1.00</td>\n",
       "      <td>-1</td>\n",
       "      <td>-10</td>\n",
       "      <td>out of rating</td>\n",
       "      <td>31.38</td>\n",
       "    </tr>\n",
       "    <tr>\n",
       "      <th>5</th>\n",
       "      <td>tetris</td>\n",
       "      <td>gb</td>\n",
       "      <td>1989</td>\n",
       "      <td>puzzle</td>\n",
       "      <td>23.20</td>\n",
       "      <td>2.26</td>\n",
       "      <td>4.22</td>\n",
       "      <td>0.58</td>\n",
       "      <td>-1</td>\n",
       "      <td>-10</td>\n",
       "      <td>out of rating</td>\n",
       "      <td>30.26</td>\n",
       "    </tr>\n",
       "    <tr>\n",
       "      <th>6</th>\n",
       "      <td>new super mario bros.</td>\n",
       "      <td>ds</td>\n",
       "      <td>2006</td>\n",
       "      <td>platform</td>\n",
       "      <td>11.28</td>\n",
       "      <td>9.14</td>\n",
       "      <td>6.50</td>\n",
       "      <td>2.88</td>\n",
       "      <td>89</td>\n",
       "      <td>85</td>\n",
       "      <td>e</td>\n",
       "      <td>29.80</td>\n",
       "    </tr>\n",
       "    <tr>\n",
       "      <th>7</th>\n",
       "      <td>wii play</td>\n",
       "      <td>wii</td>\n",
       "      <td>2006</td>\n",
       "      <td>misc</td>\n",
       "      <td>13.96</td>\n",
       "      <td>9.18</td>\n",
       "      <td>2.93</td>\n",
       "      <td>2.84</td>\n",
       "      <td>58</td>\n",
       "      <td>66</td>\n",
       "      <td>e</td>\n",
       "      <td>28.91</td>\n",
       "    </tr>\n",
       "    <tr>\n",
       "      <th>8</th>\n",
       "      <td>new super mario bros. wii</td>\n",
       "      <td>wii</td>\n",
       "      <td>2009</td>\n",
       "      <td>platform</td>\n",
       "      <td>14.44</td>\n",
       "      <td>6.94</td>\n",
       "      <td>4.70</td>\n",
       "      <td>2.24</td>\n",
       "      <td>87</td>\n",
       "      <td>84</td>\n",
       "      <td>e</td>\n",
       "      <td>28.32</td>\n",
       "    </tr>\n",
       "    <tr>\n",
       "      <th>9</th>\n",
       "      <td>duck hunt</td>\n",
       "      <td>nes</td>\n",
       "      <td>1984</td>\n",
       "      <td>shooter</td>\n",
       "      <td>26.93</td>\n",
       "      <td>0.63</td>\n",
       "      <td>0.28</td>\n",
       "      <td>0.47</td>\n",
       "      <td>-1</td>\n",
       "      <td>-10</td>\n",
       "      <td>out of rating</td>\n",
       "      <td>28.31</td>\n",
       "    </tr>\n",
       "    <tr>\n",
       "      <th>10</th>\n",
       "      <td>nintendogs</td>\n",
       "      <td>ds</td>\n",
       "      <td>2005</td>\n",
       "      <td>simulation</td>\n",
       "      <td>9.05</td>\n",
       "      <td>10.95</td>\n",
       "      <td>1.93</td>\n",
       "      <td>2.74</td>\n",
       "      <td>-1</td>\n",
       "      <td>-10</td>\n",
       "      <td>out of rating</td>\n",
       "      <td>24.67</td>\n",
       "    </tr>\n",
       "    <tr>\n",
       "      <th>11</th>\n",
       "      <td>mario kart ds</td>\n",
       "      <td>ds</td>\n",
       "      <td>2005</td>\n",
       "      <td>racing</td>\n",
       "      <td>9.71</td>\n",
       "      <td>7.47</td>\n",
       "      <td>4.13</td>\n",
       "      <td>1.90</td>\n",
       "      <td>91</td>\n",
       "      <td>86</td>\n",
       "      <td>e</td>\n",
       "      <td>23.21</td>\n",
       "    </tr>\n",
       "    <tr>\n",
       "      <th>12</th>\n",
       "      <td>pokemon gold/pokemon silver</td>\n",
       "      <td>gb</td>\n",
       "      <td>1999</td>\n",
       "      <td>role-playing</td>\n",
       "      <td>9.00</td>\n",
       "      <td>6.18</td>\n",
       "      <td>7.20</td>\n",
       "      <td>0.71</td>\n",
       "      <td>-1</td>\n",
       "      <td>-10</td>\n",
       "      <td>out of rating</td>\n",
       "      <td>23.09</td>\n",
       "    </tr>\n",
       "    <tr>\n",
       "      <th>13</th>\n",
       "      <td>wii fit</td>\n",
       "      <td>wii</td>\n",
       "      <td>2007</td>\n",
       "      <td>sports</td>\n",
       "      <td>8.92</td>\n",
       "      <td>8.03</td>\n",
       "      <td>3.60</td>\n",
       "      <td>2.15</td>\n",
       "      <td>80</td>\n",
       "      <td>77</td>\n",
       "      <td>e</td>\n",
       "      <td>22.70</td>\n",
       "    </tr>\n",
       "    <tr>\n",
       "      <th>14</th>\n",
       "      <td>kinect adventures!</td>\n",
       "      <td>x360</td>\n",
       "      <td>2010</td>\n",
       "      <td>misc</td>\n",
       "      <td>15.00</td>\n",
       "      <td>4.89</td>\n",
       "      <td>0.24</td>\n",
       "      <td>1.69</td>\n",
       "      <td>61</td>\n",
       "      <td>63</td>\n",
       "      <td>e</td>\n",
       "      <td>21.82</td>\n",
       "    </tr>\n",
       "  </tbody>\n",
       "</table>\n",
       "</div>"
      ],
      "text/plain": [
       "                           name platform  year_of_release         genre  \\\n",
       "0                    wii sports      wii             2006        sports   \n",
       "1             super mario bros.      nes             1985      platform   \n",
       "2                mario kart wii      wii             2008        racing   \n",
       "3             wii sports resort      wii             2009        sports   \n",
       "4      pokemon red/pokemon blue       gb             1996  role-playing   \n",
       "5                        tetris       gb             1989        puzzle   \n",
       "6         new super mario bros.       ds             2006      platform   \n",
       "7                      wii play      wii             2006          misc   \n",
       "8     new super mario bros. wii      wii             2009      platform   \n",
       "9                     duck hunt      nes             1984       shooter   \n",
       "10                   nintendogs       ds             2005    simulation   \n",
       "11                mario kart ds       ds             2005        racing   \n",
       "12  pokemon gold/pokemon silver       gb             1999  role-playing   \n",
       "13                      wii fit      wii             2007        sports   \n",
       "14           kinect adventures!     x360             2010          misc   \n",
       "\n",
       "    na_sales  eu_sales  jp_sales  other_sales  critic_score  user_score  \\\n",
       "0      41.36     28.96      3.77         8.45            76          80   \n",
       "1      29.08      3.58      6.81         0.77            -1         -10   \n",
       "2      15.68     12.76      3.79         3.29            82          83   \n",
       "3      15.61     10.93      3.28         2.95            80          80   \n",
       "4      11.27      8.89     10.22         1.00            -1         -10   \n",
       "5      23.20      2.26      4.22         0.58            -1         -10   \n",
       "6      11.28      9.14      6.50         2.88            89          85   \n",
       "7      13.96      9.18      2.93         2.84            58          66   \n",
       "8      14.44      6.94      4.70         2.24            87          84   \n",
       "9      26.93      0.63      0.28         0.47            -1         -10   \n",
       "10      9.05     10.95      1.93         2.74            -1         -10   \n",
       "11      9.71      7.47      4.13         1.90            91          86   \n",
       "12      9.00      6.18      7.20         0.71            -1         -10   \n",
       "13      8.92      8.03      3.60         2.15            80          77   \n",
       "14     15.00      4.89      0.24         1.69            61          63   \n",
       "\n",
       "           rating  total_sales  \n",
       "0               e        82.54  \n",
       "1   out of rating        40.24  \n",
       "2               e        35.52  \n",
       "3               e        32.77  \n",
       "4   out of rating        31.38  \n",
       "5   out of rating        30.26  \n",
       "6               e        29.80  \n",
       "7               e        28.91  \n",
       "8               e        28.32  \n",
       "9   out of rating        28.31  \n",
       "10  out of rating        24.67  \n",
       "11              e        23.21  \n",
       "12  out of rating        23.09  \n",
       "13              e        22.70  \n",
       "14              e        21.82  "
      ]
     },
     "metadata": {},
     "output_type": "display_data"
    },
    {
     "name": "stdout",
     "output_type": "stream",
     "text": [
      "<class 'pandas.core.frame.DataFrame'>\n",
      "Int64Index: 16713 entries, 0 to 16714\n",
      "Data columns (total 12 columns):\n",
      " #   Column           Non-Null Count  Dtype  \n",
      "---  ------           --------------  -----  \n",
      " 0   name             16713 non-null  object \n",
      " 1   platform         16713 non-null  object \n",
      " 2   year_of_release  16713 non-null  int64  \n",
      " 3   genre            16713 non-null  object \n",
      " 4   na_sales         16713 non-null  float64\n",
      " 5   eu_sales         16713 non-null  float64\n",
      " 6   jp_sales         16713 non-null  float64\n",
      " 7   other_sales      16713 non-null  float64\n",
      " 8   critic_score     16713 non-null  int64  \n",
      " 9   user_score       16713 non-null  int64  \n",
      " 10  rating           16713 non-null  object \n",
      " 11  total_sales      16713 non-null  float64\n",
      "dtypes: float64(5), int64(3), object(4)\n",
      "memory usage: 1.7+ MB\n"
     ]
    }
   ],
   "source": [
    "display(data.head(15))\n",
    "data.info()"
   ]
  },
  {
   "cell_type": "markdown",
   "metadata": {},
   "source": [
    "# Шаг 3. Проведем исследовательский анализ данных"
   ]
  },
  {
   "cell_type": "markdown",
   "metadata": {},
   "source": [
    "**3.1.** Посмотрим, сколько игр выпускалось в разные годы. Важны ли данные за все периоды?"
   ]
  },
  {
   "cell_type": "code",
   "execution_count": 15,
   "metadata": {},
   "outputs": [
    {
     "data": {
      "text/html": [
       "<div>\n",
       "<style scoped>\n",
       "    .dataframe tbody tr th:only-of-type {\n",
       "        vertical-align: middle;\n",
       "    }\n",
       "\n",
       "    .dataframe tbody tr th {\n",
       "        vertical-align: top;\n",
       "    }\n",
       "\n",
       "    .dataframe thead th {\n",
       "        text-align: right;\n",
       "    }\n",
       "</style>\n",
       "<table border=\"1\" class=\"dataframe\">\n",
       "  <thead>\n",
       "    <tr style=\"text-align: right;\">\n",
       "      <th></th>\n",
       "      <th>name</th>\n",
       "    </tr>\n",
       "    <tr>\n",
       "      <th>year_of_release</th>\n",
       "      <th></th>\n",
       "    </tr>\n",
       "  </thead>\n",
       "  <tbody>\n",
       "    <tr>\n",
       "      <th>1980</th>\n",
       "      <td>9</td>\n",
       "    </tr>\n",
       "    <tr>\n",
       "      <th>1981</th>\n",
       "      <td>46</td>\n",
       "    </tr>\n",
       "    <tr>\n",
       "      <th>1982</th>\n",
       "      <td>36</td>\n",
       "    </tr>\n",
       "    <tr>\n",
       "      <th>1983</th>\n",
       "      <td>17</td>\n",
       "    </tr>\n",
       "    <tr>\n",
       "      <th>1984</th>\n",
       "      <td>14</td>\n",
       "    </tr>\n",
       "    <tr>\n",
       "      <th>1985</th>\n",
       "      <td>14</td>\n",
       "    </tr>\n",
       "    <tr>\n",
       "      <th>1986</th>\n",
       "      <td>21</td>\n",
       "    </tr>\n",
       "    <tr>\n",
       "      <th>1987</th>\n",
       "      <td>16</td>\n",
       "    </tr>\n",
       "    <tr>\n",
       "      <th>1988</th>\n",
       "      <td>15</td>\n",
       "    </tr>\n",
       "    <tr>\n",
       "      <th>1989</th>\n",
       "      <td>17</td>\n",
       "    </tr>\n",
       "    <tr>\n",
       "      <th>1990</th>\n",
       "      <td>16</td>\n",
       "    </tr>\n",
       "    <tr>\n",
       "      <th>1991</th>\n",
       "      <td>41</td>\n",
       "    </tr>\n",
       "    <tr>\n",
       "      <th>1992</th>\n",
       "      <td>43</td>\n",
       "    </tr>\n",
       "    <tr>\n",
       "      <th>1993</th>\n",
       "      <td>60</td>\n",
       "    </tr>\n",
       "    <tr>\n",
       "      <th>1994</th>\n",
       "      <td>121</td>\n",
       "    </tr>\n",
       "    <tr>\n",
       "      <th>1995</th>\n",
       "      <td>219</td>\n",
       "    </tr>\n",
       "    <tr>\n",
       "      <th>1996</th>\n",
       "      <td>263</td>\n",
       "    </tr>\n",
       "    <tr>\n",
       "      <th>1997</th>\n",
       "      <td>289</td>\n",
       "    </tr>\n",
       "    <tr>\n",
       "      <th>1998</th>\n",
       "      <td>379</td>\n",
       "    </tr>\n",
       "    <tr>\n",
       "      <th>1999</th>\n",
       "      <td>338</td>\n",
       "    </tr>\n",
       "    <tr>\n",
       "      <th>2000</th>\n",
       "      <td>350</td>\n",
       "    </tr>\n",
       "    <tr>\n",
       "      <th>2001</th>\n",
       "      <td>482</td>\n",
       "    </tr>\n",
       "    <tr>\n",
       "      <th>2002</th>\n",
       "      <td>829</td>\n",
       "    </tr>\n",
       "    <tr>\n",
       "      <th>2003</th>\n",
       "      <td>775</td>\n",
       "    </tr>\n",
       "    <tr>\n",
       "      <th>2004</th>\n",
       "      <td>762</td>\n",
       "    </tr>\n",
       "    <tr>\n",
       "      <th>2005</th>\n",
       "      <td>939</td>\n",
       "    </tr>\n",
       "    <tr>\n",
       "      <th>2006</th>\n",
       "      <td>1006</td>\n",
       "    </tr>\n",
       "    <tr>\n",
       "      <th>2007</th>\n",
       "      <td>1197</td>\n",
       "    </tr>\n",
       "    <tr>\n",
       "      <th>2008</th>\n",
       "      <td>1427</td>\n",
       "    </tr>\n",
       "    <tr>\n",
       "      <th>2009</th>\n",
       "      <td>1426</td>\n",
       "    </tr>\n",
       "    <tr>\n",
       "      <th>2010</th>\n",
       "      <td>1255</td>\n",
       "    </tr>\n",
       "    <tr>\n",
       "      <th>2011</th>\n",
       "      <td>1136</td>\n",
       "    </tr>\n",
       "    <tr>\n",
       "      <th>2012</th>\n",
       "      <td>653</td>\n",
       "    </tr>\n",
       "    <tr>\n",
       "      <th>2013</th>\n",
       "      <td>544</td>\n",
       "    </tr>\n",
       "    <tr>\n",
       "      <th>2014</th>\n",
       "      <td>581</td>\n",
       "    </tr>\n",
       "    <tr>\n",
       "      <th>2015</th>\n",
       "      <td>606</td>\n",
       "    </tr>\n",
       "    <tr>\n",
       "      <th>2016</th>\n",
       "      <td>502</td>\n",
       "    </tr>\n",
       "  </tbody>\n",
       "</table>\n",
       "</div>"
      ],
      "text/plain": [
       "                 name\n",
       "year_of_release      \n",
       "1980                9\n",
       "1981               46\n",
       "1982               36\n",
       "1983               17\n",
       "1984               14\n",
       "1985               14\n",
       "1986               21\n",
       "1987               16\n",
       "1988               15\n",
       "1989               17\n",
       "1990               16\n",
       "1991               41\n",
       "1992               43\n",
       "1993               60\n",
       "1994              121\n",
       "1995              219\n",
       "1996              263\n",
       "1997              289\n",
       "1998              379\n",
       "1999              338\n",
       "2000              350\n",
       "2001              482\n",
       "2002              829\n",
       "2003              775\n",
       "2004              762\n",
       "2005              939\n",
       "2006             1006\n",
       "2007             1197\n",
       "2008             1427\n",
       "2009             1426\n",
       "2010             1255\n",
       "2011             1136\n",
       "2012              653\n",
       "2013              544\n",
       "2014              581\n",
       "2015              606\n",
       "2016              502"
      ]
     },
     "metadata": {},
     "output_type": "display_data"
    }
   ],
   "source": [
    "releases = data.groupby('year_of_release')[['name']].count()\n",
    "releases = releases.iloc[:-1]\n",
    "display(releases)"
   ]
  },
  {
   "cell_type": "code",
   "execution_count": 16,
   "metadata": {},
   "outputs": [
    {
     "data": {
      "image/png": "[encoded data removed]",
      "text/plain": [
       "<Figure size 504x360 with 1 Axes>"
      ]
     },
     "metadata": {},
     "output_type": "display_data"
    }
   ],
   "source": [
    "sns.set(rc={'figure.figsize':(7,5)})\n",
    "releases.plot.area(legend = None)\n",
    "plt.title('Количество выходящих игр с 1980 по 2016')\n",
    "plt.xlabel('Год релиза')\n",
    "plt.ylabel('Кол-во игр')\n",
    "plt.legend\n",
    "plt.show()"
   ]
  },
  {
   "cell_type": "markdown",
   "metadata": {},
   "source": [
    "**Вывод:** Начиная с 1994 года в игровой индустрии начался бурный рост. С ростом распростронения домашнего компьютерного оборудования стал рости и рынок компьютерных игр. Бурный всплеск закончился в 2012 году, связанно это с несколькими факторами: рост числа конкурентов на рынке, повышенное требование к качеству конечного продукта, кризис 2008 года, рост популярности смартфонов как игровой платформы.\n",
    "\n",
    "Для того чтобы дать верный прогноз на 2017 год нам следует опираться на данные из 2012 - 2016 годов."
   ]
  },
  {
   "cell_type": "markdown",
   "metadata": {},
   "source": [
    "**3.2.** Посмотрим, как менялись продажи по платформам. Выберем платформы с наибольшими суммарными продажами и построим распределение по годам. Выясним за какой характерный срок появляются новые и исчезают старые платформы?"
   ]
  },
  {
   "cell_type": "code",
   "execution_count": 17,
   "metadata": {},
   "outputs": [
    {
     "data": {
      "text/html": [
       "<div>\n",
       "<style scoped>\n",
       "    .dataframe tbody tr th:only-of-type {\n",
       "        vertical-align: middle;\n",
       "    }\n",
       "\n",
       "    .dataframe tbody tr th {\n",
       "        vertical-align: top;\n",
       "    }\n",
       "\n",
       "    .dataframe thead th {\n",
       "        text-align: right;\n",
       "    }\n",
       "</style>\n",
       "<table border=\"1\" class=\"dataframe\">\n",
       "  <thead>\n",
       "    <tr style=\"text-align: right;\">\n",
       "      <th></th>\n",
       "      <th>total_sales</th>\n",
       "    </tr>\n",
       "    <tr>\n",
       "      <th>platform</th>\n",
       "      <th></th>\n",
       "    </tr>\n",
       "  </thead>\n",
       "  <tbody>\n",
       "    <tr>\n",
       "      <th>ps2</th>\n",
       "      <td>1255.77</td>\n",
       "    </tr>\n",
       "    <tr>\n",
       "      <th>x360</th>\n",
       "      <td>971.42</td>\n",
       "    </tr>\n",
       "    <tr>\n",
       "      <th>ps3</th>\n",
       "      <td>939.65</td>\n",
       "    </tr>\n",
       "    <tr>\n",
       "      <th>wii</th>\n",
       "      <td>907.51</td>\n",
       "    </tr>\n",
       "    <tr>\n",
       "      <th>ds</th>\n",
       "      <td>806.12</td>\n",
       "    </tr>\n",
       "  </tbody>\n",
       "</table>\n",
       "</div>"
      ],
      "text/plain": [
       "          total_sales\n",
       "platform             \n",
       "ps2           1255.77\n",
       "x360           971.42\n",
       "ps3            939.65\n",
       "wii            907.51\n",
       "ds             806.12"
      ]
     },
     "metadata": {},
     "output_type": "display_data"
    }
   ],
   "source": [
    "top_platforms = data.groupby('platform')[['total_sales']].sum()\n",
    "top_platforms = top_platforms.sort_values(by='total_sales',ascending = False)\n",
    "top_five_platforms = top_platforms.head(5)\n",
    "display(top_five_platforms)"
   ]
  },
  {
   "cell_type": "code",
   "execution_count": 18,
   "metadata": {},
   "outputs": [
    {
     "data": {
      "text/plain": [
       "0     ps2\n",
       "1    x360\n",
       "2     ps3\n",
       "3     wii\n",
       "4      ds\n",
       "Name: platform, dtype: object"
      ]
     },
     "execution_count": 18,
     "metadata": {},
     "output_type": "execute_result"
    }
   ],
   "source": [
    "# словарь с платформами с найбольшими продажами\n",
    "dict_platforms = top_five_platforms.reset_index()['platform']\n",
    "dict_platforms"
   ]
  },
  {
   "cell_type": "code",
   "execution_count": 19,
   "metadata": {},
   "outputs": [
    {
     "data": {
      "image/png": "[encoded data removed]",
      "text/plain": [
       "<Figure size 1080x504 with 1 Axes>"
      ]
     },
     "metadata": {},
     "output_type": "display_data"
    }
   ],
   "source": [
    "# срез данных по словарью с большем количкство продаж и его групировка по платформам\n",
    "platforms = data.query('platform in @top_five_platforms.index')[['year_of_release', 'platform']].groupby('platform')\n",
    "\n",
    "# построение плотностей частоты для платформ с большем количеством сумарными продажами\n",
    "for platform, platforms_df in platforms:\n",
    "    subset = platforms.get_group(platform) \n",
    "    subset['year_of_release'].plot(kind='density', grid=True, figsize=(15,7),\n",
    "                                    linewidth=3, alpha=0.7, xlim=(1999, 2020), legend=True,)\n",
    "    plt.legend(dict_platforms)"
   ]
  },
  {
   "cell_type": "code",
   "execution_count": 20,
   "metadata": {},
   "outputs": [
    {
     "name": "stdout",
     "output_type": "stream",
     "text": [
      "Актуальные платформы на 2016 год: ['ps4' '3ds' 'xone' 'wiiu' 'ps3' 'pc' 'x360' 'psv' 'wii']\n"
     ]
    },
    {
     "data": {
      "text/html": [
       "<div>\n",
       "<style scoped>\n",
       "    .dataframe tbody tr th:only-of-type {\n",
       "        vertical-align: middle;\n",
       "    }\n",
       "\n",
       "    .dataframe tbody tr th {\n",
       "        vertical-align: top;\n",
       "    }\n",
       "\n",
       "    .dataframe thead th {\n",
       "        text-align: right;\n",
       "    }\n",
       "</style>\n",
       "<table border=\"1\" class=\"dataframe\">\n",
       "  <thead>\n",
       "    <tr style=\"text-align: right;\">\n",
       "      <th></th>\n",
       "      <th>total_sales</th>\n",
       "    </tr>\n",
       "    <tr>\n",
       "      <th>platform</th>\n",
       "      <th></th>\n",
       "    </tr>\n",
       "  </thead>\n",
       "  <tbody>\n",
       "    <tr>\n",
       "      <th>ps4</th>\n",
       "      <td>69.25</td>\n",
       "    </tr>\n",
       "    <tr>\n",
       "      <th>xone</th>\n",
       "      <td>26.15</td>\n",
       "    </tr>\n",
       "    <tr>\n",
       "      <th>3ds</th>\n",
       "      <td>15.14</td>\n",
       "    </tr>\n",
       "    <tr>\n",
       "      <th>pc</th>\n",
       "      <td>5.25</td>\n",
       "    </tr>\n",
       "    <tr>\n",
       "      <th>wiiu</th>\n",
       "      <td>4.60</td>\n",
       "    </tr>\n",
       "  </tbody>\n",
       "</table>\n",
       "</div>"
      ],
      "text/plain": [
       "          total_sales\n",
       "platform             \n",
       "ps4             69.25\n",
       "xone            26.15\n",
       "3ds             15.14\n",
       "pc               5.25\n",
       "wiiu             4.60"
      ]
     },
     "metadata": {},
     "output_type": "display_data"
    }
   ],
   "source": [
    "# найдём платформы, на которые выпускались игры в 2016 году\n",
    "cur_platforms = data.loc[data['year_of_release'] == 2016, 'platform'].unique()\n",
    "print('Актуальные платформы на 2016 год:', cur_platforms)\n",
    "\n",
    "cur_platforms = data.query('platform in @cur_platforms and year_of_release == 2016')\n",
    "cur_platforms = cur_platforms.sort_values(by='total_sales',ascending = False)\n",
    "cur_platforms = cur_platforms.groupby('platform')[['total_sales']].sum().sort_values(by='total_sales', ascending = False)\n",
    "\n",
    "cur_platforms_five = cur_platforms.head(5)\n",
    "display(cur_platforms_five)"
   ]
  },
  {
   "cell_type": "code",
   "execution_count": 21,
   "metadata": {},
   "outputs": [
    {
     "data": {
      "text/plain": [
       "0     ps4\n",
       "1    xone\n",
       "2     3ds\n",
       "3      pc\n",
       "4    wiiu\n",
       "Name: platform, dtype: object"
      ]
     },
     "execution_count": 21,
     "metadata": {},
     "output_type": "execute_result"
    }
   ],
   "source": [
    "dict_cur_platforms = cur_platforms_five.reset_index()['platform']\n",
    "dict_cur_platforms"
   ]
  },
  {
   "cell_type": "code",
   "execution_count": 22,
   "metadata": {},
   "outputs": [
    {
     "data": {
      "image/png": "[encoded data removed]",
      "text/plain": [
       "<Figure size 1080x504 with 1 Axes>"
      ]
     },
     "metadata": {},
     "output_type": "display_data"
    }
   ],
   "source": [
    "# срез данных по словарью с большем количкство продаж и его групировка по платформам\n",
    "platforms = data.query('platform in @cur_platforms_five.index')[['year_of_release', 'platform']].groupby('platform')\n",
    "\n",
    "# построение плотностей частоты для платформ с большем количеством сумарными продажами\n",
    "for platform, platforms_df in platforms:\n",
    "    subset = platforms.get_group(platform) \n",
    "    subset['year_of_release'].plot(kind='density', grid=True, figsize=(15,7),\n",
    "                                    linewidth=3, alpha=0.7, xlim=(2012, 2017), legend=True,)\n",
    "    plt.legend(dict_cur_platforms)"
   ]
  },
  {
   "cell_type": "markdown",
   "metadata": {},
   "source": [
    "**Вывод:** Из графиков плотностей платформ с наиболшими сумарными продажами можно определить что жизненые цикл каждой платформы составляет около 10 лет. Исходя из данного вывода можно определить что актуальный период анализа для прогнозирование на 2017 год целособрасно определить период из 2012 г, для того чтобы нагладнее посмотреть на динамику продаж.\n",
    "\n",
    "Потенциально прибыльные платформы на конец 2016 года:\n",
    "\n",
    "* PS4\n",
    "* Xone"
   ]
  },
  {
   "cell_type": "markdown",
   "metadata": {},
   "source": [
    "**3.3.** Возьмем данные за соответствующий актуальный период. Основной фактор — эти данные помогут построить прогноз на 2017 год."
   ]
  },
  {
   "cell_type": "code",
   "execution_count": 23,
   "metadata": {},
   "outputs": [
    {
     "data": {
      "text/html": [
       "<div>\n",
       "<style scoped>\n",
       "    .dataframe tbody tr th:only-of-type {\n",
       "        vertical-align: middle;\n",
       "    }\n",
       "\n",
       "    .dataframe tbody tr th {\n",
       "        vertical-align: top;\n",
       "    }\n",
       "\n",
       "    .dataframe thead th {\n",
       "        text-align: right;\n",
       "    }\n",
       "</style>\n",
       "<table border=\"1\" class=\"dataframe\">\n",
       "  <thead>\n",
       "    <tr style=\"text-align: right;\">\n",
       "      <th></th>\n",
       "      <th>name</th>\n",
       "      <th>platform</th>\n",
       "      <th>year_of_release</th>\n",
       "      <th>genre</th>\n",
       "      <th>na_sales</th>\n",
       "      <th>eu_sales</th>\n",
       "      <th>jp_sales</th>\n",
       "      <th>other_sales</th>\n",
       "      <th>critic_score</th>\n",
       "      <th>user_score</th>\n",
       "      <th>rating</th>\n",
       "      <th>total_sales</th>\n",
       "    </tr>\n",
       "  </thead>\n",
       "  <tbody>\n",
       "    <tr>\n",
       "      <th>16</th>\n",
       "      <td>grand theft auto v</td>\n",
       "      <td>ps3</td>\n",
       "      <td>2013</td>\n",
       "      <td>action</td>\n",
       "      <td>7.02</td>\n",
       "      <td>9.09</td>\n",
       "      <td>0.98</td>\n",
       "      <td>3.96</td>\n",
       "      <td>97</td>\n",
       "      <td>82</td>\n",
       "      <td>m</td>\n",
       "      <td>21.05</td>\n",
       "    </tr>\n",
       "    <tr>\n",
       "      <th>23</th>\n",
       "      <td>grand theft auto v</td>\n",
       "      <td>x360</td>\n",
       "      <td>2013</td>\n",
       "      <td>action</td>\n",
       "      <td>9.66</td>\n",
       "      <td>5.14</td>\n",
       "      <td>0.06</td>\n",
       "      <td>1.41</td>\n",
       "      <td>97</td>\n",
       "      <td>81</td>\n",
       "      <td>m</td>\n",
       "      <td>16.27</td>\n",
       "    </tr>\n",
       "    <tr>\n",
       "      <th>31</th>\n",
       "      <td>call of duty: black ops 3</td>\n",
       "      <td>ps4</td>\n",
       "      <td>2015</td>\n",
       "      <td>shooter</td>\n",
       "      <td>6.03</td>\n",
       "      <td>5.86</td>\n",
       "      <td>0.36</td>\n",
       "      <td>2.38</td>\n",
       "      <td>-1</td>\n",
       "      <td>-10</td>\n",
       "      <td>out of rating</td>\n",
       "      <td>14.63</td>\n",
       "    </tr>\n",
       "    <tr>\n",
       "      <th>33</th>\n",
       "      <td>pokemon x/pokemon y</td>\n",
       "      <td>3ds</td>\n",
       "      <td>2013</td>\n",
       "      <td>role-playing</td>\n",
       "      <td>5.28</td>\n",
       "      <td>4.19</td>\n",
       "      <td>4.35</td>\n",
       "      <td>0.78</td>\n",
       "      <td>-1</td>\n",
       "      <td>-10</td>\n",
       "      <td>out of rating</td>\n",
       "      <td>14.60</td>\n",
       "    </tr>\n",
       "    <tr>\n",
       "      <th>42</th>\n",
       "      <td>grand theft auto v</td>\n",
       "      <td>ps4</td>\n",
       "      <td>2014</td>\n",
       "      <td>action</td>\n",
       "      <td>3.96</td>\n",
       "      <td>6.31</td>\n",
       "      <td>0.38</td>\n",
       "      <td>1.97</td>\n",
       "      <td>97</td>\n",
       "      <td>83</td>\n",
       "      <td>m</td>\n",
       "      <td>12.62</td>\n",
       "    </tr>\n",
       "  </tbody>\n",
       "</table>\n",
       "</div>"
      ],
      "text/plain": [
       "                         name platform  year_of_release         genre  \\\n",
       "16         grand theft auto v      ps3             2013        action   \n",
       "23         grand theft auto v     x360             2013        action   \n",
       "31  call of duty: black ops 3      ps4             2015       shooter   \n",
       "33        pokemon x/pokemon y      3ds             2013  role-playing   \n",
       "42         grand theft auto v      ps4             2014        action   \n",
       "\n",
       "    na_sales  eu_sales  jp_sales  other_sales  critic_score  user_score  \\\n",
       "16      7.02      9.09      0.98         3.96            97          82   \n",
       "23      9.66      5.14      0.06         1.41            97          81   \n",
       "31      6.03      5.86      0.36         2.38            -1         -10   \n",
       "33      5.28      4.19      4.35         0.78            -1         -10   \n",
       "42      3.96      6.31      0.38         1.97            97          83   \n",
       "\n",
       "           rating  total_sales  \n",
       "16              m        21.05  \n",
       "23              m        16.27  \n",
       "31  out of rating        14.63  \n",
       "33  out of rating        14.60  \n",
       "42              m        12.62  "
      ]
     },
     "execution_count": 23,
     "metadata": {},
     "output_type": "execute_result"
    }
   ],
   "source": [
    "# срезаем данных актульного периода.\n",
    "actual_period = data.query('year_of_release > 2012')\n",
    "actual_period.head()"
   ]
  },
  {
   "cell_type": "markdown",
   "metadata": {},
   "source": [
    "**3.4.** Какие платформы лидируют по продажам, растут или падают? Выберем несколько потенциально прибыльных платформ."
   ]
  },
  {
   "cell_type": "code",
   "execution_count": 24,
   "metadata": {},
   "outputs": [
    {
     "data": {
      "text/plain": [
       "platform\n",
       "ps4     314.14\n",
       "ps3     189.74\n",
       "xone    159.32\n",
       "x360    146.98\n",
       "3ds     144.44\n",
       "Name: total_sales, dtype: float64"
      ]
     },
     "execution_count": 24,
     "metadata": {},
     "output_type": "execute_result"
    }
   ],
   "source": [
    "# платформы лидирующие по продажам\n",
    "lider_platform = actual_period.groupby('platform')['total_sales'].sum().sort_values(ascending=False)\n",
    "lider_platform = lider_platform.head(5)\n",
    "lider_platform"
   ]
  },
  {
   "cell_type": "code",
   "execution_count": 25,
   "metadata": {},
   "outputs": [
    {
     "data": {
      "text/plain": [
       "platform  year_of_release\n",
       "3ds       2013                56.57\n",
       "          2014                43.76\n",
       "          2015                27.78\n",
       "          2016                15.14\n",
       "ds        2013                 1.54\n",
       "pc        2013                12.38\n",
       "          2014                13.28\n",
       "          2015                 8.52\n",
       "          2016                 5.25\n",
       "ps3       2013               113.25\n",
       "          2014                47.76\n",
       "          2015                16.82\n",
       "          2016                 3.60\n",
       "ps4       2013                25.99\n",
       "          2014               100.00\n",
       "          2015               118.90\n",
       "          2016                69.25\n",
       "psp       2013                 3.14\n",
       "          2014                 0.24\n",
       "          2015                 0.12\n",
       "psv       2013                10.59\n",
       "          2014                11.90\n",
       "          2015                 6.25\n",
       "          2016                 4.25\n",
       "wii       2013                 8.59\n",
       "          2014                 3.75\n",
       "          2015                 1.14\n",
       "          2016                 0.18\n",
       "wiiu      2013                21.65\n",
       "          2014                22.03\n",
       "          2015                16.35\n",
       "          2016                 4.60\n",
       "x360      2013                88.58\n",
       "          2014                34.74\n",
       "          2015                11.96\n",
       "          2016                 1.52\n",
       "xone      2013                18.96\n",
       "          2014                54.07\n",
       "          2015                60.14\n",
       "          2016                26.15\n",
       "Name: total_sales, dtype: float64"
      ]
     },
     "execution_count": 25,
     "metadata": {},
     "output_type": "execute_result"
    }
   ],
   "source": [
    "# динамика продаж актуальных платформ\n",
    "actual_period = actual_period.query('year_of_release < 2050')\n",
    "dinamics_lider_platform = actual_period.groupby(['platform' , 'year_of_release'])['total_sales'].sum()\n",
    "# добавим фильтрацию по году вывода платформ \n",
    "dinamics_lider_platform"
   ]
  },
  {
   "cell_type": "code",
   "execution_count": 26,
   "metadata": {},
   "outputs": [
    {
     "data": {
      "text/plain": [
       "0     ps4\n",
       "1     ps3\n",
       "2    xone\n",
       "3    x360\n",
       "4     3ds\n",
       "Name: platform, dtype: object"
      ]
     },
     "execution_count": 26,
     "metadata": {},
     "output_type": "execute_result"
    }
   ],
   "source": [
    "# словарь лидирующих платформ за актуальный переод\n",
    "dict_platforms = lider_platform.reset_index().platform\n",
    "dict_platforms"
   ]
  },
  {
   "cell_type": "code",
   "execution_count": 27,
   "metadata": {},
   "outputs": [
    {
     "data": {
      "image/png": "[encoded data removed]",
      "text/plain": [
       "<Figure size 720x504 with 1 Axes>"
      ]
     },
     "metadata": {},
     "output_type": "display_data"
    }
   ],
   "source": [
    "# групировка по платформам \n",
    "dinamics = dinamics_lider_platform.groupby('platform')\n",
    "\n",
    "# построение графиков суммарных продаж по платформам \n",
    "for platform, purchase_df in dinamics:\n",
    "    subset = dinamics.get_group(platform) \n",
    "    subset.plot(x='year_of_release', y='total_sales', kind='line', grid=True, figsize=(10,7),\n",
    "                                    linewidth=3, alpha=0.7, legend=True,)\n",
    "    plt.legend(dict_platforms)"
   ]
  },
  {
   "cell_type": "code",
   "execution_count": 28,
   "metadata": {},
   "outputs": [
    {
     "data": {
      "text/html": [
       "<div>\n",
       "<style scoped>\n",
       "    .dataframe tbody tr th:only-of-type {\n",
       "        vertical-align: middle;\n",
       "    }\n",
       "\n",
       "    .dataframe tbody tr th {\n",
       "        vertical-align: top;\n",
       "    }\n",
       "\n",
       "    .dataframe thead th {\n",
       "        text-align: right;\n",
       "    }\n",
       "</style>\n",
       "<table border=\"1\" class=\"dataframe\">\n",
       "  <thead>\n",
       "    <tr style=\"text-align: right;\">\n",
       "      <th></th>\n",
       "      <th>index</th>\n",
       "      <th>name</th>\n",
       "      <th>platform</th>\n",
       "      <th>year_of_release</th>\n",
       "      <th>genre</th>\n",
       "      <th>na_sales</th>\n",
       "      <th>eu_sales</th>\n",
       "      <th>jp_sales</th>\n",
       "      <th>other_sales</th>\n",
       "      <th>critic_score</th>\n",
       "      <th>user_score</th>\n",
       "      <th>rating</th>\n",
       "      <th>total_sales</th>\n",
       "    </tr>\n",
       "  </thead>\n",
       "  <tbody>\n",
       "    <tr>\n",
       "      <th>0</th>\n",
       "      <td>16</td>\n",
       "      <td>grand theft auto v</td>\n",
       "      <td>ps3</td>\n",
       "      <td>2013</td>\n",
       "      <td>action</td>\n",
       "      <td>7.02</td>\n",
       "      <td>9.09</td>\n",
       "      <td>0.98</td>\n",
       "      <td>3.96</td>\n",
       "      <td>97</td>\n",
       "      <td>82</td>\n",
       "      <td>m</td>\n",
       "      <td>21.05</td>\n",
       "    </tr>\n",
       "    <tr>\n",
       "      <th>1</th>\n",
       "      <td>23</td>\n",
       "      <td>grand theft auto v</td>\n",
       "      <td>x360</td>\n",
       "      <td>2013</td>\n",
       "      <td>action</td>\n",
       "      <td>9.66</td>\n",
       "      <td>5.14</td>\n",
       "      <td>0.06</td>\n",
       "      <td>1.41</td>\n",
       "      <td>97</td>\n",
       "      <td>81</td>\n",
       "      <td>m</td>\n",
       "      <td>16.27</td>\n",
       "    </tr>\n",
       "    <tr>\n",
       "      <th>2</th>\n",
       "      <td>31</td>\n",
       "      <td>call of duty: black ops 3</td>\n",
       "      <td>ps4</td>\n",
       "      <td>2015</td>\n",
       "      <td>shooter</td>\n",
       "      <td>6.03</td>\n",
       "      <td>5.86</td>\n",
       "      <td>0.36</td>\n",
       "      <td>2.38</td>\n",
       "      <td>-1</td>\n",
       "      <td>-10</td>\n",
       "      <td>out of rating</td>\n",
       "      <td>14.63</td>\n",
       "    </tr>\n",
       "    <tr>\n",
       "      <th>3</th>\n",
       "      <td>33</td>\n",
       "      <td>pokemon x/pokemon y</td>\n",
       "      <td>3ds</td>\n",
       "      <td>2013</td>\n",
       "      <td>role-playing</td>\n",
       "      <td>5.28</td>\n",
       "      <td>4.19</td>\n",
       "      <td>4.35</td>\n",
       "      <td>0.78</td>\n",
       "      <td>-1</td>\n",
       "      <td>-10</td>\n",
       "      <td>out of rating</td>\n",
       "      <td>14.60</td>\n",
       "    </tr>\n",
       "    <tr>\n",
       "      <th>4</th>\n",
       "      <td>42</td>\n",
       "      <td>grand theft auto v</td>\n",
       "      <td>ps4</td>\n",
       "      <td>2014</td>\n",
       "      <td>action</td>\n",
       "      <td>3.96</td>\n",
       "      <td>6.31</td>\n",
       "      <td>0.38</td>\n",
       "      <td>1.97</td>\n",
       "      <td>97</td>\n",
       "      <td>83</td>\n",
       "      <td>m</td>\n",
       "      <td>12.62</td>\n",
       "    </tr>\n",
       "  </tbody>\n",
       "</table>\n",
       "</div>"
      ],
      "text/plain": [
       "   index                       name platform  year_of_release         genre  \\\n",
       "0     16         grand theft auto v      ps3             2013        action   \n",
       "1     23         grand theft auto v     x360             2013        action   \n",
       "2     31  call of duty: black ops 3      ps4             2015       shooter   \n",
       "3     33        pokemon x/pokemon y      3ds             2013  role-playing   \n",
       "4     42         grand theft auto v      ps4             2014        action   \n",
       "\n",
       "   na_sales  eu_sales  jp_sales  other_sales  critic_score  user_score  \\\n",
       "0      7.02      9.09      0.98         3.96            97          82   \n",
       "1      9.66      5.14      0.06         1.41            97          81   \n",
       "2      6.03      5.86      0.36         2.38            -1         -10   \n",
       "3      5.28      4.19      4.35         0.78            -1         -10   \n",
       "4      3.96      6.31      0.38         1.97            97          83   \n",
       "\n",
       "          rating  total_sales  \n",
       "0              m        21.05  \n",
       "1              m        16.27  \n",
       "2  out of rating        14.63  \n",
       "3  out of rating        14.60  \n",
       "4              m        12.62  "
      ]
     },
     "execution_count": 28,
     "metadata": {},
     "output_type": "execute_result"
    }
   ],
   "source": [
    "# cловарь с платформами со найлучгими продажами\n",
    "dict_boxplot = lider_platform.reset_index()['platform'][0:5]\n",
    "dict_boxplot\n",
    "\n",
    "# cрез данных с перспектывними платформами с 2012 года до 2016\n",
    "perspective_platforms = actual_period.query('platform in @dict_boxplot').reset_index()\n",
    "perspective_platforms.head()"
   ]
  },
  {
   "cell_type": "markdown",
   "metadata": {},
   "source": [
    "**3.5.** Построем график «ящик с усами» по глобальным продажам игр в разбивке по платформам."
   ]
  },
  {
   "cell_type": "code",
   "execution_count": 29,
   "metadata": {},
   "outputs": [
    {
     "data": {
      "text/plain": [
       "(0.0, 2.0)"
      ]
     },
     "execution_count": 29,
     "metadata": {},
     "output_type": "execute_result"
    },
    {
     "data": {
      "image/png": "[encoded data removed]",
      "text/plain": [
       "<Figure size 1080x504 with 1 Axes>"
      ]
     },
     "metadata": {},
     "output_type": "display_data"
    }
   ],
   "source": [
    "perspective_platforms.boxplot(column=\"total_sales\", by=\"platform\", figsize = (15,7))\n",
    "plt.xlabel('Платформы')\n",
    "plt.ylabel('Продано копий')\n",
    "plt.ylim(0,2)"
   ]
  },
  {
   "cell_type": "markdown",
   "metadata": {},
   "source": [
    "**Вывод:** График свидетельствует о том что медианные значения у всех платформ отличаются не сильно, это говорит о высокой конкуренции среди популярных игровых консолей."
   ]
  },
  {
   "cell_type": "markdown",
   "metadata": {},
   "source": [
    "**3.6.** Посмотрим, как влияют на продажи внутри одной популярной платформы отзывы пользователей и критиков. Построем диаграмму рассеяния и посчитайте корреляцию между отзывами и продажами."
   ]
  },
  {
   "cell_type": "code",
   "execution_count": 30,
   "metadata": {},
   "outputs": [
    {
     "data": {
      "image/png": "[encoded data removed]",
      "text/plain": [
       "<Figure size 504x360 with 1 Axes>"
      ]
     },
     "metadata": {},
     "output_type": "display_data"
    }
   ],
   "source": [
    "# диаграмма рассеяния продаж от отзывов пользователей \n",
    "\n",
    "ps4_df = data.query('platform == \"ps4\" and critic_score>0 and user_score>0')\n",
    "\n",
    "sns.scatterplot(data=ps4_df, x='total_sales', y='critic_score', alpha=0.6)\n",
    "sns.scatterplot(data=ps4_df, x='total_sales', y='user_score', alpha=0.6)\n",
    "plt.xlabel('Продажи')\n",
    "plt.ylabel('Оценки')\n",
    "plt.legend(['Критики', 'Пользователи'])\n",
    "plt.show()"
   ]
  },
  {
   "cell_type": "markdown",
   "metadata": {},
   "source": [
    "Посмотрим кореляцию продаж от оценок пользователей и критиков"
   ]
  },
  {
   "cell_type": "code",
   "execution_count": 31,
   "metadata": {},
   "outputs": [
    {
     "data": {
      "text/html": [
       "<div>\n",
       "<style scoped>\n",
       "    .dataframe tbody tr th:only-of-type {\n",
       "        vertical-align: middle;\n",
       "    }\n",
       "\n",
       "    .dataframe tbody tr th {\n",
       "        vertical-align: top;\n",
       "    }\n",
       "\n",
       "    .dataframe thead th {\n",
       "        text-align: right;\n",
       "    }\n",
       "</style>\n",
       "<table border=\"1\" class=\"dataframe\">\n",
       "  <thead>\n",
       "    <tr style=\"text-align: right;\">\n",
       "      <th></th>\n",
       "      <th>user_score</th>\n",
       "      <th>critic_score</th>\n",
       "      <th>total_sales</th>\n",
       "    </tr>\n",
       "  </thead>\n",
       "  <tbody>\n",
       "    <tr>\n",
       "      <th>user_score</th>\n",
       "      <td>1.000000</td>\n",
       "      <td>0.557654</td>\n",
       "      <td>-0.033625</td>\n",
       "    </tr>\n",
       "    <tr>\n",
       "      <th>critic_score</th>\n",
       "      <td>0.557654</td>\n",
       "      <td>1.000000</td>\n",
       "      <td>0.405895</td>\n",
       "    </tr>\n",
       "    <tr>\n",
       "      <th>total_sales</th>\n",
       "      <td>-0.033625</td>\n",
       "      <td>0.405895</td>\n",
       "      <td>1.000000</td>\n",
       "    </tr>\n",
       "  </tbody>\n",
       "</table>\n",
       "</div>"
      ],
      "text/plain": [
       "              user_score  critic_score  total_sales\n",
       "user_score      1.000000      0.557654    -0.033625\n",
       "critic_score    0.557654      1.000000     0.405895\n",
       "total_sales    -0.033625      0.405895     1.000000"
      ]
     },
     "execution_count": 31,
     "metadata": {},
     "output_type": "execute_result"
    }
   ],
   "source": [
    "ps4_df[['user_score', 'critic_score', 'total_sales']].corr()"
   ]
  },
  {
   "cell_type": "code",
   "execution_count": 32,
   "metadata": {},
   "outputs": [
    {
     "data": {
      "image/png": "[encoded data removed]",
      "text/plain": [
       "<Figure size 504x360 with 1 Axes>"
      ]
     },
     "metadata": {},
     "output_type": "display_data"
    }
   ],
   "source": [
    "# диаграмма рассеяния продаж от отзывов пользователей \n",
    "\n",
    "xone = data.query('platform == \"xone\" and critic_score>0 and user_score>0')\n",
    "\n",
    "sns.scatterplot(data=xone, x='total_sales', y='critic_score', alpha=0.6)\n",
    "sns.scatterplot(data=xone, x='total_sales', y='user_score', alpha=0.6)\n",
    "plt.xlabel('Продажи')\n",
    "plt.ylabel('Оценки')\n",
    "plt.legend(['Критики', 'Пользователи'])\n",
    "plt.show()"
   ]
  },
  {
   "cell_type": "code",
   "execution_count": 33,
   "metadata": {},
   "outputs": [
    {
     "data": {
      "text/html": [
       "<div>\n",
       "<style scoped>\n",
       "    .dataframe tbody tr th:only-of-type {\n",
       "        vertical-align: middle;\n",
       "    }\n",
       "\n",
       "    .dataframe tbody tr th {\n",
       "        vertical-align: top;\n",
       "    }\n",
       "\n",
       "    .dataframe thead th {\n",
       "        text-align: right;\n",
       "    }\n",
       "</style>\n",
       "<table border=\"1\" class=\"dataframe\">\n",
       "  <thead>\n",
       "    <tr style=\"text-align: right;\">\n",
       "      <th></th>\n",
       "      <th>user_score</th>\n",
       "      <th>critic_score</th>\n",
       "      <th>total_sales</th>\n",
       "    </tr>\n",
       "  </thead>\n",
       "  <tbody>\n",
       "    <tr>\n",
       "      <th>user_score</th>\n",
       "      <td>1.000000</td>\n",
       "      <td>0.472462</td>\n",
       "      <td>-0.094003</td>\n",
       "    </tr>\n",
       "    <tr>\n",
       "      <th>critic_score</th>\n",
       "      <td>0.472462</td>\n",
       "      <td>1.000000</td>\n",
       "      <td>0.410422</td>\n",
       "    </tr>\n",
       "    <tr>\n",
       "      <th>total_sales</th>\n",
       "      <td>-0.094003</td>\n",
       "      <td>0.410422</td>\n",
       "      <td>1.000000</td>\n",
       "    </tr>\n",
       "  </tbody>\n",
       "</table>\n",
       "</div>"
      ],
      "text/plain": [
       "              user_score  critic_score  total_sales\n",
       "user_score      1.000000      0.472462    -0.094003\n",
       "critic_score    0.472462      1.000000     0.410422\n",
       "total_sales    -0.094003      0.410422     1.000000"
      ]
     },
     "execution_count": 33,
     "metadata": {},
     "output_type": "execute_result"
    }
   ],
   "source": [
    "xone[['user_score', 'critic_score', 'total_sales']].corr()"
   ]
  },
  {
   "cell_type": "markdown",
   "metadata": {},
   "source": [
    "**Вывод:** Пографику мы видим что чем выше оценки критиков и пользователей к игре тем выше колличество продаж. Самые продоваемые игры имеют оценку от 60 баллов и выше. Пользователи чаще ставят низкие оценки для игр так как они не предвзяты, в свою очередь критики чаще склонны ставить высокую оценку. Скорее всего это связанно с тем что критики не могут себе позволить ставить низкие оценки так как рецензия на игру это своего рода реклама а соответственно и продвижение игры на рынке. Видим что коэффициент корреляции между оценками пользователей и критиков меньше для хитовых игр."
   ]
  },
  {
   "cell_type": "markdown",
   "metadata": {},
   "source": [
    "**3.7.** Посмотрим на общее распределение игр по жанрам."
   ]
  },
  {
   "cell_type": "code",
   "execution_count": 34,
   "metadata": {},
   "outputs": [
    {
     "data": {
      "image/png": "[encoded data removed]",
      "text/plain": [
       "<Figure size 1080x595.44 with 1 Axes>"
      ]
     },
     "metadata": {},
     "output_type": "display_data"
    }
   ],
   "source": [
    "sns.set(rc={'figure.figsize':(15,8.27)})\n",
    "sns.boxplot(data=actual_period, x='genre', y='total_sales')\n",
    "plt.xlabel('Жанры')\n",
    "plt.ylabel('Продажи')\n",
    "plt.show()"
   ]
  },
  {
   "cell_type": "markdown",
   "metadata": {},
   "source": [
    "Главные суперхиты с продажами более 10 млн копий принадлежат жанрам экшн, рпг, шутер и гонки, и два в жанровые рамки не уложились. Посмотрим на картину без выбросов"
   ]
  },
  {
   "cell_type": "code",
   "execution_count": 35,
   "metadata": {},
   "outputs": [
    {
     "data": {
      "image/png": "[encoded data removed]",
      "text/plain": [
       "<Figure size 1080x595.44 with 1 Axes>"
      ]
     },
     "metadata": {},
     "output_type": "display_data"
    }
   ],
   "source": [
    "sns.boxplot(data=actual_period, x='genre', y='total_sales', showfliers=False)\n",
    "plt.xlabel('Жанры')\n",
    "plt.ylabel('Продажи')\n",
    "plt.show()"
   ]
  },
  {
   "cell_type": "markdown",
   "metadata": {},
   "source": [
    "**Вывод:** Шутеры выглядят надёжнее всего с точки зрения продаж - выше медианное значение достаточно часто \"выстреливают\" хитами, как показал график выше. Также стоит обратить внимание на платформеры, спортивные игры, гонки, ролевые игры, экшны и файтинги. Симуляторы, стратегии, головоломки и приключенческие игры (скорее всего сюда попали квесты) являются более нишевыми жанрами и не столь популярны."
   ]
  },
  {
   "cell_type": "markdown",
   "metadata": {},
   "source": [
    "# Шаг 4. Составим портрет пользователя каждого региона"
   ]
  },
  {
   "cell_type": "markdown",
   "metadata": {},
   "source": [
    "**4.1.** Самые популярные платформы (топ-5). "
   ]
  },
  {
   "cell_type": "code",
   "execution_count": 36,
   "metadata": {},
   "outputs": [
    {
     "data": {
      "text/html": [
       "<div>\n",
       "<style scoped>\n",
       "    .dataframe tbody tr th:only-of-type {\n",
       "        vertical-align: middle;\n",
       "    }\n",
       "\n",
       "    .dataframe tbody tr th {\n",
       "        vertical-align: top;\n",
       "    }\n",
       "\n",
       "    .dataframe thead th {\n",
       "        text-align: right;\n",
       "    }\n",
       "</style>\n",
       "<table border=\"1\" class=\"dataframe\">\n",
       "  <thead>\n",
       "    <tr style=\"text-align: right;\">\n",
       "      <th></th>\n",
       "      <th>eu_sales</th>\n",
       "      <th>jp_sales</th>\n",
       "      <th>na_sales</th>\n",
       "      <th>total_sales</th>\n",
       "    </tr>\n",
       "    <tr>\n",
       "      <th>platform</th>\n",
       "      <th></th>\n",
       "      <th></th>\n",
       "      <th></th>\n",
       "      <th></th>\n",
       "    </tr>\n",
       "  </thead>\n",
       "  <tbody>\n",
       "    <tr>\n",
       "      <th>3ds</th>\n",
       "      <td>30.96</td>\n",
       "      <td>67.81</td>\n",
       "      <td>38.20</td>\n",
       "      <td>143.25</td>\n",
       "    </tr>\n",
       "    <tr>\n",
       "      <th>ds</th>\n",
       "      <td>0.85</td>\n",
       "      <td>0.00</td>\n",
       "      <td>0.57</td>\n",
       "      <td>1.54</td>\n",
       "    </tr>\n",
       "    <tr>\n",
       "      <th>pc</th>\n",
       "      <td>25.36</td>\n",
       "      <td>0.00</td>\n",
       "      <td>11.11</td>\n",
       "      <td>39.43</td>\n",
       "    </tr>\n",
       "    <tr>\n",
       "      <th>ps3</th>\n",
       "      <td>67.81</td>\n",
       "      <td>23.35</td>\n",
       "      <td>63.50</td>\n",
       "      <td>181.43</td>\n",
       "    </tr>\n",
       "    <tr>\n",
       "      <th>ps4</th>\n",
       "      <td>141.09</td>\n",
       "      <td>15.96</td>\n",
       "      <td>108.74</td>\n",
       "      <td>314.14</td>\n",
       "    </tr>\n",
       "  </tbody>\n",
       "</table>\n",
       "</div>"
      ],
      "text/plain": [
       "          eu_sales  jp_sales  na_sales  total_sales\n",
       "platform                                           \n",
       "3ds          30.96     67.81     38.20       143.25\n",
       "ds            0.85      0.00      0.57         1.54\n",
       "pc           25.36      0.00     11.11        39.43\n",
       "ps3          67.81     23.35     63.50       181.43\n",
       "ps4         141.09     15.96    108.74       314.14"
      ]
     },
     "execution_count": 36,
     "metadata": {},
     "output_type": "execute_result"
    }
   ],
   "source": [
    "# построем свобную таблицу по платформам и продажам\n",
    "rating_region = actual_period.pivot_table(index='platform', values=['na_sales', 'eu_sales', 'jp_sales', 'total_sales'],\n",
    "                                          aggfunc='sum')\n",
    "rating_region.head()"
   ]
  },
  {
   "cell_type": "code",
   "execution_count": 37,
   "metadata": {},
   "outputs": [
    {
     "data": {
      "text/html": [
       "<div>\n",
       "<style scoped>\n",
       "    .dataframe tbody tr th:only-of-type {\n",
       "        vertical-align: middle;\n",
       "    }\n",
       "\n",
       "    .dataframe tbody tr th {\n",
       "        vertical-align: top;\n",
       "    }\n",
       "\n",
       "    .dataframe thead th {\n",
       "        text-align: right;\n",
       "    }\n",
       "</style>\n",
       "<table border=\"1\" class=\"dataframe\">\n",
       "  <thead>\n",
       "    <tr style=\"text-align: right;\">\n",
       "      <th></th>\n",
       "      <th>eu_sales</th>\n",
       "      <th>jp_sales</th>\n",
       "      <th>na_sales</th>\n",
       "      <th>total_sales</th>\n",
       "      <th>na_ratio</th>\n",
       "      <th>eu_ratio</th>\n",
       "      <th>jp_ratio</th>\n",
       "    </tr>\n",
       "    <tr>\n",
       "      <th>platform</th>\n",
       "      <th></th>\n",
       "      <th></th>\n",
       "      <th></th>\n",
       "      <th></th>\n",
       "      <th></th>\n",
       "      <th></th>\n",
       "      <th></th>\n",
       "    </tr>\n",
       "  </thead>\n",
       "  <tbody>\n",
       "    <tr>\n",
       "      <th>3ds</th>\n",
       "      <td>30.96</td>\n",
       "      <td>67.81</td>\n",
       "      <td>38.20</td>\n",
       "      <td>143.25</td>\n",
       "      <td>0.266667</td>\n",
       "      <td>0.216126</td>\n",
       "      <td>0.473368</td>\n",
       "    </tr>\n",
       "    <tr>\n",
       "      <th>ds</th>\n",
       "      <td>0.85</td>\n",
       "      <td>0.00</td>\n",
       "      <td>0.57</td>\n",
       "      <td>1.54</td>\n",
       "      <td>0.370130</td>\n",
       "      <td>0.551948</td>\n",
       "      <td>0.000000</td>\n",
       "    </tr>\n",
       "    <tr>\n",
       "      <th>pc</th>\n",
       "      <td>25.36</td>\n",
       "      <td>0.00</td>\n",
       "      <td>11.11</td>\n",
       "      <td>39.43</td>\n",
       "      <td>0.281765</td>\n",
       "      <td>0.643165</td>\n",
       "      <td>0.000000</td>\n",
       "    </tr>\n",
       "    <tr>\n",
       "      <th>ps3</th>\n",
       "      <td>67.81</td>\n",
       "      <td>23.35</td>\n",
       "      <td>63.50</td>\n",
       "      <td>181.43</td>\n",
       "      <td>0.349997</td>\n",
       "      <td>0.373753</td>\n",
       "      <td>0.128700</td>\n",
       "    </tr>\n",
       "    <tr>\n",
       "      <th>ps4</th>\n",
       "      <td>141.09</td>\n",
       "      <td>15.96</td>\n",
       "      <td>108.74</td>\n",
       "      <td>314.14</td>\n",
       "      <td>0.346151</td>\n",
       "      <td>0.449131</td>\n",
       "      <td>0.050805</td>\n",
       "    </tr>\n",
       "  </tbody>\n",
       "</table>\n",
       "</div>"
      ],
      "text/plain": [
       "          eu_sales  jp_sales  na_sales  total_sales  na_ratio  eu_ratio  \\\n",
       "platform                                                                  \n",
       "3ds          30.96     67.81     38.20       143.25  0.266667  0.216126   \n",
       "ds            0.85      0.00      0.57         1.54  0.370130  0.551948   \n",
       "pc           25.36      0.00     11.11        39.43  0.281765  0.643165   \n",
       "ps3          67.81     23.35     63.50       181.43  0.349997  0.373753   \n",
       "ps4         141.09     15.96    108.74       314.14  0.346151  0.449131   \n",
       "\n",
       "          jp_ratio  \n",
       "platform            \n",
       "3ds       0.473368  \n",
       "ds        0.000000  \n",
       "pc        0.000000  \n",
       "ps3       0.128700  \n",
       "ps4       0.050805  "
      ]
     },
     "execution_count": 37,
     "metadata": {},
     "output_type": "execute_result"
    }
   ],
   "source": [
    "# добавляем столбцы с долями продажи \n",
    "rating_region['na_ratio'] = rating_region.na_sales / rating_region.total_sales\n",
    "rating_region['eu_ratio'] = rating_region.eu_sales / rating_region.total_sales\n",
    "rating_region['jp_ratio'] = rating_region.jp_sales / rating_region.total_sales\n",
    "\n",
    "rating_region.head()"
   ]
  },
  {
   "cell_type": "code",
   "execution_count": 38,
   "metadata": {},
   "outputs": [
    {
     "data": {
      "text/html": [
       "<div>\n",
       "<style scoped>\n",
       "    .dataframe tbody tr th:only-of-type {\n",
       "        vertical-align: middle;\n",
       "    }\n",
       "\n",
       "    .dataframe tbody tr th {\n",
       "        vertical-align: top;\n",
       "    }\n",
       "\n",
       "    .dataframe thead th {\n",
       "        text-align: right;\n",
       "    }\n",
       "</style>\n",
       "<table border=\"1\" class=\"dataframe\">\n",
       "  <thead>\n",
       "    <tr style=\"text-align: right;\">\n",
       "      <th></th>\n",
       "      <th>eu_sales</th>\n",
       "      <th>eu_ratio</th>\n",
       "    </tr>\n",
       "    <tr>\n",
       "      <th>platform</th>\n",
       "      <th></th>\n",
       "      <th></th>\n",
       "    </tr>\n",
       "  </thead>\n",
       "  <tbody>\n",
       "    <tr>\n",
       "      <th>ps4</th>\n",
       "      <td>141.09</td>\n",
       "      <td>0.449131</td>\n",
       "    </tr>\n",
       "    <tr>\n",
       "      <th>ps3</th>\n",
       "      <td>67.81</td>\n",
       "      <td>0.373753</td>\n",
       "    </tr>\n",
       "    <tr>\n",
       "      <th>xone</th>\n",
       "      <td>51.59</td>\n",
       "      <td>0.323814</td>\n",
       "    </tr>\n",
       "    <tr>\n",
       "      <th>x360</th>\n",
       "      <td>42.52</td>\n",
       "      <td>0.310819</td>\n",
       "    </tr>\n",
       "    <tr>\n",
       "      <th>3ds</th>\n",
       "      <td>30.96</td>\n",
       "      <td>0.216126</td>\n",
       "    </tr>\n",
       "  </tbody>\n",
       "</table>\n",
       "</div>"
      ],
      "text/plain": [
       "          eu_sales  eu_ratio\n",
       "platform                    \n",
       "ps4         141.09  0.449131\n",
       "ps3          67.81  0.373753\n",
       "xone         51.59  0.323814\n",
       "x360         42.52  0.310819\n",
       "3ds          30.96  0.216126"
      ]
     },
     "metadata": {},
     "output_type": "display_data"
    },
    {
     "data": {
      "text/html": [
       "<div>\n",
       "<style scoped>\n",
       "    .dataframe tbody tr th:only-of-type {\n",
       "        vertical-align: middle;\n",
       "    }\n",
       "\n",
       "    .dataframe tbody tr th {\n",
       "        vertical-align: top;\n",
       "    }\n",
       "\n",
       "    .dataframe thead th {\n",
       "        text-align: right;\n",
       "    }\n",
       "</style>\n",
       "<table border=\"1\" class=\"dataframe\">\n",
       "  <thead>\n",
       "    <tr style=\"text-align: right;\">\n",
       "      <th></th>\n",
       "      <th>jp_sales</th>\n",
       "      <th>jp_ratio</th>\n",
       "    </tr>\n",
       "    <tr>\n",
       "      <th>platform</th>\n",
       "      <th></th>\n",
       "      <th></th>\n",
       "    </tr>\n",
       "  </thead>\n",
       "  <tbody>\n",
       "    <tr>\n",
       "      <th>3ds</th>\n",
       "      <td>67.81</td>\n",
       "      <td>0.473368</td>\n",
       "    </tr>\n",
       "    <tr>\n",
       "      <th>ps3</th>\n",
       "      <td>23.35</td>\n",
       "      <td>0.128700</td>\n",
       "    </tr>\n",
       "    <tr>\n",
       "      <th>psv</th>\n",
       "      <td>18.59</td>\n",
       "      <td>0.563504</td>\n",
       "    </tr>\n",
       "    <tr>\n",
       "      <th>ps4</th>\n",
       "      <td>15.96</td>\n",
       "      <td>0.050805</td>\n",
       "    </tr>\n",
       "    <tr>\n",
       "      <th>wiiu</th>\n",
       "      <td>10.88</td>\n",
       "      <td>0.168343</td>\n",
       "    </tr>\n",
       "  </tbody>\n",
       "</table>\n",
       "</div>"
      ],
      "text/plain": [
       "          jp_sales  jp_ratio\n",
       "platform                    \n",
       "3ds          67.81  0.473368\n",
       "ps3          23.35  0.128700\n",
       "psv          18.59  0.563504\n",
       "ps4          15.96  0.050805\n",
       "wiiu         10.88  0.168343"
      ]
     },
     "metadata": {},
     "output_type": "display_data"
    },
    {
     "data": {
      "text/html": [
       "<div>\n",
       "<style scoped>\n",
       "    .dataframe tbody tr th:only-of-type {\n",
       "        vertical-align: middle;\n",
       "    }\n",
       "\n",
       "    .dataframe tbody tr th {\n",
       "        vertical-align: top;\n",
       "    }\n",
       "\n",
       "    .dataframe thead th {\n",
       "        text-align: right;\n",
       "    }\n",
       "</style>\n",
       "<table border=\"1\" class=\"dataframe\">\n",
       "  <thead>\n",
       "    <tr style=\"text-align: right;\">\n",
       "      <th></th>\n",
       "      <th>na_sales</th>\n",
       "      <th>na_ratio</th>\n",
       "    </tr>\n",
       "    <tr>\n",
       "      <th>platform</th>\n",
       "      <th></th>\n",
       "      <th></th>\n",
       "    </tr>\n",
       "  </thead>\n",
       "  <tbody>\n",
       "    <tr>\n",
       "      <th>ps4</th>\n",
       "      <td>108.74</td>\n",
       "      <td>0.346151</td>\n",
       "    </tr>\n",
       "    <tr>\n",
       "      <th>xone</th>\n",
       "      <td>93.12</td>\n",
       "      <td>0.584484</td>\n",
       "    </tr>\n",
       "    <tr>\n",
       "      <th>x360</th>\n",
       "      <td>81.66</td>\n",
       "      <td>0.596930</td>\n",
       "    </tr>\n",
       "    <tr>\n",
       "      <th>ps3</th>\n",
       "      <td>63.50</td>\n",
       "      <td>0.349997</td>\n",
       "    </tr>\n",
       "    <tr>\n",
       "      <th>3ds</th>\n",
       "      <td>38.20</td>\n",
       "      <td>0.266667</td>\n",
       "    </tr>\n",
       "  </tbody>\n",
       "</table>\n",
       "</div>"
      ],
      "text/plain": [
       "          na_sales  na_ratio\n",
       "platform                    \n",
       "ps4         108.74  0.346151\n",
       "xone         93.12  0.584484\n",
       "x360         81.66  0.596930\n",
       "ps3          63.50  0.349997\n",
       "3ds          38.20  0.266667"
      ]
     },
     "metadata": {},
     "output_type": "display_data"
    }
   ],
   "source": [
    "# выводим топ 5 платформы по регионам\n",
    "rating_eu = rating_region[['eu_sales', 'eu_ratio']].sort_values(ascending = False,by = 'eu_sales').head()\n",
    "rating_jp = rating_region[['jp_sales', 'jp_ratio']].sort_values(ascending = False,by = 'jp_sales').head()\n",
    "rating_na = rating_region[['na_sales', 'na_ratio']].sort_values(ascending = False,by = 'na_sales').head()\n",
    "\n",
    "display(rating_eu)\n",
    "display(rating_jp)\n",
    "display(rating_na)"
   ]
  },
  {
   "cell_type": "markdown",
   "metadata": {},
   "source": [
    "**Вывод:** Из полученых результатов можно сделать вывод что регион Европа и Сверная Америка популяоными платформами являются PS2, PS3 X360 и Wii. Доля продаж в Северной Америке больше чем в Европе, то что говорит о масштабе рынка Северной Америки. В Японии совершено иная картина популярных платформ а их доля рынка меньше чем в другиз регионах."
   ]
  },
  {
   "cell_type": "markdown",
   "metadata": {},
   "source": [
    "**4.2.** Самые популярные жанры (топ-5)."
   ]
  },
  {
   "cell_type": "code",
   "execution_count": 39,
   "metadata": {},
   "outputs": [
    {
     "data": {
      "text/html": [
       "<div>\n",
       "<style scoped>\n",
       "    .dataframe tbody tr th:only-of-type {\n",
       "        vertical-align: middle;\n",
       "    }\n",
       "\n",
       "    .dataframe tbody tr th {\n",
       "        vertical-align: top;\n",
       "    }\n",
       "\n",
       "    .dataframe thead th {\n",
       "        text-align: right;\n",
       "    }\n",
       "</style>\n",
       "<table border=\"1\" class=\"dataframe\">\n",
       "  <thead>\n",
       "    <tr style=\"text-align: right;\">\n",
       "      <th></th>\n",
       "      <th>eu_sales</th>\n",
       "      <th>jp_sales</th>\n",
       "      <th>na_sales</th>\n",
       "    </tr>\n",
       "    <tr>\n",
       "      <th>genre</th>\n",
       "      <th></th>\n",
       "      <th></th>\n",
       "      <th></th>\n",
       "    </tr>\n",
       "  </thead>\n",
       "  <tbody>\n",
       "    <tr>\n",
       "      <th>action</th>\n",
       "      <td>118.13</td>\n",
       "      <td>40.49</td>\n",
       "      <td>126.05</td>\n",
       "    </tr>\n",
       "    <tr>\n",
       "      <th>adventure</th>\n",
       "      <td>8.25</td>\n",
       "      <td>5.82</td>\n",
       "      <td>7.14</td>\n",
       "    </tr>\n",
       "    <tr>\n",
       "      <th>fighting</th>\n",
       "      <td>8.55</td>\n",
       "      <td>7.65</td>\n",
       "      <td>15.55</td>\n",
       "    </tr>\n",
       "    <tr>\n",
       "      <th>misc</th>\n",
       "      <td>20.04</td>\n",
       "      <td>9.20</td>\n",
       "      <td>27.49</td>\n",
       "    </tr>\n",
       "    <tr>\n",
       "      <th>platform</th>\n",
       "      <td>15.58</td>\n",
       "      <td>4.79</td>\n",
       "      <td>18.14</td>\n",
       "    </tr>\n",
       "    <tr>\n",
       "      <th>puzzle</th>\n",
       "      <td>1.00</td>\n",
       "      <td>1.18</td>\n",
       "      <td>0.83</td>\n",
       "    </tr>\n",
       "    <tr>\n",
       "      <th>racing</th>\n",
       "      <td>20.19</td>\n",
       "      <td>2.30</td>\n",
       "      <td>12.96</td>\n",
       "    </tr>\n",
       "    <tr>\n",
       "      <th>role-playing</th>\n",
       "      <td>36.97</td>\n",
       "      <td>51.04</td>\n",
       "      <td>46.40</td>\n",
       "    </tr>\n",
       "    <tr>\n",
       "      <th>shooter</th>\n",
       "      <td>87.86</td>\n",
       "      <td>6.61</td>\n",
       "      <td>109.74</td>\n",
       "    </tr>\n",
       "    <tr>\n",
       "      <th>simulation</th>\n",
       "      <td>10.92</td>\n",
       "      <td>4.52</td>\n",
       "      <td>4.86</td>\n",
       "    </tr>\n",
       "    <tr>\n",
       "      <th>sports</th>\n",
       "      <td>60.52</td>\n",
       "      <td>5.41</td>\n",
       "      <td>65.27</td>\n",
       "    </tr>\n",
       "    <tr>\n",
       "      <th>strategy</th>\n",
       "      <td>4.22</td>\n",
       "      <td>1.77</td>\n",
       "      <td>3.28</td>\n",
       "    </tr>\n",
       "  </tbody>\n",
       "</table>\n",
       "</div>"
      ],
      "text/plain": [
       "              eu_sales  jp_sales  na_sales\n",
       "genre                                     \n",
       "action          118.13     40.49    126.05\n",
       "adventure         8.25      5.82      7.14\n",
       "fighting          8.55      7.65     15.55\n",
       "misc             20.04      9.20     27.49\n",
       "platform         15.58      4.79     18.14\n",
       "puzzle            1.00      1.18      0.83\n",
       "racing           20.19      2.30     12.96\n",
       "role-playing     36.97     51.04     46.40\n",
       "shooter          87.86      6.61    109.74\n",
       "simulation       10.92      4.52      4.86\n",
       "sports           60.52      5.41     65.27\n",
       "strategy          4.22      1.77      3.28"
      ]
     },
     "metadata": {},
     "output_type": "display_data"
    }
   ],
   "source": [
    "# cводная таблица по жанрам и и продажам.\n",
    "purchase_genres = actual_period.pivot_table(index='genre', values=['na_sales','eu_sales','jp_sales'], \n",
    "                                                        aggfunc=('sum'))\n",
    "display(purchase_genres)\n",
    "\n",
    "eu_sales_genre = purchase_genres[['eu_sales']].sort_values(ascending = False,by = 'eu_sales').head()\n",
    "jp_sales_genre = purchase_genres[['jp_sales']].sort_values(ascending = False,by = 'jp_sales').head()    \n",
    "na_sales_genre = purchase_genres[['na_sales']].sort_values(ascending = False,by = 'na_sales').head() "
   ]
  },
  {
   "cell_type": "code",
   "execution_count": 40,
   "metadata": {},
   "outputs": [
    {
     "data": {
      "text/html": [
       "<div>\n",
       "<style scoped>\n",
       "    .dataframe tbody tr th:only-of-type {\n",
       "        vertical-align: middle;\n",
       "    }\n",
       "\n",
       "    .dataframe tbody tr th {\n",
       "        vertical-align: top;\n",
       "    }\n",
       "\n",
       "    .dataframe thead th {\n",
       "        text-align: right;\n",
       "    }\n",
       "</style>\n",
       "<table border=\"1\" class=\"dataframe\">\n",
       "  <thead>\n",
       "    <tr style=\"text-align: right;\">\n",
       "      <th></th>\n",
       "      <th>genre</th>\n",
       "      <th>eu_sales</th>\n",
       "    </tr>\n",
       "  </thead>\n",
       "  <tbody>\n",
       "    <tr>\n",
       "      <th>0</th>\n",
       "      <td>action</td>\n",
       "      <td>118.13</td>\n",
       "    </tr>\n",
       "    <tr>\n",
       "      <th>8</th>\n",
       "      <td>shooter</td>\n",
       "      <td>87.86</td>\n",
       "    </tr>\n",
       "    <tr>\n",
       "      <th>10</th>\n",
       "      <td>sports</td>\n",
       "      <td>60.52</td>\n",
       "    </tr>\n",
       "    <tr>\n",
       "      <th>7</th>\n",
       "      <td>role-playing</td>\n",
       "      <td>36.97</td>\n",
       "    </tr>\n",
       "    <tr>\n",
       "      <th>6</th>\n",
       "      <td>racing</td>\n",
       "      <td>20.19</td>\n",
       "    </tr>\n",
       "  </tbody>\n",
       "</table>\n",
       "</div>"
      ],
      "text/plain": [
       "           genre  eu_sales\n",
       "0         action    118.13\n",
       "8        shooter     87.86\n",
       "10        sports     60.52\n",
       "7   role-playing     36.97\n",
       "6         racing     20.19"
      ]
     },
     "metadata": {},
     "output_type": "display_data"
    },
    {
     "data": {
      "text/html": [
       "<div>\n",
       "<style scoped>\n",
       "    .dataframe tbody tr th:only-of-type {\n",
       "        vertical-align: middle;\n",
       "    }\n",
       "\n",
       "    .dataframe tbody tr th {\n",
       "        vertical-align: top;\n",
       "    }\n",
       "\n",
       "    .dataframe thead th {\n",
       "        text-align: right;\n",
       "    }\n",
       "</style>\n",
       "<table border=\"1\" class=\"dataframe\">\n",
       "  <thead>\n",
       "    <tr style=\"text-align: right;\">\n",
       "      <th></th>\n",
       "      <th>genre</th>\n",
       "      <th>jp_sales</th>\n",
       "    </tr>\n",
       "  </thead>\n",
       "  <tbody>\n",
       "    <tr>\n",
       "      <th>7</th>\n",
       "      <td>role-playing</td>\n",
       "      <td>51.04</td>\n",
       "    </tr>\n",
       "    <tr>\n",
       "      <th>0</th>\n",
       "      <td>action</td>\n",
       "      <td>40.49</td>\n",
       "    </tr>\n",
       "    <tr>\n",
       "      <th>3</th>\n",
       "      <td>misc</td>\n",
       "      <td>9.20</td>\n",
       "    </tr>\n",
       "    <tr>\n",
       "      <th>2</th>\n",
       "      <td>fighting</td>\n",
       "      <td>7.65</td>\n",
       "    </tr>\n",
       "    <tr>\n",
       "      <th>8</th>\n",
       "      <td>shooter</td>\n",
       "      <td>6.61</td>\n",
       "    </tr>\n",
       "  </tbody>\n",
       "</table>\n",
       "</div>"
      ],
      "text/plain": [
       "          genre  jp_sales\n",
       "7  role-playing     51.04\n",
       "0        action     40.49\n",
       "3          misc      9.20\n",
       "2      fighting      7.65\n",
       "8       shooter      6.61"
      ]
     },
     "metadata": {},
     "output_type": "display_data"
    },
    {
     "data": {
      "text/html": [
       "<div>\n",
       "<style scoped>\n",
       "    .dataframe tbody tr th:only-of-type {\n",
       "        vertical-align: middle;\n",
       "    }\n",
       "\n",
       "    .dataframe tbody tr th {\n",
       "        vertical-align: top;\n",
       "    }\n",
       "\n",
       "    .dataframe thead th {\n",
       "        text-align: right;\n",
       "    }\n",
       "</style>\n",
       "<table border=\"1\" class=\"dataframe\">\n",
       "  <thead>\n",
       "    <tr style=\"text-align: right;\">\n",
       "      <th></th>\n",
       "      <th>genre</th>\n",
       "      <th>na_sales</th>\n",
       "    </tr>\n",
       "  </thead>\n",
       "  <tbody>\n",
       "    <tr>\n",
       "      <th>0</th>\n",
       "      <td>action</td>\n",
       "      <td>126.05</td>\n",
       "    </tr>\n",
       "    <tr>\n",
       "      <th>8</th>\n",
       "      <td>shooter</td>\n",
       "      <td>109.74</td>\n",
       "    </tr>\n",
       "    <tr>\n",
       "      <th>10</th>\n",
       "      <td>sports</td>\n",
       "      <td>65.27</td>\n",
       "    </tr>\n",
       "    <tr>\n",
       "      <th>7</th>\n",
       "      <td>role-playing</td>\n",
       "      <td>46.40</td>\n",
       "    </tr>\n",
       "    <tr>\n",
       "      <th>3</th>\n",
       "      <td>misc</td>\n",
       "      <td>27.49</td>\n",
       "    </tr>\n",
       "  </tbody>\n",
       "</table>\n",
       "</div>"
      ],
      "text/plain": [
       "           genre  na_sales\n",
       "0         action    126.05\n",
       "8        shooter    109.74\n",
       "10        sports     65.27\n",
       "7   role-playing     46.40\n",
       "3           misc     27.49"
      ]
     },
     "metadata": {},
     "output_type": "display_data"
    }
   ],
   "source": [
    "# выведим топ 5 по регионам.\n",
    "for i in purchase_genres:\n",
    "    subset = purchase_genres.reset_index()[['genre', i]].sort_values(by=i, ascending=False).head()\n",
    "    display(subset)"
   ]
  },
  {
   "cell_type": "code",
   "execution_count": 41,
   "metadata": {},
   "outputs": [
    {
     "data": {
      "image/png": "[encoded data removed]",
      "text/plain": [
       "<Figure size 1440x504 with 3 Axes>"
      ]
     },
     "metadata": {},
     "output_type": "display_data"
    }
   ],
   "source": [
    "# Визуализируем распределение популярных жанров pie.\n",
    "fig = plt.figure(figsize=(20,7))\n",
    "fig.suptitle('Топ популярных жанров по регионам', fontsize=20, y=1.02)\n",
    "ax1 = plt.subplot(131)\n",
    "\n",
    "# построим quantile-quantile plots методом probplot() из библиотеки stats для обеих выборок\n",
    "plt.pie(na_sales_genre['na_sales'], labels=na_sales_genre.index)\n",
    "ax1.set_title('Северная Америка', fontsize=15)\n",
    "\n",
    "ax2 = plt.subplot(132)\n",
    "plt.pie(eu_sales_genre['eu_sales'], labels=eu_sales_genre.index)\n",
    "ax2.set_title('Европа', fontsize=15)\n",
    "\n",
    "ax3 = plt.subplot(133)\n",
    "plt.pie(jp_sales_genre['jp_sales'], labels=jp_sales_genre.index)\n",
    "ax3.set_title('Япония', fontsize=15)\n",
    "plt.show()"
   ]
  },
  {
   "cell_type": "markdown",
   "metadata": {},
   "source": [
    "**Вывод:** В регион Северной Америки и Европы популярные жанры одинаковый. В регион Япония входят другой жанр как Fighting , и порядок популярности другой, а именно жанр Role Playing занимает первое место."
   ]
  },
  {
   "cell_type": "markdown",
   "metadata": {},
   "source": [
    "**4.3.** Влияет ли рейтинг ESRB на продажи в отдельном регионе?"
   ]
  },
  {
   "cell_type": "code",
   "execution_count": 42,
   "metadata": {},
   "outputs": [
    {
     "name": "stderr",
     "output_type": "stream",
     "text": [
      "/tmp/ipykernel_48/2646270523.py:1: FutureWarning: Indexing with multiple keys (implicitly converted to a tuple of keys) will be deprecated, use a list instead.\n",
      "  ersb = actual_period.groupby('rating')['eu_sales', 'jp_sales', 'na_sales', 'total_sales'].sum()\n"
     ]
    },
    {
     "data": {
      "text/html": [
       "<div>\n",
       "<style scoped>\n",
       "    .dataframe tbody tr th:only-of-type {\n",
       "        vertical-align: middle;\n",
       "    }\n",
       "\n",
       "    .dataframe tbody tr th {\n",
       "        vertical-align: top;\n",
       "    }\n",
       "\n",
       "    .dataframe thead th {\n",
       "        text-align: right;\n",
       "    }\n",
       "</style>\n",
       "<table border=\"1\" class=\"dataframe\">\n",
       "  <thead>\n",
       "    <tr style=\"text-align: right;\">\n",
       "      <th></th>\n",
       "      <th>eu_sales</th>\n",
       "      <th>jp_sales</th>\n",
       "      <th>na_sales</th>\n",
       "      <th>total_sales</th>\n",
       "    </tr>\n",
       "    <tr>\n",
       "      <th>rating</th>\n",
       "      <th></th>\n",
       "      <th></th>\n",
       "      <th></th>\n",
       "      <th></th>\n",
       "    </tr>\n",
       "  </thead>\n",
       "  <tbody>\n",
       "    <tr>\n",
       "      <th>e</th>\n",
       "      <td>83.36</td>\n",
       "      <td>15.14</td>\n",
       "      <td>79.05</td>\n",
       "      <td>200.16</td>\n",
       "    </tr>\n",
       "    <tr>\n",
       "      <th>e10+</th>\n",
       "      <td>42.69</td>\n",
       "      <td>5.89</td>\n",
       "      <td>54.24</td>\n",
       "      <td>115.39</td>\n",
       "    </tr>\n",
       "    <tr>\n",
       "      <th>m</th>\n",
       "      <td>145.32</td>\n",
       "      <td>14.11</td>\n",
       "      <td>165.21</td>\n",
       "      <td>371.68</td>\n",
       "    </tr>\n",
       "    <tr>\n",
       "      <th>out of rating</th>\n",
       "      <td>78.91</td>\n",
       "      <td>85.05</td>\n",
       "      <td>89.42</td>\n",
       "      <td>276.84</td>\n",
       "    </tr>\n",
       "    <tr>\n",
       "      <th>t</th>\n",
       "      <td>41.95</td>\n",
       "      <td>20.59</td>\n",
       "      <td>49.79</td>\n",
       "      <td>126.62</td>\n",
       "    </tr>\n",
       "  </tbody>\n",
       "</table>\n",
       "</div>"
      ],
      "text/plain": [
       "               eu_sales  jp_sales  na_sales  total_sales\n",
       "rating                                                  \n",
       "e                 83.36     15.14     79.05       200.16\n",
       "e10+              42.69      5.89     54.24       115.39\n",
       "m                145.32     14.11    165.21       371.68\n",
       "out of rating     78.91     85.05     89.42       276.84\n",
       "t                 41.95     20.59     49.79       126.62"
      ]
     },
     "metadata": {},
     "output_type": "display_data"
    }
   ],
   "source": [
    "ersb = actual_period.groupby('rating')['eu_sales', 'jp_sales', 'na_sales', 'total_sales'].sum()\n",
    "display(ersb)"
   ]
  },
  {
   "cell_type": "markdown",
   "metadata": {},
   "source": [
    "**Вывод:** рейтинг ESRB влияет на продажи, наиболее предпочтительный рейтинг для прогноза на 2017 год 'M', общие продажи с этим рейтингом доминируют в европейском и северо-американском регионах. Японский рынок меньше по сравнению с европейским и американским и довольно специфический; при работе на нём нужно выстраивать отдельную стратегию."
   ]
  },
  {
   "cell_type": "markdown",
   "metadata": {},
   "source": [
    "# Шаг 5. Проверка гипотез."
   ]
  },
  {
   "cell_type": "markdown",
   "metadata": {},
   "source": [
    "**5.1.** Гипотиза 1. средние пользовательские рейтинги платформ Xbox One и PC одинаковые\n",
    "\n",
    "Нулевая гипотеза H0 должна предполагать равенство между выборками, соответственно гипотеза H1 должна говорить об обратном\n",
    "\n",
    "Нулевая гипотеза: средние пользовательские рейтинги равны для PC и XBox One\n",
    "Альтернативная: средние пользовательские рейтинги для данных платформ не равны"
   ]
  },
  {
   "cell_type": "code",
   "execution_count": 43,
   "metadata": {},
   "outputs": [
    {
     "data": {
      "text/plain": [
       "Ttest_indResult(statistic=1.4788255981357248, pvalue=0.14012658403611722)"
      ]
     },
     "execution_count": 43,
     "metadata": {},
     "output_type": "execute_result"
    }
   ],
   "source": [
    "xone_score = actual_period.query('platform == \"xone\" and user_score > 0')['user_score']\n",
    "pc_score = actual_period.query('platform == \"pc\" and user_score > 0')['user_score']\n",
    "\n",
    "st.ttest_ind(xone_score, pc_score, equal_var = True)"
   ]
  },
  {
   "cell_type": "code",
   "execution_count": 44,
   "metadata": {},
   "outputs": [
    {
     "name": "stdout",
     "output_type": "stream",
     "text": [
      "p-значение: 0.14012658403611722\n",
      "Не получилось отвергнуть нулевую гипотезу\n"
     ]
    }
   ],
   "source": [
    "xone_score = actual_period.query('platform == \"xone\" and user_score > 0')['user_score']\n",
    "pc_score = actual_period.query('platform == \"pc\" and user_score > 0')['user_score']\n",
    "\n",
    "alpha = 0.05\n",
    "\n",
    "# Проверим гипотезу о равенстве средних двух независимых совокупностей\n",
    "results_1 = st.ttest_ind(\n",
    "    xone_score, \n",
    "    pc_score, equal_var = True)\n",
    "\n",
    "# выведим на экран получившееся p-значени\n",
    "print('p-значение:', results_1.pvalue)\n",
    "\n",
    "#  сравнение  получившееся p-значение с заданным уровнем статистической значимости):\n",
    "if (results_1.pvalue < alpha):\n",
    "    print(\"Отвергаем нулевую гипотезу\")\n",
    "else:\n",
    "    print(\"Не получилось отвергнуть нулевую гипотезу\")"
   ]
  },
  {
   "cell_type": "markdown",
   "metadata": {},
   "source": [
    "**Вывод:** Средние пользовательские рейтинги платформ Xbox One и PC одинаковые - гипотеза проверяна"
   ]
  },
  {
   "cell_type": "markdown",
   "metadata": {},
   "source": [
    "**5.2.** Гипотиза 2. Средние пользовательские рейтинги жанров Action (англ. «действие», экшен-игры) и Sports (англ. «спортивные соревнования») разные."
   ]
  },
  {
   "cell_type": "markdown",
   "metadata": {},
   "source": [
    "Нулевая H0 гипотеза буедт такой: средние пользовательские оценки для жанров Action и Sports равны\n",
    "\n",
    "\n",
    "H1 гипотеза - средние пользовательские оценки для жанров Action и Sports не равны."
   ]
  },
  {
   "cell_type": "code",
   "execution_count": 45,
   "metadata": {},
   "outputs": [
    {
     "name": "stdout",
     "output_type": "stream",
     "text": [
      "p-значение: 1.0517832389140778e-27\n",
      "Отвергаем нулевую гипотезу\n"
     ]
    }
   ],
   "source": [
    "action_score = actual_period.query('genre == \"action\" and user_score > 0')['user_score']\n",
    "sports_score = actual_period.query('genre == \"sports\" and user_score > 0')['user_score']\n",
    "\n",
    "alpha = 0.05\n",
    "\n",
    "# Проверим гипотезу о равенстве средних двух независимых совокупностей\n",
    "results_1 = st.ttest_ind(\n",
    "    action_score, \n",
    "    sports_score\n",
    ")\n",
    "\n",
    "# выведим на экран получившееся p-значени\n",
    "print('p-значение:', results_1.pvalue)\n",
    "\n",
    "#  сравнение  получившееся p-значение с заданным уровнем статистической значимости):\n",
    "if (results_1.pvalue < alpha):\n",
    "    print(\"Отвергаем нулевую гипотезу\")\n",
    "else:\n",
    "    print(\"Не получилось отвергнуть нулевую гипотезу\")"
   ]
  },
  {
   "cell_type": "markdown",
   "metadata": {},
   "source": [
    "**Вывод:** Отвергаем нулевую гипотезу поскольку с вероятностью 1,31 что средные значения одинаковые. То есть она очень близко к нулю."
   ]
  },
  {
   "cell_type": "markdown",
   "metadata": {},
   "source": [
    "# Шаг 6. Общий вывод"
   ]
  },
  {
   "cell_type": "markdown",
   "metadata": {},
   "source": [
    "* Открыл файл CSV сохранил его в пременную data и вывел на экран, данные соответствовали названию. \n",
    "* В предобработке обнаружил что не все столбцы соответствовали своим типам даннах, изменил их тип и по возможности устранил пропуски там где это было возможно.\n",
    "* Проводя иследовательский анализ данных заметил что начиная с 1994 года в игровой индустрии начался бурный рост. Бурный всплеск закончился в 2012 году, связанно это с несколькими факторами: рост числа конкурентов на рынке, повышенное требование к качеству конечного продукта и рост популярности смартфонов как игровой платформы. Выяснил что жизненый цикл каждой платформы составляет около 10 лет.\n",
    "* На актуальный момент времени (2016) год я выяснил что наиболее популярной консолью является xone, ps4 и 3ds для японского рынка, а актуальными жанрами являются action и shooter.\n",
    "* Поведения потребления отличается между пользователей Японии и пользователей Северной аиерики и Европы.Это касается предпочитения по платформам и по жнрам . Так же райтинг ESBS не сушествено влияет на продажи.\n",
    "* Отзывы от пользователей ни имеют корреляцю с продажами. Но отзывы оот критикрв имеют коэффициент корелляци около 0,40 то что означает что их вдияние на продажи присутсвует.\n",
    "* Выдвинулось гипотезы о том что средние пользовательские рейтинги платформ Xbox One и PC одинаковыею После статестической проверки не получилочт отвергать эту гипотезу.\n",
    "* Вторая гипотеза о том, что средние пользовательские рейтинги жанров Action (англ. «действие») и Sports (англ. «виды спорта») разные. Мы получили что эти значения могут быть одинаковые, то есть с вероятностью очень близко к нулию, что позволяет сказать что предложеная гипотеза разное.\n",
    "\n",
    "Я бы рекомендовал интернет магазину в 2017 году сделать ставку на игры в жанре шутер и экшен с большим жизненным циклом и получением издателем выручки напрямую от игрока при помощи донатов, на современном рынке такие игры имеют наибольшую популярность. Особое внимание следует уделить играм жанров: Shooter, Action, Sports, Roleplaying а так же внежанровых-misc.\n",
    "Рынок Японии стоит особняком - там лидируют портативные консоли, в частности 3ds, и пользователи предпочитают Roleplaying игры"
   ]
  }
 ],
 "metadata": {
  "ExecuteTimeLog": [
   {
    "duration": 515,
    "start_time": "2022-06-19T07:20:25.104Z"
   },
   {
    "duration": 135,
    "start_time": "2022-06-19T07:21:05.458Z"
   },
   {
    "duration": 3,
    "start_time": "2022-06-19T07:21:12.168Z"
   },
   {
    "duration": 4,
    "start_time": "2022-06-19T07:21:13.773Z"
   },
   {
    "duration": 77,
    "start_time": "2022-06-19T07:29:30.341Z"
   },
   {
    "duration": 104,
    "start_time": "2022-06-19T07:34:41.573Z"
   },
   {
    "duration": 113,
    "start_time": "2022-06-19T07:35:18.206Z"
   },
   {
    "duration": 6,
    "start_time": "2022-06-19T07:46:45.265Z"
   },
   {
    "duration": 4,
    "start_time": "2022-06-19T08:41:51.037Z"
   },
   {
    "duration": 5,
    "start_time": "2022-06-19T08:42:17.189Z"
   },
   {
    "duration": 33,
    "start_time": "2022-06-19T08:47:37.889Z"
   },
   {
    "duration": 5,
    "start_time": "2022-06-19T08:48:09.326Z"
   },
   {
    "duration": 109,
    "start_time": "2022-06-19T08:57:23.657Z"
   },
   {
    "duration": 84,
    "start_time": "2022-06-19T08:58:36.053Z"
   },
   {
    "duration": 108,
    "start_time": "2022-06-19T08:58:51.257Z"
   },
   {
    "duration": 105,
    "start_time": "2022-06-19T08:58:58.656Z"
   },
   {
    "duration": 91,
    "start_time": "2022-06-19T08:59:09.375Z"
   },
   {
    "duration": 91,
    "start_time": "2022-06-19T08:59:40.869Z"
   },
   {
    "duration": 93,
    "start_time": "2022-06-19T08:59:46.201Z"
   },
   {
    "duration": 85,
    "start_time": "2022-06-19T09:00:03.951Z"
   },
   {
    "duration": 426,
    "start_time": "2022-06-19T09:01:55.147Z"
   },
   {
    "duration": 3,
    "start_time": "2022-06-19T09:02:22.389Z"
   },
   {
    "duration": 6,
    "start_time": "2022-06-19T09:02:34.511Z"
   },
   {
    "duration": 9,
    "start_time": "2022-06-19T09:04:43.103Z"
   },
   {
    "duration": 26,
    "start_time": "2022-06-19T09:05:01.119Z"
   },
   {
    "duration": 39,
    "start_time": "2022-06-19T09:31:26.455Z"
   },
   {
    "duration": 3,
    "start_time": "2022-06-19T09:31:34.270Z"
   },
   {
    "duration": 96,
    "start_time": "2022-06-19T09:31:34.276Z"
   },
   {
    "duration": 5,
    "start_time": "2022-06-19T09:31:34.374Z"
   },
   {
    "duration": 15,
    "start_time": "2022-06-19T09:31:34.382Z"
   },
   {
    "duration": 67,
    "start_time": "2022-06-19T09:31:34.399Z"
   },
   {
    "duration": 18,
    "start_time": "2022-06-19T09:32:02.065Z"
   },
   {
    "duration": 2,
    "start_time": "2022-06-19T09:32:12.983Z"
   },
   {
    "duration": 95,
    "start_time": "2022-06-19T09:32:12.987Z"
   },
   {
    "duration": 4,
    "start_time": "2022-06-19T09:32:13.084Z"
   },
   {
    "duration": 10,
    "start_time": "2022-06-19T09:32:13.089Z"
   },
   {
    "duration": 46,
    "start_time": "2022-06-19T09:32:13.101Z"
   },
   {
    "duration": 132,
    "start_time": "2022-06-19T09:36:50.051Z"
   },
   {
    "duration": 7,
    "start_time": "2022-06-19T09:36:56.730Z"
   },
   {
    "duration": 119,
    "start_time": "2022-06-19T09:36:56.739Z"
   },
   {
    "duration": 5,
    "start_time": "2022-06-19T09:36:56.860Z"
   },
   {
    "duration": 9,
    "start_time": "2022-06-19T09:36:56.867Z"
   },
   {
    "duration": 796,
    "start_time": "2022-06-19T09:36:56.877Z"
   },
   {
    "duration": 109,
    "start_time": "2022-06-19T09:37:55.061Z"
   },
   {
    "duration": 3,
    "start_time": "2022-06-19T09:38:00.978Z"
   },
   {
    "duration": 110,
    "start_time": "2022-06-19T09:38:00.982Z"
   },
   {
    "duration": 4,
    "start_time": "2022-06-19T09:38:01.094Z"
   },
   {
    "duration": 35,
    "start_time": "2022-06-19T09:38:01.099Z"
   },
   {
    "duration": 875,
    "start_time": "2022-06-19T09:38:01.136Z"
   },
   {
    "duration": 107,
    "start_time": "2022-06-19T09:39:57.817Z"
   },
   {
    "duration": 3,
    "start_time": "2022-06-19T09:40:14.085Z"
   },
   {
    "duration": 97,
    "start_time": "2022-06-19T09:40:14.090Z"
   },
   {
    "duration": 4,
    "start_time": "2022-06-19T09:40:14.189Z"
   },
   {
    "duration": 7,
    "start_time": "2022-06-19T09:40:14.195Z"
   },
   {
    "duration": 764,
    "start_time": "2022-06-19T09:40:14.204Z"
   },
   {
    "duration": 148,
    "start_time": "2022-06-19T09:40:34.932Z"
   },
   {
    "duration": 3,
    "start_time": "2022-06-19T09:40:39.212Z"
   },
   {
    "duration": 121,
    "start_time": "2022-06-19T09:40:39.216Z"
   },
   {
    "duration": 6,
    "start_time": "2022-06-19T09:40:39.339Z"
   },
   {
    "duration": 20,
    "start_time": "2022-06-19T09:40:39.347Z"
   },
   {
    "duration": 43,
    "start_time": "2022-06-19T09:40:39.369Z"
   },
   {
    "duration": 471,
    "start_time": "2022-06-19T09:43:26.453Z"
   },
   {
    "duration": 4,
    "start_time": "2022-06-19T09:43:39.699Z"
   },
   {
    "duration": 98,
    "start_time": "2022-06-19T09:43:39.704Z"
   },
   {
    "duration": 3,
    "start_time": "2022-06-19T09:43:39.803Z"
   },
   {
    "duration": 7,
    "start_time": "2022-06-19T09:43:39.808Z"
   },
   {
    "duration": 41,
    "start_time": "2022-06-19T09:43:39.816Z"
   },
   {
    "duration": 368,
    "start_time": "2022-06-19T09:43:54.312Z"
   },
   {
    "duration": 3,
    "start_time": "2022-06-19T09:43:58.560Z"
   },
   {
    "duration": 102,
    "start_time": "2022-06-19T09:43:58.564Z"
   },
   {
    "duration": 4,
    "start_time": "2022-06-19T09:43:58.667Z"
   },
   {
    "duration": 9,
    "start_time": "2022-06-19T09:43:58.673Z"
   },
   {
    "duration": 28,
    "start_time": "2022-06-19T09:43:58.683Z"
   },
   {
    "duration": 369,
    "start_time": "2022-06-19T09:44:09.777Z"
   },
   {
    "duration": 4,
    "start_time": "2022-06-19T09:44:13.548Z"
   },
   {
    "duration": 93,
    "start_time": "2022-06-19T09:44:13.554Z"
   },
   {
    "duration": 6,
    "start_time": "2022-06-19T09:44:13.649Z"
   },
   {
    "duration": 20,
    "start_time": "2022-06-19T09:44:13.657Z"
   },
   {
    "duration": 36,
    "start_time": "2022-06-19T09:44:13.679Z"
   },
   {
    "duration": 431,
    "start_time": "2022-06-19T09:44:32.326Z"
   },
   {
    "duration": 3,
    "start_time": "2022-06-19T09:44:35.713Z"
   },
   {
    "duration": 99,
    "start_time": "2022-06-19T09:44:35.718Z"
   },
   {
    "duration": 4,
    "start_time": "2022-06-19T09:44:35.819Z"
   },
   {
    "duration": 33,
    "start_time": "2022-06-19T09:44:35.824Z"
   },
   {
    "duration": 42,
    "start_time": "2022-06-19T09:44:35.859Z"
   },
   {
    "duration": 314,
    "start_time": "2022-06-19T09:45:21.850Z"
   },
   {
    "duration": 2,
    "start_time": "2022-06-19T09:45:24.984Z"
   },
   {
    "duration": 92,
    "start_time": "2022-06-19T09:45:24.988Z"
   },
   {
    "duration": 4,
    "start_time": "2022-06-19T09:45:25.082Z"
   },
   {
    "duration": 6,
    "start_time": "2022-06-19T09:45:25.087Z"
   },
   {
    "duration": 58,
    "start_time": "2022-06-19T09:45:25.094Z"
   },
   {
    "duration": 3,
    "start_time": "2022-06-19T09:45:37.094Z"
   },
   {
    "duration": 95,
    "start_time": "2022-06-19T09:45:37.100Z"
   },
   {
    "duration": 4,
    "start_time": "2022-06-19T09:45:37.197Z"
   },
   {
    "duration": 6,
    "start_time": "2022-06-19T09:45:37.203Z"
   },
   {
    "duration": 61,
    "start_time": "2022-06-19T09:45:37.211Z"
   },
   {
    "duration": 311,
    "start_time": "2022-06-19T09:46:07.220Z"
   },
   {
    "duration": 3,
    "start_time": "2022-06-19T09:46:10.585Z"
   },
   {
    "duration": 113,
    "start_time": "2022-06-19T09:46:10.590Z"
   },
   {
    "duration": 4,
    "start_time": "2022-06-19T09:46:10.704Z"
   },
   {
    "duration": 6,
    "start_time": "2022-06-19T09:46:10.710Z"
   },
   {
    "duration": 48,
    "start_time": "2022-06-19T09:46:10.717Z"
   },
   {
    "duration": 3,
    "start_time": "2022-06-19T09:46:52.169Z"
   },
   {
    "duration": 110,
    "start_time": "2022-06-19T09:46:52.173Z"
   },
   {
    "duration": 5,
    "start_time": "2022-06-19T09:46:52.284Z"
   },
   {
    "duration": 12,
    "start_time": "2022-06-19T09:46:52.291Z"
   },
   {
    "duration": 50,
    "start_time": "2022-06-19T09:46:52.305Z"
   },
   {
    "duration": 29,
    "start_time": "2022-06-19T10:21:11.922Z"
   },
   {
    "duration": 22,
    "start_time": "2022-06-19T10:23:30.199Z"
   },
   {
    "duration": 3,
    "start_time": "2022-06-19T10:23:37.515Z"
   },
   {
    "duration": 123,
    "start_time": "2022-06-19T10:23:37.520Z"
   },
   {
    "duration": 10,
    "start_time": "2022-06-19T10:23:37.648Z"
   },
   {
    "duration": 6,
    "start_time": "2022-06-19T10:23:37.661Z"
   },
   {
    "duration": 47,
    "start_time": "2022-06-19T10:23:37.669Z"
   },
   {
    "duration": 40,
    "start_time": "2022-06-19T10:23:37.717Z"
   },
   {
    "duration": 20,
    "start_time": "2022-06-19T10:23:37.759Z"
   },
   {
    "duration": 20,
    "start_time": "2022-06-19T10:24:35.717Z"
   },
   {
    "duration": 13,
    "start_time": "2022-06-19T10:26:17.035Z"
   },
   {
    "duration": 10,
    "start_time": "2022-06-19T10:26:29.915Z"
   },
   {
    "duration": 16,
    "start_time": "2022-06-19T10:29:29.401Z"
   },
   {
    "duration": 17,
    "start_time": "2022-06-19T10:29:59.725Z"
   },
   {
    "duration": 9,
    "start_time": "2022-06-19T11:36:37.464Z"
   },
   {
    "duration": 6,
    "start_time": "2022-06-19T11:36:53.920Z"
   },
   {
    "duration": 8,
    "start_time": "2022-06-19T11:37:07.191Z"
   },
   {
    "duration": 6,
    "start_time": "2022-06-19T11:37:23.748Z"
   },
   {
    "duration": 6,
    "start_time": "2022-06-19T11:37:33.566Z"
   },
   {
    "duration": 6,
    "start_time": "2022-06-19T11:38:16.678Z"
   },
   {
    "duration": 12,
    "start_time": "2022-06-19T11:44:54.139Z"
   },
   {
    "duration": 12,
    "start_time": "2022-06-19T11:46:34.795Z"
   },
   {
    "duration": 22,
    "start_time": "2022-06-19T11:47:05.383Z"
   },
   {
    "duration": 934,
    "start_time": "2022-06-19T11:51:08.505Z"
   },
   {
    "duration": 13,
    "start_time": "2022-06-19T12:02:36.357Z"
   },
   {
    "duration": 166,
    "start_time": "2022-06-19T12:07:12.009Z"
   },
   {
    "duration": 163,
    "start_time": "2022-06-19T12:11:20.550Z"
   },
   {
    "duration": 210,
    "start_time": "2022-06-19T12:13:11.641Z"
   },
   {
    "duration": 166,
    "start_time": "2022-06-19T12:13:38.289Z"
   },
   {
    "duration": 174,
    "start_time": "2022-06-19T12:14:02.093Z"
   },
   {
    "duration": 188,
    "start_time": "2022-06-19T12:14:08.317Z"
   },
   {
    "duration": 484,
    "start_time": "2022-06-19T12:21:18.768Z"
   },
   {
    "duration": 433,
    "start_time": "2022-06-19T12:22:11.497Z"
   },
   {
    "duration": 324,
    "start_time": "2022-06-19T12:33:18.996Z"
   },
   {
    "duration": 344,
    "start_time": "2022-06-19T12:33:26.000Z"
   },
   {
    "duration": 362,
    "start_time": "2022-06-19T12:33:43.124Z"
   },
   {
    "duration": 316,
    "start_time": "2022-06-19T12:33:56.957Z"
   },
   {
    "duration": 454,
    "start_time": "2022-06-19T12:34:05.785Z"
   },
   {
    "duration": 397,
    "start_time": "2022-06-19T12:34:15.689Z"
   },
   {
    "duration": 425,
    "start_time": "2022-06-19T12:34:25.483Z"
   },
   {
    "duration": 431,
    "start_time": "2022-06-19T12:34:36.953Z"
   },
   {
    "duration": 337,
    "start_time": "2022-06-19T12:34:44.155Z"
   },
   {
    "duration": 461,
    "start_time": "2022-06-19T12:34:49.888Z"
   },
   {
    "duration": 2955,
    "start_time": "2022-06-19T12:35:06.228Z"
   },
   {
    "duration": 3062,
    "start_time": "2022-06-19T12:35:09.469Z"
   },
   {
    "duration": 329,
    "start_time": "2022-06-19T12:35:14.803Z"
   },
   {
    "duration": 156,
    "start_time": "2022-06-19T12:35:36.546Z"
   },
   {
    "duration": 288,
    "start_time": "2022-06-19T12:35:41.775Z"
   },
   {
    "duration": 286,
    "start_time": "2022-06-19T12:35:47.517Z"
   },
   {
    "duration": 13,
    "start_time": "2022-06-19T12:36:36.469Z"
   },
   {
    "duration": 17,
    "start_time": "2022-06-19T12:37:12.156Z"
   },
   {
    "duration": 19,
    "start_time": "2022-06-19T12:37:23.453Z"
   },
   {
    "duration": 514,
    "start_time": "2022-06-19T12:38:58.898Z"
   },
   {
    "duration": 442,
    "start_time": "2022-06-19T12:39:21.581Z"
   },
   {
    "duration": 13,
    "start_time": "2022-06-19T12:39:45.131Z"
   },
   {
    "duration": 330,
    "start_time": "2022-06-19T12:39:45.146Z"
   },
   {
    "duration": 16,
    "start_time": "2022-06-19T12:39:45.483Z"
   },
   {
    "duration": 26,
    "start_time": "2022-06-19T12:39:45.513Z"
   },
   {
    "duration": 238,
    "start_time": "2022-06-19T12:39:45.549Z"
   },
   {
    "duration": 144,
    "start_time": "2022-06-19T12:39:45.798Z"
   },
   {
    "duration": 114,
    "start_time": "2022-06-19T12:39:45.950Z"
   },
   {
    "duration": 100,
    "start_time": "2022-06-19T12:39:46.071Z"
   },
   {
    "duration": 2371,
    "start_time": "2022-06-19T12:39:46.182Z"
   },
   {
    "duration": 0,
    "start_time": "2022-06-19T12:39:48.559Z"
   },
   {
    "duration": 1236,
    "start_time": "2022-06-19T12:44:35.187Z"
   },
   {
    "duration": 30,
    "start_time": "2022-06-19T12:45:49.342Z"
   },
   {
    "duration": 310,
    "start_time": "2022-06-19T12:45:55.034Z"
   },
   {
    "duration": 316,
    "start_time": "2022-06-19T12:46:13.378Z"
   },
   {
    "duration": 480,
    "start_time": "2022-06-19T12:46:17.620Z"
   },
   {
    "duration": 337,
    "start_time": "2022-06-19T12:46:26.180Z"
   },
   {
    "duration": 390,
    "start_time": "2022-06-19T12:46:33.143Z"
   },
   {
    "duration": 106,
    "start_time": "2022-06-19T13:06:33.537Z"
   },
   {
    "duration": 29,
    "start_time": "2022-06-19T13:06:48.915Z"
   },
   {
    "duration": 11,
    "start_time": "2022-06-19T13:08:04.657Z"
   },
   {
    "duration": 15,
    "start_time": "2022-06-19T13:10:00.476Z"
   },
   {
    "duration": 337,
    "start_time": "2022-06-19T13:10:00.495Z"
   },
   {
    "duration": 18,
    "start_time": "2022-06-19T13:10:00.839Z"
   },
   {
    "duration": 65,
    "start_time": "2022-06-19T13:10:00.869Z"
   },
   {
    "duration": 94,
    "start_time": "2022-06-19T13:10:00.943Z"
   },
   {
    "duration": 176,
    "start_time": "2022-06-19T13:10:01.040Z"
   },
   {
    "duration": 150,
    "start_time": "2022-06-19T13:10:01.226Z"
   },
   {
    "duration": 186,
    "start_time": "2022-06-19T13:10:01.379Z"
   },
   {
    "duration": 207,
    "start_time": "2022-06-19T13:10:01.584Z"
   },
   {
    "duration": 579,
    "start_time": "2022-06-19T13:10:01.798Z"
   },
   {
    "duration": 22,
    "start_time": "2022-06-19T13:12:27.206Z"
   },
   {
    "duration": 4,
    "start_time": "2022-06-19T13:12:46.256Z"
   },
   {
    "duration": 170,
    "start_time": "2022-06-19T13:12:46.263Z"
   },
   {
    "duration": 11,
    "start_time": "2022-06-19T13:12:46.449Z"
   },
   {
    "duration": 21,
    "start_time": "2022-06-19T13:12:46.472Z"
   },
   {
    "duration": 23,
    "start_time": "2022-06-19T13:12:46.499Z"
   },
   {
    "duration": 84,
    "start_time": "2022-06-19T13:12:46.525Z"
   },
   {
    "duration": 44,
    "start_time": "2022-06-19T13:12:46.611Z"
   },
   {
    "duration": 84,
    "start_time": "2022-06-19T13:12:46.658Z"
   },
   {
    "duration": 102,
    "start_time": "2022-06-19T13:12:46.747Z"
   },
   {
    "duration": 29,
    "start_time": "2022-06-19T13:12:46.861Z"
   },
   {
    "duration": 268,
    "start_time": "2022-06-19T13:12:46.894Z"
   },
   {
    "duration": 15,
    "start_time": "2022-06-19T13:22:21.284Z"
   },
   {
    "duration": 38,
    "start_time": "2022-06-19T13:22:36.958Z"
   },
   {
    "duration": 8,
    "start_time": "2022-06-19T13:22:58.247Z"
   },
   {
    "duration": 150,
    "start_time": "2022-06-19T13:22:58.257Z"
   },
   {
    "duration": 5,
    "start_time": "2022-06-19T13:22:58.409Z"
   },
   {
    "duration": 8,
    "start_time": "2022-06-19T13:22:58.417Z"
   },
   {
    "duration": 47,
    "start_time": "2022-06-19T13:22:58.434Z"
   },
   {
    "duration": 24,
    "start_time": "2022-06-19T13:22:58.483Z"
   },
   {
    "duration": 0,
    "start_time": "2022-06-19T13:22:58.510Z"
   },
   {
    "duration": 0,
    "start_time": "2022-06-19T13:22:58.512Z"
   },
   {
    "duration": 0,
    "start_time": "2022-06-19T13:22:58.513Z"
   },
   {
    "duration": 0,
    "start_time": "2022-06-19T13:22:58.515Z"
   },
   {
    "duration": 0,
    "start_time": "2022-06-19T13:22:58.516Z"
   },
   {
    "duration": 23,
    "start_time": "2022-06-19T13:23:09.253Z"
   },
   {
    "duration": 192,
    "start_time": "2022-06-19T13:23:09.291Z"
   },
   {
    "duration": 6,
    "start_time": "2022-06-19T13:23:09.488Z"
   },
   {
    "duration": 16,
    "start_time": "2022-06-19T13:23:09.497Z"
   },
   {
    "duration": 16,
    "start_time": "2022-06-19T13:23:09.517Z"
   },
   {
    "duration": 88,
    "start_time": "2022-06-19T13:23:09.535Z"
   },
   {
    "duration": 0,
    "start_time": "2022-06-19T13:23:09.626Z"
   },
   {
    "duration": 0,
    "start_time": "2022-06-19T13:23:09.627Z"
   },
   {
    "duration": 0,
    "start_time": "2022-06-19T13:23:09.628Z"
   },
   {
    "duration": 0,
    "start_time": "2022-06-19T13:23:09.634Z"
   },
   {
    "duration": 0,
    "start_time": "2022-06-19T13:23:09.636Z"
   },
   {
    "duration": 39,
    "start_time": "2022-06-19T13:23:33.165Z"
   },
   {
    "duration": 52,
    "start_time": "2022-06-19T13:24:04.117Z"
   },
   {
    "duration": 45,
    "start_time": "2022-06-19T13:24:23.789Z"
   },
   {
    "duration": 21,
    "start_time": "2022-06-19T13:24:46.762Z"
   },
   {
    "duration": 4,
    "start_time": "2022-06-19T13:24:50.511Z"
   },
   {
    "duration": 142,
    "start_time": "2022-06-19T13:24:50.518Z"
   },
   {
    "duration": 6,
    "start_time": "2022-06-19T13:24:50.662Z"
   },
   {
    "duration": 23,
    "start_time": "2022-06-19T13:24:50.670Z"
   },
   {
    "duration": 12,
    "start_time": "2022-06-19T13:24:50.696Z"
   },
   {
    "duration": 41,
    "start_time": "2022-06-19T13:24:50.711Z"
   },
   {
    "duration": 50,
    "start_time": "2022-06-19T13:24:50.755Z"
   },
   {
    "duration": 21,
    "start_time": "2022-06-19T13:24:50.808Z"
   },
   {
    "duration": 81,
    "start_time": "2022-06-19T13:24:50.832Z"
   },
   {
    "duration": 24,
    "start_time": "2022-06-19T13:24:50.915Z"
   },
   {
    "duration": 269,
    "start_time": "2022-06-19T13:24:50.942Z"
   },
   {
    "duration": 53,
    "start_time": "2022-06-19T13:25:27.296Z"
   },
   {
    "duration": 18,
    "start_time": "2022-06-19T13:25:57.000Z"
   },
   {
    "duration": 10,
    "start_time": "2022-06-19T13:26:02.034Z"
   },
   {
    "duration": 137,
    "start_time": "2022-06-19T13:26:02.046Z"
   },
   {
    "duration": 4,
    "start_time": "2022-06-19T13:26:02.185Z"
   },
   {
    "duration": 16,
    "start_time": "2022-06-19T13:26:02.191Z"
   },
   {
    "duration": 15,
    "start_time": "2022-06-19T13:26:02.209Z"
   },
   {
    "duration": 54,
    "start_time": "2022-06-19T13:26:02.230Z"
   },
   {
    "duration": 34,
    "start_time": "2022-06-19T13:26:02.285Z"
   },
   {
    "duration": 65,
    "start_time": "2022-06-19T13:26:02.321Z"
   },
   {
    "duration": 29,
    "start_time": "2022-06-19T13:26:02.388Z"
   },
   {
    "duration": 24,
    "start_time": "2022-06-19T13:26:02.420Z"
   },
   {
    "duration": 314,
    "start_time": "2022-06-19T13:26:02.454Z"
   },
   {
    "duration": 19,
    "start_time": "2022-06-19T13:26:30.176Z"
   },
   {
    "duration": 16,
    "start_time": "2022-06-19T13:27:40.045Z"
   },
   {
    "duration": 15,
    "start_time": "2022-06-19T13:28:17.933Z"
   },
   {
    "duration": 26,
    "start_time": "2022-06-19T13:29:54.630Z"
   },
   {
    "duration": 5,
    "start_time": "2022-06-19T13:29:57.904Z"
   },
   {
    "duration": 200,
    "start_time": "2022-06-19T13:29:57.911Z"
   },
   {
    "duration": 6,
    "start_time": "2022-06-19T13:29:58.114Z"
   },
   {
    "duration": 57,
    "start_time": "2022-06-19T13:29:58.123Z"
   },
   {
    "duration": 26,
    "start_time": "2022-06-19T13:29:58.184Z"
   },
   {
    "duration": 37,
    "start_time": "2022-06-19T13:29:58.212Z"
   },
   {
    "duration": 55,
    "start_time": "2022-06-19T13:29:58.251Z"
   },
   {
    "duration": 75,
    "start_time": "2022-06-19T13:29:58.309Z"
   },
   {
    "duration": 57,
    "start_time": "2022-06-19T13:29:58.389Z"
   },
   {
    "duration": 36,
    "start_time": "2022-06-19T13:29:58.452Z"
   },
   {
    "duration": 34,
    "start_time": "2022-06-19T13:29:58.490Z"
   },
   {
    "duration": 277,
    "start_time": "2022-06-19T13:29:58.535Z"
   },
   {
    "duration": 271,
    "start_time": "2022-06-19T13:33:04.619Z"
   },
   {
    "duration": 35,
    "start_time": "2022-06-19T13:33:11.189Z"
   },
   {
    "duration": 14,
    "start_time": "2022-06-19T13:33:15.506Z"
   },
   {
    "duration": 372,
    "start_time": "2022-06-19T13:33:15.524Z"
   },
   {
    "duration": 32,
    "start_time": "2022-06-19T13:33:15.907Z"
   },
   {
    "duration": 190,
    "start_time": "2022-06-19T13:33:15.946Z"
   },
   {
    "duration": 196,
    "start_time": "2022-06-19T13:33:16.140Z"
   },
   {
    "duration": 211,
    "start_time": "2022-06-19T13:33:16.345Z"
   },
   {
    "duration": 19,
    "start_time": "2022-06-19T13:33:16.561Z"
   },
   {
    "duration": 271,
    "start_time": "2022-06-19T13:33:16.584Z"
   },
   {
    "duration": 153,
    "start_time": "2022-06-19T13:33:16.863Z"
   },
   {
    "duration": 115,
    "start_time": "2022-06-19T13:33:17.029Z"
   },
   {
    "duration": 187,
    "start_time": "2022-06-19T13:33:17.151Z"
   },
   {
    "duration": 404,
    "start_time": "2022-06-19T13:33:17.348Z"
   },
   {
    "duration": 47,
    "start_time": "2022-06-19T13:33:41.733Z"
   },
   {
    "duration": 14,
    "start_time": "2022-06-19T13:33:45.130Z"
   },
   {
    "duration": 432,
    "start_time": "2022-06-19T13:33:45.146Z"
   },
   {
    "duration": 18,
    "start_time": "2022-06-19T13:33:45.580Z"
   },
   {
    "duration": 116,
    "start_time": "2022-06-19T13:33:45.600Z"
   },
   {
    "duration": 54,
    "start_time": "2022-06-19T13:33:45.721Z"
   },
   {
    "duration": 135,
    "start_time": "2022-06-19T13:33:45.779Z"
   },
   {
    "duration": 74,
    "start_time": "2022-06-19T13:33:45.927Z"
   },
   {
    "duration": 145,
    "start_time": "2022-06-19T13:33:46.006Z"
   },
   {
    "duration": 147,
    "start_time": "2022-06-19T13:33:46.168Z"
   },
   {
    "duration": 149,
    "start_time": "2022-06-19T13:33:46.320Z"
   },
   {
    "duration": 68,
    "start_time": "2022-06-19T13:33:46.471Z"
   },
   {
    "duration": 626,
    "start_time": "2022-06-19T13:33:46.550Z"
   },
   {
    "duration": 18,
    "start_time": "2022-06-19T13:34:07.157Z"
   },
   {
    "duration": 13,
    "start_time": "2022-06-19T13:34:10.219Z"
   },
   {
    "duration": 267,
    "start_time": "2022-06-19T13:34:10.236Z"
   },
   {
    "duration": 20,
    "start_time": "2022-06-19T13:34:10.506Z"
   },
   {
    "duration": 134,
    "start_time": "2022-06-19T13:34:10.530Z"
   },
   {
    "duration": 177,
    "start_time": "2022-06-19T13:34:10.667Z"
   },
   {
    "duration": 275,
    "start_time": "2022-06-19T13:34:10.849Z"
   },
   {
    "duration": 101,
    "start_time": "2022-06-19T13:34:11.131Z"
   },
   {
    "duration": 220,
    "start_time": "2022-06-19T13:34:11.242Z"
   },
   {
    "duration": 150,
    "start_time": "2022-06-19T13:34:11.473Z"
   },
   {
    "duration": 196,
    "start_time": "2022-06-19T13:34:11.636Z"
   },
   {
    "duration": 142,
    "start_time": "2022-06-19T13:34:11.838Z"
   },
   {
    "duration": 570,
    "start_time": "2022-06-19T13:34:11.994Z"
   },
   {
    "duration": 9,
    "start_time": "2022-06-19T13:35:45.509Z"
   },
   {
    "duration": 215,
    "start_time": "2022-06-19T13:35:45.521Z"
   },
   {
    "duration": 5,
    "start_time": "2022-06-19T13:35:45.737Z"
   },
   {
    "duration": 58,
    "start_time": "2022-06-19T13:35:45.743Z"
   },
   {
    "duration": 38,
    "start_time": "2022-06-19T13:35:45.803Z"
   },
   {
    "duration": 176,
    "start_time": "2022-06-19T13:35:45.843Z"
   },
   {
    "duration": 63,
    "start_time": "2022-06-19T13:35:46.021Z"
   },
   {
    "duration": 49,
    "start_time": "2022-06-19T13:35:46.087Z"
   },
   {
    "duration": 225,
    "start_time": "2022-06-19T13:35:46.141Z"
   },
   {
    "duration": 34,
    "start_time": "2022-06-19T13:35:46.373Z"
   },
   {
    "duration": 153,
    "start_time": "2022-06-19T13:35:46.413Z"
   },
   {
    "duration": 445,
    "start_time": "2022-06-19T13:35:46.574Z"
   },
   {
    "duration": 24,
    "start_time": "2022-06-19T13:38:03.164Z"
   },
   {
    "duration": 19,
    "start_time": "2022-06-19T13:38:21.369Z"
   },
   {
    "duration": 7,
    "start_time": "2022-06-19T13:38:53.515Z"
   },
   {
    "duration": 15,
    "start_time": "2022-06-19T13:42:58.689Z"
   },
   {
    "duration": 21,
    "start_time": "2022-06-19T13:43:07.352Z"
   },
   {
    "duration": 10,
    "start_time": "2022-06-19T13:43:16.250Z"
   },
   {
    "duration": 307,
    "start_time": "2022-06-19T13:43:16.263Z"
   },
   {
    "duration": 18,
    "start_time": "2022-06-19T13:43:16.577Z"
   },
   {
    "duration": 121,
    "start_time": "2022-06-19T13:43:16.603Z"
   },
   {
    "duration": 117,
    "start_time": "2022-06-19T13:43:16.733Z"
   },
   {
    "duration": 107,
    "start_time": "2022-06-19T13:43:16.853Z"
   },
   {
    "duration": 127,
    "start_time": "2022-06-19T13:43:16.969Z"
   },
   {
    "duration": 193,
    "start_time": "2022-06-19T13:43:17.111Z"
   },
   {
    "duration": 62,
    "start_time": "2022-06-19T13:43:17.307Z"
   },
   {
    "duration": 72,
    "start_time": "2022-06-19T13:43:17.378Z"
   },
   {
    "duration": 100,
    "start_time": "2022-06-19T13:43:17.453Z"
   },
   {
    "duration": 99,
    "start_time": "2022-06-19T13:43:17.555Z"
   },
   {
    "duration": 438,
    "start_time": "2022-06-19T13:43:17.661Z"
   },
   {
    "duration": 58,
    "start_time": "2022-06-19T13:47:15.898Z"
   },
   {
    "duration": 5,
    "start_time": "2022-06-19T13:47:19.756Z"
   },
   {
    "duration": 345,
    "start_time": "2022-06-19T13:47:19.763Z"
   },
   {
    "duration": 10,
    "start_time": "2022-06-19T13:47:20.115Z"
   },
   {
    "duration": 97,
    "start_time": "2022-06-19T13:47:20.132Z"
   },
   {
    "duration": 185,
    "start_time": "2022-06-19T13:47:20.232Z"
   },
   {
    "duration": 175,
    "start_time": "2022-06-19T13:47:20.433Z"
   },
   {
    "duration": 144,
    "start_time": "2022-06-19T13:47:20.621Z"
   },
   {
    "duration": 168,
    "start_time": "2022-06-19T13:47:20.774Z"
   },
   {
    "duration": 128,
    "start_time": "2022-06-19T13:47:20.947Z"
   },
   {
    "duration": 151,
    "start_time": "2022-06-19T13:47:21.083Z"
   },
   {
    "duration": 189,
    "start_time": "2022-06-19T13:47:21.243Z"
   },
   {
    "duration": 252,
    "start_time": "2022-06-19T13:47:21.445Z"
   },
   {
    "duration": 469,
    "start_time": "2022-06-19T13:47:21.707Z"
   },
   {
    "duration": 24,
    "start_time": "2022-06-19T13:48:09.904Z"
   },
   {
    "duration": 7,
    "start_time": "2022-06-19T13:49:45.962Z"
   },
   {
    "duration": 4,
    "start_time": "2022-06-19T13:52:58.105Z"
   },
   {
    "duration": 200,
    "start_time": "2022-06-19T13:52:58.112Z"
   },
   {
    "duration": 9,
    "start_time": "2022-06-19T13:52:58.315Z"
   },
   {
    "duration": 106,
    "start_time": "2022-06-19T13:52:58.327Z"
   },
   {
    "duration": 56,
    "start_time": "2022-06-19T13:52:58.437Z"
   },
   {
    "duration": 83,
    "start_time": "2022-06-19T13:52:58.501Z"
   },
   {
    "duration": 80,
    "start_time": "2022-06-19T13:52:58.590Z"
   },
   {
    "duration": 35,
    "start_time": "2022-06-19T13:52:58.680Z"
   },
   {
    "duration": 88,
    "start_time": "2022-06-19T13:52:58.717Z"
   },
   {
    "duration": 44,
    "start_time": "2022-06-19T13:52:58.808Z"
   },
   {
    "duration": 98,
    "start_time": "2022-06-19T13:52:58.853Z"
   },
   {
    "duration": 22,
    "start_time": "2022-06-19T13:52:58.954Z"
   },
   {
    "duration": 422,
    "start_time": "2022-06-19T13:52:58.979Z"
   },
   {
    "duration": 30,
    "start_time": "2022-06-19T13:55:29.678Z"
   },
   {
    "duration": 33,
    "start_time": "2022-06-19T13:57:56.150Z"
   },
   {
    "duration": 21,
    "start_time": "2022-06-19T14:01:25.103Z"
   },
   {
    "duration": 6,
    "start_time": "2022-06-19T14:02:39.875Z"
   },
   {
    "duration": 18,
    "start_time": "2022-06-19T14:03:26.953Z"
   },
   {
    "duration": 43,
    "start_time": "2022-06-19T14:03:29.317Z"
   },
   {
    "duration": 24,
    "start_time": "2022-06-19T14:03:45.393Z"
   },
   {
    "duration": 23,
    "start_time": "2022-06-19T14:04:42.046Z"
   },
   {
    "duration": 11,
    "start_time": "2022-06-19T14:05:26.430Z"
   },
   {
    "duration": 18,
    "start_time": "2022-06-19T14:06:07.404Z"
   },
   {
    "duration": 23,
    "start_time": "2022-06-19T14:06:32.587Z"
   },
   {
    "duration": 21,
    "start_time": "2022-06-19T14:06:37.234Z"
   },
   {
    "duration": 171,
    "start_time": "2022-06-19T14:06:37.258Z"
   },
   {
    "duration": 6,
    "start_time": "2022-06-19T14:06:37.431Z"
   },
   {
    "duration": 24,
    "start_time": "2022-06-19T14:06:37.442Z"
   },
   {
    "duration": 29,
    "start_time": "2022-06-19T14:06:37.470Z"
   },
   {
    "duration": 36,
    "start_time": "2022-06-19T14:06:37.501Z"
   },
   {
    "duration": 34,
    "start_time": "2022-06-19T14:06:37.539Z"
   },
   {
    "duration": 10,
    "start_time": "2022-06-19T14:06:37.576Z"
   },
   {
    "duration": 17,
    "start_time": "2022-06-19T14:06:37.589Z"
   },
   {
    "duration": 25,
    "start_time": "2022-06-19T14:06:37.609Z"
   },
   {
    "duration": 21,
    "start_time": "2022-06-19T14:06:37.640Z"
   },
   {
    "duration": 23,
    "start_time": "2022-06-19T14:06:37.663Z"
   },
   {
    "duration": 24,
    "start_time": "2022-06-19T14:06:37.688Z"
   },
   {
    "duration": 37,
    "start_time": "2022-06-19T14:06:37.714Z"
   },
   {
    "duration": 267,
    "start_time": "2022-06-19T14:06:37.753Z"
   },
   {
    "duration": 29,
    "start_time": "2022-06-19T14:08:38.722Z"
   },
   {
    "duration": 39,
    "start_time": "2022-06-19T14:08:42.054Z"
   },
   {
    "duration": 4,
    "start_time": "2022-06-19T14:08:45.701Z"
   },
   {
    "duration": 154,
    "start_time": "2022-06-19T14:08:45.708Z"
   },
   {
    "duration": 6,
    "start_time": "2022-06-19T14:08:45.865Z"
   },
   {
    "duration": 7,
    "start_time": "2022-06-19T14:08:45.873Z"
   },
   {
    "duration": 16,
    "start_time": "2022-06-19T14:08:45.882Z"
   },
   {
    "duration": 61,
    "start_time": "2022-06-19T14:08:45.901Z"
   },
   {
    "duration": 17,
    "start_time": "2022-06-19T14:08:45.964Z"
   },
   {
    "duration": 9,
    "start_time": "2022-06-19T14:08:45.984Z"
   },
   {
    "duration": 48,
    "start_time": "2022-06-19T14:08:45.996Z"
   },
   {
    "duration": 22,
    "start_time": "2022-06-19T14:08:46.048Z"
   },
   {
    "duration": 17,
    "start_time": "2022-06-19T14:08:46.072Z"
   },
   {
    "duration": 0,
    "start_time": "2022-06-19T14:08:46.091Z"
   },
   {
    "duration": 0,
    "start_time": "2022-06-19T14:08:46.093Z"
   },
   {
    "duration": 0,
    "start_time": "2022-06-19T14:08:46.094Z"
   },
   {
    "duration": 0,
    "start_time": "2022-06-19T14:08:46.097Z"
   },
   {
    "duration": 14,
    "start_time": "2022-06-19T14:09:10.009Z"
   },
   {
    "duration": 22,
    "start_time": "2022-06-19T14:09:13.663Z"
   },
   {
    "duration": 12,
    "start_time": "2022-06-19T14:09:23.244Z"
   },
   {
    "duration": 9,
    "start_time": "2022-06-19T14:09:43.047Z"
   },
   {
    "duration": 8,
    "start_time": "2022-06-19T14:10:03.948Z"
   },
   {
    "duration": 34,
    "start_time": "2022-06-19T14:11:13.587Z"
   },
   {
    "duration": 30,
    "start_time": "2022-06-19T14:17:29.940Z"
   },
   {
    "duration": 34,
    "start_time": "2022-06-19T14:17:36.210Z"
   },
   {
    "duration": 23,
    "start_time": "2022-06-19T14:17:55.246Z"
   },
   {
    "duration": 28,
    "start_time": "2022-06-19T14:17:58.506Z"
   },
   {
    "duration": 6,
    "start_time": "2022-06-19T14:18:08.047Z"
   },
   {
    "duration": 105,
    "start_time": "2022-06-19T14:18:08.056Z"
   },
   {
    "duration": 6,
    "start_time": "2022-06-19T14:18:08.163Z"
   },
   {
    "duration": 12,
    "start_time": "2022-06-19T14:18:08.171Z"
   },
   {
    "duration": 20,
    "start_time": "2022-06-19T14:18:08.185Z"
   },
   {
    "duration": 53,
    "start_time": "2022-06-19T14:18:08.207Z"
   },
   {
    "duration": 19,
    "start_time": "2022-06-19T14:18:08.263Z"
   },
   {
    "duration": 10,
    "start_time": "2022-06-19T14:18:08.285Z"
   },
   {
    "duration": 45,
    "start_time": "2022-06-19T14:18:08.297Z"
   },
   {
    "duration": 34,
    "start_time": "2022-06-19T14:18:08.347Z"
   },
   {
    "duration": 34,
    "start_time": "2022-06-19T14:18:08.384Z"
   },
   {
    "duration": 23,
    "start_time": "2022-06-19T14:18:08.420Z"
   },
   {
    "duration": 49,
    "start_time": "2022-06-19T14:18:08.444Z"
   },
   {
    "duration": 31,
    "start_time": "2022-06-19T14:18:08.494Z"
   },
   {
    "duration": 255,
    "start_time": "2022-06-19T14:18:08.532Z"
   },
   {
    "duration": 27,
    "start_time": "2022-06-19T14:18:31.137Z"
   },
   {
    "duration": 19,
    "start_time": "2022-06-19T14:18:37.497Z"
   },
   {
    "duration": 9,
    "start_time": "2022-06-19T14:20:16.049Z"
   },
   {
    "duration": 32,
    "start_time": "2022-06-19T14:20:18.602Z"
   },
   {
    "duration": 21,
    "start_time": "2022-06-19T14:21:15.344Z"
   },
   {
    "duration": 35,
    "start_time": "2022-06-19T14:21:26.357Z"
   },
   {
    "duration": 21,
    "start_time": "2022-06-19T14:22:00.813Z"
   },
   {
    "duration": 20,
    "start_time": "2022-06-19T14:25:53.258Z"
   },
   {
    "duration": 298,
    "start_time": "2022-06-19T14:25:57.906Z"
   },
   {
    "duration": 16,
    "start_time": "2022-06-19T14:26:09.087Z"
   },
   {
    "duration": 270,
    "start_time": "2022-06-19T14:26:11.078Z"
   },
   {
    "duration": 16,
    "start_time": "2022-06-19T14:26:31.309Z"
   },
   {
    "duration": 287,
    "start_time": "2022-06-19T14:26:55.902Z"
   },
   {
    "duration": 245,
    "start_time": "2022-06-19T14:27:02.816Z"
   },
   {
    "duration": 245,
    "start_time": "2022-06-19T14:27:08.771Z"
   },
   {
    "duration": 440,
    "start_time": "2022-06-19T14:27:22.751Z"
   },
   {
    "duration": 278,
    "start_time": "2022-06-19T14:27:26.926Z"
   },
   {
    "duration": 23,
    "start_time": "2022-06-19T14:28:53.327Z"
   },
   {
    "duration": 27,
    "start_time": "2022-06-19T14:29:14.431Z"
   },
   {
    "duration": 17,
    "start_time": "2022-06-19T15:10:17.097Z"
   },
   {
    "duration": 5,
    "start_time": "2022-06-19T15:10:55.109Z"
   },
   {
    "duration": 158,
    "start_time": "2022-06-19T15:10:55.117Z"
   },
   {
    "duration": 9,
    "start_time": "2022-06-19T15:10:55.282Z"
   },
   {
    "duration": 17,
    "start_time": "2022-06-19T15:10:55.297Z"
   },
   {
    "duration": 78,
    "start_time": "2022-06-19T15:10:55.317Z"
   },
   {
    "duration": 43,
    "start_time": "2022-06-19T15:10:55.398Z"
   },
   {
    "duration": 45,
    "start_time": "2022-06-19T15:10:55.443Z"
   },
   {
    "duration": 10,
    "start_time": "2022-06-19T15:10:55.499Z"
   },
   {
    "duration": 23,
    "start_time": "2022-06-19T15:10:55.512Z"
   },
   {
    "duration": 69,
    "start_time": "2022-06-19T15:10:55.539Z"
   },
   {
    "duration": 40,
    "start_time": "2022-06-19T15:10:55.609Z"
   },
   {
    "duration": 37,
    "start_time": "2022-06-19T15:10:55.652Z"
   },
   {
    "duration": 23,
    "start_time": "2022-06-19T15:10:55.694Z"
   },
   {
    "duration": 84,
    "start_time": "2022-06-19T15:10:55.720Z"
   },
   {
    "duration": 20,
    "start_time": "2022-06-19T15:10:55.807Z"
   },
   {
    "duration": 281,
    "start_time": "2022-06-19T15:10:55.829Z"
   },
   {
    "duration": 40,
    "start_time": "2022-06-19T15:10:56.112Z"
   },
   {
    "duration": 23,
    "start_time": "2022-06-19T15:11:13.614Z"
   },
   {
    "duration": 9,
    "start_time": "2022-06-19T15:12:23.105Z"
   },
   {
    "duration": 31,
    "start_time": "2022-06-19T15:12:34.156Z"
   },
   {
    "duration": 26,
    "start_time": "2022-06-19T15:13:35.157Z"
   },
   {
    "duration": 11,
    "start_time": "2022-06-19T15:13:59.397Z"
   },
   {
    "duration": 31,
    "start_time": "2022-06-19T15:14:12.757Z"
   },
   {
    "duration": 5,
    "start_time": "2022-06-19T15:14:21.036Z"
   },
   {
    "duration": 209,
    "start_time": "2022-06-19T15:14:21.043Z"
   },
   {
    "duration": 8,
    "start_time": "2022-06-19T15:14:21.253Z"
   },
   {
    "duration": 47,
    "start_time": "2022-06-19T15:14:21.265Z"
   },
   {
    "duration": 59,
    "start_time": "2022-06-19T15:14:21.316Z"
   },
   {
    "duration": 88,
    "start_time": "2022-06-19T15:14:21.377Z"
   },
   {
    "duration": 55,
    "start_time": "2022-06-19T15:14:21.469Z"
   },
   {
    "duration": 78,
    "start_time": "2022-06-19T15:14:21.526Z"
   },
   {
    "duration": 87,
    "start_time": "2022-06-19T15:14:21.610Z"
   },
   {
    "duration": 24,
    "start_time": "2022-06-19T15:14:21.699Z"
   },
   {
    "duration": 109,
    "start_time": "2022-06-19T15:14:21.726Z"
   },
   {
    "duration": 32,
    "start_time": "2022-06-19T15:14:21.837Z"
   },
   {
    "duration": 28,
    "start_time": "2022-06-19T15:14:21.871Z"
   },
   {
    "duration": 101,
    "start_time": "2022-06-19T15:14:21.904Z"
   },
   {
    "duration": 15,
    "start_time": "2022-06-19T15:14:22.007Z"
   },
   {
    "duration": 292,
    "start_time": "2022-06-19T15:14:22.024Z"
   },
   {
    "duration": 25,
    "start_time": "2022-06-19T15:14:22.318Z"
   },
   {
    "duration": 9,
    "start_time": "2022-06-19T15:15:06.097Z"
   },
   {
    "duration": 25,
    "start_time": "2022-06-19T15:15:14.998Z"
   },
   {
    "duration": 7,
    "start_time": "2022-06-19T15:16:37.713Z"
   },
   {
    "duration": 8,
    "start_time": "2022-06-19T15:16:55.002Z"
   },
   {
    "duration": 627,
    "start_time": "2022-06-19T15:19:42.319Z"
   },
   {
    "duration": 515,
    "start_time": "2022-06-19T15:20:23.037Z"
   },
   {
    "duration": 646,
    "start_time": "2022-06-19T15:20:29.406Z"
   },
   {
    "duration": 690,
    "start_time": "2022-06-19T15:20:44.900Z"
   },
   {
    "duration": 821,
    "start_time": "2022-06-19T15:21:24.209Z"
   },
   {
    "duration": 28,
    "start_time": "2022-06-19T15:37:17.544Z"
   },
   {
    "duration": 13,
    "start_time": "2022-06-19T15:37:44.741Z"
   },
   {
    "duration": 233,
    "start_time": "2022-06-19T15:37:44.757Z"
   },
   {
    "duration": 7,
    "start_time": "2022-06-19T15:37:44.992Z"
   },
   {
    "duration": 82,
    "start_time": "2022-06-19T15:37:45.003Z"
   },
   {
    "duration": 40,
    "start_time": "2022-06-19T15:37:45.088Z"
   },
   {
    "duration": 94,
    "start_time": "2022-06-19T15:37:45.130Z"
   },
   {
    "duration": 23,
    "start_time": "2022-06-19T15:37:45.226Z"
   },
   {
    "duration": 130,
    "start_time": "2022-06-19T15:37:45.251Z"
   },
   {
    "duration": 190,
    "start_time": "2022-06-19T15:37:45.383Z"
   },
   {
    "duration": 104,
    "start_time": "2022-06-19T15:37:45.583Z"
   },
   {
    "duration": 159,
    "start_time": "2022-06-19T15:37:45.695Z"
   },
   {
    "duration": 93,
    "start_time": "2022-06-19T15:37:45.862Z"
   },
   {
    "duration": 50,
    "start_time": "2022-06-19T15:37:45.962Z"
   },
   {
    "duration": 156,
    "start_time": "2022-06-19T15:37:46.029Z"
   },
   {
    "duration": 130,
    "start_time": "2022-06-19T15:37:46.188Z"
   },
   {
    "duration": 431,
    "start_time": "2022-06-19T15:37:46.325Z"
   },
   {
    "duration": 22,
    "start_time": "2022-06-19T15:37:46.758Z"
   },
   {
    "duration": 98,
    "start_time": "2022-06-19T15:37:46.782Z"
   },
   {
    "duration": 694,
    "start_time": "2022-06-19T15:37:46.882Z"
   },
   {
    "duration": 25,
    "start_time": "2022-06-19T15:37:47.579Z"
   },
   {
    "duration": 17,
    "start_time": "2022-06-19T15:40:46.231Z"
   },
   {
    "duration": 22,
    "start_time": "2022-06-19T15:41:25.562Z"
   },
   {
    "duration": 11,
    "start_time": "2022-06-19T15:45:32.707Z"
   },
   {
    "duration": 11,
    "start_time": "2022-06-19T15:46:49.052Z"
   },
   {
    "duration": 17,
    "start_time": "2022-06-19T15:47:25.014Z"
   },
   {
    "duration": 22,
    "start_time": "2022-06-19T15:47:27.424Z"
   },
   {
    "duration": 38,
    "start_time": "2022-06-19T15:47:29.041Z"
   },
   {
    "duration": 22,
    "start_time": "2022-06-19T15:47:30.158Z"
   },
   {
    "duration": 22,
    "start_time": "2022-06-19T15:47:46.287Z"
   },
   {
    "duration": 35,
    "start_time": "2022-06-19T15:54:24.728Z"
   },
   {
    "duration": 18,
    "start_time": "2022-06-19T15:55:12.989Z"
   },
   {
    "duration": 21,
    "start_time": "2022-06-19T15:56:24.860Z"
   },
   {
    "duration": 793,
    "start_time": "2022-06-19T15:57:53.318Z"
   },
   {
    "duration": 76,
    "start_time": "2022-06-19T16:00:08.616Z"
   },
   {
    "duration": 15,
    "start_time": "2022-06-19T16:00:13.905Z"
   },
   {
    "duration": 264,
    "start_time": "2022-06-19T16:00:13.928Z"
   },
   {
    "duration": 14,
    "start_time": "2022-06-19T16:00:14.194Z"
   },
   {
    "duration": 299,
    "start_time": "2022-06-19T16:00:14.210Z"
   },
   {
    "duration": 171,
    "start_time": "2022-06-19T16:00:14.513Z"
   },
   {
    "duration": 249,
    "start_time": "2022-06-19T16:00:14.691Z"
   },
   {
    "duration": 133,
    "start_time": "2022-06-19T16:00:14.952Z"
   },
   {
    "duration": 197,
    "start_time": "2022-06-19T16:00:15.093Z"
   },
   {
    "duration": 283,
    "start_time": "2022-06-19T16:00:15.302Z"
   },
   {
    "duration": 202,
    "start_time": "2022-06-19T16:00:15.598Z"
   },
   {
    "duration": 287,
    "start_time": "2022-06-19T16:00:15.809Z"
   },
   {
    "duration": 113,
    "start_time": "2022-06-19T16:00:16.123Z"
   },
   {
    "duration": 119,
    "start_time": "2022-06-19T16:00:16.243Z"
   },
   {
    "duration": 385,
    "start_time": "2022-06-19T16:00:16.380Z"
   },
   {
    "duration": 52,
    "start_time": "2022-06-19T16:00:16.772Z"
   },
   {
    "duration": 548,
    "start_time": "2022-06-19T16:00:16.826Z"
   },
   {
    "duration": 27,
    "start_time": "2022-06-19T16:00:17.376Z"
   },
   {
    "duration": 173,
    "start_time": "2022-06-19T16:00:17.406Z"
   },
   {
    "duration": 1036,
    "start_time": "2022-06-19T16:00:17.600Z"
   },
   {
    "duration": 47,
    "start_time": "2022-06-19T16:00:18.646Z"
   },
   {
    "duration": 84,
    "start_time": "2022-06-19T16:00:18.709Z"
   },
   {
    "duration": 177,
    "start_time": "2022-06-19T16:00:18.800Z"
   },
   {
    "duration": 157,
    "start_time": "2022-06-19T16:00:18.991Z"
   },
   {
    "duration": 1505,
    "start_time": "2022-06-19T16:00:19.163Z"
   },
   {
    "duration": 23,
    "start_time": "2022-06-19T16:00:20.675Z"
   },
   {
    "duration": 7,
    "start_time": "2022-06-19T16:03:41.113Z"
   },
   {
    "duration": 54,
    "start_time": "2022-06-19T16:04:05.949Z"
   },
   {
    "duration": 22,
    "start_time": "2022-06-19T16:04:08.111Z"
   },
   {
    "duration": 22,
    "start_time": "2022-06-19T16:06:26.018Z"
   },
   {
    "duration": 20,
    "start_time": "2022-06-19T16:06:32.082Z"
   },
   {
    "duration": 18,
    "start_time": "2022-06-19T16:06:34.463Z"
   },
   {
    "duration": 11,
    "start_time": "2022-06-19T16:06:37.565Z"
   },
   {
    "duration": 20,
    "start_time": "2022-06-19T16:06:45.596Z"
   },
   {
    "duration": 19,
    "start_time": "2022-06-19T16:07:02.062Z"
   },
   {
    "duration": 891,
    "start_time": "2022-06-19T16:07:11.430Z"
   },
   {
    "duration": 12,
    "start_time": "2022-06-19T16:07:52.669Z"
   },
   {
    "duration": 225,
    "start_time": "2022-06-19T16:07:52.695Z"
   },
   {
    "duration": 11,
    "start_time": "2022-06-19T16:07:52.925Z"
   },
   {
    "duration": 19,
    "start_time": "2022-06-19T16:07:52.942Z"
   },
   {
    "duration": 119,
    "start_time": "2022-06-19T16:07:52.974Z"
   },
   {
    "duration": 117,
    "start_time": "2022-06-19T16:07:53.101Z"
   },
   {
    "duration": 16,
    "start_time": "2022-06-19T16:07:53.220Z"
   },
   {
    "duration": 106,
    "start_time": "2022-06-19T16:07:53.243Z"
   },
   {
    "duration": 80,
    "start_time": "2022-06-19T16:07:53.355Z"
   },
   {
    "duration": 111,
    "start_time": "2022-06-19T16:07:53.437Z"
   },
   {
    "duration": 138,
    "start_time": "2022-06-19T16:07:53.550Z"
   },
   {
    "duration": 63,
    "start_time": "2022-06-19T16:07:53.693Z"
   },
   {
    "duration": 18,
    "start_time": "2022-06-19T16:07:53.758Z"
   },
   {
    "duration": 86,
    "start_time": "2022-06-19T16:07:53.782Z"
   },
   {
    "duration": 55,
    "start_time": "2022-06-19T16:07:53.874Z"
   },
   {
    "duration": 387,
    "start_time": "2022-06-19T16:07:53.941Z"
   },
   {
    "duration": 52,
    "start_time": "2022-06-19T16:07:54.332Z"
   },
   {
    "duration": 63,
    "start_time": "2022-06-19T16:07:54.393Z"
   },
   {
    "duration": 769,
    "start_time": "2022-06-19T16:07:54.460Z"
   },
   {
    "duration": 42,
    "start_time": "2022-06-19T16:07:55.237Z"
   },
   {
    "duration": 91,
    "start_time": "2022-06-19T16:07:55.281Z"
   },
   {
    "duration": 64,
    "start_time": "2022-06-19T16:07:55.376Z"
   },
   {
    "duration": 69,
    "start_time": "2022-06-19T16:07:55.456Z"
   },
   {
    "duration": 840,
    "start_time": "2022-06-19T16:07:55.529Z"
   },
   {
    "duration": 23,
    "start_time": "2022-06-19T16:07:56.375Z"
   },
   {
    "duration": 11,
    "start_time": "2022-06-19T16:11:15.249Z"
   },
   {
    "duration": 160,
    "start_time": "2022-06-19T16:11:15.262Z"
   },
   {
    "duration": 8,
    "start_time": "2022-06-19T16:11:15.426Z"
   },
   {
    "duration": 50,
    "start_time": "2022-06-19T16:11:15.449Z"
   },
   {
    "duration": 24,
    "start_time": "2022-06-19T16:11:15.501Z"
   },
   {
    "duration": 42,
    "start_time": "2022-06-19T16:11:15.536Z"
   },
   {
    "duration": 30,
    "start_time": "2022-06-19T16:11:15.584Z"
   },
   {
    "duration": 8,
    "start_time": "2022-06-19T16:11:15.616Z"
   },
   {
    "duration": 46,
    "start_time": "2022-06-19T16:11:15.626Z"
   },
   {
    "duration": 29,
    "start_time": "2022-06-19T16:11:15.678Z"
   },
   {
    "duration": 58,
    "start_time": "2022-06-19T16:11:15.710Z"
   },
   {
    "duration": 50,
    "start_time": "2022-06-19T16:11:15.770Z"
   },
   {
    "duration": 8,
    "start_time": "2022-06-19T16:11:15.822Z"
   },
   {
    "duration": 109,
    "start_time": "2022-06-19T16:11:15.836Z"
   },
   {
    "duration": 25,
    "start_time": "2022-06-19T16:11:15.947Z"
   },
   {
    "duration": 328,
    "start_time": "2022-06-19T16:11:15.976Z"
   },
   {
    "duration": 21,
    "start_time": "2022-06-19T16:11:16.311Z"
   },
   {
    "duration": 100,
    "start_time": "2022-06-19T16:11:16.334Z"
   },
   {
    "duration": 797,
    "start_time": "2022-06-19T16:11:16.436Z"
   },
   {
    "duration": 35,
    "start_time": "2022-06-19T16:11:17.253Z"
   },
   {
    "duration": 25,
    "start_time": "2022-06-19T16:11:17.289Z"
   },
   {
    "duration": 22,
    "start_time": "2022-06-19T16:11:17.316Z"
   },
   {
    "duration": 66,
    "start_time": "2022-06-19T16:11:17.339Z"
   },
   {
    "duration": 762,
    "start_time": "2022-06-19T16:11:17.407Z"
   },
   {
    "duration": 29,
    "start_time": "2022-06-19T16:11:18.171Z"
   },
   {
    "duration": 693,
    "start_time": "2022-06-19T16:11:30.906Z"
   },
   {
    "duration": 648,
    "start_time": "2022-06-19T16:12:45.505Z"
   },
   {
    "duration": 510,
    "start_time": "2022-06-19T16:12:51.493Z"
   },
   {
    "duration": 453,
    "start_time": "2022-06-19T16:13:05.713Z"
   },
   {
    "duration": 253,
    "start_time": "2022-06-19T16:13:48.500Z"
   },
   {
    "duration": 586,
    "start_time": "2022-06-19T16:14:08.225Z"
   },
   {
    "duration": 535,
    "start_time": "2022-06-19T16:14:42.680Z"
   },
   {
    "duration": 519,
    "start_time": "2022-06-19T16:16:38.788Z"
   },
   {
    "duration": 20,
    "start_time": "2022-06-19T16:17:40.998Z"
   },
   {
    "duration": 371,
    "start_time": "2022-06-19T16:17:54.791Z"
   },
   {
    "duration": 287,
    "start_time": "2022-06-19T16:23:52.751Z"
   },
   {
    "duration": 8,
    "start_time": "2022-06-19T16:26:54.559Z"
   },
   {
    "duration": 16,
    "start_time": "2022-06-19T16:27:02.739Z"
   },
   {
    "duration": 439,
    "start_time": "2022-06-19T16:33:36.642Z"
   },
   {
    "duration": 315,
    "start_time": "2022-06-19T16:34:39.529Z"
   },
   {
    "duration": 5,
    "start_time": "2022-06-19T16:36:04.561Z"
   },
   {
    "duration": 119,
    "start_time": "2022-06-19T16:36:04.568Z"
   },
   {
    "duration": 6,
    "start_time": "2022-06-19T16:36:04.690Z"
   },
   {
    "duration": 31,
    "start_time": "2022-06-19T16:36:04.698Z"
   },
   {
    "duration": 49,
    "start_time": "2022-06-19T16:36:04.734Z"
   },
   {
    "duration": 28,
    "start_time": "2022-06-19T16:36:04.785Z"
   },
   {
    "duration": 10,
    "start_time": "2022-06-19T16:36:04.815Z"
   },
   {
    "duration": 39,
    "start_time": "2022-06-19T16:36:04.832Z"
   },
   {
    "duration": 17,
    "start_time": "2022-06-19T16:36:04.873Z"
   },
   {
    "duration": 18,
    "start_time": "2022-06-19T16:36:04.892Z"
   },
   {
    "duration": 32,
    "start_time": "2022-06-19T16:36:04.913Z"
   },
   {
    "duration": 43,
    "start_time": "2022-06-19T16:36:04.947Z"
   },
   {
    "duration": 5,
    "start_time": "2022-06-19T16:36:04.992Z"
   },
   {
    "duration": 42,
    "start_time": "2022-06-19T16:36:04.999Z"
   },
   {
    "duration": 17,
    "start_time": "2022-06-19T16:36:05.043Z"
   },
   {
    "duration": 220,
    "start_time": "2022-06-19T16:36:05.062Z"
   },
   {
    "duration": 14,
    "start_time": "2022-06-19T16:36:05.285Z"
   },
   {
    "duration": 11,
    "start_time": "2022-06-19T16:36:05.300Z"
   },
   {
    "duration": 520,
    "start_time": "2022-06-19T16:36:05.326Z"
   },
   {
    "duration": 21,
    "start_time": "2022-06-19T16:36:05.853Z"
   },
   {
    "duration": 15,
    "start_time": "2022-06-19T16:36:05.876Z"
   },
   {
    "duration": 13,
    "start_time": "2022-06-19T16:36:05.893Z"
   },
   {
    "duration": 7,
    "start_time": "2022-06-19T16:36:05.908Z"
   },
   {
    "duration": 511,
    "start_time": "2022-06-19T16:36:05.927Z"
   },
   {
    "duration": 25,
    "start_time": "2022-06-19T16:36:06.440Z"
   },
   {
    "duration": 245,
    "start_time": "2022-06-19T16:36:06.467Z"
   },
   {
    "duration": 339,
    "start_time": "2022-06-19T16:36:06.713Z"
   },
   {
    "duration": 15,
    "start_time": "2022-06-19T16:37:31.458Z"
   },
   {
    "duration": 351,
    "start_time": "2022-06-19T16:37:45.848Z"
   },
   {
    "duration": 192,
    "start_time": "2022-06-19T16:38:30.960Z"
   },
   {
    "duration": 312,
    "start_time": "2022-06-19T16:38:46.259Z"
   },
   {
    "duration": 21,
    "start_time": "2022-06-19T16:41:00.381Z"
   },
   {
    "duration": 18,
    "start_time": "2022-06-19T16:41:14.978Z"
   },
   {
    "duration": 310,
    "start_time": "2022-06-19T17:16:42.788Z"
   },
   {
    "duration": 280,
    "start_time": "2022-06-19T17:17:28.324Z"
   },
   {
    "duration": 155,
    "start_time": "2022-06-19T17:18:13.360Z"
   },
   {
    "duration": 30,
    "start_time": "2022-06-19T17:18:21.646Z"
   },
   {
    "duration": 333,
    "start_time": "2022-06-19T17:18:31.144Z"
   },
   {
    "duration": 528,
    "start_time": "2022-06-19T17:19:24.141Z"
   },
   {
    "duration": 327,
    "start_time": "2022-06-19T17:27:48.408Z"
   },
   {
    "duration": 329,
    "start_time": "2022-06-19T17:28:11.731Z"
   },
   {
    "duration": 27,
    "start_time": "2022-06-19T17:33:45.783Z"
   },
   {
    "duration": 404,
    "start_time": "2022-06-19T17:34:44.195Z"
   },
   {
    "duration": 361,
    "start_time": "2022-06-19T17:34:45.990Z"
   },
   {
    "duration": 25,
    "start_time": "2022-06-19T17:36:17.682Z"
   },
   {
    "duration": 26,
    "start_time": "2022-06-19T17:36:20.748Z"
   },
   {
    "duration": 8,
    "start_time": "2022-06-19T17:36:25.552Z"
   },
   {
    "duration": 101,
    "start_time": "2022-06-19T17:36:25.562Z"
   },
   {
    "duration": 5,
    "start_time": "2022-06-19T17:36:25.665Z"
   },
   {
    "duration": 28,
    "start_time": "2022-06-19T17:36:25.674Z"
   },
   {
    "duration": 40,
    "start_time": "2022-06-19T17:36:25.704Z"
   },
   {
    "duration": 49,
    "start_time": "2022-06-19T17:36:25.746Z"
   },
   {
    "duration": 14,
    "start_time": "2022-06-19T17:36:25.797Z"
   },
   {
    "duration": 22,
    "start_time": "2022-06-19T17:36:25.813Z"
   },
   {
    "duration": 28,
    "start_time": "2022-06-19T17:36:25.838Z"
   },
   {
    "duration": 19,
    "start_time": "2022-06-19T17:36:25.871Z"
   },
   {
    "duration": 32,
    "start_time": "2022-06-19T17:36:25.893Z"
   },
   {
    "duration": 21,
    "start_time": "2022-06-19T17:36:25.927Z"
   },
   {
    "duration": 11,
    "start_time": "2022-06-19T17:36:25.950Z"
   },
   {
    "duration": 50,
    "start_time": "2022-06-19T17:36:25.964Z"
   },
   {
    "duration": 17,
    "start_time": "2022-06-19T17:36:26.025Z"
   },
   {
    "duration": 312,
    "start_time": "2022-06-19T17:36:26.045Z"
   },
   {
    "duration": 16,
    "start_time": "2022-06-19T17:36:26.360Z"
   },
   {
    "duration": 13,
    "start_time": "2022-06-19T17:36:26.379Z"
   },
   {
    "duration": 666,
    "start_time": "2022-06-19T17:36:26.394Z"
   },
   {
    "duration": 20,
    "start_time": "2022-06-19T17:36:27.065Z"
   },
   {
    "duration": 10,
    "start_time": "2022-06-19T17:36:27.088Z"
   },
   {
    "duration": 34,
    "start_time": "2022-06-19T17:36:27.100Z"
   },
   {
    "duration": 11,
    "start_time": "2022-06-19T17:36:27.136Z"
   },
   {
    "duration": 501,
    "start_time": "2022-06-19T17:36:27.150Z"
   },
   {
    "duration": 25,
    "start_time": "2022-06-19T17:36:27.653Z"
   },
   {
    "duration": 293,
    "start_time": "2022-06-19T17:36:27.681Z"
   },
   {
    "duration": 332,
    "start_time": "2022-06-19T17:36:27.977Z"
   },
   {
    "duration": 27,
    "start_time": "2022-06-19T17:36:28.313Z"
   },
   {
    "duration": 503,
    "start_time": "2022-06-19T17:36:28.342Z"
   },
   {
    "duration": 424,
    "start_time": "2022-06-19T17:36:28.847Z"
   },
   {
    "duration": 23,
    "start_time": "2022-06-19T17:36:29.274Z"
   },
   {
    "duration": 16,
    "start_time": "2022-06-19T17:48:09.641Z"
   },
   {
    "duration": 14,
    "start_time": "2022-06-19T17:49:07.837Z"
   },
   {
    "duration": 12,
    "start_time": "2022-06-19T17:49:26.592Z"
   },
   {
    "duration": 12,
    "start_time": "2022-06-19T17:49:41.377Z"
   },
   {
    "duration": 30,
    "start_time": "2022-06-19T17:49:59.909Z"
   },
   {
    "duration": 347,
    "start_time": "2022-06-19T17:50:52.160Z"
   },
   {
    "duration": 320,
    "start_time": "2022-06-19T17:52:06.311Z"
   },
   {
    "duration": 254,
    "start_time": "2022-06-19T17:52:38.812Z"
   },
   {
    "duration": 41,
    "start_time": "2022-06-19T17:53:58.470Z"
   },
   {
    "duration": 30,
    "start_time": "2022-06-19T17:54:13.512Z"
   },
   {
    "duration": 36,
    "start_time": "2022-06-19T17:54:33.328Z"
   },
   {
    "duration": 197,
    "start_time": "2022-06-19T17:54:40.463Z"
   },
   {
    "duration": 29,
    "start_time": "2022-06-19T17:55:38.667Z"
   },
   {
    "duration": 18,
    "start_time": "2022-06-19T17:59:49.283Z"
   },
   {
    "duration": 18,
    "start_time": "2022-06-19T17:59:53.788Z"
   },
   {
    "duration": 18,
    "start_time": "2022-06-19T18:01:21.587Z"
   },
   {
    "duration": 30,
    "start_time": "2022-06-19T18:01:44.389Z"
   },
   {
    "duration": 21,
    "start_time": "2022-06-19T18:01:58.658Z"
   },
   {
    "duration": 14,
    "start_time": "2022-06-19T18:08:07.426Z"
   },
   {
    "duration": 14,
    "start_time": "2022-06-19T18:08:28.880Z"
   },
   {
    "duration": 28,
    "start_time": "2022-06-19T18:09:53.788Z"
   },
   {
    "duration": 33,
    "start_time": "2022-06-19T18:12:21.372Z"
   },
   {
    "duration": 18,
    "start_time": "2022-06-19T18:14:42.115Z"
   },
   {
    "duration": 14,
    "start_time": "2022-06-19T18:29:09.450Z"
   },
   {
    "duration": 6,
    "start_time": "2022-06-19T18:29:41.173Z"
   },
   {
    "duration": 5,
    "start_time": "2022-06-19T18:29:52.604Z"
   },
   {
    "duration": 99,
    "start_time": "2022-06-19T18:29:52.611Z"
   },
   {
    "duration": 13,
    "start_time": "2022-06-19T18:29:52.713Z"
   },
   {
    "duration": 7,
    "start_time": "2022-06-19T18:29:52.728Z"
   },
   {
    "duration": 17,
    "start_time": "2022-06-19T18:29:52.737Z"
   },
   {
    "duration": 35,
    "start_time": "2022-06-19T18:29:52.756Z"
   },
   {
    "duration": 9,
    "start_time": "2022-06-19T18:29:52.793Z"
   },
   {
    "duration": 23,
    "start_time": "2022-06-19T18:29:52.804Z"
   },
   {
    "duration": 18,
    "start_time": "2022-06-19T18:29:52.830Z"
   },
   {
    "duration": 20,
    "start_time": "2022-06-19T18:29:52.850Z"
   },
   {
    "duration": 75,
    "start_time": "2022-06-19T18:29:52.874Z"
   },
   {
    "duration": 26,
    "start_time": "2022-06-19T18:29:52.953Z"
   },
   {
    "duration": 8,
    "start_time": "2022-06-19T18:29:52.981Z"
   },
   {
    "duration": 64,
    "start_time": "2022-06-19T18:29:52.991Z"
   },
   {
    "duration": 15,
    "start_time": "2022-06-19T18:29:53.057Z"
   },
   {
    "duration": 238,
    "start_time": "2022-06-19T18:29:53.073Z"
   },
   {
    "duration": 22,
    "start_time": "2022-06-19T18:29:53.312Z"
   },
   {
    "duration": 7,
    "start_time": "2022-06-19T18:29:53.336Z"
   },
   {
    "duration": 547,
    "start_time": "2022-06-19T18:29:53.345Z"
   },
   {
    "duration": 31,
    "start_time": "2022-06-19T18:29:53.895Z"
   },
   {
    "duration": 10,
    "start_time": "2022-06-19T18:29:53.928Z"
   },
   {
    "duration": 15,
    "start_time": "2022-06-19T18:29:53.940Z"
   },
   {
    "duration": 18,
    "start_time": "2022-06-19T18:29:53.957Z"
   },
   {
    "duration": 568,
    "start_time": "2022-06-19T18:29:53.977Z"
   },
   {
    "duration": 35,
    "start_time": "2022-06-19T18:29:54.547Z"
   },
   {
    "duration": 318,
    "start_time": "2022-06-19T18:29:54.585Z"
   },
   {
    "duration": 288,
    "start_time": "2022-06-19T18:29:54.905Z"
   },
   {
    "duration": 13,
    "start_time": "2022-06-19T18:29:55.195Z"
   },
   {
    "duration": 515,
    "start_time": "2022-06-19T18:29:55.213Z"
   },
   {
    "duration": 464,
    "start_time": "2022-06-19T18:29:55.730Z"
   },
   {
    "duration": 33,
    "start_time": "2022-06-19T18:29:56.197Z"
   },
   {
    "duration": 27,
    "start_time": "2022-06-19T18:29:56.233Z"
   },
   {
    "duration": 65,
    "start_time": "2022-06-19T18:29:56.262Z"
   },
   {
    "duration": 27,
    "start_time": "2022-06-19T18:29:56.329Z"
   },
   {
    "duration": 34,
    "start_time": "2022-06-19T18:29:56.359Z"
   },
   {
    "duration": 53,
    "start_time": "2022-06-19T18:29:56.395Z"
   },
   {
    "duration": 16,
    "start_time": "2022-06-19T18:29:56.450Z"
   },
   {
    "duration": 12,
    "start_time": "2022-06-19T18:29:56.468Z"
   },
   {
    "duration": 16,
    "start_time": "2022-06-19T18:31:01.377Z"
   },
   {
    "duration": 16,
    "start_time": "2022-06-19T18:31:19.420Z"
   },
   {
    "duration": 19,
    "start_time": "2022-06-19T18:33:21.899Z"
   },
   {
    "duration": 21,
    "start_time": "2022-06-19T18:35:52.372Z"
   },
   {
    "duration": 4,
    "start_time": "2022-06-19T18:36:10.311Z"
   },
   {
    "duration": 91,
    "start_time": "2022-06-19T18:36:10.318Z"
   },
   {
    "duration": 6,
    "start_time": "2022-06-19T18:36:10.411Z"
   },
   {
    "duration": 6,
    "start_time": "2022-06-19T18:36:10.425Z"
   },
   {
    "duration": 19,
    "start_time": "2022-06-19T18:36:10.432Z"
   },
   {
    "duration": 27,
    "start_time": "2022-06-19T18:36:10.453Z"
   },
   {
    "duration": 12,
    "start_time": "2022-06-19T18:36:10.481Z"
   },
   {
    "duration": 37,
    "start_time": "2022-06-19T18:36:10.494Z"
   },
   {
    "duration": 29,
    "start_time": "2022-06-19T18:36:10.535Z"
   },
   {
    "duration": 19,
    "start_time": "2022-06-19T18:36:10.566Z"
   },
   {
    "duration": 52,
    "start_time": "2022-06-19T18:36:10.587Z"
   },
   {
    "duration": 20,
    "start_time": "2022-06-19T18:36:10.640Z"
   },
   {
    "duration": 6,
    "start_time": "2022-06-19T18:36:10.662Z"
   },
   {
    "duration": 61,
    "start_time": "2022-06-19T18:36:10.670Z"
   },
   {
    "duration": 20,
    "start_time": "2022-06-19T18:36:10.734Z"
   },
   {
    "duration": 205,
    "start_time": "2022-06-19T18:36:10.757Z"
   },
   {
    "duration": 14,
    "start_time": "2022-06-19T18:36:10.964Z"
   },
   {
    "duration": 6,
    "start_time": "2022-06-19T18:36:10.979Z"
   },
   {
    "duration": 511,
    "start_time": "2022-06-19T18:36:10.987Z"
   },
   {
    "duration": 35,
    "start_time": "2022-06-19T18:36:11.499Z"
   },
   {
    "duration": 12,
    "start_time": "2022-06-19T18:36:11.536Z"
   },
   {
    "duration": 15,
    "start_time": "2022-06-19T18:36:11.549Z"
   },
   {
    "duration": 15,
    "start_time": "2022-06-19T18:36:11.565Z"
   },
   {
    "duration": 453,
    "start_time": "2022-06-19T18:36:11.584Z"
   },
   {
    "duration": 30,
    "start_time": "2022-06-19T18:36:12.039Z"
   },
   {
    "duration": 251,
    "start_time": "2022-06-19T18:36:12.072Z"
   },
   {
    "duration": 261,
    "start_time": "2022-06-19T18:36:12.327Z"
   },
   {
    "duration": 11,
    "start_time": "2022-06-19T18:36:12.590Z"
   },
   {
    "duration": 484,
    "start_time": "2022-06-19T18:36:12.602Z"
   },
   {
    "duration": 400,
    "start_time": "2022-06-19T18:36:13.088Z"
   },
   {
    "duration": 20,
    "start_time": "2022-06-19T18:36:13.490Z"
   },
   {
    "duration": 26,
    "start_time": "2022-06-19T18:36:13.512Z"
   },
   {
    "duration": 28,
    "start_time": "2022-06-19T18:36:13.540Z"
   },
   {
    "duration": 21,
    "start_time": "2022-06-19T18:36:13.570Z"
   },
   {
    "duration": 55,
    "start_time": "2022-06-19T18:36:13.593Z"
   },
   {
    "duration": 13,
    "start_time": "2022-06-19T18:36:13.650Z"
   },
   {
    "duration": 16,
    "start_time": "2022-06-19T18:36:13.665Z"
   },
   {
    "duration": 17,
    "start_time": "2022-06-19T18:42:50.054Z"
   },
   {
    "duration": 18,
    "start_time": "2022-06-19T18:47:42.545Z"
   },
   {
    "duration": 16,
    "start_time": "2022-06-19T18:51:42.126Z"
   },
   {
    "duration": 4,
    "start_time": "2022-06-19T19:17:25.717Z"
   },
   {
    "duration": 136,
    "start_time": "2022-06-19T19:17:25.723Z"
   },
   {
    "duration": 5,
    "start_time": "2022-06-19T19:17:25.861Z"
   },
   {
    "duration": 7,
    "start_time": "2022-06-19T19:17:25.868Z"
   },
   {
    "duration": 21,
    "start_time": "2022-06-19T19:17:25.878Z"
   },
   {
    "duration": 45,
    "start_time": "2022-06-19T19:17:25.901Z"
   },
   {
    "duration": 11,
    "start_time": "2022-06-19T19:17:25.948Z"
   },
   {
    "duration": 48,
    "start_time": "2022-06-19T19:17:25.961Z"
   },
   {
    "duration": 15,
    "start_time": "2022-06-19T19:17:26.011Z"
   },
   {
    "duration": 18,
    "start_time": "2022-06-19T19:17:26.028Z"
   },
   {
    "duration": 37,
    "start_time": "2022-06-19T19:17:26.051Z"
   },
   {
    "duration": 45,
    "start_time": "2022-06-19T19:17:26.090Z"
   },
   {
    "duration": 6,
    "start_time": "2022-06-19T19:17:26.136Z"
   },
   {
    "duration": 53,
    "start_time": "2022-06-19T19:17:26.144Z"
   },
   {
    "duration": 37,
    "start_time": "2022-06-19T19:17:26.199Z"
   },
   {
    "duration": 246,
    "start_time": "2022-06-19T19:17:26.238Z"
   },
   {
    "duration": 20,
    "start_time": "2022-06-19T19:17:26.487Z"
   },
   {
    "duration": 22,
    "start_time": "2022-06-19T19:17:26.509Z"
   },
   {
    "duration": 496,
    "start_time": "2022-06-19T19:17:26.533Z"
   },
   {
    "duration": 19,
    "start_time": "2022-06-19T19:17:27.030Z"
   },
   {
    "duration": 9,
    "start_time": "2022-06-19T19:17:27.050Z"
   },
   {
    "duration": 14,
    "start_time": "2022-06-19T19:17:27.061Z"
   },
   {
    "duration": 9,
    "start_time": "2022-06-19T19:17:27.077Z"
   },
   {
    "duration": 473,
    "start_time": "2022-06-19T19:17:27.087Z"
   },
   {
    "duration": 23,
    "start_time": "2022-06-19T19:17:27.562Z"
   },
   {
    "duration": 252,
    "start_time": "2022-06-19T19:17:27.587Z"
   },
   {
    "duration": 253,
    "start_time": "2022-06-19T19:17:27.841Z"
   },
   {
    "duration": 10,
    "start_time": "2022-06-19T19:17:28.096Z"
   },
   {
    "duration": 473,
    "start_time": "2022-06-19T19:17:28.126Z"
   },
   {
    "duration": 321,
    "start_time": "2022-06-19T19:17:28.601Z"
   },
   {
    "duration": 25,
    "start_time": "2022-06-19T19:17:28.925Z"
   },
   {
    "duration": 21,
    "start_time": "2022-06-19T19:17:28.953Z"
   },
   {
    "duration": 62,
    "start_time": "2022-06-19T19:17:28.976Z"
   },
   {
    "duration": 29,
    "start_time": "2022-06-19T19:17:29.040Z"
   },
   {
    "duration": 61,
    "start_time": "2022-06-19T19:17:29.071Z"
   },
   {
    "duration": 20,
    "start_time": "2022-06-19T19:17:29.135Z"
   },
   {
    "duration": 20,
    "start_time": "2022-06-19T19:17:29.158Z"
   },
   {
    "duration": 46,
    "start_time": "2022-06-19T19:17:29.180Z"
   },
   {
    "duration": 45,
    "start_time": "2022-06-21T03:45:13.111Z"
   },
   {
    "duration": 1235,
    "start_time": "2022-06-21T03:45:21.287Z"
   },
   {
    "duration": 126,
    "start_time": "2022-06-21T03:45:22.525Z"
   },
   {
    "duration": 4,
    "start_time": "2022-06-21T03:45:22.652Z"
   },
   {
    "duration": 8,
    "start_time": "2022-06-21T03:45:22.657Z"
   },
   {
    "duration": 14,
    "start_time": "2022-06-21T03:45:22.667Z"
   },
   {
    "duration": 22,
    "start_time": "2022-06-21T03:45:22.683Z"
   },
   {
    "duration": 26,
    "start_time": "2022-06-21T03:45:22.706Z"
   },
   {
    "duration": 9,
    "start_time": "2022-06-21T03:45:22.734Z"
   },
   {
    "duration": 11,
    "start_time": "2022-06-21T03:45:22.744Z"
   },
   {
    "duration": 10,
    "start_time": "2022-06-21T03:45:22.757Z"
   },
   {
    "duration": 21,
    "start_time": "2022-06-21T03:45:22.768Z"
   },
   {
    "duration": 45,
    "start_time": "2022-06-21T03:45:22.790Z"
   },
   {
    "duration": 5,
    "start_time": "2022-06-21T03:45:22.836Z"
   },
   {
    "duration": 27,
    "start_time": "2022-06-21T03:45:22.844Z"
   },
   {
    "duration": 9,
    "start_time": "2022-06-21T03:45:22.873Z"
   },
   {
    "duration": 207,
    "start_time": "2022-06-21T03:45:22.884Z"
   },
   {
    "duration": 11,
    "start_time": "2022-06-21T03:45:23.093Z"
   },
   {
    "duration": 5,
    "start_time": "2022-06-21T03:45:23.105Z"
   },
   {
    "duration": 448,
    "start_time": "2022-06-21T03:45:23.111Z"
   },
   {
    "duration": 17,
    "start_time": "2022-06-21T03:45:23.561Z"
   },
   {
    "duration": 8,
    "start_time": "2022-06-21T03:45:23.579Z"
   },
   {
    "duration": 12,
    "start_time": "2022-06-21T03:45:23.589Z"
   },
   {
    "duration": 6,
    "start_time": "2022-06-21T03:45:23.602Z"
   },
   {
    "duration": 82,
    "start_time": "2022-06-21T03:45:23.610Z"
   },
   {
    "duration": 0,
    "start_time": "2022-06-21T03:45:23.693Z"
   },
   {
    "duration": 0,
    "start_time": "2022-06-21T03:45:23.695Z"
   },
   {
    "duration": 0,
    "start_time": "2022-06-21T03:45:23.696Z"
   },
   {
    "duration": 0,
    "start_time": "2022-06-21T03:45:23.697Z"
   },
   {
    "duration": 0,
    "start_time": "2022-06-21T03:45:23.698Z"
   },
   {
    "duration": 0,
    "start_time": "2022-06-21T03:45:23.699Z"
   },
   {
    "duration": 0,
    "start_time": "2022-06-21T03:45:23.700Z"
   },
   {
    "duration": 0,
    "start_time": "2022-06-21T03:45:23.701Z"
   },
   {
    "duration": 0,
    "start_time": "2022-06-21T03:45:23.702Z"
   },
   {
    "duration": 0,
    "start_time": "2022-06-21T03:45:23.703Z"
   },
   {
    "duration": 0,
    "start_time": "2022-06-21T03:45:23.704Z"
   },
   {
    "duration": 0,
    "start_time": "2022-06-21T03:45:23.705Z"
   },
   {
    "duration": 0,
    "start_time": "2022-06-21T03:45:23.727Z"
   },
   {
    "duration": 0,
    "start_time": "2022-06-21T03:45:23.728Z"
   },
   {
    "duration": 365,
    "start_time": "2022-06-21T03:45:40.777Z"
   },
   {
    "duration": 9,
    "start_time": "2022-06-21T03:46:00.417Z"
   },
   {
    "duration": 3,
    "start_time": "2022-06-21T03:46:04.141Z"
   },
   {
    "duration": 85,
    "start_time": "2022-06-21T03:46:04.146Z"
   },
   {
    "duration": 3,
    "start_time": "2022-06-21T03:46:04.233Z"
   },
   {
    "duration": 21,
    "start_time": "2022-06-21T03:46:04.238Z"
   },
   {
    "duration": 15,
    "start_time": "2022-06-21T03:46:04.261Z"
   },
   {
    "duration": 22,
    "start_time": "2022-06-21T03:46:04.278Z"
   },
   {
    "duration": 10,
    "start_time": "2022-06-21T03:46:04.302Z"
   },
   {
    "duration": 15,
    "start_time": "2022-06-21T03:46:04.314Z"
   },
   {
    "duration": 13,
    "start_time": "2022-06-21T03:46:04.331Z"
   },
   {
    "duration": 11,
    "start_time": "2022-06-21T03:46:04.346Z"
   },
   {
    "duration": 23,
    "start_time": "2022-06-21T03:46:04.360Z"
   },
   {
    "duration": 50,
    "start_time": "2022-06-21T03:46:04.384Z"
   },
   {
    "duration": 6,
    "start_time": "2022-06-21T03:46:04.435Z"
   },
   {
    "duration": 30,
    "start_time": "2022-06-21T03:46:04.443Z"
   },
   {
    "duration": 11,
    "start_time": "2022-06-21T03:46:04.475Z"
   },
   {
    "duration": 212,
    "start_time": "2022-06-21T03:46:04.488Z"
   },
   {
    "duration": 13,
    "start_time": "2022-06-21T03:46:04.702Z"
   },
   {
    "duration": 6,
    "start_time": "2022-06-21T03:46:04.727Z"
   },
   {
    "duration": 496,
    "start_time": "2022-06-21T03:46:04.735Z"
   },
   {
    "duration": 18,
    "start_time": "2022-06-21T03:46:05.233Z"
   },
   {
    "duration": 24,
    "start_time": "2022-06-21T03:46:05.253Z"
   },
   {
    "duration": 12,
    "start_time": "2022-06-21T03:46:05.278Z"
   },
   {
    "duration": 6,
    "start_time": "2022-06-21T03:46:05.291Z"
   },
   {
    "duration": 401,
    "start_time": "2022-06-21T03:46:05.298Z"
   },
   {
    "duration": 27,
    "start_time": "2022-06-21T03:46:05.701Z"
   },
   {
    "duration": 212,
    "start_time": "2022-06-21T03:46:05.730Z"
   },
   {
    "duration": 226,
    "start_time": "2022-06-21T03:46:05.944Z"
   },
   {
    "duration": 12,
    "start_time": "2022-06-21T03:46:06.172Z"
   },
   {
    "duration": 329,
    "start_time": "2022-06-21T03:46:06.188Z"
   },
   {
    "duration": 369,
    "start_time": "2022-06-21T03:46:06.519Z"
   },
   {
    "duration": 17,
    "start_time": "2022-06-21T03:46:06.890Z"
   },
   {
    "duration": 31,
    "start_time": "2022-06-21T03:46:06.909Z"
   },
   {
    "duration": 25,
    "start_time": "2022-06-21T03:46:06.942Z"
   },
   {
    "duration": 27,
    "start_time": "2022-06-21T03:46:06.969Z"
   },
   {
    "duration": 20,
    "start_time": "2022-06-21T03:46:06.997Z"
   },
   {
    "duration": 11,
    "start_time": "2022-06-21T03:46:07.028Z"
   },
   {
    "duration": 20,
    "start_time": "2022-06-21T03:46:07.040Z"
   },
   {
    "duration": 24,
    "start_time": "2022-06-21T03:46:07.061Z"
   },
   {
    "duration": 67,
    "start_time": "2022-06-21T08:10:52.005Z"
   },
   {
    "duration": 68,
    "start_time": "2022-06-21T08:16:48.212Z"
   },
   {
    "duration": 1314,
    "start_time": "2022-06-21T08:16:51.853Z"
   },
   {
    "duration": 168,
    "start_time": "2022-06-21T08:16:53.169Z"
   },
   {
    "duration": 6,
    "start_time": "2022-06-21T08:16:53.341Z"
   },
   {
    "duration": 10,
    "start_time": "2022-06-21T08:16:53.349Z"
   },
   {
    "duration": 21,
    "start_time": "2022-06-21T08:16:53.361Z"
   },
   {
    "duration": 29,
    "start_time": "2022-06-21T08:16:53.383Z"
   },
   {
    "duration": 25,
    "start_time": "2022-06-21T08:16:53.414Z"
   },
   {
    "duration": 7,
    "start_time": "2022-06-21T08:16:53.444Z"
   },
   {
    "duration": 12,
    "start_time": "2022-06-21T08:16:53.453Z"
   },
   {
    "duration": 10,
    "start_time": "2022-06-21T08:16:53.468Z"
   },
   {
    "duration": 20,
    "start_time": "2022-06-21T08:16:53.479Z"
   },
   {
    "duration": 24,
    "start_time": "2022-06-21T08:16:53.527Z"
   },
   {
    "duration": 6,
    "start_time": "2022-06-21T08:16:53.553Z"
   },
   {
    "duration": 27,
    "start_time": "2022-06-21T08:16:53.560Z"
   },
   {
    "duration": 9,
    "start_time": "2022-06-21T08:16:53.589Z"
   },
   {
    "duration": 205,
    "start_time": "2022-06-21T08:16:53.638Z"
   },
   {
    "duration": 22,
    "start_time": "2022-06-21T08:16:53.845Z"
   },
   {
    "duration": 11,
    "start_time": "2022-06-21T08:16:53.868Z"
   },
   {
    "duration": 690,
    "start_time": "2022-06-21T08:16:53.881Z"
   },
   {
    "duration": 17,
    "start_time": "2022-06-21T08:16:54.572Z"
   },
   {
    "duration": 27,
    "start_time": "2022-06-21T08:16:54.591Z"
   },
   {
    "duration": 51,
    "start_time": "2022-06-21T08:16:54.621Z"
   },
   {
    "duration": 11,
    "start_time": "2022-06-21T08:16:54.674Z"
   },
   {
    "duration": 465,
    "start_time": "2022-06-21T08:16:54.686Z"
   },
   {
    "duration": 29,
    "start_time": "2022-06-21T08:16:55.153Z"
   },
   {
    "duration": 387,
    "start_time": "2022-06-21T08:16:55.184Z"
   },
   {
    "duration": 273,
    "start_time": "2022-06-21T08:16:55.573Z"
   },
   {
    "duration": 9,
    "start_time": "2022-06-21T08:16:55.850Z"
   },
   {
    "duration": 323,
    "start_time": "2022-06-21T08:16:55.862Z"
   },
   {
    "duration": 377,
    "start_time": "2022-06-21T08:16:56.187Z"
   },
   {
    "duration": 24,
    "start_time": "2022-06-21T08:16:56.567Z"
   },
   {
    "duration": 70,
    "start_time": "2022-06-21T08:16:56.593Z"
   },
   {
    "duration": 42,
    "start_time": "2022-06-21T08:16:56.664Z"
   },
   {
    "duration": 59,
    "start_time": "2022-06-21T08:16:56.708Z"
   },
   {
    "duration": 60,
    "start_time": "2022-06-21T08:16:56.770Z"
   },
   {
    "duration": 16,
    "start_time": "2022-06-21T08:16:56.841Z"
   },
   {
    "duration": 21,
    "start_time": "2022-06-21T08:16:56.859Z"
   },
   {
    "duration": 36,
    "start_time": "2022-06-21T08:16:56.882Z"
   },
   {
    "duration": 13,
    "start_time": "2022-06-21T08:21:57.519Z"
   },
   {
    "duration": 6,
    "start_time": "2022-06-21T08:21:58.352Z"
   },
   {
    "duration": 436,
    "start_time": "2022-06-21T08:21:58.936Z"
   },
   {
    "duration": 442,
    "start_time": "2022-06-21T08:22:21.367Z"
   },
   {
    "duration": 576,
    "start_time": "2022-06-21T08:25:03.315Z"
   },
   {
    "duration": 13,
    "start_time": "2022-06-21T08:25:26.101Z"
   },
   {
    "duration": 7,
    "start_time": "2022-06-21T08:25:27.105Z"
   },
   {
    "duration": 853,
    "start_time": "2022-06-21T08:25:29.719Z"
   },
   {
    "duration": 13,
    "start_time": "2022-06-21T08:26:09.457Z"
   },
   {
    "duration": 6,
    "start_time": "2022-06-21T08:26:11.485Z"
   },
   {
    "duration": 490,
    "start_time": "2022-06-21T08:26:17.985Z"
   },
   {
    "duration": 96,
    "start_time": "2022-06-21T08:30:41.676Z"
   },
   {
    "duration": 22,
    "start_time": "2022-06-21T08:33:32.638Z"
   },
   {
    "duration": 53,
    "start_time": "2022-06-21T08:33:48.579Z"
   },
   {
    "duration": 18,
    "start_time": "2022-06-21T09:03:27.826Z"
   },
   {
    "duration": 83,
    "start_time": "2022-06-21T09:35:12.404Z"
   },
   {
    "duration": 526,
    "start_time": "2022-06-21T09:35:29.648Z"
   },
   {
    "duration": 14,
    "start_time": "2022-06-21T09:36:39.339Z"
   },
   {
    "duration": 5,
    "start_time": "2022-06-21T09:36:40.651Z"
   },
   {
    "duration": 527,
    "start_time": "2022-06-21T09:37:27.791Z"
   },
   {
    "duration": 425,
    "start_time": "2022-06-21T09:38:10.817Z"
   },
   {
    "duration": 443,
    "start_time": "2022-06-21T09:54:34.131Z"
   },
   {
    "duration": 9,
    "start_time": "2022-06-21T09:55:03.510Z"
   },
   {
    "duration": 7,
    "start_time": "2022-06-21T09:55:11.500Z"
   },
   {
    "duration": 21,
    "start_time": "2022-06-21T09:55:24.985Z"
   },
   {
    "duration": 5,
    "start_time": "2022-06-21T10:06:29.350Z"
   },
   {
    "duration": 8,
    "start_time": "2022-06-21T10:07:27.592Z"
   },
   {
    "duration": 9,
    "start_time": "2022-06-21T10:07:52.198Z"
   },
   {
    "duration": 8,
    "start_time": "2022-06-21T10:08:57.919Z"
   },
   {
    "duration": 9,
    "start_time": "2022-06-21T10:09:15.490Z"
   },
   {
    "duration": 8,
    "start_time": "2022-06-21T10:10:00.527Z"
   },
   {
    "duration": 8,
    "start_time": "2022-06-21T10:10:14.110Z"
   },
   {
    "duration": 9,
    "start_time": "2022-06-21T10:14:33.995Z"
   },
   {
    "duration": 5,
    "start_time": "2022-06-21T10:14:39.629Z"
   },
   {
    "duration": 11,
    "start_time": "2022-06-21T10:14:40.220Z"
   },
   {
    "duration": 9,
    "start_time": "2022-06-21T10:15:30.776Z"
   },
   {
    "duration": 433,
    "start_time": "2022-06-21T10:17:00.275Z"
   },
   {
    "duration": 24,
    "start_time": "2022-06-21T10:17:17.839Z"
   },
   {
    "duration": 482,
    "start_time": "2022-06-21T10:23:08.217Z"
   },
   {
    "duration": 15,
    "start_time": "2022-06-21T10:23:30.989Z"
   },
   {
    "duration": 370,
    "start_time": "2022-06-21T10:23:39.450Z"
   },
   {
    "duration": 5,
    "start_time": "2022-06-21T10:27:33.481Z"
   },
   {
    "duration": 50,
    "start_time": "2022-06-21T10:28:44.408Z"
   },
   {
    "duration": 8,
    "start_time": "2022-06-21T10:28:48.896Z"
   },
   {
    "duration": 965,
    "start_time": "2022-06-21T10:30:45.166Z"
   },
   {
    "duration": 967,
    "start_time": "2022-06-21T10:31:47.961Z"
   },
   {
    "duration": 961,
    "start_time": "2022-06-21T10:33:09.561Z"
   },
   {
    "duration": 972,
    "start_time": "2022-06-21T10:33:24.203Z"
   },
   {
    "duration": 10,
    "start_time": "2022-06-21T10:33:55.167Z"
   },
   {
    "duration": 1131,
    "start_time": "2022-06-21T10:35:00.462Z"
   },
   {
    "duration": 30,
    "start_time": "2022-06-21T10:36:33.648Z"
   },
   {
    "duration": 28,
    "start_time": "2022-06-21T10:37:29.219Z"
   },
   {
    "duration": 394,
    "start_time": "2022-06-21T10:39:31.969Z"
   },
   {
    "duration": 11,
    "start_time": "2022-06-21T10:40:43.069Z"
   },
   {
    "duration": 429,
    "start_time": "2022-06-21T10:41:11.572Z"
   },
   {
    "duration": 26,
    "start_time": "2022-06-21T10:42:20.306Z"
   },
   {
    "duration": 14,
    "start_time": "2022-06-21T10:45:44.530Z"
   },
   {
    "duration": 154,
    "start_time": "2022-06-21T10:46:12.001Z"
   },
   {
    "duration": 8,
    "start_time": "2022-06-21T11:00:49.359Z"
   },
   {
    "duration": 18,
    "start_time": "2022-06-21T11:01:33.942Z"
   },
   {
    "duration": 7,
    "start_time": "2022-06-21T11:01:45.519Z"
   },
   {
    "duration": 19,
    "start_time": "2022-06-21T11:02:11.263Z"
   },
   {
    "duration": 6,
    "start_time": "2022-06-21T11:02:14.066Z"
   },
   {
    "duration": 19,
    "start_time": "2022-06-21T11:03:31.787Z"
   },
   {
    "duration": 100,
    "start_time": "2022-06-21T11:05:14.415Z"
   },
   {
    "duration": 19,
    "start_time": "2022-06-21T11:05:28.518Z"
   },
   {
    "duration": 34,
    "start_time": "2022-06-21T11:06:37.153Z"
   },
   {
    "duration": 21,
    "start_time": "2022-06-21T11:06:55.898Z"
   },
   {
    "duration": 14,
    "start_time": "2022-06-21T11:09:03.808Z"
   },
   {
    "duration": 11,
    "start_time": "2022-06-21T11:09:06.853Z"
   },
   {
    "duration": 15,
    "start_time": "2022-06-21T11:09:10.669Z"
   },
   {
    "duration": 5,
    "start_time": "2022-06-21T11:09:18.164Z"
   },
   {
    "duration": 10,
    "start_time": "2022-06-21T11:09:46.349Z"
   },
   {
    "duration": 6,
    "start_time": "2022-06-21T11:09:49.775Z"
   },
   {
    "duration": 11,
    "start_time": "2022-06-21T11:11:15.759Z"
   },
   {
    "duration": 6,
    "start_time": "2022-06-21T11:11:24.455Z"
   },
   {
    "duration": 759,
    "start_time": "2022-06-21T11:11:30.351Z"
   },
   {
    "duration": 12,
    "start_time": "2022-06-21T11:11:59.626Z"
   },
   {
    "duration": 7,
    "start_time": "2022-06-21T11:12:00.309Z"
   },
   {
    "duration": 530,
    "start_time": "2022-06-21T11:12:00.854Z"
   },
   {
    "duration": 5,
    "start_time": "2022-06-21T11:12:01.674Z"
   },
   {
    "duration": 11,
    "start_time": "2022-06-21T11:13:54.285Z"
   },
   {
    "duration": 451,
    "start_time": "2022-06-21T11:14:05.125Z"
   },
   {
    "duration": 434,
    "start_time": "2022-06-21T11:14:20.461Z"
   },
   {
    "duration": 11,
    "start_time": "2022-06-21T11:14:50.042Z"
   },
   {
    "duration": 465,
    "start_time": "2022-06-21T11:14:54.712Z"
   },
   {
    "duration": 9,
    "start_time": "2022-06-21T11:20:48.322Z"
   },
   {
    "duration": 16,
    "start_time": "2022-06-21T11:21:56.974Z"
   },
   {
    "duration": 28,
    "start_time": "2022-06-21T11:31:44.711Z"
   },
   {
    "duration": 28,
    "start_time": "2022-06-21T11:32:25.856Z"
   },
   {
    "duration": 113,
    "start_time": "2022-06-21T11:33:11.270Z"
   },
   {
    "duration": 197,
    "start_time": "2022-06-21T11:33:35.758Z"
   },
   {
    "duration": 34,
    "start_time": "2022-06-21T11:34:04.931Z"
   },
   {
    "duration": 125,
    "start_time": "2022-06-21T11:34:21.421Z"
   },
   {
    "duration": 22,
    "start_time": "2022-06-21T11:36:04.003Z"
   },
   {
    "duration": 367,
    "start_time": "2022-06-21T11:38:06.471Z"
   },
   {
    "duration": 26,
    "start_time": "2022-06-21T11:39:37.322Z"
   },
   {
    "duration": 20,
    "start_time": "2022-06-21T11:39:40.551Z"
   },
   {
    "duration": 340,
    "start_time": "2022-06-21T11:45:35.627Z"
   },
   {
    "duration": 348,
    "start_time": "2022-06-21T11:47:09.067Z"
   },
   {
    "duration": 341,
    "start_time": "2022-06-21T11:51:33.327Z"
   },
   {
    "duration": 398,
    "start_time": "2022-06-21T11:51:42.231Z"
   },
   {
    "duration": 329,
    "start_time": "2022-06-21T11:51:50.631Z"
   },
   {
    "duration": 338,
    "start_time": "2022-06-21T11:51:57.175Z"
   },
   {
    "duration": 389,
    "start_time": "2022-06-21T11:52:03.925Z"
   },
   {
    "duration": 362,
    "start_time": "2022-06-21T11:52:17.276Z"
   },
   {
    "duration": 378,
    "start_time": "2022-06-21T11:52:33.205Z"
   },
   {
    "duration": 468,
    "start_time": "2022-06-21T11:52:43.409Z"
   },
   {
    "duration": 226,
    "start_time": "2022-06-21T11:55:47.979Z"
   },
   {
    "duration": 6,
    "start_time": "2022-06-21T12:29:23.022Z"
   },
   {
    "duration": 11,
    "start_time": "2022-06-21T12:31:45.274Z"
   },
   {
    "duration": 10,
    "start_time": "2022-06-21T12:32:49.570Z"
   },
   {
    "duration": 9,
    "start_time": "2022-06-21T12:32:53.986Z"
   },
   {
    "duration": 10,
    "start_time": "2022-06-21T12:33:13.306Z"
   },
   {
    "duration": 4,
    "start_time": "2022-06-21T12:33:16.518Z"
   },
   {
    "duration": 116,
    "start_time": "2022-06-21T12:33:16.525Z"
   },
   {
    "duration": 5,
    "start_time": "2022-06-21T12:33:16.642Z"
   },
   {
    "duration": 15,
    "start_time": "2022-06-21T12:33:16.649Z"
   },
   {
    "duration": 18,
    "start_time": "2022-06-21T12:33:16.666Z"
   },
   {
    "duration": 23,
    "start_time": "2022-06-21T12:33:16.686Z"
   },
   {
    "duration": 9,
    "start_time": "2022-06-21T12:33:16.710Z"
   },
   {
    "duration": 8,
    "start_time": "2022-06-21T12:33:16.729Z"
   },
   {
    "duration": 23,
    "start_time": "2022-06-21T12:33:16.744Z"
   },
   {
    "duration": 14,
    "start_time": "2022-06-21T12:33:16.770Z"
   },
   {
    "duration": 30,
    "start_time": "2022-06-21T12:33:16.786Z"
   },
   {
    "duration": 25,
    "start_time": "2022-06-21T12:33:16.818Z"
   },
   {
    "duration": 9,
    "start_time": "2022-06-21T12:33:16.844Z"
   },
   {
    "duration": 32,
    "start_time": "2022-06-21T12:33:16.855Z"
   },
   {
    "duration": 10,
    "start_time": "2022-06-21T12:33:16.889Z"
   },
   {
    "duration": 233,
    "start_time": "2022-06-21T12:33:16.901Z"
   },
   {
    "duration": 13,
    "start_time": "2022-06-21T12:33:17.138Z"
   },
   {
    "duration": 12,
    "start_time": "2022-06-21T12:33:17.153Z"
   },
   {
    "duration": 501,
    "start_time": "2022-06-21T12:33:17.167Z"
   },
   {
    "duration": 6,
    "start_time": "2022-06-21T12:33:17.670Z"
   },
   {
    "duration": 14,
    "start_time": "2022-06-21T12:33:17.677Z"
   },
   {
    "duration": 43,
    "start_time": "2022-06-21T12:33:17.693Z"
   },
   {
    "duration": 11,
    "start_time": "2022-06-21T12:33:17.742Z"
   },
   {
    "duration": 11,
    "start_time": "2022-06-21T12:33:17.755Z"
   },
   {
    "duration": 5,
    "start_time": "2022-06-21T12:33:17.768Z"
   },
   {
    "duration": 442,
    "start_time": "2022-06-21T12:33:17.775Z"
   },
   {
    "duration": 30,
    "start_time": "2022-06-21T12:33:18.220Z"
   },
   {
    "duration": 251,
    "start_time": "2022-06-21T12:33:18.255Z"
   },
   {
    "duration": 355,
    "start_time": "2022-06-21T12:33:18.508Z"
   },
   {
    "duration": 10,
    "start_time": "2022-06-21T12:33:18.864Z"
   },
   {
    "duration": 382,
    "start_time": "2022-06-21T12:33:18.876Z"
   },
   {
    "duration": 317,
    "start_time": "2022-06-21T12:33:19.260Z"
   },
   {
    "duration": 24,
    "start_time": "2022-06-21T12:33:19.579Z"
   },
   {
    "duration": 46,
    "start_time": "2022-06-21T12:33:19.605Z"
   },
   {
    "duration": 35,
    "start_time": "2022-06-21T12:33:19.655Z"
   },
   {
    "duration": 19,
    "start_time": "2022-06-21T12:33:19.691Z"
   },
   {
    "duration": 42,
    "start_time": "2022-06-21T12:33:19.712Z"
   },
   {
    "duration": 590,
    "start_time": "2022-06-21T12:33:19.756Z"
   },
   {
    "duration": 13,
    "start_time": "2022-06-21T12:33:20.348Z"
   },
   {
    "duration": 11,
    "start_time": "2022-06-21T12:33:20.362Z"
   },
   {
    "duration": 17,
    "start_time": "2022-06-21T12:33:20.375Z"
   },
   {
    "duration": 11,
    "start_time": "2022-06-21T12:33:35.614Z"
   },
   {
    "duration": 9,
    "start_time": "2022-06-21T12:33:38.367Z"
   },
   {
    "duration": 9,
    "start_time": "2022-06-21T12:34:08.916Z"
   },
   {
    "duration": 11,
    "start_time": "2022-06-21T12:34:11.268Z"
   },
   {
    "duration": 17,
    "start_time": "2022-06-21T12:34:55.679Z"
   },
   {
    "duration": 17,
    "start_time": "2022-06-21T12:35:06.575Z"
   },
   {
    "duration": 12,
    "start_time": "2022-06-21T12:36:17.843Z"
   },
   {
    "duration": 7,
    "start_time": "2022-06-21T12:36:51.434Z"
   },
   {
    "duration": 83,
    "start_time": "2022-06-21T12:36:51.443Z"
   },
   {
    "duration": 6,
    "start_time": "2022-06-21T12:36:51.528Z"
   },
   {
    "duration": 22,
    "start_time": "2022-06-21T12:36:51.535Z"
   },
   {
    "duration": 20,
    "start_time": "2022-06-21T12:36:51.559Z"
   },
   {
    "duration": 30,
    "start_time": "2022-06-21T12:36:51.580Z"
   },
   {
    "duration": 28,
    "start_time": "2022-06-21T12:36:51.613Z"
   },
   {
    "duration": 14,
    "start_time": "2022-06-21T12:36:51.642Z"
   },
   {
    "duration": 15,
    "start_time": "2022-06-21T12:36:51.658Z"
   },
   {
    "duration": 17,
    "start_time": "2022-06-21T12:36:51.675Z"
   },
   {
    "duration": 54,
    "start_time": "2022-06-21T12:36:51.696Z"
   },
   {
    "duration": 16,
    "start_time": "2022-06-21T12:36:51.751Z"
   },
   {
    "duration": 6,
    "start_time": "2022-06-21T12:36:51.769Z"
   },
   {
    "duration": 71,
    "start_time": "2022-06-21T12:36:51.777Z"
   },
   {
    "duration": 12,
    "start_time": "2022-06-21T12:36:51.849Z"
   },
   {
    "duration": 203,
    "start_time": "2022-06-21T12:36:51.862Z"
   },
   {
    "duration": 14,
    "start_time": "2022-06-21T12:36:52.066Z"
   },
   {
    "duration": 6,
    "start_time": "2022-06-21T12:36:52.082Z"
   },
   {
    "duration": 504,
    "start_time": "2022-06-21T12:36:52.090Z"
   },
   {
    "duration": 6,
    "start_time": "2022-06-21T12:36:52.596Z"
   },
   {
    "duration": 25,
    "start_time": "2022-06-21T12:36:52.603Z"
   },
   {
    "duration": 28,
    "start_time": "2022-06-21T12:36:52.632Z"
   },
   {
    "duration": 8,
    "start_time": "2022-06-21T12:36:52.662Z"
   },
   {
    "duration": 13,
    "start_time": "2022-06-21T12:36:52.672Z"
   },
   {
    "duration": 8,
    "start_time": "2022-06-21T12:36:52.687Z"
   },
   {
    "duration": 546,
    "start_time": "2022-06-21T12:36:52.696Z"
   },
   {
    "duration": 26,
    "start_time": "2022-06-21T12:36:53.244Z"
   },
   {
    "duration": 240,
    "start_time": "2022-06-21T12:36:53.271Z"
   },
   {
    "duration": 247,
    "start_time": "2022-06-21T12:36:53.516Z"
   },
   {
    "duration": 10,
    "start_time": "2022-06-21T12:36:53.765Z"
   },
   {
    "duration": 349,
    "start_time": "2022-06-21T12:36:53.777Z"
   },
   {
    "duration": 320,
    "start_time": "2022-06-21T12:36:54.129Z"
   },
   {
    "duration": 29,
    "start_time": "2022-06-21T12:36:54.450Z"
   },
   {
    "duration": 18,
    "start_time": "2022-06-21T12:36:54.481Z"
   },
   {
    "duration": 49,
    "start_time": "2022-06-21T12:36:54.502Z"
   },
   {
    "duration": 26,
    "start_time": "2022-06-21T12:36:54.553Z"
   },
   {
    "duration": 28,
    "start_time": "2022-06-21T12:36:54.581Z"
   },
   {
    "duration": 457,
    "start_time": "2022-06-21T12:36:54.628Z"
   },
   {
    "duration": 19,
    "start_time": "2022-06-21T12:36:55.087Z"
   },
   {
    "duration": 37,
    "start_time": "2022-06-21T12:36:55.107Z"
   },
   {
    "duration": 18,
    "start_time": "2022-06-21T12:36:55.146Z"
   },
   {
    "duration": 10,
    "start_time": "2022-06-21T12:37:20.062Z"
   },
   {
    "duration": 13,
    "start_time": "2022-06-21T12:37:36.165Z"
   },
   {
    "duration": 15,
    "start_time": "2022-06-21T12:37:48.323Z"
   },
   {
    "duration": 347,
    "start_time": "2022-06-21T12:37:51.913Z"
   },
   {
    "duration": 911,
    "start_time": "2022-06-21T12:38:12.395Z"
   },
   {
    "duration": 13,
    "start_time": "2022-06-21T12:38:21.565Z"
   },
   {
    "duration": 2137,
    "start_time": "2022-06-21T12:38:54.136Z"
   },
   {
    "duration": 2142,
    "start_time": "2022-06-21T12:39:23.837Z"
   },
   {
    "duration": 2281,
    "start_time": "2022-06-21T12:40:10.825Z"
   },
   {
    "duration": 57,
    "start_time": "2022-06-21T12:40:25.320Z"
   },
   {
    "duration": 59,
    "start_time": "2022-06-21T12:40:37.627Z"
   },
   {
    "duration": 53,
    "start_time": "2022-06-21T12:40:41.150Z"
   },
   {
    "duration": 47,
    "start_time": "2022-06-21T12:40:47.862Z"
   },
   {
    "duration": 1969,
    "start_time": "2022-06-21T12:40:57.861Z"
   },
   {
    "duration": 2202,
    "start_time": "2022-06-21T12:41:10.084Z"
   },
   {
    "duration": 2064,
    "start_time": "2022-06-21T12:42:17.280Z"
   },
   {
    "duration": 15,
    "start_time": "2022-06-21T12:43:54.543Z"
   },
   {
    "duration": 21,
    "start_time": "2022-06-21T12:44:34.850Z"
   },
   {
    "duration": 19,
    "start_time": "2022-06-21T12:44:44.767Z"
   },
   {
    "duration": 17,
    "start_time": "2022-06-21T12:44:49.107Z"
   },
   {
    "duration": 31,
    "start_time": "2022-06-21T12:45:15.414Z"
   },
   {
    "duration": 19,
    "start_time": "2022-06-21T12:45:35.210Z"
   },
   {
    "duration": 17,
    "start_time": "2022-06-21T12:45:53.557Z"
   },
   {
    "duration": 21,
    "start_time": "2022-06-21T12:47:01.816Z"
   },
   {
    "duration": 20,
    "start_time": "2022-06-21T12:47:17.245Z"
   },
   {
    "duration": 20,
    "start_time": "2022-06-21T12:47:27.347Z"
   },
   {
    "duration": 23,
    "start_time": "2022-06-21T12:48:01.881Z"
   },
   {
    "duration": 23,
    "start_time": "2022-06-21T12:49:19.784Z"
   },
   {
    "duration": 19,
    "start_time": "2022-06-21T12:50:27.991Z"
   },
   {
    "duration": 11,
    "start_time": "2022-06-21T12:53:06.947Z"
   },
   {
    "duration": 11,
    "start_time": "2022-06-21T12:53:09.566Z"
   },
   {
    "duration": 13,
    "start_time": "2022-06-21T12:53:36.413Z"
   },
   {
    "duration": 10,
    "start_time": "2022-06-21T12:53:54.271Z"
   },
   {
    "duration": 25,
    "start_time": "2022-06-21T12:54:07.839Z"
   },
   {
    "duration": 12,
    "start_time": "2022-06-21T12:54:49.743Z"
   },
   {
    "duration": 14,
    "start_time": "2022-06-21T12:54:54.767Z"
   },
   {
    "duration": 39,
    "start_time": "2022-06-21T12:55:02.365Z"
   },
   {
    "duration": 31,
    "start_time": "2022-06-21T12:55:28.917Z"
   },
   {
    "duration": 11,
    "start_time": "2022-06-21T12:55:33.590Z"
   },
   {
    "duration": 11,
    "start_time": "2022-06-21T12:55:53.445Z"
   },
   {
    "duration": 13,
    "start_time": "2022-06-21T12:55:56.177Z"
   },
   {
    "duration": 38,
    "start_time": "2022-06-21T12:56:10.796Z"
   },
   {
    "duration": 12,
    "start_time": "2022-06-21T12:56:22.988Z"
   },
   {
    "duration": 14,
    "start_time": "2022-06-21T12:56:51.847Z"
   },
   {
    "duration": 21,
    "start_time": "2022-06-21T12:57:55.466Z"
   },
   {
    "duration": 14,
    "start_time": "2022-06-21T13:01:57.984Z"
   },
   {
    "duration": 13,
    "start_time": "2022-06-21T13:02:31.094Z"
   },
   {
    "duration": 15,
    "start_time": "2022-06-21T13:02:43.847Z"
   },
   {
    "duration": 16,
    "start_time": "2022-06-21T13:03:12.917Z"
   },
   {
    "duration": 10,
    "start_time": "2022-06-21T13:03:44.147Z"
   },
   {
    "duration": 14,
    "start_time": "2022-06-21T13:04:16.143Z"
   },
   {
    "duration": 23,
    "start_time": "2022-06-21T13:04:27.478Z"
   },
   {
    "duration": 13,
    "start_time": "2022-06-21T13:04:40.469Z"
   },
   {
    "duration": 14,
    "start_time": "2022-06-21T13:05:39.469Z"
   },
   {
    "duration": 13,
    "start_time": "2022-06-21T13:06:09.492Z"
   },
   {
    "duration": 36,
    "start_time": "2022-06-21T13:07:06.847Z"
   },
   {
    "duration": 24,
    "start_time": "2022-06-21T13:07:32.543Z"
   },
   {
    "duration": 22,
    "start_time": "2022-06-21T13:08:10.643Z"
   },
   {
    "duration": 43,
    "start_time": "2022-06-21T13:08:47.815Z"
   },
   {
    "duration": 40,
    "start_time": "2022-06-21T13:08:59.240Z"
   },
   {
    "duration": 12,
    "start_time": "2022-06-21T13:09:48.923Z"
   },
   {
    "duration": 32,
    "start_time": "2022-06-21T13:11:03.457Z"
   },
   {
    "duration": 30,
    "start_time": "2022-06-21T13:11:30.746Z"
   },
   {
    "duration": 30,
    "start_time": "2022-06-21T13:12:04.994Z"
   },
   {
    "duration": 17,
    "start_time": "2022-06-21T13:14:01.281Z"
   },
   {
    "duration": 579,
    "start_time": "2022-06-21T13:15:25.694Z"
   },
   {
    "duration": 32,
    "start_time": "2022-06-21T13:15:47.781Z"
   },
   {
    "duration": 32,
    "start_time": "2022-06-21T13:16:28.345Z"
   },
   {
    "duration": 19,
    "start_time": "2022-06-21T13:21:51.102Z"
   },
   {
    "duration": 22,
    "start_time": "2022-06-21T13:22:06.168Z"
   },
   {
    "duration": 21,
    "start_time": "2022-06-21T13:22:46.846Z"
   },
   {
    "duration": 73,
    "start_time": "2022-06-21T13:22:59.699Z"
   },
   {
    "duration": 20,
    "start_time": "2022-06-21T13:23:04.078Z"
   },
   {
    "duration": 18,
    "start_time": "2022-06-21T13:23:35.915Z"
   },
   {
    "duration": 20,
    "start_time": "2022-06-21T13:24:19.047Z"
   },
   {
    "duration": 8,
    "start_time": "2022-06-21T13:24:40.079Z"
   },
   {
    "duration": 12,
    "start_time": "2022-06-21T13:24:59.495Z"
   },
   {
    "duration": 481,
    "start_time": "2022-06-21T13:25:45.042Z"
   },
   {
    "duration": 565,
    "start_time": "2022-06-21T13:25:56.433Z"
   },
   {
    "duration": 9,
    "start_time": "2022-06-21T13:26:14.687Z"
   },
   {
    "duration": 553,
    "start_time": "2022-06-21T13:26:15.820Z"
   },
   {
    "duration": 11,
    "start_time": "2022-06-21T13:26:36.545Z"
   },
   {
    "duration": 478,
    "start_time": "2022-06-21T13:28:09.325Z"
   },
   {
    "duration": 4,
    "start_time": "2022-06-21T13:28:24.222Z"
   },
   {
    "duration": 129,
    "start_time": "2022-06-21T13:28:24.231Z"
   },
   {
    "duration": 5,
    "start_time": "2022-06-21T13:28:24.362Z"
   },
   {
    "duration": 17,
    "start_time": "2022-06-21T13:28:24.369Z"
   },
   {
    "duration": 17,
    "start_time": "2022-06-21T13:28:24.387Z"
   },
   {
    "duration": 30,
    "start_time": "2022-06-21T13:28:24.406Z"
   },
   {
    "duration": 26,
    "start_time": "2022-06-21T13:28:24.438Z"
   },
   {
    "duration": 9,
    "start_time": "2022-06-21T13:28:24.467Z"
   },
   {
    "duration": 15,
    "start_time": "2022-06-21T13:28:24.478Z"
   },
   {
    "duration": 14,
    "start_time": "2022-06-21T13:28:24.496Z"
   },
   {
    "duration": 59,
    "start_time": "2022-06-21T13:28:24.512Z"
   },
   {
    "duration": 15,
    "start_time": "2022-06-21T13:28:24.573Z"
   },
   {
    "duration": 5,
    "start_time": "2022-06-21T13:28:24.590Z"
   },
   {
    "duration": 67,
    "start_time": "2022-06-21T13:28:24.597Z"
   },
   {
    "duration": 23,
    "start_time": "2022-06-21T13:28:24.667Z"
   },
   {
    "duration": 260,
    "start_time": "2022-06-21T13:28:24.691Z"
   },
   {
    "duration": 15,
    "start_time": "2022-06-21T13:28:24.953Z"
   },
   {
    "duration": 13,
    "start_time": "2022-06-21T13:28:24.973Z"
   },
   {
    "duration": 567,
    "start_time": "2022-06-21T13:28:24.988Z"
   },
   {
    "duration": 26,
    "start_time": "2022-06-21T13:28:25.557Z"
   },
   {
    "duration": 9,
    "start_time": "2022-06-21T13:28:25.585Z"
   },
   {
    "duration": 399,
    "start_time": "2022-06-21T13:28:25.596Z"
   },
   {
    "duration": 18,
    "start_time": "2022-06-21T13:28:25.997Z"
   },
   {
    "duration": 12,
    "start_time": "2022-06-21T13:28:26.027Z"
   },
   {
    "duration": 35,
    "start_time": "2022-06-21T13:28:26.040Z"
   },
   {
    "duration": 20,
    "start_time": "2022-06-21T13:28:26.077Z"
   },
   {
    "duration": 548,
    "start_time": "2022-06-21T13:28:26.099Z"
   },
   {
    "duration": 32,
    "start_time": "2022-06-21T13:28:26.652Z"
   },
   {
    "duration": 312,
    "start_time": "2022-06-21T13:28:26.686Z"
   },
   {
    "duration": 292,
    "start_time": "2022-06-21T13:28:27.000Z"
   },
   {
    "duration": 10,
    "start_time": "2022-06-21T13:28:27.293Z"
   },
   {
    "duration": 366,
    "start_time": "2022-06-21T13:28:27.305Z"
   },
   {
    "duration": 347,
    "start_time": "2022-06-21T13:28:27.673Z"
   },
   {
    "duration": 36,
    "start_time": "2022-06-21T13:28:28.026Z"
   },
   {
    "duration": 18,
    "start_time": "2022-06-21T13:28:28.064Z"
   },
   {
    "duration": 24,
    "start_time": "2022-06-21T13:28:28.084Z"
   },
   {
    "duration": 28,
    "start_time": "2022-06-21T13:28:28.110Z"
   },
   {
    "duration": 31,
    "start_time": "2022-06-21T13:28:28.139Z"
   },
   {
    "duration": 501,
    "start_time": "2022-06-21T13:28:28.172Z"
   },
   {
    "duration": 17,
    "start_time": "2022-06-21T13:28:28.675Z"
   },
   {
    "duration": 14,
    "start_time": "2022-06-21T13:28:28.694Z"
   },
   {
    "duration": 36,
    "start_time": "2022-06-21T13:28:28.710Z"
   },
   {
    "duration": 349,
    "start_time": "2022-06-21T13:29:23.445Z"
   },
   {
    "duration": 361,
    "start_time": "2022-06-21T13:33:27.042Z"
   },
   {
    "duration": 504,
    "start_time": "2022-06-21T13:33:41.746Z"
   },
   {
    "duration": 339,
    "start_time": "2022-06-21T13:33:50.749Z"
   },
   {
    "duration": 3,
    "start_time": "2022-06-21T13:35:21.011Z"
   },
   {
    "duration": 113,
    "start_time": "2022-06-21T13:35:21.016Z"
   },
   {
    "duration": 4,
    "start_time": "2022-06-21T13:35:21.137Z"
   },
   {
    "duration": 5,
    "start_time": "2022-06-21T13:35:21.145Z"
   },
   {
    "duration": 23,
    "start_time": "2022-06-21T13:35:21.153Z"
   },
   {
    "duration": 33,
    "start_time": "2022-06-21T13:35:21.177Z"
   },
   {
    "duration": 29,
    "start_time": "2022-06-21T13:35:21.212Z"
   },
   {
    "duration": 21,
    "start_time": "2022-06-21T13:35:21.243Z"
   },
   {
    "duration": 17,
    "start_time": "2022-06-21T13:35:21.266Z"
   },
   {
    "duration": 25,
    "start_time": "2022-06-21T13:35:21.285Z"
   },
   {
    "duration": 35,
    "start_time": "2022-06-21T13:35:21.312Z"
   },
   {
    "duration": 24,
    "start_time": "2022-06-21T13:35:21.349Z"
   },
   {
    "duration": 6,
    "start_time": "2022-06-21T13:35:21.375Z"
   },
   {
    "duration": 63,
    "start_time": "2022-06-21T13:35:21.385Z"
   },
   {
    "duration": 13,
    "start_time": "2022-06-21T13:35:21.450Z"
   },
   {
    "duration": 213,
    "start_time": "2022-06-21T13:35:21.466Z"
   },
   {
    "duration": 16,
    "start_time": "2022-06-21T13:35:21.681Z"
   },
   {
    "duration": 8,
    "start_time": "2022-06-21T13:35:21.699Z"
   },
   {
    "duration": 533,
    "start_time": "2022-06-21T13:35:21.730Z"
   },
   {
    "duration": 18,
    "start_time": "2022-06-21T13:35:22.265Z"
   },
   {
    "duration": 5,
    "start_time": "2022-06-21T13:35:22.285Z"
   },
   {
    "duration": 364,
    "start_time": "2022-06-21T13:35:22.292Z"
   },
   {
    "duration": 24,
    "start_time": "2022-06-21T13:35:22.658Z"
   },
   {
    "duration": 9,
    "start_time": "2022-06-21T13:35:22.683Z"
   },
   {
    "duration": 17,
    "start_time": "2022-06-21T13:35:22.693Z"
   },
   {
    "duration": 9,
    "start_time": "2022-06-21T13:35:22.727Z"
   },
   {
    "duration": 479,
    "start_time": "2022-06-21T13:35:22.737Z"
   },
   {
    "duration": 55,
    "start_time": "2022-06-21T13:35:23.218Z"
   },
   {
    "duration": 282,
    "start_time": "2022-06-21T13:35:23.276Z"
   },
   {
    "duration": 260,
    "start_time": "2022-06-21T13:35:23.560Z"
   },
   {
    "duration": 14,
    "start_time": "2022-06-21T13:35:23.827Z"
   },
   {
    "duration": 349,
    "start_time": "2022-06-21T13:35:23.842Z"
   },
   {
    "duration": 317,
    "start_time": "2022-06-21T13:35:24.193Z"
   },
   {
    "duration": 26,
    "start_time": "2022-06-21T13:35:24.512Z"
   },
   {
    "duration": 19,
    "start_time": "2022-06-21T13:35:24.546Z"
   },
   {
    "duration": 22,
    "start_time": "2022-06-21T13:35:24.567Z"
   },
   {
    "duration": 17,
    "start_time": "2022-06-21T13:35:24.590Z"
   },
   {
    "duration": 39,
    "start_time": "2022-06-21T13:35:24.628Z"
   },
   {
    "duration": 494,
    "start_time": "2022-06-21T13:35:24.669Z"
   },
   {
    "duration": 17,
    "start_time": "2022-06-21T13:35:25.165Z"
   },
   {
    "duration": 14,
    "start_time": "2022-06-21T13:35:25.186Z"
   },
   {
    "duration": 39,
    "start_time": "2022-06-21T13:35:25.201Z"
   },
   {
    "duration": 4,
    "start_time": "2022-06-21T13:45:07.906Z"
   },
   {
    "duration": 141,
    "start_time": "2022-06-21T13:45:07.912Z"
   },
   {
    "duration": 5,
    "start_time": "2022-06-21T13:45:08.057Z"
   },
   {
    "duration": 25,
    "start_time": "2022-06-21T13:45:08.064Z"
   },
   {
    "duration": 17,
    "start_time": "2022-06-21T13:45:08.092Z"
   },
   {
    "duration": 33,
    "start_time": "2022-06-21T13:45:08.111Z"
   },
   {
    "duration": 49,
    "start_time": "2022-06-21T13:45:08.146Z"
   },
   {
    "duration": 9,
    "start_time": "2022-06-21T13:45:08.197Z"
   },
   {
    "duration": 17,
    "start_time": "2022-06-21T13:45:08.207Z"
   },
   {
    "duration": 37,
    "start_time": "2022-06-21T13:45:08.226Z"
   },
   {
    "duration": 37,
    "start_time": "2022-06-21T13:45:08.268Z"
   },
   {
    "duration": 23,
    "start_time": "2022-06-21T13:45:08.307Z"
   },
   {
    "duration": 27,
    "start_time": "2022-06-21T13:45:08.331Z"
   },
   {
    "duration": 60,
    "start_time": "2022-06-21T13:45:08.362Z"
   },
   {
    "duration": 19,
    "start_time": "2022-06-21T13:45:08.424Z"
   },
   {
    "duration": 302,
    "start_time": "2022-06-21T13:45:08.445Z"
   },
   {
    "duration": 22,
    "start_time": "2022-06-21T13:45:08.753Z"
   },
   {
    "duration": 17,
    "start_time": "2022-06-21T13:45:08.777Z"
   },
   {
    "duration": 849,
    "start_time": "2022-06-21T13:45:08.796Z"
   },
   {
    "duration": 27,
    "start_time": "2022-06-21T13:45:09.647Z"
   },
   {
    "duration": 27,
    "start_time": "2022-06-21T13:45:09.676Z"
   },
   {
    "duration": 500,
    "start_time": "2022-06-21T13:45:09.705Z"
   },
   {
    "duration": 38,
    "start_time": "2022-06-21T13:45:10.207Z"
   },
   {
    "duration": 21,
    "start_time": "2022-06-21T13:45:10.248Z"
   },
   {
    "duration": 29,
    "start_time": "2022-06-21T13:45:10.278Z"
   },
   {
    "duration": 67,
    "start_time": "2022-06-21T13:45:10.309Z"
   },
   {
    "duration": 560,
    "start_time": "2022-06-21T13:45:10.379Z"
   },
   {
    "duration": 34,
    "start_time": "2022-06-21T13:45:10.949Z"
   },
   {
    "duration": 351,
    "start_time": "2022-06-21T13:45:10.985Z"
   },
   {
    "duration": 366,
    "start_time": "2022-06-21T13:45:11.341Z"
   },
   {
    "duration": 11,
    "start_time": "2022-06-21T13:45:11.710Z"
   },
   {
    "duration": 466,
    "start_time": "2022-06-21T13:45:11.733Z"
   },
   {
    "duration": 409,
    "start_time": "2022-06-21T13:45:12.201Z"
   },
   {
    "duration": 45,
    "start_time": "2022-06-21T13:45:12.612Z"
   },
   {
    "duration": 26,
    "start_time": "2022-06-21T13:45:12.672Z"
   },
   {
    "duration": 31,
    "start_time": "2022-06-21T13:45:12.700Z"
   },
   {
    "duration": 36,
    "start_time": "2022-06-21T13:45:12.733Z"
   },
   {
    "duration": 37,
    "start_time": "2022-06-21T13:45:12.771Z"
   },
   {
    "duration": 564,
    "start_time": "2022-06-21T13:45:12.810Z"
   },
   {
    "duration": 18,
    "start_time": "2022-06-21T13:45:13.376Z"
   },
   {
    "duration": 12,
    "start_time": "2022-06-21T13:45:13.399Z"
   },
   {
    "duration": 34,
    "start_time": "2022-06-21T13:45:13.413Z"
   },
   {
    "duration": 11,
    "start_time": "2022-06-21T13:53:57.983Z"
   },
   {
    "duration": 397,
    "start_time": "2022-06-21T13:55:04.508Z"
   },
   {
    "duration": 311,
    "start_time": "2022-06-21T13:56:21.986Z"
   },
   {
    "duration": 23,
    "start_time": "2022-06-21T13:56:34.674Z"
   },
   {
    "duration": 810,
    "start_time": "2022-06-21T13:57:42.681Z"
   },
   {
    "duration": 1398,
    "start_time": "2022-06-22T13:27:03.436Z"
   },
   {
    "duration": 128,
    "start_time": "2022-06-22T13:27:04.836Z"
   },
   {
    "duration": 4,
    "start_time": "2022-06-22T13:27:04.966Z"
   },
   {
    "duration": 9,
    "start_time": "2022-06-22T13:27:04.972Z"
   },
   {
    "duration": 16,
    "start_time": "2022-06-22T13:27:04.983Z"
   },
   {
    "duration": 46,
    "start_time": "2022-06-22T13:27:05.001Z"
   },
   {
    "duration": 15,
    "start_time": "2022-06-22T13:27:05.049Z"
   },
   {
    "duration": 8,
    "start_time": "2022-06-22T13:27:05.066Z"
   },
   {
    "duration": 48,
    "start_time": "2022-06-22T13:27:05.076Z"
   },
   {
    "duration": 16,
    "start_time": "2022-06-22T13:27:05.128Z"
   },
   {
    "duration": 31,
    "start_time": "2022-06-22T13:27:05.146Z"
   },
   {
    "duration": 44,
    "start_time": "2022-06-22T13:27:05.179Z"
   },
   {
    "duration": 5,
    "start_time": "2022-06-22T13:27:05.226Z"
   },
   {
    "duration": 35,
    "start_time": "2022-06-22T13:27:05.233Z"
   },
   {
    "duration": 11,
    "start_time": "2022-06-22T13:27:05.269Z"
   },
   {
    "duration": 225,
    "start_time": "2022-06-22T13:27:05.282Z"
   },
   {
    "duration": 18,
    "start_time": "2022-06-22T13:27:05.509Z"
   },
   {
    "duration": 7,
    "start_time": "2022-06-22T13:27:05.529Z"
   },
   {
    "duration": 497,
    "start_time": "2022-06-22T13:27:05.538Z"
   },
   {
    "duration": 21,
    "start_time": "2022-06-22T13:27:06.038Z"
   },
   {
    "duration": 9,
    "start_time": "2022-06-22T13:27:06.061Z"
   },
   {
    "duration": 351,
    "start_time": "2022-06-22T13:27:06.072Z"
   },
   {
    "duration": 17,
    "start_time": "2022-06-22T13:27:06.425Z"
   },
   {
    "duration": 12,
    "start_time": "2022-06-22T13:27:06.443Z"
   },
   {
    "duration": 11,
    "start_time": "2022-06-22T13:27:06.457Z"
   },
   {
    "duration": 8,
    "start_time": "2022-06-22T13:27:06.470Z"
   },
   {
    "duration": 567,
    "start_time": "2022-06-22T13:27:06.479Z"
   },
   {
    "duration": 21,
    "start_time": "2022-06-22T13:27:07.049Z"
   },
   {
    "duration": 281,
    "start_time": "2022-06-22T13:27:07.072Z"
   },
   {
    "duration": 311,
    "start_time": "2022-06-22T13:27:07.355Z"
   },
   {
    "duration": 11,
    "start_time": "2022-06-22T13:27:07.668Z"
   },
   {
    "duration": 251,
    "start_time": "2022-06-22T13:27:07.681Z"
   },
   {
    "duration": 11,
    "start_time": "2022-06-22T13:27:07.934Z"
   },
   {
    "duration": 332,
    "start_time": "2022-06-22T13:27:07.947Z"
   },
   {
    "duration": 309,
    "start_time": "2022-06-22T13:27:08.281Z"
   },
   {
    "duration": 19,
    "start_time": "2022-06-22T13:27:08.592Z"
   },
   {
    "duration": 16,
    "start_time": "2022-06-22T13:27:08.623Z"
   },
   {
    "duration": 32,
    "start_time": "2022-06-22T13:27:08.641Z"
   },
   {
    "duration": 17,
    "start_time": "2022-06-22T13:27:08.675Z"
   },
   {
    "duration": 54,
    "start_time": "2022-06-22T13:27:08.694Z"
   },
   {
    "duration": 461,
    "start_time": "2022-06-22T13:27:08.751Z"
   },
   {
    "duration": 25,
    "start_time": "2022-06-22T13:27:09.214Z"
   },
   {
    "duration": 39,
    "start_time": "2022-06-22T13:27:09.241Z"
   },
   {
    "duration": 25,
    "start_time": "2022-06-22T13:27:09.282Z"
   },
   {
    "duration": 5,
    "start_time": "2022-06-22T13:28:09.040Z"
   },
   {
    "duration": 32,
    "start_time": "2022-06-22T13:28:25.616Z"
   },
   {
    "duration": 83,
    "start_time": "2022-06-22T13:28:32.740Z"
   },
   {
    "duration": 112,
    "start_time": "2022-06-22T13:28:35.404Z"
   },
   {
    "duration": 13,
    "start_time": "2022-06-22T13:28:48.682Z"
   },
   {
    "duration": 11,
    "start_time": "2022-06-22T13:28:53.644Z"
   },
   {
    "duration": 23,
    "start_time": "2022-06-22T13:29:43.529Z"
   },
   {
    "duration": 484,
    "start_time": "2022-06-22T13:31:34.246Z"
   },
   {
    "duration": 463,
    "start_time": "2022-06-22T13:32:36.710Z"
   },
   {
    "duration": 1597,
    "start_time": "2022-06-22T13:33:18.181Z"
   },
   {
    "duration": 1562,
    "start_time": "2022-06-22T13:33:34.103Z"
   },
   {
    "duration": 434,
    "start_time": "2022-06-22T13:33:44.503Z"
   },
   {
    "duration": 29,
    "start_time": "2022-06-22T13:33:57.213Z"
   },
   {
    "duration": 11,
    "start_time": "2022-06-22T13:34:17.571Z"
   },
   {
    "duration": 4,
    "start_time": "2022-06-22T13:34:24.790Z"
   },
   {
    "duration": 10,
    "start_time": "2022-06-22T13:34:38.123Z"
   },
   {
    "duration": 11,
    "start_time": "2022-06-22T13:34:46.703Z"
   },
   {
    "duration": 6,
    "start_time": "2022-06-22T13:34:59.305Z"
   },
   {
    "duration": 12,
    "start_time": "2022-06-22T13:35:30.329Z"
   },
   {
    "duration": 6,
    "start_time": "2022-06-22T13:35:32.399Z"
   },
   {
    "duration": 4,
    "start_time": "2022-06-22T13:35:45.520Z"
   },
   {
    "duration": 8,
    "start_time": "2022-06-22T13:35:48.120Z"
   },
   {
    "duration": 5,
    "start_time": "2022-06-22T13:36:05.239Z"
   },
   {
    "duration": 7,
    "start_time": "2022-06-22T13:36:06.216Z"
   },
   {
    "duration": 11,
    "start_time": "2022-06-22T13:36:13.647Z"
   },
   {
    "duration": 1430,
    "start_time": "2022-06-22T13:36:18.666Z"
   },
   {
    "duration": 6,
    "start_time": "2022-06-22T13:36:25.139Z"
   },
   {
    "duration": 9,
    "start_time": "2022-06-22T13:36:45.336Z"
   },
   {
    "duration": 5,
    "start_time": "2022-06-22T13:36:48.738Z"
   },
   {
    "duration": 5,
    "start_time": "2022-06-22T13:36:58.392Z"
   },
   {
    "duration": 5,
    "start_time": "2022-06-22T13:37:04.337Z"
   },
   {
    "duration": 7,
    "start_time": "2022-06-22T13:37:47.355Z"
   },
   {
    "duration": 13,
    "start_time": "2022-06-22T13:38:02.866Z"
   },
   {
    "duration": 7,
    "start_time": "2022-06-22T13:38:08.556Z"
   },
   {
    "duration": 5,
    "start_time": "2022-06-22T13:38:26.065Z"
   },
   {
    "duration": 4,
    "start_time": "2022-06-22T13:38:33.117Z"
   },
   {
    "duration": 6,
    "start_time": "2022-06-22T13:38:39.314Z"
   },
   {
    "duration": 4,
    "start_time": "2022-06-22T13:39:34.163Z"
   },
   {
    "duration": 102,
    "start_time": "2022-06-22T13:40:37.321Z"
   },
   {
    "duration": 9,
    "start_time": "2022-06-22T13:40:41.279Z"
   },
   {
    "duration": 12,
    "start_time": "2022-06-22T13:40:45.321Z"
   },
   {
    "duration": 9,
    "start_time": "2022-06-22T13:40:56.194Z"
   },
   {
    "duration": 8,
    "start_time": "2022-06-22T13:41:01.502Z"
   },
   {
    "duration": 14,
    "start_time": "2022-06-22T13:41:05.343Z"
   },
   {
    "duration": 542,
    "start_time": "2022-06-22T13:42:12.277Z"
   },
   {
    "duration": 5,
    "start_time": "2022-06-22T13:42:16.334Z"
   },
   {
    "duration": 5,
    "start_time": "2022-06-22T13:42:19.875Z"
   },
   {
    "duration": 9,
    "start_time": "2022-06-22T13:42:24.343Z"
   },
   {
    "duration": 5,
    "start_time": "2022-06-22T13:42:27.340Z"
   },
   {
    "duration": 6,
    "start_time": "2022-06-22T13:42:40.695Z"
   },
   {
    "duration": 4,
    "start_time": "2022-06-22T13:43:28.101Z"
   },
   {
    "duration": 421,
    "start_time": "2022-06-22T13:43:57.010Z"
   },
   {
    "duration": 509,
    "start_time": "2022-06-22T13:44:18.414Z"
   },
   {
    "duration": 438,
    "start_time": "2022-06-22T13:44:30.266Z"
   },
   {
    "duration": 351,
    "start_time": "2022-06-22T13:46:55.235Z"
   },
   {
    "duration": 341,
    "start_time": "2022-06-22T13:47:13.064Z"
   },
   {
    "duration": 450,
    "start_time": "2022-06-22T13:47:20.991Z"
   },
   {
    "duration": 348,
    "start_time": "2022-06-22T13:47:28.903Z"
   },
   {
    "duration": 339,
    "start_time": "2022-06-22T13:47:35.304Z"
   },
   {
    "duration": 369,
    "start_time": "2022-06-22T13:47:39.949Z"
   },
   {
    "duration": 373,
    "start_time": "2022-06-22T13:49:59.067Z"
   },
   {
    "duration": 119,
    "start_time": "2022-06-22T13:50:08.613Z"
   },
   {
    "duration": 281,
    "start_time": "2022-06-22T13:50:49.910Z"
   },
   {
    "duration": 296,
    "start_time": "2022-06-22T13:51:16.052Z"
   },
   {
    "duration": 291,
    "start_time": "2022-06-22T13:51:50.049Z"
   },
   {
    "duration": 329,
    "start_time": "2022-06-22T13:52:28.030Z"
   },
   {
    "duration": 423,
    "start_time": "2022-06-22T13:53:16.097Z"
   },
   {
    "duration": 310,
    "start_time": "2022-06-22T13:54:23.775Z"
   },
   {
    "duration": 319,
    "start_time": "2022-06-22T13:54:27.652Z"
   },
   {
    "duration": 1149,
    "start_time": "2022-06-22T14:12:03.462Z"
   },
   {
    "duration": 91,
    "start_time": "2022-06-22T14:12:04.612Z"
   },
   {
    "duration": 5,
    "start_time": "2022-06-22T14:12:04.705Z"
   },
   {
    "duration": 10,
    "start_time": "2022-06-22T14:12:04.712Z"
   },
   {
    "duration": 21,
    "start_time": "2022-06-22T14:12:04.724Z"
   },
   {
    "duration": 39,
    "start_time": "2022-06-22T14:12:04.747Z"
   },
   {
    "duration": 9,
    "start_time": "2022-06-22T14:12:04.787Z"
   },
   {
    "duration": 10,
    "start_time": "2022-06-22T14:12:04.797Z"
   },
   {
    "duration": 20,
    "start_time": "2022-06-22T14:12:04.809Z"
   },
   {
    "duration": 10,
    "start_time": "2022-06-22T14:12:04.832Z"
   },
   {
    "duration": 22,
    "start_time": "2022-06-22T14:12:04.844Z"
   },
   {
    "duration": 16,
    "start_time": "2022-06-22T14:12:04.868Z"
   },
   {
    "duration": 6,
    "start_time": "2022-06-22T14:12:04.886Z"
   },
   {
    "duration": 40,
    "start_time": "2022-06-22T14:12:04.923Z"
   },
   {
    "duration": 15,
    "start_time": "2022-06-22T14:12:04.965Z"
   },
   {
    "duration": 216,
    "start_time": "2022-06-22T14:12:04.982Z"
   },
   {
    "duration": 24,
    "start_time": "2022-06-22T14:12:05.199Z"
   },
   {
    "duration": 11,
    "start_time": "2022-06-22T14:12:05.224Z"
   },
   {
    "duration": 478,
    "start_time": "2022-06-22T14:12:05.237Z"
   },
   {
    "duration": 20,
    "start_time": "2022-06-22T14:12:05.718Z"
   },
   {
    "duration": 6,
    "start_time": "2022-06-22T14:12:05.740Z"
   },
   {
    "duration": 363,
    "start_time": "2022-06-22T14:12:05.748Z"
   },
   {
    "duration": 25,
    "start_time": "2022-06-22T14:12:06.113Z"
   },
   {
    "duration": 8,
    "start_time": "2022-06-22T14:12:06.140Z"
   },
   {
    "duration": 15,
    "start_time": "2022-06-22T14:12:06.150Z"
   },
   {
    "duration": 7,
    "start_time": "2022-06-22T14:12:06.166Z"
   },
   {
    "duration": 524,
    "start_time": "2022-06-22T14:12:06.175Z"
   },
   {
    "duration": 33,
    "start_time": "2022-06-22T14:12:06.704Z"
   },
   {
    "duration": 338,
    "start_time": "2022-06-22T14:12:06.739Z"
   },
   {
    "duration": 250,
    "start_time": "2022-06-22T14:12:07.078Z"
   },
   {
    "duration": 13,
    "start_time": "2022-06-22T14:12:07.331Z"
   },
   {
    "duration": 300,
    "start_time": "2022-06-22T14:12:07.346Z"
   },
   {
    "duration": 11,
    "start_time": "2022-06-22T14:12:07.648Z"
   },
   {
    "duration": 355,
    "start_time": "2022-06-22T14:12:07.661Z"
   },
   {
    "duration": 308,
    "start_time": "2022-06-22T14:12:08.022Z"
   },
   {
    "duration": 18,
    "start_time": "2022-06-22T14:12:08.331Z"
   },
   {
    "duration": 21,
    "start_time": "2022-06-22T14:12:08.352Z"
   },
   {
    "duration": 33,
    "start_time": "2022-06-22T14:12:08.375Z"
   },
   {
    "duration": 18,
    "start_time": "2022-06-22T14:12:08.424Z"
   },
   {
    "duration": 28,
    "start_time": "2022-06-22T14:12:08.443Z"
   },
   {
    "duration": 435,
    "start_time": "2022-06-22T14:12:08.472Z"
   },
   {
    "duration": 30,
    "start_time": "2022-06-22T14:12:08.908Z"
   },
   {
    "duration": 20,
    "start_time": "2022-06-22T14:12:08.940Z"
   },
   {
    "duration": 16,
    "start_time": "2022-06-22T14:12:08.963Z"
   },
   {
    "duration": 48,
    "start_time": "2022-06-23T03:25:02.978Z"
   },
   {
    "duration": 1418,
    "start_time": "2022-06-23T03:25:12.217Z"
   },
   {
    "duration": 132,
    "start_time": "2022-06-23T03:25:13.637Z"
   },
   {
    "duration": 4,
    "start_time": "2022-06-23T03:25:13.771Z"
   },
   {
    "duration": 16,
    "start_time": "2022-06-23T03:25:13.777Z"
   },
   {
    "duration": 23,
    "start_time": "2022-06-23T03:25:13.795Z"
   },
   {
    "duration": 27,
    "start_time": "2022-06-23T03:25:13.820Z"
   },
   {
    "duration": 15,
    "start_time": "2022-06-23T03:25:13.849Z"
   },
   {
    "duration": 17,
    "start_time": "2022-06-23T03:25:13.866Z"
   },
   {
    "duration": 16,
    "start_time": "2022-06-23T03:25:13.885Z"
   },
   {
    "duration": 37,
    "start_time": "2022-06-23T03:25:13.903Z"
   },
   {
    "duration": 39,
    "start_time": "2022-06-23T03:25:13.943Z"
   },
   {
    "duration": 19,
    "start_time": "2022-06-23T03:25:13.983Z"
   },
   {
    "duration": 21,
    "start_time": "2022-06-23T03:25:14.005Z"
   },
   {
    "duration": 35,
    "start_time": "2022-06-23T03:25:14.029Z"
   },
   {
    "duration": 14,
    "start_time": "2022-06-23T03:25:14.067Z"
   },
   {
    "duration": 238,
    "start_time": "2022-06-23T03:25:14.083Z"
   },
   {
    "duration": 12,
    "start_time": "2022-06-23T03:25:14.326Z"
   },
   {
    "duration": 10,
    "start_time": "2022-06-23T03:25:14.340Z"
   },
   {
    "duration": 542,
    "start_time": "2022-06-23T03:25:14.351Z"
   },
   {
    "duration": 20,
    "start_time": "2022-06-23T03:25:14.895Z"
   },
   {
    "duration": 10,
    "start_time": "2022-06-23T03:25:14.917Z"
   },
   {
    "duration": 355,
    "start_time": "2022-06-23T03:25:14.929Z"
   },
   {
    "duration": 22,
    "start_time": "2022-06-23T03:25:15.286Z"
   },
   {
    "duration": 20,
    "start_time": "2022-06-23T03:25:15.309Z"
   },
   {
    "duration": 75,
    "start_time": "2022-06-23T03:25:15.331Z"
   },
   {
    "duration": 0,
    "start_time": "2022-06-23T03:25:15.408Z"
   },
   {
    "duration": 0,
    "start_time": "2022-06-23T03:25:15.409Z"
   },
   {
    "duration": 0,
    "start_time": "2022-06-23T03:25:15.410Z"
   },
   {
    "duration": 0,
    "start_time": "2022-06-23T03:25:15.411Z"
   },
   {
    "duration": 0,
    "start_time": "2022-06-23T03:25:15.427Z"
   },
   {
    "duration": 0,
    "start_time": "2022-06-23T03:25:15.428Z"
   },
   {
    "duration": 0,
    "start_time": "2022-06-23T03:25:15.429Z"
   },
   {
    "duration": 0,
    "start_time": "2022-06-23T03:25:15.431Z"
   },
   {
    "duration": 0,
    "start_time": "2022-06-23T03:25:15.434Z"
   },
   {
    "duration": 0,
    "start_time": "2022-06-23T03:25:15.434Z"
   },
   {
    "duration": 0,
    "start_time": "2022-06-23T03:25:15.435Z"
   },
   {
    "duration": 0,
    "start_time": "2022-06-23T03:25:15.436Z"
   },
   {
    "duration": 0,
    "start_time": "2022-06-23T03:25:15.437Z"
   },
   {
    "duration": 0,
    "start_time": "2022-06-23T03:25:15.439Z"
   },
   {
    "duration": 0,
    "start_time": "2022-06-23T03:25:15.440Z"
   },
   {
    "duration": 0,
    "start_time": "2022-06-23T03:25:15.441Z"
   },
   {
    "duration": 0,
    "start_time": "2022-06-23T03:25:15.442Z"
   },
   {
    "duration": 0,
    "start_time": "2022-06-23T03:25:15.443Z"
   },
   {
    "duration": 0,
    "start_time": "2022-06-23T03:25:15.444Z"
   },
   {
    "duration": 10,
    "start_time": "2022-06-23T03:25:50.950Z"
   },
   {
    "duration": 11,
    "start_time": "2022-06-23T03:26:34.765Z"
   },
   {
    "duration": 11,
    "start_time": "2022-06-23T03:26:44.989Z"
   },
   {
    "duration": 7,
    "start_time": "2022-06-23T03:26:56.633Z"
   },
   {
    "duration": 414,
    "start_time": "2022-06-23T03:26:58.051Z"
   },
   {
    "duration": 22,
    "start_time": "2022-06-23T03:28:22.872Z"
   },
   {
    "duration": 210,
    "start_time": "2022-06-23T03:28:24.221Z"
   },
   {
    "duration": 211,
    "start_time": "2022-06-23T03:28:28.627Z"
   },
   {
    "duration": 9,
    "start_time": "2022-06-23T03:28:30.865Z"
   },
   {
    "duration": 224,
    "start_time": "2022-06-23T03:28:31.881Z"
   },
   {
    "duration": 10,
    "start_time": "2022-06-23T03:28:33.693Z"
   },
   {
    "duration": 291,
    "start_time": "2022-06-23T03:28:39.190Z"
   },
   {
    "duration": 267,
    "start_time": "2022-06-23T03:28:41.859Z"
   },
   {
    "duration": 18,
    "start_time": "2022-06-23T03:28:50.497Z"
   },
   {
    "duration": 15,
    "start_time": "2022-06-23T03:28:52.021Z"
   },
   {
    "duration": 22,
    "start_time": "2022-06-23T03:28:54.792Z"
   },
   {
    "duration": 18,
    "start_time": "2022-06-23T03:28:59.148Z"
   },
   {
    "duration": 27,
    "start_time": "2022-06-23T03:29:01.526Z"
   },
   {
    "duration": 398,
    "start_time": "2022-06-23T03:29:04.444Z"
   },
   {
    "duration": 165,
    "start_time": "2022-06-23T03:33:20.394Z"
   },
   {
    "duration": 462,
    "start_time": "2022-06-23T03:34:06.934Z"
   },
   {
    "duration": 21,
    "start_time": "2022-06-23T03:34:38.594Z"
   },
   {
    "duration": 27,
    "start_time": "2022-06-23T03:34:41.950Z"
   },
   {
    "duration": 352,
    "start_time": "2022-06-23T03:34:45.169Z"
   },
   {
    "duration": 16,
    "start_time": "2022-06-23T03:34:51.265Z"
   },
   {
    "duration": 10,
    "start_time": "2022-06-23T03:34:59.861Z"
   },
   {
    "duration": 17,
    "start_time": "2022-06-23T03:35:09.137Z"
   },
   {
    "duration": 23,
    "start_time": "2022-06-23T03:35:11.366Z"
   },
   {
    "duration": 247,
    "start_time": "2022-06-23T03:35:14.173Z"
   },
   {
    "duration": 18,
    "start_time": "2022-06-23T03:36:07.341Z"
   },
   {
    "duration": 31,
    "start_time": "2022-06-23T03:36:08.508Z"
   },
   {
    "duration": 387,
    "start_time": "2022-06-23T03:36:10.370Z"
   },
   {
    "duration": 17,
    "start_time": "2022-06-23T03:36:20.633Z"
   },
   {
    "duration": 247,
    "start_time": "2022-06-23T03:36:25.157Z"
   },
   {
    "duration": 22,
    "start_time": "2022-06-23T03:37:22.414Z"
   },
   {
    "duration": 20,
    "start_time": "2022-06-23T03:37:38.024Z"
   },
   {
    "duration": 90,
    "start_time": "2022-06-23T03:40:00.088Z"
   },
   {
    "duration": 77,
    "start_time": "2022-06-23T03:40:25.499Z"
   },
   {
    "duration": 31,
    "start_time": "2022-06-23T03:41:25.231Z"
   },
   {
    "duration": 21,
    "start_time": "2022-06-23T03:42:10.259Z"
   },
   {
    "duration": 31,
    "start_time": "2022-06-23T03:42:48.444Z"
   },
   {
    "duration": 22,
    "start_time": "2022-06-23T03:43:16.253Z"
   },
   {
    "duration": 27,
    "start_time": "2022-06-23T03:43:36.692Z"
   },
   {
    "duration": 311,
    "start_time": "2022-06-23T03:43:52.072Z"
   },
   {
    "duration": 318,
    "start_time": "2022-06-23T03:43:59.691Z"
   },
   {
    "duration": 529,
    "start_time": "2022-06-23T03:44:06.596Z"
   },
   {
    "duration": 21,
    "start_time": "2022-06-23T03:44:16.455Z"
   },
   {
    "duration": 433,
    "start_time": "2022-06-23T03:44:17.123Z"
   },
   {
    "duration": 435,
    "start_time": "2022-06-23T03:44:20.644Z"
   },
   {
    "duration": 986,
    "start_time": "2022-06-23T03:45:33.095Z"
   },
   {
    "duration": 391,
    "start_time": "2022-06-23T03:45:56.915Z"
   },
   {
    "duration": 319,
    "start_time": "2022-06-23T03:46:23.290Z"
   },
   {
    "duration": 268,
    "start_time": "2022-06-23T03:46:51.725Z"
   },
   {
    "duration": 4,
    "start_time": "2022-06-23T03:48:23.686Z"
   },
   {
    "duration": 85,
    "start_time": "2022-06-23T03:48:23.692Z"
   },
   {
    "duration": 4,
    "start_time": "2022-06-23T03:48:23.779Z"
   },
   {
    "duration": 6,
    "start_time": "2022-06-23T03:48:23.785Z"
   },
   {
    "duration": 33,
    "start_time": "2022-06-23T03:48:23.793Z"
   },
   {
    "duration": 28,
    "start_time": "2022-06-23T03:48:23.828Z"
   },
   {
    "duration": 9,
    "start_time": "2022-06-23T03:48:23.857Z"
   },
   {
    "duration": 8,
    "start_time": "2022-06-23T03:48:23.867Z"
   },
   {
    "duration": 11,
    "start_time": "2022-06-23T03:48:23.876Z"
   },
   {
    "duration": 39,
    "start_time": "2022-06-23T03:48:23.888Z"
   },
   {
    "duration": 129,
    "start_time": "2022-06-23T03:48:23.933Z"
   },
   {
    "duration": 15,
    "start_time": "2022-06-23T03:48:24.063Z"
   },
   {
    "duration": 5,
    "start_time": "2022-06-23T03:48:24.079Z"
   },
   {
    "duration": 60,
    "start_time": "2022-06-23T03:48:24.086Z"
   },
   {
    "duration": 10,
    "start_time": "2022-06-23T03:48:24.148Z"
   },
   {
    "duration": 202,
    "start_time": "2022-06-23T03:48:24.160Z"
   },
   {
    "duration": 11,
    "start_time": "2022-06-23T03:48:24.364Z"
   },
   {
    "duration": 5,
    "start_time": "2022-06-23T03:48:24.377Z"
   },
   {
    "duration": 469,
    "start_time": "2022-06-23T03:48:24.384Z"
   },
   {
    "duration": 16,
    "start_time": "2022-06-23T03:48:24.854Z"
   },
   {
    "duration": 5,
    "start_time": "2022-06-23T03:48:24.872Z"
   },
   {
    "duration": 336,
    "start_time": "2022-06-23T03:48:24.878Z"
   },
   {
    "duration": 30,
    "start_time": "2022-06-23T03:48:25.215Z"
   },
   {
    "duration": 7,
    "start_time": "2022-06-23T03:48:25.247Z"
   },
   {
    "duration": 11,
    "start_time": "2022-06-23T03:48:25.256Z"
   },
   {
    "duration": 5,
    "start_time": "2022-06-23T03:48:25.269Z"
   },
   {
    "duration": 348,
    "start_time": "2022-06-23T03:48:25.275Z"
   },
   {
    "duration": 30,
    "start_time": "2022-06-23T03:48:25.626Z"
   },
   {
    "duration": 276,
    "start_time": "2022-06-23T03:48:25.660Z"
   },
   {
    "duration": 284,
    "start_time": "2022-06-23T03:48:25.938Z"
   },
   {
    "duration": 17,
    "start_time": "2022-06-23T03:48:26.224Z"
   },
   {
    "duration": 253,
    "start_time": "2022-06-23T03:48:26.243Z"
   },
   {
    "duration": 11,
    "start_time": "2022-06-23T03:48:26.498Z"
   },
   {
    "duration": 411,
    "start_time": "2022-06-23T03:48:26.511Z"
   },
   {
    "duration": 298,
    "start_time": "2022-06-23T03:48:26.924Z"
   },
   {
    "duration": 23,
    "start_time": "2022-06-23T03:48:27.226Z"
   },
   {
    "duration": 16,
    "start_time": "2022-06-23T03:48:27.251Z"
   },
   {
    "duration": 25,
    "start_time": "2022-06-23T03:48:27.268Z"
   },
   {
    "duration": 42,
    "start_time": "2022-06-23T03:48:27.295Z"
   },
   {
    "duration": 24,
    "start_time": "2022-06-23T03:48:27.339Z"
   },
   {
    "duration": 283,
    "start_time": "2022-06-23T03:48:27.365Z"
   },
   {
    "duration": 13,
    "start_time": "2022-06-23T03:48:27.650Z"
   },
   {
    "duration": 14,
    "start_time": "2022-06-23T03:48:27.664Z"
   },
   {
    "duration": 15,
    "start_time": "2022-06-23T03:48:27.680Z"
   },
   {
    "duration": 15,
    "start_time": "2022-06-23T04:03:12.237Z"
   },
   {
    "duration": 15,
    "start_time": "2022-06-23T04:04:52.299Z"
   },
   {
    "duration": 20,
    "start_time": "2022-06-23T04:05:09.334Z"
   },
   {
    "duration": 16,
    "start_time": "2022-06-23T04:10:10.678Z"
   },
   {
    "duration": 15,
    "start_time": "2022-06-23T04:10:40.081Z"
   },
   {
    "duration": 15,
    "start_time": "2022-06-23T04:11:49.132Z"
   },
   {
    "duration": 11,
    "start_time": "2022-06-23T04:11:54.367Z"
   },
   {
    "duration": 11,
    "start_time": "2022-06-23T04:15:27.215Z"
   },
   {
    "duration": 12,
    "start_time": "2022-06-23T04:15:36.135Z"
   },
   {
    "duration": 11,
    "start_time": "2022-06-23T04:15:41.402Z"
   },
   {
    "duration": 22,
    "start_time": "2022-06-23T04:15:56.227Z"
   },
   {
    "duration": 12,
    "start_time": "2022-06-23T04:16:20.837Z"
   },
   {
    "duration": 12,
    "start_time": "2022-06-23T04:21:01.122Z"
   },
   {
    "duration": 1328,
    "start_time": "2022-06-23T19:21:58.810Z"
   },
   {
    "duration": 125,
    "start_time": "2022-06-23T19:22:00.140Z"
   },
   {
    "duration": 5,
    "start_time": "2022-06-23T19:22:00.267Z"
   },
   {
    "duration": 8,
    "start_time": "2022-06-23T19:22:00.274Z"
   },
   {
    "duration": 19,
    "start_time": "2022-06-23T19:22:00.284Z"
   },
   {
    "duration": 31,
    "start_time": "2022-06-23T19:22:00.304Z"
   },
   {
    "duration": 10,
    "start_time": "2022-06-23T19:22:00.336Z"
   },
   {
    "duration": 28,
    "start_time": "2022-06-23T19:22:00.347Z"
   },
   {
    "duration": 16,
    "start_time": "2022-06-23T19:22:00.378Z"
   },
   {
    "duration": 16,
    "start_time": "2022-06-23T19:22:00.397Z"
   },
   {
    "duration": 27,
    "start_time": "2022-06-23T19:22:00.414Z"
   },
   {
    "duration": 15,
    "start_time": "2022-06-23T19:22:00.443Z"
   },
   {
    "duration": 17,
    "start_time": "2022-06-23T19:22:00.460Z"
   },
   {
    "duration": 37,
    "start_time": "2022-06-23T19:22:00.478Z"
   },
   {
    "duration": 17,
    "start_time": "2022-06-23T19:22:00.517Z"
   },
   {
    "duration": 196,
    "start_time": "2022-06-23T19:22:00.535Z"
   },
   {
    "duration": 11,
    "start_time": "2022-06-23T19:22:00.733Z"
   },
   {
    "duration": 11,
    "start_time": "2022-06-23T19:22:00.745Z"
   },
   {
    "duration": 461,
    "start_time": "2022-06-23T19:22:00.758Z"
   },
   {
    "duration": 18,
    "start_time": "2022-06-23T19:22:01.221Z"
   },
   {
    "duration": 34,
    "start_time": "2022-06-23T19:22:01.240Z"
   },
   {
    "duration": 315,
    "start_time": "2022-06-23T19:22:01.276Z"
   },
   {
    "duration": 29,
    "start_time": "2022-06-23T19:22:01.593Z"
   },
   {
    "duration": 9,
    "start_time": "2022-06-23T19:22:01.624Z"
   },
   {
    "duration": 23,
    "start_time": "2022-06-23T19:22:01.635Z"
   },
   {
    "duration": 5,
    "start_time": "2022-06-23T19:22:01.660Z"
   },
   {
    "duration": 340,
    "start_time": "2022-06-23T19:22:01.667Z"
   },
   {
    "duration": 25,
    "start_time": "2022-06-23T19:22:02.010Z"
   },
   {
    "duration": 289,
    "start_time": "2022-06-23T19:22:02.037Z"
   },
   {
    "duration": 236,
    "start_time": "2022-06-23T19:22:02.328Z"
   },
   {
    "duration": 12,
    "start_time": "2022-06-23T19:22:02.565Z"
   },
   {
    "duration": 300,
    "start_time": "2022-06-23T19:22:02.580Z"
   },
   {
    "duration": 9,
    "start_time": "2022-06-23T19:22:02.881Z"
   },
   {
    "duration": 315,
    "start_time": "2022-06-23T19:22:02.892Z"
   },
   {
    "duration": 285,
    "start_time": "2022-06-23T19:22:03.209Z"
   },
   {
    "duration": 17,
    "start_time": "2022-06-23T19:22:03.496Z"
   },
   {
    "duration": 15,
    "start_time": "2022-06-23T19:22:03.522Z"
   },
   {
    "duration": 21,
    "start_time": "2022-06-23T19:22:03.538Z"
   },
   {
    "duration": 19,
    "start_time": "2022-06-23T19:22:03.561Z"
   },
   {
    "duration": 51,
    "start_time": "2022-06-23T19:22:03.582Z"
   },
   {
    "duration": 261,
    "start_time": "2022-06-23T19:22:03.635Z"
   },
   {
    "duration": 12,
    "start_time": "2022-06-23T19:22:03.898Z"
   },
   {
    "duration": 20,
    "start_time": "2022-06-23T19:22:03.912Z"
   },
   {
    "duration": 11,
    "start_time": "2022-06-23T19:22:03.934Z"
   },
   {
    "duration": 36,
    "start_time": "2022-06-23T19:22:03.946Z"
   }
  ],
  "kernelspec": {
   "display_name": "Python 3 (ipykernel)",
   "language": "python",
   "name": "python3"
  },
  "language_info": {
   "codemirror_mode": {
    "name": "ipython",
    "version": 3
   },
   "file_extension": ".py",
   "mimetype": "text/x-python",
   "name": "python",
   "nbconvert_exporter": "python",
   "pygments_lexer": "ipython3",
   "version": "3.10.5"
  },
  "toc": {
   "base_numbering": 1,
   "nav_menu": {
    "height": "165px",
    "width": "281px"
   },
   "number_sections": true,
   "sideBar": true,
   "skip_h1_title": true,
   "title_cell": "Table of Contents",
   "title_sidebar": "Contents",
   "toc_cell": false,
   "toc_position": {},
   "toc_section_display": true,
   "toc_window_display": false
  }
 },
 "nbformat": 4,
 "nbformat_minor": 2
}
