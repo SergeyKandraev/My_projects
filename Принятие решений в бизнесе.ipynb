{
 "cells": [
  {
   "cell_type": "markdown",
   "id": "87c2ace0",
   "metadata": {},
   "source": [
    "# Принятие решений в бизнесе"
   ]
  },
  {
   "cell_type": "markdown",
   "id": "2601b643",
   "metadata": {},
   "source": [
    "## Описание проекта:\n",
    "Вы — аналитик крупного интернет-магазина. Вместе с отделом маркетинга вы подготовили список гипотез для увеличения выручки.  \n",
    "\n",
    "Приоритизируйте гипотезы, запустите A/B-тест и проанализируйте результаты."
   ]
  },
  {
   "cell_type": "markdown",
   "id": "011456ee",
   "metadata": {},
   "source": [
    "## Описание данных:\n",
    "\n",
    "**Данные для первой части:**  \n",
    "\n",
    "Файл: `datasets/hypothesis.csv.`  \n",
    "* Hypothesis — краткое описание гипотезы;  \n",
    "* Reach — охват пользователей по 10-балльной шкале;  \n",
    "* Impact — влияние на пользователей по 10-балльной шкале;  \n",
    "* Confidence — уверенность в гипотезе по 10-балльной шкале;  \n",
    "* Efforts — затраты ресурсов на проверку гипотезы по 10-балльной шкале. Чем больше значение Efforts, тем дороже проверка гипотезы.\n",
    "\n",
    "**Данные для второй части:**  \n",
    "\n",
    "Файл: `/datasets/orders.csv.`  \n",
    "* transactionId — идентификатор заказа;  \n",
    "* visitorId — идентификатор пользователя, совершившего заказ;  \n",
    "* date — дата, когда был совершён заказ;  \n",
    "* revenue — выручка заказа;  \n",
    "* group — группа A/B-теста, в которую попал заказ.  \n",
    "\n",
    "Файл: `/datasets/visitors.csv.`  \n",
    "* date — дата;  \n",
    "* group — группа A/B-теста;  \n",
    "* visitors — количество пользователей в указанную дату в указанной группе A/B-теста"
   ]
  },
  {
   "cell_type": "markdown",
   "id": "06f20522",
   "metadata": {},
   "source": [
    "## Ход работы:  \n",
    "\n",
    "### Часть 1. Приоритизация гипотез.\n",
    "В файле `/datasets/hypothesis.csv` 9 гипотез по увеличению выручки интернет-магазина с указанными параметрами `Reach`, `Impact`, `Confidence`, `Effort`.  \n",
    "\n",
    "Задача:  \n",
    "\n",
    "* Примените фреймворк `ICE` для приоритизации гипотез. Отсортируйте их по убыванию приоритета.  \n",
    "* Примените фреймворк `RICE` для приоритизации гипотез. Отсортируйте их по убыванию приоритета.  \n",
    "* Укажите, как изменилась приоритизация гипотез при применении RICE вместо ICE. Объясните, почему так произошло.  \n",
    "\n",
    "### Часть 2. Анализ A/B-теста.  \n",
    "Вы провели A/B-тест и получили результаты, которые описаны в файлах `/datasets/orders.csv` и `/datasets/visitors.csv`.  \n",
    "\n",
    "Задача:  \n",
    "\n",
    "Проанализируйте A/B-тест:  \n",
    "\n",
    "1. Постройте график кумулятивной выручки по группам. Сделайте выводы и предположения.  \n",
    "\n",
    "2. Постройте график кумулятивного среднего чека по группам. Сделайте выводы и предположения.  \n",
    "\n",
    "3. Постройте график относительного изменения кумулятивного среднего чека группы B к группе A. Сделайте выводы и предположения.  \n",
    "4. Постройте график кумулятивного среднего количества заказов по группам. Сделайте выводы и предположения.  \n",
    "\n",
    "5. Постройте график относительного изменения кумулятивного среднего количества заказов группы B к группе A. Сделайте выводы и предположения.  \n",
    "\n",
    "6. Постройте точечный график количества заказов по пользователям. Сделайте выводы и предположения.\n",
    "7. Посчитайте 95-й и 99-й перцентили количества заказов на пользователя. Выберите границу для определения аномальных пользователей.  \n",
    "\n",
    "8. Постройте точечный график стоимостей заказов. Сделайте выводы и предположения.  \n",
    "\n",
    "9. Посчитайте 95-й и 99-й перцентили стоимости заказов. Выберите границу для определения аномальных заказов.  \n",
    "\n",
    "10. Посчитайте статистическую значимость различий в среднем количестве заказов между группами по «сырым» данным. Сделайте выводы и предположения.  \n",
    "\n",
    "11. Посчитайте статистическую значимость различий в среднем чеке заказа между группами по «сырым» данным. Сделайте выводы и предположения.  \n",
    "\n",
    "12. Посчитайте статистическую значимость различий в среднем количестве заказов между группами по «очищенным» данным. Сделайте выводы и предположения.  \n",
    "\n",
    "13. Посчитайте статистическую значимость различий в среднем чеке заказа между группами по «очищенным» данным. Сделайте выводы и предположения.  \n",
    "\n",
    "14. Примите решение по результатам теста и объясните его. Варианты решений: 1. Остановить тест, зафиксировать победу одной из групп. 2. Остановить тест, зафиксировать отсутствие различий между группами. 3. Продолжить тест.  "
   ]
  },
  {
   "cell_type": "code",
   "execution_count": 125,
   "id": "db4919fa",
   "metadata": {},
   "outputs": [],
   "source": [
    "# Импортируем библиотеки\n",
    "\n",
    "import pandas as pd\n",
    "import numpy as np\n",
    "import matplotlib.pyplot as plt\n",
    "import seaborn as sns\n",
    "import math\n",
    "import datetime as dt\n",
    "import scipy.stats as stats\n",
    "import warnings\n",
    "from scipy import stats as st"
   ]
  },
  {
   "cell_type": "markdown",
   "id": "724de132",
   "metadata": {},
   "source": [
    "## Предобработка данных"
   ]
  },
  {
   "cell_type": "code",
   "execution_count": 126,
   "id": "8a02779f",
   "metadata": {},
   "outputs": [],
   "source": [
    "# Снимем ограничение отображения стобцов \n",
    "pd.set_option('display.max_columns', None)\n",
    "\n",
    "# Снимаем ограничение на ширину столбцов\n",
    "pd.set_option('display.max_colwidth', None)\n",
    "\n",
    "# Игнорируем предупреждения\n",
    "warnings.filterwarnings(action='ignore')\n",
    "\n",
    "# Выставляем ограничение на показ знаков после запятой\n",
    "pd.options.display.float_format = '{:,.3f}'.format"
   ]
  },
  {
   "cell_type": "code",
   "execution_count": 127,
   "id": "4b8b3217",
   "metadata": {},
   "outputs": [],
   "source": [
    "# Сохраняем файлы в переменные \n",
    "try:\n",
    "    hypothesis, orders, visitors = (\n",
    "        pd.read_csv('D:/datasets/hypothesis.csv'),\n",
    "        pd.read_csv('D:/datasets/orders.csv'), \n",
    "        pd.read_csv('D:/datasets/visitors.csv') \n",
    "    )\n",
    "except:\n",
    "    hypothesis, orders, visitors = (\n",
    "        pd.read_csv('/datasets/hypothesis.csv'),\n",
    "        pd.read_csv('/datasets/orders.csv'),\n",
    "        pd.read_csv('/datasets/visitors.csv')\n",
    "    )"
   ]
  },
  {
   "cell_type": "markdown",
   "id": "be2c1c92",
   "metadata": {},
   "source": [
    "### Предобработка в `hypothesis`"
   ]
  },
  {
   "cell_type": "code",
   "execution_count": 128,
   "id": "f077bf9e",
   "metadata": {},
   "outputs": [
    {
     "data": {
      "text/html": [
       "<div>\n",
       "<style scoped>\n",
       "    .dataframe tbody tr th:only-of-type {\n",
       "        vertical-align: middle;\n",
       "    }\n",
       "\n",
       "    .dataframe tbody tr th {\n",
       "        vertical-align: top;\n",
       "    }\n",
       "\n",
       "    .dataframe thead th {\n",
       "        text-align: right;\n",
       "    }\n",
       "</style>\n",
       "<table border=\"1\" class=\"dataframe\">\n",
       "  <thead>\n",
       "    <tr style=\"text-align: right;\">\n",
       "      <th></th>\n",
       "      <th>Hypothesis</th>\n",
       "      <th>Reach</th>\n",
       "      <th>Impact</th>\n",
       "      <th>Confidence</th>\n",
       "      <th>Efforts</th>\n",
       "    </tr>\n",
       "  </thead>\n",
       "  <tbody>\n",
       "    <tr>\n",
       "      <th>0</th>\n",
       "      <td>Добавить два новых канала привлечения трафика, что позволит привлекать на 30% больше пользователей</td>\n",
       "      <td>3</td>\n",
       "      <td>10</td>\n",
       "      <td>8</td>\n",
       "      <td>6</td>\n",
       "    </tr>\n",
       "    <tr>\n",
       "      <th>1</th>\n",
       "      <td>Запустить собственную службу доставки, что сократит срок доставки заказов</td>\n",
       "      <td>2</td>\n",
       "      <td>5</td>\n",
       "      <td>4</td>\n",
       "      <td>10</td>\n",
       "    </tr>\n",
       "    <tr>\n",
       "      <th>2</th>\n",
       "      <td>Добавить блоки рекомендаций товаров на сайт интернет магазина, чтобы повысить конверсию и средний чек заказа</td>\n",
       "      <td>8</td>\n",
       "      <td>3</td>\n",
       "      <td>7</td>\n",
       "      <td>3</td>\n",
       "    </tr>\n",
       "    <tr>\n",
       "      <th>3</th>\n",
       "      <td>Изменить структура категорий, что увеличит конверсию, т.к. пользователи быстрее найдут нужный товар</td>\n",
       "      <td>8</td>\n",
       "      <td>3</td>\n",
       "      <td>3</td>\n",
       "      <td>8</td>\n",
       "    </tr>\n",
       "    <tr>\n",
       "      <th>4</th>\n",
       "      <td>Изменить цвет фона главной страницы, чтобы увеличить вовлеченность пользователей</td>\n",
       "      <td>3</td>\n",
       "      <td>1</td>\n",
       "      <td>1</td>\n",
       "      <td>1</td>\n",
       "    </tr>\n",
       "    <tr>\n",
       "      <th>5</th>\n",
       "      <td>Добавить страницу отзывов клиентов о магазине, что позволит увеличить количество заказов</td>\n",
       "      <td>3</td>\n",
       "      <td>2</td>\n",
       "      <td>2</td>\n",
       "      <td>3</td>\n",
       "    </tr>\n",
       "    <tr>\n",
       "      <th>6</th>\n",
       "      <td>Показать на главной странице баннеры с актуальными акциями и распродажами, чтобы увеличить конверсию</td>\n",
       "      <td>5</td>\n",
       "      <td>3</td>\n",
       "      <td>8</td>\n",
       "      <td>3</td>\n",
       "    </tr>\n",
       "    <tr>\n",
       "      <th>7</th>\n",
       "      <td>Добавить форму подписки на все основные страницы, чтобы собрать базу клиентов для email-рассылок</td>\n",
       "      <td>10</td>\n",
       "      <td>7</td>\n",
       "      <td>8</td>\n",
       "      <td>5</td>\n",
       "    </tr>\n",
       "    <tr>\n",
       "      <th>8</th>\n",
       "      <td>Запустить акцию, дающую скидку на товар в день рождения</td>\n",
       "      <td>1</td>\n",
       "      <td>9</td>\n",
       "      <td>9</td>\n",
       "      <td>5</td>\n",
       "    </tr>\n",
       "  </tbody>\n",
       "</table>\n",
       "</div>"
      ],
      "text/plain": [
       "                                                                                                     Hypothesis  \\\n",
       "0            Добавить два новых канала привлечения трафика, что позволит привлекать на 30% больше пользователей   \n",
       "1                                     Запустить собственную службу доставки, что сократит срок доставки заказов   \n",
       "2  Добавить блоки рекомендаций товаров на сайт интернет магазина, чтобы повысить конверсию и средний чек заказа   \n",
       "3           Изменить структура категорий, что увеличит конверсию, т.к. пользователи быстрее найдут нужный товар   \n",
       "4                              Изменить цвет фона главной страницы, чтобы увеличить вовлеченность пользователей   \n",
       "5                      Добавить страницу отзывов клиентов о магазине, что позволит увеличить количество заказов   \n",
       "6          Показать на главной странице баннеры с актуальными акциями и распродажами, чтобы увеличить конверсию   \n",
       "7              Добавить форму подписки на все основные страницы, чтобы собрать базу клиентов для email-рассылок   \n",
       "8                                                       Запустить акцию, дающую скидку на товар в день рождения   \n",
       "\n",
       "   Reach  Impact  Confidence  Efforts  \n",
       "0      3      10           8        6  \n",
       "1      2       5           4       10  \n",
       "2      8       3           7        3  \n",
       "3      8       3           3        8  \n",
       "4      3       1           1        1  \n",
       "5      3       2           2        3  \n",
       "6      5       3           8        3  \n",
       "7     10       7           8        5  \n",
       "8      1       9           9        5  "
      ]
     },
     "metadata": {},
     "output_type": "display_data"
    },
    {
     "name": "stdout",
     "output_type": "stream",
     "text": [
      "<class 'pandas.core.frame.DataFrame'>\n",
      "RangeIndex: 9 entries, 0 to 8\n",
      "Data columns (total 5 columns):\n",
      " #   Column      Non-Null Count  Dtype \n",
      "---  ------      --------------  ----- \n",
      " 0   Hypothesis  9 non-null      object\n",
      " 1   Reach       9 non-null      int64 \n",
      " 2   Impact      9 non-null      int64 \n",
      " 3   Confidence  9 non-null      int64 \n",
      " 4   Efforts     9 non-null      int64 \n",
      "dtypes: int64(4), object(1)\n",
      "memory usage: 488.0+ bytes\n"
     ]
    }
   ],
   "source": [
    "display(hypothesis)\n",
    "hypothesis.info()"
   ]
  },
  {
   "cell_type": "markdown",
   "id": "df65b8ee",
   "metadata": {},
   "source": [
    "**Выоды:**  \n",
    "Пропусков в данных нет, типы данных совпадают с содержимым столбцов. Видим что в названии столбцов используются буквы в верхнем регистре, для того чтобы не возникало путаницы приведем их к нижнему регистру "
   ]
  },
  {
   "cell_type": "code",
   "execution_count": 129,
   "id": "1f15d0b1",
   "metadata": {},
   "outputs": [
    {
     "data": {
      "text/plain": [
       "Index(['hypothesis', 'reach', 'impact', 'confidence', 'efforts'], dtype='object')"
      ]
     },
     "metadata": {},
     "output_type": "display_data"
    }
   ],
   "source": [
    "# Приводим названия полей в датафрейме hypothesis к нижнему регистру \n",
    "hypothesis.columns = hypothesis.columns.str.lower()\n",
    "display(hypothesis.columns)"
   ]
  },
  {
   "cell_type": "markdown",
   "id": "8b0ebd02",
   "metadata": {},
   "source": [
    "### Предобработка в `orders`"
   ]
  },
  {
   "cell_type": "code",
   "execution_count": 130,
   "id": "6096a8e9",
   "metadata": {},
   "outputs": [
    {
     "data": {
      "text/html": [
       "<div>\n",
       "<style scoped>\n",
       "    .dataframe tbody tr th:only-of-type {\n",
       "        vertical-align: middle;\n",
       "    }\n",
       "\n",
       "    .dataframe tbody tr th {\n",
       "        vertical-align: top;\n",
       "    }\n",
       "\n",
       "    .dataframe thead th {\n",
       "        text-align: right;\n",
       "    }\n",
       "</style>\n",
       "<table border=\"1\" class=\"dataframe\">\n",
       "  <thead>\n",
       "    <tr style=\"text-align: right;\">\n",
       "      <th></th>\n",
       "      <th>transactionId</th>\n",
       "      <th>visitorId</th>\n",
       "      <th>date</th>\n",
       "      <th>revenue</th>\n",
       "      <th>group</th>\n",
       "    </tr>\n",
       "  </thead>\n",
       "  <tbody>\n",
       "    <tr>\n",
       "      <th>0</th>\n",
       "      <td>3667963787</td>\n",
       "      <td>3312258926</td>\n",
       "      <td>2019-08-15</td>\n",
       "      <td>1650</td>\n",
       "      <td>B</td>\n",
       "    </tr>\n",
       "    <tr>\n",
       "      <th>1</th>\n",
       "      <td>2804400009</td>\n",
       "      <td>3642806036</td>\n",
       "      <td>2019-08-15</td>\n",
       "      <td>730</td>\n",
       "      <td>B</td>\n",
       "    </tr>\n",
       "    <tr>\n",
       "      <th>2</th>\n",
       "      <td>2961555356</td>\n",
       "      <td>4069496402</td>\n",
       "      <td>2019-08-15</td>\n",
       "      <td>400</td>\n",
       "      <td>A</td>\n",
       "    </tr>\n",
       "    <tr>\n",
       "      <th>3</th>\n",
       "      <td>3797467345</td>\n",
       "      <td>1196621759</td>\n",
       "      <td>2019-08-15</td>\n",
       "      <td>9759</td>\n",
       "      <td>B</td>\n",
       "    </tr>\n",
       "    <tr>\n",
       "      <th>4</th>\n",
       "      <td>2282983706</td>\n",
       "      <td>2322279887</td>\n",
       "      <td>2019-08-15</td>\n",
       "      <td>2308</td>\n",
       "      <td>B</td>\n",
       "    </tr>\n",
       "    <tr>\n",
       "      <th>...</th>\n",
       "      <td>...</td>\n",
       "      <td>...</td>\n",
       "      <td>...</td>\n",
       "      <td>...</td>\n",
       "      <td>...</td>\n",
       "    </tr>\n",
       "    <tr>\n",
       "      <th>1192</th>\n",
       "      <td>2662137336</td>\n",
       "      <td>3733762160</td>\n",
       "      <td>2019-08-14</td>\n",
       "      <td>6490</td>\n",
       "      <td>B</td>\n",
       "    </tr>\n",
       "    <tr>\n",
       "      <th>1193</th>\n",
       "      <td>2203539145</td>\n",
       "      <td>370388673</td>\n",
       "      <td>2019-08-14</td>\n",
       "      <td>3190</td>\n",
       "      <td>A</td>\n",
       "    </tr>\n",
       "    <tr>\n",
       "      <th>1194</th>\n",
       "      <td>1807773912</td>\n",
       "      <td>573423106</td>\n",
       "      <td>2019-08-14</td>\n",
       "      <td>10550</td>\n",
       "      <td>A</td>\n",
       "    </tr>\n",
       "    <tr>\n",
       "      <th>1195</th>\n",
       "      <td>1947021204</td>\n",
       "      <td>1614305549</td>\n",
       "      <td>2019-08-14</td>\n",
       "      <td>100</td>\n",
       "      <td>A</td>\n",
       "    </tr>\n",
       "    <tr>\n",
       "      <th>1196</th>\n",
       "      <td>3936777065</td>\n",
       "      <td>2108080724</td>\n",
       "      <td>2019-08-15</td>\n",
       "      <td>202740</td>\n",
       "      <td>B</td>\n",
       "    </tr>\n",
       "  </tbody>\n",
       "</table>\n",
       "<p>1197 rows × 5 columns</p>\n",
       "</div>"
      ],
      "text/plain": [
       "      transactionId   visitorId        date  revenue group\n",
       "0        3667963787  3312258926  2019-08-15     1650     B\n",
       "1        2804400009  3642806036  2019-08-15      730     B\n",
       "2        2961555356  4069496402  2019-08-15      400     A\n",
       "3        3797467345  1196621759  2019-08-15     9759     B\n",
       "4        2282983706  2322279887  2019-08-15     2308     B\n",
       "...             ...         ...         ...      ...   ...\n",
       "1192     2662137336  3733762160  2019-08-14     6490     B\n",
       "1193     2203539145   370388673  2019-08-14     3190     A\n",
       "1194     1807773912   573423106  2019-08-14    10550     A\n",
       "1195     1947021204  1614305549  2019-08-14      100     A\n",
       "1196     3936777065  2108080724  2019-08-15   202740     B\n",
       "\n",
       "[1197 rows x 5 columns]"
      ]
     },
     "metadata": {},
     "output_type": "display_data"
    },
    {
     "name": "stdout",
     "output_type": "stream",
     "text": [
      "<class 'pandas.core.frame.DataFrame'>\n",
      "RangeIndex: 1197 entries, 0 to 1196\n",
      "Data columns (total 5 columns):\n",
      " #   Column         Non-Null Count  Dtype \n",
      "---  ------         --------------  ----- \n",
      " 0   transactionId  1197 non-null   int64 \n",
      " 1   visitorId      1197 non-null   int64 \n",
      " 2   date           1197 non-null   object\n",
      " 3   revenue        1197 non-null   int64 \n",
      " 4   group          1197 non-null   object\n",
      "dtypes: int64(3), object(2)\n",
      "memory usage: 46.9+ KB\n"
     ]
    }
   ],
   "source": [
    "display(orders)\n",
    "orders.info()"
   ]
  },
  {
   "cell_type": "code",
   "execution_count": 131,
   "id": "6d3f233b",
   "metadata": {},
   "outputs": [
    {
     "data": {
      "text/plain": [
       "Index(['hypothesis', 'reach', 'impact', 'confidence', 'efforts'], dtype='object')"
      ]
     },
     "metadata": {},
     "output_type": "display_data"
    },
    {
     "data": {
      "text/plain": [
       "Index(['transaction_id', 'visitor_id', 'date', 'revenue', 'group'], dtype='object')"
      ]
     },
     "execution_count": 131,
     "metadata": {},
     "output_type": "execute_result"
    }
   ],
   "source": [
    "hypothesis.columns = hypothesis.columns.str.lower()\n",
    "orders.columns = [name.replace('Id', '_id') for name in orders.columns]\n",
    "\n",
    "display(hypothesis.columns)\n",
    "orders.columns"
   ]
  },
  {
   "cell_type": "markdown",
   "id": "07bd77ce",
   "metadata": {},
   "source": [
    "Посмотрим есть ли дубликаты в датафрейме, найдем количество уникальных пользователей в датафрейме"
   ]
  },
  {
   "cell_type": "code",
   "execution_count": 132,
   "id": "0c0b76f3",
   "metadata": {},
   "outputs": [
    {
     "name": "stdout",
     "output_type": "stream",
     "text": [
      "Дубликатов в датафрейме: 0\n",
      "Уникальные значения visitor_id: 1031\n"
     ]
    }
   ],
   "source": [
    "print('Дубликатов в датафрейме:', orders.duplicated().sum())\n",
    "print('Уникальные значения visitor_id:', orders['visitor_id'].nunique())"
   ]
  },
  {
   "cell_type": "markdown",
   "id": "6d1c83cb",
   "metadata": {},
   "source": [
    "Посчитаем сколько пользователей относятся к группе \"А\" и к группе \"B\""
   ]
  },
  {
   "cell_type": "code",
   "execution_count": 133,
   "id": "193ff9dc",
   "metadata": {},
   "outputs": [
    {
     "name": "stdout",
     "output_type": "stream",
     "text": [
      "Количество посетителей группы \"A\": 557\n",
      "Количество посетителей группы \"B\": 640\n"
     ]
    }
   ],
   "source": [
    "visitor_a = orders[['visitor_id', 'transaction_id', 'group']][(orders['group']=='A')]\n",
    "print('Количество посетителей группы \"A\":', visitor_a['visitor_id'].count())\n",
    "\n",
    "visitor_b = orders[['visitor_id', 'transaction_id', 'group']][(orders['group']=='B')]\n",
    "print('Количество посетителей группы \"B\":', visitor_b['visitor_id'].count())"
   ]
  },
  {
   "cell_type": "markdown",
   "id": "3162f9df",
   "metadata": {},
   "source": [
    "Посмотрим сколько пользователей создали заказ который попал в группу \"A\" и в группу \"B\""
   ]
  },
  {
   "cell_type": "code",
   "execution_count": 134,
   "id": "7e6ba20d",
   "metadata": {},
   "outputs": [
    {
     "name": "stdout",
     "output_type": "stream",
     "text": [
      "Количество уникальных пользователей совершивших покупки которые вошли в обе группы: 58\n"
     ]
    }
   ],
   "source": [
    "visitorAB = visitor_a.merge(visitor_b, left_on=['visitor_id'], right_on=['visitor_id'], suffixes=('_A', '_B'))\n",
    "print('Количество уникальных пользователей совершивших покупки которые вошли в обе группы:', \n",
    "      visitorAB['visitor_id'].nunique())"
   ]
  },
  {
   "cell_type": "markdown",
   "id": "fe2de45d",
   "metadata": {},
   "source": [
    "**Выводы:**  \n",
    "Видим что в датафрейме нет пропусков, колонка содержащая дату визита имеет тип данных `object`, также видим что в названиях столбцов `transactionId`, `visitorId` идентификатор - `id` написан слитно и с большой буквы, исправим это. Дубликатов в датафрейме не обнаружено, количество уникальных пользователей - `1031`  \n",
    "\n",
    "Всего `58` уникальных пользователей чьи заказы попали в обе группы, мы не можем удалить их из датафрейма потому что каждый заказ отражен в датафрейме `visitor` как посещение одного пользователя без указания какой конкретно пользователь посетил сайт в определенный промежуток времени. "
   ]
  },
  {
   "cell_type": "code",
   "execution_count": 135,
   "id": "f7522b79",
   "metadata": {},
   "outputs": [
    {
     "data": {
      "text/plain": [
       "Index(['transaction_id', 'visitor_id', 'date', 'revenue', 'group'], dtype='object')"
      ]
     },
     "execution_count": 135,
     "metadata": {},
     "output_type": "execute_result"
    }
   ],
   "source": [
    "# Приведем к (змениному стилю) написание столбцов в датафрейме\n",
    "orders.columns = [name.replace('Id', '_id') for name in orders.columns]\n",
    "\n",
    "# Изменим тип данных для столбца с датами\n",
    "orders['date'] = pd.to_datetime(orders['date'])\n",
    "\n",
    "orders.columns"
   ]
  },
  {
   "cell_type": "markdown",
   "id": "eb574b46",
   "metadata": {},
   "source": [
    "### Предобработка в `visitors`"
   ]
  },
  {
   "cell_type": "code",
   "execution_count": 136,
   "id": "675011bd",
   "metadata": {},
   "outputs": [
    {
     "data": {
      "text/html": [
       "<div>\n",
       "<style scoped>\n",
       "    .dataframe tbody tr th:only-of-type {\n",
       "        vertical-align: middle;\n",
       "    }\n",
       "\n",
       "    .dataframe tbody tr th {\n",
       "        vertical-align: top;\n",
       "    }\n",
       "\n",
       "    .dataframe thead th {\n",
       "        text-align: right;\n",
       "    }\n",
       "</style>\n",
       "<table border=\"1\" class=\"dataframe\">\n",
       "  <thead>\n",
       "    <tr style=\"text-align: right;\">\n",
       "      <th></th>\n",
       "      <th>date</th>\n",
       "      <th>group</th>\n",
       "      <th>visitors</th>\n",
       "    </tr>\n",
       "  </thead>\n",
       "  <tbody>\n",
       "    <tr>\n",
       "      <th>0</th>\n",
       "      <td>2019-08-01</td>\n",
       "      <td>A</td>\n",
       "      <td>719</td>\n",
       "    </tr>\n",
       "    <tr>\n",
       "      <th>1</th>\n",
       "      <td>2019-08-02</td>\n",
       "      <td>A</td>\n",
       "      <td>619</td>\n",
       "    </tr>\n",
       "    <tr>\n",
       "      <th>2</th>\n",
       "      <td>2019-08-03</td>\n",
       "      <td>A</td>\n",
       "      <td>507</td>\n",
       "    </tr>\n",
       "    <tr>\n",
       "      <th>3</th>\n",
       "      <td>2019-08-04</td>\n",
       "      <td>A</td>\n",
       "      <td>717</td>\n",
       "    </tr>\n",
       "    <tr>\n",
       "      <th>4</th>\n",
       "      <td>2019-08-05</td>\n",
       "      <td>A</td>\n",
       "      <td>756</td>\n",
       "    </tr>\n",
       "    <tr>\n",
       "      <th>...</th>\n",
       "      <td>...</td>\n",
       "      <td>...</td>\n",
       "      <td>...</td>\n",
       "    </tr>\n",
       "    <tr>\n",
       "      <th>57</th>\n",
       "      <td>2019-08-27</td>\n",
       "      <td>B</td>\n",
       "      <td>720</td>\n",
       "    </tr>\n",
       "    <tr>\n",
       "      <th>58</th>\n",
       "      <td>2019-08-28</td>\n",
       "      <td>B</td>\n",
       "      <td>654</td>\n",
       "    </tr>\n",
       "    <tr>\n",
       "      <th>59</th>\n",
       "      <td>2019-08-29</td>\n",
       "      <td>B</td>\n",
       "      <td>531</td>\n",
       "    </tr>\n",
       "    <tr>\n",
       "      <th>60</th>\n",
       "      <td>2019-08-30</td>\n",
       "      <td>B</td>\n",
       "      <td>490</td>\n",
       "    </tr>\n",
       "    <tr>\n",
       "      <th>61</th>\n",
       "      <td>2019-08-31</td>\n",
       "      <td>B</td>\n",
       "      <td>718</td>\n",
       "    </tr>\n",
       "  </tbody>\n",
       "</table>\n",
       "<p>62 rows × 3 columns</p>\n",
       "</div>"
      ],
      "text/plain": [
       "          date group  visitors\n",
       "0   2019-08-01     A       719\n",
       "1   2019-08-02     A       619\n",
       "2   2019-08-03     A       507\n",
       "3   2019-08-04     A       717\n",
       "4   2019-08-05     A       756\n",
       "..         ...   ...       ...\n",
       "57  2019-08-27     B       720\n",
       "58  2019-08-28     B       654\n",
       "59  2019-08-29     B       531\n",
       "60  2019-08-30     B       490\n",
       "61  2019-08-31     B       718\n",
       "\n",
       "[62 rows x 3 columns]"
      ]
     },
     "metadata": {},
     "output_type": "display_data"
    },
    {
     "name": "stdout",
     "output_type": "stream",
     "text": [
      "<class 'pandas.core.frame.DataFrame'>\n",
      "RangeIndex: 62 entries, 0 to 61\n",
      "Data columns (total 3 columns):\n",
      " #   Column    Non-Null Count  Dtype \n",
      "---  ------    --------------  ----- \n",
      " 0   date      62 non-null     object\n",
      " 1   group     62 non-null     object\n",
      " 2   visitors  62 non-null     int64 \n",
      "dtypes: int64(1), object(2)\n",
      "memory usage: 1.6+ KB\n"
     ]
    }
   ],
   "source": [
    "display(visitors)\n",
    "visitors.info()"
   ]
  },
  {
   "cell_type": "code",
   "execution_count": 137,
   "id": "c3ce5aa2",
   "metadata": {},
   "outputs": [
    {
     "name": "stdout",
     "output_type": "stream",
     "text": [
      "Дубликатов в датафрейме: 0\n"
     ]
    }
   ],
   "source": [
    "print('Дубликатов в датафрейме:', visitors.duplicated().sum())"
   ]
  },
  {
   "cell_type": "markdown",
   "id": "03bd9eb7",
   "metadata": {},
   "source": [
    "**Выводы:**  \n",
    "Пропуски в столбцах отсутствуют, видим что в колонке с датами тип данных `object`, приведем его в тип `date`"
   ]
  },
  {
   "cell_type": "code",
   "execution_count": 138,
   "id": "4e04922a",
   "metadata": {},
   "outputs": [],
   "source": [
    "# Изменим тип данных для столбца с датами\n",
    "visitors['date'] = pd.to_datetime(visitors['date'])"
   ]
  },
  {
   "cell_type": "markdown",
   "id": "a874f7b9",
   "metadata": {},
   "source": [
    "## Часть 1. Приоритизация гипотез."
   ]
  },
  {
   "cell_type": "markdown",
   "id": "4d512aa4",
   "metadata": {},
   "source": [
    "### Применим фреймворк `ICE` для приоритизации гипотез. Отсортируем их значения по убыванию приоритета."
   ]
  },
  {
   "cell_type": "code",
   "execution_count": 139,
   "id": "53dbed0b",
   "metadata": {},
   "outputs": [
    {
     "data": {
      "text/html": [
       "<div>\n",
       "<style scoped>\n",
       "    .dataframe tbody tr th:only-of-type {\n",
       "        vertical-align: middle;\n",
       "    }\n",
       "\n",
       "    .dataframe tbody tr th {\n",
       "        vertical-align: top;\n",
       "    }\n",
       "\n",
       "    .dataframe thead th {\n",
       "        text-align: right;\n",
       "    }\n",
       "</style>\n",
       "<table border=\"1\" class=\"dataframe\">\n",
       "  <thead>\n",
       "    <tr style=\"text-align: right;\">\n",
       "      <th></th>\n",
       "      <th>hypothesis</th>\n",
       "      <th>ice</th>\n",
       "    </tr>\n",
       "  </thead>\n",
       "  <tbody>\n",
       "    <tr>\n",
       "      <th>8</th>\n",
       "      <td>Запустить акцию, дающую скидку на товар в день рождения</td>\n",
       "      <td>16.200</td>\n",
       "    </tr>\n",
       "    <tr>\n",
       "      <th>0</th>\n",
       "      <td>Добавить два новых канала привлечения трафика, что позволит привлекать на 30% больше пользователей</td>\n",
       "      <td>13.333</td>\n",
       "    </tr>\n",
       "    <tr>\n",
       "      <th>7</th>\n",
       "      <td>Добавить форму подписки на все основные страницы, чтобы собрать базу клиентов для email-рассылок</td>\n",
       "      <td>11.200</td>\n",
       "    </tr>\n",
       "    <tr>\n",
       "      <th>6</th>\n",
       "      <td>Показать на главной странице баннеры с актуальными акциями и распродажами, чтобы увеличить конверсию</td>\n",
       "      <td>8.000</td>\n",
       "    </tr>\n",
       "    <tr>\n",
       "      <th>2</th>\n",
       "      <td>Добавить блоки рекомендаций товаров на сайт интернет магазина, чтобы повысить конверсию и средний чек заказа</td>\n",
       "      <td>7.000</td>\n",
       "    </tr>\n",
       "    <tr>\n",
       "      <th>1</th>\n",
       "      <td>Запустить собственную службу доставки, что сократит срок доставки заказов</td>\n",
       "      <td>2.000</td>\n",
       "    </tr>\n",
       "    <tr>\n",
       "      <th>5</th>\n",
       "      <td>Добавить страницу отзывов клиентов о магазине, что позволит увеличить количество заказов</td>\n",
       "      <td>1.333</td>\n",
       "    </tr>\n",
       "    <tr>\n",
       "      <th>3</th>\n",
       "      <td>Изменить структура категорий, что увеличит конверсию, т.к. пользователи быстрее найдут нужный товар</td>\n",
       "      <td>1.125</td>\n",
       "    </tr>\n",
       "    <tr>\n",
       "      <th>4</th>\n",
       "      <td>Изменить цвет фона главной страницы, чтобы увеличить вовлеченность пользователей</td>\n",
       "      <td>1.000</td>\n",
       "    </tr>\n",
       "  </tbody>\n",
       "</table>\n",
       "</div>"
      ],
      "text/plain": [
       "                                                                                                     hypothesis  \\\n",
       "8                                                       Запустить акцию, дающую скидку на товар в день рождения   \n",
       "0            Добавить два новых канала привлечения трафика, что позволит привлекать на 30% больше пользователей   \n",
       "7              Добавить форму подписки на все основные страницы, чтобы собрать базу клиентов для email-рассылок   \n",
       "6          Показать на главной странице баннеры с актуальными акциями и распродажами, чтобы увеличить конверсию   \n",
       "2  Добавить блоки рекомендаций товаров на сайт интернет магазина, чтобы повысить конверсию и средний чек заказа   \n",
       "1                                     Запустить собственную службу доставки, что сократит срок доставки заказов   \n",
       "5                      Добавить страницу отзывов клиентов о магазине, что позволит увеличить количество заказов   \n",
       "3           Изменить структура категорий, что увеличит конверсию, т.к. пользователи быстрее найдут нужный товар   \n",
       "4                              Изменить цвет фона главной страницы, чтобы увеличить вовлеченность пользователей   \n",
       "\n",
       "     ice  \n",
       "8 16.200  \n",
       "0 13.333  \n",
       "7 11.200  \n",
       "6  8.000  \n",
       "2  7.000  \n",
       "1  2.000  \n",
       "5  1.333  \n",
       "3  1.125  \n",
       "4  1.000  "
      ]
     },
     "metadata": {},
     "output_type": "display_data"
    }
   ],
   "source": [
    "hypothesis['ice'] = hypothesis['impact'] * hypothesis['confidence'] / hypothesis['efforts']\n",
    "\n",
    "display(hypothesis[['hypothesis', 'ice']].sort_values(by='ice', ascending=False))"
   ]
  },
  {
   "cell_type": "markdown",
   "id": "e0fbefcf",
   "metadata": {},
   "source": [
    "**Вывод:**  \n",
    "Приотизируюя гипотезы методом `ICE` видим, что восьмая гипотеза наиболее приорететна - (*сильна*) для дальшейшей её передачи в работу  \n",
    "Посмотрим что изменится когда мы приотерезируем гипотезы методом `RICE`"
   ]
  },
  {
   "cell_type": "markdown",
   "id": "395482ad",
   "metadata": {},
   "source": [
    "### Применим фреймворк `RICE` для приоритизации гипотез. Отсортируем их по убыванию приоритета."
   ]
  },
  {
   "cell_type": "code",
   "execution_count": 140,
   "id": "34ec3738",
   "metadata": {},
   "outputs": [
    {
     "data": {
      "text/html": [
       "<div>\n",
       "<style scoped>\n",
       "    .dataframe tbody tr th:only-of-type {\n",
       "        vertical-align: middle;\n",
       "    }\n",
       "\n",
       "    .dataframe tbody tr th {\n",
       "        vertical-align: top;\n",
       "    }\n",
       "\n",
       "    .dataframe thead th {\n",
       "        text-align: right;\n",
       "    }\n",
       "</style>\n",
       "<table border=\"1\" class=\"dataframe\">\n",
       "  <thead>\n",
       "    <tr style=\"text-align: right;\">\n",
       "      <th></th>\n",
       "      <th>hypothesis</th>\n",
       "      <th>rice</th>\n",
       "    </tr>\n",
       "  </thead>\n",
       "  <tbody>\n",
       "    <tr>\n",
       "      <th>7</th>\n",
       "      <td>Добавить форму подписки на все основные страницы, чтобы собрать базу клиентов для email-рассылок</td>\n",
       "      <td>112.000</td>\n",
       "    </tr>\n",
       "    <tr>\n",
       "      <th>2</th>\n",
       "      <td>Добавить блоки рекомендаций товаров на сайт интернет магазина, чтобы повысить конверсию и средний чек заказа</td>\n",
       "      <td>56.000</td>\n",
       "    </tr>\n",
       "    <tr>\n",
       "      <th>0</th>\n",
       "      <td>Добавить два новых канала привлечения трафика, что позволит привлекать на 30% больше пользователей</td>\n",
       "      <td>40.000</td>\n",
       "    </tr>\n",
       "    <tr>\n",
       "      <th>6</th>\n",
       "      <td>Показать на главной странице баннеры с актуальными акциями и распродажами, чтобы увеличить конверсию</td>\n",
       "      <td>40.000</td>\n",
       "    </tr>\n",
       "    <tr>\n",
       "      <th>8</th>\n",
       "      <td>Запустить акцию, дающую скидку на товар в день рождения</td>\n",
       "      <td>16.200</td>\n",
       "    </tr>\n",
       "    <tr>\n",
       "      <th>3</th>\n",
       "      <td>Изменить структура категорий, что увеличит конверсию, т.к. пользователи быстрее найдут нужный товар</td>\n",
       "      <td>9.000</td>\n",
       "    </tr>\n",
       "    <tr>\n",
       "      <th>1</th>\n",
       "      <td>Запустить собственную службу доставки, что сократит срок доставки заказов</td>\n",
       "      <td>4.000</td>\n",
       "    </tr>\n",
       "    <tr>\n",
       "      <th>5</th>\n",
       "      <td>Добавить страницу отзывов клиентов о магазине, что позволит увеличить количество заказов</td>\n",
       "      <td>4.000</td>\n",
       "    </tr>\n",
       "    <tr>\n",
       "      <th>4</th>\n",
       "      <td>Изменить цвет фона главной страницы, чтобы увеличить вовлеченность пользователей</td>\n",
       "      <td>3.000</td>\n",
       "    </tr>\n",
       "  </tbody>\n",
       "</table>\n",
       "</div>"
      ],
      "text/plain": [
       "                                                                                                     hypothesis  \\\n",
       "7              Добавить форму подписки на все основные страницы, чтобы собрать базу клиентов для email-рассылок   \n",
       "2  Добавить блоки рекомендаций товаров на сайт интернет магазина, чтобы повысить конверсию и средний чек заказа   \n",
       "0            Добавить два новых канала привлечения трафика, что позволит привлекать на 30% больше пользователей   \n",
       "6          Показать на главной странице баннеры с актуальными акциями и распродажами, чтобы увеличить конверсию   \n",
       "8                                                       Запустить акцию, дающую скидку на товар в день рождения   \n",
       "3           Изменить структура категорий, что увеличит конверсию, т.к. пользователи быстрее найдут нужный товар   \n",
       "1                                     Запустить собственную службу доставки, что сократит срок доставки заказов   \n",
       "5                      Добавить страницу отзывов клиентов о магазине, что позволит увеличить количество заказов   \n",
       "4                              Изменить цвет фона главной страницы, чтобы увеличить вовлеченность пользователей   \n",
       "\n",
       "     rice  \n",
       "7 112.000  \n",
       "2  56.000  \n",
       "0  40.000  \n",
       "6  40.000  \n",
       "8  16.200  \n",
       "3   9.000  \n",
       "1   4.000  \n",
       "5   4.000  \n",
       "4   3.000  "
      ]
     },
     "execution_count": 140,
     "metadata": {},
     "output_type": "execute_result"
    }
   ],
   "source": [
    "hypothesis['rice'] = hypothesis['reach'] * hypothesis['impact'] * hypothesis['confidence'] / hypothesis['efforts']\n",
    "\n",
    "hypothesis[['hypothesis', 'rice']].sort_values(by='rice', ascending=False)"
   ]
  },
  {
   "cell_type": "markdown",
   "id": "6385d90c",
   "metadata": {},
   "source": [
    "**Вывод:**  \n",
    "Приотерезируя гипотезы методом `RICE` видим, что если добавить в критерий приоретизации \"Охват пользователей\" которых затронет изменение наибольший приоретет будут иметь иные гипотезы. Гипотеза метода `ICE` сместилась на пятую строчку, таким образом мы понимаем что охват пользователей при использовании восьмой гипотезы не так велик как например у седьмой"
   ]
  },
  {
   "cell_type": "markdown",
   "id": "6cfe1a49",
   "metadata": {},
   "source": [
    "## Часть 2. Анализ A/B-теста"
   ]
  },
  {
   "cell_type": "markdown",
   "id": "c1df9142",
   "metadata": {},
   "source": [
    "### 1. Построим график кумулятивной выручки по группам"
   ]
  },
  {
   "cell_type": "code",
   "execution_count": 141,
   "id": "556fed36",
   "metadata": {},
   "outputs": [
    {
     "data": {
      "text/html": [
       "<div>\n",
       "<style scoped>\n",
       "    .dataframe tbody tr th:only-of-type {\n",
       "        vertical-align: middle;\n",
       "    }\n",
       "\n",
       "    .dataframe tbody tr th {\n",
       "        vertical-align: top;\n",
       "    }\n",
       "\n",
       "    .dataframe thead th {\n",
       "        text-align: right;\n",
       "    }\n",
       "</style>\n",
       "<table border=\"1\" class=\"dataframe\">\n",
       "  <thead>\n",
       "    <tr style=\"text-align: right;\">\n",
       "      <th></th>\n",
       "      <th>date</th>\n",
       "      <th>group</th>\n",
       "      <th>transaction_id</th>\n",
       "      <th>visitor_id</th>\n",
       "      <th>revenue</th>\n",
       "    </tr>\n",
       "  </thead>\n",
       "  <tbody>\n",
       "    <tr>\n",
       "      <th>55</th>\n",
       "      <td>2019-08-01</td>\n",
       "      <td>A</td>\n",
       "      <td>24</td>\n",
       "      <td>20</td>\n",
       "      <td>148579</td>\n",
       "    </tr>\n",
       "    <tr>\n",
       "      <th>66</th>\n",
       "      <td>2019-08-01</td>\n",
       "      <td>B</td>\n",
       "      <td>21</td>\n",
       "      <td>20</td>\n",
       "      <td>101217</td>\n",
       "    </tr>\n",
       "    <tr>\n",
       "      <th>175</th>\n",
       "      <td>2019-08-02</td>\n",
       "      <td>A</td>\n",
       "      <td>44</td>\n",
       "      <td>38</td>\n",
       "      <td>242401</td>\n",
       "    </tr>\n",
       "    <tr>\n",
       "      <th>173</th>\n",
       "      <td>2019-08-02</td>\n",
       "      <td>B</td>\n",
       "      <td>45</td>\n",
       "      <td>43</td>\n",
       "      <td>266748</td>\n",
       "    </tr>\n",
       "    <tr>\n",
       "      <th>291</th>\n",
       "      <td>2019-08-03</td>\n",
       "      <td>A</td>\n",
       "      <td>68</td>\n",
       "      <td>62</td>\n",
       "      <td>354874</td>\n",
       "    </tr>\n",
       "  </tbody>\n",
       "</table>\n",
       "</div>"
      ],
      "text/plain": [
       "          date group  transaction_id  visitor_id  revenue\n",
       "55  2019-08-01     A              24          20   148579\n",
       "66  2019-08-01     B              21          20   101217\n",
       "175 2019-08-02     A              44          38   242401\n",
       "173 2019-08-02     B              45          43   266748\n",
       "291 2019-08-03     A              68          62   354874"
      ]
     },
     "execution_count": 141,
     "metadata": {},
     "output_type": "execute_result"
    }
   ],
   "source": [
    "# Создаем массив уникальных пар значений дат и групп теста\n",
    "dates_grouped = orders[['date', 'group']].drop_duplicates()\n",
    "\n",
    "# Получаем агрегированные кумулятивные по дням данные о заказах \n",
    "orders_grouped = dates_grouped.apply(lambda x: orders[np.logical_and(orders['date'] <= x['date'], \n",
    "                                                                     orders['group'] == x['group'])]\n",
    "                                     .agg({'date': 'max',\n",
    "                                           'group': 'max',\n",
    "                                           'transaction_id': 'nunique',\n",
    "                                           'visitor_id': 'nunique',\n",
    "                                           'revenue': 'sum',}), axis=1,).sort_values(by=['date', 'group'])\n",
    "orders_grouped.head(5)"
   ]
  },
  {
   "cell_type": "code",
   "execution_count": 142,
   "id": "a43a71c1",
   "metadata": {},
   "outputs": [
    {
     "data": {
      "text/html": [
       "<div>\n",
       "<style scoped>\n",
       "    .dataframe tbody tr th:only-of-type {\n",
       "        vertical-align: middle;\n",
       "    }\n",
       "\n",
       "    .dataframe tbody tr th {\n",
       "        vertical-align: top;\n",
       "    }\n",
       "\n",
       "    .dataframe thead th {\n",
       "        text-align: right;\n",
       "    }\n",
       "</style>\n",
       "<table border=\"1\" class=\"dataframe\">\n",
       "  <thead>\n",
       "    <tr style=\"text-align: right;\">\n",
       "      <th></th>\n",
       "      <th>date</th>\n",
       "      <th>group</th>\n",
       "      <th>visitors</th>\n",
       "    </tr>\n",
       "  </thead>\n",
       "  <tbody>\n",
       "    <tr>\n",
       "      <th>55</th>\n",
       "      <td>2019-08-01</td>\n",
       "      <td>A</td>\n",
       "      <td>719</td>\n",
       "    </tr>\n",
       "    <tr>\n",
       "      <th>66</th>\n",
       "      <td>2019-08-01</td>\n",
       "      <td>B</td>\n",
       "      <td>713</td>\n",
       "    </tr>\n",
       "    <tr>\n",
       "      <th>175</th>\n",
       "      <td>2019-08-02</td>\n",
       "      <td>A</td>\n",
       "      <td>1338</td>\n",
       "    </tr>\n",
       "    <tr>\n",
       "      <th>173</th>\n",
       "      <td>2019-08-02</td>\n",
       "      <td>B</td>\n",
       "      <td>1294</td>\n",
       "    </tr>\n",
       "    <tr>\n",
       "      <th>291</th>\n",
       "      <td>2019-08-03</td>\n",
       "      <td>A</td>\n",
       "      <td>1845</td>\n",
       "    </tr>\n",
       "  </tbody>\n",
       "</table>\n",
       "</div>"
      ],
      "text/plain": [
       "          date group  visitors\n",
       "55  2019-08-01     A       719\n",
       "66  2019-08-01     B       713\n",
       "175 2019-08-02     A      1338\n",
       "173 2019-08-02     B      1294\n",
       "291 2019-08-03     A      1845"
      ]
     },
     "execution_count": 142,
     "metadata": {},
     "output_type": "execute_result"
    }
   ],
   "source": [
    "# Получаем агрегированные кумулятивные по дням данные о посетителях интернет-магазина \n",
    "visitors_grouped = dates_grouped.apply(lambda x: visitors[np.logical_and(visitors['date'] <= x['date'],\n",
    "                                                                         visitors['group'] == x['group'])]\n",
    "                                       .agg({'date': 'max', \n",
    "                                             'group': 'max', \n",
    "                                             'visitors': 'sum'}), axis=1,).sort_values(by=['date', 'group'])\n",
    "visitors_grouped.head(5)"
   ]
  },
  {
   "cell_type": "code",
   "execution_count": 143,
   "id": "07b1e8e9",
   "metadata": {},
   "outputs": [],
   "source": [
    "# Объединяем кумулятивные данные в одной таблице и присваиваем ее столбцам понятные названия\n",
    "cumulative_data = orders_grouped.merge(visitors_grouped, left_on=['date', 'group'], right_on=['date', 'group'])\n",
    "\n",
    "cumulative_data.columns = ['date', 'group', 'orders', 'buyers', 'revenue', 'visitors']"
   ]
  },
  {
   "cell_type": "code",
   "execution_count": 144,
   "id": "2fa36fb1",
   "metadata": {},
   "outputs": [
    {
     "data": {
      "text/html": [
       "<div>\n",
       "<style scoped>\n",
       "    .dataframe tbody tr th:only-of-type {\n",
       "        vertical-align: middle;\n",
       "    }\n",
       "\n",
       "    .dataframe tbody tr th {\n",
       "        vertical-align: top;\n",
       "    }\n",
       "\n",
       "    .dataframe thead th {\n",
       "        text-align: right;\n",
       "    }\n",
       "</style>\n",
       "<table border=\"1\" class=\"dataframe\">\n",
       "  <thead>\n",
       "    <tr style=\"text-align: right;\">\n",
       "      <th></th>\n",
       "      <th>date</th>\n",
       "      <th>group</th>\n",
       "      <th>orders</th>\n",
       "      <th>buyers</th>\n",
       "      <th>revenue</th>\n",
       "      <th>visitors</th>\n",
       "      <th>conversion</th>\n",
       "    </tr>\n",
       "  </thead>\n",
       "  <tbody>\n",
       "    <tr>\n",
       "      <th>0</th>\n",
       "      <td>2019-08-01</td>\n",
       "      <td>A</td>\n",
       "      <td>24</td>\n",
       "      <td>20</td>\n",
       "      <td>148579</td>\n",
       "      <td>719</td>\n",
       "      <td>0.033</td>\n",
       "    </tr>\n",
       "    <tr>\n",
       "      <th>1</th>\n",
       "      <td>2019-08-01</td>\n",
       "      <td>B</td>\n",
       "      <td>21</td>\n",
       "      <td>20</td>\n",
       "      <td>101217</td>\n",
       "      <td>713</td>\n",
       "      <td>0.029</td>\n",
       "    </tr>\n",
       "    <tr>\n",
       "      <th>2</th>\n",
       "      <td>2019-08-02</td>\n",
       "      <td>A</td>\n",
       "      <td>44</td>\n",
       "      <td>38</td>\n",
       "      <td>242401</td>\n",
       "      <td>1338</td>\n",
       "      <td>0.033</td>\n",
       "    </tr>\n",
       "    <tr>\n",
       "      <th>3</th>\n",
       "      <td>2019-08-02</td>\n",
       "      <td>B</td>\n",
       "      <td>45</td>\n",
       "      <td>43</td>\n",
       "      <td>266748</td>\n",
       "      <td>1294</td>\n",
       "      <td>0.035</td>\n",
       "    </tr>\n",
       "    <tr>\n",
       "      <th>4</th>\n",
       "      <td>2019-08-03</td>\n",
       "      <td>A</td>\n",
       "      <td>68</td>\n",
       "      <td>62</td>\n",
       "      <td>354874</td>\n",
       "      <td>1845</td>\n",
       "      <td>0.037</td>\n",
       "    </tr>\n",
       "  </tbody>\n",
       "</table>\n",
       "</div>"
      ],
      "text/plain": [
       "        date group  orders  buyers  revenue  visitors  conversion\n",
       "0 2019-08-01     A      24      20   148579       719       0.033\n",
       "1 2019-08-01     B      21      20   101217       713       0.029\n",
       "2 2019-08-02     A      44      38   242401      1338       0.033\n",
       "3 2019-08-02     B      45      43   266748      1294       0.035\n",
       "4 2019-08-03     A      68      62   354874      1845       0.037"
      ]
     },
     "execution_count": 144,
     "metadata": {},
     "output_type": "execute_result"
    }
   ],
   "source": [
    "# Добавим столбец с конверсией\n",
    "cumulative_data['conversion'] = cumulative_data['orders'] / cumulative_data['visitors']\n",
    "cumulative_data.head(5)"
   ]
  },
  {
   "cell_type": "code",
   "execution_count": 145,
   "id": "403767aa",
   "metadata": {},
   "outputs": [
    {
     "data": {
      "image/png": "[encoded data removed]",
      "text/plain": [
       "<Figure size 720x432 with 1 Axes>"
      ]
     },
     "metadata": {
      "needs_background": "light"
     },
     "output_type": "display_data"
    }
   ],
   "source": [
    "# Построим график комулятивной выручки по группам\n",
    "\n",
    "# Датафрейм с кумулятивным количеством заказов и кумулятивной выручкой по дням в группе А\n",
    "cumulative_revenue_a = cumulative_data[cumulative_data['group']=='A'][['date','revenue', 'orders']]\n",
    "\n",
    "# Датафрейм с кумулятивным количеством заказов и кумулятивной выручкой по дням в группе B\n",
    "cumulative_revenue_b = cumulative_data[cumulative_data['group']=='B'][['date','revenue', 'orders']]\n",
    "\n",
    "plt.figure(figsize=(10, 6))\n",
    "plt.grid(True)\n",
    "plt.plot(cumulative_revenue_a['date'], cumulative_revenue_a['revenue'], label='A')\n",
    "plt.plot(cumulative_revenue_b['date'], cumulative_revenue_b['revenue'], label='B')\n",
    "plt.title('Динамика кумулятивной выручки по группам А и В', fontsize=15)\n",
    "plt.ylabel(\"Выручка\")\n",
    "plt.xticks(rotation=40)\n",
    "plt.legend()\n",
    "plt.show()"
   ]
  },
  {
   "cell_type": "markdown",
   "id": "46e923f8",
   "metadata": {},
   "source": [
    "**Вывод:**  \n",
    "На графике комулятивной выручки мы можем видеть, что в группе \"B\" приблезительно от 18 августа начинается резкий скачек выручки, в то время как график группы \"A\" растет линейно  \n",
    "Резкий рост выручки возможен когда кто-то совершил большой заказ, возможно это была череда заказов нескольких пользователей или же один большой заказ одного пользователя за раз "
   ]
  },
  {
   "cell_type": "markdown",
   "id": "6d01a1c9",
   "metadata": {},
   "source": [
    "### 2. Построим график кумулятивного среднего чека по группам."
   ]
  },
  {
   "cell_type": "code",
   "execution_count": 146,
   "id": "e7a67d10",
   "metadata": {},
   "outputs": [
    {
     "data": {
      "image/png": "[encoded data removed]",
      "text/plain": [
       "<Figure size 720x432 with 1 Axes>"
      ]
     },
     "metadata": {
      "needs_background": "light"
     },
     "output_type": "display_data"
    }
   ],
   "source": [
    "plt.figure(figsize=(10, 6))\n",
    "plt.grid(True)\n",
    "plt.plot(cumulative_revenue_a['date'], \n",
    "         cumulative_revenue_a['revenue'] / cumulative_revenue_a['orders'],\n",
    "         label='A')\n",
    "\n",
    "plt.plot(cumulative_revenue_b['date'], \n",
    "         cumulative_revenue_b['revenue'] / cumulative_revenue_b['orders'], \n",
    "         label='B')\n",
    "\n",
    "plt.title('График динамики кумулятивного среднего чека по группам А и В', fontsize=15)\n",
    "plt.ylabel(\"Средний чек\")\n",
    "plt.xticks(rotation=40)\n",
    "plt.legend()\n",
    "plt.show()"
   ]
  },
  {
   "cell_type": "markdown",
   "id": "20fafbe9",
   "metadata": {},
   "source": [
    "**Вывод:**  \n",
    "На графике видим что в группе \"B\" идет резкий рост среднего чека в районе 18 августа, что говорит в пользу версии о дорогой покупке. В то же время на графике \"А\" видим что в начале присутствует спад среднего чека который потом невилируется большим средним чеком и далее график стабилизируется."
   ]
  },
  {
   "cell_type": "markdown",
   "id": "0a9db8bb",
   "metadata": {},
   "source": [
    "### 3. Построим график относительного изменения кумулятивного среднего чека группы B к группе A"
   ]
  },
  {
   "cell_type": "code",
   "execution_count": 147,
   "id": "6ec3ea0c",
   "metadata": {},
   "outputs": [
    {
     "data": {
      "image/png": "[encoded data removed]",
      "text/plain": [
       "<Figure size 720x432 with 1 Axes>"
      ]
     },
     "metadata": {
      "needs_background": "light"
     },
     "output_type": "display_data"
    }
   ],
   "source": [
    "# Cобираем данные в одном датафрейме\n",
    "cumulative_revenue_ab = cumulative_revenue_a.merge(cumulative_revenue_b, \n",
    "                                                   left_on='date', \n",
    "                                                   right_on='date', \n",
    "                                                   how='left', \n",
    "                                                   suffixes=['_a', '_b'])\n",
    "\n",
    "# Построим график отношения средних чеков группы \"B\" к группе \"А\"\n",
    "plt.figure(figsize=(10, 6))\n",
    "plt.grid(True)\n",
    "plt.plot(cumulative_revenue_ab['date'], \n",
    "        (cumulative_revenue_ab['revenue_b']/\n",
    "         cumulative_revenue_ab['orders_b'])/(cumulative_revenue_ab['revenue_a']/cumulative_revenue_ab['orders_a'])-1)\n",
    "plt.axhline(y=0, color='red', linestyle='--')\n",
    "plt.title('График относительного изменения кумулятивного среднего чека группы B к группе A', fontsize=15)\n",
    "plt.xticks(rotation=40)\n",
    "plt.show()"
   ]
  },
  {
   "cell_type": "markdown",
   "id": "a6d25948",
   "metadata": {},
   "source": [
    "**Вывод:**  \n",
    "На графике мы можем видеть резкий рост комулятивного среднего чека в нескольких точках на графике, что явно говорит нам о некоторых вбросах, больших покупках."
   ]
  },
  {
   "cell_type": "markdown",
   "id": "cae2588b",
   "metadata": {},
   "source": [
    "### 4. Построим график кумулятивного среднего количества заказов по группам"
   ]
  },
  {
   "cell_type": "code",
   "execution_count": 148,
   "id": "762f482c",
   "metadata": {},
   "outputs": [
    {
     "data": {
      "image/png": "[encoded data removed]",
      "text/plain": [
       "<Figure size 720x432 with 1 Axes>"
      ]
     },
     "metadata": {
      "needs_background": "light"
     },
     "output_type": "display_data"
    }
   ],
   "source": [
    "# Создаем датафрейм комулятивных метрик группы \"A\"\n",
    "cumulative_data_a = cumulative_data[cumulative_data['group']=='A']\n",
    "\n",
    "# Создаем датафрейм комулятивных метрик группы \"B\"\n",
    "cumulative_data_b = cumulative_data[cumulative_data['group']=='B']\n",
    "\n",
    "# Строим график\n",
    "plt.figure(figsize=(10, 6))\n",
    "plt.grid(True)\n",
    "plt.plot(cumulative_revenue_ab['orders_a'], label='A')\n",
    "plt.plot(cumulative_revenue_ab['orders_b'], label='B')\n",
    "plt.legend()\n",
    "plt.title('График кумулятивного среднего количества заказов по группам')\n",
    "plt.xlabel(' ')\n",
    "plt.show()"
   ]
  },
  {
   "cell_type": "markdown",
   "id": "294b3afd",
   "metadata": {},
   "source": [
    "**Вывод:**  \n",
    "Видим что сначала график конверсии заказов сильно скачет относительно групп, но потом группа \"B\" выходит на стабильно высокий уровень конверсии относительно группы \"A\" из чего следует вывод - в группе \"B\" средний уровень заказов относительно посетителей стабыльно выше чем у группы \"A\""
   ]
  },
  {
   "cell_type": "markdown",
   "id": "4fe8c8df",
   "metadata": {},
   "source": [
    "### 5. Построим график относительного изменения кумулятивного среднего количества заказов группы B к группе A"
   ]
  },
  {
   "cell_type": "code",
   "execution_count": 149,
   "id": "1da00419",
   "metadata": {},
   "outputs": [
    {
     "data": {
      "image/png": "[encoded data removed]",
      "text/plain": [
       "<Figure size 720x432 with 1 Axes>"
      ]
     },
     "metadata": {
      "needs_background": "light"
     },
     "output_type": "display_data"
    }
   ],
   "source": [
    "# Cобираем данные в одном датафрейме\n",
    "cumulative_revenue_ab = cumulative_revenue_a.merge(cumulative_revenue_b, \n",
    "                                                   left_on='date', \n",
    "                                                   right_on='date', \n",
    "                                                   how='left', \n",
    "                                                   suffixes=['_a', '_b'])\n",
    "\n",
    "# Построим график отношения комулятивного среднего количества заказов группы \"B\" к группе \"А\"\n",
    "plt.figure(figsize=(10, 6))\n",
    "plt.grid(True)\n",
    "plt.plot(cumulative_revenue_ab['date'],\n",
    "         (cumulative_revenue_ab['orders_b'])/\n",
    "         (cumulative_revenue_ab['orders_a'])-1)\n",
    "plt.axhline(y=0, color='red', linestyle='--') \n",
    "plt.title('График относительного изменения кумулятивного среднего количества заказов группы B к группе A')\n",
    "plt.xticks(rotation=40)\n",
    "plt.show()"
   ]
  },
  {
   "cell_type": "markdown",
   "id": "bb2e0618",
   "metadata": {},
   "source": [
    "**Вывод:**  \n",
    "Видим что в одну дату был совершон крупный заказ, а затем график начинает стабилизироваться. В группе \"B\" среднее количество заказов стабильно выше чем у группы \"A\""
   ]
  },
  {
   "cell_type": "markdown",
   "id": "fb18e082",
   "metadata": {},
   "source": [
    "### 6. Постройте точечный график количества заказов по пользователям"
   ]
  },
  {
   "cell_type": "markdown",
   "id": "c34ed5b5",
   "metadata": {},
   "source": [
    "Нужно выявить пользователей интернет магазина которые соврешили больше всего заказов, такие пользователи влияют на конверсию, количество заказов на количество посетителей интернет магазина"
   ]
  },
  {
   "cell_type": "code",
   "execution_count": 150,
   "id": "3d41fdd9",
   "metadata": {},
   "outputs": [
    {
     "data": {
      "text/html": [
       "<div>\n",
       "<style scoped>\n",
       "    .dataframe tbody tr th:only-of-type {\n",
       "        vertical-align: middle;\n",
       "    }\n",
       "\n",
       "    .dataframe tbody tr th {\n",
       "        vertical-align: top;\n",
       "    }\n",
       "\n",
       "    .dataframe thead th {\n",
       "        text-align: right;\n",
       "    }\n",
       "</style>\n",
       "<table border=\"1\" class=\"dataframe\">\n",
       "  <thead>\n",
       "    <tr style=\"text-align: right;\">\n",
       "      <th></th>\n",
       "      <th>visitor_id</th>\n",
       "      <th>orders</th>\n",
       "    </tr>\n",
       "  </thead>\n",
       "  <tbody>\n",
       "    <tr>\n",
       "      <th>0</th>\n",
       "      <td>5114589</td>\n",
       "      <td>1</td>\n",
       "    </tr>\n",
       "    <tr>\n",
       "      <th>1</th>\n",
       "      <td>6958315</td>\n",
       "      <td>1</td>\n",
       "    </tr>\n",
       "    <tr>\n",
       "      <th>2</th>\n",
       "      <td>8300375</td>\n",
       "      <td>2</td>\n",
       "    </tr>\n",
       "    <tr>\n",
       "      <th>3</th>\n",
       "      <td>11685486</td>\n",
       "      <td>1</td>\n",
       "    </tr>\n",
       "    <tr>\n",
       "      <th>4</th>\n",
       "      <td>39475350</td>\n",
       "      <td>1</td>\n",
       "    </tr>\n",
       "  </tbody>\n",
       "</table>\n",
       "</div>"
      ],
      "text/plain": [
       "   visitor_id  orders\n",
       "0     5114589       1\n",
       "1     6958315       1\n",
       "2     8300375       2\n",
       "3    11685486       1\n",
       "4    39475350       1"
      ]
     },
     "metadata": {},
     "output_type": "display_data"
    },
    {
     "data": {
      "text/plain": [
       "count   1,031.000\n",
       "mean        1.161\n",
       "std         0.725\n",
       "min         1.000\n",
       "25%         1.000\n",
       "50%         1.000\n",
       "75%         1.000\n",
       "max        11.000\n",
       "Name: orders, dtype: float64"
      ]
     },
     "execution_count": 150,
     "metadata": {},
     "output_type": "execute_result"
    }
   ],
   "source": [
    "orders_by_users = (orders.groupby('visitor_id', as_index=False).agg({'transaction_id': 'nunique'}))\n",
    "orders_by_users.columns = ['visitor_id', 'orders']\n",
    "display(orders_by_users.head(5))\n",
    "orders_by_users['orders'].describe()"
   ]
  },
  {
   "cell_type": "markdown",
   "id": "911b3533",
   "metadata": {},
   "source": [
    "Видим что есть пользователь совершивший 11 заказов  \n",
    "Построим точечный график количества заказов по пользователям"
   ]
  },
  {
   "cell_type": "code",
   "execution_count": 151,
   "id": "f9a083da",
   "metadata": {},
   "outputs": [
    {
     "data": {
      "image/png": "[encoded data removed]",
      "text/plain": [
       "<Figure size 720x432 with 1 Axes>"
      ]
     },
     "metadata": {
      "needs_background": "light"
     },
     "output_type": "display_data"
    }
   ],
   "source": [
    "# Задаем интервал размером от 0 до количества записей в orders_by_users\n",
    "x_values = pd.Series(range(0,len(orders_by_users)))\n",
    "\n",
    "# Строим точечную диаграмму\n",
    "plt.figure(figsize=(10, 6))\n",
    "plt.grid(True)\n",
    "plt.scatter(x_values, orders_by_users['orders'], alpha=1)\n",
    "plt.title('Распределение количества заказов по пользователям')\n",
    "plt.ylabel('Кол-во заказов')\n",
    "plt.xlabel('Пользователи')\n",
    "plt.show()"
   ]
  },
  {
   "cell_type": "markdown",
   "id": "13ccd0d8",
   "metadata": {},
   "source": [
    "**Выводы:**  \n",
    "Видим очевидные выбросы пользователей совершивших более 10 заказов, так же пользователей совершивших от 4-х до 9 заказов. Очень много пользователей сделали 2 - 3 заказа, по графику мы не можем понять считать их выбросами или нет, следует определить границу выявления \"аномальных\" пользователей"
   ]
  },
  {
   "cell_type": "markdown",
   "id": "5ce51e30",
   "metadata": {},
   "source": [
    "### 7. Посчитаем 95-й и 99-й перцентили количества заказов на пользователя. Выберем границу для определения аномальных пользователей"
   ]
  },
  {
   "cell_type": "code",
   "execution_count": 152,
   "id": "aea4713d",
   "metadata": {},
   "outputs": [
    {
     "data": {
      "text/plain": [
       "array([2., 4.])"
      ]
     },
     "execution_count": 152,
     "metadata": {},
     "output_type": "execute_result"
    }
   ],
   "source": [
    "# Воспользуемся функцией percentile из библиотеки numpy\n",
    "np.percentile(orders_by_users['orders'], [95, 99])"
   ]
  },
  {
   "cell_type": "markdown",
   "id": "462162f7",
   "metadata": {},
   "source": [
    "**Выводы:**  \n",
    "Не более 5% пользователей совершили более 2-х заказов, не более 1% пользователей совршили 4 заказа  \n",
    "За границу для \"нормальных\" заказов пользователей возьмем не более 4-х заказов на одного пользователя"
   ]
  },
  {
   "cell_type": "markdown",
   "id": "668842bd",
   "metadata": {},
   "source": [
    "### 8. Построим точечный график стоимостей заказов"
   ]
  },
  {
   "cell_type": "code",
   "execution_count": 153,
   "id": "482a9b44",
   "metadata": {},
   "outputs": [
    {
     "data": {
      "text/plain": [
       "count       1,197.000\n",
       "mean        8,348.006\n",
       "std        39,191.132\n",
       "min            50.000\n",
       "25%         1,220.000\n",
       "50%         2,978.000\n",
       "75%         8,290.000\n",
       "max     1,294,500.000\n",
       "Name: revenue, dtype: float64"
      ]
     },
     "metadata": {},
     "output_type": "display_data"
    }
   ],
   "source": [
    "display(orders['revenue'].describe())"
   ]
  },
  {
   "cell_type": "markdown",
   "id": "db92a501",
   "metadata": {},
   "source": [
    "Видим что пирсуствует очевидный выброс, есть заказ стоимостью выше 1млн Д.Е., в то время как у 75% пользователей заказ не превышает стоемость в 8тыс Д.Е. Построим точечный график стоимости заказов"
   ]
  },
  {
   "cell_type": "code",
   "execution_count": 154,
   "id": "73e2a161",
   "metadata": {},
   "outputs": [
    {
     "data": {
      "image/png": "[encoded data removed]",
      "text/plain": [
       "<Figure size 720x432 with 1 Axes>"
      ]
     },
     "metadata": {
      "needs_background": "light"
     },
     "output_type": "display_data"
    }
   ],
   "source": [
    "# Задаем интервал размером от 0 до количества записей в orders['revenue']\n",
    "x_values = pd.Series(range(0,len(orders['revenue'])))\n",
    "\n",
    "# Строим точечную диаграмму\n",
    "plt.figure(figsize=(10, 6))\n",
    "plt.grid(True)\n",
    "plt.scatter(x_values, orders['revenue'], alpha=1)\n",
    "plt.title('Распределение стоимости заказов по пользователям')\n",
    "plt.show()"
   ]
  },
  {
   "cell_type": "markdown",
   "id": "b3f082d1",
   "metadata": {},
   "source": [
    "**Вывод:**  \n",
    "Отчетливо видим тот самый заказ который отражался резким пиком на графиках комулятивных метрик и выводил в топ группу \"B\"  \n",
    "На таком графике не получится определить как распределяется стоимость заказов по пользователям, избавимся от выбросов и посмотрим на рапределение"
   ]
  },
  {
   "cell_type": "code",
   "execution_count": 155,
   "id": "7997e6b4",
   "metadata": {},
   "outputs": [
    {
     "data": {
      "image/png": "[encoded data removed]",
      "text/plain": [
       "<Figure size 720x432 with 1 Axes>"
      ]
     },
     "metadata": {
      "needs_background": "light"
     },
     "output_type": "display_data"
    }
   ],
   "source": [
    "plt.figure(figsize=(10, 6))\n",
    "plt.grid(True)\n",
    "plt.ylim(0, 120000)\n",
    "plt.scatter(x_values, orders['revenue'], alpha=1)\n",
    "plt.title('Распределение стоимости заказов по пользователям без выбросов')\n",
    "plt.show()"
   ]
  },
  {
   "cell_type": "markdown",
   "id": "50f4b08c",
   "metadata": {},
   "source": [
    "**Вывод:**  \n",
    "Так стало понятнее, чаще всего стоимость заказов пользователей не превышает 20000 Д.Е. Но все еще много пользователей которые совршили заказы стоимостью от 20000 до 40000 Д.Е. Нужно определить потолок выявления \"Аномальных\" заказов"
   ]
  },
  {
   "cell_type": "markdown",
   "id": "5371037a",
   "metadata": {},
   "source": [
    "### 9. Посчитаем 95-й и 99-й перцентили стоимости заказов. Выберем границу для определения аномальных заказов"
   ]
  },
  {
   "cell_type": "code",
   "execution_count": 156,
   "id": "18aae54e",
   "metadata": {},
   "outputs": [
    {
     "data": {
      "text/plain": [
       "array([28000. , 58233.2])"
      ]
     },
     "execution_count": 156,
     "metadata": {},
     "output_type": "execute_result"
    }
   ],
   "source": [
    "# Воспользуемся функцией percentile из библиотеки numpy\n",
    "np.percentile(orders['revenue'], [95, 99])"
   ]
  },
  {
   "cell_type": "markdown",
   "id": "fddf74e7",
   "metadata": {},
   "source": [
    "**Вывод:**  \n",
    "Не более 5% пользователей совершили заказ дороже 28000 Д.Е., и не более 1% совершили заказ дороже 58233 Д.Е. Границу за которой будут аномально высокие заказы определим по верхнему персентелю: 58233 Д.Е."
   ]
  },
  {
   "cell_type": "markdown",
   "id": "1de8e956",
   "metadata": {},
   "source": [
    "### 10. Посчитаем статистическую значимость различий в среднем количестве заказов между группами по «сырым» данным"
   ]
  },
  {
   "cell_type": "markdown",
   "id": "c6bce16a",
   "metadata": {},
   "source": [
    "Посчитать статистическую значимость различий в среднем количестве заказом между группами по \"Сырым\" данным значит - посчитать статистическую значимость не удаляя выбросы из данных  \n",
    "\n",
    "Сформулируем гипотезы:  \n",
    "**H0** - различий в среднем количестве заказов по «сырым» данным между группами **нет**  \n",
    "**H1** - различия в среднем количестве заказов по «сырым» данным между группами **есть**\n",
    "\n",
    "Зададим уровень значимости alpha=**0.05**"
   ]
  },
  {
   "cell_type": "code",
   "execution_count": 157,
   "id": "f4df347b",
   "metadata": {},
   "outputs": [
    {
     "name": "stdout",
     "output_type": "stream",
     "text": [
      "        date  ordersPerDateA  revenuePerDateA  ordersPerDateB  \\\n",
      "0 2019-08-01              24           148579              21   \n",
      "1 2019-08-02              20            93822              24   \n",
      "2 2019-08-03              24           112473              16   \n",
      "3 2019-08-04              16            70825              17   \n",
      "4 2019-08-05              25           124218              23   \n",
      "\n",
      "   revenuePerDateB  ordersCummulativeA  revenueCummulativeA  \\\n",
      "0           101217                  24               148579   \n",
      "1           165531                  44               242401   \n",
      "2           114248                  68               354874   \n",
      "3           108571                  84               425699   \n",
      "4            92428                 109               549917   \n",
      "\n",
      "   ordersCummulativeB  revenueCummulativeB  visitorsPerDateA  \\\n",
      "0                  21               101217               719   \n",
      "1                  45               266748               619   \n",
      "2                  61               380996               507   \n",
      "3                  78               489567               717   \n",
      "4                 101               581995               756   \n",
      "\n",
      "   visitorsPerDateB  visitorsCummulativeA  visitorsCummulativeB  \n",
      "0               713                   719                   713  \n",
      "1               581                  1338                  1294  \n",
      "2               509                  1845                  1803  \n",
      "3               770                  2562                  2573  \n",
      "4               707                  3318                  3280  \n"
     ]
    }
   ],
   "source": [
    "visitorsADaily = visitors[visitors['group'] == 'A'][['date', 'visitors']]\n",
    "visitorsADaily.columns = ['date', 'visitorsPerDateA']\n",
    "\n",
    "visitorsACummulative = visitorsADaily.apply(\n",
    "    lambda x: visitorsADaily[visitorsADaily['date'] <= x['date']].agg(\n",
    "        {'date': 'max', 'visitorsPerDateA': 'sum'}\n",
    "    ),\n",
    "    axis=1,\n",
    ")\n",
    "visitorsACummulative.columns = ['date', 'visitorsCummulativeA']\n",
    "\n",
    "visitorsBDaily = visitors[visitors['group'] == 'B'][['date', 'visitors']]\n",
    "visitorsBDaily.columns = ['date', 'visitorsPerDateB']\n",
    "\n",
    "visitorsBCummulative = visitorsBDaily.apply(\n",
    "    lambda x: visitorsBDaily[visitorsBDaily['date'] <= x['date']].agg(\n",
    "        {'date': 'max', 'visitorsPerDateB': 'sum'}\n",
    "    ),\n",
    "    axis=1,\n",
    ")\n",
    "visitorsBCummulative.columns = ['date', 'visitorsCummulativeB']\n",
    "\n",
    "ordersADaily = (\n",
    "    orders[orders['group'] == 'A'][['date', 'transaction_id', 'visitor_id', 'revenue']]\n",
    "    .groupby('date', as_index=False)\n",
    "    .agg({'transaction_id': pd.Series.nunique, 'revenue': 'sum'})\n",
    ")\n",
    "ordersADaily.columns = ['date', 'ordersPerDateA', 'revenuePerDateA']\n",
    "\n",
    "ordersACummulative = ordersADaily.apply(\n",
    "    lambda x: ordersADaily[ordersADaily['date'] <= x['date']].agg(\n",
    "        {'date': 'max', 'ordersPerDateA': 'sum', 'revenuePerDateA': 'sum'}\n",
    "    ),\n",
    "    axis=1,\n",
    ").sort_values(by=['date'])\n",
    "ordersACummulative.columns = [\n",
    "    'date',\n",
    "    'ordersCummulativeA',\n",
    "    'revenueCummulativeA',\n",
    "]\n",
    "\n",
    "ordersBDaily = (\n",
    "    orders[orders['group'] == 'B'][['date', 'transaction_id', 'visitor_id', 'revenue']]\n",
    "    .groupby('date', as_index=False)\n",
    "    .agg({'transaction_id': pd.Series.nunique, 'revenue': 'sum'})\n",
    ")\n",
    "ordersBDaily.columns = ['date', 'ordersPerDateB', 'revenuePerDateB']\n",
    "\n",
    "ordersBCummulative = ordersBDaily.apply(\n",
    "    lambda x: ordersBDaily[ordersBDaily['date'] <= x['date']].agg(\n",
    "        {'date': 'max', 'ordersPerDateB': 'sum', 'revenuePerDateB': 'sum'}\n",
    "    ),\n",
    "    axis=1,\n",
    ").sort_values(by=['date'])\n",
    "ordersBCummulative.columns = [\n",
    "    'date',\n",
    "    'ordersCummulativeB',\n",
    "    'revenueCummulativeB',\n",
    "]\n",
    "\n",
    "data = (\n",
    "    ordersADaily.merge(\n",
    "        ordersBDaily, left_on='date', right_on='date', how='left'\n",
    "    )\n",
    "    .merge(ordersACummulative, left_on='date', right_on='date', how='left')\n",
    "    .merge(ordersBCummulative, left_on='date', right_on='date', how='left')\n",
    "    .merge(visitorsADaily, left_on='date', right_on='date', how='left')\n",
    "    .merge(visitorsBDaily, left_on='date', right_on='date', how='left')\n",
    "    .merge(visitorsACummulative, left_on='date', right_on='date', how='left')\n",
    "    .merge(visitorsBCummulative, left_on='date', right_on='date', how='left')\n",
    ")\n",
    "\n",
    "print(data.head(5)) "
   ]
  },
  {
   "cell_type": "markdown",
   "id": "e2388743",
   "metadata": {},
   "source": [
    "Создадим переменные `ordersByUsersA` и `ordersByUsersB` со столбцами ['userId', 'orders']. В них для пользователей, которые заказывали хотя бы 1 раз, укажем число совершённых заказов."
   ]
  },
  {
   "cell_type": "code",
   "execution_count": 158,
   "id": "8bfbc2dd",
   "metadata": {},
   "outputs": [],
   "source": [
    "ordersByUsersA = (\n",
    "    orders[orders['group'] == 'A']\n",
    "    .groupby('visitor_id', as_index=False)\n",
    "    .agg({'transaction_id': pd.Series.nunique})\n",
    ")\n",
    "ordersByUsersA.columns = ['userId', 'orders']\n",
    "\n",
    "ordersByUsersB = (\n",
    "    orders[orders['group'] == 'B']\n",
    "    .groupby('visitor_id', as_index=False)\n",
    "    .agg({'transaction_id': pd.Series.nunique})\n",
    ")\n",
    "ordersByUsersB.columns = ['userId', 'orders'] "
   ]
  },
  {
   "cell_type": "markdown",
   "id": "d24ea426",
   "metadata": {},
   "source": [
    "Объявим переменные `sampleA` и `sampleB`, в которых пользователям из разных групп будет соответствовать количество заказов. Тем, кто ничего не заказал, будут соответствовать нули. Это нужно, чтобы подготовить выборки к проверке критерием Манна-Уитни."
   ]
  },
  {
   "cell_type": "code",
   "execution_count": 159,
   "id": "f2554443",
   "metadata": {},
   "outputs": [
    {
     "name": "stdout",
     "output_type": "stream",
     "text": [
      "P-value: 0.017\n",
      "Относительный выигрыш группы В у группы А: 0.138\n"
     ]
    }
   ],
   "source": [
    "sampleA = pd.concat(\n",
    "    [\n",
    "        ordersByUsersA['orders'],\n",
    "        pd.Series(\n",
    "            0,\n",
    "            index=np.arange(\n",
    "                data['visitorsPerDateA'].sum() - len(ordersByUsersA['orders'])\n",
    "            ),\n",
    "            name='orders',\n",
    "        ),\n",
    "    ],\n",
    "    axis=0,\n",
    ")\n",
    "\n",
    "sampleB = pd.concat(\n",
    "    [\n",
    "        ordersByUsersB['orders'],\n",
    "        pd.Series(\n",
    "            0,\n",
    "            index=np.arange(\n",
    "                data['visitorsPerDateB'].sum() - len(ordersByUsersB['orders'])\n",
    "            ),\n",
    "            name='orders',\n",
    "        ),\n",
    "    ],\n",
    "    axis=0,\n",
    ")\n",
    "\n",
    "print('P-value:', \"{0:.3f}\".format(stats.mannwhitneyu(sampleA, sampleB)[1]))\n",
    "\n",
    "print('Относительный выигрыш группы В у группы А:', \"{0:.3f}\".format(sampleB.mean() / sampleA.mean() - 1))"
   ]
  },
  {
   "cell_type": "markdown",
   "id": "f371e479",
   "metadata": {},
   "source": [
    "**Вывод:**  \n",
    "Видим что p-value равен 0.017 это значит что нулевую гипотезу H0 отвергаем  \n",
    "**Различия в среднем количестве заказов между группами есть**  \n",
    "Относительный выигрыш группы B равен 13.8%."
   ]
  },
  {
   "cell_type": "markdown",
   "id": "767effc7",
   "metadata": {},
   "source": [
    "### 11. Посчитаем статистическую значимость различий в среднем чеке заказа между группами по «сырым» данным"
   ]
  },
  {
   "cell_type": "markdown",
   "id": "ec368b84",
   "metadata": {},
   "source": [
    "Посчитаем статистическую значимость различий в среднем чеке между группами по «сырым» данным - без удаления аномальных пользователей  \n",
    "\n",
    "Сформулируем гипотезы:  \n",
    "**H0** - различий в среднем чеке заказа по «сырым» данным между группами **нет**  \n",
    "**H1** - различия в среднем чеке заказа по «сырым» данным между группами **есть**\n",
    "\n",
    "Зададим уровень значимости alpha=**0.05**"
   ]
  },
  {
   "cell_type": "code",
   "execution_count": 160,
   "id": "686f9bb3",
   "metadata": {},
   "outputs": [
    {
     "name": "stdout",
     "output_type": "stream",
     "text": [
      "P-value: 0.729\n",
      "Относительный прирост группы B к группе A: 0.259\n"
     ]
    }
   ],
   "source": [
    "print('P-value:', '{0:.3f}'.format(stats.mannwhitneyu(orders[orders['group']=='A']['revenue'], \n",
    "                                                      orders[orders['group']=='B']['revenue'])[1]))\n",
    "print('Относительный прирост группы B к группе A:', '{0:.3f}'.format(orders[orders['group']=='B']['revenue'].mean()/\n",
    "                                                                     orders[orders['group']=='A']['revenue'].mean()-1)) "
   ]
  },
  {
   "cell_type": "markdown",
   "id": "55dd3935",
   "metadata": {},
   "source": [
    "**Вывод:**  \n",
    "P-value значительно больше 0.05. Значит, причин отвергать нулевую гипотезу и считать, что в среднем чеке есть различия нет, а наблюдаемое превышение среднего чека группы В на 25,9% не является значимым, получено случайно."
   ]
  },
  {
   "cell_type": "markdown",
   "id": "8699cb44",
   "metadata": {},
   "source": [
    "### 12. Посчитаем статистическую значимость различий в среднем количестве заказов между группами по «очищенным» данным"
   ]
  },
  {
   "cell_type": "markdown",
   "id": "02ba9886",
   "metadata": {},
   "source": [
    "Для того чтобы отчистить данные от выбросов воспользуемся выводами предыдущих задач из которых мы выяснили, что пользователь совершивший более 4-х заказов, а так же заказы дороже 58233 Д.Е. являются аномальными. Так мы уберём 1% пользователей с наибольшим числом заказов и от 1% пользователей с дорогими заказами. Сделаем срезы пользователей с числом заказов больше 4 - `usersWithManyOrders` и пользователей, совершивших заказы дороже 58233 - `usersWithExpensiveOrders`. Объединим их в таблице `abnormal_users`.\n",
    "\n",
    "\n",
    "Посчитаем статистическую значимость различий в среднем количестве заказов между группами по «очищенным» данным\n",
    "\n",
    "Сформулируем гипотезы:  \n",
    "**H0** - различий в среднем количестве заказов по «очищенным» данным между группами **нет**  \n",
    "**H1** - различия в среднем количестве заказов по «очищенным» данным между группами **есть**\n",
    "\n",
    "Зададим уровень значимости alpha=**0.05**"
   ]
  },
  {
   "cell_type": "code",
   "execution_count": 161,
   "id": "2d32811b",
   "metadata": {},
   "outputs": [
    {
     "data": {
      "text/plain": [
       "1099     148427295\n",
       "949      887908475\n",
       "744      888512513\n",
       "1103    1164614297\n",
       "1136    1307669133\n",
       "dtype: int64"
      ]
     },
     "metadata": {},
     "output_type": "display_data"
    },
    {
     "data": {
      "text/plain": [
       "15"
      ]
     },
     "execution_count": 161,
     "metadata": {},
     "output_type": "execute_result"
    }
   ],
   "source": [
    "many_orders = np.percentile(orders_by_users['orders'], 99)\n",
    "expensive_orders = np.percentile(orders['revenue'], 99)\n",
    "\n",
    "\n",
    "usersWithManyOrders = pd.concat(\n",
    "    [\n",
    "        ordersByUsersA[ordersByUsersA['orders'] > many_orders]['userId'],\n",
    "        ordersByUsersB[ordersByUsersB['orders'] > many_orders]['userId'],\n",
    "    ],\n",
    "    axis=0,\n",
    ")\n",
    "\n",
    "\n",
    "usersWithExpensiveOrders = orders[orders['revenue'] > expensive_orders]['visitor_id']\n",
    "\n",
    "\n",
    "abnormal_users = (\n",
    "    pd.concat([usersWithManyOrders, usersWithExpensiveOrders], axis=0)\n",
    "    .drop_duplicates()\n",
    "    .sort_values()\n",
    ")\n",
    "display(abnormal_users.head(5))\n",
    "abnormal_users.shape[0]"
   ]
  },
  {
   "cell_type": "markdown",
   "id": "3244bd18",
   "metadata": {},
   "source": [
    "Всего 15 аномальных пользователей  \n",
    "Узнаем, как их действия повлияли на результаты теста  \n",
    "Посчитаем статистическую значимость различий в конверсии между группами теста по очищенным данным  \n",
    "Сначала подготовим выборки количества заказов по пользователям по группам теста  "
   ]
  },
  {
   "cell_type": "code",
   "execution_count": 162,
   "id": "0972805a",
   "metadata": {},
   "outputs": [],
   "source": [
    "sampleAFiltered = pd.concat(\n",
    "    [\n",
    "        ordersByUsersA[\n",
    "            np.logical_not(ordersByUsersA['userId'].isin(abnormal_users))\n",
    "        ]['orders'],\n",
    "        pd.Series(\n",
    "            0,\n",
    "            index=np.arange(\n",
    "                data['visitorsPerDateA'].sum() - len(ordersByUsersA['orders'])\n",
    "            ),\n",
    "            name='orders',\n",
    "        ),\n",
    "    ],\n",
    "    axis=0,\n",
    ")\n",
    "\n",
    "sampleBFiltered = pd.concat(\n",
    "    [\n",
    "        ordersByUsersB[\n",
    "            np.logical_not(ordersByUsersB['userId'].isin(abnormal_users))\n",
    "        ]['orders'],\n",
    "        pd.Series(\n",
    "            0,\n",
    "            index=np.arange(\n",
    "                data['visitorsPerDateB'].sum() - len(ordersByUsersB['orders'])\n",
    "            ),\n",
    "            name='orders',\n",
    "        ),\n",
    "    ],\n",
    "    axis=0,\n",
    ")"
   ]
  },
  {
   "cell_type": "code",
   "execution_count": 163,
   "id": "4580d999",
   "metadata": {},
   "outputs": [
    {
     "name": "stdout",
     "output_type": "stream",
     "text": [
      "P-value: 0.014\n",
      "Относительный прирост группы B к группе A: 0.153\n"
     ]
    }
   ],
   "source": [
    "print('P-value:','{0:.3f}'.format(stats.mannwhitneyu(sampleAFiltered, sampleBFiltered)[1]))\n",
    "print('Относительный прирост группы B к группе A:', '{0:.3f}'.format(sampleBFiltered.mean()/sampleAFiltered.mean()-1)) "
   ]
  },
  {
   "cell_type": "markdown",
   "id": "b4bb6b51",
   "metadata": {},
   "source": [
    "**Вывод:**  \n",
    "На очищенных данных разница в количестве заказов между группами есть, гипотиза **H1 верна**, а относительный прирост заказов группы В отнистельно группы А увеличился на 15.3%."
   ]
  },
  {
   "cell_type": "markdown",
   "id": "03a0ac52",
   "metadata": {},
   "source": [
    "### 13. Посчитаем статистическую значимость различий в среднем чеке заказа между группами по «очищенным» данным"
   ]
  },
  {
   "cell_type": "markdown",
   "id": "4e426d4d",
   "metadata": {},
   "source": [
    "Посчитаем статистическую значимость различий в среднем чеке между группами по «очищеным» данным\n",
    "\n",
    "Сформулируем гипотезы:  \n",
    "**H0** - различий в среднем чеке заказа по \"очищенным\" данным между группами **нет**  \n",
    "**H1** - различия в среднем чеке заказа по \"очищенным\" данным между группами **есть**\n",
    "\n",
    "Зададим уровень значимости alpha=**0.05**"
   ]
  },
  {
   "cell_type": "code",
   "execution_count": 164,
   "id": "ec3a3f6f",
   "metadata": {},
   "outputs": [
    {
     "name": "stdout",
     "output_type": "stream",
     "text": [
      "P-value: 0.851\n",
      "Относительный прирост группы B к группе A: -0.006\n"
     ]
    }
   ],
   "source": [
    "print('P-value:', '{0:.3f}'.format(stats.mannwhitneyu(\n",
    "    orders[(orders['group']=='A') & np.logical_not(orders['visitor_id'].isin(abnormal_users))]['revenue'],\n",
    "    orders[(orders['group']=='B') & np.logical_not(orders['visitor_id'].isin(abnormal_users))]['revenue']\n",
    "    )[1]))\n",
    "\n",
    "\n",
    "print('Относительный прирост группы B к группе A:', \n",
    "    \"{0:.3f}\".format(\n",
    "        orders[\n",
    "            np.logical_and(\n",
    "                orders['group'] == 'B',\n",
    "                np.logical_not(orders['visitor_id'].isin(abnormal_users)),\n",
    "            )\n",
    "        ]['revenue'].mean()\n",
    "        / orders[\n",
    "            np.logical_and(\n",
    "                orders['group'] == 'A',\n",
    "                np.logical_not(orders['visitor_id'].isin(abnormal_users)),\n",
    "            )\n",
    "        ]['revenue'].mean()\n",
    "        - 1\n",
    "    )\n",
    ")"
   ]
  },
  {
   "cell_type": "markdown",
   "id": "3d35be45",
   "metadata": {},
   "source": [
    "**Вывод:**  \n",
    "P-value значительно больше 0.05. Значит, причин отвергать нулевую гипотезу и считать, что в среднем чеке есть различия, нет. По разнице средних чеков групп различий практически нет"
   ]
  },
  {
   "cell_type": "markdown",
   "id": "5c324361",
   "metadata": {},
   "source": [
    "## Выводы"
   ]
  },
  {
   "cell_type": "markdown",
   "id": "d0fa4d95",
   "metadata": {},
   "source": [
    "На основе проведенных работ по приоретизации гипотез фреймворка `ICE` и `RICE` можем предложить интернет-магазину обратить внимание на 7, 8, 0 гипотезы. Они позволят интернет-магазину охватить наибольшее количество пользователей не затрачивая слишком больших усилий.  \n",
    "По результатам A/B теста можем сказать что по сырым данным в гурппах есть статистически значимые различия, но после фильтрации корверсия в группе \"B\" выше чем в группе \"A\"  \n",
    "Нет статистически значимого различия по среднему чеку между группами ни по «сырым», ни по данным после фильтрации аномалий. При этом средний чек группы В выше  \n",
    "\n",
    "На основании проведенных работ советую интернет-магазину остановить A/B тест, зафиксировать победу группы B, комулятивные метрики группы B выше чем у группы A"
   ]
  }
 ],
 "metadata": {
  "ExecuteTimeLog": [
   {
    "duration": 1326,
    "start_time": "2022-11-27T19:42:30.127Z"
   },
   {
    "duration": 4,
    "start_time": "2022-11-27T19:42:31.456Z"
   },
   {
    "duration": 199,
    "start_time": "2022-11-27T19:42:31.462Z"
   },
   {
    "duration": 0,
    "start_time": "2022-11-27T19:42:31.665Z"
   },
   {
    "duration": 0,
    "start_time": "2022-11-27T19:42:31.667Z"
   },
   {
    "duration": 0,
    "start_time": "2022-11-27T19:42:31.669Z"
   },
   {
    "duration": 0,
    "start_time": "2022-11-27T19:42:31.670Z"
   },
   {
    "duration": 0,
    "start_time": "2022-11-27T19:42:31.672Z"
   },
   {
    "duration": 0,
    "start_time": "2022-11-27T19:42:31.673Z"
   },
   {
    "duration": 0,
    "start_time": "2022-11-27T19:42:31.675Z"
   },
   {
    "duration": 0,
    "start_time": "2022-11-27T19:42:31.676Z"
   },
   {
    "duration": 0,
    "start_time": "2022-11-27T19:42:31.677Z"
   },
   {
    "duration": 0,
    "start_time": "2022-11-27T19:42:31.678Z"
   },
   {
    "duration": 0,
    "start_time": "2022-11-27T19:42:31.679Z"
   },
   {
    "duration": 0,
    "start_time": "2022-11-27T19:42:31.680Z"
   },
   {
    "duration": 0,
    "start_time": "2022-11-27T19:42:31.681Z"
   },
   {
    "duration": 0,
    "start_time": "2022-11-27T19:42:31.682Z"
   },
   {
    "duration": 0,
    "start_time": "2022-11-27T19:42:31.683Z"
   },
   {
    "duration": 0,
    "start_time": "2022-11-27T19:42:31.685Z"
   },
   {
    "duration": 0,
    "start_time": "2022-11-27T19:42:31.686Z"
   },
   {
    "duration": 0,
    "start_time": "2022-11-27T19:42:31.687Z"
   },
   {
    "duration": 0,
    "start_time": "2022-11-27T19:42:31.688Z"
   },
   {
    "duration": 0,
    "start_time": "2022-11-27T19:42:31.689Z"
   },
   {
    "duration": 0,
    "start_time": "2022-11-27T19:42:31.690Z"
   },
   {
    "duration": 0,
    "start_time": "2022-11-27T19:42:31.692Z"
   },
   {
    "duration": 0,
    "start_time": "2022-11-27T19:42:31.693Z"
   },
   {
    "duration": 0,
    "start_time": "2022-11-27T19:42:31.693Z"
   },
   {
    "duration": 0,
    "start_time": "2022-11-27T19:42:31.695Z"
   },
   {
    "duration": 0,
    "start_time": "2022-11-27T19:42:31.696Z"
   },
   {
    "duration": 0,
    "start_time": "2022-11-27T19:42:31.697Z"
   },
   {
    "duration": 0,
    "start_time": "2022-11-27T19:42:31.752Z"
   },
   {
    "duration": 0,
    "start_time": "2022-11-27T19:42:31.754Z"
   },
   {
    "duration": 0,
    "start_time": "2022-11-27T19:42:31.755Z"
   },
   {
    "duration": 0,
    "start_time": "2022-11-27T19:42:31.756Z"
   },
   {
    "duration": 0,
    "start_time": "2022-11-27T19:42:31.757Z"
   },
   {
    "duration": 353,
    "start_time": "2022-11-27T19:48:12.700Z"
   },
   {
    "duration": 26,
    "start_time": "2022-11-27T19:48:16.824Z"
   },
   {
    "duration": 4,
    "start_time": "2022-11-27T19:48:16.852Z"
   },
   {
    "duration": 23,
    "start_time": "2022-11-27T19:48:16.858Z"
   },
   {
    "duration": 9,
    "start_time": "2022-11-27T19:48:16.883Z"
   },
   {
    "duration": 63,
    "start_time": "2022-11-27T19:48:16.895Z"
   },
   {
    "duration": 4,
    "start_time": "2022-11-27T19:48:16.960Z"
   },
   {
    "duration": 18,
    "start_time": "2022-11-27T19:48:16.966Z"
   },
   {
    "duration": 12,
    "start_time": "2022-11-27T19:48:16.986Z"
   },
   {
    "duration": 210,
    "start_time": "2022-11-27T19:48:17.000Z"
   },
   {
    "duration": 146,
    "start_time": "2022-11-27T19:48:17.211Z"
   },
   {
    "duration": 7,
    "start_time": "2022-11-27T19:48:17.359Z"
   },
   {
    "duration": 15,
    "start_time": "2022-11-27T19:48:17.368Z"
   },
   {
    "duration": 299,
    "start_time": "2022-11-27T19:48:17.385Z"
   },
   {
    "duration": 248,
    "start_time": "2022-11-27T19:48:17.687Z"
   },
   {
    "duration": 398,
    "start_time": "2022-11-27T19:48:17.937Z"
   },
   {
    "duration": 254,
    "start_time": "2022-11-27T19:48:18.338Z"
   },
   {
    "duration": 278,
    "start_time": "2022-11-27T19:48:18.594Z"
   },
   {
    "duration": 15,
    "start_time": "2022-11-27T19:48:18.873Z"
   },
   {
    "duration": 165,
    "start_time": "2022-11-27T19:48:18.889Z"
   },
   {
    "duration": 5,
    "start_time": "2022-11-27T19:48:19.056Z"
   },
   {
    "duration": 12,
    "start_time": "2022-11-27T19:48:19.063Z"
   },
   {
    "duration": 249,
    "start_time": "2022-11-27T19:48:19.077Z"
   },
   {
    "duration": 163,
    "start_time": "2022-11-27T19:48:19.328Z"
   },
   {
    "duration": 6,
    "start_time": "2022-11-27T19:48:19.492Z"
   },
   {
    "duration": 230,
    "start_time": "2022-11-27T19:48:19.499Z"
   },
   {
    "duration": 133,
    "start_time": "2022-11-27T19:48:19.731Z"
   },
   {
    "duration": 27,
    "start_time": "2022-11-27T19:48:19.865Z"
   },
   {
    "duration": 11,
    "start_time": "2022-11-27T19:48:19.894Z"
   },
   {
    "duration": 16,
    "start_time": "2022-11-27T19:48:19.907Z"
   },
   {
    "duration": 0,
    "start_time": "2022-11-27T19:48:19.924Z"
   },
   {
    "duration": 0,
    "start_time": "2022-11-27T19:48:19.952Z"
   },
   {
    "duration": 0,
    "start_time": "2022-11-27T19:48:19.954Z"
   },
   {
    "duration": 5,
    "start_time": "2022-11-27T19:57:03.400Z"
   },
   {
    "duration": 103,
    "start_time": "2022-11-27T19:57:16.697Z"
   },
   {
    "duration": 76,
    "start_time": "2022-11-27T19:57:21.671Z"
   },
   {
    "duration": 4,
    "start_time": "2022-11-27T19:57:27.065Z"
   },
   {
    "duration": 4,
    "start_time": "2022-11-27T19:57:41.994Z"
   },
   {
    "duration": 74,
    "start_time": "2022-11-27T20:53:52.631Z"
   },
   {
    "duration": 72,
    "start_time": "2022-11-27T20:54:03.824Z"
   },
   {
    "duration": 49,
    "start_time": "2022-11-27T20:55:57.258Z"
   },
   {
    "duration": 1340,
    "start_time": "2022-11-27T20:56:19.063Z"
   },
   {
    "duration": 4,
    "start_time": "2022-11-27T20:56:20.404Z"
   },
   {
    "duration": 232,
    "start_time": "2022-11-27T20:56:20.410Z"
   },
   {
    "duration": 20,
    "start_time": "2022-11-27T20:56:20.643Z"
   },
   {
    "duration": 13,
    "start_time": "2022-11-27T20:56:20.665Z"
   },
   {
    "duration": 38,
    "start_time": "2022-11-27T20:56:20.680Z"
   },
   {
    "duration": 26,
    "start_time": "2022-11-27T20:56:20.720Z"
   },
   {
    "duration": 33,
    "start_time": "2022-11-27T20:56:20.748Z"
   },
   {
    "duration": 16,
    "start_time": "2022-11-27T20:56:20.783Z"
   },
   {
    "duration": 33,
    "start_time": "2022-11-27T20:56:20.801Z"
   },
   {
    "duration": 40,
    "start_time": "2022-11-27T20:56:20.835Z"
   },
   {
    "duration": 187,
    "start_time": "2022-11-27T20:56:20.877Z"
   },
   {
    "duration": 148,
    "start_time": "2022-11-27T20:56:21.066Z"
   },
   {
    "duration": 9,
    "start_time": "2022-11-27T20:56:21.218Z"
   },
   {
    "duration": 23,
    "start_time": "2022-11-27T20:56:21.229Z"
   },
   {
    "duration": 333,
    "start_time": "2022-11-27T20:56:21.254Z"
   },
   {
    "duration": 237,
    "start_time": "2022-11-27T20:56:21.590Z"
   },
   {
    "duration": 407,
    "start_time": "2022-11-27T20:56:21.830Z"
   },
   {
    "duration": 266,
    "start_time": "2022-11-27T20:56:22.239Z"
   },
   {
    "duration": 299,
    "start_time": "2022-11-27T20:56:22.507Z"
   },
   {
    "duration": 17,
    "start_time": "2022-11-27T20:56:22.809Z"
   },
   {
    "duration": 164,
    "start_time": "2022-11-27T20:56:22.828Z"
   },
   {
    "duration": 5,
    "start_time": "2022-11-27T20:56:22.993Z"
   },
   {
    "duration": 9,
    "start_time": "2022-11-27T20:56:23.000Z"
   },
   {
    "duration": 183,
    "start_time": "2022-11-27T20:56:23.011Z"
   },
   {
    "duration": 249,
    "start_time": "2022-11-27T20:56:23.195Z"
   },
   {
    "duration": 5,
    "start_time": "2022-11-27T20:56:23.446Z"
   },
   {
    "duration": 251,
    "start_time": "2022-11-27T20:56:23.453Z"
   },
   {
    "duration": 160,
    "start_time": "2022-11-27T20:56:23.706Z"
   },
   {
    "duration": 36,
    "start_time": "2022-11-27T20:56:23.869Z"
   },
   {
    "duration": 29,
    "start_time": "2022-11-27T20:56:23.908Z"
   },
   {
    "duration": 97,
    "start_time": "2022-11-27T20:56:23.939Z"
   },
   {
    "duration": 0,
    "start_time": "2022-11-27T20:56:24.039Z"
   },
   {
    "duration": 1,
    "start_time": "2022-11-27T20:56:24.040Z"
   },
   {
    "duration": 0,
    "start_time": "2022-11-27T20:56:24.042Z"
   },
   {
    "duration": 222,
    "start_time": "2022-11-27T21:09:29.113Z"
   },
   {
    "duration": 30,
    "start_time": "2022-11-27T21:17:38.203Z"
   },
   {
    "duration": 30,
    "start_time": "2022-11-27T21:18:24.950Z"
   },
   {
    "duration": 26,
    "start_time": "2022-11-27T21:18:37.431Z"
   },
   {
    "duration": 27,
    "start_time": "2022-11-27T21:18:57.495Z"
   },
   {
    "duration": 34,
    "start_time": "2022-11-27T21:19:07.871Z"
   },
   {
    "duration": 25,
    "start_time": "2022-11-27T21:19:20.103Z"
   },
   {
    "duration": 32,
    "start_time": "2022-11-27T21:19:56.286Z"
   },
   {
    "duration": 21,
    "start_time": "2022-11-27T21:20:25.175Z"
   },
   {
    "duration": 32,
    "start_time": "2022-11-27T21:21:10.155Z"
   },
   {
    "duration": 28,
    "start_time": "2022-11-27T21:21:37.664Z"
   },
   {
    "duration": 42,
    "start_time": "2022-11-27T21:21:45.136Z"
   },
   {
    "duration": 28,
    "start_time": "2022-11-27T21:23:46.104Z"
   },
   {
    "duration": 31,
    "start_time": "2022-11-27T21:25:15.289Z"
   },
   {
    "duration": 25,
    "start_time": "2022-11-27T21:25:50.295Z"
   },
   {
    "duration": 26,
    "start_time": "2022-11-27T21:26:00.974Z"
   },
   {
    "duration": 23,
    "start_time": "2022-11-27T21:26:53.136Z"
   },
   {
    "duration": 27,
    "start_time": "2022-11-27T21:27:50.759Z"
   },
   {
    "duration": 71,
    "start_time": "2022-11-27T21:28:25.367Z"
   },
   {
    "duration": 27,
    "start_time": "2022-11-27T21:28:28.327Z"
   },
   {
    "duration": 19,
    "start_time": "2022-11-27T21:28:57.839Z"
   },
   {
    "duration": 7,
    "start_time": "2022-11-27T21:29:20.673Z"
   },
   {
    "duration": 7,
    "start_time": "2022-11-27T21:30:18.891Z"
   },
   {
    "duration": 11,
    "start_time": "2022-11-27T21:30:40.472Z"
   },
   {
    "duration": 13,
    "start_time": "2022-11-27T21:30:55.531Z"
   },
   {
    "duration": 7,
    "start_time": "2022-11-27T21:31:00.878Z"
   },
   {
    "duration": 12,
    "start_time": "2022-11-27T21:31:31.599Z"
   },
   {
    "duration": 6,
    "start_time": "2022-11-27T21:31:37.977Z"
   },
   {
    "duration": 7,
    "start_time": "2022-11-27T21:32:14.558Z"
   },
   {
    "duration": 16,
    "start_time": "2022-11-27T21:37:15.619Z"
   },
   {
    "duration": 17,
    "start_time": "2022-11-27T21:37:29.659Z"
   },
   {
    "duration": 15,
    "start_time": "2022-11-27T21:37:38.108Z"
   },
   {
    "duration": 18,
    "start_time": "2022-11-27T21:37:49.868Z"
   },
   {
    "duration": 5,
    "start_time": "2022-11-27T21:52:12.858Z"
   },
   {
    "duration": 8,
    "start_time": "2022-11-27T22:01:50.140Z"
   },
   {
    "duration": 10,
    "start_time": "2022-11-27T22:03:45.286Z"
   },
   {
    "duration": 14,
    "start_time": "2022-11-27T22:03:55.326Z"
   },
   {
    "duration": 15,
    "start_time": "2022-11-27T22:04:05.556Z"
   },
   {
    "duration": 18,
    "start_time": "2022-11-27T22:04:37.532Z"
   },
   {
    "duration": 16,
    "start_time": "2022-11-27T22:05:54.877Z"
   },
   {
    "duration": 5,
    "start_time": "2022-11-27T22:06:38.984Z"
   },
   {
    "duration": 11,
    "start_time": "2022-11-27T22:07:02.202Z"
   },
   {
    "duration": 5,
    "start_time": "2022-11-27T22:07:27.123Z"
   },
   {
    "duration": 11,
    "start_time": "2022-11-27T22:07:33.984Z"
   },
   {
    "duration": 9,
    "start_time": "2022-11-27T22:08:09.188Z"
   },
   {
    "duration": 12,
    "start_time": "2022-11-27T22:08:38.616Z"
   },
   {
    "duration": 10,
    "start_time": "2022-11-27T22:08:46.260Z"
   },
   {
    "duration": 8,
    "start_time": "2022-11-27T22:09:02.530Z"
   },
   {
    "duration": 8,
    "start_time": "2022-11-27T22:09:13.657Z"
   },
   {
    "duration": 5,
    "start_time": "2022-11-27T22:10:21.912Z"
   },
   {
    "duration": 5,
    "start_time": "2022-11-27T22:10:33.367Z"
   },
   {
    "duration": 6,
    "start_time": "2022-11-27T22:10:53.717Z"
   },
   {
    "duration": 7,
    "start_time": "2022-11-27T22:11:01.766Z"
   },
   {
    "duration": 6,
    "start_time": "2022-11-27T22:12:25.635Z"
   },
   {
    "duration": 85,
    "start_time": "2022-11-27T22:12:59.056Z"
   },
   {
    "duration": 7,
    "start_time": "2022-11-27T22:13:20.688Z"
   },
   {
    "duration": 8,
    "start_time": "2022-11-27T22:13:35.324Z"
   },
   {
    "duration": 5,
    "start_time": "2022-11-27T22:15:06.746Z"
   },
   {
    "duration": 6,
    "start_time": "2022-11-27T22:19:34.252Z"
   },
   {
    "duration": 8,
    "start_time": "2022-11-27T22:19:41.903Z"
   },
   {
    "duration": 14,
    "start_time": "2022-11-27T22:23:29.957Z"
   },
   {
    "duration": 5,
    "start_time": "2022-11-27T22:24:59.269Z"
   },
   {
    "duration": 5,
    "start_time": "2022-11-27T22:25:10.851Z"
   },
   {
    "duration": 6,
    "start_time": "2022-11-27T22:25:24.381Z"
   },
   {
    "duration": 10,
    "start_time": "2022-11-27T22:28:27.727Z"
   },
   {
    "duration": 8,
    "start_time": "2022-11-27T22:28:59.476Z"
   },
   {
    "duration": 13,
    "start_time": "2022-11-27T22:35:18.940Z"
   },
   {
    "duration": 7,
    "start_time": "2022-11-27T22:46:41.883Z"
   },
   {
    "duration": 15,
    "start_time": "2022-11-27T22:46:54.293Z"
   },
   {
    "duration": 9,
    "start_time": "2022-11-27T22:47:33.263Z"
   },
   {
    "duration": 19,
    "start_time": "2022-11-27T22:47:35.914Z"
   },
   {
    "duration": 15,
    "start_time": "2022-11-27T22:48:12.420Z"
   },
   {
    "duration": 15,
    "start_time": "2022-11-27T22:50:07.492Z"
   },
   {
    "duration": 16,
    "start_time": "2022-11-27T22:50:17.398Z"
   },
   {
    "duration": 21,
    "start_time": "2022-11-27T22:52:19.110Z"
   },
   {
    "duration": 10,
    "start_time": "2022-11-27T22:53:21.019Z"
   },
   {
    "duration": 13,
    "start_time": "2022-11-27T22:53:28.128Z"
   },
   {
    "duration": 8,
    "start_time": "2022-11-27T22:54:00.291Z"
   },
   {
    "duration": 7,
    "start_time": "2022-11-27T22:54:07.435Z"
   },
   {
    "duration": 7,
    "start_time": "2022-11-27T22:57:29.519Z"
   },
   {
    "duration": 8,
    "start_time": "2022-11-27T22:59:19.389Z"
   },
   {
    "duration": 10,
    "start_time": "2022-11-27T22:59:25.318Z"
   },
   {
    "duration": 8,
    "start_time": "2022-11-27T23:10:23.862Z"
   },
   {
    "duration": 6,
    "start_time": "2022-11-27T23:11:42.651Z"
   },
   {
    "duration": 11,
    "start_time": "2022-11-27T23:12:00.449Z"
   },
   {
    "duration": 7,
    "start_time": "2022-11-27T23:13:14.792Z"
   },
   {
    "duration": 7,
    "start_time": "2022-11-27T23:13:22.738Z"
   },
   {
    "duration": 82,
    "start_time": "2022-11-27T23:14:36.232Z"
   },
   {
    "duration": 72,
    "start_time": "2022-11-27T23:14:44.762Z"
   },
   {
    "duration": 187,
    "start_time": "2022-11-27T23:31:31.161Z"
   },
   {
    "duration": 16,
    "start_time": "2022-11-27T23:45:05.659Z"
   },
   {
    "duration": 11,
    "start_time": "2022-11-27T23:45:41.434Z"
   },
   {
    "duration": 8,
    "start_time": "2022-11-27T23:46:22.342Z"
   },
   {
    "duration": 8,
    "start_time": "2022-11-27T23:46:25.254Z"
   },
   {
    "duration": 20,
    "start_time": "2022-11-27T23:46:26.234Z"
   },
   {
    "duration": 15,
    "start_time": "2022-11-27T23:47:05.413Z"
   },
   {
    "duration": 160,
    "start_time": "2022-11-27T23:54:47.066Z"
   },
   {
    "duration": 153,
    "start_time": "2022-11-27T23:55:06.688Z"
   },
   {
    "duration": 136,
    "start_time": "2022-11-28T02:06:24.092Z"
   },
   {
    "duration": 120,
    "start_time": "2022-11-28T02:06:32.332Z"
   },
   {
    "duration": 124,
    "start_time": "2022-11-28T02:06:42.641Z"
   },
   {
    "duration": 144,
    "start_time": "2022-11-28T02:07:44.924Z"
   },
   {
    "duration": 24,
    "start_time": "2022-11-28T02:15:46.295Z"
   },
   {
    "duration": 22,
    "start_time": "2022-11-28T02:16:29.417Z"
   },
   {
    "duration": 12,
    "start_time": "2022-11-28T02:20:28.628Z"
   },
   {
    "duration": 11,
    "start_time": "2022-11-28T02:21:11.324Z"
   },
   {
    "duration": 7,
    "start_time": "2022-11-28T02:21:37.892Z"
   },
   {
    "duration": 21,
    "start_time": "2022-11-28T02:32:13.144Z"
   },
   {
    "duration": 22,
    "start_time": "2022-11-28T02:32:20.957Z"
   },
   {
    "duration": 14,
    "start_time": "2022-11-28T02:39:30.246Z"
   },
   {
    "duration": 1249,
    "start_time": "2022-11-29T00:41:33.162Z"
   },
   {
    "duration": 4,
    "start_time": "2022-11-29T00:41:34.413Z"
   },
   {
    "duration": 252,
    "start_time": "2022-11-29T00:41:34.422Z"
   },
   {
    "duration": 26,
    "start_time": "2022-11-29T00:41:34.676Z"
   },
   {
    "duration": 5,
    "start_time": "2022-11-29T00:41:34.705Z"
   },
   {
    "duration": 26,
    "start_time": "2022-11-29T00:41:34.712Z"
   },
   {
    "duration": 1072,
    "start_time": "2022-11-29T00:41:34.740Z"
   },
   {
    "duration": 0,
    "start_time": "2022-11-29T00:41:35.814Z"
   },
   {
    "duration": 0,
    "start_time": "2022-11-29T00:41:35.816Z"
   },
   {
    "duration": 0,
    "start_time": "2022-11-29T00:41:35.817Z"
   },
   {
    "duration": 0,
    "start_time": "2022-11-29T00:41:35.818Z"
   },
   {
    "duration": 0,
    "start_time": "2022-11-29T00:41:35.819Z"
   },
   {
    "duration": 0,
    "start_time": "2022-11-29T00:41:35.820Z"
   },
   {
    "duration": 0,
    "start_time": "2022-11-29T00:41:35.821Z"
   },
   {
    "duration": 0,
    "start_time": "2022-11-29T00:41:35.822Z"
   },
   {
    "duration": 0,
    "start_time": "2022-11-29T00:41:35.823Z"
   },
   {
    "duration": 0,
    "start_time": "2022-11-29T00:41:35.824Z"
   },
   {
    "duration": 0,
    "start_time": "2022-11-29T00:41:35.825Z"
   },
   {
    "duration": 0,
    "start_time": "2022-11-29T00:41:35.826Z"
   },
   {
    "duration": 0,
    "start_time": "2022-11-29T00:41:35.827Z"
   },
   {
    "duration": 0,
    "start_time": "2022-11-29T00:41:35.828Z"
   },
   {
    "duration": 0,
    "start_time": "2022-11-29T00:41:35.829Z"
   },
   {
    "duration": 0,
    "start_time": "2022-11-29T00:41:35.830Z"
   },
   {
    "duration": 0,
    "start_time": "2022-11-29T00:41:35.831Z"
   },
   {
    "duration": 0,
    "start_time": "2022-11-29T00:41:35.833Z"
   },
   {
    "duration": 0,
    "start_time": "2022-11-29T00:41:35.834Z"
   },
   {
    "duration": 0,
    "start_time": "2022-11-29T00:41:35.835Z"
   },
   {
    "duration": 0,
    "start_time": "2022-11-29T00:41:35.835Z"
   },
   {
    "duration": 0,
    "start_time": "2022-11-29T00:41:35.836Z"
   },
   {
    "duration": 0,
    "start_time": "2022-11-29T00:41:35.838Z"
   },
   {
    "duration": 0,
    "start_time": "2022-11-29T00:41:35.839Z"
   },
   {
    "duration": 0,
    "start_time": "2022-11-29T00:41:35.839Z"
   },
   {
    "duration": 0,
    "start_time": "2022-11-29T00:41:35.840Z"
   },
   {
    "duration": 0,
    "start_time": "2022-11-29T00:41:35.841Z"
   },
   {
    "duration": 0,
    "start_time": "2022-11-29T00:41:35.843Z"
   },
   {
    "duration": 0,
    "start_time": "2022-11-29T00:41:35.844Z"
   },
   {
    "duration": 0,
    "start_time": "2022-11-29T00:41:35.845Z"
   },
   {
    "duration": 0,
    "start_time": "2022-11-29T00:41:35.846Z"
   },
   {
    "duration": 0,
    "start_time": "2022-11-29T00:41:35.847Z"
   },
   {
    "duration": 13,
    "start_time": "2022-11-29T00:42:41.135Z"
   },
   {
    "duration": 10,
    "start_time": "2022-11-29T00:42:43.498Z"
   },
   {
    "duration": 7,
    "start_time": "2022-11-29T00:42:45.096Z"
   },
   {
    "duration": 8,
    "start_time": "2022-11-29T00:42:49.846Z"
   },
   {
    "duration": 21,
    "start_time": "2022-11-29T00:42:49.856Z"
   },
   {
    "duration": 5,
    "start_time": "2022-11-29T00:42:49.879Z"
   },
   {
    "duration": 14,
    "start_time": "2022-11-29T00:42:49.896Z"
   },
   {
    "duration": 20,
    "start_time": "2022-11-29T00:42:49.911Z"
   },
   {
    "duration": 13,
    "start_time": "2022-11-29T00:42:49.932Z"
   },
   {
    "duration": 170,
    "start_time": "2022-11-29T00:42:49.947Z"
   },
   {
    "duration": 121,
    "start_time": "2022-11-29T00:42:50.119Z"
   },
   {
    "duration": 5,
    "start_time": "2022-11-29T00:42:50.242Z"
   },
   {
    "duration": 11,
    "start_time": "2022-11-29T00:42:50.250Z"
   },
   {
    "duration": 291,
    "start_time": "2022-11-29T00:42:50.263Z"
   },
   {
    "duration": 210,
    "start_time": "2022-11-29T00:42:50.556Z"
   },
   {
    "duration": 337,
    "start_time": "2022-11-29T00:42:50.768Z"
   },
   {
    "duration": 161,
    "start_time": "2022-11-29T00:42:51.107Z"
   },
   {
    "duration": 296,
    "start_time": "2022-11-29T00:42:51.271Z"
   },
   {
    "duration": 13,
    "start_time": "2022-11-29T00:42:51.569Z"
   },
   {
    "duration": 151,
    "start_time": "2022-11-29T00:42:51.583Z"
   },
   {
    "duration": 5,
    "start_time": "2022-11-29T00:42:51.736Z"
   },
   {
    "duration": 13,
    "start_time": "2022-11-29T00:42:51.743Z"
   },
   {
    "duration": 154,
    "start_time": "2022-11-29T00:42:51.757Z"
   },
   {
    "duration": 221,
    "start_time": "2022-11-29T00:42:51.913Z"
   },
   {
    "duration": 5,
    "start_time": "2022-11-29T00:42:52.136Z"
   },
   {
    "duration": 224,
    "start_time": "2022-11-29T00:42:52.143Z"
   },
   {
    "duration": 120,
    "start_time": "2022-11-29T00:42:52.369Z"
   },
   {
    "duration": 31,
    "start_time": "2022-11-29T00:42:52.491Z"
   },
   {
    "duration": 9,
    "start_time": "2022-11-29T00:42:52.523Z"
   },
   {
    "duration": 12,
    "start_time": "2022-11-29T00:42:52.533Z"
   },
   {
    "duration": 7,
    "start_time": "2022-11-29T00:42:52.547Z"
   },
   {
    "duration": 24,
    "start_time": "2022-11-29T00:42:52.556Z"
   },
   {
    "duration": 43,
    "start_time": "2022-11-29T00:42:52.582Z"
   },
   {
    "duration": 48,
    "start_time": "2022-11-29T03:01:02.828Z"
   },
   {
    "duration": 1313,
    "start_time": "2022-11-29T03:01:08.601Z"
   },
   {
    "duration": 7,
    "start_time": "2022-11-29T03:01:09.916Z"
   },
   {
    "duration": 230,
    "start_time": "2022-11-29T03:01:09.924Z"
   },
   {
    "duration": 18,
    "start_time": "2022-11-29T03:01:10.156Z"
   },
   {
    "duration": 4,
    "start_time": "2022-11-29T03:01:10.176Z"
   },
   {
    "duration": 28,
    "start_time": "2022-11-29T03:01:10.181Z"
   },
   {
    "duration": 808,
    "start_time": "2022-11-29T03:01:10.211Z"
   },
   {
    "duration": 0,
    "start_time": "2022-11-29T03:01:11.022Z"
   },
   {
    "duration": 0,
    "start_time": "2022-11-29T03:01:11.023Z"
   },
   {
    "duration": 0,
    "start_time": "2022-11-29T03:01:11.024Z"
   },
   {
    "duration": 0,
    "start_time": "2022-11-29T03:01:11.025Z"
   },
   {
    "duration": 0,
    "start_time": "2022-11-29T03:01:11.027Z"
   },
   {
    "duration": 0,
    "start_time": "2022-11-29T03:01:11.028Z"
   },
   {
    "duration": 0,
    "start_time": "2022-11-29T03:01:11.028Z"
   },
   {
    "duration": 0,
    "start_time": "2022-11-29T03:01:11.029Z"
   },
   {
    "duration": 0,
    "start_time": "2022-11-29T03:01:11.030Z"
   },
   {
    "duration": 0,
    "start_time": "2022-11-29T03:01:11.031Z"
   },
   {
    "duration": 0,
    "start_time": "2022-11-29T03:01:11.032Z"
   },
   {
    "duration": 0,
    "start_time": "2022-11-29T03:01:11.033Z"
   },
   {
    "duration": 0,
    "start_time": "2022-11-29T03:01:11.034Z"
   },
   {
    "duration": 0,
    "start_time": "2022-11-29T03:01:11.035Z"
   },
   {
    "duration": 0,
    "start_time": "2022-11-29T03:01:11.036Z"
   },
   {
    "duration": 0,
    "start_time": "2022-11-29T03:01:11.036Z"
   },
   {
    "duration": 0,
    "start_time": "2022-11-29T03:01:11.037Z"
   },
   {
    "duration": 0,
    "start_time": "2022-11-29T03:01:11.038Z"
   },
   {
    "duration": 0,
    "start_time": "2022-11-29T03:01:11.040Z"
   },
   {
    "duration": 0,
    "start_time": "2022-11-29T03:01:11.040Z"
   },
   {
    "duration": 0,
    "start_time": "2022-11-29T03:01:11.041Z"
   },
   {
    "duration": 0,
    "start_time": "2022-11-29T03:01:11.042Z"
   },
   {
    "duration": 0,
    "start_time": "2022-11-29T03:01:11.043Z"
   },
   {
    "duration": 0,
    "start_time": "2022-11-29T03:01:11.044Z"
   },
   {
    "duration": 0,
    "start_time": "2022-11-29T03:01:11.045Z"
   },
   {
    "duration": 0,
    "start_time": "2022-11-29T03:01:11.046Z"
   },
   {
    "duration": 0,
    "start_time": "2022-11-29T03:01:11.047Z"
   },
   {
    "duration": 0,
    "start_time": "2022-11-29T03:01:11.048Z"
   },
   {
    "duration": 0,
    "start_time": "2022-11-29T03:01:11.049Z"
   },
   {
    "duration": 0,
    "start_time": "2022-11-29T03:01:11.050Z"
   },
   {
    "duration": 0,
    "start_time": "2022-11-29T03:01:11.051Z"
   },
   {
    "duration": 0,
    "start_time": "2022-11-29T03:01:11.052Z"
   },
   {
    "duration": 6,
    "start_time": "2022-11-29T03:03:06.927Z"
   },
   {
    "duration": 3,
    "start_time": "2022-11-29T03:03:15.959Z"
   },
   {
    "duration": 23,
    "start_time": "2022-11-29T03:03:15.964Z"
   },
   {
    "duration": 98,
    "start_time": "2022-11-29T03:03:15.989Z"
   },
   {
    "duration": 14,
    "start_time": "2022-11-29T03:03:16.089Z"
   },
   {
    "duration": 4,
    "start_time": "2022-11-29T03:03:16.105Z"
   },
   {
    "duration": 23,
    "start_time": "2022-11-29T03:03:16.110Z"
   },
   {
    "duration": 5,
    "start_time": "2022-11-29T03:03:16.135Z"
   },
   {
    "duration": 13,
    "start_time": "2022-11-29T03:03:16.141Z"
   },
   {
    "duration": 0,
    "start_time": "2022-11-29T03:03:16.155Z"
   },
   {
    "duration": 0,
    "start_time": "2022-11-29T03:03:16.157Z"
   },
   {
    "duration": 0,
    "start_time": "2022-11-29T03:03:16.158Z"
   },
   {
    "duration": 0,
    "start_time": "2022-11-29T03:03:16.159Z"
   },
   {
    "duration": 0,
    "start_time": "2022-11-29T03:03:16.160Z"
   },
   {
    "duration": 0,
    "start_time": "2022-11-29T03:03:16.162Z"
   },
   {
    "duration": 0,
    "start_time": "2022-11-29T03:03:16.163Z"
   },
   {
    "duration": 0,
    "start_time": "2022-11-29T03:03:16.165Z"
   },
   {
    "duration": 0,
    "start_time": "2022-11-29T03:03:16.166Z"
   },
   {
    "duration": 0,
    "start_time": "2022-11-29T03:03:16.167Z"
   },
   {
    "duration": 0,
    "start_time": "2022-11-29T03:03:16.168Z"
   },
   {
    "duration": 0,
    "start_time": "2022-11-29T03:03:16.170Z"
   },
   {
    "duration": 0,
    "start_time": "2022-11-29T03:03:16.171Z"
   },
   {
    "duration": 0,
    "start_time": "2022-11-29T03:03:16.172Z"
   },
   {
    "duration": 0,
    "start_time": "2022-11-29T03:03:16.173Z"
   },
   {
    "duration": 0,
    "start_time": "2022-11-29T03:03:16.174Z"
   },
   {
    "duration": 0,
    "start_time": "2022-11-29T03:03:16.176Z"
   },
   {
    "duration": 0,
    "start_time": "2022-11-29T03:03:16.177Z"
   },
   {
    "duration": 0,
    "start_time": "2022-11-29T03:03:16.221Z"
   },
   {
    "duration": 0,
    "start_time": "2022-11-29T03:03:16.222Z"
   },
   {
    "duration": 0,
    "start_time": "2022-11-29T03:03:16.224Z"
   },
   {
    "duration": 0,
    "start_time": "2022-11-29T03:03:16.225Z"
   },
   {
    "duration": 0,
    "start_time": "2022-11-29T03:03:16.226Z"
   },
   {
    "duration": 0,
    "start_time": "2022-11-29T03:03:16.227Z"
   },
   {
    "duration": 0,
    "start_time": "2022-11-29T03:03:16.228Z"
   },
   {
    "duration": 0,
    "start_time": "2022-11-29T03:03:16.229Z"
   },
   {
    "duration": 0,
    "start_time": "2022-11-29T03:03:16.230Z"
   },
   {
    "duration": 0,
    "start_time": "2022-11-29T03:03:16.231Z"
   },
   {
    "duration": 0,
    "start_time": "2022-11-29T03:03:16.232Z"
   },
   {
    "duration": 0,
    "start_time": "2022-11-29T03:03:16.233Z"
   },
   {
    "duration": 0,
    "start_time": "2022-11-29T03:03:16.234Z"
   },
   {
    "duration": 719,
    "start_time": "2022-11-29T03:03:35.485Z"
   },
   {
    "duration": 6,
    "start_time": "2022-11-29T03:09:07.901Z"
   },
   {
    "duration": 6,
    "start_time": "2022-11-29T03:09:13.415Z"
   },
   {
    "duration": 3,
    "start_time": "2022-11-29T03:09:20.695Z"
   },
   {
    "duration": 10,
    "start_time": "2022-11-29T03:09:20.700Z"
   },
   {
    "duration": 107,
    "start_time": "2022-11-29T03:09:20.712Z"
   },
   {
    "duration": 15,
    "start_time": "2022-11-29T03:09:20.821Z"
   },
   {
    "duration": 4,
    "start_time": "2022-11-29T03:09:20.838Z"
   },
   {
    "duration": 17,
    "start_time": "2022-11-29T03:09:20.844Z"
   },
   {
    "duration": 6,
    "start_time": "2022-11-29T03:09:20.863Z"
   },
   {
    "duration": 6,
    "start_time": "2022-11-29T03:09:20.871Z"
   },
   {
    "duration": 47,
    "start_time": "2022-11-29T03:09:20.878Z"
   },
   {
    "duration": 10,
    "start_time": "2022-11-29T03:09:20.926Z"
   },
   {
    "duration": 6,
    "start_time": "2022-11-29T03:09:20.938Z"
   },
   {
    "duration": 19,
    "start_time": "2022-11-29T03:09:20.945Z"
   },
   {
    "duration": 4,
    "start_time": "2022-11-29T03:09:20.966Z"
   },
   {
    "duration": 9,
    "start_time": "2022-11-29T03:09:20.974Z"
   },
   {
    "duration": 17,
    "start_time": "2022-11-29T03:09:20.984Z"
   },
   {
    "duration": 27,
    "start_time": "2022-11-29T03:09:21.002Z"
   },
   {
    "duration": 162,
    "start_time": "2022-11-29T03:09:21.031Z"
   },
   {
    "duration": 127,
    "start_time": "2022-11-29T03:09:21.194Z"
   },
   {
    "duration": 6,
    "start_time": "2022-11-29T03:09:21.322Z"
   },
   {
    "duration": 12,
    "start_time": "2022-11-29T03:09:21.329Z"
   },
   {
    "duration": 299,
    "start_time": "2022-11-29T03:09:21.343Z"
   },
   {
    "duration": 200,
    "start_time": "2022-11-29T03:09:21.644Z"
   },
   {
    "duration": 348,
    "start_time": "2022-11-29T03:09:21.845Z"
   },
   {
    "duration": 159,
    "start_time": "2022-11-29T03:09:22.194Z"
   },
   {
    "duration": 278,
    "start_time": "2022-11-29T03:09:22.355Z"
   },
   {
    "duration": 13,
    "start_time": "2022-11-29T03:09:22.634Z"
   },
   {
    "duration": 139,
    "start_time": "2022-11-29T03:09:22.649Z"
   },
   {
    "duration": 5,
    "start_time": "2022-11-29T03:09:22.790Z"
   },
   {
    "duration": 12,
    "start_time": "2022-11-29T03:09:22.796Z"
   },
   {
    "duration": 148,
    "start_time": "2022-11-29T03:09:22.810Z"
   },
   {
    "duration": 206,
    "start_time": "2022-11-29T03:09:22.960Z"
   },
   {
    "duration": 4,
    "start_time": "2022-11-29T03:09:23.168Z"
   },
   {
    "duration": 203,
    "start_time": "2022-11-29T03:09:23.174Z"
   },
   {
    "duration": 118,
    "start_time": "2022-11-29T03:09:23.379Z"
   },
   {
    "duration": 32,
    "start_time": "2022-11-29T03:09:23.499Z"
   },
   {
    "duration": 9,
    "start_time": "2022-11-29T03:09:23.532Z"
   },
   {
    "duration": 27,
    "start_time": "2022-11-29T03:09:23.543Z"
   },
   {
    "duration": 7,
    "start_time": "2022-11-29T03:09:23.572Z"
   },
   {
    "duration": 44,
    "start_time": "2022-11-29T03:09:23.580Z"
   },
   {
    "duration": 11,
    "start_time": "2022-11-29T03:09:23.626Z"
   },
   {
    "duration": 4,
    "start_time": "2022-11-29T03:55:47.687Z"
   },
   {
    "duration": 10,
    "start_time": "2022-11-29T03:55:47.693Z"
   },
   {
    "duration": 110,
    "start_time": "2022-11-29T03:55:47.704Z"
   },
   {
    "duration": 13,
    "start_time": "2022-11-29T03:55:47.815Z"
   },
   {
    "duration": 4,
    "start_time": "2022-11-29T03:55:47.830Z"
   },
   {
    "duration": 24,
    "start_time": "2022-11-29T03:55:47.836Z"
   },
   {
    "duration": 7,
    "start_time": "2022-11-29T03:55:47.861Z"
   },
   {
    "duration": 8,
    "start_time": "2022-11-29T03:55:47.870Z"
   },
   {
    "duration": 8,
    "start_time": "2022-11-29T03:55:47.880Z"
   },
   {
    "duration": 34,
    "start_time": "2022-11-29T03:55:47.890Z"
   },
   {
    "duration": 7,
    "start_time": "2022-11-29T03:55:47.926Z"
   },
   {
    "duration": 20,
    "start_time": "2022-11-29T03:55:47.935Z"
   },
   {
    "duration": 6,
    "start_time": "2022-11-29T03:55:47.957Z"
   },
   {
    "duration": 5,
    "start_time": "2022-11-29T03:55:47.964Z"
   },
   {
    "duration": 10,
    "start_time": "2022-11-29T03:55:47.972Z"
   },
   {
    "duration": 11,
    "start_time": "2022-11-29T03:55:47.984Z"
   },
   {
    "duration": 160,
    "start_time": "2022-11-29T03:55:48.021Z"
   },
   {
    "duration": 121,
    "start_time": "2022-11-29T03:55:48.183Z"
   },
   {
    "duration": 15,
    "start_time": "2022-11-29T03:55:48.306Z"
   },
   {
    "duration": 11,
    "start_time": "2022-11-29T03:55:48.322Z"
   },
   {
    "duration": 209,
    "start_time": "2022-11-29T03:55:48.335Z"
   },
   {
    "duration": 199,
    "start_time": "2022-11-29T03:55:48.545Z"
   },
   {
    "duration": 295,
    "start_time": "2022-11-29T03:55:48.746Z"
   },
   {
    "duration": 169,
    "start_time": "2022-11-29T03:55:49.043Z"
   },
   {
    "duration": 310,
    "start_time": "2022-11-29T03:55:49.213Z"
   },
   {
    "duration": 14,
    "start_time": "2022-11-29T03:55:49.525Z"
   },
   {
    "duration": 143,
    "start_time": "2022-11-29T03:55:49.540Z"
   },
   {
    "duration": 5,
    "start_time": "2022-11-29T03:55:49.684Z"
   },
   {
    "duration": 10,
    "start_time": "2022-11-29T03:55:49.690Z"
   },
   {
    "duration": 154,
    "start_time": "2022-11-29T03:55:49.702Z"
   },
   {
    "duration": 149,
    "start_time": "2022-11-29T03:55:49.858Z"
   },
   {
    "duration": 4,
    "start_time": "2022-11-29T03:55:50.008Z"
   },
   {
    "duration": 213,
    "start_time": "2022-11-29T03:55:50.021Z"
   },
   {
    "duration": 138,
    "start_time": "2022-11-29T03:55:50.236Z"
   },
   {
    "duration": 26,
    "start_time": "2022-11-29T03:55:50.376Z"
   },
   {
    "duration": 25,
    "start_time": "2022-11-29T03:55:50.403Z"
   },
   {
    "duration": 14,
    "start_time": "2022-11-29T03:55:50.430Z"
   },
   {
    "duration": 13,
    "start_time": "2022-11-29T03:55:50.446Z"
   },
   {
    "duration": 35,
    "start_time": "2022-11-29T03:55:50.461Z"
   },
   {
    "duration": 12,
    "start_time": "2022-11-29T03:55:50.497Z"
   },
   {
    "duration": 10,
    "start_time": "2022-11-29T03:57:09.617Z"
   },
   {
    "duration": 282,
    "start_time": "2022-11-29T04:09:05.380Z"
   },
   {
    "duration": 360,
    "start_time": "2022-11-29T04:13:03.901Z"
   },
   {
    "duration": 244,
    "start_time": "2022-11-29T04:13:51.640Z"
   },
   {
    "duration": 142,
    "start_time": "2022-11-29T04:14:02.491Z"
   },
   {
    "duration": 173,
    "start_time": "2022-11-29T04:16:29.767Z"
   },
   {
    "duration": 166,
    "start_time": "2022-11-29T04:16:43.129Z"
   },
   {
    "duration": 49,
    "start_time": "2022-11-29T04:18:00.735Z"
   },
   {
    "duration": 68,
    "start_time": "2022-11-29T04:18:13.024Z"
   },
   {
    "duration": 51,
    "start_time": "2022-11-29T04:18:28.374Z"
   },
   {
    "duration": 41,
    "start_time": "2022-11-29T04:18:32.539Z"
   },
   {
    "duration": 177,
    "start_time": "2022-11-29T04:18:38.822Z"
   },
   {
    "duration": 51,
    "start_time": "2022-11-29T04:21:52.065Z"
   },
   {
    "duration": 56,
    "start_time": "2022-11-29T04:22:01.115Z"
   },
   {
    "duration": 175,
    "start_time": "2022-11-29T04:22:08.371Z"
   },
   {
    "duration": 174,
    "start_time": "2022-11-29T04:24:02.576Z"
   },
   {
    "duration": 146,
    "start_time": "2022-11-29T04:35:05.734Z"
   },
   {
    "duration": 181,
    "start_time": "2022-11-29T04:35:44.152Z"
   },
   {
    "duration": 161,
    "start_time": "2022-11-29T04:36:48.110Z"
   },
   {
    "duration": 245,
    "start_time": "2022-11-29T04:38:29.080Z"
   },
   {
    "duration": 313,
    "start_time": "2022-11-29T04:39:06.719Z"
   },
   {
    "duration": 274,
    "start_time": "2022-11-29T04:39:12.752Z"
   },
   {
    "duration": 293,
    "start_time": "2022-11-29T04:42:00.430Z"
   },
   {
    "duration": 293,
    "start_time": "2022-11-29T04:42:05.913Z"
   },
   {
    "duration": 3,
    "start_time": "2022-11-29T04:49:40.111Z"
   },
   {
    "duration": 14,
    "start_time": "2022-11-29T04:49:40.116Z"
   },
   {
    "duration": 117,
    "start_time": "2022-11-29T04:49:40.132Z"
   },
   {
    "duration": 14,
    "start_time": "2022-11-29T04:49:40.251Z"
   },
   {
    "duration": 4,
    "start_time": "2022-11-29T04:49:40.268Z"
   },
   {
    "duration": 19,
    "start_time": "2022-11-29T04:49:40.273Z"
   },
   {
    "duration": 6,
    "start_time": "2022-11-29T04:49:40.294Z"
   },
   {
    "duration": 19,
    "start_time": "2022-11-29T04:49:40.302Z"
   },
   {
    "duration": 7,
    "start_time": "2022-11-29T04:49:40.322Z"
   },
   {
    "duration": 8,
    "start_time": "2022-11-29T04:49:40.330Z"
   },
   {
    "duration": 5,
    "start_time": "2022-11-29T04:49:40.341Z"
   },
   {
    "duration": 17,
    "start_time": "2022-11-29T04:49:40.348Z"
   },
   {
    "duration": 4,
    "start_time": "2022-11-29T04:49:40.366Z"
   },
   {
    "duration": 5,
    "start_time": "2022-11-29T04:49:40.371Z"
   },
   {
    "duration": 10,
    "start_time": "2022-11-29T04:49:40.377Z"
   },
   {
    "duration": 37,
    "start_time": "2022-11-29T04:49:40.389Z"
   },
   {
    "duration": 162,
    "start_time": "2022-11-29T04:49:40.427Z"
   },
   {
    "duration": 114,
    "start_time": "2022-11-29T04:49:40.590Z"
   },
   {
    "duration": 17,
    "start_time": "2022-11-29T04:49:40.705Z"
   },
   {
    "duration": 10,
    "start_time": "2022-11-29T04:49:40.724Z"
   },
   {
    "duration": 199,
    "start_time": "2022-11-29T04:49:40.736Z"
   },
   {
    "duration": 201,
    "start_time": "2022-11-29T04:49:40.937Z"
   },
   {
    "duration": 290,
    "start_time": "2022-11-29T04:49:41.140Z"
   },
   {
    "duration": 175,
    "start_time": "2022-11-29T04:49:41.432Z"
   },
   {
    "duration": 304,
    "start_time": "2022-11-29T04:49:41.609Z"
   },
   {
    "duration": 14,
    "start_time": "2022-11-29T04:49:41.920Z"
   },
   {
    "duration": 140,
    "start_time": "2022-11-29T04:49:41.935Z"
   },
   {
    "duration": 4,
    "start_time": "2022-11-29T04:49:42.076Z"
   },
   {
    "duration": 9,
    "start_time": "2022-11-29T04:49:42.083Z"
   },
   {
    "duration": 245,
    "start_time": "2022-11-29T04:49:42.094Z"
   },
   {
    "duration": 151,
    "start_time": "2022-11-29T04:49:42.341Z"
   },
   {
    "duration": 5,
    "start_time": "2022-11-29T04:49:42.493Z"
   },
   {
    "duration": 216,
    "start_time": "2022-11-29T04:49:42.500Z"
   },
   {
    "duration": 143,
    "start_time": "2022-11-29T04:49:42.717Z"
   },
   {
    "duration": 25,
    "start_time": "2022-11-29T04:49:42.862Z"
   },
   {
    "duration": 9,
    "start_time": "2022-11-29T04:49:42.888Z"
   },
   {
    "duration": 31,
    "start_time": "2022-11-29T04:49:42.899Z"
   },
   {
    "duration": 7,
    "start_time": "2022-11-29T04:49:42.932Z"
   },
   {
    "duration": 31,
    "start_time": "2022-11-29T04:49:42.940Z"
   },
   {
    "duration": 13,
    "start_time": "2022-11-29T04:49:42.973Z"
   }
  ],
  "kernelspec": {
   "display_name": "Python 3 (ipykernel)",
   "language": "python",
   "name": "python3"
  },
  "language_info": {
   "codemirror_mode": {
    "name": "ipython",
    "version": 3
   },
   "file_extension": ".py",
   "mimetype": "text/x-python",
   "name": "python",
   "nbconvert_exporter": "python",
   "pygments_lexer": "ipython3",
   "version": "3.10.5"
  },
  "toc": {
   "base_numbering": 1,
   "nav_menu": {},
   "number_sections": true,
   "sideBar": true,
   "skip_h1_title": true,
   "title_cell": "Table of Contents",
   "title_sidebar": "Contents",
   "toc_cell": false,
   "toc_position": {},
   "toc_section_display": true,
   "toc_window_display": false
  }
 },
 "nbformat": 4,
 "nbformat_minor": 5
}
