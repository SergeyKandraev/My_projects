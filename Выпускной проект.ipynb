{
 "cells": [
  {
   "cell_type": "markdown",
   "id": "7f185b3b",
   "metadata": {},
   "source": [
    "# E-commerce — Выявление профилей потребления"
   ]
  },
  {
   "cell_type": "markdown",
   "id": "366e558a",
   "metadata": {},
   "source": [
    "## Описание проекта  \n",
    "\n",
    "Интернет-магазин товаров для дома «Пока все ещё тут» в срочном порядке ищет аналитиков. Мы поможем нашему магазину стать лучше, а клиентам — обустроить дом своей мечты. Наши ближайшие задачи — выявление профилей покупателей, а также их сегментация и анализ.\n",
    "«Пока все ещё тут» — мы создаём уют!"
   ]
  },
  {
   "cell_type": "markdown",
   "id": "70ec5c8d",
   "metadata": {},
   "source": [
    "## Материалы:  \n",
    "(https://disk.yandex.ru/i/K_S3lMNQqdlqZQ)"
   ]
  },
  {
   "cell_type": "markdown",
   "id": "5a7a5032",
   "metadata": {},
   "source": [
    "## Цель проекта  \n",
    "\n",
    "Выявление профилей потребления, для заказчика — рекламного отдела итернет магазина «Пока все ещё тут»  \n",
    "С целью помочь заказчику создать рекламную рассылку"
   ]
  },
  {
   "cell_type": "markdown",
   "id": "96b59ae2",
   "metadata": {},
   "source": [
    "## Задачи  \n",
    "\n",
    "* Сегментировать покупателей по профилю потребления, т.е. составить подробные рекомендации заказчику по кластерам пользователей. \n",
    "* Определить клиентам какого кластера, когда и какие категории товара рассылать в рекламных предложениях. \n",
    "* Определить как и для какого кластера можно попытаться увеличить количество продаваемого товара, повысить возвращаемость покупателей и т.д."
   ]
  },
  {
   "cell_type": "markdown",
   "id": "38b7f902",
   "metadata": {},
   "source": [
    "## Описание данных  \n",
    "\n",
    "Датасет описывает транзакции интернет-магазина товаров для дома и быта «Пока все ещё тут».\n",
    "\n",
    "Колонки в  *ecommerce_dataset.csv* :\n",
    "\n",
    "* `date` — дата заказа;\n",
    "* `customer_id` — идентификатор покупателя;\n",
    "* `order_id` — идентификатор заказа;\n",
    "* `product` — наименование товара;\n",
    "* `quantity` — количество товара в заказе;\n",
    "* `price` — цена товара."
   ]
  },
  {
   "cell_type": "markdown",
   "id": "1ce5e054",
   "metadata": {},
   "source": [
    "## Гипотезы  \n",
    "\n",
    " **1.** Помочь с распределением пользователей по кластерам могут данные о количестве заказов пользователя и колчичестве чеков, таким образом можно будет определить пользователей с `высокой` потребительской активностью, `средней` и `низкой` соответственно.  Кроме того таким образом можно будет определить возвращающихся пользователей.  \n",
    " \n",
    " **2.** Приобретаемые товары клиентами интернет магазина «Пока все ещё тут» могут быть хорошим маркером, знание какие товары пользуются наибольшим спросом у каждой из 3-х категорий может помочь с таргетингом рекламы для пользователей. Так заказчику будет удобнее определить какой товар предложить клиенту в e-mail рассылке.  \n",
    "\n",
    " **3.** Для каждого из 3-х кластеров пользователей возможно есть сезонные предпочтения к покупкам товаров, определим в какое время пользователи чаще всего покупают те или иные товары, это может помочь нам определить когда лучше присылать СМС, e-mail рассылки клиентам"
   ]
  },
  {
   "cell_type": "markdown",
   "id": "0699e2d9",
   "metadata": {},
   "source": [
    "## Порядок действий  \n",
    "\n",
    "**1.** Обзор данных  \n",
    "\n",
    "**1.1.** Предобработка данных  \n",
    "\n",
    "**2.** Исследовательский анализ данных \n",
    "\n",
    "**2.1** Распределим пользователей по категориям, добавим столбец в котором установим пользователей с `высокой` потребительской активностью, `средней` и `низкой`, на основе количества заказов и чеков которые оставил один пользователь.  \n",
    "\n",
    "**2.2.** Распределим пользователей по категориям при помощи добавления сегментации товаров, например добавим к определенным товарам категории: `рассада цветы`, `все для дома`, и.т.д.\n",
    "\n",
    "**2.3.** Узнаем какие товары у каждой категории покупателей пользуются наибольшим спросом.  \n",
    "\n",
    "**2.4.** Узнаем есть ли сезонность покупок для каждой из 3-х потребительских групп.  \n",
    "\n",
    "**2.5.** Проверим отличается ли средний чек по каждой из 3-х потребительских групп, выявим есть ли между ними критический уровень статистической значимости, проведем A/B тест\n",
    "\n",
    "**3.** Сформируем выводы."
   ]
  },
  {
   "cell_type": "markdown",
   "id": "b68bee9a",
   "metadata": {},
   "source": [
    "## 1. Обзор данных "
   ]
  },
  {
   "cell_type": "code",
   "execution_count": 1,
   "id": "238071a7",
   "metadata": {},
   "outputs": [],
   "source": [
    "# Импортируем библиотеки\n",
    "import pandas as pd\n",
    "import numpy as np\n",
    "from numpy import percentile\n",
    "import math as mth\n",
    "import matplotlib.pyplot as plt\n",
    "from datetime import datetime as dt\n",
    "import seaborn as sns\n",
    "\n",
    "from sklearn.feature_extraction.text import TfidfVectorizer, CountVectorizer\n",
    "from sklearn.cluster import KMeans\n",
    "# from pymystem3 import Mystem\n",
    "from nltk.stem import SnowballStemmer\n",
    "import re\n",
    "\n",
    "from statsmodels.tsa.seasonal import seasonal_decompose\n",
    "\n",
    "from scipy import stats as st"
   ]
  },
  {
   "cell_type": "markdown",
   "id": "cd4fded5",
   "metadata": {},
   "source": [
    "Для удобной работы с датафреймом настроим отображение всей ширины столбцов и зададим настройку игнорировать предупреждения"
   ]
  },
  {
   "cell_type": "code",
   "execution_count": 2,
   "id": "7a577099",
   "metadata": {},
   "outputs": [],
   "source": [
    "# Установим максимальное отображение столбцов\n",
    "pd.set_option('display.max_columns', None)\n",
    "\n",
    "# Установим отображение всей ширины стобца\n",
    "pd.set_option('display.max_colwidth', None)\n",
    "\n",
    "# Игнорируем предупреждения\n",
    "pd.set_option('chained_assignment', None)"
   ]
  },
  {
   "cell_type": "markdown",
   "id": "81d6784e",
   "metadata": {},
   "source": [
    "Обьявим переменную и сохраним в нее датафрейм"
   ]
  },
  {
   "cell_type": "code",
   "execution_count": 3,
   "id": "30680f48",
   "metadata": {},
   "outputs": [],
   "source": [
    "# Сохраним данные в переменную data\n",
    "try: # яндексовский путь\n",
    "    data = pd.read_csv('ecommerce_dataset.csv')\n",
    "except: # мой путь\n",
    "    data = pd.read_csv('D:\\datasets\\ecommerce_dataset.csv')"
   ]
  },
  {
   "cell_type": "code",
   "execution_count": 4,
   "id": "46141648",
   "metadata": {},
   "outputs": [
    {
     "data": {
      "text/html": [
       "<div>\n",
       "<style scoped>\n",
       "    .dataframe tbody tr th:only-of-type {\n",
       "        vertical-align: middle;\n",
       "    }\n",
       "\n",
       "    .dataframe tbody tr th {\n",
       "        vertical-align: top;\n",
       "    }\n",
       "\n",
       "    .dataframe thead th {\n",
       "        text-align: right;\n",
       "    }\n",
       "</style>\n",
       "<table border=\"1\" class=\"dataframe\">\n",
       "  <thead>\n",
       "    <tr style=\"text-align: right;\">\n",
       "      <th></th>\n",
       "      <th>date</th>\n",
       "      <th>customer_id</th>\n",
       "      <th>order_id</th>\n",
       "      <th>product</th>\n",
       "      <th>quantity</th>\n",
       "      <th>price</th>\n",
       "    </tr>\n",
       "  </thead>\n",
       "  <tbody>\n",
       "    <tr>\n",
       "      <th>0</th>\n",
       "      <td>2018100100</td>\n",
       "      <td>ee47d746-6d2f-4d3c-9622-c31412542920</td>\n",
       "      <td>68477</td>\n",
       "      <td>Комнатное растение в горшке Алое Вера, d12, h30</td>\n",
       "      <td>1</td>\n",
       "      <td>142.0</td>\n",
       "    </tr>\n",
       "    <tr>\n",
       "      <th>1</th>\n",
       "      <td>2018100100</td>\n",
       "      <td>ee47d746-6d2f-4d3c-9622-c31412542920</td>\n",
       "      <td>68477</td>\n",
       "      <td>Комнатное растение в горшке Кофе Арабика, d12, h25</td>\n",
       "      <td>1</td>\n",
       "      <td>194.0</td>\n",
       "    </tr>\n",
       "    <tr>\n",
       "      <th>2</th>\n",
       "      <td>2018100100</td>\n",
       "      <td>ee47d746-6d2f-4d3c-9622-c31412542920</td>\n",
       "      <td>68477</td>\n",
       "      <td>Радермахера d-12 см h-20 см</td>\n",
       "      <td>1</td>\n",
       "      <td>112.0</td>\n",
       "    </tr>\n",
       "    <tr>\n",
       "      <th>3</th>\n",
       "      <td>2018100100</td>\n",
       "      <td>ee47d746-6d2f-4d3c-9622-c31412542920</td>\n",
       "      <td>68477</td>\n",
       "      <td>Хризолидокарпус Лутесценс d-9 см</td>\n",
       "      <td>1</td>\n",
       "      <td>179.0</td>\n",
       "    </tr>\n",
       "    <tr>\n",
       "      <th>4</th>\n",
       "      <td>2018100100</td>\n",
       "      <td>ee47d746-6d2f-4d3c-9622-c31412542920</td>\n",
       "      <td>68477</td>\n",
       "      <td>Циперус Зумула d-12 см h-25 см</td>\n",
       "      <td>1</td>\n",
       "      <td>112.0</td>\n",
       "    </tr>\n",
       "    <tr>\n",
       "      <th>5</th>\n",
       "      <td>2018100100</td>\n",
       "      <td>ee47d746-6d2f-4d3c-9622-c31412542920</td>\n",
       "      <td>68477</td>\n",
       "      <td>Шеффлера Лузеана d-9 см</td>\n",
       "      <td>1</td>\n",
       "      <td>164.0</td>\n",
       "    </tr>\n",
       "    <tr>\n",
       "      <th>6</th>\n",
       "      <td>2018100100</td>\n",
       "      <td>ee47d746-6d2f-4d3c-9622-c31412542920</td>\n",
       "      <td>68477</td>\n",
       "      <td>Юкка нитчатая d-12 см h-25-35 см</td>\n",
       "      <td>1</td>\n",
       "      <td>134.0</td>\n",
       "    </tr>\n",
       "    <tr>\n",
       "      <th>7</th>\n",
       "      <td>2018100108</td>\n",
       "      <td>375e0724-f033-4c76-b579-84969cf38ee2</td>\n",
       "      <td>68479</td>\n",
       "      <td>Настенная сушилка для белья Gimi Brio Super 100</td>\n",
       "      <td>1</td>\n",
       "      <td>824.0</td>\n",
       "    </tr>\n",
       "    <tr>\n",
       "      <th>8</th>\n",
       "      <td>2018100108</td>\n",
       "      <td>6644e5b4-9934-4863-9778-aaa125207701</td>\n",
       "      <td>68478</td>\n",
       "      <td>Таз пластмассовый 21,0 л круглый \"Водолей\" С614, 1404056</td>\n",
       "      <td>1</td>\n",
       "      <td>269.0</td>\n",
       "    </tr>\n",
       "    <tr>\n",
       "      <th>9</th>\n",
       "      <td>2018100109</td>\n",
       "      <td>c971fb21-d54c-4134-938f-16b62ee86d3b</td>\n",
       "      <td>68480</td>\n",
       "      <td>Чехол для гладильной доски Colombo Persia Beige 130х50 см из хлопка 5379</td>\n",
       "      <td>1</td>\n",
       "      <td>674.0</td>\n",
       "    </tr>\n",
       "  </tbody>\n",
       "</table>\n",
       "</div>"
      ],
      "text/plain": [
       "         date                           customer_id  order_id  \\\n",
       "0  2018100100  ee47d746-6d2f-4d3c-9622-c31412542920     68477   \n",
       "1  2018100100  ee47d746-6d2f-4d3c-9622-c31412542920     68477   \n",
       "2  2018100100  ee47d746-6d2f-4d3c-9622-c31412542920     68477   \n",
       "3  2018100100  ee47d746-6d2f-4d3c-9622-c31412542920     68477   \n",
       "4  2018100100  ee47d746-6d2f-4d3c-9622-c31412542920     68477   \n",
       "5  2018100100  ee47d746-6d2f-4d3c-9622-c31412542920     68477   \n",
       "6  2018100100  ee47d746-6d2f-4d3c-9622-c31412542920     68477   \n",
       "7  2018100108  375e0724-f033-4c76-b579-84969cf38ee2     68479   \n",
       "8  2018100108  6644e5b4-9934-4863-9778-aaa125207701     68478   \n",
       "9  2018100109  c971fb21-d54c-4134-938f-16b62ee86d3b     68480   \n",
       "\n",
       "                                                                    product  \\\n",
       "0                           Комнатное растение в горшке Алое Вера, d12, h30   \n",
       "1                        Комнатное растение в горшке Кофе Арабика, d12, h25   \n",
       "2                                               Радермахера d-12 см h-20 см   \n",
       "3                                          Хризолидокарпус Лутесценс d-9 см   \n",
       "4                                            Циперус Зумула d-12 см h-25 см   \n",
       "5                                                   Шеффлера Лузеана d-9 см   \n",
       "6                                          Юкка нитчатая d-12 см h-25-35 см   \n",
       "7                           Настенная сушилка для белья Gimi Brio Super 100   \n",
       "8                  Таз пластмассовый 21,0 л круглый \"Водолей\" С614, 1404056   \n",
       "9  Чехол для гладильной доски Colombo Persia Beige 130х50 см из хлопка 5379   \n",
       "\n",
       "   quantity  price  \n",
       "0         1  142.0  \n",
       "1         1  194.0  \n",
       "2         1  112.0  \n",
       "3         1  179.0  \n",
       "4         1  112.0  \n",
       "5         1  164.0  \n",
       "6         1  134.0  \n",
       "7         1  824.0  \n",
       "8         1  269.0  \n",
       "9         1  674.0  "
      ]
     },
     "metadata": {},
     "output_type": "display_data"
    }
   ],
   "source": [
    "# Выведем первые пять строк датафрейма\n",
    "display(data.head(10))"
   ]
  },
  {
   "cell_type": "markdown",
   "id": "cd4bea38",
   "metadata": {},
   "source": [
    "Видим что названия столбцов соотвествуют данным в таблице, названия колонок следуют \"хорошему стилю\"  буквы в нижнем регистре, пробелы заменены на `underscore` — *нижнее подчеркивание*, таким образом названия колонок следуют \"змеиному стилю\""
   ]
  },
  {
   "cell_type": "markdown",
   "id": "0b5ff66b",
   "metadata": {},
   "source": [
    "Посмотрим на типи данных и оценим общий объем информации в датафрейме"
   ]
  },
  {
   "cell_type": "code",
   "execution_count": 5,
   "id": "63bfe58b",
   "metadata": {},
   "outputs": [
    {
     "name": "stdout",
     "output_type": "stream",
     "text": [
      "<class 'pandas.core.frame.DataFrame'>\n",
      "RangeIndex: 6737 entries, 0 to 6736\n",
      "Data columns (total 6 columns):\n",
      " #   Column       Non-Null Count  Dtype  \n",
      "---  ------       --------------  -----  \n",
      " 0   date         6737 non-null   int64  \n",
      " 1   customer_id  6737 non-null   object \n",
      " 2   order_id     6737 non-null   int64  \n",
      " 3   product      6737 non-null   object \n",
      " 4   quantity     6737 non-null   int64  \n",
      " 5   price        6737 non-null   float64\n",
      "dtypes: float64(1), int64(3), object(2)\n",
      "memory usage: 315.9+ KB\n"
     ]
    },
    {
     "data": {
      "text/plain": [
       "None"
      ]
     },
     "metadata": {},
     "output_type": "display_data"
    },
    {
     "data": {
      "text/plain": [
       "'Пропусков в колонках таблицы:'"
      ]
     },
     "metadata": {},
     "output_type": "display_data"
    },
    {
     "data": {
      "text/plain": [
       "date           0\n",
       "customer_id    0\n",
       "order_id       0\n",
       "product        0\n",
       "quantity       0\n",
       "price          0\n",
       "dtype: int64"
      ]
     },
     "metadata": {},
     "output_type": "display_data"
    }
   ],
   "source": [
    "# Выведем информацию о датафреймах методом info()\n",
    "display(data.info())\n",
    "\n",
    "# Посмотрим есть ли в столбцах датафрейма пропуски методом isna() и подсчитаем их количество методом sum()\n",
    "display('Пропусков в колонках таблицы:', data.isna().sum())"
   ]
  },
  {
   "cell_type": "markdown",
   "id": "8e10557c",
   "metadata": {},
   "source": [
    "Видим что данные присутствуют во всех столбцах датафрейма, пропусков не обнаружено.  \n",
    "Всего в датафрейме `6737` строк и `6` колонок.  \n",
    "В колонке `date` — хранятся данные о датах совершения заказов и имеют тип `int64`, приведем его к типу `datetime` на следующем этапе."
   ]
  },
  {
   "cell_type": "markdown",
   "id": "26d0941e",
   "metadata": {},
   "source": [
    "## 1.1. Предобработка данных"
   ]
  },
  {
   "cell_type": "markdown",
   "id": "f84fd4c9",
   "metadata": {},
   "source": [
    "Для начала переведем формат данных в столбце `date` к формату `datetime`  \n",
    "На этапе обзора данных мы видели что данные о времени заказа в датафрейме хранятся в формате `int64` и включают в себя год/месяц/день/час покупки, всего `10` чисел. По этому зададим формат даты до часа покупки."
   ]
  },
  {
   "cell_type": "code",
   "execution_count": 6,
   "id": "b037e52d",
   "metadata": {},
   "outputs": [],
   "source": [
    "# Воспользуемся методом to_datetime библиотеки pandas\n",
    "data['date'] = pd.to_datetime(data['date'], format='%Y%m%d%H')"
   ]
  },
  {
   "cell_type": "markdown",
   "id": "8e513244",
   "metadata": {},
   "source": [
    "Проведем проверку данных на дубликаты"
   ]
  },
  {
   "cell_type": "code",
   "execution_count": 7,
   "id": "179dfc32",
   "metadata": {},
   "outputs": [
    {
     "name": "stdout",
     "output_type": "stream",
     "text": [
      "Дубликатов в датафрейме: 0\n"
     ]
    }
   ],
   "source": [
    "# Проверим данные датафрейма на явные дубликаты методом duplicated()\n",
    "print('Дубликатов в датафрейме:', data.duplicated().sum())"
   ]
  },
  {
   "cell_type": "markdown",
   "id": "dfa7c7b8",
   "metadata": {},
   "source": [
    "Добавим в датафрейм данные о общей цене заказа"
   ]
  },
  {
   "cell_type": "code",
   "execution_count": 8,
   "id": "8061a95a",
   "metadata": {},
   "outputs": [],
   "source": [
    "data['month'] = data['date'].astype('datetime64[M]')"
   ]
  },
  {
   "cell_type": "markdown",
   "id": "7ae7a33e",
   "metadata": {},
   "source": [
    "Проверим предобработку данных и выведем датафрейм на экран"
   ]
  },
  {
   "cell_type": "code",
   "execution_count": 9,
   "id": "a993c4b2",
   "metadata": {},
   "outputs": [
    {
     "data": {
      "text/html": [
       "<div>\n",
       "<style scoped>\n",
       "    .dataframe tbody tr th:only-of-type {\n",
       "        vertical-align: middle;\n",
       "    }\n",
       "\n",
       "    .dataframe tbody tr th {\n",
       "        vertical-align: top;\n",
       "    }\n",
       "\n",
       "    .dataframe thead th {\n",
       "        text-align: right;\n",
       "    }\n",
       "</style>\n",
       "<table border=\"1\" class=\"dataframe\">\n",
       "  <thead>\n",
       "    <tr style=\"text-align: right;\">\n",
       "      <th></th>\n",
       "      <th>date</th>\n",
       "      <th>customer_id</th>\n",
       "      <th>order_id</th>\n",
       "      <th>product</th>\n",
       "      <th>quantity</th>\n",
       "      <th>price</th>\n",
       "      <th>month</th>\n",
       "    </tr>\n",
       "  </thead>\n",
       "  <tbody>\n",
       "    <tr>\n",
       "      <th>0</th>\n",
       "      <td>2018-10-01</td>\n",
       "      <td>ee47d746-6d2f-4d3c-9622-c31412542920</td>\n",
       "      <td>68477</td>\n",
       "      <td>Комнатное растение в горшке Алое Вера, d12, h30</td>\n",
       "      <td>1</td>\n",
       "      <td>142.0</td>\n",
       "      <td>2018-10-01</td>\n",
       "    </tr>\n",
       "    <tr>\n",
       "      <th>1</th>\n",
       "      <td>2018-10-01</td>\n",
       "      <td>ee47d746-6d2f-4d3c-9622-c31412542920</td>\n",
       "      <td>68477</td>\n",
       "      <td>Комнатное растение в горшке Кофе Арабика, d12, h25</td>\n",
       "      <td>1</td>\n",
       "      <td>194.0</td>\n",
       "      <td>2018-10-01</td>\n",
       "    </tr>\n",
       "    <tr>\n",
       "      <th>2</th>\n",
       "      <td>2018-10-01</td>\n",
       "      <td>ee47d746-6d2f-4d3c-9622-c31412542920</td>\n",
       "      <td>68477</td>\n",
       "      <td>Радермахера d-12 см h-20 см</td>\n",
       "      <td>1</td>\n",
       "      <td>112.0</td>\n",
       "      <td>2018-10-01</td>\n",
       "    </tr>\n",
       "    <tr>\n",
       "      <th>3</th>\n",
       "      <td>2018-10-01</td>\n",
       "      <td>ee47d746-6d2f-4d3c-9622-c31412542920</td>\n",
       "      <td>68477</td>\n",
       "      <td>Хризолидокарпус Лутесценс d-9 см</td>\n",
       "      <td>1</td>\n",
       "      <td>179.0</td>\n",
       "      <td>2018-10-01</td>\n",
       "    </tr>\n",
       "    <tr>\n",
       "      <th>4</th>\n",
       "      <td>2018-10-01</td>\n",
       "      <td>ee47d746-6d2f-4d3c-9622-c31412542920</td>\n",
       "      <td>68477</td>\n",
       "      <td>Циперус Зумула d-12 см h-25 см</td>\n",
       "      <td>1</td>\n",
       "      <td>112.0</td>\n",
       "      <td>2018-10-01</td>\n",
       "    </tr>\n",
       "  </tbody>\n",
       "</table>\n",
       "</div>"
      ],
      "text/plain": [
       "        date                           customer_id  order_id  \\\n",
       "0 2018-10-01  ee47d746-6d2f-4d3c-9622-c31412542920     68477   \n",
       "1 2018-10-01  ee47d746-6d2f-4d3c-9622-c31412542920     68477   \n",
       "2 2018-10-01  ee47d746-6d2f-4d3c-9622-c31412542920     68477   \n",
       "3 2018-10-01  ee47d746-6d2f-4d3c-9622-c31412542920     68477   \n",
       "4 2018-10-01  ee47d746-6d2f-4d3c-9622-c31412542920     68477   \n",
       "\n",
       "                                              product  quantity  price  \\\n",
       "0     Комнатное растение в горшке Алое Вера, d12, h30         1  142.0   \n",
       "1  Комнатное растение в горшке Кофе Арабика, d12, h25         1  194.0   \n",
       "2                         Радермахера d-12 см h-20 см         1  112.0   \n",
       "3                    Хризолидокарпус Лутесценс d-9 см         1  179.0   \n",
       "4                      Циперус Зумула d-12 см h-25 см         1  112.0   \n",
       "\n",
       "       month  \n",
       "0 2018-10-01  \n",
       "1 2018-10-01  \n",
       "2 2018-10-01  \n",
       "3 2018-10-01  \n",
       "4 2018-10-01  "
      ]
     },
     "metadata": {},
     "output_type": "display_data"
    }
   ],
   "source": [
    "display(data.head())"
   ]
  },
  {
   "cell_type": "code",
   "execution_count": 10,
   "id": "86b18f39",
   "metadata": {},
   "outputs": [
    {
     "data": {
      "text/plain": [
       "(6737, 7)"
      ]
     },
     "execution_count": 10,
     "metadata": {},
     "output_type": "execute_result"
    }
   ],
   "source": [
    "data.shape"
   ]
  },
  {
   "cell_type": "code",
   "execution_count": 11,
   "id": "3b525a3a",
   "metadata": {},
   "outputs": [
    {
     "data": {
      "text/plain": [
       "(4941, 6)"
      ]
     },
     "execution_count": 11,
     "metadata": {},
     "output_type": "execute_result"
    }
   ],
   "source": [
    "data.drop(columns='date').drop_duplicates().shape"
   ]
  },
  {
   "cell_type": "code",
   "execution_count": 12,
   "id": "ab25456d",
   "metadata": {},
   "outputs": [],
   "source": [
    "data.drop(columns='date',inplace=True)\n",
    "data = data.drop_duplicates()"
   ]
  },
  {
   "cell_type": "code",
   "execution_count": 13,
   "id": "633de01a",
   "metadata": {},
   "outputs": [
    {
     "data": {
      "text/plain": [
       "(4941, 6)"
      ]
     },
     "execution_count": 13,
     "metadata": {},
     "output_type": "execute_result"
    }
   ],
   "source": [
    "data.shape"
   ]
  },
  {
   "cell_type": "code",
   "execution_count": 14,
   "id": "49cfb01d",
   "metadata": {},
   "outputs": [],
   "source": [
    "some_orders = data.groupby('order_id').customer_id.nunique().sort_values()"
   ]
  },
  {
   "cell_type": "code",
   "execution_count": 15,
   "id": "be70f425",
   "metadata": {},
   "outputs": [],
   "source": [
    "data = data[~data['order_id'].isin(some_orders[some_orders>1].index)]"
   ]
  },
  {
   "cell_type": "markdown",
   "id": "398333a5",
   "metadata": {},
   "source": [
    "Что послужило причиной появления у одного заказа двух пользователей не ясно. ЛУчше их убрать, чтобы не было проблем далее. К тому же их не так уж и много"
   ]
  },
  {
   "cell_type": "markdown",
   "id": "af7155ba",
   "metadata": {},
   "source": [
    "## 2. Исследовательский анализ данных"
   ]
  },
  {
   "cell_type": "markdown",
   "id": "23b2f992",
   "metadata": {},
   "source": [
    "Посмотрим какие данные предложены в датафрейме, есть ли среди них выбросы, любые другие ошибки которые помешают нам в дальнейшей работе.  \n",
    "Выведем на экран описание данных методом describe посмотрим на 25, 50, 75, 90, 97 и 99 персентили  "
   ]
  },
  {
   "cell_type": "markdown",
   "id": "b05d91ea",
   "metadata": {},
   "source": [
    "**Проведем исследование в столбце `quantity` - количество товара в заказе**"
   ]
  },
  {
   "cell_type": "code",
   "execution_count": 16,
   "id": "f8cfcda2",
   "metadata": {},
   "outputs": [
    {
     "data": {
      "text/html": [
       "<div>\n",
       "<style scoped>\n",
       "    .dataframe tbody tr th:only-of-type {\n",
       "        vertical-align: middle;\n",
       "    }\n",
       "\n",
       "    .dataframe tbody tr th {\n",
       "        vertical-align: top;\n",
       "    }\n",
       "\n",
       "    .dataframe thead th {\n",
       "        text-align: right;\n",
       "    }\n",
       "</style>\n",
       "<table border=\"1\" class=\"dataframe\">\n",
       "  <thead>\n",
       "    <tr style=\"text-align: right;\">\n",
       "      <th></th>\n",
       "      <th>quantity</th>\n",
       "    </tr>\n",
       "  </thead>\n",
       "  <tbody>\n",
       "    <tr>\n",
       "      <th>count</th>\n",
       "      <td>4872.000000</td>\n",
       "    </tr>\n",
       "    <tr>\n",
       "      <th>mean</th>\n",
       "      <td>2.798030</td>\n",
       "    </tr>\n",
       "    <tr>\n",
       "      <th>std</th>\n",
       "      <td>17.572031</td>\n",
       "    </tr>\n",
       "    <tr>\n",
       "      <th>min</th>\n",
       "      <td>1.000000</td>\n",
       "    </tr>\n",
       "    <tr>\n",
       "      <th>25%</th>\n",
       "      <td>1.000000</td>\n",
       "    </tr>\n",
       "    <tr>\n",
       "      <th>50%</th>\n",
       "      <td>1.000000</td>\n",
       "    </tr>\n",
       "    <tr>\n",
       "      <th>75%</th>\n",
       "      <td>1.000000</td>\n",
       "    </tr>\n",
       "    <tr>\n",
       "      <th>90%</th>\n",
       "      <td>3.000000</td>\n",
       "    </tr>\n",
       "    <tr>\n",
       "      <th>97%</th>\n",
       "      <td>11.000000</td>\n",
       "    </tr>\n",
       "    <tr>\n",
       "      <th>99%</th>\n",
       "      <td>30.000000</td>\n",
       "    </tr>\n",
       "    <tr>\n",
       "      <th>max</th>\n",
       "      <td>1000.000000</td>\n",
       "    </tr>\n",
       "  </tbody>\n",
       "</table>\n",
       "</div>"
      ],
      "text/plain": [
       "          quantity\n",
       "count  4872.000000\n",
       "mean      2.798030\n",
       "std      17.572031\n",
       "min       1.000000\n",
       "25%       1.000000\n",
       "50%       1.000000\n",
       "75%       1.000000\n",
       "90%       3.000000\n",
       "97%      11.000000\n",
       "99%      30.000000\n",
       "max    1000.000000"
      ]
     },
     "metadata": {},
     "output_type": "display_data"
    }
   ],
   "source": [
    "# Воспользуемся методом describe\n",
    "display(data['quantity'].describe(percentiles=[.25, .5, .75, .9, .97, .99]).to_frame())"
   ]
  },
  {
   "cell_type": "markdown",
   "id": "4bf553cd",
   "metadata": {},
   "source": [
    "Видим что максимально кочичество товаров 1000 штук за раз, посмотрим что это за покупка"
   ]
  },
  {
   "cell_type": "code",
   "execution_count": 17,
   "id": "f455d0b9",
   "metadata": {},
   "outputs": [
    {
     "data": {
      "text/html": [
       "<div>\n",
       "<style scoped>\n",
       "    .dataframe tbody tr th:only-of-type {\n",
       "        vertical-align: middle;\n",
       "    }\n",
       "\n",
       "    .dataframe tbody tr th {\n",
       "        vertical-align: top;\n",
       "    }\n",
       "\n",
       "    .dataframe thead th {\n",
       "        text-align: right;\n",
       "    }\n",
       "</style>\n",
       "<table border=\"1\" class=\"dataframe\">\n",
       "  <thead>\n",
       "    <tr style=\"text-align: right;\">\n",
       "      <th></th>\n",
       "      <th>customer_id</th>\n",
       "      <th>order_id</th>\n",
       "      <th>product</th>\n",
       "      <th>quantity</th>\n",
       "      <th>price</th>\n",
       "      <th>month</th>\n",
       "    </tr>\n",
       "  </thead>\n",
       "  <tbody>\n",
       "    <tr>\n",
       "      <th>568</th>\n",
       "      <td>aa42dc38-780f-4b50-9a65-83b6fa64e766</td>\n",
       "      <td>68815</td>\n",
       "      <td>Муляж ЯБЛОКО 9 см красное</td>\n",
       "      <td>170</td>\n",
       "      <td>51.0</td>\n",
       "      <td>2018-11-01</td>\n",
       "    </tr>\n",
       "    <tr>\n",
       "      <th>1158</th>\n",
       "      <td>a984c5b7-ff7e-4647-b84e-ef0b85a2762d</td>\n",
       "      <td>69289</td>\n",
       "      <td>Ручка-скоба РС-100 белая *Трибатрон*, 1108035</td>\n",
       "      <td>200</td>\n",
       "      <td>29.0</td>\n",
       "      <td>2018-12-01</td>\n",
       "    </tr>\n",
       "    <tr>\n",
       "      <th>3961</th>\n",
       "      <td>5d189e88-d4d6-4eac-ab43-fa65a3c4d106</td>\n",
       "      <td>71478</td>\n",
       "      <td>Муляж ЯБЛОКО 9 см красное</td>\n",
       "      <td>300</td>\n",
       "      <td>51.0</td>\n",
       "      <td>2019-05-01</td>\n",
       "    </tr>\n",
       "    <tr>\n",
       "      <th>5071</th>\n",
       "      <td>146cd9bf-a95c-4afb-915b-5f6684b17444</td>\n",
       "      <td>71668</td>\n",
       "      <td>Вешалки мягкие для деликатных вещей 3 шт шоколад</td>\n",
       "      <td>334</td>\n",
       "      <td>148.0</td>\n",
       "      <td>2019-06-01</td>\n",
       "    </tr>\n",
       "    <tr>\n",
       "      <th>5456</th>\n",
       "      <td>312e9a3e-5fca-43ff-a6a1-892d2b2d5ba6</td>\n",
       "      <td>71743</td>\n",
       "      <td>Вантуз с деревянной ручкой d14 см красный, Burstenmann, 0522/0000</td>\n",
       "      <td>1000</td>\n",
       "      <td>675.0</td>\n",
       "      <td>2019-06-01</td>\n",
       "    </tr>\n",
       "  </tbody>\n",
       "</table>\n",
       "</div>"
      ],
      "text/plain": [
       "                               customer_id  order_id  \\\n",
       "568   aa42dc38-780f-4b50-9a65-83b6fa64e766     68815   \n",
       "1158  a984c5b7-ff7e-4647-b84e-ef0b85a2762d     69289   \n",
       "3961  5d189e88-d4d6-4eac-ab43-fa65a3c4d106     71478   \n",
       "5071  146cd9bf-a95c-4afb-915b-5f6684b17444     71668   \n",
       "5456  312e9a3e-5fca-43ff-a6a1-892d2b2d5ba6     71743   \n",
       "\n",
       "                                                                product  \\\n",
       "568                                           Муляж ЯБЛОКО 9 см красное   \n",
       "1158                      Ручка-скоба РС-100 белая *Трибатрон*, 1108035   \n",
       "3961                                          Муляж ЯБЛОКО 9 см красное   \n",
       "5071                   Вешалки мягкие для деликатных вещей 3 шт шоколад   \n",
       "5456  Вантуз с деревянной ручкой d14 см красный, Burstenmann, 0522/0000   \n",
       "\n",
       "      quantity  price      month  \n",
       "568        170   51.0 2018-11-01  \n",
       "1158       200   29.0 2018-12-01  \n",
       "3961       300   51.0 2019-05-01  \n",
       "5071       334  148.0 2019-06-01  \n",
       "5456      1000  675.0 2019-06-01  "
      ]
     },
     "execution_count": 17,
     "metadata": {},
     "output_type": "execute_result"
    }
   ],
   "source": [
    "data[data['quantity']>30].sort_values('quantity').tail()"
   ]
  },
  {
   "cell_type": "code",
   "execution_count": 18,
   "id": "d44e804f",
   "metadata": {},
   "outputs": [
    {
     "data": {
      "text/html": [
       "<div>\n",
       "<style scoped>\n",
       "    .dataframe tbody tr th:only-of-type {\n",
       "        vertical-align: middle;\n",
       "    }\n",
       "\n",
       "    .dataframe tbody tr th {\n",
       "        vertical-align: top;\n",
       "    }\n",
       "\n",
       "    .dataframe thead th {\n",
       "        text-align: right;\n",
       "    }\n",
       "</style>\n",
       "<table border=\"1\" class=\"dataframe\">\n",
       "  <thead>\n",
       "    <tr style=\"text-align: right;\">\n",
       "      <th></th>\n",
       "      <th>customer_id</th>\n",
       "      <th>order_id</th>\n",
       "      <th>product</th>\n",
       "      <th>quantity</th>\n",
       "      <th>price</th>\n",
       "      <th>month</th>\n",
       "    </tr>\n",
       "  </thead>\n",
       "  <tbody>\n",
       "    <tr>\n",
       "      <th>5456</th>\n",
       "      <td>312e9a3e-5fca-43ff-a6a1-892d2b2d5ba6</td>\n",
       "      <td>71743</td>\n",
       "      <td>Вантуз с деревянной ручкой d14 см красный, Burstenmann, 0522/0000</td>\n",
       "      <td>1000</td>\n",
       "      <td>675.0</td>\n",
       "      <td>2019-06-01</td>\n",
       "    </tr>\n",
       "  </tbody>\n",
       "</table>\n",
       "</div>"
      ],
      "text/plain": [
       "                               customer_id  order_id  \\\n",
       "5456  312e9a3e-5fca-43ff-a6a1-892d2b2d5ba6     71743   \n",
       "\n",
       "                                                                product  \\\n",
       "5456  Вантуз с деревянной ручкой d14 см красный, Burstenmann, 0522/0000   \n",
       "\n",
       "      quantity  price      month  \n",
       "5456      1000  675.0 2019-06-01  "
      ]
     },
     "execution_count": 18,
     "metadata": {},
     "output_type": "execute_result"
    }
   ],
   "source": [
    "# Воспользуемся логической индексацией\n",
    "data.loc[data['quantity']==1000]"
   ]
  },
  {
   "cell_type": "markdown",
   "id": "536047b0",
   "metadata": {},
   "source": [
    "**Вывод:**  \n",
    "Такая покупка возможна, но судя по кол-ву остальных товаров, скорее всего это выброс. Предположительно, была произведена ошибка при внесении кол-ва товаров. В качестве решения проблемы предлагается заменить 1000 на 1"
   ]
  },
  {
   "cell_type": "code",
   "execution_count": 19,
   "id": "33cb07a6",
   "metadata": {},
   "outputs": [],
   "source": [
    "data.loc[5456,'quantity'] = 1"
   ]
  },
  {
   "cell_type": "code",
   "execution_count": 20,
   "id": "6b1a93d2",
   "metadata": {},
   "outputs": [
    {
     "data": {
      "text/html": [
       "<div>\n",
       "<style scoped>\n",
       "    .dataframe tbody tr th:only-of-type {\n",
       "        vertical-align: middle;\n",
       "    }\n",
       "\n",
       "    .dataframe tbody tr th {\n",
       "        vertical-align: top;\n",
       "    }\n",
       "\n",
       "    .dataframe thead th {\n",
       "        text-align: right;\n",
       "    }\n",
       "</style>\n",
       "<table border=\"1\" class=\"dataframe\">\n",
       "  <thead>\n",
       "    <tr style=\"text-align: right;\">\n",
       "      <th></th>\n",
       "      <th>quantity</th>\n",
       "    </tr>\n",
       "  </thead>\n",
       "  <tbody>\n",
       "    <tr>\n",
       "      <th>count</th>\n",
       "      <td>4872.000000</td>\n",
       "    </tr>\n",
       "    <tr>\n",
       "      <th>mean</th>\n",
       "      <td>2.592980</td>\n",
       "    </tr>\n",
       "    <tr>\n",
       "      <th>std</th>\n",
       "      <td>10.226704</td>\n",
       "    </tr>\n",
       "    <tr>\n",
       "      <th>min</th>\n",
       "      <td>1.000000</td>\n",
       "    </tr>\n",
       "    <tr>\n",
       "      <th>25%</th>\n",
       "      <td>1.000000</td>\n",
       "    </tr>\n",
       "    <tr>\n",
       "      <th>50%</th>\n",
       "      <td>1.000000</td>\n",
       "    </tr>\n",
       "    <tr>\n",
       "      <th>75%</th>\n",
       "      <td>1.000000</td>\n",
       "    </tr>\n",
       "    <tr>\n",
       "      <th>90%</th>\n",
       "      <td>3.000000</td>\n",
       "    </tr>\n",
       "    <tr>\n",
       "      <th>97%</th>\n",
       "      <td>10.870000</td>\n",
       "    </tr>\n",
       "    <tr>\n",
       "      <th>99%</th>\n",
       "      <td>30.000000</td>\n",
       "    </tr>\n",
       "    <tr>\n",
       "      <th>max</th>\n",
       "      <td>334.000000</td>\n",
       "    </tr>\n",
       "  </tbody>\n",
       "</table>\n",
       "</div>"
      ],
      "text/plain": [
       "          quantity\n",
       "count  4872.000000\n",
       "mean      2.592980\n",
       "std      10.226704\n",
       "min       1.000000\n",
       "25%       1.000000\n",
       "50%       1.000000\n",
       "75%       1.000000\n",
       "90%       3.000000\n",
       "97%      10.870000\n",
       "99%      30.000000\n",
       "max     334.000000"
      ]
     },
     "metadata": {},
     "output_type": "display_data"
    }
   ],
   "source": [
    "# Воспользуемся методом describe\n",
    "display(data['quantity'].describe(percentiles=[.25, .5, .75, .9, .97, .99]).to_frame())"
   ]
  },
  {
   "cell_type": "code",
   "execution_count": 21,
   "id": "f11cbcae",
   "metadata": {},
   "outputs": [],
   "source": [
    "# Умножим количество позиций заказа на цену одной позиции\n",
    "data['revenue'] = data['quantity'] * data['price']"
   ]
  },
  {
   "cell_type": "markdown",
   "id": "32015742",
   "metadata": {},
   "source": [
    "**Проведем исследование данных в столбце `revenue` - выручка**"
   ]
  },
  {
   "cell_type": "code",
   "execution_count": 22,
   "id": "7ea4c7c4",
   "metadata": {},
   "outputs": [
    {
     "data": {
      "text/html": [
       "<div>\n",
       "<style scoped>\n",
       "    .dataframe tbody tr th:only-of-type {\n",
       "        vertical-align: middle;\n",
       "    }\n",
       "\n",
       "    .dataframe tbody tr th {\n",
       "        vertical-align: top;\n",
       "    }\n",
       "\n",
       "    .dataframe thead th {\n",
       "        text-align: right;\n",
       "    }\n",
       "</style>\n",
       "<table border=\"1\" class=\"dataframe\">\n",
       "  <thead>\n",
       "    <tr style=\"text-align: right;\">\n",
       "      <th></th>\n",
       "      <th>revenue</th>\n",
       "    </tr>\n",
       "  </thead>\n",
       "  <tbody>\n",
       "    <tr>\n",
       "      <th>count</th>\n",
       "      <td>4872.000000</td>\n",
       "    </tr>\n",
       "    <tr>\n",
       "      <th>mean</th>\n",
       "      <td>709.444376</td>\n",
       "    </tr>\n",
       "    <tr>\n",
       "      <th>std</th>\n",
       "      <td>1700.174128</td>\n",
       "    </tr>\n",
       "    <tr>\n",
       "      <th>min</th>\n",
       "      <td>9.000000</td>\n",
       "    </tr>\n",
       "    <tr>\n",
       "      <th>25%</th>\n",
       "      <td>120.000000</td>\n",
       "    </tr>\n",
       "    <tr>\n",
       "      <th>50%</th>\n",
       "      <td>191.000000</td>\n",
       "    </tr>\n",
       "    <tr>\n",
       "      <th>75%</th>\n",
       "      <td>734.000000</td>\n",
       "    </tr>\n",
       "    <tr>\n",
       "      <th>90%</th>\n",
       "      <td>1724.000000</td>\n",
       "    </tr>\n",
       "    <tr>\n",
       "      <th>97%</th>\n",
       "      <td>3711.090000</td>\n",
       "    </tr>\n",
       "    <tr>\n",
       "      <th>99%</th>\n",
       "      <td>6148.290000</td>\n",
       "    </tr>\n",
       "    <tr>\n",
       "      <th>max</th>\n",
       "      <td>49432.000000</td>\n",
       "    </tr>\n",
       "  </tbody>\n",
       "</table>\n",
       "</div>"
      ],
      "text/plain": [
       "            revenue\n",
       "count   4872.000000\n",
       "mean     709.444376\n",
       "std     1700.174128\n",
       "min        9.000000\n",
       "25%      120.000000\n",
       "50%      191.000000\n",
       "75%      734.000000\n",
       "90%     1724.000000\n",
       "97%     3711.090000\n",
       "99%     6148.290000\n",
       "max    49432.000000"
      ]
     },
     "metadata": {},
     "output_type": "display_data"
    }
   ],
   "source": [
    "# Воспользуемся методом describe\n",
    "display(data['revenue'].describe(percentiles=[.25, .5, .75, .9, .97, .99]).to_frame())"
   ]
  },
  {
   "cell_type": "markdown",
   "id": "f784d311",
   "metadata": {},
   "source": [
    "**Посмотрим сколько всего товаров было приобретено** "
   ]
  },
  {
   "cell_type": "code",
   "execution_count": 23,
   "id": "cc86c8c7",
   "metadata": {},
   "outputs": [
    {
     "data": {
      "text/html": [
       "<div>\n",
       "<style scoped>\n",
       "    .dataframe tbody tr th:only-of-type {\n",
       "        vertical-align: middle;\n",
       "    }\n",
       "\n",
       "    .dataframe tbody tr th {\n",
       "        vertical-align: top;\n",
       "    }\n",
       "\n",
       "    .dataframe thead th {\n",
       "        text-align: right;\n",
       "    }\n",
       "</style>\n",
       "<table border=\"1\" class=\"dataframe\">\n",
       "  <thead>\n",
       "    <tr style=\"text-align: right;\">\n",
       "      <th></th>\n",
       "      <th>quantity</th>\n",
       "    </tr>\n",
       "  </thead>\n",
       "  <tbody>\n",
       "    <tr>\n",
       "      <th>count</th>\n",
       "      <td>2755.000000</td>\n",
       "    </tr>\n",
       "    <tr>\n",
       "      <th>mean</th>\n",
       "      <td>4.585481</td>\n",
       "    </tr>\n",
       "    <tr>\n",
       "      <th>std</th>\n",
       "      <td>14.792103</td>\n",
       "    </tr>\n",
       "    <tr>\n",
       "      <th>min</th>\n",
       "      <td>1.000000</td>\n",
       "    </tr>\n",
       "    <tr>\n",
       "      <th>25%</th>\n",
       "      <td>1.000000</td>\n",
       "    </tr>\n",
       "    <tr>\n",
       "      <th>50%</th>\n",
       "      <td>1.000000</td>\n",
       "    </tr>\n",
       "    <tr>\n",
       "      <th>75%</th>\n",
       "      <td>3.000000</td>\n",
       "    </tr>\n",
       "    <tr>\n",
       "      <th>90%</th>\n",
       "      <td>10.000000</td>\n",
       "    </tr>\n",
       "    <tr>\n",
       "      <th>97%</th>\n",
       "      <td>25.000000</td>\n",
       "    </tr>\n",
       "    <tr>\n",
       "      <th>99%</th>\n",
       "      <td>52.840000</td>\n",
       "    </tr>\n",
       "    <tr>\n",
       "      <th>max</th>\n",
       "      <td>334.000000</td>\n",
       "    </tr>\n",
       "  </tbody>\n",
       "</table>\n",
       "</div>"
      ],
      "text/plain": [
       "          quantity\n",
       "count  2755.000000\n",
       "mean      4.585481\n",
       "std      14.792103\n",
       "min       1.000000\n",
       "25%       1.000000\n",
       "50%       1.000000\n",
       "75%       3.000000\n",
       "90%      10.000000\n",
       "97%      25.000000\n",
       "99%      52.840000\n",
       "max     334.000000"
      ]
     },
     "metadata": {},
     "output_type": "display_data"
    }
   ],
   "source": [
    "display(data.groupby('order_id').agg({'quantity': 'sum'}).describe(percentiles=[.25, .5, .75, .9, .97, .99]))"
   ]
  },
  {
   "cell_type": "markdown",
   "id": "26b92c70",
   "metadata": {},
   "source": [
    "Построим гистограму распределения количества товаров в одной покупке, сгруппируем данные по `order_id` и посчитаем количество товаров при помощи функции"
   ]
  },
  {
   "cell_type": "code",
   "execution_count": 24,
   "id": "216a80bb",
   "metadata": {},
   "outputs": [
    {
     "data": {
      "text/plain": [
       "12633"
      ]
     },
     "execution_count": 24,
     "metadata": {},
     "output_type": "execute_result"
    }
   ],
   "source": [
    "data['quantity'].sum()"
   ]
  },
  {
   "cell_type": "code",
   "execution_count": 25,
   "id": "9cfb1184",
   "metadata": {},
   "outputs": [
    {
     "data": {
      "image/png": "[encoded data removed]",
      "text/plain": [
       "<Figure size 432x288 with 1 Axes>"
      ]
     },
     "metadata": {
      "needs_background": "light"
     },
     "output_type": "display_data"
    }
   ],
   "source": [
    "# Построим гистограму\n",
    "data.groupby('order_id').agg({'quantity': 'sum'}).hist(range=(1, 20), bins=20)\n",
    "plt.title('Кол-во единиц товаров в одной покупке')\n",
    "plt.locator_params(axis='x', nbins=20)\n",
    "plt.xlabel('Кол-во товаров')\n",
    "plt.ylabel('Кол-во покупок');"
   ]
  },
  {
   "cell_type": "markdown",
   "id": "ba9a6428",
   "metadata": {},
   "source": [
    "**Вывод:**   \n",
    "Всего было продано `15854` товара \n",
    "В среднем покупателе совершают `6` покупок за раз. Медиана по кол-ву покупок равна `1`.\n",
    "Из этого можно сделть вывод, что распределение скошено влево."
   ]
  },
  {
   "cell_type": "markdown",
   "id": "18afa0aa",
   "metadata": {},
   "source": [
    "**Посмотрим как изменялось количество заказов по месяцам**"
   ]
  },
  {
   "cell_type": "code",
   "execution_count": 26,
   "id": "6caa76a7",
   "metadata": {},
   "outputs": [
    {
     "data": {
      "image/png": "[encoded data removed]",
      "text/plain": [
       "<Figure size 432x288 with 1 Axes>"
      ]
     },
     "metadata": {
      "needs_background": "light"
     },
     "output_type": "display_data"
    }
   ],
   "source": [
    "data.groupby(['month']).agg({'order_id': 'nunique'}).plot(grid=True, legend=False)\n",
    "plt.title('Изменение кол-ва заказов по месяцам')\n",
    "plt.xlabel('Месяц')\n",
    "plt.ylabel('Кол-во заказов');"
   ]
  },
  {
   "cell_type": "markdown",
   "id": "fcf4c18f",
   "metadata": {},
   "source": [
    "Видно, что есть снижение покупательской способности в январе. Скорее всего это связано с январскими праздниками, но есть вероятность, что за январь в выборке отсутствуют данные. "
   ]
  },
  {
   "cell_type": "markdown",
   "id": "3bbdc01b",
   "metadata": {},
   "source": [
    "## 2.1. Категоризация"
   ]
  },
  {
   "cell_type": "markdown",
   "id": "de2f84ee",
   "metadata": {},
   "source": [
    "Категоризируем данные датасета, для начала сгруппируем данные по `customer_id`  \n",
    "* Посчитаем количество уникальных `order_id` пользователя;  \n",
    "* Сумарную выручку с пользователя в `revenue`;  \n",
    "* Суму заказаного товара в `quantity`"
   ]
  },
  {
   "cell_type": "code",
   "execution_count": 27,
   "id": "1ce2c53f",
   "metadata": {},
   "outputs": [],
   "source": [
    "clients_cats = data.groupby('customer_id', as_index=False).agg({'order_id':'nunique','revenue':'sum','quantity':'sum'})"
   ]
  },
  {
   "cell_type": "code",
   "execution_count": 28,
   "id": "8c7cc3e2",
   "metadata": {},
   "outputs": [
    {
     "data": {
      "text/html": [
       "<div>\n",
       "<style scoped>\n",
       "    .dataframe tbody tr th:only-of-type {\n",
       "        vertical-align: middle;\n",
       "    }\n",
       "\n",
       "    .dataframe tbody tr th {\n",
       "        vertical-align: top;\n",
       "    }\n",
       "\n",
       "    .dataframe thead th {\n",
       "        text-align: right;\n",
       "    }\n",
       "</style>\n",
       "<table border=\"1\" class=\"dataframe\">\n",
       "  <thead>\n",
       "    <tr style=\"text-align: right;\">\n",
       "      <th></th>\n",
       "      <th>customer_id</th>\n",
       "      <th>order_id</th>\n",
       "      <th>revenue</th>\n",
       "      <th>quantity</th>\n",
       "    </tr>\n",
       "  </thead>\n",
       "  <tbody>\n",
       "    <tr>\n",
       "      <th>0</th>\n",
       "      <td>000d6849-084e-4d9f-ac03-37174eaf60c4</td>\n",
       "      <td>1</td>\n",
       "      <td>555.0</td>\n",
       "      <td>4</td>\n",
       "    </tr>\n",
       "    <tr>\n",
       "      <th>1</th>\n",
       "      <td>001cee7f-0b29-4716-b202-0042213ab038</td>\n",
       "      <td>1</td>\n",
       "      <td>442.0</td>\n",
       "      <td>1</td>\n",
       "    </tr>\n",
       "    <tr>\n",
       "      <th>2</th>\n",
       "      <td>00299f34-5385-4d13-9aea-c80b81658e1b</td>\n",
       "      <td>1</td>\n",
       "      <td>914.0</td>\n",
       "      <td>2</td>\n",
       "    </tr>\n",
       "    <tr>\n",
       "      <th>3</th>\n",
       "      <td>002d4d3a-4a59-406b-86ec-c3314357e498</td>\n",
       "      <td>1</td>\n",
       "      <td>1649.0</td>\n",
       "      <td>1</td>\n",
       "    </tr>\n",
       "    <tr>\n",
       "      <th>4</th>\n",
       "      <td>003bbd39-0000-41ff-b7f9-2ddaec152037</td>\n",
       "      <td>1</td>\n",
       "      <td>2324.0</td>\n",
       "      <td>2</td>\n",
       "    </tr>\n",
       "    <tr>\n",
       "      <th>5</th>\n",
       "      <td>004d24e9-4a6c-4d0e-8727-8391dfd4b43a</td>\n",
       "      <td>1</td>\n",
       "      <td>1536.0</td>\n",
       "      <td>12</td>\n",
       "    </tr>\n",
       "    <tr>\n",
       "      <th>6</th>\n",
       "      <td>005ba170-45e8-42de-93f7-192481ae2659</td>\n",
       "      <td>1</td>\n",
       "      <td>1199.0</td>\n",
       "      <td>1</td>\n",
       "    </tr>\n",
       "    <tr>\n",
       "      <th>7</th>\n",
       "      <td>00bd74b1-2792-47db-a2f1-680a09ac5026</td>\n",
       "      <td>1</td>\n",
       "      <td>937.0</td>\n",
       "      <td>1</td>\n",
       "    </tr>\n",
       "    <tr>\n",
       "      <th>8</th>\n",
       "      <td>00c0f92a-121a-4883-a78d-2c7b5fe187de</td>\n",
       "      <td>1</td>\n",
       "      <td>134.0</td>\n",
       "      <td>1</td>\n",
       "    </tr>\n",
       "    <tr>\n",
       "      <th>9</th>\n",
       "      <td>00cd704a-a65c-4865-b39a-779f1b4f1d1a</td>\n",
       "      <td>1</td>\n",
       "      <td>112.0</td>\n",
       "      <td>1</td>\n",
       "    </tr>\n",
       "  </tbody>\n",
       "</table>\n",
       "</div>"
      ],
      "text/plain": [
       "                            customer_id  order_id  revenue  quantity\n",
       "0  000d6849-084e-4d9f-ac03-37174eaf60c4         1    555.0         4\n",
       "1  001cee7f-0b29-4716-b202-0042213ab038         1    442.0         1\n",
       "2  00299f34-5385-4d13-9aea-c80b81658e1b         1    914.0         2\n",
       "3  002d4d3a-4a59-406b-86ec-c3314357e498         1   1649.0         1\n",
       "4  003bbd39-0000-41ff-b7f9-2ddaec152037         1   2324.0         2\n",
       "5  004d24e9-4a6c-4d0e-8727-8391dfd4b43a         1   1536.0        12\n",
       "6  005ba170-45e8-42de-93f7-192481ae2659         1   1199.0         1\n",
       "7  00bd74b1-2792-47db-a2f1-680a09ac5026         1    937.0         1\n",
       "8  00c0f92a-121a-4883-a78d-2c7b5fe187de         1    134.0         1\n",
       "9  00cd704a-a65c-4865-b39a-779f1b4f1d1a         1    112.0         1"
      ]
     },
     "execution_count": 28,
     "metadata": {},
     "output_type": "execute_result"
    }
   ],
   "source": [
    "clients_cats.head(10) "
   ]
  },
  {
   "cell_type": "markdown",
   "id": "2acf1ab3",
   "metadata": {},
   "source": [
    "Добавим в датасет столбец `arpu` - *(Average revenue per user)*, средняя выручка на одного пользователя"
   ]
  },
  {
   "cell_type": "code",
   "execution_count": 29,
   "id": "72cd6899",
   "metadata": {},
   "outputs": [],
   "source": [
    "clients_cats['arpu'] = clients_cats['revenue'] / clients_cats['order_id']"
   ]
  },
  {
   "cell_type": "markdown",
   "id": "dfca77e5",
   "metadata": {},
   "source": [
    "Логорифмируем данные "
   ]
  },
  {
   "cell_type": "code",
   "execution_count": 30,
   "id": "e4693add",
   "metadata": {},
   "outputs": [
    {
     "data": {
      "image/png": "[encoded data removed]",
      "text/plain": [
       "<Figure size 432x288 with 1 Axes>"
      ]
     },
     "metadata": {
      "needs_background": "light"
     },
     "output_type": "display_data"
    }
   ],
   "source": [
    "np.log(clients_cats['arpu']).hist(bins=100)\n",
    "plt.title('Распределение среднего чека')\n",
    "plt.xlabel('log arpu')\n",
    "plt.ylabel('Кол-во клиентов');"
   ]
  },
  {
   "cell_type": "code",
   "execution_count": 31,
   "id": "f44d8be0",
   "metadata": {},
   "outputs": [
    {
     "data": {
      "text/html": [
       "<div>\n",
       "<style scoped>\n",
       "    .dataframe tbody tr th:only-of-type {\n",
       "        vertical-align: middle;\n",
       "    }\n",
       "\n",
       "    .dataframe tbody tr th {\n",
       "        vertical-align: top;\n",
       "    }\n",
       "\n",
       "    .dataframe thead th {\n",
       "        text-align: right;\n",
       "    }\n",
       "</style>\n",
       "<table border=\"1\" class=\"dataframe\">\n",
       "  <thead>\n",
       "    <tr style=\"text-align: right;\">\n",
       "      <th></th>\n",
       "      <th>order_id</th>\n",
       "      <th>revenue</th>\n",
       "      <th>quantity</th>\n",
       "      <th>arpu</th>\n",
       "    </tr>\n",
       "  </thead>\n",
       "  <tbody>\n",
       "    <tr>\n",
       "      <th>count</th>\n",
       "      <td>2394.000000</td>\n",
       "      <td>2394.000000</td>\n",
       "      <td>2394.000000</td>\n",
       "      <td>2394.000000</td>\n",
       "    </tr>\n",
       "    <tr>\n",
       "      <th>mean</th>\n",
       "      <td>1.150794</td>\n",
       "      <td>1443.781537</td>\n",
       "      <td>5.276942</td>\n",
       "      <td>1250.178274</td>\n",
       "    </tr>\n",
       "    <tr>\n",
       "      <th>std</th>\n",
       "      <td>2.686314</td>\n",
       "      <td>4322.918549</td>\n",
       "      <td>18.315289</td>\n",
       "      <td>2204.912372</td>\n",
       "    </tr>\n",
       "    <tr>\n",
       "      <th>min</th>\n",
       "      <td>1.000000</td>\n",
       "      <td>14.000000</td>\n",
       "      <td>1.000000</td>\n",
       "      <td>14.000000</td>\n",
       "    </tr>\n",
       "    <tr>\n",
       "      <th>25%</th>\n",
       "      <td>1.000000</td>\n",
       "      <td>300.000000</td>\n",
       "      <td>1.000000</td>\n",
       "      <td>298.000000</td>\n",
       "    </tr>\n",
       "    <tr>\n",
       "      <th>50%</th>\n",
       "      <td>1.000000</td>\n",
       "      <td>717.500000</td>\n",
       "      <td>1.000000</td>\n",
       "      <td>676.000000</td>\n",
       "    </tr>\n",
       "    <tr>\n",
       "      <th>75%</th>\n",
       "      <td>1.000000</td>\n",
       "      <td>1574.000000</td>\n",
       "      <td>3.000000</td>\n",
       "      <td>1480.875000</td>\n",
       "    </tr>\n",
       "    <tr>\n",
       "      <th>90%</th>\n",
       "      <td>1.000000</td>\n",
       "      <td>2927.400000</td>\n",
       "      <td>10.000000</td>\n",
       "      <td>2785.000000</td>\n",
       "    </tr>\n",
       "    <tr>\n",
       "      <th>95%</th>\n",
       "      <td>2.000000</td>\n",
       "      <td>4284.150000</td>\n",
       "      <td>20.000000</td>\n",
       "      <td>3974.000000</td>\n",
       "    </tr>\n",
       "    <tr>\n",
       "      <th>99%</th>\n",
       "      <td>3.000000</td>\n",
       "      <td>9201.690000</td>\n",
       "      <td>60.000000</td>\n",
       "      <td>7884.490000</td>\n",
       "    </tr>\n",
       "    <tr>\n",
       "      <th>max</th>\n",
       "      <td>126.000000</td>\n",
       "      <td>159508.000000</td>\n",
       "      <td>334.000000</td>\n",
       "      <td>49432.000000</td>\n",
       "    </tr>\n",
       "  </tbody>\n",
       "</table>\n",
       "</div>"
      ],
      "text/plain": [
       "          order_id        revenue     quantity          arpu\n",
       "count  2394.000000    2394.000000  2394.000000   2394.000000\n",
       "mean      1.150794    1443.781537     5.276942   1250.178274\n",
       "std       2.686314    4322.918549    18.315289   2204.912372\n",
       "min       1.000000      14.000000     1.000000     14.000000\n",
       "25%       1.000000     300.000000     1.000000    298.000000\n",
       "50%       1.000000     717.500000     1.000000    676.000000\n",
       "75%       1.000000    1574.000000     3.000000   1480.875000\n",
       "90%       1.000000    2927.400000    10.000000   2785.000000\n",
       "95%       2.000000    4284.150000    20.000000   3974.000000\n",
       "99%       3.000000    9201.690000    60.000000   7884.490000\n",
       "max     126.000000  159508.000000   334.000000  49432.000000"
      ]
     },
     "execution_count": 31,
     "metadata": {},
     "output_type": "execute_result"
    }
   ],
   "source": [
    "clients_cats.describe(percentiles=[.25, .5, .75, .9, .95, .99])"
   ]
  },
  {
   "cell_type": "markdown",
   "id": "11ce4622",
   "metadata": {},
   "source": [
    "**Вывод:**  \n",
    "Выявлена аномалия - более `90%` пользователей совершили не более одного заказа. \n",
    "Рекомендуется обратиться к тем, кто прислал данную выборку для уточнения ситуации."
   ]
  },
  {
   "cell_type": "markdown",
   "id": "6c74c2ad",
   "metadata": {},
   "source": [
    "Отсортируем данные по столбцу `order_id` посмотрим на максимальное количество заказов которое мы выявили ранее: `126`"
   ]
  },
  {
   "cell_type": "code",
   "execution_count": 32,
   "id": "69a0e6fd",
   "metadata": {},
   "outputs": [
    {
     "data": {
      "text/html": [
       "<div>\n",
       "<style scoped>\n",
       "    .dataframe tbody tr th:only-of-type {\n",
       "        vertical-align: middle;\n",
       "    }\n",
       "\n",
       "    .dataframe tbody tr th {\n",
       "        vertical-align: top;\n",
       "    }\n",
       "\n",
       "    .dataframe thead th {\n",
       "        text-align: right;\n",
       "    }\n",
       "</style>\n",
       "<table border=\"1\" class=\"dataframe\">\n",
       "  <thead>\n",
       "    <tr style=\"text-align: right;\">\n",
       "      <th></th>\n",
       "      <th>customer_id</th>\n",
       "      <th>order_id</th>\n",
       "      <th>revenue</th>\n",
       "      <th>quantity</th>\n",
       "      <th>arpu</th>\n",
       "    </tr>\n",
       "  </thead>\n",
       "  <tbody>\n",
       "    <tr>\n",
       "      <th>0</th>\n",
       "      <td>000d6849-084e-4d9f-ac03-37174eaf60c4</td>\n",
       "      <td>1</td>\n",
       "      <td>555.0</td>\n",
       "      <td>4</td>\n",
       "      <td>555.000000</td>\n",
       "    </tr>\n",
       "    <tr>\n",
       "      <th>1563</th>\n",
       "      <td>ab10dfb3-1f3e-4712-972a-729f5cec2eb2</td>\n",
       "      <td>1</td>\n",
       "      <td>553.0</td>\n",
       "      <td>2</td>\n",
       "      <td>553.000000</td>\n",
       "    </tr>\n",
       "    <tr>\n",
       "      <th>1565</th>\n",
       "      <td>ab46eafd-f9d3-4f91-af42-794d675d9c0c</td>\n",
       "      <td>1</td>\n",
       "      <td>157.0</td>\n",
       "      <td>1</td>\n",
       "      <td>157.000000</td>\n",
       "    </tr>\n",
       "    <tr>\n",
       "      <th>1566</th>\n",
       "      <td>ab938608-1b5b-4830-9fc0-dfc649c04b2f</td>\n",
       "      <td>1</td>\n",
       "      <td>177.0</td>\n",
       "      <td>3</td>\n",
       "      <td>177.000000</td>\n",
       "    </tr>\n",
       "    <tr>\n",
       "      <th>1567</th>\n",
       "      <td>abdc17c8-0813-4b05-9e10-1ffc77eea2d8</td>\n",
       "      <td>1</td>\n",
       "      <td>413.0</td>\n",
       "      <td>7</td>\n",
       "      <td>413.000000</td>\n",
       "    </tr>\n",
       "    <tr>\n",
       "      <th>...</th>\n",
       "      <td>...</td>\n",
       "      <td>...</td>\n",
       "      <td>...</td>\n",
       "      <td>...</td>\n",
       "      <td>...</td>\n",
       "    </tr>\n",
       "    <tr>\n",
       "      <th>16</th>\n",
       "      <td>0184f535-b60a-4914-a982-231e3f615206</td>\n",
       "      <td>5</td>\n",
       "      <td>5891.0</td>\n",
       "      <td>58</td>\n",
       "      <td>1178.200000</td>\n",
       "    </tr>\n",
       "    <tr>\n",
       "      <th>1706</th>\n",
       "      <td>b7b865ab-0735-407f-8d0c-31f74d2806cc</td>\n",
       "      <td>7</td>\n",
       "      <td>3779.0</td>\n",
       "      <td>68</td>\n",
       "      <td>539.857143</td>\n",
       "    </tr>\n",
       "    <tr>\n",
       "      <th>1074</th>\n",
       "      <td>73d1cd35-5e5f-4629-8cf2-3fda829d4e58</td>\n",
       "      <td>17</td>\n",
       "      <td>21361.0</td>\n",
       "      <td>17</td>\n",
       "      <td>1256.529412</td>\n",
       "    </tr>\n",
       "    <tr>\n",
       "      <th>727</th>\n",
       "      <td>4d93d3f6-8b24-403b-a74b-f5173e40d7db</td>\n",
       "      <td>35</td>\n",
       "      <td>57278.0</td>\n",
       "      <td>309</td>\n",
       "      <td>1636.514286</td>\n",
       "    </tr>\n",
       "    <tr>\n",
       "      <th>1870</th>\n",
       "      <td>c971fb21-d54c-4134-938f-16b62ee86d3b</td>\n",
       "      <td>126</td>\n",
       "      <td>159508.0</td>\n",
       "      <td>334</td>\n",
       "      <td>1265.936508</td>\n",
       "    </tr>\n",
       "  </tbody>\n",
       "</table>\n",
       "<p>2394 rows × 5 columns</p>\n",
       "</div>"
      ],
      "text/plain": [
       "                               customer_id  order_id   revenue  quantity  \\\n",
       "0     000d6849-084e-4d9f-ac03-37174eaf60c4         1     555.0         4   \n",
       "1563  ab10dfb3-1f3e-4712-972a-729f5cec2eb2         1     553.0         2   \n",
       "1565  ab46eafd-f9d3-4f91-af42-794d675d9c0c         1     157.0         1   \n",
       "1566  ab938608-1b5b-4830-9fc0-dfc649c04b2f         1     177.0         3   \n",
       "1567  abdc17c8-0813-4b05-9e10-1ffc77eea2d8         1     413.0         7   \n",
       "...                                    ...       ...       ...       ...   \n",
       "16    0184f535-b60a-4914-a982-231e3f615206         5    5891.0        58   \n",
       "1706  b7b865ab-0735-407f-8d0c-31f74d2806cc         7    3779.0        68   \n",
       "1074  73d1cd35-5e5f-4629-8cf2-3fda829d4e58        17   21361.0        17   \n",
       "727   4d93d3f6-8b24-403b-a74b-f5173e40d7db        35   57278.0       309   \n",
       "1870  c971fb21-d54c-4134-938f-16b62ee86d3b       126  159508.0       334   \n",
       "\n",
       "             arpu  \n",
       "0      555.000000  \n",
       "1563   553.000000  \n",
       "1565   157.000000  \n",
       "1566   177.000000  \n",
       "1567   413.000000  \n",
       "...           ...  \n",
       "16    1178.200000  \n",
       "1706   539.857143  \n",
       "1074  1256.529412  \n",
       "727   1636.514286  \n",
       "1870  1265.936508  \n",
       "\n",
       "[2394 rows x 5 columns]"
      ]
     },
     "execution_count": 32,
     "metadata": {},
     "output_type": "execute_result"
    }
   ],
   "source": [
    "clients_cats.sort_values('order_id')"
   ]
  },
  {
   "cell_type": "code",
   "execution_count": 33,
   "id": "2fd4d9ec",
   "metadata": {},
   "outputs": [
    {
     "data": {
      "text/plain": [
       "130"
      ]
     },
     "execution_count": 33,
     "metadata": {},
     "output_type": "execute_result"
    }
   ],
   "source": [
    "data[data['customer_id']=='c971fb21-d54c-4134-938f-16b62ee86d3b']['product'].nunique()"
   ]
  },
  {
   "cell_type": "markdown",
   "id": "e8051489",
   "metadata": {},
   "source": [
    "Очень странный пользователь. Рекомендуется его исключить, т.к есть вероятность, что это ошибка в данных"
   ]
  },
  {
   "cell_type": "code",
   "execution_count": 34,
   "id": "483ea5d9",
   "metadata": {},
   "outputs": [],
   "source": [
    "data = data[data['customer_id']!='c971fb21-d54c-4134-938f-16b62ee86d3b']"
   ]
  },
  {
   "cell_type": "code",
   "execution_count": 35,
   "id": "7bd9f30e",
   "metadata": {},
   "outputs": [
    {
     "data": {
      "image/png": "[encoded data removed]",
      "text/plain": [
       "<Figure size 432x288 with 1 Axes>"
      ]
     },
     "metadata": {
      "needs_background": "light"
     },
     "output_type": "display_data"
    }
   ],
   "source": [
    "clients_cats['order_id'].hist(bins=100)\n",
    "plt.title('Распределение кол-ва заказов')\n",
    "plt.xlabel('Кол-во заказов на 1 пользователя')\n",
    "plt.ylabel('Кол-во пользователей');"
   ]
  },
  {
   "cell_type": "code",
   "execution_count": 36,
   "id": "9880105b",
   "metadata": {},
   "outputs": [
    {
     "data": {
      "image/png": "[encoded data removed]",
      "text/plain": [
       "<Figure size 432x288 with 1 Axes>"
      ]
     },
     "metadata": {
      "needs_background": "light"
     },
     "output_type": "display_data"
    }
   ],
   "source": [
    "clients_cats[clients_cats['customer_id']!='c971fb21-d54c-4134-938f-16b62ee86d3b']['order_id'].hist(bins=100)\n",
    "plt.title('Распределение кол-ва заказов')\n",
    "plt.xlabel('Кол-во заказов на 1 пользователя')\n",
    "plt.ylabel('Кол-во пользователей');"
   ]
  },
  {
   "cell_type": "code",
   "execution_count": 37,
   "id": "89f068b6",
   "metadata": {},
   "outputs": [
    {
     "data": {
      "image/png": "[encoded data removed]",
      "text/plain": [
       "<Figure size 432x288 with 1 Axes>"
      ]
     },
     "metadata": {
      "needs_background": "light"
     },
     "output_type": "display_data"
    }
   ],
   "source": [
    "np.log(clients_cats[clients_cats['customer_id']!='c971fb21-d54c-4134-938f-16b62ee86d3b'].arpu).hist(bins=100)\n",
    "plt.title('Распределение среднего чека')\n",
    "plt.xlabel('log arpu')\n",
    "plt.ylabel('Кол-во клиентов');"
   ]
  },
  {
   "cell_type": "code",
   "execution_count": 38,
   "id": "fdbe4aa5",
   "metadata": {},
   "outputs": [],
   "source": [
    "log_arpu = np.log(clients_cats[clients_cats['customer_id']!='c971fb21-d54c-4134-938f-16b62ee86d3b'].arpu)"
   ]
  },
  {
   "cell_type": "code",
   "execution_count": 39,
   "id": "ce271473",
   "metadata": {},
   "outputs": [
    {
     "data": {
      "text/plain": [
       "count    2393.000000\n",
       "mean        6.452826\n",
       "std         1.190512\n",
       "min         2.639057\n",
       "5%          4.304065\n",
       "50%         6.516193\n",
       "95%         8.287528\n",
       "max        10.808353\n",
       "Name: arpu, dtype: float64"
      ]
     },
     "execution_count": 39,
     "metadata": {},
     "output_type": "execute_result"
    }
   ],
   "source": [
    "log_arpu.describe(percentiles=[.05, .95])"
   ]
  },
  {
   "cell_type": "markdown",
   "id": "deb40af3",
   "metadata": {},
   "source": [
    "В качестве граничных значений будем использовать 90% доверительный интервал на основе персентелей"
   ]
  },
  {
   "cell_type": "code",
   "execution_count": 40,
   "id": "3aabc8e4",
   "metadata": {},
   "outputs": [],
   "source": [
    "def price_segment(x):\n",
    "    if x>8.48:\n",
    "        return 'высокий'\n",
    "    elif x >=4.3 and x<=8.48:\n",
    "        return 'средний'\n",
    "    else:\n",
    "        return 'низкий'"
   ]
  },
  {
   "cell_type": "code",
   "execution_count": 41,
   "id": "e9d840e2",
   "metadata": {},
   "outputs": [],
   "source": [
    "clients_cats['price_segment'] = np.log(clients_cats['arpu']).apply(price_segment)"
   ]
  },
  {
   "cell_type": "code",
   "execution_count": 42,
   "id": "6a49d653",
   "metadata": {},
   "outputs": [
    {
     "data": {
      "text/html": [
       "<div>\n",
       "<style scoped>\n",
       "    .dataframe tbody tr th:only-of-type {\n",
       "        vertical-align: middle;\n",
       "    }\n",
       "\n",
       "    .dataframe tbody tr th {\n",
       "        vertical-align: top;\n",
       "    }\n",
       "\n",
       "    .dataframe thead th {\n",
       "        text-align: right;\n",
       "    }\n",
       "</style>\n",
       "<table border=\"1\" class=\"dataframe\">\n",
       "  <thead>\n",
       "    <tr style=\"text-align: right;\">\n",
       "      <th></th>\n",
       "      <th>customer_id</th>\n",
       "      <th>order_id</th>\n",
       "      <th>revenue</th>\n",
       "      <th>quantity</th>\n",
       "      <th>arpu</th>\n",
       "      <th>price_segment</th>\n",
       "    </tr>\n",
       "  </thead>\n",
       "  <tbody>\n",
       "    <tr>\n",
       "      <th>0</th>\n",
       "      <td>000d6849-084e-4d9f-ac03-37174eaf60c4</td>\n",
       "      <td>1</td>\n",
       "      <td>555.0</td>\n",
       "      <td>4</td>\n",
       "      <td>555.0</td>\n",
       "      <td>средний</td>\n",
       "    </tr>\n",
       "    <tr>\n",
       "      <th>1</th>\n",
       "      <td>001cee7f-0b29-4716-b202-0042213ab038</td>\n",
       "      <td>1</td>\n",
       "      <td>442.0</td>\n",
       "      <td>1</td>\n",
       "      <td>442.0</td>\n",
       "      <td>средний</td>\n",
       "    </tr>\n",
       "    <tr>\n",
       "      <th>2</th>\n",
       "      <td>00299f34-5385-4d13-9aea-c80b81658e1b</td>\n",
       "      <td>1</td>\n",
       "      <td>914.0</td>\n",
       "      <td>2</td>\n",
       "      <td>914.0</td>\n",
       "      <td>средний</td>\n",
       "    </tr>\n",
       "    <tr>\n",
       "      <th>3</th>\n",
       "      <td>002d4d3a-4a59-406b-86ec-c3314357e498</td>\n",
       "      <td>1</td>\n",
       "      <td>1649.0</td>\n",
       "      <td>1</td>\n",
       "      <td>1649.0</td>\n",
       "      <td>средний</td>\n",
       "    </tr>\n",
       "    <tr>\n",
       "      <th>4</th>\n",
       "      <td>003bbd39-0000-41ff-b7f9-2ddaec152037</td>\n",
       "      <td>1</td>\n",
       "      <td>2324.0</td>\n",
       "      <td>2</td>\n",
       "      <td>2324.0</td>\n",
       "      <td>средний</td>\n",
       "    </tr>\n",
       "    <tr>\n",
       "      <th>5</th>\n",
       "      <td>004d24e9-4a6c-4d0e-8727-8391dfd4b43a</td>\n",
       "      <td>1</td>\n",
       "      <td>1536.0</td>\n",
       "      <td>12</td>\n",
       "      <td>1536.0</td>\n",
       "      <td>средний</td>\n",
       "    </tr>\n",
       "    <tr>\n",
       "      <th>6</th>\n",
       "      <td>005ba170-45e8-42de-93f7-192481ae2659</td>\n",
       "      <td>1</td>\n",
       "      <td>1199.0</td>\n",
       "      <td>1</td>\n",
       "      <td>1199.0</td>\n",
       "      <td>средний</td>\n",
       "    </tr>\n",
       "    <tr>\n",
       "      <th>7</th>\n",
       "      <td>00bd74b1-2792-47db-a2f1-680a09ac5026</td>\n",
       "      <td>1</td>\n",
       "      <td>937.0</td>\n",
       "      <td>1</td>\n",
       "      <td>937.0</td>\n",
       "      <td>средний</td>\n",
       "    </tr>\n",
       "    <tr>\n",
       "      <th>8</th>\n",
       "      <td>00c0f92a-121a-4883-a78d-2c7b5fe187de</td>\n",
       "      <td>1</td>\n",
       "      <td>134.0</td>\n",
       "      <td>1</td>\n",
       "      <td>134.0</td>\n",
       "      <td>средний</td>\n",
       "    </tr>\n",
       "    <tr>\n",
       "      <th>9</th>\n",
       "      <td>00cd704a-a65c-4865-b39a-779f1b4f1d1a</td>\n",
       "      <td>1</td>\n",
       "      <td>112.0</td>\n",
       "      <td>1</td>\n",
       "      <td>112.0</td>\n",
       "      <td>средний</td>\n",
       "    </tr>\n",
       "  </tbody>\n",
       "</table>\n",
       "</div>"
      ],
      "text/plain": [
       "                            customer_id  order_id  revenue  quantity    arpu  \\\n",
       "0  000d6849-084e-4d9f-ac03-37174eaf60c4         1    555.0         4   555.0   \n",
       "1  001cee7f-0b29-4716-b202-0042213ab038         1    442.0         1   442.0   \n",
       "2  00299f34-5385-4d13-9aea-c80b81658e1b         1    914.0         2   914.0   \n",
       "3  002d4d3a-4a59-406b-86ec-c3314357e498         1   1649.0         1  1649.0   \n",
       "4  003bbd39-0000-41ff-b7f9-2ddaec152037         1   2324.0         2  2324.0   \n",
       "5  004d24e9-4a6c-4d0e-8727-8391dfd4b43a         1   1536.0        12  1536.0   \n",
       "6  005ba170-45e8-42de-93f7-192481ae2659         1   1199.0         1  1199.0   \n",
       "7  00bd74b1-2792-47db-a2f1-680a09ac5026         1    937.0         1   937.0   \n",
       "8  00c0f92a-121a-4883-a78d-2c7b5fe187de         1    134.0         1   134.0   \n",
       "9  00cd704a-a65c-4865-b39a-779f1b4f1d1a         1    112.0         1   112.0   \n",
       "\n",
       "  price_segment  \n",
       "0       средний  \n",
       "1       средний  \n",
       "2       средний  \n",
       "3       средний  \n",
       "4       средний  \n",
       "5       средний  \n",
       "6       средний  \n",
       "7       средний  \n",
       "8       средний  \n",
       "9       средний  "
      ]
     },
     "execution_count": 42,
     "metadata": {},
     "output_type": "execute_result"
    }
   ],
   "source": [
    "clients_cats.head(10)"
   ]
  },
  {
   "cell_type": "code",
   "execution_count": 43,
   "id": "070a6c9c",
   "metadata": {},
   "outputs": [
    {
     "data": {
      "text/html": [
       "<div>\n",
       "<style scoped>\n",
       "    .dataframe tbody tr th:only-of-type {\n",
       "        vertical-align: middle;\n",
       "    }\n",
       "\n",
       "    .dataframe tbody tr th {\n",
       "        vertical-align: top;\n",
       "    }\n",
       "\n",
       "    .dataframe thead th {\n",
       "        text-align: right;\n",
       "    }\n",
       "</style>\n",
       "<table border=\"1\" class=\"dataframe\">\n",
       "  <thead>\n",
       "    <tr style=\"text-align: right;\">\n",
       "      <th></th>\n",
       "      <th>price_segment</th>\n",
       "      <th>count</th>\n",
       "    </tr>\n",
       "  </thead>\n",
       "  <tbody>\n",
       "    <tr>\n",
       "      <th>0</th>\n",
       "      <td>средний</td>\n",
       "      <td>2226</td>\n",
       "    </tr>\n",
       "    <tr>\n",
       "      <th>1</th>\n",
       "      <td>высокий</td>\n",
       "      <td>86</td>\n",
       "    </tr>\n",
       "    <tr>\n",
       "      <th>2</th>\n",
       "      <td>низкий</td>\n",
       "      <td>82</td>\n",
       "    </tr>\n",
       "  </tbody>\n",
       "</table>\n",
       "</div>"
      ],
      "text/plain": [
       "  price_segment  count\n",
       "0       средний   2226\n",
       "1       высокий     86\n",
       "2        низкий     82"
      ]
     },
     "execution_count": 43,
     "metadata": {},
     "output_type": "execute_result"
    }
   ],
   "source": [
    "top_segments = (clients_cats['price_segment']\n",
    "                .value_counts()\n",
    "                .reset_index()\n",
    "                .rename(columns={'index': 'price_segment', \n",
    "                                 'price_segment': 'count'})\n",
    "                .sort_values(by='count', ascending = False))\n",
    "top_segments"
   ]
  },
  {
   "cell_type": "code",
   "execution_count": 44,
   "id": "2e86561f",
   "metadata": {},
   "outputs": [
    {
     "data": {
      "text/plain": [
       "Text(0.5, 1.0, 'Количество пользователей в категории')"
      ]
     },
     "execution_count": 44,
     "metadata": {},
     "output_type": "execute_result"
    },
    {
     "data": {
      "image/png": "[encoded data removed]",
      "text/plain": [
       "<Figure size 720x360 with 1 Axes>"
      ]
     },
     "metadata": {
      "needs_background": "light"
     },
     "output_type": "display_data"
    }
   ],
   "source": [
    "plt.figure(figsize=(10, 5))\n",
    "ax = sns.barplot(x='price_segment', y='count',\n",
    "                 data=top_segments,\n",
    "                 alpha=0.5)\n",
    "ax.set_title('Количество пользователей в категории', fontsize=15)"
   ]
  },
  {
   "cell_type": "markdown",
   "id": "0e43926f",
   "metadata": {},
   "source": [
    "## 2.2. Сегментация"
   ]
  },
  {
   "cell_type": "code",
   "execution_count": 45,
   "id": "f5cc223c",
   "metadata": {},
   "outputs": [
    {
     "data": {
      "text/plain": [
       "2271"
      ]
     },
     "execution_count": 45,
     "metadata": {},
     "output_type": "execute_result"
    }
   ],
   "source": [
    "data['product'].nunique()"
   ]
  },
  {
   "cell_type": "code",
   "execution_count": 46,
   "id": "65152ebb",
   "metadata": {},
   "outputs": [
    {
     "data": {
      "text/html": [
       "<div>\n",
       "<style scoped>\n",
       "    .dataframe tbody tr th:only-of-type {\n",
       "        vertical-align: middle;\n",
       "    }\n",
       "\n",
       "    .dataframe tbody tr th {\n",
       "        vertical-align: top;\n",
       "    }\n",
       "\n",
       "    .dataframe thead th {\n",
       "        text-align: right;\n",
       "    }\n",
       "</style>\n",
       "<table border=\"1\" class=\"dataframe\">\n",
       "  <thead>\n",
       "    <tr style=\"text-align: right;\">\n",
       "      <th></th>\n",
       "      <th>customer_id</th>\n",
       "      <th>order_id</th>\n",
       "      <th>product</th>\n",
       "      <th>quantity</th>\n",
       "      <th>price</th>\n",
       "      <th>month</th>\n",
       "      <th>revenue</th>\n",
       "    </tr>\n",
       "  </thead>\n",
       "  <tbody>\n",
       "  </tbody>\n",
       "</table>\n",
       "</div>"
      ],
      "text/plain": [
       "Empty DataFrame\n",
       "Columns: [customer_id, order_id, product, quantity, price, month, revenue]\n",
       "Index: []"
      ]
     },
     "execution_count": 46,
     "metadata": {},
     "output_type": "execute_result"
    }
   ],
   "source": [
    "data[data['product'].apply(lambda x: True if 'нау' in x.lower() else False)]"
   ]
  },
  {
   "cell_type": "code",
   "execution_count": 47,
   "id": "30ac3ed7",
   "metadata": {},
   "outputs": [
    {
     "data": {
      "text/plain": [
       "14917.0"
      ]
     },
     "execution_count": 47,
     "metadata": {},
     "output_type": "execute_result"
    }
   ],
   "source": [
    "data['price'].max()"
   ]
  },
  {
   "cell_type": "code",
   "execution_count": 48,
   "id": "ee5f5106",
   "metadata": {},
   "outputs": [
    {
     "data": {
      "text/html": [
       "<div>\n",
       "<style scoped>\n",
       "    .dataframe tbody tr th:only-of-type {\n",
       "        vertical-align: middle;\n",
       "    }\n",
       "\n",
       "    .dataframe tbody tr th {\n",
       "        vertical-align: top;\n",
       "    }\n",
       "\n",
       "    .dataframe thead th {\n",
       "        text-align: right;\n",
       "    }\n",
       "</style>\n",
       "<table border=\"1\" class=\"dataframe\">\n",
       "  <thead>\n",
       "    <tr style=\"text-align: right;\">\n",
       "      <th></th>\n",
       "      <th>customer_id</th>\n",
       "      <th>order_id</th>\n",
       "      <th>product</th>\n",
       "      <th>quantity</th>\n",
       "      <th>price</th>\n",
       "      <th>month</th>\n",
       "      <th>revenue</th>\n",
       "    </tr>\n",
       "  </thead>\n",
       "  <tbody>\n",
       "    <tr>\n",
       "      <th>5992</th>\n",
       "      <td>0d87f4ae-465a-4fac-81e6-5d629761783e</td>\n",
       "      <td>72139</td>\n",
       "      <td>Сушилка уличная Leifheit 85210 LINOMATIC V 400 40 м 175х237х237 см зеленая</td>\n",
       "      <td>1</td>\n",
       "      <td>14917.0</td>\n",
       "      <td>2019-07-01</td>\n",
       "      <td>14917.0</td>\n",
       "    </tr>\n",
       "  </tbody>\n",
       "</table>\n",
       "</div>"
      ],
      "text/plain": [
       "                               customer_id  order_id  \\\n",
       "5992  0d87f4ae-465a-4fac-81e6-5d629761783e     72139   \n",
       "\n",
       "                                                                         product  \\\n",
       "5992  Сушилка уличная Leifheit 85210 LINOMATIC V 400 40 м 175х237х237 см зеленая   \n",
       "\n",
       "      quantity    price      month  revenue  \n",
       "5992         1  14917.0 2019-07-01  14917.0  "
      ]
     },
     "execution_count": 48,
     "metadata": {},
     "output_type": "execute_result"
    }
   ],
   "source": [
    "data[data['price']==14917]"
   ]
  },
  {
   "cell_type": "code",
   "execution_count": 49,
   "id": "4ddb219c",
   "metadata": {},
   "outputs": [
    {
     "data": {
      "text/html": [
       "<div>\n",
       "<style scoped>\n",
       "    .dataframe tbody tr th:only-of-type {\n",
       "        vertical-align: middle;\n",
       "    }\n",
       "\n",
       "    .dataframe tbody tr th {\n",
       "        vertical-align: top;\n",
       "    }\n",
       "\n",
       "    .dataframe thead th {\n",
       "        text-align: right;\n",
       "    }\n",
       "</style>\n",
       "<table border=\"1\" class=\"dataframe\">\n",
       "  <thead>\n",
       "    <tr style=\"text-align: right;\">\n",
       "      <th></th>\n",
       "      <th>customer_id</th>\n",
       "      <th>order_id</th>\n",
       "      <th>product</th>\n",
       "      <th>quantity</th>\n",
       "      <th>price</th>\n",
       "      <th>month</th>\n",
       "      <th>revenue</th>\n",
       "    </tr>\n",
       "  </thead>\n",
       "  <tbody>\n",
       "    <tr>\n",
       "      <th>0</th>\n",
       "      <td>ee47d746-6d2f-4d3c-9622-c31412542920</td>\n",
       "      <td>68477</td>\n",
       "      <td>Комнатное растение в горшке Алое Вера, d12, h30</td>\n",
       "      <td>1</td>\n",
       "      <td>142.0</td>\n",
       "      <td>2018-10-01</td>\n",
       "      <td>142.0</td>\n",
       "    </tr>\n",
       "    <tr>\n",
       "      <th>1</th>\n",
       "      <td>ee47d746-6d2f-4d3c-9622-c31412542920</td>\n",
       "      <td>68477</td>\n",
       "      <td>Комнатное растение в горшке Кофе Арабика, d12, h25</td>\n",
       "      <td>1</td>\n",
       "      <td>194.0</td>\n",
       "      <td>2018-10-01</td>\n",
       "      <td>194.0</td>\n",
       "    </tr>\n",
       "    <tr>\n",
       "      <th>2</th>\n",
       "      <td>ee47d746-6d2f-4d3c-9622-c31412542920</td>\n",
       "      <td>68477</td>\n",
       "      <td>Радермахера d-12 см h-20 см</td>\n",
       "      <td>1</td>\n",
       "      <td>112.0</td>\n",
       "      <td>2018-10-01</td>\n",
       "      <td>112.0</td>\n",
       "    </tr>\n",
       "    <tr>\n",
       "      <th>3</th>\n",
       "      <td>ee47d746-6d2f-4d3c-9622-c31412542920</td>\n",
       "      <td>68477</td>\n",
       "      <td>Хризолидокарпус Лутесценс d-9 см</td>\n",
       "      <td>1</td>\n",
       "      <td>179.0</td>\n",
       "      <td>2018-10-01</td>\n",
       "      <td>179.0</td>\n",
       "    </tr>\n",
       "    <tr>\n",
       "      <th>4</th>\n",
       "      <td>ee47d746-6d2f-4d3c-9622-c31412542920</td>\n",
       "      <td>68477</td>\n",
       "      <td>Циперус Зумула d-12 см h-25 см</td>\n",
       "      <td>1</td>\n",
       "      <td>112.0</td>\n",
       "      <td>2018-10-01</td>\n",
       "      <td>112.0</td>\n",
       "    </tr>\n",
       "  </tbody>\n",
       "</table>\n",
       "</div>"
      ],
      "text/plain": [
       "                            customer_id  order_id  \\\n",
       "0  ee47d746-6d2f-4d3c-9622-c31412542920     68477   \n",
       "1  ee47d746-6d2f-4d3c-9622-c31412542920     68477   \n",
       "2  ee47d746-6d2f-4d3c-9622-c31412542920     68477   \n",
       "3  ee47d746-6d2f-4d3c-9622-c31412542920     68477   \n",
       "4  ee47d746-6d2f-4d3c-9622-c31412542920     68477   \n",
       "\n",
       "                                              product  quantity  price  \\\n",
       "0     Комнатное растение в горшке Алое Вера, d12, h30         1  142.0   \n",
       "1  Комнатное растение в горшке Кофе Арабика, d12, h25         1  194.0   \n",
       "2                         Радермахера d-12 см h-20 см         1  112.0   \n",
       "3                    Хризолидокарпус Лутесценс d-9 см         1  179.0   \n",
       "4                      Циперус Зумула d-12 см h-25 см         1  112.0   \n",
       "\n",
       "       month  revenue  \n",
       "0 2018-10-01    142.0  \n",
       "1 2018-10-01    194.0  \n",
       "2 2018-10-01    112.0  \n",
       "3 2018-10-01    179.0  \n",
       "4 2018-10-01    112.0  "
      ]
     },
     "execution_count": 49,
     "metadata": {},
     "output_type": "execute_result"
    }
   ],
   "source": [
    "data.head()"
   ]
  },
  {
   "cell_type": "code",
   "execution_count": 50,
   "id": "99b068d1",
   "metadata": {},
   "outputs": [],
   "source": [
    "snowball = SnowballStemmer(language=\"russian\")"
   ]
  },
  {
   "cell_type": "code",
   "execution_count": 51,
   "id": "ad6656c2",
   "metadata": {},
   "outputs": [],
   "source": [
    "data['prepare_text'] = data['product'].apply(lambda x: re.sub(r'[^а-я ]','',x.lower().replace('ё','е')))\n",
    "data['prepare_text'] = data['product'].apply(lambda x: \" \".join([snowball.stem(y) for y in x.split()]))"
   ]
  },
  {
   "cell_type": "code",
   "execution_count": 52,
   "id": "7347b03d",
   "metadata": {},
   "outputs": [],
   "source": [
    "countvec = CountVectorizer(ngram_range=(1,2))"
   ]
  },
  {
   "cell_type": "code",
   "execution_count": 53,
   "id": "ba47c388",
   "metadata": {},
   "outputs": [],
   "source": [
    "matrix = countvec.fit_transform(data['prepare_text'])"
   ]
  },
  {
   "cell_type": "code",
   "execution_count": 54,
   "id": "d4fd3980",
   "metadata": {},
   "outputs": [
    {
     "data": {
      "image/png": "[encoded data removed]",
      "text/plain": [
       "<Figure size 432x288 with 1 Axes>"
      ]
     },
     "metadata": {
      "needs_background": "light"
     },
     "output_type": "display_data"
    }
   ],
   "source": [
    "inertia = []\n",
    "for k in range(1, 10):\n",
    "    kmeans = KMeans(n_clusters=k, random_state=1).fit(matrix)\n",
    "    inertia.append(np.sqrt(kmeans.inertia_))\n",
    "\n",
    "plt.plot(range(1, 10), inertia, marker='s');\n",
    "plt.title('Elbow method')\n",
    "plt.xlabel('$k$')\n",
    "plt.ylabel('$J(C_k)$');"
   ]
  },
  {
   "cell_type": "markdown",
   "id": "42363c86",
   "metadata": {},
   "source": [
    "Оптимальное кол-во кластеров — 5"
   ]
  },
  {
   "cell_type": "code",
   "execution_count": 55,
   "id": "08601ba3",
   "metadata": {},
   "outputs": [],
   "source": [
    "kmeans = KMeans(n_clusters=5, random_state=1).fit(matrix)"
   ]
  },
  {
   "cell_type": "code",
   "execution_count": 56,
   "id": "c3e41fc4",
   "metadata": {},
   "outputs": [],
   "source": [
    "data['cluster'] = kmeans.labels_"
   ]
  },
  {
   "cell_type": "code",
   "execution_count": 57,
   "id": "853244be",
   "metadata": {},
   "outputs": [],
   "source": [
    "top_items = data.groupby(['customer_id','cluster','product'],as_index=False).quantity.sum()"
   ]
  },
  {
   "cell_type": "code",
   "execution_count": 58,
   "id": "cf26df1c",
   "metadata": {},
   "outputs": [
    {
     "data": {
      "text/html": [
       "<div>\n",
       "<style scoped>\n",
       "    .dataframe tbody tr th:only-of-type {\n",
       "        vertical-align: middle;\n",
       "    }\n",
       "\n",
       "    .dataframe tbody tr th {\n",
       "        vertical-align: top;\n",
       "    }\n",
       "\n",
       "    .dataframe thead th {\n",
       "        text-align: right;\n",
       "    }\n",
       "</style>\n",
       "<table border=\"1\" class=\"dataframe\">\n",
       "  <thead>\n",
       "    <tr style=\"text-align: right;\">\n",
       "      <th></th>\n",
       "      <th>customer_id</th>\n",
       "      <th>cluster</th>\n",
       "      <th>product</th>\n",
       "      <th>quantity</th>\n",
       "    </tr>\n",
       "  </thead>\n",
       "  <tbody>\n",
       "    <tr>\n",
       "      <th>1683</th>\n",
       "      <td>5d189e88-d4d6-4eac-ab43-fa65a3c4d106</td>\n",
       "      <td>0</td>\n",
       "      <td>Муляж ЯБЛОКО 9 см красное</td>\n",
       "      <td>300</td>\n",
       "    </tr>\n",
       "    <tr>\n",
       "      <th>3020</th>\n",
       "      <td>aa42dc38-780f-4b50-9a65-83b6fa64e766</td>\n",
       "      <td>0</td>\n",
       "      <td>Муляж ЯБЛОКО 9 см красное</td>\n",
       "      <td>170</td>\n",
       "    </tr>\n",
       "    <tr>\n",
       "      <th>197</th>\n",
       "      <td>0c5aaa88-e346-4f87-8f7a-ad8cbc04e965</td>\n",
       "      <td>0</td>\n",
       "      <td>Муляж ЯБЛОКО 9 см красное</td>\n",
       "      <td>140</td>\n",
       "    </tr>\n",
       "    <tr>\n",
       "      <th>3973</th>\n",
       "      <td>de95510f-3558-4c42-97dc-98cc4215c278</td>\n",
       "      <td>0</td>\n",
       "      <td>Универсальный нож WEBBER из нержавеющей стали Русские мотивы 12,7 см с деревянной ручкой ВЕ-2252D</td>\n",
       "      <td>80</td>\n",
       "    </tr>\n",
       "    <tr>\n",
       "      <th>1291</th>\n",
       "      <td>498f12a4-6a62-4725-8516-cf5dc9ab8a3a</td>\n",
       "      <td>0</td>\n",
       "      <td>Салфетка Protec Textil Polyline 30х43 см Аметист белая 6230</td>\n",
       "      <td>60</td>\n",
       "    </tr>\n",
       "    <tr>\n",
       "      <th>...</th>\n",
       "      <td>...</td>\n",
       "      <td>...</td>\n",
       "      <td>...</td>\n",
       "      <td>...</td>\n",
       "    </tr>\n",
       "    <tr>\n",
       "      <th>1799</th>\n",
       "      <td>6242596a-92a2-4808-8257-63ae973cd4c4</td>\n",
       "      <td>0</td>\n",
       "      <td>Покрытие для гладильной доски Dressfix XL 140х40 см на веревке жасмин, Leifheit, 72328</td>\n",
       "      <td>1</td>\n",
       "    </tr>\n",
       "    <tr>\n",
       "      <th>1790</th>\n",
       "      <td>61467178-1b59-4c2b-bba7-ced50d80e11f</td>\n",
       "      <td>0</td>\n",
       "      <td>Одеяло Wellness 1410 пуховое белое, 100% белый пух 500 гр, 140х200 см, 4607101064199</td>\n",
       "      <td>1</td>\n",
       "    </tr>\n",
       "    <tr>\n",
       "      <th>1788</th>\n",
       "      <td>6103dd99-546e-4800-a283-1cd5fd7a3958</td>\n",
       "      <td>0</td>\n",
       "      <td>Доска разделочная Alparaisa стеклянная Завтрак 20х30 см RD0030-ST</td>\n",
       "      <td>1</td>\n",
       "    </tr>\n",
       "    <tr>\n",
       "      <th>1787</th>\n",
       "      <td>60dd35d2-27c8-4621-9378-4e4ad1677db9</td>\n",
       "      <td>0</td>\n",
       "      <td>Бальзамин новогвинейский d-13 см цвет фуксии</td>\n",
       "      <td>1</td>\n",
       "    </tr>\n",
       "    <tr>\n",
       "      <th>4539</th>\n",
       "      <td>ffb80538-3fda-4351-8ea9-9d2bec58bb07</td>\n",
       "      <td>0</td>\n",
       "      <td>Стакан для ванной комнаты ETNA SHINY керамика 12,5х9,5 см коричневый, Spirella, 1016116</td>\n",
       "      <td>1</td>\n",
       "    </tr>\n",
       "  </tbody>\n",
       "</table>\n",
       "<p>1463 rows × 4 columns</p>\n",
       "</div>"
      ],
      "text/plain": [
       "                               customer_id  cluster  \\\n",
       "1683  5d189e88-d4d6-4eac-ab43-fa65a3c4d106        0   \n",
       "3020  aa42dc38-780f-4b50-9a65-83b6fa64e766        0   \n",
       "197   0c5aaa88-e346-4f87-8f7a-ad8cbc04e965        0   \n",
       "3973  de95510f-3558-4c42-97dc-98cc4215c278        0   \n",
       "1291  498f12a4-6a62-4725-8516-cf5dc9ab8a3a        0   \n",
       "...                                    ...      ...   \n",
       "1799  6242596a-92a2-4808-8257-63ae973cd4c4        0   \n",
       "1790  61467178-1b59-4c2b-bba7-ced50d80e11f        0   \n",
       "1788  6103dd99-546e-4800-a283-1cd5fd7a3958        0   \n",
       "1787  60dd35d2-27c8-4621-9378-4e4ad1677db9        0   \n",
       "4539  ffb80538-3fda-4351-8ea9-9d2bec58bb07        0   \n",
       "\n",
       "                                                                                                product  \\\n",
       "1683                                                                          Муляж ЯБЛОКО 9 см красное   \n",
       "3020                                                                          Муляж ЯБЛОКО 9 см красное   \n",
       "197                                                                           Муляж ЯБЛОКО 9 см красное   \n",
       "3973  Универсальный нож WEBBER из нержавеющей стали Русские мотивы 12,7 см с деревянной ручкой ВЕ-2252D   \n",
       "1291                                        Салфетка Protec Textil Polyline 30х43 см Аметист белая 6230   \n",
       "...                                                                                                 ...   \n",
       "1799             Покрытие для гладильной доски Dressfix XL 140х40 см на веревке жасмин, Leifheit, 72328   \n",
       "1790               Одеяло Wellness 1410 пуховое белое, 100% белый пух 500 гр, 140х200 см, 4607101064199   \n",
       "1788                                  Доска разделочная Alparaisa стеклянная Завтрак 20х30 см RD0030-ST   \n",
       "1787                                                       Бальзамин новогвинейский d-13 см цвет фуксии   \n",
       "4539            Стакан для ванной комнаты ETNA SHINY керамика 12,5х9,5 см коричневый, Spirella, 1016116   \n",
       "\n",
       "      quantity  \n",
       "1683       300  \n",
       "3020       170  \n",
       "197        140  \n",
       "3973        80  \n",
       "1291        60  \n",
       "...        ...  \n",
       "1799         1  \n",
       "1790         1  \n",
       "1788         1  \n",
       "1787         1  \n",
       "4539         1  \n",
       "\n",
       "[1463 rows x 4 columns]"
      ]
     },
     "execution_count": 58,
     "metadata": {},
     "output_type": "execute_result"
    }
   ],
   "source": [
    "top_items[top_items['cluster']==0].sort_values('quantity',ascending=False)"
   ]
  },
  {
   "cell_type": "code",
   "execution_count": 59,
   "id": "b31d7819",
   "metadata": {},
   "outputs": [
    {
     "data": {
      "text/html": [
       "<div>\n",
       "<style scoped>\n",
       "    .dataframe tbody tr th:only-of-type {\n",
       "        vertical-align: middle;\n",
       "    }\n",
       "\n",
       "    .dataframe tbody tr th {\n",
       "        vertical-align: top;\n",
       "    }\n",
       "\n",
       "    .dataframe thead th {\n",
       "        text-align: right;\n",
       "    }\n",
       "</style>\n",
       "<table border=\"1\" class=\"dataframe\">\n",
       "  <thead>\n",
       "    <tr style=\"text-align: right;\">\n",
       "      <th></th>\n",
       "      <th>customer_id</th>\n",
       "      <th>cluster</th>\n",
       "      <th>product</th>\n",
       "      <th>quantity</th>\n",
       "    </tr>\n",
       "  </thead>\n",
       "  <tbody>\n",
       "    <tr>\n",
       "      <th>3668</th>\n",
       "      <td>d2312fff-3f16-482f-8303-7f54680807f8</td>\n",
       "      <td>1</td>\n",
       "      <td>Пеларгония зональная диам. 12 см красная махровая</td>\n",
       "      <td>18</td>\n",
       "    </tr>\n",
       "    <tr>\n",
       "      <th>4362</th>\n",
       "      <td>f479df63-c15c-4d4e-9866-cd91b3e8bcfc</td>\n",
       "      <td>1</td>\n",
       "      <td>Пеларгония зональная диам. 12 см красная махровая</td>\n",
       "      <td>11</td>\n",
       "    </tr>\n",
       "    <tr>\n",
       "      <th>3377</th>\n",
       "      <td>bfa5c5ea-61c5-4cd8-b257-329981a70ea0</td>\n",
       "      <td>1</td>\n",
       "      <td>Пеларгония зональная диам. 12 см белая махровая</td>\n",
       "      <td>6</td>\n",
       "    </tr>\n",
       "    <tr>\n",
       "      <th>3354</th>\n",
       "      <td>bea7a833-2074-42db-bc49-4457abd3c930</td>\n",
       "      <td>1</td>\n",
       "      <td>Пеларгония зональная диам. 12 см сиреневый полумахровый</td>\n",
       "      <td>6</td>\n",
       "    </tr>\n",
       "    <tr>\n",
       "      <th>3379</th>\n",
       "      <td>bfa5c5ea-61c5-4cd8-b257-329981a70ea0</td>\n",
       "      <td>1</td>\n",
       "      <td>Пеларгония зональная диам. 12 см лососевая махровая</td>\n",
       "      <td>6</td>\n",
       "    </tr>\n",
       "    <tr>\n",
       "      <th>...</th>\n",
       "      <td>...</td>\n",
       "      <td>...</td>\n",
       "      <td>...</td>\n",
       "      <td>...</td>\n",
       "    </tr>\n",
       "    <tr>\n",
       "      <th>1801</th>\n",
       "      <td>62952c5b-e5ef-4009-a2f9-1ebff401c514</td>\n",
       "      <td>1</td>\n",
       "      <td>Пеларгония зональная диам. 12 см коралловая полумахровая</td>\n",
       "      <td>1</td>\n",
       "    </tr>\n",
       "    <tr>\n",
       "      <th>1802</th>\n",
       "      <td>62952c5b-e5ef-4009-a2f9-1ebff401c514</td>\n",
       "      <td>1</td>\n",
       "      <td>Пеларгония зональная диам. 12 см сиреневый полумахровый</td>\n",
       "      <td>1</td>\n",
       "    </tr>\n",
       "    <tr>\n",
       "      <th>1803</th>\n",
       "      <td>62952c5b-e5ef-4009-a2f9-1ebff401c514</td>\n",
       "      <td>1</td>\n",
       "      <td>Пеларгония зональная диам. 12 см темнорозовая полумахровая</td>\n",
       "      <td>1</td>\n",
       "    </tr>\n",
       "    <tr>\n",
       "      <th>1855</th>\n",
       "      <td>65750d7d-d0b4-46d1-83c2-f6756f0ab8a1</td>\n",
       "      <td>1</td>\n",
       "      <td>Пеларгония зональная диам. 12 см сиреневый полумахровый</td>\n",
       "      <td>1</td>\n",
       "    </tr>\n",
       "    <tr>\n",
       "      <th>4460</th>\n",
       "      <td>fb117193-682f-44ab-b9fe-e9be18801e36</td>\n",
       "      <td>1</td>\n",
       "      <td>Пеларгония зональная диам. 12 см ярко розовая махровая</td>\n",
       "      <td>1</td>\n",
       "    </tr>\n",
       "  </tbody>\n",
       "</table>\n",
       "<p>267 rows × 4 columns</p>\n",
       "</div>"
      ],
      "text/plain": [
       "                               customer_id  cluster  \\\n",
       "3668  d2312fff-3f16-482f-8303-7f54680807f8        1   \n",
       "4362  f479df63-c15c-4d4e-9866-cd91b3e8bcfc        1   \n",
       "3377  bfa5c5ea-61c5-4cd8-b257-329981a70ea0        1   \n",
       "3354  bea7a833-2074-42db-bc49-4457abd3c930        1   \n",
       "3379  bfa5c5ea-61c5-4cd8-b257-329981a70ea0        1   \n",
       "...                                    ...      ...   \n",
       "1801  62952c5b-e5ef-4009-a2f9-1ebff401c514        1   \n",
       "1802  62952c5b-e5ef-4009-a2f9-1ebff401c514        1   \n",
       "1803  62952c5b-e5ef-4009-a2f9-1ebff401c514        1   \n",
       "1855  65750d7d-d0b4-46d1-83c2-f6756f0ab8a1        1   \n",
       "4460  fb117193-682f-44ab-b9fe-e9be18801e36        1   \n",
       "\n",
       "                                                         product  quantity  \n",
       "3668           Пеларгония зональная диам. 12 см красная махровая        18  \n",
       "4362           Пеларгония зональная диам. 12 см красная махровая        11  \n",
       "3377             Пеларгония зональная диам. 12 см белая махровая         6  \n",
       "3354     Пеларгония зональная диам. 12 см сиреневый полумахровый         6  \n",
       "3379         Пеларгония зональная диам. 12 см лососевая махровая         6  \n",
       "...                                                          ...       ...  \n",
       "1801    Пеларгония зональная диам. 12 см коралловая полумахровая         1  \n",
       "1802     Пеларгония зональная диам. 12 см сиреневый полумахровый         1  \n",
       "1803  Пеларгония зональная диам. 12 см темнорозовая полумахровая         1  \n",
       "1855     Пеларгония зональная диам. 12 см сиреневый полумахровый         1  \n",
       "4460      Пеларгония зональная диам. 12 см ярко розовая махровая         1  \n",
       "\n",
       "[267 rows x 4 columns]"
      ]
     },
     "execution_count": 59,
     "metadata": {},
     "output_type": "execute_result"
    }
   ],
   "source": [
    "top_items[top_items['cluster']==1].sort_values('quantity',ascending=False)"
   ]
  },
  {
   "cell_type": "code",
   "execution_count": 60,
   "id": "23313a6c",
   "metadata": {},
   "outputs": [
    {
     "data": {
      "text/html": [
       "<div>\n",
       "<style scoped>\n",
       "    .dataframe tbody tr th:only-of-type {\n",
       "        vertical-align: middle;\n",
       "    }\n",
       "\n",
       "    .dataframe tbody tr th {\n",
       "        vertical-align: top;\n",
       "    }\n",
       "\n",
       "    .dataframe thead th {\n",
       "        text-align: right;\n",
       "    }\n",
       "</style>\n",
       "<table border=\"1\" class=\"dataframe\">\n",
       "  <thead>\n",
       "    <tr style=\"text-align: right;\">\n",
       "      <th></th>\n",
       "      <th>customer_id</th>\n",
       "      <th>cluster</th>\n",
       "      <th>product</th>\n",
       "      <th>quantity</th>\n",
       "    </tr>\n",
       "  </thead>\n",
       "  <tbody>\n",
       "    <tr>\n",
       "      <th>937</th>\n",
       "      <td>363f8d24-6d16-428f-8c89-a0fab51a5436</td>\n",
       "      <td>2</td>\n",
       "      <td>Сушилка для белья напольная НИКА СБ3Б 10 м белая</td>\n",
       "      <td>10</td>\n",
       "    </tr>\n",
       "    <tr>\n",
       "      <th>1304</th>\n",
       "      <td>49cf5289-122d-41ae-9672-d5943b007ca7</td>\n",
       "      <td>2</td>\n",
       "      <td>Сушилка для белья настенная Zalger Prima 510-720 веревочная 7 линий 25 м</td>\n",
       "      <td>4</td>\n",
       "    </tr>\n",
       "    <tr>\n",
       "      <th>2241</th>\n",
       "      <td>7c07ced3-b809-4a37-8650-e79f9f1a4ea5</td>\n",
       "      <td>2</td>\n",
       "      <td>Прищепки для белья York Spring Prestige, 9603/Z027</td>\n",
       "      <td>2</td>\n",
       "    </tr>\n",
       "    <tr>\n",
       "      <th>237</th>\n",
       "      <td>0efde029-f588-4d48-9a62-a90597443d0f</td>\n",
       "      <td>2</td>\n",
       "      <td>Сушилка для белья потолочно-настенная Gimi Lift 200</td>\n",
       "      <td>2</td>\n",
       "    </tr>\n",
       "    <tr>\n",
       "      <th>2953</th>\n",
       "      <td>a5ab3199-f4dd-4992-90dd-a8e95e179a45</td>\n",
       "      <td>2</td>\n",
       "      <td>Сушилка для белья потолочная ЛИАНА ЛЮКС 170 см ЛЛП-170</td>\n",
       "      <td>2</td>\n",
       "    </tr>\n",
       "    <tr>\n",
       "      <th>...</th>\n",
       "      <td>...</td>\n",
       "      <td>...</td>\n",
       "      <td>...</td>\n",
       "      <td>...</td>\n",
       "    </tr>\n",
       "    <tr>\n",
       "      <th>1641</th>\n",
       "      <td>5a5a3e12-dd24-4580-9671-3ba5472817f1</td>\n",
       "      <td>2</td>\n",
       "      <td>Сушилка для белья на стену Leifheit Telegant 100, белая, 83100</td>\n",
       "      <td>1</td>\n",
       "    </tr>\n",
       "    <tr>\n",
       "      <th>1643</th>\n",
       "      <td>5aa8dfc6-2ac3-4213-83dc-ad69667a3ce8</td>\n",
       "      <td>2</td>\n",
       "      <td>Сушилка для белья потолочная Лиана 2,0 м 1703009</td>\n",
       "      <td>1</td>\n",
       "    </tr>\n",
       "    <tr>\n",
       "      <th>1648</th>\n",
       "      <td>5b3d4d1d-98a8-4e19-9010-0b3d26578782</td>\n",
       "      <td>2</td>\n",
       "      <td>Сушилка для белья Leifheit Siena 18 м 81151</td>\n",
       "      <td>1</td>\n",
       "    </tr>\n",
       "    <tr>\n",
       "      <th>1650</th>\n",
       "      <td>5b8356c0-5437-4b96-b69e-c196277b17d0</td>\n",
       "      <td>2</td>\n",
       "      <td>Сушилка для белья ЛИАНА ЛЮКС 130 см потолочная</td>\n",
       "      <td>1</td>\n",
       "    </tr>\n",
       "    <tr>\n",
       "      <th>4540</th>\n",
       "      <td>ffe82299-3f5b-4214-87fe-3d36ecccfac3</td>\n",
       "      <td>2</td>\n",
       "      <td>Сушилка для белья потолочная Лиана 1,8 м 1703007</td>\n",
       "      <td>1</td>\n",
       "    </tr>\n",
       "  </tbody>\n",
       "</table>\n",
       "<p>275 rows × 4 columns</p>\n",
       "</div>"
      ],
      "text/plain": [
       "                               customer_id  cluster  \\\n",
       "937   363f8d24-6d16-428f-8c89-a0fab51a5436        2   \n",
       "1304  49cf5289-122d-41ae-9672-d5943b007ca7        2   \n",
       "2241  7c07ced3-b809-4a37-8650-e79f9f1a4ea5        2   \n",
       "237   0efde029-f588-4d48-9a62-a90597443d0f        2   \n",
       "2953  a5ab3199-f4dd-4992-90dd-a8e95e179a45        2   \n",
       "...                                    ...      ...   \n",
       "1641  5a5a3e12-dd24-4580-9671-3ba5472817f1        2   \n",
       "1643  5aa8dfc6-2ac3-4213-83dc-ad69667a3ce8        2   \n",
       "1648  5b3d4d1d-98a8-4e19-9010-0b3d26578782        2   \n",
       "1650  5b8356c0-5437-4b96-b69e-c196277b17d0        2   \n",
       "4540  ffe82299-3f5b-4214-87fe-3d36ecccfac3        2   \n",
       "\n",
       "                                                                       product  \\\n",
       "937                           Сушилка для белья напольная НИКА СБ3Б 10 м белая   \n",
       "1304  Сушилка для белья настенная Zalger Prima 510-720 веревочная 7 линий 25 м   \n",
       "2241                        Прищепки для белья York Spring Prestige, 9603/Z027   \n",
       "237                        Сушилка для белья потолочно-настенная Gimi Lift 200   \n",
       "2953                    Сушилка для белья потолочная ЛИАНА ЛЮКС 170 см ЛЛП-170   \n",
       "...                                                                        ...   \n",
       "1641            Сушилка для белья на стену Leifheit Telegant 100, белая, 83100   \n",
       "1643                          Сушилка для белья потолочная Лиана 2,0 м 1703009   \n",
       "1648                               Сушилка для белья Leifheit Siena 18 м 81151   \n",
       "1650                            Сушилка для белья ЛИАНА ЛЮКС 130 см потолочная   \n",
       "4540                          Сушилка для белья потолочная Лиана 1,8 м 1703007   \n",
       "\n",
       "      quantity  \n",
       "937         10  \n",
       "1304         4  \n",
       "2241         2  \n",
       "237          2  \n",
       "2953         2  \n",
       "...        ...  \n",
       "1641         1  \n",
       "1643         1  \n",
       "1648         1  \n",
       "1650         1  \n",
       "4540         1  \n",
       "\n",
       "[275 rows x 4 columns]"
      ]
     },
     "execution_count": 60,
     "metadata": {},
     "output_type": "execute_result"
    }
   ],
   "source": [
    "top_items[top_items['cluster']==2].sort_values('quantity',ascending=False)"
   ]
  },
  {
   "cell_type": "code",
   "execution_count": 61,
   "id": "dd115e04",
   "metadata": {},
   "outputs": [
    {
     "data": {
      "text/html": [
       "<div>\n",
       "<style scoped>\n",
       "    .dataframe tbody tr th:only-of-type {\n",
       "        vertical-align: middle;\n",
       "    }\n",
       "\n",
       "    .dataframe tbody tr th {\n",
       "        vertical-align: top;\n",
       "    }\n",
       "\n",
       "    .dataframe thead th {\n",
       "        text-align: right;\n",
       "    }\n",
       "</style>\n",
       "<table border=\"1\" class=\"dataframe\">\n",
       "  <thead>\n",
       "    <tr style=\"text-align: right;\">\n",
       "      <th></th>\n",
       "      <th>customer_id</th>\n",
       "      <th>cluster</th>\n",
       "      <th>product</th>\n",
       "      <th>quantity</th>\n",
       "    </tr>\n",
       "  </thead>\n",
       "  <tbody>\n",
       "    <tr>\n",
       "      <th>1407</th>\n",
       "      <td>4d93d3f6-8b24-403b-a74b-f5173e40d7db</td>\n",
       "      <td>3</td>\n",
       "      <td>Герань домашняя (пеларгония зональная) цветущая D12, H25-30, коралловая, полумахровая</td>\n",
       "      <td>11</td>\n",
       "    </tr>\n",
       "    <tr>\n",
       "      <th>1483</th>\n",
       "      <td>4f75ae10-0ffb-4728-8885-3dadfa7204f7</td>\n",
       "      <td>3</td>\n",
       "      <td>Пеларгония розебудная Margaretha укорененный черенок</td>\n",
       "      <td>10</td>\n",
       "    </tr>\n",
       "    <tr>\n",
       "      <th>1196</th>\n",
       "      <td>42f16745-609a-44f9-9aec-aeedecd22d15</td>\n",
       "      <td>3</td>\n",
       "      <td>Пеларгония розебудная Red Pandora укорененный черенок</td>\n",
       "      <td>9</td>\n",
       "    </tr>\n",
       "    <tr>\n",
       "      <th>3380</th>\n",
       "      <td>bfa5c5ea-61c5-4cd8-b257-329981a70ea0</td>\n",
       "      <td>3</td>\n",
       "      <td>Пеларгония розебудная Rosebud Red d-7 см</td>\n",
       "      <td>6</td>\n",
       "    </tr>\n",
       "    <tr>\n",
       "      <th>1966</th>\n",
       "      <td>6c4cb43f-ae80-41aa-827d-0f569d7afbd7</td>\n",
       "      <td>3</td>\n",
       "      <td>Пеларгония розебудная Queen Ingrid укорененный черенок</td>\n",
       "      <td>5</td>\n",
       "    </tr>\n",
       "    <tr>\n",
       "      <th>...</th>\n",
       "      <td>...</td>\n",
       "      <td>...</td>\n",
       "      <td>...</td>\n",
       "      <td>...</td>\n",
       "    </tr>\n",
       "    <tr>\n",
       "      <th>1615</th>\n",
       "      <td>58a966e2-b773-4ddd-aeff-472f8320a6a3</td>\n",
       "      <td>3</td>\n",
       "      <td>Пеларгония розебудная Prins Nikolai укорененный черенок</td>\n",
       "      <td>1</td>\n",
       "    </tr>\n",
       "    <tr>\n",
       "      <th>1601</th>\n",
       "      <td>579034b8-ab03-4077-b8c7-7a5e0289e412</td>\n",
       "      <td>3</td>\n",
       "      <td>Пеларгония розебудная Prins Nikolai укорененный черенок</td>\n",
       "      <td>1</td>\n",
       "    </tr>\n",
       "    <tr>\n",
       "      <th>1542</th>\n",
       "      <td>54417722-4dc6-40b3-bc5a-f71fc905583e</td>\n",
       "      <td>3</td>\n",
       "      <td>Пеларгония Toscana Angeleyes Amarillo Rosato укорененный черенок</td>\n",
       "      <td>1</td>\n",
       "    </tr>\n",
       "    <tr>\n",
       "      <th>1541</th>\n",
       "      <td>54417722-4dc6-40b3-bc5a-f71fc905583e</td>\n",
       "      <td>3</td>\n",
       "      <td>Пеларгония Toscana Angeleyes Amarillo Burgundy укорененный черенок</td>\n",
       "      <td>1</td>\n",
       "    </tr>\n",
       "    <tr>\n",
       "      <th>2141</th>\n",
       "      <td>760aa067-90c3-4794-b7a9-a8831197388b</td>\n",
       "      <td>3</td>\n",
       "      <td>Пеларгония розебудная Rosebud Red d-7 см</td>\n",
       "      <td>1</td>\n",
       "    </tr>\n",
       "  </tbody>\n",
       "</table>\n",
       "<p>372 rows × 4 columns</p>\n",
       "</div>"
      ],
      "text/plain": [
       "                               customer_id  cluster  \\\n",
       "1407  4d93d3f6-8b24-403b-a74b-f5173e40d7db        3   \n",
       "1483  4f75ae10-0ffb-4728-8885-3dadfa7204f7        3   \n",
       "1196  42f16745-609a-44f9-9aec-aeedecd22d15        3   \n",
       "3380  bfa5c5ea-61c5-4cd8-b257-329981a70ea0        3   \n",
       "1966  6c4cb43f-ae80-41aa-827d-0f569d7afbd7        3   \n",
       "...                                    ...      ...   \n",
       "1615  58a966e2-b773-4ddd-aeff-472f8320a6a3        3   \n",
       "1601  579034b8-ab03-4077-b8c7-7a5e0289e412        3   \n",
       "1542  54417722-4dc6-40b3-bc5a-f71fc905583e        3   \n",
       "1541  54417722-4dc6-40b3-bc5a-f71fc905583e        3   \n",
       "2141  760aa067-90c3-4794-b7a9-a8831197388b        3   \n",
       "\n",
       "                                                                                    product  \\\n",
       "1407  Герань домашняя (пеларгония зональная) цветущая D12, H25-30, коралловая, полумахровая   \n",
       "1483                                   Пеларгония розебудная Margaretha укорененный черенок   \n",
       "1196                                  Пеларгония розебудная Red Pandora укорененный черенок   \n",
       "3380                                               Пеларгония розебудная Rosebud Red d-7 см   \n",
       "1966                                 Пеларгония розебудная Queen Ingrid укорененный черенок   \n",
       "...                                                                                     ...   \n",
       "1615                                Пеларгония розебудная Prins Nikolai укорененный черенок   \n",
       "1601                                Пеларгония розебудная Prins Nikolai укорененный черенок   \n",
       "1542                       Пеларгония Toscana Angeleyes Amarillo Rosato укорененный черенок   \n",
       "1541                     Пеларгония Toscana Angeleyes Amarillo Burgundy укорененный черенок   \n",
       "2141                                               Пеларгония розебудная Rosebud Red d-7 см   \n",
       "\n",
       "      quantity  \n",
       "1407        11  \n",
       "1483        10  \n",
       "1196         9  \n",
       "3380         6  \n",
       "1966         5  \n",
       "...        ...  \n",
       "1615         1  \n",
       "1601         1  \n",
       "1542         1  \n",
       "1541         1  \n",
       "2141         1  \n",
       "\n",
       "[372 rows x 4 columns]"
      ]
     },
     "execution_count": 61,
     "metadata": {},
     "output_type": "execute_result"
    }
   ],
   "source": [
    "top_items[top_items['cluster']==3].sort_values('quantity',ascending=False)"
   ]
  },
  {
   "cell_type": "code",
   "execution_count": 62,
   "id": "7eedea52",
   "metadata": {},
   "outputs": [
    {
     "data": {
      "text/html": [
       "<div>\n",
       "<style scoped>\n",
       "    .dataframe tbody tr th:only-of-type {\n",
       "        vertical-align: middle;\n",
       "    }\n",
       "\n",
       "    .dataframe tbody tr th {\n",
       "        vertical-align: top;\n",
       "    }\n",
       "\n",
       "    .dataframe thead th {\n",
       "        text-align: right;\n",
       "    }\n",
       "</style>\n",
       "<table border=\"1\" class=\"dataframe\">\n",
       "  <thead>\n",
       "    <tr style=\"text-align: right;\">\n",
       "      <th></th>\n",
       "      <th>customer_id</th>\n",
       "      <th>cluster</th>\n",
       "      <th>product</th>\n",
       "      <th>quantity</th>\n",
       "    </tr>\n",
       "  </thead>\n",
       "  <tbody>\n",
       "    <tr>\n",
       "      <th>335</th>\n",
       "      <td>146cd9bf-a95c-4afb-915b-5f6684b17444</td>\n",
       "      <td>4</td>\n",
       "      <td>Вешалки мягкие для деликатных вещей 3 шт шоколад</td>\n",
       "      <td>334</td>\n",
       "    </tr>\n",
       "    <tr>\n",
       "      <th>3002</th>\n",
       "      <td>a984c5b7-ff7e-4647-b84e-ef0b85a2762d</td>\n",
       "      <td>4</td>\n",
       "      <td>Ручка-скоба РС-100 белая *Трибатрон*, 1108035</td>\n",
       "      <td>200</td>\n",
       "    </tr>\n",
       "    <tr>\n",
       "      <th>3564</th>\n",
       "      <td>cd09ea73-d9ce-48c3-b4c5-018113735e80</td>\n",
       "      <td>4</td>\n",
       "      <td>Крепеж для пружины дверной, 1107055</td>\n",
       "      <td>150</td>\n",
       "    </tr>\n",
       "    <tr>\n",
       "      <th>1902</th>\n",
       "      <td>685d3d84-aebb-485b-8e59-344b3df8b3d3</td>\n",
       "      <td>4</td>\n",
       "      <td>Плечики пластмассовые Размер 52 - 54 Тула 1205158</td>\n",
       "      <td>150</td>\n",
       "    </tr>\n",
       "    <tr>\n",
       "      <th>3565</th>\n",
       "      <td>cd09ea73-d9ce-48c3-b4c5-018113735e80</td>\n",
       "      <td>4</td>\n",
       "      <td>Пружина дверная 240 мм оцинкованная (Д-19 мм) без крепления, 1107014</td>\n",
       "      <td>150</td>\n",
       "    </tr>\n",
       "    <tr>\n",
       "      <th>...</th>\n",
       "      <td>...</td>\n",
       "      <td>...</td>\n",
       "      <td>...</td>\n",
       "      <td>...</td>\n",
       "    </tr>\n",
       "    <tr>\n",
       "      <th>1754</th>\n",
       "      <td>601b9c5d-b87b-47d9-95d0-269c734ad5b4</td>\n",
       "      <td>4</td>\n",
       "      <td>Тележка багажная DELTA ТБР-20 синий грузоподъемность 25 кг сумка и 50 кг каркас РОССИЯ</td>\n",
       "      <td>1</td>\n",
       "    </tr>\n",
       "    <tr>\n",
       "      <th>1752</th>\n",
       "      <td>5fe1274b-74ac-4a16-bde7-48e28879b2c6</td>\n",
       "      <td>4</td>\n",
       "      <td>Мешок для деликатной стирки 50х70см, Attribute, ALB257</td>\n",
       "      <td>1</td>\n",
       "    </tr>\n",
       "    <tr>\n",
       "      <th>1750</th>\n",
       "      <td>5fa9bbd0-f5b2-47e6-ad5d-a38c6e69c9b2</td>\n",
       "      <td>4</td>\n",
       "      <td>Многолетнее растение Тимьян-чабрец розовый объем 0,5 л</td>\n",
       "      <td>1</td>\n",
       "    </tr>\n",
       "    <tr>\n",
       "      <th>1747</th>\n",
       "      <td>5f7bbd5a-26dc-48ba-bcd8-19560f880fd3</td>\n",
       "      <td>4</td>\n",
       "      <td>Ванна 70 л оцинкованная г.Магнитогорск, 1301016</td>\n",
       "      <td>1</td>\n",
       "    </tr>\n",
       "    <tr>\n",
       "      <th>4537</th>\n",
       "      <td>ffaeab76-3a8d-49ee-860f-17273b2fc8a2</td>\n",
       "      <td>4</td>\n",
       "      <td>Таз пластмассовый со стиральной доской (Иж), 1404021</td>\n",
       "      <td>1</td>\n",
       "    </tr>\n",
       "  </tbody>\n",
       "</table>\n",
       "<p>2164 rows × 4 columns</p>\n",
       "</div>"
      ],
      "text/plain": [
       "                               customer_id  cluster  \\\n",
       "335   146cd9bf-a95c-4afb-915b-5f6684b17444        4   \n",
       "3002  a984c5b7-ff7e-4647-b84e-ef0b85a2762d        4   \n",
       "3564  cd09ea73-d9ce-48c3-b4c5-018113735e80        4   \n",
       "1902  685d3d84-aebb-485b-8e59-344b3df8b3d3        4   \n",
       "3565  cd09ea73-d9ce-48c3-b4c5-018113735e80        4   \n",
       "...                                    ...      ...   \n",
       "1754  601b9c5d-b87b-47d9-95d0-269c734ad5b4        4   \n",
       "1752  5fe1274b-74ac-4a16-bde7-48e28879b2c6        4   \n",
       "1750  5fa9bbd0-f5b2-47e6-ad5d-a38c6e69c9b2        4   \n",
       "1747  5f7bbd5a-26dc-48ba-bcd8-19560f880fd3        4   \n",
       "4537  ffaeab76-3a8d-49ee-860f-17273b2fc8a2        4   \n",
       "\n",
       "                                                                                     product  \\\n",
       "335                                         Вешалки мягкие для деликатных вещей 3 шт шоколад   \n",
       "3002                                           Ручка-скоба РС-100 белая *Трибатрон*, 1108035   \n",
       "3564                                                     Крепеж для пружины дверной, 1107055   \n",
       "1902                                       Плечики пластмассовые Размер 52 - 54 Тула 1205158   \n",
       "3565                    Пружина дверная 240 мм оцинкованная (Д-19 мм) без крепления, 1107014   \n",
       "...                                                                                      ...   \n",
       "1754  Тележка багажная DELTA ТБР-20 синий грузоподъемность 25 кг сумка и 50 кг каркас РОССИЯ   \n",
       "1752                                  Мешок для деликатной стирки 50х70см, Attribute, ALB257   \n",
       "1750                                  Многолетнее растение Тимьян-чабрец розовый объем 0,5 л   \n",
       "1747                                         Ванна 70 л оцинкованная г.Магнитогорск, 1301016   \n",
       "4537                                    Таз пластмассовый со стиральной доской (Иж), 1404021   \n",
       "\n",
       "      quantity  \n",
       "335        334  \n",
       "3002       200  \n",
       "3564       150  \n",
       "1902       150  \n",
       "3565       150  \n",
       "...        ...  \n",
       "1754         1  \n",
       "1752         1  \n",
       "1750         1  \n",
       "1747         1  \n",
       "4537         1  \n",
       "\n",
       "[2164 rows x 4 columns]"
      ]
     },
     "execution_count": 62,
     "metadata": {},
     "output_type": "execute_result"
    }
   ],
   "source": [
    "top_items[top_items['cluster']==4].sort_values('quantity',ascending=False)"
   ]
  },
  {
   "cell_type": "markdown",
   "id": "d7b39f02",
   "metadata": {},
   "source": [
    "Некоторые кластеры очень схожи друг с другом по наполению. Поэтому объединим их под общей категорий"
   ]
  },
  {
   "cell_type": "markdown",
   "id": "f9e57c69",
   "metadata": {},
   "source": [
    "График - пользовательская категория + товары. "
   ]
  },
  {
   "cell_type": "code",
   "execution_count": 63,
   "id": "051038ef",
   "metadata": {},
   "outputs": [],
   "source": [
    "def segmentation(x):\n",
    "    if x in [2,0]:\n",
    "        return 'рассада'\n",
    "    elif x==3:\n",
    "        return 'комнатные цветы'\n",
    "    elif x==4:\n",
    "        return 'товары для дома'\n",
    "    elif x==1:\n",
    "        return 'цветы'"
   ]
  },
  {
   "cell_type": "code",
   "execution_count": 64,
   "id": "490f41d7",
   "metadata": {},
   "outputs": [],
   "source": [
    "data['segment'] = data['cluster'].apply(segmentation)"
   ]
  },
  {
   "cell_type": "code",
   "execution_count": 65,
   "id": "1fbb10be",
   "metadata": {},
   "outputs": [
    {
     "data": {
      "text/plain": [
       "товары для дома    2271\n",
       "рассада            1797\n",
       "комнатные цветы     383\n",
       "цветы               278\n",
       "Name: segment, dtype: int64"
      ]
     },
     "execution_count": 65,
     "metadata": {},
     "output_type": "execute_result"
    }
   ],
   "source": [
    "data.segment.value_counts()"
   ]
  },
  {
   "cell_type": "code",
   "execution_count": 66,
   "id": "aa8e347a",
   "metadata": {},
   "outputs": [
    {
     "data": {
      "text/html": [
       "<div>\n",
       "<style scoped>\n",
       "    .dataframe tbody tr th:only-of-type {\n",
       "        vertical-align: middle;\n",
       "    }\n",
       "\n",
       "    .dataframe tbody tr th {\n",
       "        vertical-align: top;\n",
       "    }\n",
       "\n",
       "    .dataframe thead th {\n",
       "        text-align: right;\n",
       "    }\n",
       "</style>\n",
       "<table border=\"1\" class=\"dataframe\">\n",
       "  <thead>\n",
       "    <tr style=\"text-align: right;\">\n",
       "      <th></th>\n",
       "      <th>customer_id</th>\n",
       "      <th>order_id</th>\n",
       "      <th>product</th>\n",
       "      <th>quantity</th>\n",
       "      <th>price</th>\n",
       "      <th>month</th>\n",
       "      <th>revenue</th>\n",
       "      <th>prepare_text</th>\n",
       "      <th>cluster</th>\n",
       "      <th>segment</th>\n",
       "    </tr>\n",
       "  </thead>\n",
       "  <tbody>\n",
       "    <tr>\n",
       "      <th>0</th>\n",
       "      <td>ee47d746-6d2f-4d3c-9622-c31412542920</td>\n",
       "      <td>68477</td>\n",
       "      <td>Комнатное растение в горшке Алое Вера, d12, h30</td>\n",
       "      <td>1</td>\n",
       "      <td>142.0</td>\n",
       "      <td>2018-10-01</td>\n",
       "      <td>142.0</td>\n",
       "      <td>комнатн растен в горшк ал вера, d12, h30</td>\n",
       "      <td>4</td>\n",
       "      <td>товары для дома</td>\n",
       "    </tr>\n",
       "    <tr>\n",
       "      <th>1</th>\n",
       "      <td>ee47d746-6d2f-4d3c-9622-c31412542920</td>\n",
       "      <td>68477</td>\n",
       "      <td>Комнатное растение в горшке Кофе Арабика, d12, h25</td>\n",
       "      <td>1</td>\n",
       "      <td>194.0</td>\n",
       "      <td>2018-10-01</td>\n",
       "      <td>194.0</td>\n",
       "      <td>комнатн растен в горшк коф арабика, d12, h25</td>\n",
       "      <td>4</td>\n",
       "      <td>товары для дома</td>\n",
       "    </tr>\n",
       "    <tr>\n",
       "      <th>2</th>\n",
       "      <td>ee47d746-6d2f-4d3c-9622-c31412542920</td>\n",
       "      <td>68477</td>\n",
       "      <td>Радермахера d-12 см h-20 см</td>\n",
       "      <td>1</td>\n",
       "      <td>112.0</td>\n",
       "      <td>2018-10-01</td>\n",
       "      <td>112.0</td>\n",
       "      <td>радермахер d-12 см h-20 см</td>\n",
       "      <td>0</td>\n",
       "      <td>рассада</td>\n",
       "    </tr>\n",
       "    <tr>\n",
       "      <th>3</th>\n",
       "      <td>ee47d746-6d2f-4d3c-9622-c31412542920</td>\n",
       "      <td>68477</td>\n",
       "      <td>Хризолидокарпус Лутесценс d-9 см</td>\n",
       "      <td>1</td>\n",
       "      <td>179.0</td>\n",
       "      <td>2018-10-01</td>\n",
       "      <td>179.0</td>\n",
       "      <td>хризолидокарпус лутесценс d-9 см</td>\n",
       "      <td>0</td>\n",
       "      <td>рассада</td>\n",
       "    </tr>\n",
       "    <tr>\n",
       "      <th>4</th>\n",
       "      <td>ee47d746-6d2f-4d3c-9622-c31412542920</td>\n",
       "      <td>68477</td>\n",
       "      <td>Циперус Зумула d-12 см h-25 см</td>\n",
       "      <td>1</td>\n",
       "      <td>112.0</td>\n",
       "      <td>2018-10-01</td>\n",
       "      <td>112.0</td>\n",
       "      <td>циперус зумул d-12 см h-25 см</td>\n",
       "      <td>0</td>\n",
       "      <td>рассада</td>\n",
       "    </tr>\n",
       "  </tbody>\n",
       "</table>\n",
       "</div>"
      ],
      "text/plain": [
       "                            customer_id  order_id  \\\n",
       "0  ee47d746-6d2f-4d3c-9622-c31412542920     68477   \n",
       "1  ee47d746-6d2f-4d3c-9622-c31412542920     68477   \n",
       "2  ee47d746-6d2f-4d3c-9622-c31412542920     68477   \n",
       "3  ee47d746-6d2f-4d3c-9622-c31412542920     68477   \n",
       "4  ee47d746-6d2f-4d3c-9622-c31412542920     68477   \n",
       "\n",
       "                                              product  quantity  price  \\\n",
       "0     Комнатное растение в горшке Алое Вера, d12, h30         1  142.0   \n",
       "1  Комнатное растение в горшке Кофе Арабика, d12, h25         1  194.0   \n",
       "2                         Радермахера d-12 см h-20 см         1  112.0   \n",
       "3                    Хризолидокарпус Лутесценс d-9 см         1  179.0   \n",
       "4                      Циперус Зумула d-12 см h-25 см         1  112.0   \n",
       "\n",
       "       month  revenue                                  prepare_text  cluster  \\\n",
       "0 2018-10-01    142.0      комнатн растен в горшк ал вера, d12, h30        4   \n",
       "1 2018-10-01    194.0  комнатн растен в горшк коф арабика, d12, h25        4   \n",
       "2 2018-10-01    112.0                    радермахер d-12 см h-20 см        0   \n",
       "3 2018-10-01    179.0              хризолидокарпус лутесценс d-9 см        0   \n",
       "4 2018-10-01    112.0                 циперус зумул d-12 см h-25 см        0   \n",
       "\n",
       "           segment  \n",
       "0  товары для дома  \n",
       "1  товары для дома  \n",
       "2          рассада  \n",
       "3          рассада  \n",
       "4          рассада  "
      ]
     },
     "execution_count": 66,
     "metadata": {},
     "output_type": "execute_result"
    }
   ],
   "source": [
    "data.head()"
   ]
  },
  {
   "cell_type": "markdown",
   "id": "0127d9c7",
   "metadata": {},
   "source": [
    "Проверим какова сезонность продаж товаров по категориям "
   ]
  },
  {
   "cell_type": "code",
   "execution_count": 67,
   "id": "e12f811c",
   "metadata": {},
   "outputs": [
    {
     "data": {
      "text/html": [
       "<div>\n",
       "<style scoped>\n",
       "    .dataframe tbody tr th:only-of-type {\n",
       "        vertical-align: middle;\n",
       "    }\n",
       "\n",
       "    .dataframe tbody tr th {\n",
       "        vertical-align: top;\n",
       "    }\n",
       "\n",
       "    .dataframe thead th {\n",
       "        text-align: right;\n",
       "    }\n",
       "</style>\n",
       "<table border=\"1\" class=\"dataframe\">\n",
       "  <thead>\n",
       "    <tr style=\"text-align: right;\">\n",
       "      <th></th>\n",
       "      <th></th>\n",
       "      <th>customer_id</th>\n",
       "      <th>quantity</th>\n",
       "      <th>revenue</th>\n",
       "    </tr>\n",
       "    <tr>\n",
       "      <th>month</th>\n",
       "      <th>segment</th>\n",
       "      <th></th>\n",
       "      <th></th>\n",
       "      <th></th>\n",
       "    </tr>\n",
       "  </thead>\n",
       "  <tbody>\n",
       "    <tr>\n",
       "      <th rowspan=\"4\" valign=\"top\">2018-10-01</th>\n",
       "      <th>комнатные цветы</th>\n",
       "      <td>12</td>\n",
       "      <td>36</td>\n",
       "      <td>5287.0</td>\n",
       "    </tr>\n",
       "    <tr>\n",
       "      <th>рассада</th>\n",
       "      <td>99</td>\n",
       "      <td>465</td>\n",
       "      <td>144013.0</td>\n",
       "    </tr>\n",
       "    <tr>\n",
       "      <th>товары для дома</th>\n",
       "      <td>100</td>\n",
       "      <td>900</td>\n",
       "      <td>167875.0</td>\n",
       "    </tr>\n",
       "    <tr>\n",
       "      <th>цветы</th>\n",
       "      <td>7</td>\n",
       "      <td>33</td>\n",
       "      <td>5748.0</td>\n",
       "    </tr>\n",
       "    <tr>\n",
       "      <th>2018-11-01</th>\n",
       "      <th>комнатные цветы</th>\n",
       "      <td>12</td>\n",
       "      <td>36</td>\n",
       "      <td>5364.0</td>\n",
       "    </tr>\n",
       "  </tbody>\n",
       "</table>\n",
       "</div>"
      ],
      "text/plain": [
       "                            customer_id  quantity   revenue\n",
       "month      segment                                         \n",
       "2018-10-01 комнатные цветы           12        36    5287.0\n",
       "           рассада                   99       465  144013.0\n",
       "           товары для дома          100       900  167875.0\n",
       "           цветы                      7        33    5748.0\n",
       "2018-11-01 комнатные цветы           12        36    5364.0"
      ]
     },
     "execution_count": 67,
     "metadata": {},
     "output_type": "execute_result"
    }
   ],
   "source": [
    "rev_catseason = data.groupby(['month', 'segment']).agg({'customer_id':'nunique',\n",
    "                                                         'quantity': 'sum',\n",
    "                                                         'revenue':'sum'})\n",
    "rev_catseason.head()"
   ]
  },
  {
   "cell_type": "code",
   "execution_count": 68,
   "id": "ae49c080",
   "metadata": {},
   "outputs": [
    {
     "data": {
      "image/png": "[encoded data removed]",
      "text/plain": [
       "<Figure size 720x360 with 1 Axes>"
      ]
     },
     "metadata": {
      "needs_background": "light"
     },
     "output_type": "display_data"
    }
   ],
   "source": [
    "plt.figure(figsize=(10, 5))\n",
    "sns.lineplot(x='month', y='revenue', hue='segment', data = rev_catseason.reset_index())\n",
    "plt.title('Выручка категорий по месяцам')\n",
    "plt.ylabel('Выручка')\n",
    "plt.xlabel('Месяц')\n",
    "plt.show()"
   ]
  },
  {
   "cell_type": "code",
   "execution_count": 69,
   "id": "b4095529",
   "metadata": {},
   "outputs": [],
   "source": [
    "top_items.sort_values('quantity',ascending=False, inplace=True)"
   ]
  },
  {
   "cell_type": "code",
   "execution_count": 70,
   "id": "a76bce69",
   "metadata": {},
   "outputs": [],
   "source": [
    "top_items['segment'] = top_items['cluster'].map(segmentation)"
   ]
  },
  {
   "cell_type": "markdown",
   "id": "6a39b647",
   "metadata": {},
   "source": [
    "# 2.3. Топ-10 товарв в сегменте"
   ]
  },
  {
   "cell_type": "code",
   "execution_count": 71,
   "id": "8183c45f",
   "metadata": {},
   "outputs": [
    {
     "data": {
      "text/html": [
       "<div>\n",
       "<style scoped>\n",
       "    .dataframe tbody tr th:only-of-type {\n",
       "        vertical-align: middle;\n",
       "    }\n",
       "\n",
       "    .dataframe tbody tr th {\n",
       "        vertical-align: top;\n",
       "    }\n",
       "\n",
       "    .dataframe thead th {\n",
       "        text-align: right;\n",
       "    }\n",
       "</style>\n",
       "<table border=\"1\" class=\"dataframe\">\n",
       "  <thead>\n",
       "    <tr style=\"text-align: right;\">\n",
       "      <th></th>\n",
       "      <th>customer_id</th>\n",
       "      <th>cluster</th>\n",
       "      <th>product</th>\n",
       "      <th>quantity</th>\n",
       "      <th>segment</th>\n",
       "    </tr>\n",
       "  </thead>\n",
       "  <tbody>\n",
       "    <tr>\n",
       "      <th>3668</th>\n",
       "      <td>d2312fff-3f16-482f-8303-7f54680807f8</td>\n",
       "      <td>1</td>\n",
       "      <td>Пеларгония зональная диам. 12 см красная махровая</td>\n",
       "      <td>18</td>\n",
       "      <td>цветы</td>\n",
       "    </tr>\n",
       "    <tr>\n",
       "      <th>4362</th>\n",
       "      <td>f479df63-c15c-4d4e-9866-cd91b3e8bcfc</td>\n",
       "      <td>1</td>\n",
       "      <td>Пеларгония зональная диам. 12 см красная махровая</td>\n",
       "      <td>11</td>\n",
       "      <td>цветы</td>\n",
       "    </tr>\n",
       "    <tr>\n",
       "      <th>3379</th>\n",
       "      <td>bfa5c5ea-61c5-4cd8-b257-329981a70ea0</td>\n",
       "      <td>1</td>\n",
       "      <td>Пеларгония зональная диам. 12 см лососевая махровая</td>\n",
       "      <td>6</td>\n",
       "      <td>цветы</td>\n",
       "    </tr>\n",
       "    <tr>\n",
       "      <th>3378</th>\n",
       "      <td>bfa5c5ea-61c5-4cd8-b257-329981a70ea0</td>\n",
       "      <td>1</td>\n",
       "      <td>Пеларгония зональная диам. 12 см красная махровая</td>\n",
       "      <td>6</td>\n",
       "      <td>цветы</td>\n",
       "    </tr>\n",
       "    <tr>\n",
       "      <th>3377</th>\n",
       "      <td>bfa5c5ea-61c5-4cd8-b257-329981a70ea0</td>\n",
       "      <td>1</td>\n",
       "      <td>Пеларгония зональная диам. 12 см белая махровая</td>\n",
       "      <td>6</td>\n",
       "      <td>цветы</td>\n",
       "    </tr>\n",
       "    <tr>\n",
       "      <th>3354</th>\n",
       "      <td>bea7a833-2074-42db-bc49-4457abd3c930</td>\n",
       "      <td>1</td>\n",
       "      <td>Пеларгония зональная диам. 12 см сиреневый полумахровый</td>\n",
       "      <td>6</td>\n",
       "      <td>цветы</td>\n",
       "    </tr>\n",
       "    <tr>\n",
       "      <th>675</th>\n",
       "      <td>29655d47-d948-4b42-aeb9-2c10cc8fc09c</td>\n",
       "      <td>1</td>\n",
       "      <td>Пеларгония зональная диам. 12 см малиново-красная простая</td>\n",
       "      <td>5</td>\n",
       "      <td>цветы</td>\n",
       "    </tr>\n",
       "    <tr>\n",
       "      <th>1026</th>\n",
       "      <td>3b180a76-ced8-4cd0-9c68-ce839e8bef27</td>\n",
       "      <td>1</td>\n",
       "      <td>Пеларгония зональная диам. 12 см красная махровая</td>\n",
       "      <td>4</td>\n",
       "      <td>цветы</td>\n",
       "    </tr>\n",
       "    <tr>\n",
       "      <th>3993</th>\n",
       "      <td>dfbcfde5-21de-4504-aff4-453e617d81c1</td>\n",
       "      <td>1</td>\n",
       "      <td>Пеларгония зональная диам. 12 см малиновая с красным полумахровая</td>\n",
       "      <td>4</td>\n",
       "      <td>цветы</td>\n",
       "    </tr>\n",
       "    <tr>\n",
       "      <th>676</th>\n",
       "      <td>29655d47-d948-4b42-aeb9-2c10cc8fc09c</td>\n",
       "      <td>1</td>\n",
       "      <td>Пеларгония зональная диам. 12 см розово-красная простая</td>\n",
       "      <td>4</td>\n",
       "      <td>цветы</td>\n",
       "    </tr>\n",
       "    <tr>\n",
       "      <th>335</th>\n",
       "      <td>146cd9bf-a95c-4afb-915b-5f6684b17444</td>\n",
       "      <td>4</td>\n",
       "      <td>Вешалки мягкие для деликатных вещей 3 шт шоколад</td>\n",
       "      <td>334</td>\n",
       "      <td>товары для дома</td>\n",
       "    </tr>\n",
       "    <tr>\n",
       "      <th>3002</th>\n",
       "      <td>a984c5b7-ff7e-4647-b84e-ef0b85a2762d</td>\n",
       "      <td>4</td>\n",
       "      <td>Ручка-скоба РС-100 белая *Трибатрон*, 1108035</td>\n",
       "      <td>200</td>\n",
       "      <td>товары для дома</td>\n",
       "    </tr>\n",
       "    <tr>\n",
       "      <th>1902</th>\n",
       "      <td>685d3d84-aebb-485b-8e59-344b3df8b3d3</td>\n",
       "      <td>4</td>\n",
       "      <td>Плечики пластмассовые Размер 52 - 54 Тула 1205158</td>\n",
       "      <td>150</td>\n",
       "      <td>товары для дома</td>\n",
       "    </tr>\n",
       "    <tr>\n",
       "      <th>3565</th>\n",
       "      <td>cd09ea73-d9ce-48c3-b4c5-018113735e80</td>\n",
       "      <td>4</td>\n",
       "      <td>Пружина дверная 240 мм оцинкованная (Д-19 мм) без крепления, 1107014</td>\n",
       "      <td>150</td>\n",
       "      <td>товары для дома</td>\n",
       "    </tr>\n",
       "    <tr>\n",
       "      <th>3564</th>\n",
       "      <td>cd09ea73-d9ce-48c3-b4c5-018113735e80</td>\n",
       "      <td>4</td>\n",
       "      <td>Крепеж для пружины дверной, 1107055</td>\n",
       "      <td>150</td>\n",
       "      <td>товары для дома</td>\n",
       "    </tr>\n",
       "    <tr>\n",
       "      <th>3832</th>\n",
       "      <td>d933280e-5372-448f-be44-b269c8bafc2a</td>\n",
       "      <td>4</td>\n",
       "      <td>Крепеж для пружины дверной оцинкованный, 1107054</td>\n",
       "      <td>100</td>\n",
       "      <td>товары для дома</td>\n",
       "    </tr>\n",
       "    <tr>\n",
       "      <th>50</th>\n",
       "      <td>018fb729-3525-4314-8e4d-1982b1062f9f</td>\n",
       "      <td>4</td>\n",
       "      <td>Шпингалет 80 мм белый с пружиной, 1102188</td>\n",
       "      <td>100</td>\n",
       "      <td>товары для дома</td>\n",
       "    </tr>\n",
       "    <tr>\n",
       "      <th>2544</th>\n",
       "      <td>8eabcaca-e8c8-4eee-9079-4ff5f612273a</td>\n",
       "      <td>4</td>\n",
       "      <td>Щетка для мытья посуды КОЛИБРИ М5202 большая</td>\n",
       "      <td>100</td>\n",
       "      <td>товары для дома</td>\n",
       "    </tr>\n",
       "    <tr>\n",
       "      <th>2251</th>\n",
       "      <td>7d255526-fcc2-4f79-b28a-217d7d2373a8</td>\n",
       "      <td>4</td>\n",
       "      <td>Щетка для посуды *ОЛЯ*, Мультипласт 1807010</td>\n",
       "      <td>100</td>\n",
       "      <td>товары для дома</td>\n",
       "    </tr>\n",
       "    <tr>\n",
       "      <th>154</th>\n",
       "      <td>0948b0c2-990b-4a11-b835-69ac4714b21d</td>\n",
       "      <td>4</td>\n",
       "      <td>Крючок одежный 2-х рожковый серый металлик с полимерным покрытием *Тонар*, 1110027</td>\n",
       "      <td>96</td>\n",
       "      <td>товары для дома</td>\n",
       "    </tr>\n",
       "    <tr>\n",
       "      <th>1683</th>\n",
       "      <td>5d189e88-d4d6-4eac-ab43-fa65a3c4d106</td>\n",
       "      <td>0</td>\n",
       "      <td>Муляж ЯБЛОКО 9 см красное</td>\n",
       "      <td>300</td>\n",
       "      <td>рассада</td>\n",
       "    </tr>\n",
       "    <tr>\n",
       "      <th>3020</th>\n",
       "      <td>aa42dc38-780f-4b50-9a65-83b6fa64e766</td>\n",
       "      <td>0</td>\n",
       "      <td>Муляж ЯБЛОКО 9 см красное</td>\n",
       "      <td>170</td>\n",
       "      <td>рассада</td>\n",
       "    </tr>\n",
       "    <tr>\n",
       "      <th>197</th>\n",
       "      <td>0c5aaa88-e346-4f87-8f7a-ad8cbc04e965</td>\n",
       "      <td>0</td>\n",
       "      <td>Муляж ЯБЛОКО 9 см красное</td>\n",
       "      <td>140</td>\n",
       "      <td>рассада</td>\n",
       "    </tr>\n",
       "    <tr>\n",
       "      <th>3973</th>\n",
       "      <td>de95510f-3558-4c42-97dc-98cc4215c278</td>\n",
       "      <td>0</td>\n",
       "      <td>Универсальный нож WEBBER из нержавеющей стали Русские мотивы 12,7 см с деревянной ручкой ВЕ-2252D</td>\n",
       "      <td>80</td>\n",
       "      <td>рассада</td>\n",
       "    </tr>\n",
       "    <tr>\n",
       "      <th>1291</th>\n",
       "      <td>498f12a4-6a62-4725-8516-cf5dc9ab8a3a</td>\n",
       "      <td>0</td>\n",
       "      <td>Салфетка Protec Textil Polyline 30х43 см Аметист белая 6230</td>\n",
       "      <td>60</td>\n",
       "      <td>рассада</td>\n",
       "    </tr>\n",
       "    <tr>\n",
       "      <th>624</th>\n",
       "      <td>259b381f-e37c-4daf-8d61-731fb94a5824</td>\n",
       "      <td>0</td>\n",
       "      <td>Щетка-сметка 4-х рядная деревянная 300 мм (фигурная ручка) ворс 5,5 см 1801096</td>\n",
       "      <td>60</td>\n",
       "      <td>рассада</td>\n",
       "    </tr>\n",
       "    <tr>\n",
       "      <th>895</th>\n",
       "      <td>34b2bf7d-7cd8-4aba-909d-396655d77f7e</td>\n",
       "      <td>0</td>\n",
       "      <td>Вешалка Valiant для брюк и юбок металлическая 30*10.5 см 121B11</td>\n",
       "      <td>50</td>\n",
       "      <td>рассада</td>\n",
       "    </tr>\n",
       "    <tr>\n",
       "      <th>2115</th>\n",
       "      <td>74b08ab4-16e9-4d83-9c31-acfc9d229bc5</td>\n",
       "      <td>0</td>\n",
       "      <td>Муляж Лимон желтый 9 см полиуретан</td>\n",
       "      <td>50</td>\n",
       "      <td>рассада</td>\n",
       "    </tr>\n",
       "    <tr>\n",
       "      <th>1494</th>\n",
       "      <td>511115b7-e981-4069-9e0e-88a3551341a6</td>\n",
       "      <td>0</td>\n",
       "      <td>Муляж Яблоко зеленый 9 см полиуретан</td>\n",
       "      <td>50</td>\n",
       "      <td>рассада</td>\n",
       "    </tr>\n",
       "    <tr>\n",
       "      <th>953</th>\n",
       "      <td>377c8a20-a3e0-4945-9fd8-a1f4ada5d8b0</td>\n",
       "      <td>0</td>\n",
       "      <td>Муляж Банан желтый 21 см полиуретан</td>\n",
       "      <td>50</td>\n",
       "      <td>рассада</td>\n",
       "    </tr>\n",
       "    <tr>\n",
       "      <th>1407</th>\n",
       "      <td>4d93d3f6-8b24-403b-a74b-f5173e40d7db</td>\n",
       "      <td>3</td>\n",
       "      <td>Герань домашняя (пеларгония зональная) цветущая D12, H25-30, коралловая, полумахровая</td>\n",
       "      <td>11</td>\n",
       "      <td>комнатные цветы</td>\n",
       "    </tr>\n",
       "    <tr>\n",
       "      <th>1483</th>\n",
       "      <td>4f75ae10-0ffb-4728-8885-3dadfa7204f7</td>\n",
       "      <td>3</td>\n",
       "      <td>Пеларгония розебудная Margaretha укорененный черенок</td>\n",
       "      <td>10</td>\n",
       "      <td>комнатные цветы</td>\n",
       "    </tr>\n",
       "    <tr>\n",
       "      <th>1196</th>\n",
       "      <td>42f16745-609a-44f9-9aec-aeedecd22d15</td>\n",
       "      <td>3</td>\n",
       "      <td>Пеларгония розебудная Red Pandora укорененный черенок</td>\n",
       "      <td>9</td>\n",
       "      <td>комнатные цветы</td>\n",
       "    </tr>\n",
       "    <tr>\n",
       "      <th>3380</th>\n",
       "      <td>bfa5c5ea-61c5-4cd8-b257-329981a70ea0</td>\n",
       "      <td>3</td>\n",
       "      <td>Пеларгония розебудная Rosebud Red d-7 см</td>\n",
       "      <td>6</td>\n",
       "      <td>комнатные цветы</td>\n",
       "    </tr>\n",
       "    <tr>\n",
       "      <th>1966</th>\n",
       "      <td>6c4cb43f-ae80-41aa-827d-0f569d7afbd7</td>\n",
       "      <td>3</td>\n",
       "      <td>Пеларгония розебудная Queen Ingrid укорененный черенок</td>\n",
       "      <td>5</td>\n",
       "      <td>комнатные цветы</td>\n",
       "    </tr>\n",
       "    <tr>\n",
       "      <th>1238</th>\n",
       "      <td>470bf3f8-7b9c-4cd9-bd59-24dbc13495e5</td>\n",
       "      <td>3</td>\n",
       "      <td>Пеларгония Toscana Angeleyes Bicolor укорененный черенок</td>\n",
       "      <td>4</td>\n",
       "      <td>комнатные цветы</td>\n",
       "    </tr>\n",
       "    <tr>\n",
       "      <th>2281</th>\n",
       "      <td>7d64b4ea-d03f-4c3a-b283-21b3d0d237f1</td>\n",
       "      <td>3</td>\n",
       "      <td>Пеларгония розебудная Red Pandora укорененный черенок</td>\n",
       "      <td>4</td>\n",
       "      <td>комнатные цветы</td>\n",
       "    </tr>\n",
       "    <tr>\n",
       "      <th>3473</th>\n",
       "      <td>c6fa0f51-9e6b-489c-b2bd-a12c30c837ad</td>\n",
       "      <td>3</td>\n",
       "      <td>Герань домашняя (пеларгония зональная) цветущая D12, H25-30, коралловая, полумахровая</td>\n",
       "      <td>3</td>\n",
       "      <td>комнатные цветы</td>\n",
       "    </tr>\n",
       "    <tr>\n",
       "      <th>2280</th>\n",
       "      <td>7d64b4ea-d03f-4c3a-b283-21b3d0d237f1</td>\n",
       "      <td>3</td>\n",
       "      <td>Пеларгония розебудная Margaretha укорененный черенок</td>\n",
       "      <td>3</td>\n",
       "      <td>комнатные цветы</td>\n",
       "    </tr>\n",
       "    <tr>\n",
       "      <th>956</th>\n",
       "      <td>37af149d-7e2a-4fe8-8fdb-a3a303e24875</td>\n",
       "      <td>3</td>\n",
       "      <td>Пеларгония розебудная Mary укорененный черенок</td>\n",
       "      <td>3</td>\n",
       "      <td>комнатные цветы</td>\n",
       "    </tr>\n",
       "  </tbody>\n",
       "</table>\n",
       "</div>"
      ],
      "text/plain": [
       "                               customer_id  cluster  \\\n",
       "3668  d2312fff-3f16-482f-8303-7f54680807f8        1   \n",
       "4362  f479df63-c15c-4d4e-9866-cd91b3e8bcfc        1   \n",
       "3379  bfa5c5ea-61c5-4cd8-b257-329981a70ea0        1   \n",
       "3378  bfa5c5ea-61c5-4cd8-b257-329981a70ea0        1   \n",
       "3377  bfa5c5ea-61c5-4cd8-b257-329981a70ea0        1   \n",
       "3354  bea7a833-2074-42db-bc49-4457abd3c930        1   \n",
       "675   29655d47-d948-4b42-aeb9-2c10cc8fc09c        1   \n",
       "1026  3b180a76-ced8-4cd0-9c68-ce839e8bef27        1   \n",
       "3993  dfbcfde5-21de-4504-aff4-453e617d81c1        1   \n",
       "676   29655d47-d948-4b42-aeb9-2c10cc8fc09c        1   \n",
       "335   146cd9bf-a95c-4afb-915b-5f6684b17444        4   \n",
       "3002  a984c5b7-ff7e-4647-b84e-ef0b85a2762d        4   \n",
       "1902  685d3d84-aebb-485b-8e59-344b3df8b3d3        4   \n",
       "3565  cd09ea73-d9ce-48c3-b4c5-018113735e80        4   \n",
       "3564  cd09ea73-d9ce-48c3-b4c5-018113735e80        4   \n",
       "3832  d933280e-5372-448f-be44-b269c8bafc2a        4   \n",
       "50    018fb729-3525-4314-8e4d-1982b1062f9f        4   \n",
       "2544  8eabcaca-e8c8-4eee-9079-4ff5f612273a        4   \n",
       "2251  7d255526-fcc2-4f79-b28a-217d7d2373a8        4   \n",
       "154   0948b0c2-990b-4a11-b835-69ac4714b21d        4   \n",
       "1683  5d189e88-d4d6-4eac-ab43-fa65a3c4d106        0   \n",
       "3020  aa42dc38-780f-4b50-9a65-83b6fa64e766        0   \n",
       "197   0c5aaa88-e346-4f87-8f7a-ad8cbc04e965        0   \n",
       "3973  de95510f-3558-4c42-97dc-98cc4215c278        0   \n",
       "1291  498f12a4-6a62-4725-8516-cf5dc9ab8a3a        0   \n",
       "624   259b381f-e37c-4daf-8d61-731fb94a5824        0   \n",
       "895   34b2bf7d-7cd8-4aba-909d-396655d77f7e        0   \n",
       "2115  74b08ab4-16e9-4d83-9c31-acfc9d229bc5        0   \n",
       "1494  511115b7-e981-4069-9e0e-88a3551341a6        0   \n",
       "953   377c8a20-a3e0-4945-9fd8-a1f4ada5d8b0        0   \n",
       "1407  4d93d3f6-8b24-403b-a74b-f5173e40d7db        3   \n",
       "1483  4f75ae10-0ffb-4728-8885-3dadfa7204f7        3   \n",
       "1196  42f16745-609a-44f9-9aec-aeedecd22d15        3   \n",
       "3380  bfa5c5ea-61c5-4cd8-b257-329981a70ea0        3   \n",
       "1966  6c4cb43f-ae80-41aa-827d-0f569d7afbd7        3   \n",
       "1238  470bf3f8-7b9c-4cd9-bd59-24dbc13495e5        3   \n",
       "2281  7d64b4ea-d03f-4c3a-b283-21b3d0d237f1        3   \n",
       "3473  c6fa0f51-9e6b-489c-b2bd-a12c30c837ad        3   \n",
       "2280  7d64b4ea-d03f-4c3a-b283-21b3d0d237f1        3   \n",
       "956   37af149d-7e2a-4fe8-8fdb-a3a303e24875        3   \n",
       "\n",
       "                                                                                                product  \\\n",
       "3668                                                  Пеларгония зональная диам. 12 см красная махровая   \n",
       "4362                                                  Пеларгония зональная диам. 12 см красная махровая   \n",
       "3379                                                Пеларгония зональная диам. 12 см лососевая махровая   \n",
       "3378                                                  Пеларгония зональная диам. 12 см красная махровая   \n",
       "3377                                                    Пеларгония зональная диам. 12 см белая махровая   \n",
       "3354                                            Пеларгония зональная диам. 12 см сиреневый полумахровый   \n",
       "675                                           Пеларгония зональная диам. 12 см малиново-красная простая   \n",
       "1026                                                  Пеларгония зональная диам. 12 см красная махровая   \n",
       "3993                                  Пеларгония зональная диам. 12 см малиновая с красным полумахровая   \n",
       "676                                             Пеларгония зональная диам. 12 см розово-красная простая   \n",
       "335                                                    Вешалки мягкие для деликатных вещей 3 шт шоколад   \n",
       "3002                                                      Ручка-скоба РС-100 белая *Трибатрон*, 1108035   \n",
       "1902                                                  Плечики пластмассовые Размер 52 - 54 Тула 1205158   \n",
       "3565                               Пружина дверная 240 мм оцинкованная (Д-19 мм) без крепления, 1107014   \n",
       "3564                                                                Крепеж для пружины дверной, 1107055   \n",
       "3832                                                   Крепеж для пружины дверной оцинкованный, 1107054   \n",
       "50                                                            Шпингалет 80 мм белый с пружиной, 1102188   \n",
       "2544                                                       Щетка для мытья посуды КОЛИБРИ М5202 большая   \n",
       "2251                                                        Щетка для посуды *ОЛЯ*, Мультипласт 1807010   \n",
       "154                  Крючок одежный 2-х рожковый серый металлик с полимерным покрытием *Тонар*, 1110027   \n",
       "1683                                                                          Муляж ЯБЛОКО 9 см красное   \n",
       "3020                                                                          Муляж ЯБЛОКО 9 см красное   \n",
       "197                                                                           Муляж ЯБЛОКО 9 см красное   \n",
       "3973  Универсальный нож WEBBER из нержавеющей стали Русские мотивы 12,7 см с деревянной ручкой ВЕ-2252D   \n",
       "1291                                        Салфетка Protec Textil Polyline 30х43 см Аметист белая 6230   \n",
       "624                      Щетка-сметка 4-х рядная деревянная 300 мм (фигурная ручка) ворс 5,5 см 1801096   \n",
       "895                                     Вешалка Valiant для брюк и юбок металлическая 30*10.5 см 121B11   \n",
       "2115                                                                 Муляж Лимон желтый 9 см полиуретан   \n",
       "1494                                                               Муляж Яблоко зеленый 9 см полиуретан   \n",
       "953                                                                 Муляж Банан желтый 21 см полиуретан   \n",
       "1407              Герань домашняя (пеларгония зональная) цветущая D12, H25-30, коралловая, полумахровая   \n",
       "1483                                               Пеларгония розебудная Margaretha укорененный черенок   \n",
       "1196                                              Пеларгония розебудная Red Pandora укорененный черенок   \n",
       "3380                                                           Пеларгония розебудная Rosebud Red d-7 см   \n",
       "1966                                             Пеларгония розебудная Queen Ingrid укорененный черенок   \n",
       "1238                                           Пеларгония Toscana Angeleyes Bicolor укорененный черенок   \n",
       "2281                                              Пеларгония розебудная Red Pandora укорененный черенок   \n",
       "3473              Герань домашняя (пеларгония зональная) цветущая D12, H25-30, коралловая, полумахровая   \n",
       "2280                                               Пеларгония розебудная Margaretha укорененный черенок   \n",
       "956                                                      Пеларгония розебудная Mary укорененный черенок   \n",
       "\n",
       "      quantity          segment  \n",
       "3668        18            цветы  \n",
       "4362        11            цветы  \n",
       "3379         6            цветы  \n",
       "3378         6            цветы  \n",
       "3377         6            цветы  \n",
       "3354         6            цветы  \n",
       "675          5            цветы  \n",
       "1026         4            цветы  \n",
       "3993         4            цветы  \n",
       "676          4            цветы  \n",
       "335        334  товары для дома  \n",
       "3002       200  товары для дома  \n",
       "1902       150  товары для дома  \n",
       "3565       150  товары для дома  \n",
       "3564       150  товары для дома  \n",
       "3832       100  товары для дома  \n",
       "50         100  товары для дома  \n",
       "2544       100  товары для дома  \n",
       "2251       100  товары для дома  \n",
       "154         96  товары для дома  \n",
       "1683       300          рассада  \n",
       "3020       170          рассада  \n",
       "197        140          рассада  \n",
       "3973        80          рассада  \n",
       "1291        60          рассада  \n",
       "624         60          рассада  \n",
       "895         50          рассада  \n",
       "2115        50          рассада  \n",
       "1494        50          рассада  \n",
       "953         50          рассада  \n",
       "1407        11  комнатные цветы  \n",
       "1483        10  комнатные цветы  \n",
       "1196         9  комнатные цветы  \n",
       "3380         6  комнатные цветы  \n",
       "1966         5  комнатные цветы  \n",
       "1238         4  комнатные цветы  \n",
       "2281         4  комнатные цветы  \n",
       "3473         3  комнатные цветы  \n",
       "2280         3  комнатные цветы  \n",
       "956          3  комнатные цветы  "
      ]
     },
     "execution_count": 71,
     "metadata": {},
     "output_type": "execute_result"
    }
   ],
   "source": [
    "top_items.groupby('segment').head(10).sort_values(['segment','quantity'], ascending=False)"
   ]
  },
  {
   "cell_type": "markdown",
   "id": "8fd966aa",
   "metadata": {},
   "source": [
    "Построим столбчатую диаграму количества товаров для каждой каждой категории"
   ]
  },
  {
   "cell_type": "code",
   "execution_count": 72,
   "id": "32ea2935",
   "metadata": {},
   "outputs": [
    {
     "data": {
      "text/plain": [
       "Text(0, 0.5, 'Количество')"
      ]
     },
     "execution_count": 72,
     "metadata": {},
     "output_type": "execute_result"
    },
    {
     "data": {
      "image/png": "[encoded data removed]",
      "text/plain": [
       "<Figure size 720x360 with 1 Axes>"
      ]
     },
     "metadata": {
      "needs_background": "light"
     },
     "output_type": "display_data"
    }
   ],
   "source": [
    "plt.figure(figsize=(10, 5))\n",
    "ax = sns.barplot(x='segment', y='quantity',\n",
    "                 data=data,\n",
    "                 alpha=0.5)\n",
    "plt.title('Колличество купленных товаров в категориях')\n",
    "plt.xlabel('Категории товаров')\n",
    "plt.ylabel('Количество')"
   ]
  },
  {
   "cell_type": "markdown",
   "id": "be4bc204",
   "metadata": {},
   "source": [
    "Сгруппируем датафрейм по покупательским категориям и посчитаем какие сегменты товаров пользуются у потребительских групп наибольшим спросом"
   ]
  },
  {
   "cell_type": "code",
   "execution_count": 73,
   "id": "13e9c4b8",
   "metadata": {},
   "outputs": [
    {
     "data": {
      "text/html": [
       "<div>\n",
       "<style scoped>\n",
       "    .dataframe tbody tr th:only-of-type {\n",
       "        vertical-align: middle;\n",
       "    }\n",
       "\n",
       "    .dataframe tbody tr th {\n",
       "        vertical-align: top;\n",
       "    }\n",
       "\n",
       "    .dataframe thead th {\n",
       "        text-align: right;\n",
       "    }\n",
       "</style>\n",
       "<table border=\"1\" class=\"dataframe\">\n",
       "  <thead>\n",
       "    <tr style=\"text-align: right;\">\n",
       "      <th></th>\n",
       "      <th>customer_id</th>\n",
       "      <th>order_id</th>\n",
       "      <th>revenue</th>\n",
       "      <th>quantity_x</th>\n",
       "      <th>arpu</th>\n",
       "      <th>price_segment</th>\n",
       "      <th>cluster</th>\n",
       "      <th>product</th>\n",
       "      <th>quantity_y</th>\n",
       "      <th>segment</th>\n",
       "    </tr>\n",
       "  </thead>\n",
       "  <tbody>\n",
       "    <tr>\n",
       "      <th>0</th>\n",
       "      <td>000d6849-084e-4d9f-ac03-37174eaf60c4</td>\n",
       "      <td>1</td>\n",
       "      <td>555.0</td>\n",
       "      <td>4</td>\n",
       "      <td>555.0</td>\n",
       "      <td>средний</td>\n",
       "      <td>1</td>\n",
       "      <td>Пеларгония зональная диам. 12 см темнорозовая полумахровая</td>\n",
       "      <td>1</td>\n",
       "      <td>цветы</td>\n",
       "    </tr>\n",
       "    <tr>\n",
       "      <th>1</th>\n",
       "      <td>000d6849-084e-4d9f-ac03-37174eaf60c4</td>\n",
       "      <td>1</td>\n",
       "      <td>555.0</td>\n",
       "      <td>4</td>\n",
       "      <td>555.0</td>\n",
       "      <td>средний</td>\n",
       "      <td>3</td>\n",
       "      <td>Пеларгония розебудная Rosebud Red d-7 см</td>\n",
       "      <td>1</td>\n",
       "      <td>комнатные цветы</td>\n",
       "    </tr>\n",
       "    <tr>\n",
       "      <th>2</th>\n",
       "      <td>000d6849-084e-4d9f-ac03-37174eaf60c4</td>\n",
       "      <td>1</td>\n",
       "      <td>555.0</td>\n",
       "      <td>4</td>\n",
       "      <td>555.0</td>\n",
       "      <td>средний</td>\n",
       "      <td>4</td>\n",
       "      <td>Пеларгония тюльпановидная EMMA</td>\n",
       "      <td>1</td>\n",
       "      <td>товары для дома</td>\n",
       "    </tr>\n",
       "    <tr>\n",
       "      <th>3</th>\n",
       "      <td>000d6849-084e-4d9f-ac03-37174eaf60c4</td>\n",
       "      <td>1</td>\n",
       "      <td>555.0</td>\n",
       "      <td>4</td>\n",
       "      <td>555.0</td>\n",
       "      <td>средний</td>\n",
       "      <td>3</td>\n",
       "      <td>Пеларгония розебудная Queen Ingrid укорененный черенок</td>\n",
       "      <td>1</td>\n",
       "      <td>комнатные цветы</td>\n",
       "    </tr>\n",
       "    <tr>\n",
       "      <th>4</th>\n",
       "      <td>001cee7f-0b29-4716-b202-0042213ab038</td>\n",
       "      <td>1</td>\n",
       "      <td>442.0</td>\n",
       "      <td>1</td>\n",
       "      <td>442.0</td>\n",
       "      <td>средний</td>\n",
       "      <td>2</td>\n",
       "      <td>Сушилка для белья потолочная ЛИАНА ЛЮКС 150 см ЛЛП-150</td>\n",
       "      <td>1</td>\n",
       "      <td>рассада</td>\n",
       "    </tr>\n",
       "  </tbody>\n",
       "</table>\n",
       "</div>"
      ],
      "text/plain": [
       "                            customer_id  order_id  revenue  quantity_x   arpu  \\\n",
       "0  000d6849-084e-4d9f-ac03-37174eaf60c4         1    555.0           4  555.0   \n",
       "1  000d6849-084e-4d9f-ac03-37174eaf60c4         1    555.0           4  555.0   \n",
       "2  000d6849-084e-4d9f-ac03-37174eaf60c4         1    555.0           4  555.0   \n",
       "3  000d6849-084e-4d9f-ac03-37174eaf60c4         1    555.0           4  555.0   \n",
       "4  001cee7f-0b29-4716-b202-0042213ab038         1    442.0           1  442.0   \n",
       "\n",
       "  price_segment  cluster  \\\n",
       "0       средний        1   \n",
       "1       средний        3   \n",
       "2       средний        4   \n",
       "3       средний        3   \n",
       "4       средний        2   \n",
       "\n",
       "                                                      product  quantity_y  \\\n",
       "0  Пеларгония зональная диам. 12 см темнорозовая полумахровая           1   \n",
       "1                    Пеларгония розебудная Rosebud Red d-7 см           1   \n",
       "2                              Пеларгония тюльпановидная EMMA           1   \n",
       "3      Пеларгония розебудная Queen Ingrid укорененный черенок           1   \n",
       "4      Сушилка для белья потолочная ЛИАНА ЛЮКС 150 см ЛЛП-150           1   \n",
       "\n",
       "           segment  \n",
       "0            цветы  \n",
       "1  комнатные цветы  \n",
       "2  товары для дома  \n",
       "3  комнатные цветы  \n",
       "4          рассада  "
      ]
     },
     "execution_count": 73,
     "metadata": {},
     "output_type": "execute_result"
    }
   ],
   "source": [
    "clients_cats_data = clients_cats.merge(top_items, on=['customer_id'], how='inner')\n",
    "clients_cats_data.head(5)"
   ]
  },
  {
   "cell_type": "code",
   "execution_count": 74,
   "id": "138cee0e",
   "metadata": {},
   "outputs": [
    {
     "data": {
      "text/html": [
       "<div>\n",
       "<style scoped>\n",
       "    .dataframe tbody tr th:only-of-type {\n",
       "        vertical-align: middle;\n",
       "    }\n",
       "\n",
       "    .dataframe tbody tr th {\n",
       "        vertical-align: top;\n",
       "    }\n",
       "\n",
       "    .dataframe thead th {\n",
       "        text-align: right;\n",
       "    }\n",
       "</style>\n",
       "<table border=\"1\" class=\"dataframe\">\n",
       "  <thead>\n",
       "    <tr style=\"text-align: right;\">\n",
       "      <th></th>\n",
       "      <th></th>\n",
       "      <th>count</th>\n",
       "    </tr>\n",
       "    <tr>\n",
       "      <th>price_segment</th>\n",
       "      <th>segment</th>\n",
       "      <th></th>\n",
       "    </tr>\n",
       "  </thead>\n",
       "  <tbody>\n",
       "    <tr>\n",
       "      <th rowspan=\"3\" valign=\"top\">высокий</th>\n",
       "      <th>товары для дома</th>\n",
       "      <td>114</td>\n",
       "    </tr>\n",
       "    <tr>\n",
       "      <th>рассада</th>\n",
       "      <td>61</td>\n",
       "    </tr>\n",
       "    <tr>\n",
       "      <th>цветы</th>\n",
       "      <td>1</td>\n",
       "    </tr>\n",
       "    <tr>\n",
       "      <th rowspan=\"2\" valign=\"top\">низкий</th>\n",
       "      <th>товары для дома</th>\n",
       "      <td>46</td>\n",
       "    </tr>\n",
       "    <tr>\n",
       "      <th>рассада</th>\n",
       "      <td>38</td>\n",
       "    </tr>\n",
       "    <tr>\n",
       "      <th rowspan=\"4\" valign=\"top\">средний</th>\n",
       "      <th>товары для дома</th>\n",
       "      <td>2004</td>\n",
       "    </tr>\n",
       "    <tr>\n",
       "      <th>рассада</th>\n",
       "      <td>1639</td>\n",
       "    </tr>\n",
       "    <tr>\n",
       "      <th>комнатные цветы</th>\n",
       "      <td>372</td>\n",
       "    </tr>\n",
       "    <tr>\n",
       "      <th>цветы</th>\n",
       "      <td>266</td>\n",
       "    </tr>\n",
       "  </tbody>\n",
       "</table>\n",
       "</div>"
      ],
      "text/plain": [
       "                               count\n",
       "price_segment segment               \n",
       "высокий       товары для дома    114\n",
       "              рассада             61\n",
       "              цветы                1\n",
       "низкий        товары для дома     46\n",
       "              рассада             38\n",
       "средний       товары для дома   2004\n",
       "              рассада           1639\n",
       "              комнатные цветы    372\n",
       "              цветы              266"
      ]
     },
     "execution_count": 74,
     "metadata": {},
     "output_type": "execute_result"
    }
   ],
   "source": [
    "clients_cats_data = (clients_cats_data.groupby('price_segment')\n",
    "                     .agg({'segment':'value_counts'})\n",
    "                     .rename(columns={'segment':'count'}))\n",
    "clients_cats_data"
   ]
  },
  {
   "cell_type": "markdown",
   "id": "6270fb2b",
   "metadata": {},
   "source": [
    "# 2.4. Сезонность внутри группы"
   ]
  },
  {
   "cell_type": "code",
   "execution_count": 75,
   "id": "3b58a8f8",
   "metadata": {},
   "outputs": [],
   "source": [
    "segment1 = clients_cats[clients_cats['price_segment']=='средний']\n",
    "segment2 = clients_cats[clients_cats['price_segment']=='высокий']\n",
    "segment3 = clients_cats[clients_cats['price_segment']=='низкий']\n",
    "\n",
    "data_segment1 = data[data['customer_id'].isin(segment1['customer_id'])]\n",
    "data_segment2 = data[data['customer_id'].isin(segment2['customer_id'])]\n",
    "data_segment3= data[data['customer_id'].isin(segment3['customer_id'])]"
   ]
  },
  {
   "cell_type": "code",
   "execution_count": 76,
   "id": "c81b6864",
   "metadata": {},
   "outputs": [],
   "source": [
    "x1 = data_segment1.groupby('month').order_id.nunique()\n",
    "x2 = data_segment2.groupby('month').order_id.nunique()\n",
    "x3 = data_segment3.groupby('month').order_id.nunique()"
   ]
  },
  {
   "cell_type": "code",
   "execution_count": 77,
   "id": "a440b59c",
   "metadata": {},
   "outputs": [
    {
     "data": {
      "image/png": "[encoded data removed]",
      "text/plain": [
       "<Figure size 432x288 with 4 Axes>"
      ]
     },
     "execution_count": 77,
     "metadata": {},
     "output_type": "execute_result"
    },
    {
     "data": {
      "image/png": "[encoded data removed]",
      "text/plain": [
       "<Figure size 432x288 with 4 Axes>"
      ]
     },
     "metadata": {
      "needs_background": "light"
     },
     "output_type": "display_data"
    }
   ],
   "source": [
    "decomposition = seasonal_decompose(x1, period=3)\n",
    "decomposition.plot()"
   ]
  },
  {
   "cell_type": "code",
   "execution_count": 78,
   "id": "aab69544",
   "metadata": {},
   "outputs": [
    {
     "data": {
      "image/png": "[encoded data removed]",
      "text/plain": [
       "<Figure size 432x288 with 4 Axes>"
      ]
     },
     "execution_count": 78,
     "metadata": {},
     "output_type": "execute_result"
    },
    {
     "data": {
      "image/png": "[encoded data removed]",
      "text/plain": [
       "<Figure size 432x288 with 4 Axes>"
      ]
     },
     "metadata": {
      "needs_background": "light"
     },
     "output_type": "display_data"
    }
   ],
   "source": [
    "decomposition = seasonal_decompose(x2, period=3)\n",
    "decomposition.plot()"
   ]
  },
  {
   "cell_type": "code",
   "execution_count": 79,
   "id": "49666c1a",
   "metadata": {},
   "outputs": [
    {
     "data": {
      "image/png": "[encoded data removed]",
      "text/plain": [
       "<Figure size 432x288 with 4 Axes>"
      ]
     },
     "execution_count": 79,
     "metadata": {},
     "output_type": "execute_result"
    },
    {
     "data": {
      "image/png": "[encoded data removed]",
      "text/plain": [
       "<Figure size 432x288 with 4 Axes>"
      ]
     },
     "metadata": {
      "needs_background": "light"
     },
     "output_type": "display_data"
    }
   ],
   "source": [
    "decomposition = seasonal_decompose(x3, period=3)\n",
    "decomposition.plot()"
   ]
  },
  {
   "cell_type": "markdown",
   "id": "ca302a9c",
   "metadata": {},
   "source": [
    "Во всех 3-х группах присутствует квартальная сезонность"
   ]
  },
  {
   "cell_type": "code",
   "execution_count": 80,
   "id": "26bcfbc9",
   "metadata": {},
   "outputs": [
    {
     "data": {
      "text/plain": [
       "segment\n",
       "комнатные цветы     188\n",
       "рассада            1212\n",
       "товары для дома    1001\n",
       "цветы                97\n",
       "Name: customer_id, dtype: int64"
      ]
     },
     "execution_count": 80,
     "metadata": {},
     "output_type": "execute_result"
    }
   ],
   "source": [
    "data_segment1.groupby('segment').customer_id.nunique()"
   ]
  },
  {
   "cell_type": "code",
   "execution_count": 81,
   "id": "64323a4c",
   "metadata": {},
   "outputs": [
    {
     "data": {
      "text/plain": [
       "segment\n",
       "рассада            37\n",
       "товары для дома    54\n",
       "цветы               1\n",
       "Name: customer_id, dtype: int64"
      ]
     },
     "execution_count": 81,
     "metadata": {},
     "output_type": "execute_result"
    }
   ],
   "source": [
    "data_segment2.groupby('segment').customer_id.nunique()"
   ]
  },
  {
   "cell_type": "code",
   "execution_count": 82,
   "id": "6b39c570",
   "metadata": {},
   "outputs": [
    {
     "data": {
      "text/plain": [
       "segment\n",
       "рассада            36\n",
       "товары для дома    46\n",
       "Name: customer_id, dtype: int64"
      ]
     },
     "execution_count": 82,
     "metadata": {},
     "output_type": "execute_result"
    }
   ],
   "source": [
    "data_segment3.groupby('segment').customer_id.nunique()"
   ]
  },
  {
   "cell_type": "markdown",
   "id": "f865839d",
   "metadata": {},
   "source": [
    "# 2.5. А\\Б тест"
   ]
  },
  {
   "cell_type": "code",
   "execution_count": 83,
   "id": "57c5c699",
   "metadata": {},
   "outputs": [],
   "source": [
    "user_segment1 = data_segment1.groupby('customer_id', as_index=False).agg({'revenue':'sum','order_id':'nunique',\n",
    "                                                                         'product':'nunique'})\n",
    "user_segment2 = data_segment2.groupby('customer_id', as_index=False).agg({'revenue':'sum','order_id':'nunique',\n",
    "                                                                         'product':'nunique'})\n",
    "user_segment3 = data_segment3.groupby('customer_id', as_index=False).agg({'revenue':'sum','order_id':'nunique',\n",
    "                                                                         'product':'nunique'})"
   ]
  },
  {
   "cell_type": "code",
   "execution_count": 84,
   "id": "9fa260e0",
   "metadata": {},
   "outputs": [],
   "source": [
    "user_segment1['arpu'] = user_segment1['revenue'] / user_segment1['order_id']\n",
    "user_segment2['arpu'] = user_segment2['revenue'] / user_segment2['order_id']\n",
    "user_segment3['arpu'] = user_segment1['revenue'] / user_segment3['order_id']"
   ]
  },
  {
   "cell_type": "code",
   "execution_count": 85,
   "id": "713bbadc",
   "metadata": {},
   "outputs": [],
   "source": [
    "def test(data1,data2, column, alpha):\n",
    "\n",
    "    results = st.mannwhitneyu(data1[column],\n",
    "                          data2[column])\n",
    "\n",
    "    print('p-значение:', results.pvalue)\n",
    "\n",
    "    if (results.pvalue < alpha):\n",
    "        print(\"Отвергаем нулевую гипотезу\")\n",
    "    else:\n",
    "        print(\"Не получилось отвергнуть нулевую гипотезу\")"
   ]
  },
  {
   "cell_type": "markdown",
   "id": "12fb8ad8",
   "metadata": {},
   "source": [
    "Сформулируем гипозизу $H_0$: \\\n",
    "***Средний чек пользователей «высокого» и «среднего» сегмента одинаков***\\\n",
    "Альтернативна гипотеза $H_1$: \\\n",
    "***Средний чек пользователей «высокого» и «среднего» сегмента различается.*** \n"
   ]
  },
  {
   "cell_type": "code",
   "execution_count": 86,
   "id": "6d643834",
   "metadata": {},
   "outputs": [
    {
     "name": "stdout",
     "output_type": "stream",
     "text": [
      "p-значение: 6.071581574073545e-56\n",
      "Отвергаем нулевую гипотезу\n"
     ]
    }
   ],
   "source": [
    "test(user_segment1, user_segment2, 'arpu', 0.01)"
   ]
  },
  {
   "cell_type": "markdown",
   "id": "c457f0b7",
   "metadata": {},
   "source": [
    "Сформулируем гипозизу $H_0$: \\\n",
    "***Средний чек пользователей «высокого» и «низкий» сегмента одинаков***\\\n",
    "Альтернативна гипотеза $H_1$: \\\n",
    "***Средний чек пользователей «высокого» и «низкий» сегмента различается.*** "
   ]
  },
  {
   "cell_type": "code",
   "execution_count": 87,
   "id": "3e553ff2",
   "metadata": {},
   "outputs": [
    {
     "name": "stdout",
     "output_type": "stream",
     "text": [
      "p-значение: 1.3715714470963816e-28\n",
      "Отвергаем нулевую гипотезу\n"
     ]
    }
   ],
   "source": [
    "test(user_segment2, user_segment3, 'arpu', 0.01)"
   ]
  },
  {
   "cell_type": "markdown",
   "id": "b575cd1d",
   "metadata": {},
   "source": [
    "Сформулируем гипозизу $H_0$: \\\n",
    "***Средний чек пользователей «средний» и «низкий» сегмента одинаков***\\\n",
    "Альтернативна гипотеза $H_1$: \\\n",
    "***Средний чек пользователей «средний» и «низкий» сегмента различается.*** "
   ]
  },
  {
   "cell_type": "code",
   "execution_count": 88,
   "id": "cad5bc0e",
   "metadata": {},
   "outputs": [
    {
     "name": "stdout",
     "output_type": "stream",
     "text": [
      "p-значение: 0.09959441392543854\n",
      "Не получилось отвергнуть нулевую гипотезу\n"
     ]
    }
   ],
   "source": [
    "test(user_segment1, user_segment3, 'arpu', 0.01)"
   ]
  },
  {
   "cell_type": "markdown",
   "id": "4cee5bba",
   "metadata": {},
   "source": [
    "Сформулируем гипозизу $H_0$: \\\n",
    "***Количество товаров в заказе клиентов из «высокого» и «среднего» сегмента равны.***\\\n",
    "Альтернативна гипотеза $H_1$: \\\n",
    "***Количество товаров в заказе клиентов из «высокого» и «среднего» сегмента не равны.*** "
   ]
  },
  {
   "cell_type": "code",
   "execution_count": 89,
   "id": "18b37c18",
   "metadata": {},
   "outputs": [
    {
     "name": "stdout",
     "output_type": "stream",
     "text": [
      "p-значение: 0.9932221348224058\n",
      "Не получилось отвергнуть нулевую гипотезу\n"
     ]
    }
   ],
   "source": [
    "test(user_segment1, user_segment2, 'product', 0.01)"
   ]
  },
  {
   "cell_type": "markdown",
   "id": "93b9167d",
   "metadata": {},
   "source": [
    "Сформулируем гипозизу $H_0$: \\\n",
    "***Количество товаров в заказе клиентов из «высокого» и «низкого» сегмента равны.***\\\n",
    "Альтернативна гипотеза $H_1$: \\\n",
    "***Количество товаров в заказе клиентов из «высокого» и «низкого» сегмента не равны.*** "
   ]
  },
  {
   "cell_type": "code",
   "execution_count": 90,
   "id": "ba8b3c91",
   "metadata": {},
   "outputs": [
    {
     "name": "stdout",
     "output_type": "stream",
     "text": [
      "p-значение: 0.0006129618415278917\n",
      "Отвергаем нулевую гипотезу\n"
     ]
    }
   ],
   "source": [
    "test(user_segment2, user_segment3, 'product', 0.01)"
   ]
  },
  {
   "cell_type": "code",
   "execution_count": 91,
   "id": "0fbad3b9",
   "metadata": {},
   "outputs": [
    {
     "name": "stdout",
     "output_type": "stream",
     "text": [
      "p-значение: 0.00015514570130793353\n",
      "Отвергаем нулевую гипотезу\n"
     ]
    }
   ],
   "source": [
    "test(user_segment1, user_segment3, 'product', 0.01)"
   ]
  },
  {
   "cell_type": "markdown",
   "id": "1e749bba",
   "metadata": {},
   "source": [
    "# Вывод\n",
    "\n",
    "Исходные данные содержат информацию о покупках пользователей за последние несколько лет. При детальном анализе было определено, что большинство пользователей совершают не более 1 покупки, причем кол-во товаров в чеке в среднем не превышает 6. В данных были обнаружены выбросы: кол-во покупок одного товара было больше 99% доверительного интервала и среди всех пользователей был найден один, который совершил более 100 покупок. Эти данные были успешно обработаны и выбросы были убраны. На основе среднего чека была проведена категоризация пользователей на 3 группы. По резльтатам А\\Б теста только у среднего и низкого сегмента средний чек не отличается. Проведена проверка на наличие сезонной составляющей. Выяснилось, что во всех 3-х группах присутствует квартальная сезонность. На основе названий товаров была проведена сегментация покупательской корзины. В нее вошли такие сегменты, как все для дома, декоративные вещи, рассада, рассада цветы. На основе проведенного анализа данных можем рекомендовать интернет магазину создавать e-mail рассылку в середине каждого месяца. Наиболее популярным товаром для всех категорий являются товары для дома.\n",
    "\n",
    "Рекомендации по сегментам:\n",
    "1. Основную выручку приносят пользователи среднего сегмента. Имеет смысл делать упор на них и повышать их средний чек. Как пример - добавить рекомендательную систему\n",
    "2. Низкий сегмент самый маленький. Судя по среднему чеку, покупатели берут семена и не больше. Возможно, данный сегмент имеет смысл убрать введя минимальный порог заказа, чтобы окупались затраты на 1 заказ\n",
    "3. У высокого сегмента самый большой средний чек, однако кол-во заказов не высокое. Возможно, требуется сделать для них систему лояльности. Так, у нас немного просядет средний чек, но увеличится кол-во заказов\n",
    "4. У категорий товаров также присутствует сезонность, для категории рассада наиболее популярными месяцами являются - Январь, Февраль и Март.\n",
    "\n",
    "Пользователи среднего сегмента предпочитают покупать товары из рассады и товаров для дома, однако и из других сгементов тоже совершают покупки. Пользователи высокого сегменета покупают в основном товары для дома и рассаду (скорее всего это связано с выращиванием растерий в квартире). Пользователи низкого сегмента так же покупают только рассаду для дома."
   ]
  }
 ],
 "metadata": {
  "ExecuteTimeLog": [
   {
    "duration": 2571,
    "start_time": "2023-02-01T11:09:40.609Z"
   },
   {
    "duration": 3,
    "start_time": "2023-02-01T11:09:43.182Z"
   },
   {
    "duration": 277,
    "start_time": "2023-02-01T11:09:43.188Z"
   },
   {
    "duration": 0,
    "start_time": "2023-02-01T11:09:43.469Z"
   },
   {
    "duration": 0,
    "start_time": "2023-02-01T11:09:43.471Z"
   },
   {
    "duration": 0,
    "start_time": "2023-02-01T11:09:43.472Z"
   },
   {
    "duration": 0,
    "start_time": "2023-02-01T11:09:43.473Z"
   },
   {
    "duration": 0,
    "start_time": "2023-02-01T11:09:43.474Z"
   },
   {
    "duration": 0,
    "start_time": "2023-02-01T11:09:43.475Z"
   },
   {
    "duration": 0,
    "start_time": "2023-02-01T11:09:43.476Z"
   },
   {
    "duration": 0,
    "start_time": "2023-02-01T11:09:43.477Z"
   },
   {
    "duration": 0,
    "start_time": "2023-02-01T11:09:43.479Z"
   },
   {
    "duration": 0,
    "start_time": "2023-02-01T11:09:43.480Z"
   },
   {
    "duration": 0,
    "start_time": "2023-02-01T11:09:43.482Z"
   },
   {
    "duration": 0,
    "start_time": "2023-02-01T11:09:43.483Z"
   },
   {
    "duration": 0,
    "start_time": "2023-02-01T11:09:43.484Z"
   },
   {
    "duration": 0,
    "start_time": "2023-02-01T11:09:43.485Z"
   },
   {
    "duration": 0,
    "start_time": "2023-02-01T11:09:43.487Z"
   },
   {
    "duration": 0,
    "start_time": "2023-02-01T11:09:43.488Z"
   },
   {
    "duration": 0,
    "start_time": "2023-02-01T11:09:43.488Z"
   },
   {
    "duration": 0,
    "start_time": "2023-02-01T11:09:43.489Z"
   },
   {
    "duration": 0,
    "start_time": "2023-02-01T11:09:43.489Z"
   },
   {
    "duration": 0,
    "start_time": "2023-02-01T11:09:43.490Z"
   },
   {
    "duration": 0,
    "start_time": "2023-02-01T11:09:43.509Z"
   },
   {
    "duration": 0,
    "start_time": "2023-02-01T11:09:43.511Z"
   },
   {
    "duration": 0,
    "start_time": "2023-02-01T11:09:43.513Z"
   },
   {
    "duration": 0,
    "start_time": "2023-02-01T11:09:43.514Z"
   },
   {
    "duration": 0,
    "start_time": "2023-02-01T11:09:43.515Z"
   },
   {
    "duration": 0,
    "start_time": "2023-02-01T11:09:43.517Z"
   },
   {
    "duration": 1,
    "start_time": "2023-02-01T11:09:43.517Z"
   },
   {
    "duration": 0,
    "start_time": "2023-02-01T11:09:43.519Z"
   },
   {
    "duration": 0,
    "start_time": "2023-02-01T11:09:43.529Z"
   },
   {
    "duration": 0,
    "start_time": "2023-02-01T11:09:43.530Z"
   },
   {
    "duration": 0,
    "start_time": "2023-02-01T11:09:43.531Z"
   },
   {
    "duration": 0,
    "start_time": "2023-02-01T11:09:43.533Z"
   },
   {
    "duration": 0,
    "start_time": "2023-02-01T11:09:43.534Z"
   },
   {
    "duration": 0,
    "start_time": "2023-02-01T11:09:43.536Z"
   },
   {
    "duration": 0,
    "start_time": "2023-02-01T11:09:43.537Z"
   },
   {
    "duration": 0,
    "start_time": "2023-02-01T11:09:43.540Z"
   },
   {
    "duration": 0,
    "start_time": "2023-02-01T11:09:43.542Z"
   },
   {
    "duration": 0,
    "start_time": "2023-02-01T11:09:43.543Z"
   },
   {
    "duration": 0,
    "start_time": "2023-02-01T11:09:43.544Z"
   },
   {
    "duration": 0,
    "start_time": "2023-02-01T11:09:43.545Z"
   },
   {
    "duration": 1,
    "start_time": "2023-02-01T11:09:43.546Z"
   },
   {
    "duration": 0,
    "start_time": "2023-02-01T11:09:43.548Z"
   },
   {
    "duration": 0,
    "start_time": "2023-02-01T11:09:43.551Z"
   },
   {
    "duration": 0,
    "start_time": "2023-02-01T11:09:43.552Z"
   },
   {
    "duration": 0,
    "start_time": "2023-02-01T11:09:43.553Z"
   },
   {
    "duration": 0,
    "start_time": "2023-02-01T11:09:43.554Z"
   },
   {
    "duration": 0,
    "start_time": "2023-02-01T11:09:43.555Z"
   },
   {
    "duration": 0,
    "start_time": "2023-02-01T11:09:43.613Z"
   },
   {
    "duration": 0,
    "start_time": "2023-02-01T11:09:43.615Z"
   },
   {
    "duration": 0,
    "start_time": "2023-02-01T11:09:43.616Z"
   },
   {
    "duration": 0,
    "start_time": "2023-02-01T11:09:43.617Z"
   },
   {
    "duration": 0,
    "start_time": "2023-02-01T11:09:43.618Z"
   },
   {
    "duration": 0,
    "start_time": "2023-02-01T11:09:43.619Z"
   },
   {
    "duration": 0,
    "start_time": "2023-02-01T11:09:43.619Z"
   },
   {
    "duration": 0,
    "start_time": "2023-02-01T11:09:43.620Z"
   },
   {
    "duration": 0,
    "start_time": "2023-02-01T11:09:43.623Z"
   },
   {
    "duration": 0,
    "start_time": "2023-02-01T11:09:43.624Z"
   },
   {
    "duration": 0,
    "start_time": "2023-02-01T11:09:43.626Z"
   },
   {
    "duration": 0,
    "start_time": "2023-02-01T11:09:43.627Z"
   },
   {
    "duration": 0,
    "start_time": "2023-02-01T11:09:43.628Z"
   },
   {
    "duration": 0,
    "start_time": "2023-02-01T11:09:43.630Z"
   },
   {
    "duration": 0,
    "start_time": "2023-02-01T11:09:43.631Z"
   },
   {
    "duration": 0,
    "start_time": "2023-02-01T11:09:43.633Z"
   },
   {
    "duration": 0,
    "start_time": "2023-02-01T11:09:43.634Z"
   },
   {
    "duration": 0,
    "start_time": "2023-02-01T11:09:43.636Z"
   },
   {
    "duration": 0,
    "start_time": "2023-02-01T11:09:43.637Z"
   },
   {
    "duration": 0,
    "start_time": "2023-02-01T11:09:43.638Z"
   },
   {
    "duration": 0,
    "start_time": "2023-02-01T11:09:43.640Z"
   },
   {
    "duration": 0,
    "start_time": "2023-02-01T11:09:43.643Z"
   },
   {
    "duration": 0,
    "start_time": "2023-02-01T11:09:43.644Z"
   },
   {
    "duration": 0,
    "start_time": "2023-02-01T11:09:43.645Z"
   },
   {
    "duration": 0,
    "start_time": "2023-02-01T11:09:43.647Z"
   },
   {
    "duration": 0,
    "start_time": "2023-02-01T11:09:43.648Z"
   },
   {
    "duration": 0,
    "start_time": "2023-02-01T11:09:43.650Z"
   },
   {
    "duration": 0,
    "start_time": "2023-02-01T11:09:43.651Z"
   },
   {
    "duration": 0,
    "start_time": "2023-02-01T11:09:43.652Z"
   },
   {
    "duration": 0,
    "start_time": "2023-02-01T11:09:43.654Z"
   },
   {
    "duration": 2455,
    "start_time": "2023-02-02T07:37:03.878Z"
   },
   {
    "duration": 3,
    "start_time": "2023-02-02T07:37:06.335Z"
   },
   {
    "duration": 121,
    "start_time": "2023-02-02T07:37:06.340Z"
   },
   {
    "duration": 14,
    "start_time": "2023-02-02T07:37:06.463Z"
   },
   {
    "duration": 27,
    "start_time": "2023-02-02T07:37:06.479Z"
   },
   {
    "duration": 17,
    "start_time": "2023-02-02T07:37:06.507Z"
   },
   {
    "duration": 14,
    "start_time": "2023-02-02T07:37:06.526Z"
   },
   {
    "duration": 24,
    "start_time": "2023-02-02T07:37:06.541Z"
   },
   {
    "duration": 20,
    "start_time": "2023-02-02T07:37:06.567Z"
   },
   {
    "duration": 13,
    "start_time": "2023-02-02T07:37:06.589Z"
   },
   {
    "duration": 16,
    "start_time": "2023-02-02T07:37:06.604Z"
   },
   {
    "duration": 12,
    "start_time": "2023-02-02T07:37:06.622Z"
   },
   {
    "duration": 7,
    "start_time": "2023-02-02T07:37:06.636Z"
   },
   {
    "duration": 19,
    "start_time": "2023-02-02T07:37:06.646Z"
   },
   {
    "duration": 5,
    "start_time": "2023-02-02T07:37:06.666Z"
   },
   {
    "duration": 35,
    "start_time": "2023-02-02T07:37:06.672Z"
   },
   {
    "duration": 17,
    "start_time": "2023-02-02T07:37:06.709Z"
   },
   {
    "duration": 3,
    "start_time": "2023-02-02T07:37:06.728Z"
   },
   {
    "duration": 216,
    "start_time": "2023-02-02T07:37:06.733Z"
   },
   {
    "duration": 178,
    "start_time": "2023-02-02T07:37:06.951Z"
   },
   {
    "duration": 5,
    "start_time": "2023-02-02T07:37:07.131Z"
   },
   {
    "duration": 12,
    "start_time": "2023-02-02T07:37:07.138Z"
   },
   {
    "duration": 7,
    "start_time": "2023-02-02T07:37:07.152Z"
   },
   {
    "duration": 14,
    "start_time": "2023-02-02T07:37:07.161Z"
   },
   {
    "duration": 28,
    "start_time": "2023-02-02T07:37:07.177Z"
   },
   {
    "duration": 10,
    "start_time": "2023-02-02T07:37:07.207Z"
   },
   {
    "duration": 260,
    "start_time": "2023-02-02T07:37:07.219Z"
   },
   {
    "duration": 29,
    "start_time": "2023-02-02T07:37:07.481Z"
   },
   {
    "duration": 14,
    "start_time": "2023-02-02T07:37:07.512Z"
   },
   {
    "duration": 6,
    "start_time": "2023-02-02T07:37:07.528Z"
   },
   {
    "duration": 19,
    "start_time": "2023-02-02T07:37:07.536Z"
   },
   {
    "duration": 269,
    "start_time": "2023-02-02T07:37:07.556Z"
   },
   {
    "duration": 262,
    "start_time": "2023-02-02T07:37:07.826Z"
   },
   {
    "duration": 361,
    "start_time": "2023-02-02T07:37:08.090Z"
   },
   {
    "duration": 5,
    "start_time": "2023-02-02T07:37:08.453Z"
   },
   {
    "duration": 15,
    "start_time": "2023-02-02T07:37:08.460Z"
   },
   {
    "duration": 6,
    "start_time": "2023-02-02T07:37:08.477Z"
   },
   {
    "duration": 22,
    "start_time": "2023-02-02T07:37:08.484Z"
   },
   {
    "duration": 12,
    "start_time": "2023-02-02T07:37:08.508Z"
   },
   {
    "duration": 15,
    "start_time": "2023-02-02T07:37:08.522Z"
   },
   {
    "duration": 144,
    "start_time": "2023-02-02T07:37:08.542Z"
   },
   {
    "duration": 16,
    "start_time": "2023-02-02T07:37:08.687Z"
   },
   {
    "duration": 15,
    "start_time": "2023-02-02T07:37:08.704Z"
   },
   {
    "duration": 8,
    "start_time": "2023-02-02T07:37:08.720Z"
   },
   {
    "duration": 15,
    "start_time": "2023-02-02T07:37:08.730Z"
   },
   {
    "duration": 15,
    "start_time": "2023-02-02T07:37:08.746Z"
   },
   {
    "duration": 9,
    "start_time": "2023-02-02T07:37:08.762Z"
   },
   {
    "duration": 1502,
    "start_time": "2023-02-02T07:37:08.772Z"
   },
   {
    "duration": 3,
    "start_time": "2023-02-02T07:37:10.276Z"
   },
   {
    "duration": 115,
    "start_time": "2023-02-02T07:37:10.281Z"
   },
   {
    "duration": 3042,
    "start_time": "2023-02-02T07:37:10.398Z"
   },
   {
    "duration": 299,
    "start_time": "2023-02-02T07:37:13.442Z"
   },
   {
    "duration": 4,
    "start_time": "2023-02-02T07:37:13.743Z"
   },
   {
    "duration": 22,
    "start_time": "2023-02-02T07:37:13.749Z"
   },
   {
    "duration": 15,
    "start_time": "2023-02-02T07:37:13.772Z"
   },
   {
    "duration": 17,
    "start_time": "2023-02-02T07:37:13.802Z"
   },
   {
    "duration": 15,
    "start_time": "2023-02-02T07:37:13.822Z"
   },
   {
    "duration": 18,
    "start_time": "2023-02-02T07:37:13.838Z"
   },
   {
    "duration": 20,
    "start_time": "2023-02-02T07:37:13.858Z"
   },
   {
    "duration": 24,
    "start_time": "2023-02-02T07:37:13.880Z"
   },
   {
    "duration": 11,
    "start_time": "2023-02-02T07:37:13.906Z"
   },
   {
    "duration": 20,
    "start_time": "2023-02-02T07:37:13.918Z"
   },
   {
    "duration": 13,
    "start_time": "2023-02-02T07:37:13.940Z"
   },
   {
    "duration": 13,
    "start_time": "2023-02-02T07:37:13.955Z"
   },
   {
    "duration": 22,
    "start_time": "2023-02-02T07:37:13.969Z"
   },
   {
    "duration": 324,
    "start_time": "2023-02-02T07:37:13.992Z"
   },
   {
    "duration": 9,
    "start_time": "2023-02-02T07:37:14.318Z"
   },
   {
    "duration": 41,
    "start_time": "2023-02-02T07:37:14.329Z"
   },
   {
    "duration": 8,
    "start_time": "2023-02-02T07:37:14.371Z"
   },
   {
    "duration": 25,
    "start_time": "2023-02-02T07:37:14.381Z"
   },
   {
    "duration": 24,
    "start_time": "2023-02-02T07:37:14.407Z"
   },
   {
    "duration": 7,
    "start_time": "2023-02-02T07:37:14.432Z"
   },
   {
    "duration": 965,
    "start_time": "2023-02-02T07:37:14.441Z"
   },
   {
    "duration": 1003,
    "start_time": "2023-02-02T07:37:15.408Z"
   },
   {
    "duration": 922,
    "start_time": "2023-02-02T07:37:16.414Z"
   },
   {
    "duration": 18,
    "start_time": "2023-02-02T07:37:17.338Z"
   },
   {
    "duration": 8,
    "start_time": "2023-02-02T07:37:17.358Z"
   },
   {
    "duration": 10,
    "start_time": "2023-02-02T07:37:17.367Z"
   },
   {
    "duration": 27,
    "start_time": "2023-02-02T07:37:17.378Z"
   },
   {
    "duration": 7,
    "start_time": "2023-02-02T07:37:17.406Z"
   },
   {
    "duration": 3,
    "start_time": "2023-02-02T07:45:34.362Z"
   },
   {
    "duration": 24,
    "start_time": "2023-02-02T07:46:39.544Z"
   },
   {
    "duration": 2493,
    "start_time": "2023-02-03T10:24:38.089Z"
   },
   {
    "duration": 3,
    "start_time": "2023-02-03T10:24:40.584Z"
   },
   {
    "duration": 133,
    "start_time": "2023-02-03T10:24:40.599Z"
   },
   {
    "duration": 15,
    "start_time": "2023-02-03T10:24:40.735Z"
   },
   {
    "duration": 20,
    "start_time": "2023-02-03T10:24:40.753Z"
   },
   {
    "duration": 26,
    "start_time": "2023-02-03T10:24:40.775Z"
   },
   {
    "duration": 12,
    "start_time": "2023-02-03T10:24:40.803Z"
   },
   {
    "duration": 6,
    "start_time": "2023-02-03T10:24:40.817Z"
   },
   {
    "duration": 13,
    "start_time": "2023-02-03T10:24:40.825Z"
   },
   {
    "duration": 5,
    "start_time": "2023-02-03T10:24:40.842Z"
   },
   {
    "duration": 18,
    "start_time": "2023-02-03T10:24:40.848Z"
   },
   {
    "duration": 32,
    "start_time": "2023-02-03T10:24:40.868Z"
   },
   {
    "duration": 4,
    "start_time": "2023-02-03T10:24:40.902Z"
   },
   {
    "duration": 10,
    "start_time": "2023-02-03T10:24:40.907Z"
   },
   {
    "duration": 6,
    "start_time": "2023-02-03T10:24:40.919Z"
   },
   {
    "duration": 17,
    "start_time": "2023-02-03T10:24:40.927Z"
   },
   {
    "duration": 12,
    "start_time": "2023-02-03T10:24:40.946Z"
   },
   {
    "duration": 44,
    "start_time": "2023-02-03T10:24:40.960Z"
   },
   {
    "duration": 14,
    "start_time": "2023-02-03T10:24:41.005Z"
   },
   {
    "duration": 14,
    "start_time": "2023-02-03T10:24:41.021Z"
   },
   {
    "duration": 4,
    "start_time": "2023-02-03T10:24:41.037Z"
   },
   {
    "duration": 14,
    "start_time": "2023-02-03T10:24:41.043Z"
   },
   {
    "duration": 16,
    "start_time": "2023-02-03T10:24:41.059Z"
   },
   {
    "duration": 25,
    "start_time": "2023-02-03T10:24:41.077Z"
   },
   {
    "duration": 216,
    "start_time": "2023-02-03T10:24:41.103Z"
   },
   {
    "duration": 193,
    "start_time": "2023-02-03T10:24:41.322Z"
   },
   {
    "duration": 11,
    "start_time": "2023-02-03T10:24:41.516Z"
   },
   {
    "duration": 10,
    "start_time": "2023-02-03T10:24:41.532Z"
   },
   {
    "duration": 11,
    "start_time": "2023-02-03T10:24:41.544Z"
   },
   {
    "duration": 290,
    "start_time": "2023-02-03T10:24:41.557Z"
   },
   {
    "duration": 22,
    "start_time": "2023-02-03T10:24:41.849Z"
   },
   {
    "duration": 30,
    "start_time": "2023-02-03T10:24:41.873Z"
   },
   {
    "duration": 12,
    "start_time": "2023-02-03T10:24:41.905Z"
   },
   {
    "duration": 7,
    "start_time": "2023-02-03T10:24:41.919Z"
   },
   {
    "duration": 274,
    "start_time": "2023-02-03T10:24:41.928Z"
   },
   {
    "duration": 250,
    "start_time": "2023-02-03T10:24:42.204Z"
   },
   {
    "duration": 395,
    "start_time": "2023-02-03T10:24:42.456Z"
   },
   {
    "duration": 5,
    "start_time": "2023-02-03T10:24:42.852Z"
   },
   {
    "duration": 11,
    "start_time": "2023-02-03T10:24:42.859Z"
   },
   {
    "duration": 3,
    "start_time": "2023-02-03T10:24:42.872Z"
   },
   {
    "duration": 24,
    "start_time": "2023-02-03T10:24:42.877Z"
   },
   {
    "duration": 11,
    "start_time": "2023-02-03T10:24:42.902Z"
   },
   {
    "duration": 15,
    "start_time": "2023-02-03T10:24:42.914Z"
   },
   {
    "duration": 135,
    "start_time": "2023-02-03T10:24:42.931Z"
   },
   {
    "duration": 8,
    "start_time": "2023-02-03T10:24:43.068Z"
   },
   {
    "duration": 26,
    "start_time": "2023-02-03T10:24:43.077Z"
   },
   {
    "duration": 7,
    "start_time": "2023-02-03T10:24:43.105Z"
   },
   {
    "duration": 18,
    "start_time": "2023-02-03T10:24:43.113Z"
   },
   {
    "duration": 17,
    "start_time": "2023-02-03T10:24:43.133Z"
   },
   {
    "duration": 11,
    "start_time": "2023-02-03T10:24:43.152Z"
   },
   {
    "duration": 1091,
    "start_time": "2023-02-03T10:24:43.165Z"
   },
   {
    "duration": 3,
    "start_time": "2023-02-03T10:24:44.257Z"
   },
   {
    "duration": 89,
    "start_time": "2023-02-03T10:24:44.261Z"
   },
   {
    "duration": 2636,
    "start_time": "2023-02-03T10:24:44.352Z"
   },
   {
    "duration": 270,
    "start_time": "2023-02-03T10:24:46.991Z"
   },
   {
    "duration": 4,
    "start_time": "2023-02-03T10:24:47.263Z"
   },
   {
    "duration": 20,
    "start_time": "2023-02-03T10:24:47.268Z"
   },
   {
    "duration": 20,
    "start_time": "2023-02-03T10:24:47.290Z"
   },
   {
    "duration": 13,
    "start_time": "2023-02-03T10:24:47.312Z"
   },
   {
    "duration": 16,
    "start_time": "2023-02-03T10:24:47.327Z"
   },
   {
    "duration": 14,
    "start_time": "2023-02-03T10:24:47.344Z"
   },
   {
    "duration": 42,
    "start_time": "2023-02-03T10:24:47.359Z"
   },
   {
    "duration": 9,
    "start_time": "2023-02-03T10:24:47.402Z"
   },
   {
    "duration": 16,
    "start_time": "2023-02-03T10:24:47.412Z"
   },
   {
    "duration": 10,
    "start_time": "2023-02-03T10:24:47.430Z"
   },
   {
    "duration": 8,
    "start_time": "2023-02-03T10:24:47.442Z"
   },
   {
    "duration": 7,
    "start_time": "2023-02-03T10:24:47.451Z"
   },
   {
    "duration": 18,
    "start_time": "2023-02-03T10:24:47.460Z"
   },
   {
    "duration": 252,
    "start_time": "2023-02-03T10:24:47.480Z"
   },
   {
    "duration": 10,
    "start_time": "2023-02-03T10:24:47.733Z"
   },
   {
    "duration": 10,
    "start_time": "2023-02-03T10:24:47.745Z"
   },
   {
    "duration": 7,
    "start_time": "2023-02-03T10:24:47.757Z"
   },
   {
    "duration": 13,
    "start_time": "2023-02-03T10:24:47.765Z"
   },
   {
    "duration": 28,
    "start_time": "2023-02-03T10:24:47.779Z"
   },
   {
    "duration": 15,
    "start_time": "2023-02-03T10:24:47.809Z"
   },
   {
    "duration": 940,
    "start_time": "2023-02-03T10:24:47.825Z"
   },
   {
    "duration": 822,
    "start_time": "2023-02-03T10:24:48.766Z"
   },
   {
    "duration": 960,
    "start_time": "2023-02-03T10:24:49.590Z"
   },
   {
    "duration": 16,
    "start_time": "2023-02-03T10:24:50.552Z"
   },
   {
    "duration": 14,
    "start_time": "2023-02-03T10:24:50.570Z"
   },
   {
    "duration": 30,
    "start_time": "2023-02-03T10:24:50.586Z"
   },
   {
    "duration": 7,
    "start_time": "2023-02-03T10:24:50.621Z"
   },
   {
    "duration": 8,
    "start_time": "2023-02-03T10:24:50.630Z"
   },
   {
    "duration": 12,
    "start_time": "2023-02-03T10:26:01.544Z"
   },
   {
    "duration": 124,
    "start_time": "2023-02-03T10:26:19.351Z"
   },
   {
    "duration": 2657,
    "start_time": "2023-02-04T16:03:07.753Z"
   },
   {
    "duration": 3,
    "start_time": "2023-02-04T16:03:10.412Z"
   },
   {
    "duration": 122,
    "start_time": "2023-02-04T16:03:10.416Z"
   },
   {
    "duration": 13,
    "start_time": "2023-02-04T16:03:10.540Z"
   },
   {
    "duration": 20,
    "start_time": "2023-02-04T16:03:10.555Z"
   },
   {
    "duration": 11,
    "start_time": "2023-02-04T16:03:10.576Z"
   },
   {
    "duration": 15,
    "start_time": "2023-02-04T16:03:10.589Z"
   },
   {
    "duration": 33,
    "start_time": "2023-02-04T16:03:10.605Z"
   },
   {
    "duration": 10,
    "start_time": "2023-02-04T16:03:10.640Z"
   },
   {
    "duration": 6,
    "start_time": "2023-02-04T16:03:10.652Z"
   },
   {
    "duration": 32,
    "start_time": "2023-02-04T16:03:10.660Z"
   },
   {
    "duration": 10,
    "start_time": "2023-02-04T16:03:10.694Z"
   },
   {
    "duration": 4,
    "start_time": "2023-02-04T16:03:10.705Z"
   },
   {
    "duration": 9,
    "start_time": "2023-02-04T16:03:10.713Z"
   },
   {
    "duration": 13,
    "start_time": "2023-02-04T16:03:10.724Z"
   },
   {
    "duration": 12,
    "start_time": "2023-02-04T16:03:10.739Z"
   },
   {
    "duration": 30,
    "start_time": "2023-02-04T16:03:10.753Z"
   },
   {
    "duration": 18,
    "start_time": "2023-02-04T16:03:10.784Z"
   },
   {
    "duration": 6,
    "start_time": "2023-02-04T16:03:10.803Z"
   },
   {
    "duration": 14,
    "start_time": "2023-02-04T16:03:10.811Z"
   },
   {
    "duration": 4,
    "start_time": "2023-02-04T16:03:10.828Z"
   },
   {
    "duration": 9,
    "start_time": "2023-02-04T16:03:10.837Z"
   },
   {
    "duration": 20,
    "start_time": "2023-02-04T16:03:10.847Z"
   },
   {
    "duration": 4,
    "start_time": "2023-02-04T16:03:10.868Z"
   },
   {
    "duration": 222,
    "start_time": "2023-02-04T16:03:10.874Z"
   },
   {
    "duration": 166,
    "start_time": "2023-02-04T16:03:11.098Z"
   },
   {
    "duration": 10,
    "start_time": "2023-02-04T16:03:11.266Z"
   },
   {
    "duration": 15,
    "start_time": "2023-02-04T16:03:11.277Z"
   },
   {
    "duration": 4,
    "start_time": "2023-02-04T16:03:11.294Z"
   },
   {
    "duration": 274,
    "start_time": "2023-02-04T16:03:11.300Z"
   },
   {
    "duration": 20,
    "start_time": "2023-02-04T16:03:11.576Z"
   },
   {
    "duration": 14,
    "start_time": "2023-02-04T16:03:11.598Z"
   },
   {
    "duration": 25,
    "start_time": "2023-02-04T16:03:11.613Z"
   },
   {
    "duration": 5,
    "start_time": "2023-02-04T16:03:11.639Z"
   },
   {
    "duration": 259,
    "start_time": "2023-02-04T16:03:11.646Z"
   },
   {
    "duration": 263,
    "start_time": "2023-02-04T16:03:11.907Z"
   },
   {
    "duration": 457,
    "start_time": "2023-02-04T16:03:12.172Z"
   },
   {
    "duration": 8,
    "start_time": "2023-02-04T16:03:12.632Z"
   },
   {
    "duration": 18,
    "start_time": "2023-02-04T16:03:12.641Z"
   },
   {
    "duration": 10,
    "start_time": "2023-02-04T16:03:12.661Z"
   },
   {
    "duration": 6,
    "start_time": "2023-02-04T16:03:12.675Z"
   },
   {
    "duration": 12,
    "start_time": "2023-02-04T16:03:12.682Z"
   },
   {
    "duration": 12,
    "start_time": "2023-02-04T16:03:12.696Z"
   },
   {
    "duration": 127,
    "start_time": "2023-02-04T16:03:12.710Z"
   },
   {
    "duration": 6,
    "start_time": "2023-02-04T16:03:12.838Z"
   },
   {
    "duration": 16,
    "start_time": "2023-02-04T16:03:12.846Z"
   },
   {
    "duration": 6,
    "start_time": "2023-02-04T16:03:12.863Z"
   },
   {
    "duration": 13,
    "start_time": "2023-02-04T16:03:12.870Z"
   },
   {
    "duration": 13,
    "start_time": "2023-02-04T16:03:12.885Z"
   },
   {
    "duration": 4,
    "start_time": "2023-02-04T16:03:12.900Z"
   },
   {
    "duration": 1075,
    "start_time": "2023-02-04T16:03:12.906Z"
   },
   {
    "duration": 3,
    "start_time": "2023-02-04T16:03:13.984Z"
   },
   {
    "duration": 82,
    "start_time": "2023-02-04T16:03:13.989Z"
   },
   {
    "duration": 2481,
    "start_time": "2023-02-04T16:03:14.072Z"
   },
   {
    "duration": 229,
    "start_time": "2023-02-04T16:03:16.555Z"
   },
   {
    "duration": 5,
    "start_time": "2023-02-04T16:03:16.785Z"
   },
   {
    "duration": 24,
    "start_time": "2023-02-04T16:03:16.791Z"
   },
   {
    "duration": 14,
    "start_time": "2023-02-04T16:03:16.816Z"
   },
   {
    "duration": 16,
    "start_time": "2023-02-04T16:03:16.831Z"
   },
   {
    "duration": 13,
    "start_time": "2023-02-04T16:03:16.849Z"
   },
   {
    "duration": 12,
    "start_time": "2023-02-04T16:03:16.864Z"
   },
   {
    "duration": 12,
    "start_time": "2023-02-04T16:03:16.878Z"
   },
   {
    "duration": 4,
    "start_time": "2023-02-04T16:03:16.891Z"
   },
   {
    "duration": 40,
    "start_time": "2023-02-04T16:03:16.897Z"
   },
   {
    "duration": 7,
    "start_time": "2023-02-04T16:03:16.939Z"
   },
   {
    "duration": 5,
    "start_time": "2023-02-04T16:03:16.948Z"
   },
   {
    "duration": 7,
    "start_time": "2023-02-04T16:03:16.955Z"
   },
   {
    "duration": 23,
    "start_time": "2023-02-04T16:03:16.963Z"
   },
   {
    "duration": 269,
    "start_time": "2023-02-04T16:03:16.987Z"
   },
   {
    "duration": 10,
    "start_time": "2023-02-04T16:03:17.257Z"
   },
   {
    "duration": 7,
    "start_time": "2023-02-04T16:03:17.269Z"
   },
   {
    "duration": 8,
    "start_time": "2023-02-04T16:03:17.278Z"
   },
   {
    "duration": 5,
    "start_time": "2023-02-04T16:03:17.288Z"
   },
   {
    "duration": 12,
    "start_time": "2023-02-04T16:03:17.295Z"
   },
   {
    "duration": 33,
    "start_time": "2023-02-04T16:03:17.309Z"
   },
   {
    "duration": 846,
    "start_time": "2023-02-04T16:03:17.343Z"
   },
   {
    "duration": 892,
    "start_time": "2023-02-04T16:03:18.191Z"
   },
   {
    "duration": 975,
    "start_time": "2023-02-04T16:03:19.084Z"
   },
   {
    "duration": 7,
    "start_time": "2023-02-04T16:03:20.060Z"
   },
   {
    "duration": 6,
    "start_time": "2023-02-04T16:03:20.068Z"
   },
   {
    "duration": 6,
    "start_time": "2023-02-04T16:03:20.076Z"
   },
   {
    "duration": 19,
    "start_time": "2023-02-04T16:03:20.084Z"
   },
   {
    "duration": 6,
    "start_time": "2023-02-04T16:03:20.104Z"
   },
   {
    "duration": 27,
    "start_time": "2023-02-04T16:03:20.111Z"
   },
   {
    "duration": 9,
    "start_time": "2023-02-04T16:03:20.140Z"
   },
   {
    "duration": 5,
    "start_time": "2023-02-04T16:03:20.150Z"
   },
   {
    "duration": 8,
    "start_time": "2023-02-04T16:03:20.157Z"
   },
   {
    "duration": 6,
    "start_time": "2023-02-04T16:03:20.166Z"
   },
   {
    "duration": 5,
    "start_time": "2023-02-04T16:03:20.174Z"
   },
   {
    "duration": 7,
    "start_time": "2023-02-04T16:03:20.181Z"
   },
   {
    "duration": 2387,
    "start_time": "2023-02-05T07:35:21.072Z"
   },
   {
    "duration": 3,
    "start_time": "2023-02-05T07:35:23.461Z"
   },
   {
    "duration": 127,
    "start_time": "2023-02-05T07:35:23.468Z"
   },
   {
    "duration": 17,
    "start_time": "2023-02-05T07:35:23.597Z"
   },
   {
    "duration": 19,
    "start_time": "2023-02-05T07:35:23.616Z"
   },
   {
    "duration": 14,
    "start_time": "2023-02-05T07:35:23.636Z"
   },
   {
    "duration": 12,
    "start_time": "2023-02-05T07:35:23.652Z"
   },
   {
    "duration": 5,
    "start_time": "2023-02-05T07:35:23.666Z"
   },
   {
    "duration": 25,
    "start_time": "2023-02-05T07:35:23.674Z"
   },
   {
    "duration": 7,
    "start_time": "2023-02-05T07:35:23.700Z"
   },
   {
    "duration": 30,
    "start_time": "2023-02-05T07:35:23.709Z"
   },
   {
    "duration": 10,
    "start_time": "2023-02-05T07:35:23.741Z"
   },
   {
    "duration": 5,
    "start_time": "2023-02-05T07:35:23.752Z"
   },
   {
    "duration": 9,
    "start_time": "2023-02-05T07:35:23.758Z"
   },
   {
    "duration": 5,
    "start_time": "2023-02-05T07:35:23.769Z"
   },
   {
    "duration": 10,
    "start_time": "2023-02-05T07:35:23.776Z"
   },
   {
    "duration": 10,
    "start_time": "2023-02-05T07:35:23.788Z"
   },
   {
    "duration": 10,
    "start_time": "2023-02-05T07:35:23.827Z"
   },
   {
    "duration": 8,
    "start_time": "2023-02-05T07:35:23.838Z"
   },
   {
    "duration": 12,
    "start_time": "2023-02-05T07:35:23.847Z"
   },
   {
    "duration": 4,
    "start_time": "2023-02-05T07:35:23.860Z"
   },
   {
    "duration": 11,
    "start_time": "2023-02-05T07:35:23.866Z"
   },
   {
    "duration": 13,
    "start_time": "2023-02-05T07:35:23.879Z"
   },
   {
    "duration": 4,
    "start_time": "2023-02-05T07:35:23.894Z"
   },
   {
    "duration": 190,
    "start_time": "2023-02-05T07:35:23.927Z"
   },
   {
    "duration": 180,
    "start_time": "2023-02-05T07:35:24.126Z"
   },
   {
    "duration": 17,
    "start_time": "2023-02-05T07:35:24.310Z"
   },
   {
    "duration": 8,
    "start_time": "2023-02-05T07:35:24.328Z"
   },
   {
    "duration": 8,
    "start_time": "2023-02-05T07:35:24.338Z"
   },
   {
    "duration": 270,
    "start_time": "2023-02-05T07:35:24.347Z"
   },
   {
    "duration": 31,
    "start_time": "2023-02-05T07:35:24.619Z"
   },
   {
    "duration": 14,
    "start_time": "2023-02-05T07:35:24.652Z"
   },
   {
    "duration": 6,
    "start_time": "2023-02-05T07:35:24.667Z"
   },
   {
    "duration": 4,
    "start_time": "2023-02-05T07:35:24.675Z"
   },
   {
    "duration": 272,
    "start_time": "2023-02-05T07:35:24.680Z"
   },
   {
    "duration": 260,
    "start_time": "2023-02-05T07:35:24.954Z"
   },
   {
    "duration": 370,
    "start_time": "2023-02-05T07:35:25.216Z"
   },
   {
    "duration": 5,
    "start_time": "2023-02-05T07:35:25.588Z"
   },
   {
    "duration": 11,
    "start_time": "2023-02-05T07:35:25.595Z"
   },
   {
    "duration": 3,
    "start_time": "2023-02-05T07:35:25.608Z"
   },
   {
    "duration": 19,
    "start_time": "2023-02-05T07:35:25.612Z"
   },
   {
    "duration": 13,
    "start_time": "2023-02-05T07:35:25.632Z"
   },
   {
    "duration": 13,
    "start_time": "2023-02-05T07:35:25.647Z"
   },
   {
    "duration": 130,
    "start_time": "2023-02-05T07:35:25.662Z"
   },
   {
    "duration": 6,
    "start_time": "2023-02-05T07:35:25.794Z"
   },
   {
    "duration": 27,
    "start_time": "2023-02-05T07:35:25.801Z"
   },
   {
    "duration": 4,
    "start_time": "2023-02-05T07:35:25.830Z"
   },
   {
    "duration": 11,
    "start_time": "2023-02-05T07:35:25.836Z"
   },
   {
    "duration": 17,
    "start_time": "2023-02-05T07:35:25.849Z"
   },
   {
    "duration": 5,
    "start_time": "2023-02-05T07:35:25.868Z"
   },
   {
    "duration": 1113,
    "start_time": "2023-02-05T07:35:25.874Z"
   },
   {
    "duration": 3,
    "start_time": "2023-02-05T07:35:26.988Z"
   },
   {
    "duration": 94,
    "start_time": "2023-02-05T07:35:26.992Z"
   },
   {
    "duration": 2723,
    "start_time": "2023-02-05T07:35:27.088Z"
   },
   {
    "duration": 248,
    "start_time": "2023-02-05T07:35:29.813Z"
   },
   {
    "duration": 4,
    "start_time": "2023-02-05T07:35:30.063Z"
   },
   {
    "duration": 25,
    "start_time": "2023-02-05T07:35:30.069Z"
   },
   {
    "duration": 14,
    "start_time": "2023-02-05T07:35:30.096Z"
   },
   {
    "duration": 26,
    "start_time": "2023-02-05T07:35:30.112Z"
   },
   {
    "duration": 29,
    "start_time": "2023-02-05T07:35:30.139Z"
   },
   {
    "duration": 24,
    "start_time": "2023-02-05T07:35:30.169Z"
   },
   {
    "duration": 26,
    "start_time": "2023-02-05T07:35:30.195Z"
   },
   {
    "duration": 11,
    "start_time": "2023-02-05T07:35:30.223Z"
   },
   {
    "duration": 47,
    "start_time": "2023-02-05T07:35:30.236Z"
   },
   {
    "duration": 57,
    "start_time": "2023-02-05T07:35:30.285Z"
   },
   {
    "duration": 76,
    "start_time": "2023-02-05T07:35:30.344Z"
   },
   {
    "duration": 63,
    "start_time": "2023-02-05T07:35:30.422Z"
   },
   {
    "duration": 372,
    "start_time": "2023-02-05T07:35:30.487Z"
   },
   {
    "duration": 4,
    "start_time": "2023-02-05T07:35:30.861Z"
   },
   {
    "duration": 19,
    "start_time": "2023-02-05T07:35:30.866Z"
   },
   {
    "duration": 52,
    "start_time": "2023-02-05T07:35:30.886Z"
   },
   {
    "duration": 253,
    "start_time": "2023-02-05T07:35:30.940Z"
   },
   {
    "duration": 20,
    "start_time": "2023-02-05T07:35:31.195Z"
   },
   {
    "duration": 22,
    "start_time": "2023-02-05T07:35:31.216Z"
   },
   {
    "duration": 24,
    "start_time": "2023-02-05T07:35:31.240Z"
   },
   {
    "duration": 22,
    "start_time": "2023-02-05T07:35:31.266Z"
   },
   {
    "duration": 831,
    "start_time": "2023-02-05T07:35:31.289Z"
   },
   {
    "duration": 950,
    "start_time": "2023-02-05T07:35:32.122Z"
   },
   {
    "duration": 1099,
    "start_time": "2023-02-05T07:35:33.074Z"
   },
   {
    "duration": 8,
    "start_time": "2023-02-05T07:35:34.176Z"
   },
   {
    "duration": 9,
    "start_time": "2023-02-05T07:35:34.190Z"
   },
   {
    "duration": 30,
    "start_time": "2023-02-05T07:35:34.201Z"
   },
   {
    "duration": 28,
    "start_time": "2023-02-05T07:35:34.233Z"
   },
   {
    "duration": 7,
    "start_time": "2023-02-05T07:35:34.263Z"
   },
   {
    "duration": 23,
    "start_time": "2023-02-05T07:35:34.272Z"
   },
   {
    "duration": 15,
    "start_time": "2023-02-05T07:35:34.297Z"
   },
   {
    "duration": 11,
    "start_time": "2023-02-05T07:35:34.313Z"
   },
   {
    "duration": 8,
    "start_time": "2023-02-05T07:35:34.326Z"
   },
   {
    "duration": 6,
    "start_time": "2023-02-05T07:35:34.335Z"
   },
   {
    "duration": 6,
    "start_time": "2023-02-05T07:35:34.343Z"
   },
   {
    "duration": 9,
    "start_time": "2023-02-05T07:35:34.351Z"
   }
  ],
  "kernelspec": {
   "display_name": "Python 3 (ipykernel)",
   "language": "python",
   "name": "python3"
  },
  "language_info": {
   "codemirror_mode": {
    "name": "ipython",
    "version": 3
   },
   "file_extension": ".py",
   "mimetype": "text/x-python",
   "name": "python",
   "nbconvert_exporter": "python",
   "pygments_lexer": "ipython3",
   "version": "3.10.5"
  },
  "toc": {
   "base_numbering": 1,
   "nav_menu": {},
   "number_sections": true,
   "sideBar": true,
   "skip_h1_title": true,
   "title_cell": "Table of Contents",
   "title_sidebar": "Contents",
   "toc_cell": false,
   "toc_position": {},
   "toc_section_display": true,
   "toc_window_display": true
  }
 },
 "nbformat": 4,
 "nbformat_minor": 5
}
