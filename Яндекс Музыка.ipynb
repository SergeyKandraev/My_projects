{
 "cells": [
  {
   "cell_type": "markdown",
   "metadata": {
    "id": "E0vqbgi9ay0H"
   },
   "source": [
    "# Яндекс.Музыка"
   ]
  },
  {
   "cell_type": "markdown",
   "metadata": {
    "id": "VUC88oWjTJw2"
   },
   "source": [
    "Сравнение Москвы и Петербурга окружено мифами. Например:\n",
    " * Москва — мегаполис, подчинённый жёсткому ритму рабочей недели;\n",
    " * Петербург — культурная столица, со своими вкусами.\n",
    "\n",
    "На данных Яндекс.Музыки вы сравните поведение пользователей двух столиц.\n",
    "\n",
    "**Цель исследования** — проверьте три гипотезы:\n",
    "1. Активность пользователей зависит от дня недели. Причём в Москве и Петербурге это проявляется по-разному.\n",
    "2. В понедельник утром в Москве преобладают одни жанры, а в Петербурге — другие. Так же и вечером пятницы преобладают разные жанры — в зависимости от города. \n",
    "3. Москва и Петербург предпочитают разные жанры музыки. В Москве чаще слушают поп-музыку, в Петербурге — русский рэп.\n",
    "\n",
    "**Ход исследования**\n",
    "\n",
    "Данные о поведении пользователей вы получите из файла `yandex_music_project.csv`. О качестве данных ничего не известно. Поэтому перед проверкой гипотез понадобится обзор данных. \n",
    "\n",
    "Вы проверите данные на ошибки и оцените их влияние на исследование. Затем, на этапе предобработки вы поищете возможность исправить самые критичные ошибки данных.\n",
    " \n",
    "Таким образом, исследование пройдёт в три этапа:\n",
    " 1. Обзор данных.\n",
    " 2. Предобработка данных.\n",
    " 3. Проверка гипотез.\n",
    "\n"
   ]
  },
  {
   "cell_type": "markdown",
   "metadata": {
    "id": "Ml1hmfXC_Zcs"
   },
   "source": [
    "## Обзор данных\n",
    "\n",
    "Составьте первое представление о данных Яндекс.Музыки.\n",
    "\n",
    "\n"
   ]
  },
  {
   "cell_type": "markdown",
   "metadata": {
    "id": "57eAOGIz_Zcs"
   },
   "source": [
    "Основной инструмент аналитика — `pandas`. Импортируйте эту библиотеку."
   ]
  },
  {
   "cell_type": "code",
   "execution_count": 1,
   "metadata": {
    "id": "AXN7PHPN_Zcs"
   },
   "outputs": [],
   "source": [
    "import pandas as pd # импорт библиотеки pandas"
   ]
  },
  {
   "cell_type": "markdown",
   "metadata": {
    "id": "SG23P8tt_Zcs"
   },
   "source": [
    "Прочитайте файл `yandex_music_project.csv` из папки `/datasets` и сохраните его в переменной `df`:"
   ]
  },
  {
   "cell_type": "code",
   "execution_count": 2,
   "metadata": {
    "id": "fFVu7vqh_Zct"
   },
   "outputs": [],
   "source": [
    "df = pd.read_csv('/datasets/music_project.csv') # чтение файла с данными и сохранение в df"
   ]
  },
  {
   "cell_type": "markdown",
   "metadata": {
    "id": "rDoOMd3uTqnZ"
   },
   "source": [
    "Выведите на экран первые десять строк таблицы:"
   ]
  },
  {
   "cell_type": "code",
   "execution_count": 3,
   "metadata": {
    "id": "oWTVX3gW_Zct"
   },
   "outputs": [
    {
     "data": {
      "text/html": [
       "<div>\n",
       "<style scoped>\n",
       "    .dataframe tbody tr th:only-of-type {\n",
       "        vertical-align: middle;\n",
       "    }\n",
       "\n",
       "    .dataframe tbody tr th {\n",
       "        vertical-align: top;\n",
       "    }\n",
       "\n",
       "    .dataframe thead th {\n",
       "        text-align: right;\n",
       "    }\n",
       "</style>\n",
       "<table border=\"1\" class=\"dataframe\">\n",
       "  <thead>\n",
       "    <tr style=\"text-align: right;\">\n",
       "      <th></th>\n",
       "      <th>userID</th>\n",
       "      <th>Track</th>\n",
       "      <th>artist</th>\n",
       "      <th>genre</th>\n",
       "      <th>City</th>\n",
       "      <th>time</th>\n",
       "      <th>Day</th>\n",
       "    </tr>\n",
       "  </thead>\n",
       "  <tbody>\n",
       "    <tr>\n",
       "      <th>0</th>\n",
       "      <td>FFB692EC</td>\n",
       "      <td>Kamigata To Boots</td>\n",
       "      <td>The Mass Missile</td>\n",
       "      <td>rock</td>\n",
       "      <td>Saint-Petersburg</td>\n",
       "      <td>20:28:33</td>\n",
       "      <td>Wednesday</td>\n",
       "    </tr>\n",
       "    <tr>\n",
       "      <th>1</th>\n",
       "      <td>55204538</td>\n",
       "      <td>Delayed Because of Accident</td>\n",
       "      <td>Andreas Rönnberg</td>\n",
       "      <td>rock</td>\n",
       "      <td>Moscow</td>\n",
       "      <td>14:07:09</td>\n",
       "      <td>Friday</td>\n",
       "    </tr>\n",
       "    <tr>\n",
       "      <th>2</th>\n",
       "      <td>20EC38</td>\n",
       "      <td>Funiculì funiculà</td>\n",
       "      <td>Mario Lanza</td>\n",
       "      <td>pop</td>\n",
       "      <td>Saint-Petersburg</td>\n",
       "      <td>20:58:07</td>\n",
       "      <td>Wednesday</td>\n",
       "    </tr>\n",
       "    <tr>\n",
       "      <th>3</th>\n",
       "      <td>A3DD03C9</td>\n",
       "      <td>Dragons in the Sunset</td>\n",
       "      <td>Fire + Ice</td>\n",
       "      <td>folk</td>\n",
       "      <td>Saint-Petersburg</td>\n",
       "      <td>08:37:09</td>\n",
       "      <td>Monday</td>\n",
       "    </tr>\n",
       "    <tr>\n",
       "      <th>4</th>\n",
       "      <td>E2DC1FAE</td>\n",
       "      <td>Soul People</td>\n",
       "      <td>Space Echo</td>\n",
       "      <td>dance</td>\n",
       "      <td>Moscow</td>\n",
       "      <td>08:34:34</td>\n",
       "      <td>Monday</td>\n",
       "    </tr>\n",
       "    <tr>\n",
       "      <th>5</th>\n",
       "      <td>842029A1</td>\n",
       "      <td>Преданная</td>\n",
       "      <td>IMPERVTOR</td>\n",
       "      <td>rusrap</td>\n",
       "      <td>Saint-Petersburg</td>\n",
       "      <td>13:09:41</td>\n",
       "      <td>Friday</td>\n",
       "    </tr>\n",
       "    <tr>\n",
       "      <th>6</th>\n",
       "      <td>4CB90AA5</td>\n",
       "      <td>True</td>\n",
       "      <td>Roman Messer</td>\n",
       "      <td>dance</td>\n",
       "      <td>Moscow</td>\n",
       "      <td>13:00:07</td>\n",
       "      <td>Wednesday</td>\n",
       "    </tr>\n",
       "    <tr>\n",
       "      <th>7</th>\n",
       "      <td>F03E1C1F</td>\n",
       "      <td>Feeling This Way</td>\n",
       "      <td>Polina Griffith</td>\n",
       "      <td>dance</td>\n",
       "      <td>Moscow</td>\n",
       "      <td>20:47:49</td>\n",
       "      <td>Wednesday</td>\n",
       "    </tr>\n",
       "    <tr>\n",
       "      <th>8</th>\n",
       "      <td>8FA1D3BE</td>\n",
       "      <td>И вновь продолжается бой</td>\n",
       "      <td>NaN</td>\n",
       "      <td>ruspop</td>\n",
       "      <td>Moscow</td>\n",
       "      <td>09:17:40</td>\n",
       "      <td>Friday</td>\n",
       "    </tr>\n",
       "    <tr>\n",
       "      <th>9</th>\n",
       "      <td>E772D5C0</td>\n",
       "      <td>Pessimist</td>\n",
       "      <td>NaN</td>\n",
       "      <td>dance</td>\n",
       "      <td>Saint-Petersburg</td>\n",
       "      <td>21:20:49</td>\n",
       "      <td>Wednesday</td>\n",
       "    </tr>\n",
       "  </tbody>\n",
       "</table>\n",
       "</div>"
      ],
      "text/plain": [
       "     userID                        Track            artist   genre  \\\n",
       "0  FFB692EC            Kamigata To Boots  The Mass Missile    rock   \n",
       "1  55204538  Delayed Because of Accident  Andreas Rönnberg    rock   \n",
       "2    20EC38            Funiculì funiculà       Mario Lanza     pop   \n",
       "3  A3DD03C9        Dragons in the Sunset        Fire + Ice    folk   \n",
       "4  E2DC1FAE                  Soul People        Space Echo   dance   \n",
       "5  842029A1                    Преданная         IMPERVTOR  rusrap   \n",
       "6  4CB90AA5                         True      Roman Messer   dance   \n",
       "7  F03E1C1F             Feeling This Way   Polina Griffith   dance   \n",
       "8  8FA1D3BE     И вновь продолжается бой               NaN  ruspop   \n",
       "9  E772D5C0                    Pessimist               NaN   dance   \n",
       "\n",
       "             City        time        Day  \n",
       "0  Saint-Petersburg  20:28:33  Wednesday  \n",
       "1            Moscow  14:07:09     Friday  \n",
       "2  Saint-Petersburg  20:58:07  Wednesday  \n",
       "3  Saint-Petersburg  08:37:09     Monday  \n",
       "4            Moscow  08:34:34     Monday  \n",
       "5  Saint-Petersburg  13:09:41     Friday  \n",
       "6            Moscow  13:00:07  Wednesday  \n",
       "7            Moscow  20:47:49  Wednesday  \n",
       "8            Moscow  09:17:40     Friday  \n",
       "9  Saint-Petersburg  21:20:49  Wednesday  "
      ]
     },
     "execution_count": 3,
     "metadata": {},
     "output_type": "execute_result"
    }
   ],
   "source": [
    "df.head(10) # получение первых 10 строк таблицы df"
   ]
  },
  {
   "cell_type": "markdown",
   "metadata": {
    "id": "EO73Kwic_Zct"
   },
   "source": [
    "Одной командой получить общую информацию о таблице:"
   ]
  },
  {
   "cell_type": "code",
   "execution_count": 4,
   "metadata": {
    "id": "DSf2kIb-_Zct"
   },
   "outputs": [
    {
     "name": "stdout",
     "output_type": "stream",
     "text": [
      "<class 'pandas.core.frame.DataFrame'>\n",
      "RangeIndex: 65079 entries, 0 to 65078\n",
      "Data columns (total 7 columns):\n",
      " #   Column    Non-Null Count  Dtype \n",
      "---  ------    --------------  ----- \n",
      " 0     userID  65079 non-null  object\n",
      " 1   Track     63848 non-null  object\n",
      " 2   artist    57876 non-null  object\n",
      " 3   genre     63881 non-null  object\n",
      " 4     City    65079 non-null  object\n",
      " 5   time      65079 non-null  object\n",
      " 6   Day       65079 non-null  object\n",
      "dtypes: object(7)\n",
      "memory usage: 3.5+ MB\n"
     ]
    }
   ],
   "source": [
    "df.info() # получение общей информации о данных в таблице df"
   ]
  },
  {
   "cell_type": "markdown",
   "metadata": {
    "id": "TaQ2Iwbr_Zct"
   },
   "source": [
    "Итак, в таблице семь столбцов. Тип данных во всех столбцах — `object`.\n",
    "\n",
    "Согласно документации к данным:\n",
    "* `userID` — идентификатор пользователя;\n",
    "* `Track` — название трека;  \n",
    "* `artist` — имя исполнителя;\n",
    "* `genre` — название жанра;\n",
    "* `City` — город пользователя;\n",
    "* `time` — время начала прослушивания;\n",
    "* `Day` — день недели.\n",
    "\n",
    "В названиях колонок видны три нарушения стиля:\n",
    "1. Строчные буквы сочетаются с прописными.\n",
    "2. Встречаются пробелы.\n",
    "3. Нарушен \"стиль\", в названиях колонок правильнее использовать \"Змеиный регистр\"\n",
    "\n",
    "\n",
    "\n",
    "\n",
    "Количество значений в столбцах различается. Значит, в данных есть пропущенные значения.\n"
   ]
  },
  {
   "cell_type": "markdown",
   "metadata": {
    "id": "MCB6-dXG_Zct"
   },
   "source": [
    "**Выводы**\n",
    "\n",
    "В каждой строке таблицы — данные о прослушанном треке. Часть колонок описывает саму композицию: название, исполнителя и жанр. Остальные данные рассказывают о пользователе: из какого он города, когда он слушал музыку. \n",
    "\n",
    "Предварительно можно утверждать, что, данных достаточно для проверки гипотез. Но встречаются пропуски в данных, а в названиях колонок — расхождения с хорошим стилем.\n",
    "\n",
    "Чтобы двигаться дальше, нужно устранить проблемы в данных."
   ]
  },
  {
   "cell_type": "markdown",
   "metadata": {
    "id": "SjYF6Ub9_Zct"
   },
   "source": [
    "## Предобработка данных\n",
    "Исправьте стиль в заголовках столбцов, исключите пропуски. Затем проверьте данные на дубликаты."
   ]
  },
  {
   "cell_type": "markdown",
   "metadata": {
    "id": "dIaKXr29_Zct"
   },
   "source": [
    "### Стиль заголовков\n",
    "Выведите на экран названия столбцов:"
   ]
  },
  {
   "cell_type": "code",
   "execution_count": 5,
   "metadata": {
    "id": "oKOTdF_Q_Zct"
   },
   "outputs": [
    {
     "data": {
      "text/plain": [
       "Index(['  userID', 'Track', 'artist', 'genre', '  City  ', 'time', 'Day'], dtype='object')"
      ]
     },
     "execution_count": 5,
     "metadata": {},
     "output_type": "execute_result"
    }
   ],
   "source": [
    "df.columns # перечень названий столбцов таблицы df"
   ]
  },
  {
   "cell_type": "markdown",
   "metadata": {
    "id": "zj5534cv_Zct"
   },
   "source": [
    "Приведите названия в соответствие с хорошим стилем:\n",
    "* несколько слов в названии запишите в «змеином_регистре»,\n",
    "* все символы сделайте строчными,\n",
    "* устраните пробелы.\n",
    "\n",
    "Для этого переименуйте колонки так:\n",
    "* `'  userID'` → `'user_id'`;\n",
    "* `'Track'` → `'track'`;\n",
    "* `'  City  '` → `'city'`;\n",
    "* `'Day'` → `'day'`."
   ]
  },
  {
   "cell_type": "code",
   "execution_count": 6,
   "metadata": {
    "id": "ISlFqs5y_Zct"
   },
   "outputs": [],
   "source": [
    "df = df.rename(columns={'  userID':'user_id', 'Track':'track', '  City  ':'city', 'Day':'day'})# переименование столбцов"
   ]
  },
  {
   "cell_type": "markdown",
   "metadata": {
    "id": "1dqbh00J_Zct"
   },
   "source": [
    "Проверьте результат. Для этого ещё раз выведите на экран названия столбцов:"
   ]
  },
  {
   "cell_type": "code",
   "execution_count": 7,
   "metadata": {
    "id": "d4NOAmTW_Zct"
   },
   "outputs": [
    {
     "data": {
      "text/plain": [
       "Index(['user_id', 'track', 'artist', 'genre', 'city', 'time', 'day'], dtype='object')"
      ]
     },
     "execution_count": 7,
     "metadata": {},
     "output_type": "execute_result"
    }
   ],
   "source": [
    "df.columns # проверка результатов - перечень названий столбцов"
   ]
  },
  {
   "cell_type": "markdown",
   "metadata": {
    "id": "5ISfbcfY_Zct"
   },
   "source": [
    "### Пропуски значений\n",
    "Сначала посчитайте, сколько в таблице пропущенных значений. Для этого достаточно двух методов `pandas`:"
   ]
  },
  {
   "cell_type": "code",
   "execution_count": 8,
   "metadata": {
    "id": "RskX29qr_Zct"
   },
   "outputs": [
    {
     "data": {
      "text/plain": [
       "user_id       0\n",
       "track      1231\n",
       "artist     7203\n",
       "genre      1198\n",
       "city          0\n",
       "time          0\n",
       "day           0\n",
       "dtype: int64"
      ]
     },
     "execution_count": 8,
     "metadata": {},
     "output_type": "execute_result"
    }
   ],
   "source": [
    "df.isna().sum() # подсчёт пропусков"
   ]
  },
  {
   "cell_type": "markdown",
   "metadata": {
    "id": "qubhgnlO_Zct"
   },
   "source": [
    "Не все пропущенные значения влияют на исследование. Так в `track` и `artist` пропуски не важны для вашей работы. Достаточно заменить их явными обозначениями.\n",
    "\n",
    "Но пропуски в `genre` могут помешать сравнению музыкальных вкусов в Москве и Санкт-Петербурге. На практике было бы правильно установить причину пропусков и восстановить данные. Такой возможности нет в учебном проекте. Придётся:\n",
    "* заполнить и эти пропуски явными обозначениями,\n",
    "* оценить, насколько они повредят расчётам. "
   ]
  },
  {
   "cell_type": "markdown",
   "metadata": {
    "id": "fSv2laPA_Zct"
   },
   "source": [
    "Замените пропущенные значения в столбцах `track`, `artist` и `genre` на строку `'unknown'`. Для этого создайте список `columns_to_replace`, переберите его элементы циклом `for` и для каждого столбца выполните замену пропущенных значений:"
   ]
  },
  {
   "cell_type": "code",
   "execution_count": 9,
   "metadata": {
    "id": "KplB5qWs_Zct"
   },
   "outputs": [],
   "source": [
    "columns_to_replace = ['track', 'artist', 'genre'] # перебор названий столбцов в цикле и замена пропущенных значений на 'unknown'\n",
    "\n",
    "for columns in columns_to_replace:\n",
    "    df[columns] = df[columns].fillna('unknown')"
   ]
  },
  {
   "cell_type": "markdown",
   "metadata": {
    "id": "Ilsm-MZo_Zct"
   },
   "source": [
    "Убедитесь, что в таблице не осталось пропусков. Для этого ещё раз посчитайте пропущенные значения."
   ]
  },
  {
   "cell_type": "code",
   "execution_count": 10,
   "metadata": {
    "id": "Tq4nYRX4_Zct"
   },
   "outputs": [
    {
     "data": {
      "text/plain": [
       "user_id    0\n",
       "track      0\n",
       "artist     0\n",
       "genre      0\n",
       "city       0\n",
       "time       0\n",
       "day        0\n",
       "dtype: int64"
      ]
     },
     "execution_count": 10,
     "metadata": {},
     "output_type": "execute_result"
    }
   ],
   "source": [
    "df.isnull().sum()# подсчёт пропусков"
   ]
  },
  {
   "cell_type": "markdown",
   "metadata": {
    "id": "BWKRtBJ3_Zct"
   },
   "source": [
    "### Дубликаты\n",
    "Посчитайте явные дубликаты в таблице одной командой:"
   ]
  },
  {
   "cell_type": "code",
   "execution_count": 11,
   "metadata": {
    "id": "36eES_S0_Zct"
   },
   "outputs": [
    {
     "data": {
      "text/plain": [
       "3826"
      ]
     },
     "execution_count": 11,
     "metadata": {},
     "output_type": "execute_result"
    }
   ],
   "source": [
    "df.duplicated().sum() # подсчёт явных дубликатов"
   ]
  },
  {
   "cell_type": "markdown",
   "metadata": {
    "id": "Ot25h6XR_Zct"
   },
   "source": [
    "Вызовите специальный метод `pandas`, чтобы удалить явные дубликаты:"
   ]
  },
  {
   "cell_type": "code",
   "execution_count": 12,
   "metadata": {
    "id": "exFHq6tt_Zct"
   },
   "outputs": [],
   "source": [
    "df = df.drop_duplicates().reset_index(drop=True) # удаление явных дубликатов (с удалением старых индексов и формированием новых)"
   ]
  },
  {
   "cell_type": "markdown",
   "metadata": {
    "id": "Im2YwBEG_Zct"
   },
   "source": [
    "Ещё раз посчитайте явные дубликаты в таблице — убедитесь, что полностью от них избавились:"
   ]
  },
  {
   "cell_type": "code",
   "execution_count": 13,
   "metadata": {
    "id": "-8PuNWQ0_Zct"
   },
   "outputs": [
    {
     "data": {
      "text/plain": [
       "0"
      ]
     },
     "execution_count": 13,
     "metadata": {},
     "output_type": "execute_result"
    }
   ],
   "source": [
    "df.duplicated().sum() # проверка на отсутствие дубликатов"
   ]
  },
  {
   "cell_type": "markdown",
   "metadata": {
    "id": "QlFBsxAr_Zct"
   },
   "source": [
    "Теперь избавьтесь от неявных дубликатов в колонке `genre`. Например, название одного и того же жанра может быть записано немного по-разному. Такие ошибки тоже повлияют на результат исследования."
   ]
  },
  {
   "cell_type": "markdown",
   "metadata": {
    "id": "eSjWwsOh_Zct"
   },
   "source": [
    "Выведите на экран список уникальных названий жанров, отсортированный в алфавитном порядке. Для этого:\n",
    "* извлеките нужный столбец датафрейма, \n",
    "* примените к нему метод сортировки,\n",
    "* для отсортированного столбца вызовите метод, который вернёт уникальные значения из столбца."
   ]
  },
  {
   "cell_type": "code",
   "execution_count": 14,
   "metadata": {
    "id": "JIUcqzZN_Zct"
   },
   "outputs": [
    {
     "data": {
      "text/plain": [
       "array(['acid', 'acoustic', 'action', 'adult', 'africa', 'afrikaans',\n",
       "       'alternative', 'alternativepunk', 'ambient', 'americana',\n",
       "       'animated', 'anime', 'arabesk', 'arabic', 'arena',\n",
       "       'argentinetango', 'art', 'audiobook', 'author', 'avantgarde',\n",
       "       'axé', 'baile', 'balkan', 'beats', 'bigroom', 'black', 'bluegrass',\n",
       "       'blues', 'bollywood', 'bossa', 'brazilian', 'breakbeat', 'breaks',\n",
       "       'broadway', 'cantautori', 'cantopop', 'canzone', 'caribbean',\n",
       "       'caucasian', 'celtic', 'chamber', 'chanson', 'children', 'chill',\n",
       "       'chinese', 'choral', 'christian', 'christmas', 'classical',\n",
       "       'classicmetal', 'club', 'colombian', 'comedy', 'conjazz',\n",
       "       'contemporary', 'country', 'cuban', 'dance', 'dancehall',\n",
       "       'dancepop', 'dark', 'death', 'deep', 'deutschrock', 'deutschspr',\n",
       "       'dirty', 'disco', 'dnb', 'documentary', 'downbeat', 'downtempo',\n",
       "       'drum', 'dub', 'dubstep', 'eastern', 'easy', 'electronic',\n",
       "       'electropop', 'emo', 'entehno', 'epicmetal', 'estrada', 'ethnic',\n",
       "       'eurofolk', 'european', 'experimental', 'extrememetal', 'fado',\n",
       "       'fairytail', 'film', 'fitness', 'flamenco', 'folk', 'folklore',\n",
       "       'folkmetal', 'folkrock', 'folktronica', 'forró', 'frankreich',\n",
       "       'französisch', 'french', 'funk', 'future', 'gangsta', 'garage',\n",
       "       'german', 'ghazal', 'gitarre', 'glitch', 'gospel', 'gothic',\n",
       "       'grime', 'grunge', 'gypsy', 'handsup', \"hard'n'heavy\", 'hardcore',\n",
       "       'hardstyle', 'hardtechno', 'hip', 'hiphop', 'historisch',\n",
       "       'holiday', 'horror', 'house', 'hymn', 'idm', 'independent',\n",
       "       'indian', 'indie', 'indipop', 'industrial', 'inspirational',\n",
       "       'instrumental', 'international', 'irish', 'jam', 'japanese',\n",
       "       'jazz', 'jewish', 'jpop', 'jungle', 'k-pop', 'karadeniz',\n",
       "       'karaoke', 'kayokyoku', 'korean', 'laiko', 'latin', 'latino',\n",
       "       'leftfield', 'local', 'lounge', 'loungeelectronic', 'lovers',\n",
       "       'malaysian', 'mandopop', 'marschmusik', 'meditative',\n",
       "       'mediterranean', 'melodic', 'metal', 'metalcore', 'mexican',\n",
       "       'middle', 'minimal', 'miscellaneous', 'modern', 'mood', 'mpb',\n",
       "       'muslim', 'native', 'neoklassik', 'neue', 'new', 'newage',\n",
       "       'newwave', 'nu', 'nujazz', 'numetal', 'oceania', 'old', 'opera',\n",
       "       'orchestral', 'other', 'piano', 'podcasts', 'pop', 'popdance',\n",
       "       'popelectronic', 'popeurodance', 'poprussian', 'post',\n",
       "       'posthardcore', 'postrock', 'power', 'progmetal', 'progressive',\n",
       "       'psychedelic', 'punjabi', 'punk', 'quebecois', 'ragga', 'ram',\n",
       "       'rancheras', 'rap', 'rave', 'reggae', 'reggaeton', 'regional',\n",
       "       'relax', 'religious', 'retro', 'rhythm', 'rnb', 'rnr', 'rock',\n",
       "       'rockabilly', 'rockalternative', 'rockindie', 'rockother',\n",
       "       'romance', 'roots', 'ruspop', 'rusrap', 'rusrock', 'russian',\n",
       "       'salsa', 'samba', 'scenic', 'schlager', 'self', 'sertanejo',\n",
       "       'shanson', 'shoegazing', 'showtunes', 'singer', 'ska', 'skarock',\n",
       "       'slow', 'smooth', 'soft', 'soul', 'soulful', 'sound', 'soundtrack',\n",
       "       'southern', 'specialty', 'speech', 'spiritual', 'sport',\n",
       "       'stonerrock', 'surf', 'swing', 'synthpop', 'synthrock',\n",
       "       'sängerportrait', 'tango', 'tanzorchester', 'taraftar', 'tatar',\n",
       "       'tech', 'techno', 'teen', 'thrash', 'top', 'traditional',\n",
       "       'tradjazz', 'trance', 'tribal', 'trip', 'triphop', 'tropical',\n",
       "       'türk', 'türkçe', 'ukrrock', 'unknown', 'urban', 'uzbek',\n",
       "       'variété', 'vi', 'videogame', 'vocal', 'western', 'world',\n",
       "       'worldbeat', 'ïîï', 'электроника'], dtype=object)"
      ]
     },
     "execution_count": 14,
     "metadata": {},
     "output_type": "execute_result"
    }
   ],
   "source": [
    "df['genre'] .sort_values().unique() # Просмотр уникальных названий жанров"
   ]
  },
  {
   "cell_type": "markdown",
   "metadata": {
    "id": "qej-Qmuo_Zct"
   },
   "source": [
    "Просмотрите список и найдите неявные дубликаты названия `hiphop`. Это могут быть названия с ошибками или альтернативные названия того же жанра.\n",
    "\n",
    "Вы увидите следующие неявные дубликаты:\n",
    "* *hip*,\n",
    "* *hop*,\n",
    "* *hip-hop*.\n",
    "\n",
    "Чтобы очистить от них таблицу, напишите функцию `replace_wrong_genres()` с двумя параметрами: \n",
    "* `wrong_genres` — список дубликатов,\n",
    "* `correct_genre` — строка с правильным значением.\n",
    "\n",
    "Функция должна исправить колонку `genre` в таблице `df`: заменить каждое значение из списка `wrong_genres` на значение из `correct_genre`."
   ]
  },
  {
   "cell_type": "code",
   "execution_count": 15,
   "metadata": {
    "id": "ErNDkmns_Zct"
   },
   "outputs": [],
   "source": [
    "def replace_wrong_genres(wrong_genres, correct_genre): # Функция для замены неявных дубликатов\n",
    "    for index in wrong_genres:\n",
    "        df['genre'] = df['genre'].replace(index, correct_genre)"
   ]
  },
  {
   "cell_type": "markdown",
   "metadata": {
    "id": "aDoBJxbA_Zct"
   },
   "source": [
    "Вызовите `replace_wrong_genres()` и передайте ей такие аргументы, чтобы она устранила неявные дубликаты: вместо `hip`, `hop` и `hip-hop` в таблице должно быть значение `hiphop`:"
   ]
  },
  {
   "cell_type": "code",
   "execution_count": 16,
   "metadata": {
    "id": "YN5i2hpmSo09"
   },
   "outputs": [],
   "source": [
    "correct_genre = 'hiphop' # Устранение неявных дубликатов\n",
    "wrong_genres = ['hip', 'hop', 'hip-hop']\n",
    "replace_wrong_genres(wrong_genres, correct_genre)"
   ]
  },
  {
   "cell_type": "markdown",
   "metadata": {
    "id": "zQKF16_RG15m"
   },
   "source": [
    "Проверьте, что заменили неправильные названия:\n",
    "\n",
    "*   hip\n",
    "*   hop\n",
    "*   hip-hop\n",
    "\n",
    "Выведите отсортированный список уникальных значений столбца `genre`:"
   ]
  },
  {
   "cell_type": "code",
   "execution_count": 17,
   "metadata": {
    "id": "wvixALnFG15m"
   },
   "outputs": [
    {
     "data": {
      "text/plain": [
       "array(['acid', 'acoustic', 'action', 'adult', 'africa', 'afrikaans',\n",
       "       'alternative', 'alternativepunk', 'ambient', 'americana',\n",
       "       'animated', 'anime', 'arabesk', 'arabic', 'arena',\n",
       "       'argentinetango', 'art', 'audiobook', 'author', 'avantgarde',\n",
       "       'axé', 'baile', 'balkan', 'beats', 'bigroom', 'black', 'bluegrass',\n",
       "       'blues', 'bollywood', 'bossa', 'brazilian', 'breakbeat', 'breaks',\n",
       "       'broadway', 'cantautori', 'cantopop', 'canzone', 'caribbean',\n",
       "       'caucasian', 'celtic', 'chamber', 'chanson', 'children', 'chill',\n",
       "       'chinese', 'choral', 'christian', 'christmas', 'classical',\n",
       "       'classicmetal', 'club', 'colombian', 'comedy', 'conjazz',\n",
       "       'contemporary', 'country', 'cuban', 'dance', 'dancehall',\n",
       "       'dancepop', 'dark', 'death', 'deep', 'deutschrock', 'deutschspr',\n",
       "       'dirty', 'disco', 'dnb', 'documentary', 'downbeat', 'downtempo',\n",
       "       'drum', 'dub', 'dubstep', 'eastern', 'easy', 'electronic',\n",
       "       'electropop', 'emo', 'entehno', 'epicmetal', 'estrada', 'ethnic',\n",
       "       'eurofolk', 'european', 'experimental', 'extrememetal', 'fado',\n",
       "       'fairytail', 'film', 'fitness', 'flamenco', 'folk', 'folklore',\n",
       "       'folkmetal', 'folkrock', 'folktronica', 'forró', 'frankreich',\n",
       "       'französisch', 'french', 'funk', 'future', 'gangsta', 'garage',\n",
       "       'german', 'ghazal', 'gitarre', 'glitch', 'gospel', 'gothic',\n",
       "       'grime', 'grunge', 'gypsy', 'handsup', \"hard'n'heavy\", 'hardcore',\n",
       "       'hardstyle', 'hardtechno', 'hiphop', 'historisch', 'holiday',\n",
       "       'horror', 'house', 'hymn', 'idm', 'independent', 'indian', 'indie',\n",
       "       'indipop', 'industrial', 'inspirational', 'instrumental',\n",
       "       'international', 'irish', 'jam', 'japanese', 'jazz', 'jewish',\n",
       "       'jpop', 'jungle', 'k-pop', 'karadeniz', 'karaoke', 'kayokyoku',\n",
       "       'korean', 'laiko', 'latin', 'latino', 'leftfield', 'local',\n",
       "       'lounge', 'loungeelectronic', 'lovers', 'malaysian', 'mandopop',\n",
       "       'marschmusik', 'meditative', 'mediterranean', 'melodic', 'metal',\n",
       "       'metalcore', 'mexican', 'middle', 'minimal', 'miscellaneous',\n",
       "       'modern', 'mood', 'mpb', 'muslim', 'native', 'neoklassik', 'neue',\n",
       "       'new', 'newage', 'newwave', 'nu', 'nujazz', 'numetal', 'oceania',\n",
       "       'old', 'opera', 'orchestral', 'other', 'piano', 'podcasts', 'pop',\n",
       "       'popdance', 'popelectronic', 'popeurodance', 'poprussian', 'post',\n",
       "       'posthardcore', 'postrock', 'power', 'progmetal', 'progressive',\n",
       "       'psychedelic', 'punjabi', 'punk', 'quebecois', 'ragga', 'ram',\n",
       "       'rancheras', 'rap', 'rave', 'reggae', 'reggaeton', 'regional',\n",
       "       'relax', 'religious', 'retro', 'rhythm', 'rnb', 'rnr', 'rock',\n",
       "       'rockabilly', 'rockalternative', 'rockindie', 'rockother',\n",
       "       'romance', 'roots', 'ruspop', 'rusrap', 'rusrock', 'russian',\n",
       "       'salsa', 'samba', 'scenic', 'schlager', 'self', 'sertanejo',\n",
       "       'shanson', 'shoegazing', 'showtunes', 'singer', 'ska', 'skarock',\n",
       "       'slow', 'smooth', 'soft', 'soul', 'soulful', 'sound', 'soundtrack',\n",
       "       'southern', 'specialty', 'speech', 'spiritual', 'sport',\n",
       "       'stonerrock', 'surf', 'swing', 'synthpop', 'synthrock',\n",
       "       'sängerportrait', 'tango', 'tanzorchester', 'taraftar', 'tatar',\n",
       "       'tech', 'techno', 'teen', 'thrash', 'top', 'traditional',\n",
       "       'tradjazz', 'trance', 'tribal', 'trip', 'triphop', 'tropical',\n",
       "       'türk', 'türkçe', 'ukrrock', 'unknown', 'urban', 'uzbek',\n",
       "       'variété', 'vi', 'videogame', 'vocal', 'western', 'world',\n",
       "       'worldbeat', 'ïîï', 'электроника'], dtype=object)"
      ]
     },
     "execution_count": 17,
     "metadata": {},
     "output_type": "execute_result"
    }
   ],
   "source": [
    "df['genre'] .sort_values().unique() # Проверка на неявные дубликаты"
   ]
  },
  {
   "cell_type": "markdown",
   "metadata": {
    "id": "jz6a9-7HQUDd"
   },
   "source": [
    "**Выводы**\n",
    "\n",
    "Предобработка обнаружила три проблемы в данных:\n",
    "\n",
    "- нарушения в стиле заголовков,\n",
    "- пропущенные значения,\n",
    "- дубликаты — явные и неявные.\n",
    "\n",
    "Вы исправили заголовки, чтобы упростить работу с таблицей. Без дубликатов исследование станет более точным.\n",
    "\n",
    "Пропущенные значения вы заменили на `'unknown'`. Ещё предстоит увидеть, не повредят ли исследованию пропуски в колонке `genre`.\n",
    "\n",
    "Теперь можно перейти к проверке гипотез. "
   ]
  },
  {
   "cell_type": "markdown",
   "metadata": {
    "id": "WttZHXH0SqKk"
   },
   "source": [
    "## Проверка гипотез"
   ]
  },
  {
   "cell_type": "markdown",
   "metadata": {
    "id": "Im936VVi_Zcu"
   },
   "source": [
    "### Сравнение поведения пользователей двух столиц"
   ]
  },
  {
   "cell_type": "markdown",
   "metadata": {
    "id": "nwt_MuaL_Zcu"
   },
   "source": [
    "Первая гипотеза утверждает, что пользователи по-разному слушают музыку в Москве и Санкт-Петербурге. Проверьте это предположение по данным о трёх днях недели — понедельнике, среде и пятнице. Для этого:\n",
    "\n",
    "* Разделите пользователей Москвы и Санкт-Петербурга\n",
    "* Сравните, сколько треков послушала каждая группа пользователей в понедельник, среду и пятницу.\n"
   ]
  },
  {
   "cell_type": "markdown",
   "metadata": {
    "id": "8Dw_YMmT_Zcu"
   },
   "source": [
    "Для тренировки сначала выполните каждый из расчётов по отдельности. \n",
    "\n",
    "Оцените активность пользователей в каждом городе. Сгруппируйте данные по городу и посчитайте прослушивания в каждой группе.\n",
    "\n"
   ]
  },
  {
   "cell_type": "code",
   "execution_count": 18,
   "metadata": {
    "id": "0_Qs96oh_Zcu"
   },
   "outputs": [
    {
     "data": {
      "text/plain": [
       "city\n",
       "Moscow              42741\n",
       "Saint-Petersburg    18512\n",
       "Name: city, dtype: int64"
      ]
     },
     "execution_count": 18,
     "metadata": {},
     "output_type": "execute_result"
    }
   ],
   "source": [
    "df.groupby('city')['city'].count() # Подсчёт прослушиваний в каждом городе"
   ]
  },
  {
   "cell_type": "markdown",
   "metadata": {
    "id": "dzli3w8o_Zcu"
   },
   "source": [
    "В Москве прослушиваний больше, чем в Петербурге. Из этого не следует, что московские пользователи чаще слушают музыку. Просто самих пользователей в Москве больше.\n",
    "\n",
    "Теперь сгруппируйте данные по дню недели и подсчитайте прослушивания в понедельник, среду и пятницу. Учтите, что в данных есть информация о прослушиваниях только за эти дни.\n"
   ]
  },
  {
   "cell_type": "code",
   "execution_count": 19,
   "metadata": {
    "id": "uZMKjiJz_Zcu"
   },
   "outputs": [
    {
     "data": {
      "text/plain": [
       "day\n",
       "Friday       21840\n",
       "Monday       21354\n",
       "Wednesday    18059\n",
       "Name: city, dtype: int64"
      ]
     },
     "execution_count": 19,
     "metadata": {},
     "output_type": "execute_result"
    }
   ],
   "source": [
    "df.groupby('day')['city'].count() # Подсчёт прослушиваний в каждый из трёх дней\n"
   ]
  },
  {
   "cell_type": "markdown",
   "metadata": {
    "id": "cC2tNrlL_Zcu"
   },
   "source": [
    "В среднем пользователи из двух городов менее активны по средам. Но картина может измениться, если рассмотреть каждый город в отдельности."
   ]
  },
  {
   "cell_type": "markdown",
   "metadata": {
    "id": "POzs8bGa_Zcu"
   },
   "source": [
    "Вы видели, как работает группировка по городу и по дням недели. Теперь напишите функцию, которая объединит два эти расчёта.\n",
    "\n",
    "Создайте функцию `number_tracks()`, которая посчитает прослушивания для заданного дня и города. Ей понадобятся два параметра:\n",
    "* день недели,\n",
    "* название города.\n",
    "\n",
    "В функции сохраните в переменную строки исходной таблицы, у которых значение:\n",
    "  * в колонке `day` равно параметру `day`,\n",
    "  * в колонке `city` равно параметру `city`.\n",
    "\n",
    "Для этого примените последовательную фильтрацию с логической индексацией.\n",
    "\n",
    "Затем посчитайте значения в столбце `user_id` получившейся таблицы. Результат сохраните в новую переменную. Верните эту переменную из функции."
   ]
  },
  {
   "cell_type": "code",
   "execution_count": 20,
   "metadata": {
    "id": "Nz3GdQB1_Zcu"
   },
   "outputs": [],
   "source": [
    "def number_tracks(day, city): \n",
    "    track_list = []\n",
    "    track_list = df[df['day'] == day]\n",
    "    track_list = track_list[track_list['city'] == city]\n",
    "    track_list_count = track_list['user_id'].count()\n",
    "    return track_list_count\n",
    "\n",
    "# <создание функции number_tracks()>\n",
    "# Объявляется функция с двумя параметрами: day, city.\n",
    "# В переменной track_list сохраняются те строки таблицы df, для которых \n",
    "# значение в столбце 'day' равно параметру day и одновременно значение\n",
    "# в столбце 'city' равно параметру city (используйте последовательную фильтрацию\n",
    "# с помощью логической индексации).\n",
    "# В переменной track_list_count сохраняется число значений столбца 'user_id',\n",
    "# рассчитанное методом count() для таблицы track_list.\n",
    "# Функция возвращает число - значение track_list_count.\n",
    "\n",
    "# Функция для подсчёта прослушиваний для конкретного города и дня.\n",
    "# С помощью последовательной фильтрации с логической индексацией она \n",
    "# сначала получит из исходной таблицы строки с нужным днём,\n",
    "# затем из результата отфильтрует строки с нужным городом,\n",
    "# методом count() посчитает количество значений в колонке user_id. \n",
    "# Это количество функция вернёт в качестве результата"
   ]
  },
  {
   "cell_type": "markdown",
   "metadata": {
    "id": "ytf7xFrFJQ2r"
   },
   "source": [
    "Вызовите `number_tracks()` шесть раз, меняя значение параметров — так, чтобы получить данные для каждого города в каждый из трёх дней."
   ]
  },
  {
   "cell_type": "code",
   "execution_count": 21,
   "metadata": {
    "id": "rJcRATNQ_Zcu"
   },
   "outputs": [
    {
     "data": {
      "text/plain": [
       "15740"
      ]
     },
     "execution_count": 21,
     "metadata": {},
     "output_type": "execute_result"
    }
   ],
   "source": [
    "number_tracks('Monday', 'Moscow') # количество прослушиваний в Москве по понедельникам"
   ]
  },
  {
   "cell_type": "code",
   "execution_count": 22,
   "metadata": {
    "id": "hq_ncZ5T_Zcu"
   },
   "outputs": [
    {
     "data": {
      "text/plain": [
       "5614"
      ]
     },
     "execution_count": 22,
     "metadata": {},
     "output_type": "execute_result"
    }
   ],
   "source": [
    "number_tracks('Monday', 'Saint-Petersburg') # количество прослушиваний в Санкт-Петербурге по понедельникам"
   ]
  },
  {
   "cell_type": "code",
   "execution_count": 23,
   "metadata": {
    "id": "_NTy2VPU_Zcu"
   },
   "outputs": [
    {
     "data": {
      "text/plain": [
       "11056"
      ]
     },
     "execution_count": 23,
     "metadata": {},
     "output_type": "execute_result"
    }
   ],
   "source": [
    "number_tracks('Wednesday', 'Moscow') # количество прослушиваний в Москве по средам"
   ]
  },
  {
   "cell_type": "code",
   "execution_count": 24,
   "metadata": {
    "id": "j2y3TAwo_Zcu"
   },
   "outputs": [
    {
     "data": {
      "text/plain": [
       "7003"
      ]
     },
     "execution_count": 24,
     "metadata": {},
     "output_type": "execute_result"
    }
   ],
   "source": [
    "number_tracks('Wednesday', 'Saint-Petersburg') # количество прослушиваний в Санкт-Петербурге по средам"
   ]
  },
  {
   "cell_type": "code",
   "execution_count": 25,
   "metadata": {
    "id": "vYDw5u_K_Zcu"
   },
   "outputs": [
    {
     "data": {
      "text/plain": [
       "15945"
      ]
     },
     "execution_count": 25,
     "metadata": {},
     "output_type": "execute_result"
    }
   ],
   "source": [
    "number_tracks('Friday', 'Moscow') # количество прослушиваний в Москве по пятницам"
   ]
  },
  {
   "cell_type": "code",
   "execution_count": 26,
   "metadata": {
    "id": "8_yzFtW3_Zcu"
   },
   "outputs": [
    {
     "data": {
      "text/plain": [
       "5895"
      ]
     },
     "execution_count": 26,
     "metadata": {},
     "output_type": "execute_result"
    }
   ],
   "source": [
    "number_tracks('Friday', 'Saint-Petersburg') # количество прослушиваний в Санкт-Петербурге по пятницам"
   ]
  },
  {
   "cell_type": "markdown",
   "metadata": {
    "id": "7QXffbO-_Zcu"
   },
   "source": [
    "Создайте c помощью конструктора `pd.DataFrame` таблицу, где\n",
    "* названия колонок — `['city', 'monday', 'wednesday', 'friday']`;\n",
    "* данные — результаты, которые вы получили с помощью `number_tracks`."
   ]
  },
  {
   "cell_type": "code",
   "execution_count": 27,
   "metadata": {
    "id": "APAcLpOr_Zcu"
   },
   "outputs": [
    {
     "data": {
      "text/html": [
       "<div>\n",
       "<style scoped>\n",
       "    .dataframe tbody tr th:only-of-type {\n",
       "        vertical-align: middle;\n",
       "    }\n",
       "\n",
       "    .dataframe tbody tr th {\n",
       "        vertical-align: top;\n",
       "    }\n",
       "\n",
       "    .dataframe thead th {\n",
       "        text-align: right;\n",
       "    }\n",
       "</style>\n",
       "<table border=\"1\" class=\"dataframe\">\n",
       "  <thead>\n",
       "    <tr style=\"text-align: right;\">\n",
       "      <th></th>\n",
       "      <th>city</th>\n",
       "      <th>monday</th>\n",
       "      <th>wednesday</th>\n",
       "      <th>friday</th>\n",
       "    </tr>\n",
       "  </thead>\n",
       "  <tbody>\n",
       "    <tr>\n",
       "      <th>0</th>\n",
       "      <td>Moscow</td>\n",
       "      <td>15740</td>\n",
       "      <td>11056</td>\n",
       "      <td>15945</td>\n",
       "    </tr>\n",
       "    <tr>\n",
       "      <th>1</th>\n",
       "      <td>Saint-Petersburg</td>\n",
       "      <td>5614</td>\n",
       "      <td>7003</td>\n",
       "      <td>5895</td>\n",
       "    </tr>\n",
       "  </tbody>\n",
       "</table>\n",
       "</div>"
      ],
      "text/plain": [
       "               city  monday  wednesday  friday\n",
       "0            Moscow   15740      11056   15945\n",
       "1  Saint-Petersburg    5614       7003    5895"
      ]
     },
     "metadata": {},
     "output_type": "display_data"
    }
   ],
   "source": [
    "data = [['Moscow', 15740, 11056, 15945], ['Saint-Petersburg', 5614, 7003, 5895]] # Таблица с результатами\n",
    "columns = ['city', 'monday', 'wednesday', 'friday'] \n",
    "track_in_day = pd.DataFrame(data=data, columns=columns)\n",
    "display(track_in_day)"
   ]
  },
  {
   "cell_type": "markdown",
   "metadata": {
    "id": "-EgPIHYu_Zcu"
   },
   "source": [
    "**Выводы**\n",
    "\n",
    "Данные показывают разницу поведения пользователей:\n",
    "\n",
    "- В Москве пик прослушиваний приходится на понедельник и пятницу, а в среду заметен спад.\n",
    "- В Петербурге, наоборот, больше слушают музыку по средам. Активность в понедельник и пятницу здесь почти в равной мере уступает среде.\n",
    "\n",
    "Значит, данные говорят в пользу первой гипотезы."
   ]
  },
  {
   "cell_type": "markdown",
   "metadata": {
    "id": "atZAxtq4_Zcu"
   },
   "source": [
    "### Музыка в начале и в конце недели"
   ]
  },
  {
   "cell_type": "markdown",
   "metadata": {
    "id": "eXrQqXFH_Zcu"
   },
   "source": [
    "Согласно второй гипотезе, утром в понедельник в Москве преобладают одни жанры, а в Петербурге — другие. Так же и вечером пятницы преобладают разные жанры — в зависимости от города."
   ]
  },
  {
   "cell_type": "markdown",
   "metadata": {
    "id": "S8UcW6Hw_Zcu"
   },
   "source": [
    "Сохраните таблицы с данными в две переменные:\n",
    "* по Москве — в `moscow_general`;\n",
    "* по Санкт-Петербургу — в `spb_general`."
   ]
  },
  {
   "cell_type": "code",
   "execution_count": 28,
   "metadata": {
    "id": "qeaFfM_P_Zcu"
   },
   "outputs": [],
   "source": [
    "moscow_general = df[df['city'] == 'Moscow'] \n",
    "# получение таблицы moscow_general из тех строк таблицы df, \n",
    "# для которых значение в столбце 'city' равно 'Moscow'\n"
   ]
  },
  {
   "cell_type": "code",
   "execution_count": 29,
   "metadata": {
    "id": "ORaVRKto_Zcu"
   },
   "outputs": [],
   "source": [
    "spb_general = df[df['city'] == 'Saint-Petersburg']\n",
    "# получение таблицы spb_general из тех строк таблицы df,\n",
    "# для которых значение в столбце 'city' равно 'Saint-Petersburg'\n"
   ]
  },
  {
   "cell_type": "markdown",
   "metadata": {
    "id": "MEJV-CX2_Zcu"
   },
   "source": [
    "Создайте функцию `genre_weekday()` с четырьмя параметрами:\n",
    "* таблица (датафрейм) с данными,\n",
    "* день недели,\n",
    "* начальная временная метка в формате 'hh:mm', \n",
    "* последняя временная метка в формате 'hh:mm'.\n",
    "\n",
    "Функция должна вернуть информацию о топ-10 жанров тех треков, которые прослушивали в указанный день, в промежутке между двумя отметками времени."
   ]
  },
  {
   "cell_type": "code",
   "execution_count": 30,
   "metadata": {
    "id": "laJT9BYl_Zcu"
   },
   "outputs": [],
   "source": [
    "def genre_weekday(table, day, time1, time2):\n",
    "    genre_df = table[(table['day'] == day) & (table['time'] > time1) & (table['time'] < time2)]\n",
    "    genre_df_count = genre_df.groupby('genre')['genre'].count()\n",
    "    genre_df_sorted = genre_df_count.sort_values(ascending = False)\n",
    "    return genre_df_sorted.head(10)\n",
    "    \n",
    "# Объявление функции genre_weekday() с параметрами table, day, time1, time2,\n",
    "# которая возвращает информацию о самых популярных жанрах в указанный день в\n",
    "# заданное время:\n",
    "# 1) в переменную genre_df сохраняются те строки переданного датафрейма table, для\n",
    "#    которых одновременно:\n",
    "#    - значение в столбце day равно значению аргумента day\n",
    "#    - значение в столбце time больше значения аргумента time1\n",
    "#    - значение в столбце time меньше значения аргумента time2\n",
    "#    Используйте последовательную фильтрацию с помощью логической индексации.\n",
    "# 2) сгруппировать датафрейм genre_df по столбцу genre, взять один из его\n",
    "#    столбцов и посчитать методом count() количество записей для каждого из\n",
    "#    присутствующих жанров, получившийся Series записать в переменную\n",
    "#    genre_df_count\n",
    "# 3) отсортировать genre_df_count по убыванию встречаемости и сохранить\n",
    "#    в переменную genre_df_sorted\n",
    "# 4) вернуть Series из 10 первых значений genre_df_sorted, это будут топ-10\n",
    "#    популярных жанров (в указанный день, в заданное время)"
   ]
  },
  {
   "cell_type": "markdown",
   "metadata": {
    "id": "la2s2_PF_Zcu"
   },
   "source": [
    "Cравните результаты функции `genre_weekday()` для Москвы и Санкт-Петербурга в понедельник утром (с 7:00 до 11:00) и в пятницу вечером (с 17:00 до 23:00):"
   ]
  },
  {
   "cell_type": "code",
   "execution_count": 31,
   "metadata": {
    "id": "yz7itPUQ_Zcu"
   },
   "outputs": [
    {
     "data": {
      "text/plain": [
       "genre\n",
       "pop            781\n",
       "dance          549\n",
       "electronic     480\n",
       "rock           474\n",
       "hiphop         286\n",
       "ruspop         186\n",
       "world          181\n",
       "rusrap         175\n",
       "alternative    164\n",
       "unknown        161\n",
       "Name: genre, dtype: int64"
      ]
     },
     "execution_count": 31,
     "metadata": {},
     "output_type": "execute_result"
    }
   ],
   "source": [
    "genre_weekday(moscow_general, 'Monday', '07:00', '11:00')\n",
    "# вызов функции для утра понедельника в Москве (вместо df — таблица moscow_general)\n",
    "# объекты, хранящие время, являются строками и сравниваются как строки\n",
    "# пример вызова: genre_weekday(moscow_general, 'Monday', '07:00', '11:00')"
   ]
  },
  {
   "cell_type": "code",
   "execution_count": 32,
   "metadata": {
    "id": "kwUcHPdy_Zcu"
   },
   "outputs": [
    {
     "data": {
      "text/plain": [
       "genre\n",
       "pop            218\n",
       "dance          182\n",
       "rock           162\n",
       "electronic     147\n",
       "hiphop          80\n",
       "ruspop          64\n",
       "alternative     58\n",
       "rusrap          55\n",
       "jazz            44\n",
       "classical       40\n",
       "Name: genre, dtype: int64"
      ]
     },
     "execution_count": 32,
     "metadata": {},
     "output_type": "execute_result"
    }
   ],
   "source": [
    "genre_weekday(spb_general, 'Monday', '07:00', '11:00')\n",
    "# вызов функции для утра понедельника в Петербурге (вместо df — таблица spb_general)"
   ]
  },
  {
   "cell_type": "code",
   "execution_count": 33,
   "metadata": {
    "id": "EzXVRE1o_Zcu"
   },
   "outputs": [
    {
     "data": {
      "text/plain": [
       "genre\n",
       "pop            713\n",
       "rock           517\n",
       "dance          495\n",
       "electronic     482\n",
       "hiphop         273\n",
       "world          208\n",
       "ruspop         170\n",
       "alternative    163\n",
       "classical      163\n",
       "rusrap         142\n",
       "Name: genre, dtype: int64"
      ]
     },
     "execution_count": 33,
     "metadata": {},
     "output_type": "execute_result"
    }
   ],
   "source": [
    "genre_weekday(moscow_general, 'Friday', '17:00', '23:00')\n",
    "# вызов функции для вечера пятницы в Москве"
   ]
  },
  {
   "cell_type": "code",
   "execution_count": 34,
   "metadata": {
    "id": "JZaEKu5v_Zcu"
   },
   "outputs": [
    {
     "data": {
      "text/plain": [
       "genre\n",
       "pop            256\n",
       "electronic     216\n",
       "rock           216\n",
       "dance          210\n",
       "hiphop          97\n",
       "alternative     63\n",
       "jazz            61\n",
       "classical       60\n",
       "rusrap          59\n",
       "world           54\n",
       "Name: genre, dtype: int64"
      ]
     },
     "execution_count": 34,
     "metadata": {},
     "output_type": "execute_result"
    }
   ],
   "source": [
    "genre_weekday(spb_general, 'Friday', '17:00', '23:00')\n",
    "# вызов функции для вечера пятницы в Петербурге"
   ]
  },
  {
   "cell_type": "markdown",
   "metadata": {
    "id": "wrCe4MNX_Zcu"
   },
   "source": [
    "**Выводы**\n",
    "\n",
    "Если сравнить топ-10 жанров в понедельник утром, можно сделать такие выводы:\n",
    "\n",
    "1. В Москве и Петербурге слушают похожую музыку. Единственное отличие — в московский рейтинг вошёл жанр “world”, а в петербургский — джаз и классика.\n",
    "\n",
    "2. В Москве пропущенных значений оказалось так много, что значение `'unknown'` заняло десятое место среди самых популярных жанров. Значит, пропущенные значения занимают существенную долю в данных и угрожают достоверности исследования.\n",
    "\n",
    "Вечер пятницы не меняет эту картину. Некоторые жанры поднимаются немного выше, другие спускаются, но в целом топ-10 остаётся тем же самым.\n",
    "\n",
    "Таким образом, вторая гипотеза подтвердилась лишь частично:\n",
    "* Пользователи слушают похожую музыку в начале недели и в конце.\n",
    "* Разница между Москвой и Петербургом не слишком выражена. В Москве чаще слушают русскую популярную музыку, в Петербурге — джаз.\n",
    "\n",
    "Однако пропуски в данных ставят под сомнение этот результат. В Москве их так много, что рейтинг топ-10 мог бы выглядеть иначе, если бы не утерянные  данные о жанрах."
   ]
  },
  {
   "cell_type": "markdown",
   "metadata": {
    "id": "JolODAqr_Zcu"
   },
   "source": [
    "### Жанровые предпочтения в Москве и Петербурге\n",
    "\n",
    "Гипотеза: Петербург — столица рэпа, музыку этого жанра там слушают чаще, чем в Москве.  А Москва — город контрастов, в котором, тем не менее, преобладает поп-музыка."
   ]
  },
  {
   "cell_type": "markdown",
   "metadata": {
    "id": "DlegSvaT_Zcu"
   },
   "source": [
    "Сгруппируйте таблицу `moscow_general` по жанру и посчитайте прослушивания треков каждого жанра методом `count()`. Затем отсортируйте результат в порядке убывания и сохраните его в таблице `moscow_genres`."
   ]
  },
  {
   "cell_type": "code",
   "execution_count": 35,
   "metadata": {
    "id": "r19lIPke_Zcu"
   },
   "outputs": [],
   "source": [
    "moscow_genres = moscow_general.groupby('genre')['genre'].count().sort_values(ascending = False)\n",
    "# одной строкой: группировка таблицы moscow_general по столбцу 'genre', \n",
    "# подсчёт числа значений 'genre' в этой группировке методом count(), \n",
    "# сортировка получившегося Series в порядке убывания и сохранение в moscow_genres"
   ]
  },
  {
   "cell_type": "markdown",
   "metadata": {
    "id": "6kMuomxTiIr8"
   },
   "source": [
    "Выведите на экран первые десять строк `moscow_genres`:"
   ]
  },
  {
   "cell_type": "code",
   "execution_count": 36,
   "metadata": {
    "id": "WhCSooF8_Zcv"
   },
   "outputs": [
    {
     "data": {
      "text/plain": [
       "genre\n",
       "pop            5892\n",
       "dance          4435\n",
       "rock           3965\n",
       "electronic     3786\n",
       "hiphop         2096\n",
       "classical      1616\n",
       "world          1432\n",
       "alternative    1379\n",
       "ruspop         1372\n",
       "rusrap         1161\n",
       "Name: genre, dtype: int64"
      ]
     },
     "execution_count": 36,
     "metadata": {},
     "output_type": "execute_result"
    }
   ],
   "source": [
    "moscow_genres.head(10)\n",
    "# просмотр первых 10 строк moscow_genres"
   ]
  },
  {
   "cell_type": "markdown",
   "metadata": {
    "id": "cnPG2vnN_Zcv"
   },
   "source": [
    "Теперь повторите то же и для Петербурга.\n",
    "\n",
    "Сгруппируйте таблицу `spb_general` по жанру. Посчитайте прослушивания треков каждого жанра. Результат отсортируйте в порядке убывания и сохраните в таблице `spb_genres`:\n"
   ]
  },
  {
   "cell_type": "code",
   "execution_count": 37,
   "metadata": {
    "id": "gluLIpE7_Zcv"
   },
   "outputs": [],
   "source": [
    "spb_genres = spb_general.groupby('genre')['genre'].count().sort_values(ascending = False)\n",
    "# одной строкой: группировка таблицы spb_general по столбцу 'genre', \n",
    "# подсчёт числа значений 'genre' в этой группировке методом count(), \n",
    "# сортировка получившегося Series в порядке убывания и сохранение в spb_genres"
   ]
  },
  {
   "cell_type": "markdown",
   "metadata": {
    "id": "5Doha_ODgyQ8"
   },
   "source": [
    "Выведите на экран первые десять строк `spb_genres`:"
   ]
  },
  {
   "cell_type": "code",
   "execution_count": 38,
   "metadata": {
    "id": "uaGJHjVU_Zcv"
   },
   "outputs": [
    {
     "data": {
      "text/plain": [
       "genre\n",
       "pop            2431\n",
       "dance          1932\n",
       "rock           1879\n",
       "electronic     1736\n",
       "hiphop          960\n",
       "alternative     649\n",
       "classical       646\n",
       "rusrap          564\n",
       "ruspop          538\n",
       "world           515\n",
       "Name: genre, dtype: int64"
      ]
     },
     "execution_count": 38,
     "metadata": {},
     "output_type": "execute_result"
    }
   ],
   "source": [
    "spb_genres.head(10)\n",
    "# просмотр первых 10 строк spb_genres"
   ]
  },
  {
   "cell_type": "markdown",
   "metadata": {
    "id": "RY51YJYu_Zcv"
   },
   "source": [
    "**Выводы**"
   ]
  },
  {
   "cell_type": "markdown",
   "metadata": {
    "id": "nVhnJEm__Zcv"
   },
   "source": [
    "Гипотеза частично подтвердилась:\n",
    "* Поп-музыка — самый популярный жанр в Москве, как и предполагала гипотеза. Более того, в топ-10 жанров встречается близкий жанр — русская популярная музыка.\n",
    "* Вопреки ожиданиям, рэп одинаково популярен в Москве и Петербурге. \n"
   ]
  },
  {
   "cell_type": "markdown",
   "metadata": {
    "id": "ykKQ0N65_Zcv"
   },
   "source": [
    "## Итоги исследования"
   ]
  },
  {
   "cell_type": "markdown",
   "metadata": {
    "id": "tjUwbHb3_Zcv"
   },
   "source": [
    "Вы проверили три гипотезы и установили:\n",
    "\n",
    "1. День недели по-разному влияет на активность пользователей в Москве и Петербурге. \n",
    "\n",
    "Первая гипотеза полностью подтвердилась.\n",
    "\n",
    "2. Музыкальные предпочтения не сильно меняются в течение недели — будь то Москва или Петербург. Небольшие различия заметны в начале недели, по понедельникам:\n",
    "* в Москве слушают музыку жанра “world”,\n",
    "* в Петербурге — джаз и классику.\n",
    "\n",
    "Таким образом, вторая гипотеза подтвердилась лишь отчасти. Этот результат мог оказаться иным, если бы не пропуски в данных.\n",
    "\n",
    "3. Во вкусах пользователей Москвы и Петербурга больше общего чем различий. Вопреки ожиданиям, предпочтения жанров в Петербурге напоминают московские.\n",
    "\n",
    "Третья гипотеза не подтвердилась. Если различия в предпочтениях и существуют, на основной массе пользователей они незаметны.\n",
    "\n",
    "**На практике исследования содержат проверки статистических гипотез.**\n",
    "Из данных одного сервиса не всегда можно сделать вывод о всех жителях города.\n",
    "Проверки статистических гипотез покажут, насколько они достоверны, исходя из имеющихся данных. \n",
    "С методами проверок гипотез вы ещё познакомитесь в следующих темах."
   ]
  }
 ],
 "metadata": {
  "ExecuteTimeLog": [
   {
    "duration": 48,
    "start_time": "2022-04-28T14:21:17.986Z"
   },
   {
    "duration": 5,
    "start_time": "2022-04-28T14:21:51.545Z"
   },
   {
    "duration": 5,
    "start_time": "2022-04-28T14:29:00.928Z"
   },
   {
    "duration": 6,
    "start_time": "2022-04-28T14:29:04.959Z"
   },
   {
    "duration": 5,
    "start_time": "2022-04-28T14:30:52.982Z"
   },
   {
    "duration": 5,
    "start_time": "2022-04-28T14:30:57.269Z"
   },
   {
    "duration": 7,
    "start_time": "2022-04-28T14:31:00.330Z"
   },
   {
    "duration": 7,
    "start_time": "2022-04-28T14:32:01.253Z"
   },
   {
    "duration": 388,
    "start_time": "2022-04-28T14:32:42.089Z"
   },
   {
    "duration": 649,
    "start_time": "2022-04-28T14:32:45.024Z"
   },
   {
    "duration": 16,
    "start_time": "2022-04-28T14:32:48.113Z"
   },
   {
    "duration": 13,
    "start_time": "2022-04-28T14:35:18.756Z"
   },
   {
    "duration": 10,
    "start_time": "2022-04-28T14:36:03.408Z"
   },
   {
    "duration": 28,
    "start_time": "2022-04-28T14:37:22.514Z"
   },
   {
    "duration": 430,
    "start_time": "2022-04-29T14:29:09.714Z"
   },
   {
    "duration": 230,
    "start_time": "2022-04-29T14:29:11.550Z"
   },
   {
    "duration": 33,
    "start_time": "2022-04-29T14:29:22.309Z"
   },
   {
    "duration": 67,
    "start_time": "2022-04-29T14:33:32.401Z"
   },
   {
    "duration": 11,
    "start_time": "2022-04-29T14:35:40.102Z"
   },
   {
    "duration": 8,
    "start_time": "2022-04-29T14:35:53.887Z"
   },
   {
    "duration": 9,
    "start_time": "2022-04-29T14:37:06.027Z"
   },
   {
    "duration": 78,
    "start_time": "2022-04-29T14:38:42.973Z"
   },
   {
    "duration": 11,
    "start_time": "2022-04-29T14:38:55.020Z"
   },
   {
    "duration": 5,
    "start_time": "2022-04-29T14:39:11.177Z"
   },
   {
    "duration": 34,
    "start_time": "2022-04-29T14:50:32.498Z"
   },
   {
    "duration": 27,
    "start_time": "2022-04-29T14:50:43.964Z"
   },
   {
    "duration": 104,
    "start_time": "2022-04-29T14:57:07.388Z"
   },
   {
    "duration": 8,
    "start_time": "2022-04-29T14:57:13.593Z"
   },
   {
    "duration": 88,
    "start_time": "2022-04-29T14:57:21.118Z"
   },
   {
    "duration": 7,
    "start_time": "2022-04-29T14:57:25.232Z"
   },
   {
    "duration": 7,
    "start_time": "2022-04-29T14:58:00.605Z"
   },
   {
    "duration": 12,
    "start_time": "2022-04-29T15:05:17.159Z"
   },
   {
    "duration": 13,
    "start_time": "2022-04-29T15:05:36.943Z"
   },
   {
    "duration": 14,
    "start_time": "2022-04-29T15:06:27.478Z"
   },
   {
    "duration": 7,
    "start_time": "2022-04-29T15:07:22.737Z"
   },
   {
    "duration": 12,
    "start_time": "2022-04-29T15:10:00.446Z"
   },
   {
    "duration": 12,
    "start_time": "2022-04-29T15:10:41.783Z"
   },
   {
    "duration": 28,
    "start_time": "2022-04-29T15:12:01.337Z"
   },
   {
    "duration": 16,
    "start_time": "2022-04-29T15:28:43.404Z"
   },
   {
    "duration": 26,
    "start_time": "2022-04-29T15:29:24.268Z"
   },
   {
    "duration": 16,
    "start_time": "2022-04-29T15:30:00.936Z"
   },
   {
    "duration": 33,
    "start_time": "2022-04-29T15:30:09.552Z"
   },
   {
    "duration": 26,
    "start_time": "2022-04-29T15:30:17.165Z"
   },
   {
    "duration": 19,
    "start_time": "2022-04-29T15:32:42.065Z"
   },
   {
    "duration": 25,
    "start_time": "2022-04-29T15:32:43.648Z"
   },
   {
    "duration": 16,
    "start_time": "2022-04-29T15:32:54.580Z"
   },
   {
    "duration": 25,
    "start_time": "2022-04-29T15:32:56.140Z"
   },
   {
    "duration": 21,
    "start_time": "2022-04-29T15:35:06.803Z"
   },
   {
    "duration": 26,
    "start_time": "2022-04-29T15:35:08.627Z"
   },
   {
    "duration": 67,
    "start_time": "2022-04-29T15:43:55.210Z"
   },
   {
    "duration": 103,
    "start_time": "2022-04-29T15:45:52.808Z"
   },
   {
    "duration": 77,
    "start_time": "2022-04-29T15:47:10.296Z"
   },
   {
    "duration": 60,
    "start_time": "2022-04-29T15:47:26.261Z"
   },
   {
    "duration": 1929,
    "start_time": "2022-04-29T15:55:18.027Z"
   },
   {
    "duration": 8,
    "start_time": "2022-04-29T15:55:42.454Z"
   },
   {
    "duration": 7,
    "start_time": "2022-04-29T15:57:03.107Z"
   },
   {
    "duration": 7,
    "start_time": "2022-04-29T15:57:08.622Z"
   },
   {
    "duration": 8,
    "start_time": "2022-04-29T15:59:10.086Z"
   },
   {
    "duration": 10,
    "start_time": "2022-04-29T16:00:24.542Z"
   },
   {
    "duration": 10,
    "start_time": "2022-04-29T16:00:30.742Z"
   },
   {
    "duration": 42,
    "start_time": "2022-04-29T16:00:40.872Z"
   },
   {
    "duration": 377,
    "start_time": "2022-04-29T23:46:09.208Z"
   },
   {
    "duration": 346,
    "start_time": "2022-04-29T23:46:10.563Z"
   },
   {
    "duration": 17,
    "start_time": "2022-04-29T23:46:12.422Z"
   },
   {
    "duration": 29,
    "start_time": "2022-04-29T23:46:16.162Z"
   },
   {
    "duration": 4,
    "start_time": "2022-04-29T23:46:23.310Z"
   },
   {
    "duration": 11,
    "start_time": "2022-04-29T23:46:29.098Z"
   },
   {
    "duration": 4,
    "start_time": "2022-04-29T23:46:54.653Z"
   },
   {
    "duration": 29,
    "start_time": "2022-04-29T23:47:23.148Z"
   },
   {
    "duration": 32,
    "start_time": "2022-04-29T23:47:31.689Z"
   },
   {
    "duration": 25,
    "start_time": "2022-04-29T23:47:38.821Z"
   },
   {
    "duration": 20,
    "start_time": "2022-04-29T23:47:46.890Z"
   },
   {
    "duration": 24,
    "start_time": "2022-04-29T23:47:48.731Z"
   },
   {
    "duration": 65,
    "start_time": "2022-04-29T23:47:53.876Z"
   },
   {
    "duration": 78,
    "start_time": "2022-04-29T23:47:56.451Z"
   },
   {
    "duration": 58,
    "start_time": "2022-04-29T23:47:58.211Z"
   },
   {
    "duration": 39,
    "start_time": "2022-04-29T23:48:05.531Z"
   },
   {
    "duration": 115,
    "start_time": "2022-04-29T23:48:09.323Z"
   },
   {
    "duration": 413,
    "start_time": "2022-04-30T20:40:05.743Z"
   },
   {
    "duration": 689,
    "start_time": "2022-04-30T20:40:06.790Z"
   },
   {
    "duration": 19,
    "start_time": "2022-04-30T20:40:08.214Z"
   },
   {
    "duration": 29,
    "start_time": "2022-04-30T20:40:11.720Z"
   },
   {
    "duration": 4,
    "start_time": "2022-04-30T20:40:16.664Z"
   },
   {
    "duration": 10,
    "start_time": "2022-04-30T20:40:19.943Z"
   },
   {
    "duration": 6,
    "start_time": "2022-04-30T20:40:22.922Z"
   },
   {
    "duration": 24,
    "start_time": "2022-04-30T20:40:24.323Z"
   },
   {
    "duration": 30,
    "start_time": "2022-04-30T20:40:28.589Z"
   },
   {
    "duration": 25,
    "start_time": "2022-04-30T20:40:30.336Z"
   },
   {
    "duration": 107,
    "start_time": "2022-04-30T20:40:34.018Z"
   },
   {
    "duration": 135,
    "start_time": "2022-04-30T20:40:35.190Z"
   },
   {
    "duration": 102,
    "start_time": "2022-04-30T20:40:36.189Z"
   },
   {
    "duration": 81,
    "start_time": "2022-04-30T20:40:39.580Z"
   },
   {
    "duration": 3,
    "start_time": "2022-04-30T20:50:28.667Z"
   },
   {
    "duration": 8,
    "start_time": "2022-04-30T20:54:40.934Z"
   },
   {
    "duration": 38,
    "start_time": "2022-04-30T20:55:03.347Z"
   },
   {
    "duration": 39,
    "start_time": "2022-04-30T21:50:34.996Z"
   },
   {
    "duration": 51,
    "start_time": "2022-05-01T12:51:47.118Z"
   },
   {
    "duration": 7,
    "start_time": "2022-05-01T12:51:58.966Z"
   },
   {
    "duration": 6,
    "start_time": "2022-05-01T12:58:00.363Z"
   },
   {
    "duration": 424,
    "start_time": "2022-05-01T12:58:52.200Z"
   },
   {
    "duration": 180,
    "start_time": "2022-05-01T12:58:52.625Z"
   },
   {
    "duration": 18,
    "start_time": "2022-05-01T12:58:52.807Z"
   },
   {
    "duration": 40,
    "start_time": "2022-05-01T12:58:52.827Z"
   },
   {
    "duration": 5,
    "start_time": "2022-05-01T12:58:52.868Z"
   },
   {
    "duration": 36,
    "start_time": "2022-05-01T12:58:52.874Z"
   },
   {
    "duration": 5,
    "start_time": "2022-05-01T12:58:52.912Z"
   },
   {
    "duration": 32,
    "start_time": "2022-05-01T12:58:52.919Z"
   },
   {
    "duration": 24,
    "start_time": "2022-05-01T12:58:52.953Z"
   },
   {
    "duration": 54,
    "start_time": "2022-05-01T12:58:52.980Z"
   },
   {
    "duration": 74,
    "start_time": "2022-05-01T12:58:53.035Z"
   },
   {
    "duration": 78,
    "start_time": "2022-05-01T12:58:53.111Z"
   },
   {
    "duration": 73,
    "start_time": "2022-05-01T12:58:53.191Z"
   },
   {
    "duration": 56,
    "start_time": "2022-05-01T12:58:53.265Z"
   },
   {
    "duration": 3,
    "start_time": "2022-05-01T12:58:53.323Z"
   },
   {
    "duration": 12,
    "start_time": "2022-05-01T12:58:53.327Z"
   },
   {
    "duration": 44,
    "start_time": "2022-05-01T12:58:53.341Z"
   },
   {
    "duration": 30,
    "start_time": "2022-05-01T12:58:53.387Z"
   },
   {
    "duration": 3,
    "start_time": "2022-05-01T12:58:53.418Z"
   },
   {
    "duration": 5,
    "start_time": "2022-05-01T12:58:53.422Z"
   },
   {
    "duration": 8,
    "start_time": "2022-05-01T12:58:53.428Z"
   },
   {
    "duration": 4,
    "start_time": "2022-05-01T12:58:53.437Z"
   },
   {
    "duration": 4,
    "start_time": "2022-05-01T12:58:53.442Z"
   },
   {
    "duration": 6,
    "start_time": "2022-05-01T12:58:53.447Z"
   },
   {
    "duration": 4,
    "start_time": "2022-05-01T12:58:53.454Z"
   },
   {
    "duration": 6,
    "start_time": "2022-05-01T12:58:53.460Z"
   },
   {
    "duration": 4,
    "start_time": "2022-05-01T12:58:53.467Z"
   },
   {
    "duration": 33,
    "start_time": "2022-05-01T12:58:53.474Z"
   },
   {
    "duration": 4,
    "start_time": "2022-05-01T12:58:53.509Z"
   },
   {
    "duration": 4,
    "start_time": "2022-05-01T12:58:53.515Z"
   },
   {
    "duration": 5,
    "start_time": "2022-05-01T12:58:53.521Z"
   },
   {
    "duration": 4,
    "start_time": "2022-05-01T12:58:53.527Z"
   },
   {
    "duration": 6,
    "start_time": "2022-05-01T12:58:53.532Z"
   },
   {
    "duration": 3,
    "start_time": "2022-05-01T12:58:53.540Z"
   },
   {
    "duration": 5,
    "start_time": "2022-05-01T12:58:53.544Z"
   },
   {
    "duration": 4,
    "start_time": "2022-05-01T12:58:53.550Z"
   },
   {
    "duration": 12,
    "start_time": "2022-05-01T12:58:53.556Z"
   },
   {
    "duration": 4,
    "start_time": "2022-05-01T12:58:53.570Z"
   },
   {
    "duration": 35,
    "start_time": "2022-05-01T13:06:24.733Z"
   },
   {
    "duration": 13,
    "start_time": "2022-05-01T13:06:44.457Z"
   },
   {
    "duration": 10,
    "start_time": "2022-05-01T13:06:58.128Z"
   },
   {
    "duration": 11,
    "start_time": "2022-05-01T13:10:41.814Z"
   },
   {
    "duration": 10,
    "start_time": "2022-05-01T13:18:20.950Z"
   },
   {
    "duration": 10,
    "start_time": "2022-05-01T13:18:24.554Z"
   },
   {
    "duration": 10,
    "start_time": "2022-05-01T13:20:50.993Z"
   },
   {
    "duration": 19,
    "start_time": "2022-05-01T13:20:53.649Z"
   },
   {
    "duration": 10,
    "start_time": "2022-05-01T13:20:55.477Z"
   },
   {
    "duration": 10,
    "start_time": "2022-05-01T13:21:18.621Z"
   },
   {
    "duration": 12,
    "start_time": "2022-05-01T13:21:26.172Z"
   },
   {
    "duration": 2,
    "start_time": "2022-05-01T13:23:26.613Z"
   },
   {
    "duration": 183,
    "start_time": "2022-05-01T13:23:26.617Z"
   },
   {
    "duration": 11,
    "start_time": "2022-05-01T13:23:26.801Z"
   },
   {
    "duration": 39,
    "start_time": "2022-05-01T13:23:26.814Z"
   },
   {
    "duration": 4,
    "start_time": "2022-05-01T13:23:26.855Z"
   },
   {
    "duration": 14,
    "start_time": "2022-05-01T13:23:26.861Z"
   },
   {
    "duration": 32,
    "start_time": "2022-05-01T13:23:26.877Z"
   },
   {
    "duration": 36,
    "start_time": "2022-05-01T13:23:26.910Z"
   },
   {
    "duration": 21,
    "start_time": "2022-05-01T13:23:26.948Z"
   },
   {
    "duration": 49,
    "start_time": "2022-05-01T13:23:26.971Z"
   },
   {
    "duration": 68,
    "start_time": "2022-05-01T13:23:27.023Z"
   },
   {
    "duration": 82,
    "start_time": "2022-05-01T13:23:27.092Z"
   },
   {
    "duration": 74,
    "start_time": "2022-05-01T13:23:27.175Z"
   },
   {
    "duration": 42,
    "start_time": "2022-05-01T13:23:27.250Z"
   },
   {
    "duration": 13,
    "start_time": "2022-05-01T13:23:27.294Z"
   },
   {
    "duration": 10,
    "start_time": "2022-05-01T13:23:27.309Z"
   },
   {
    "duration": 41,
    "start_time": "2022-05-01T13:23:27.321Z"
   },
   {
    "duration": 13,
    "start_time": "2022-05-01T13:23:27.363Z"
   },
   {
    "duration": 31,
    "start_time": "2022-05-01T13:23:27.377Z"
   },
   {
    "duration": 0,
    "start_time": "2022-05-01T13:23:27.410Z"
   },
   {
    "duration": 0,
    "start_time": "2022-05-01T13:23:27.411Z"
   },
   {
    "duration": 0,
    "start_time": "2022-05-01T13:23:27.413Z"
   },
   {
    "duration": 0,
    "start_time": "2022-05-01T13:23:27.414Z"
   },
   {
    "duration": 0,
    "start_time": "2022-05-01T13:23:27.415Z"
   },
   {
    "duration": 0,
    "start_time": "2022-05-01T13:23:27.416Z"
   },
   {
    "duration": 0,
    "start_time": "2022-05-01T13:23:27.417Z"
   },
   {
    "duration": 0,
    "start_time": "2022-05-01T13:23:27.418Z"
   },
   {
    "duration": 0,
    "start_time": "2022-05-01T13:23:27.419Z"
   },
   {
    "duration": 0,
    "start_time": "2022-05-01T13:23:27.420Z"
   },
   {
    "duration": 0,
    "start_time": "2022-05-01T13:23:27.421Z"
   },
   {
    "duration": 0,
    "start_time": "2022-05-01T13:23:27.422Z"
   },
   {
    "duration": 0,
    "start_time": "2022-05-01T13:23:27.423Z"
   },
   {
    "duration": 0,
    "start_time": "2022-05-01T13:23:27.424Z"
   },
   {
    "duration": 0,
    "start_time": "2022-05-01T13:23:27.425Z"
   },
   {
    "duration": 0,
    "start_time": "2022-05-01T13:23:27.426Z"
   },
   {
    "duration": 0,
    "start_time": "2022-05-01T13:23:27.427Z"
   },
   {
    "duration": 0,
    "start_time": "2022-05-01T13:23:27.428Z"
   },
   {
    "duration": 0,
    "start_time": "2022-05-01T13:23:27.429Z"
   },
   {
    "duration": 11,
    "start_time": "2022-05-01T13:24:52.497Z"
   },
   {
    "duration": 11,
    "start_time": "2022-05-01T13:25:24.624Z"
   },
   {
    "duration": 75,
    "start_time": "2022-05-01T13:25:42.727Z"
   },
   {
    "duration": 7,
    "start_time": "2022-05-01T13:25:46.579Z"
   },
   {
    "duration": 9,
    "start_time": "2022-05-01T13:26:03.180Z"
   },
   {
    "duration": 11,
    "start_time": "2022-05-01T13:26:19.200Z"
   },
   {
    "duration": 83,
    "start_time": "2022-05-01T13:29:23.251Z"
   },
   {
    "duration": 7,
    "start_time": "2022-05-01T13:29:32.546Z"
   },
   {
    "duration": 8,
    "start_time": "2022-05-01T13:29:56.358Z"
   },
   {
    "duration": 7,
    "start_time": "2022-05-01T13:31:21.634Z"
   },
   {
    "duration": 87,
    "start_time": "2022-05-01T13:31:33.421Z"
   },
   {
    "duration": 10,
    "start_time": "2022-05-01T13:31:39.608Z"
   },
   {
    "duration": 8,
    "start_time": "2022-05-01T13:41:49.055Z"
   },
   {
    "duration": 9,
    "start_time": "2022-05-01T13:42:14.923Z"
   },
   {
    "duration": 39,
    "start_time": "2022-05-01T13:43:40.970Z"
   },
   {
    "duration": 13,
    "start_time": "2022-05-01T13:44:05.706Z"
   },
   {
    "duration": 8,
    "start_time": "2022-05-01T13:44:35.529Z"
   },
   {
    "duration": 7,
    "start_time": "2022-05-01T13:44:44.356Z"
   },
   {
    "duration": 7,
    "start_time": "2022-05-01T13:44:54.874Z"
   },
   {
    "duration": 12,
    "start_time": "2022-05-01T13:45:06.177Z"
   },
   {
    "duration": 43,
    "start_time": "2022-05-01T13:45:27.676Z"
   },
   {
    "duration": 5,
    "start_time": "2022-05-01T13:59:25.958Z"
   },
   {
    "duration": 17,
    "start_time": "2022-05-01T14:05:15.477Z"
   },
   {
    "duration": 4,
    "start_time": "2022-05-01T14:05:28.059Z"
   },
   {
    "duration": 24,
    "start_time": "2022-05-01T14:05:30.426Z"
   },
   {
    "duration": 22,
    "start_time": "2022-05-01T14:08:54.161Z"
   },
   {
    "duration": 22,
    "start_time": "2022-05-01T14:10:56.878Z"
   },
   {
    "duration": 25,
    "start_time": "2022-05-01T14:10:57.540Z"
   },
   {
    "duration": 21,
    "start_time": "2022-05-01T14:10:58.168Z"
   },
   {
    "duration": 25,
    "start_time": "2022-05-01T14:10:58.856Z"
   },
   {
    "duration": 22,
    "start_time": "2022-05-01T14:10:59.542Z"
   },
   {
    "duration": 3,
    "start_time": "2022-05-01T14:11:15.606Z"
   },
   {
    "duration": 183,
    "start_time": "2022-05-01T14:11:15.611Z"
   },
   {
    "duration": 17,
    "start_time": "2022-05-01T14:11:15.796Z"
   },
   {
    "duration": 43,
    "start_time": "2022-05-01T14:11:15.815Z"
   },
   {
    "duration": 4,
    "start_time": "2022-05-01T14:11:15.860Z"
   },
   {
    "duration": 12,
    "start_time": "2022-05-01T14:11:15.866Z"
   },
   {
    "duration": 29,
    "start_time": "2022-05-01T14:11:15.879Z"
   },
   {
    "duration": 36,
    "start_time": "2022-05-01T14:11:15.910Z"
   },
   {
    "duration": 23,
    "start_time": "2022-05-01T14:11:15.947Z"
   },
   {
    "duration": 55,
    "start_time": "2022-05-01T14:11:15.972Z"
   },
   {
    "duration": 80,
    "start_time": "2022-05-01T14:11:16.030Z"
   },
   {
    "duration": 76,
    "start_time": "2022-05-01T14:11:16.112Z"
   },
   {
    "duration": 74,
    "start_time": "2022-05-01T14:11:16.190Z"
   },
   {
    "duration": 60,
    "start_time": "2022-05-01T14:11:16.266Z"
   },
   {
    "duration": 4,
    "start_time": "2022-05-01T14:11:16.327Z"
   },
   {
    "duration": 12,
    "start_time": "2022-05-01T14:11:16.332Z"
   },
   {
    "duration": 63,
    "start_time": "2022-05-01T14:11:16.345Z"
   },
   {
    "duration": 13,
    "start_time": "2022-05-01T14:11:16.410Z"
   },
   {
    "duration": 43,
    "start_time": "2022-05-01T14:11:16.425Z"
   },
   {
    "duration": 4,
    "start_time": "2022-05-01T14:11:16.469Z"
   },
   {
    "duration": 54,
    "start_time": "2022-05-01T14:11:16.475Z"
   },
   {
    "duration": 21,
    "start_time": "2022-05-01T14:11:16.531Z"
   },
   {
    "duration": 23,
    "start_time": "2022-05-01T14:11:16.554Z"
   },
   {
    "duration": 44,
    "start_time": "2022-05-01T14:11:16.579Z"
   },
   {
    "duration": 25,
    "start_time": "2022-05-01T14:11:16.624Z"
   },
   {
    "duration": 21,
    "start_time": "2022-05-01T14:11:16.651Z"
   },
   {
    "duration": 2,
    "start_time": "2022-05-01T14:11:16.674Z"
   },
   {
    "duration": 30,
    "start_time": "2022-05-01T14:11:16.678Z"
   },
   {
    "duration": 6,
    "start_time": "2022-05-01T14:11:16.712Z"
   },
   {
    "duration": 4,
    "start_time": "2022-05-01T14:11:16.720Z"
   },
   {
    "duration": 7,
    "start_time": "2022-05-01T14:11:16.726Z"
   },
   {
    "duration": 5,
    "start_time": "2022-05-01T14:11:16.734Z"
   },
   {
    "duration": 7,
    "start_time": "2022-05-01T14:11:16.740Z"
   },
   {
    "duration": 4,
    "start_time": "2022-05-01T14:11:16.749Z"
   },
   {
    "duration": 4,
    "start_time": "2022-05-01T14:11:16.755Z"
   },
   {
    "duration": 6,
    "start_time": "2022-05-01T14:11:16.761Z"
   },
   {
    "duration": 6,
    "start_time": "2022-05-01T14:11:16.768Z"
   },
   {
    "duration": 33,
    "start_time": "2022-05-01T14:11:16.775Z"
   },
   {
    "duration": 11,
    "start_time": "2022-05-01T14:13:57.631Z"
   },
   {
    "duration": 10,
    "start_time": "2022-05-01T14:14:38.152Z"
   },
   {
    "duration": 41,
    "start_time": "2022-05-01T14:14:42.607Z"
   },
   {
    "duration": 95,
    "start_time": "2022-05-01T14:16:01.715Z"
   },
   {
    "duration": 10,
    "start_time": "2022-05-01T14:16:06.762Z"
   },
   {
    "duration": 9,
    "start_time": "2022-05-01T14:16:12.524Z"
   },
   {
    "duration": 10,
    "start_time": "2022-05-01T14:16:45.354Z"
   },
   {
    "duration": 200,
    "start_time": "2022-05-01T14:16:52.270Z"
   },
   {
    "duration": 14,
    "start_time": "2022-05-01T14:18:35.595Z"
   },
   {
    "duration": 13,
    "start_time": "2022-05-01T14:20:31.474Z"
   },
   {
    "duration": 33,
    "start_time": "2022-05-01T14:24:12.908Z"
   },
   {
    "duration": 23,
    "start_time": "2022-05-01T14:24:13.415Z"
   },
   {
    "duration": 35,
    "start_time": "2022-05-01T14:24:13.840Z"
   },
   {
    "duration": 21,
    "start_time": "2022-05-01T14:24:14.374Z"
   },
   {
    "duration": 42,
    "start_time": "2022-05-01T14:24:16.636Z"
   },
   {
    "duration": 22,
    "start_time": "2022-05-01T14:24:16.928Z"
   },
   {
    "duration": 4,
    "start_time": "2022-05-01T14:30:31.127Z"
   },
   {
    "duration": 19,
    "start_time": "2022-05-01T14:30:32.117Z"
   },
   {
    "duration": 17,
    "start_time": "2022-05-01T14:30:33.074Z"
   },
   {
    "duration": 17,
    "start_time": "2022-05-01T14:30:35.082Z"
   },
   {
    "duration": 16,
    "start_time": "2022-05-01T14:30:35.889Z"
   },
   {
    "duration": 20,
    "start_time": "2022-05-01T14:30:37.450Z"
   },
   {
    "duration": 21,
    "start_time": "2022-05-01T14:30:38.040Z"
   },
   {
    "duration": 7,
    "start_time": "2022-05-01T14:35:28.261Z"
   },
   {
    "duration": 8,
    "start_time": "2022-05-01T14:36:51.125Z"
   },
   {
    "duration": 18,
    "start_time": "2022-05-01T14:42:32.380Z"
   },
   {
    "duration": 13,
    "start_time": "2022-05-01T14:46:12.146Z"
   },
   {
    "duration": 9,
    "start_time": "2022-05-01T15:07:55.562Z"
   },
   {
    "duration": 12,
    "start_time": "2022-05-01T15:09:26.176Z"
   },
   {
    "duration": 11,
    "start_time": "2022-05-01T15:09:26.772Z"
   },
   {
    "duration": 6,
    "start_time": "2022-05-01T15:27:12.036Z"
   },
   {
    "duration": 12,
    "start_time": "2022-05-01T15:28:42.875Z"
   },
   {
    "duration": 3,
    "start_time": "2022-05-01T15:30:29.003Z"
   },
   {
    "duration": 182,
    "start_time": "2022-05-01T15:30:29.008Z"
   },
   {
    "duration": 18,
    "start_time": "2022-05-01T15:30:29.193Z"
   },
   {
    "duration": 39,
    "start_time": "2022-05-01T15:30:29.213Z"
   },
   {
    "duration": 4,
    "start_time": "2022-05-01T15:30:29.255Z"
   },
   {
    "duration": 8,
    "start_time": "2022-05-01T15:30:29.261Z"
   },
   {
    "duration": 5,
    "start_time": "2022-05-01T15:30:29.270Z"
   },
   {
    "duration": 60,
    "start_time": "2022-05-01T15:30:29.276Z"
   },
   {
    "duration": 22,
    "start_time": "2022-05-01T15:30:29.337Z"
   },
   {
    "duration": 51,
    "start_time": "2022-05-01T15:30:29.360Z"
   },
   {
    "duration": 65,
    "start_time": "2022-05-01T15:30:29.414Z"
   },
   {
    "duration": 91,
    "start_time": "2022-05-01T15:30:29.481Z"
   },
   {
    "duration": 71,
    "start_time": "2022-05-01T15:30:29.573Z"
   },
   {
    "duration": 44,
    "start_time": "2022-05-01T15:30:29.646Z"
   },
   {
    "duration": 17,
    "start_time": "2022-05-01T15:30:29.691Z"
   },
   {
    "duration": 12,
    "start_time": "2022-05-01T15:30:29.710Z"
   },
   {
    "duration": 44,
    "start_time": "2022-05-01T15:30:29.724Z"
   },
   {
    "duration": 12,
    "start_time": "2022-05-01T15:30:29.770Z"
   },
   {
    "duration": 33,
    "start_time": "2022-05-01T15:30:29.784Z"
   },
   {
    "duration": 4,
    "start_time": "2022-05-01T15:30:29.819Z"
   },
   {
    "duration": 25,
    "start_time": "2022-05-01T15:30:29.824Z"
   },
   {
    "duration": 16,
    "start_time": "2022-05-01T15:30:29.850Z"
   },
   {
    "duration": 48,
    "start_time": "2022-05-01T15:30:29.867Z"
   },
   {
    "duration": 14,
    "start_time": "2022-05-01T15:30:29.917Z"
   },
   {
    "duration": 18,
    "start_time": "2022-05-01T15:30:29.932Z"
   },
   {
    "duration": 17,
    "start_time": "2022-05-01T15:30:29.952Z"
   },
   {
    "duration": 42,
    "start_time": "2022-05-01T15:30:29.971Z"
   },
   {
    "duration": 14,
    "start_time": "2022-05-01T15:30:30.015Z"
   },
   {
    "duration": 11,
    "start_time": "2022-05-01T15:30:30.033Z"
   },
   {
    "duration": 5,
    "start_time": "2022-05-01T15:30:30.046Z"
   },
   {
    "duration": 35,
    "start_time": "2022-05-01T15:30:30.053Z"
   },
   {
    "duration": 0,
    "start_time": "2022-05-01T15:30:30.089Z"
   },
   {
    "duration": 0,
    "start_time": "2022-05-01T15:30:30.091Z"
   },
   {
    "duration": 0,
    "start_time": "2022-05-01T15:30:30.092Z"
   },
   {
    "duration": 0,
    "start_time": "2022-05-01T15:30:30.093Z"
   },
   {
    "duration": 0,
    "start_time": "2022-05-01T15:30:30.107Z"
   },
   {
    "duration": 0,
    "start_time": "2022-05-01T15:30:30.108Z"
   },
   {
    "duration": 0,
    "start_time": "2022-05-01T15:30:30.110Z"
   },
   {
    "duration": 19,
    "start_time": "2022-05-01T15:38:23.020Z"
   },
   {
    "duration": 4,
    "start_time": "2022-05-01T15:39:27.749Z"
   },
   {
    "duration": 16,
    "start_time": "2022-05-01T15:39:29.316Z"
   },
   {
    "duration": 3,
    "start_time": "2022-05-01T15:39:33.354Z"
   },
   {
    "duration": 184,
    "start_time": "2022-05-01T15:39:33.359Z"
   },
   {
    "duration": 11,
    "start_time": "2022-05-01T15:39:33.545Z"
   },
   {
    "duration": 67,
    "start_time": "2022-05-01T15:39:33.559Z"
   },
   {
    "duration": 5,
    "start_time": "2022-05-01T15:39:33.628Z"
   },
   {
    "duration": 7,
    "start_time": "2022-05-01T15:39:33.635Z"
   },
   {
    "duration": 4,
    "start_time": "2022-05-01T15:39:33.643Z"
   },
   {
    "duration": 63,
    "start_time": "2022-05-01T15:39:33.649Z"
   },
   {
    "duration": 24,
    "start_time": "2022-05-01T15:39:33.715Z"
   },
   {
    "duration": 35,
    "start_time": "2022-05-01T15:39:33.741Z"
   },
   {
    "duration": 96,
    "start_time": "2022-05-01T15:39:33.777Z"
   },
   {
    "duration": 90,
    "start_time": "2022-05-01T15:39:33.875Z"
   },
   {
    "duration": 75,
    "start_time": "2022-05-01T15:39:33.967Z"
   },
   {
    "duration": 44,
    "start_time": "2022-05-01T15:39:34.044Z"
   },
   {
    "duration": 16,
    "start_time": "2022-05-01T15:39:34.091Z"
   },
   {
    "duration": 13,
    "start_time": "2022-05-01T15:39:34.110Z"
   },
   {
    "duration": 44,
    "start_time": "2022-05-01T15:39:34.125Z"
   },
   {
    "duration": 37,
    "start_time": "2022-05-01T15:39:34.171Z"
   },
   {
    "duration": 14,
    "start_time": "2022-05-01T15:39:34.210Z"
   },
   {
    "duration": 4,
    "start_time": "2022-05-01T15:39:34.226Z"
   },
   {
    "duration": 29,
    "start_time": "2022-05-01T15:39:34.231Z"
   },
   {
    "duration": 14,
    "start_time": "2022-05-01T15:39:34.262Z"
   },
   {
    "duration": 39,
    "start_time": "2022-05-01T15:39:34.278Z"
   },
   {
    "duration": 14,
    "start_time": "2022-05-01T15:39:34.320Z"
   },
   {
    "duration": 18,
    "start_time": "2022-05-01T15:39:34.335Z"
   },
   {
    "duration": 15,
    "start_time": "2022-05-01T15:39:34.355Z"
   },
   {
    "duration": 36,
    "start_time": "2022-05-01T15:39:34.372Z"
   },
   {
    "duration": 12,
    "start_time": "2022-05-01T15:39:34.410Z"
   },
   {
    "duration": 10,
    "start_time": "2022-05-01T15:39:34.424Z"
   },
   {
    "duration": 5,
    "start_time": "2022-05-01T15:39:34.436Z"
   },
   {
    "duration": 16,
    "start_time": "2022-05-01T15:39:34.442Z"
   },
   {
    "duration": 0,
    "start_time": "2022-05-01T15:39:34.459Z"
   },
   {
    "duration": 0,
    "start_time": "2022-05-01T15:39:34.460Z"
   },
   {
    "duration": 0,
    "start_time": "2022-05-01T15:39:34.462Z"
   },
   {
    "duration": 0,
    "start_time": "2022-05-01T15:39:34.463Z"
   },
   {
    "duration": 0,
    "start_time": "2022-05-01T15:39:34.464Z"
   },
   {
    "duration": 0,
    "start_time": "2022-05-01T15:39:34.465Z"
   },
   {
    "duration": 0,
    "start_time": "2022-05-01T15:39:34.466Z"
   },
   {
    "duration": 12,
    "start_time": "2022-05-01T15:41:01.559Z"
   },
   {
    "duration": 89,
    "start_time": "2022-05-01T15:41:01.935Z"
   },
   {
    "duration": 10,
    "start_time": "2022-05-01T15:41:19.503Z"
   },
   {
    "duration": 5,
    "start_time": "2022-05-01T15:41:22.534Z"
   },
   {
    "duration": 14,
    "start_time": "2022-05-01T15:41:25.975Z"
   },
   {
    "duration": 5,
    "start_time": "2022-05-01T15:41:38.647Z"
   },
   {
    "duration": 14,
    "start_time": "2022-05-01T15:41:41.093Z"
   },
   {
    "duration": 4,
    "start_time": "2022-05-01T15:41:44.476Z"
   },
   {
    "duration": 13,
    "start_time": "2022-05-01T15:41:46.456Z"
   },
   {
    "duration": 3,
    "start_time": "2022-05-01T15:41:50.600Z"
   },
   {
    "duration": 179,
    "start_time": "2022-05-01T15:41:50.605Z"
   },
   {
    "duration": 12,
    "start_time": "2022-05-01T15:41:50.785Z"
   },
   {
    "duration": 39,
    "start_time": "2022-05-01T15:41:50.807Z"
   },
   {
    "duration": 3,
    "start_time": "2022-05-01T15:41:50.848Z"
   },
   {
    "duration": 7,
    "start_time": "2022-05-01T15:41:50.853Z"
   },
   {
    "duration": 4,
    "start_time": "2022-05-01T15:41:50.862Z"
   },
   {
    "duration": 65,
    "start_time": "2022-05-01T15:41:50.868Z"
   },
   {
    "duration": 22,
    "start_time": "2022-05-01T15:41:50.936Z"
   },
   {
    "duration": 51,
    "start_time": "2022-05-01T15:41:50.959Z"
   },
   {
    "duration": 67,
    "start_time": "2022-05-01T15:41:51.012Z"
   },
   {
    "duration": 86,
    "start_time": "2022-05-01T15:41:51.081Z"
   },
   {
    "duration": 69,
    "start_time": "2022-05-01T15:41:51.169Z"
   },
   {
    "duration": 42,
    "start_time": "2022-05-01T15:41:51.240Z"
   },
   {
    "duration": 2,
    "start_time": "2022-05-01T15:41:51.284Z"
   },
   {
    "duration": 25,
    "start_time": "2022-05-01T15:41:51.288Z"
   },
   {
    "duration": 43,
    "start_time": "2022-05-01T15:41:51.315Z"
   },
   {
    "duration": 13,
    "start_time": "2022-05-01T15:41:51.359Z"
   },
   {
    "duration": 37,
    "start_time": "2022-05-01T15:41:51.374Z"
   },
   {
    "duration": 4,
    "start_time": "2022-05-01T15:41:51.412Z"
   },
   {
    "duration": 22,
    "start_time": "2022-05-01T15:41:51.417Z"
   },
   {
    "duration": 15,
    "start_time": "2022-05-01T15:41:51.441Z"
   },
   {
    "duration": 15,
    "start_time": "2022-05-01T15:41:51.457Z"
   },
   {
    "duration": 15,
    "start_time": "2022-05-01T15:41:51.509Z"
   },
   {
    "duration": 18,
    "start_time": "2022-05-01T15:41:51.525Z"
   },
   {
    "duration": 15,
    "start_time": "2022-05-01T15:41:51.545Z"
   },
   {
    "duration": 9,
    "start_time": "2022-05-01T15:41:51.562Z"
   },
   {
    "duration": 11,
    "start_time": "2022-05-01T15:41:51.608Z"
   },
   {
    "duration": 12,
    "start_time": "2022-05-01T15:41:51.621Z"
   },
   {
    "duration": 4,
    "start_time": "2022-05-01T15:41:51.635Z"
   },
   {
    "duration": 20,
    "start_time": "2022-05-01T15:41:51.641Z"
   },
   {
    "duration": 0,
    "start_time": "2022-05-01T15:41:51.663Z"
   },
   {
    "duration": 0,
    "start_time": "2022-05-01T15:41:51.664Z"
   },
   {
    "duration": 0,
    "start_time": "2022-05-01T15:41:51.665Z"
   },
   {
    "duration": 0,
    "start_time": "2022-05-01T15:41:51.666Z"
   },
   {
    "duration": 0,
    "start_time": "2022-05-01T15:41:51.667Z"
   },
   {
    "duration": 0,
    "start_time": "2022-05-01T15:41:51.668Z"
   },
   {
    "duration": 0,
    "start_time": "2022-05-01T15:41:51.670Z"
   },
   {
    "duration": 9,
    "start_time": "2022-05-01T15:42:48.123Z"
   },
   {
    "duration": 5,
    "start_time": "2022-05-01T15:46:15.172Z"
   },
   {
    "duration": 14,
    "start_time": "2022-05-01T15:46:16.348Z"
   },
   {
    "duration": 4,
    "start_time": "2022-05-01T15:47:48.192Z"
   },
   {
    "duration": 13,
    "start_time": "2022-05-01T15:47:50.707Z"
   },
   {
    "duration": 5,
    "start_time": "2022-05-01T15:48:39.752Z"
   },
   {
    "duration": 13,
    "start_time": "2022-05-01T15:48:41.123Z"
   },
   {
    "duration": 4,
    "start_time": "2022-05-01T15:48:51.845Z"
   },
   {
    "duration": 16,
    "start_time": "2022-05-01T15:48:53.458Z"
   },
   {
    "duration": 5,
    "start_time": "2022-05-01T15:49:08.341Z"
   },
   {
    "duration": 27,
    "start_time": "2022-05-01T15:49:09.886Z"
   },
   {
    "duration": 22,
    "start_time": "2022-05-01T15:53:09.268Z"
   },
   {
    "duration": 13,
    "start_time": "2022-05-01T15:53:50.715Z"
   },
   {
    "duration": 29,
    "start_time": "2022-05-01T15:55:12.626Z"
   },
   {
    "duration": 13,
    "start_time": "2022-05-01T15:55:44.514Z"
   },
   {
    "duration": 7,
    "start_time": "2022-05-01T16:01:44.721Z"
   },
   {
    "duration": 8,
    "start_time": "2022-05-01T16:04:28.004Z"
   },
   {
    "duration": 14,
    "start_time": "2022-05-01T16:05:06.609Z"
   },
   {
    "duration": 13,
    "start_time": "2022-05-01T16:05:08.964Z"
   },
   {
    "duration": 7,
    "start_time": "2022-05-01T16:05:30.400Z"
   },
   {
    "duration": 10,
    "start_time": "2022-05-01T16:06:21.243Z"
   },
   {
    "duration": 8,
    "start_time": "2022-05-01T16:06:44.918Z"
   },
   {
    "duration": 20,
    "start_time": "2022-05-01T16:06:52.315Z"
   },
   {
    "duration": 9,
    "start_time": "2022-05-01T16:07:34.576Z"
   },
   {
    "duration": 5,
    "start_time": "2022-05-01T16:07:35.995Z"
   },
   {
    "duration": 447,
    "start_time": "2022-05-05T06:21:40.042Z"
   },
   {
    "duration": 361,
    "start_time": "2022-05-05T06:21:40.491Z"
   },
   {
    "duration": 16,
    "start_time": "2022-05-05T06:21:40.854Z"
   },
   {
    "duration": 39,
    "start_time": "2022-05-05T06:21:40.872Z"
   },
   {
    "duration": 4,
    "start_time": "2022-05-05T06:21:40.913Z"
   },
   {
    "duration": 13,
    "start_time": "2022-05-05T06:21:40.918Z"
   },
   {
    "duration": 5,
    "start_time": "2022-05-05T06:21:40.933Z"
   },
   {
    "duration": 27,
    "start_time": "2022-05-05T06:21:40.940Z"
   },
   {
    "duration": 20,
    "start_time": "2022-05-05T06:21:40.992Z"
   },
   {
    "duration": 25,
    "start_time": "2022-05-05T06:21:41.014Z"
   },
   {
    "duration": 88,
    "start_time": "2022-05-05T06:21:41.041Z"
   },
   {
    "duration": 85,
    "start_time": "2022-05-05T06:21:41.131Z"
   },
   {
    "duration": 59,
    "start_time": "2022-05-05T06:21:41.217Z"
   },
   {
    "duration": 41,
    "start_time": "2022-05-05T06:21:41.292Z"
   },
   {
    "duration": 3,
    "start_time": "2022-05-05T06:21:41.335Z"
   },
   {
    "duration": 29,
    "start_time": "2022-05-05T06:21:41.339Z"
   },
   {
    "duration": 39,
    "start_time": "2022-05-05T06:21:41.370Z"
   },
   {
    "duration": 12,
    "start_time": "2022-05-05T06:21:41.411Z"
   },
   {
    "duration": 11,
    "start_time": "2022-05-05T06:21:41.424Z"
   },
   {
    "duration": 4,
    "start_time": "2022-05-05T06:21:41.437Z"
   },
   {
    "duration": 21,
    "start_time": "2022-05-05T06:21:41.442Z"
   },
   {
    "duration": 39,
    "start_time": "2022-05-05T06:21:41.464Z"
   },
   {
    "duration": 13,
    "start_time": "2022-05-05T06:21:41.505Z"
   },
   {
    "duration": 12,
    "start_time": "2022-05-05T06:21:41.520Z"
   },
   {
    "duration": 15,
    "start_time": "2022-05-05T06:21:41.534Z"
   },
   {
    "duration": 47,
    "start_time": "2022-05-05T06:21:41.551Z"
   },
   {
    "duration": 9,
    "start_time": "2022-05-05T06:21:41.599Z"
   },
   {
    "duration": 13,
    "start_time": "2022-05-05T06:21:41.609Z"
   },
   {
    "duration": 10,
    "start_time": "2022-05-05T06:21:41.624Z"
   },
   {
    "duration": 5,
    "start_time": "2022-05-05T06:21:41.635Z"
   },
   {
    "duration": 25,
    "start_time": "2022-05-05T06:21:41.641Z"
   },
   {
    "duration": 12,
    "start_time": "2022-05-05T06:21:41.692Z"
   },
   {
    "duration": 17,
    "start_time": "2022-05-05T06:21:41.706Z"
   },
   {
    "duration": 11,
    "start_time": "2022-05-05T06:21:41.724Z"
   },
   {
    "duration": 10,
    "start_time": "2022-05-05T06:21:41.737Z"
   },
   {
    "duration": 6,
    "start_time": "2022-05-05T06:21:41.748Z"
   },
   {
    "duration": 40,
    "start_time": "2022-05-05T06:21:41.756Z"
   },
   {
    "duration": 5,
    "start_time": "2022-05-05T06:21:41.797Z"
   },
   {
    "duration": 438,
    "start_time": "2022-05-05T18:35:14.411Z"
   },
   {
    "duration": 215,
    "start_time": "2022-05-05T18:35:14.851Z"
   },
   {
    "duration": 27,
    "start_time": "2022-05-05T18:35:15.070Z"
   },
   {
    "duration": 33,
    "start_time": "2022-05-05T18:35:15.099Z"
   },
   {
    "duration": 4,
    "start_time": "2022-05-05T18:35:15.134Z"
   },
   {
    "duration": 12,
    "start_time": "2022-05-05T18:35:15.140Z"
   },
   {
    "duration": 6,
    "start_time": "2022-05-05T18:35:15.154Z"
   },
   {
    "duration": 49,
    "start_time": "2022-05-05T18:35:15.162Z"
   },
   {
    "duration": 21,
    "start_time": "2022-05-05T18:35:15.213Z"
   },
   {
    "duration": 26,
    "start_time": "2022-05-05T18:35:15.237Z"
   },
   {
    "duration": 97,
    "start_time": "2022-05-05T18:35:15.264Z"
   },
   {
    "duration": 94,
    "start_time": "2022-05-05T18:35:15.363Z"
   },
   {
    "duration": 75,
    "start_time": "2022-05-05T18:35:15.459Z"
   },
   {
    "duration": 44,
    "start_time": "2022-05-05T18:35:15.536Z"
   },
   {
    "duration": 4,
    "start_time": "2022-05-05T18:35:15.582Z"
   },
   {
    "duration": 11,
    "start_time": "2022-05-05T18:35:15.608Z"
   },
   {
    "duration": 44,
    "start_time": "2022-05-05T18:35:15.621Z"
   },
   {
    "duration": 39,
    "start_time": "2022-05-05T18:35:15.668Z"
   },
   {
    "duration": 12,
    "start_time": "2022-05-05T18:35:15.709Z"
   },
   {
    "duration": 4,
    "start_time": "2022-05-05T18:35:15.723Z"
   },
   {
    "duration": 25,
    "start_time": "2022-05-05T18:35:15.728Z"
   },
   {
    "duration": 17,
    "start_time": "2022-05-05T18:35:15.754Z"
   },
   {
    "duration": 42,
    "start_time": "2022-05-05T18:35:15.773Z"
   },
   {
    "duration": 16,
    "start_time": "2022-05-05T18:35:15.817Z"
   },
   {
    "duration": 19,
    "start_time": "2022-05-05T18:35:15.835Z"
   },
   {
    "duration": 17,
    "start_time": "2022-05-05T18:35:15.856Z"
   },
   {
    "duration": 9,
    "start_time": "2022-05-05T18:35:15.908Z"
   },
   {
    "duration": 12,
    "start_time": "2022-05-05T18:35:15.920Z"
   },
   {
    "duration": 11,
    "start_time": "2022-05-05T18:35:15.934Z"
   },
   {
    "duration": 5,
    "start_time": "2022-05-05T18:35:15.946Z"
   },
   {
    "duration": 24,
    "start_time": "2022-05-05T18:35:15.952Z"
   },
   {
    "duration": 38,
    "start_time": "2022-05-05T18:35:15.977Z"
   },
   {
    "duration": 18,
    "start_time": "2022-05-05T18:35:16.017Z"
   },
   {
    "duration": 12,
    "start_time": "2022-05-05T18:35:16.037Z"
   },
   {
    "duration": 10,
    "start_time": "2022-05-05T18:35:16.051Z"
   },
   {
    "duration": 4,
    "start_time": "2022-05-05T18:35:16.063Z"
   },
   {
    "duration": 6,
    "start_time": "2022-05-05T18:35:16.107Z"
   },
   {
    "duration": 5,
    "start_time": "2022-05-05T18:35:16.115Z"
   },
   {
    "duration": 427,
    "start_time": "2022-05-05T18:45:36.001Z"
   },
   {
    "duration": 168,
    "start_time": "2022-05-05T18:45:36.429Z"
   },
   {
    "duration": 21,
    "start_time": "2022-05-05T18:45:36.599Z"
   },
   {
    "duration": 32,
    "start_time": "2022-05-05T18:45:36.623Z"
   },
   {
    "duration": 5,
    "start_time": "2022-05-05T18:45:36.656Z"
   },
   {
    "duration": 14,
    "start_time": "2022-05-05T18:45:36.662Z"
   },
   {
    "duration": 31,
    "start_time": "2022-05-05T18:45:36.678Z"
   },
   {
    "duration": 26,
    "start_time": "2022-05-05T18:45:36.711Z"
   },
   {
    "duration": 21,
    "start_time": "2022-05-05T18:45:36.739Z"
   },
   {
    "duration": 49,
    "start_time": "2022-05-05T18:45:36.763Z"
   },
   {
    "duration": 73,
    "start_time": "2022-05-05T18:45:36.813Z"
   },
   {
    "duration": 93,
    "start_time": "2022-05-05T18:45:36.888Z"
   },
   {
    "duration": 71,
    "start_time": "2022-05-05T18:45:36.983Z"
   },
   {
    "duration": 52,
    "start_time": "2022-05-05T18:45:37.056Z"
   },
   {
    "duration": 3,
    "start_time": "2022-05-05T18:45:37.110Z"
   },
   {
    "duration": 15,
    "start_time": "2022-05-05T18:45:37.115Z"
   },
   {
    "duration": 43,
    "start_time": "2022-05-05T18:45:37.132Z"
   },
   {
    "duration": 38,
    "start_time": "2022-05-05T18:45:37.176Z"
   },
   {
    "duration": 11,
    "start_time": "2022-05-05T18:45:37.216Z"
   },
   {
    "duration": 3,
    "start_time": "2022-05-05T18:45:37.229Z"
   },
   {
    "duration": 21,
    "start_time": "2022-05-05T18:45:37.234Z"
   },
   {
    "duration": 15,
    "start_time": "2022-05-05T18:45:37.257Z"
   },
   {
    "duration": 41,
    "start_time": "2022-05-05T18:45:37.273Z"
   },
   {
    "duration": 14,
    "start_time": "2022-05-05T18:45:37.316Z"
   },
   {
    "duration": 16,
    "start_time": "2022-05-05T18:45:37.332Z"
   },
   {
    "duration": 14,
    "start_time": "2022-05-05T18:45:37.350Z"
   },
   {
    "duration": 41,
    "start_time": "2022-05-05T18:45:37.366Z"
   },
   {
    "duration": 11,
    "start_time": "2022-05-05T18:45:37.411Z"
   },
   {
    "duration": 10,
    "start_time": "2022-05-05T18:45:37.424Z"
   },
   {
    "duration": 5,
    "start_time": "2022-05-05T18:45:37.436Z"
   },
   {
    "duration": 20,
    "start_time": "2022-05-05T18:45:37.443Z"
   },
   {
    "duration": 43,
    "start_time": "2022-05-05T18:45:37.465Z"
   },
   {
    "duration": 19,
    "start_time": "2022-05-05T18:45:37.510Z"
   },
   {
    "duration": 13,
    "start_time": "2022-05-05T18:45:37.530Z"
   },
   {
    "duration": 10,
    "start_time": "2022-05-05T18:45:37.545Z"
   },
   {
    "duration": 4,
    "start_time": "2022-05-05T18:45:37.557Z"
   },
   {
    "duration": 45,
    "start_time": "2022-05-05T18:45:37.563Z"
   },
   {
    "duration": 5,
    "start_time": "2022-05-05T18:45:37.610Z"
   }
  ],
  "colab": {
   "collapsed_sections": [
    "E0vqbgi9ay0H",
    "VUC88oWjTJw2"
   ],
   "name": "yandex_music_project.ipynb",
   "provenance": []
  },
  "kernelspec": {
   "display_name": "Python 3 (ipykernel)",
   "language": "python",
   "name": "python3"
  },
  "language_info": {
   "codemirror_mode": {
    "name": "ipython",
    "version": 3
   },
   "file_extension": ".py",
   "mimetype": "text/x-python",
   "name": "python",
   "nbconvert_exporter": "python",
   "pygments_lexer": "ipython3",
   "version": "3.10.5"
  },
  "toc": {
   "base_numbering": 1,
   "nav_menu": {},
   "number_sections": true,
   "sideBar": true,
   "skip_h1_title": true,
   "title_cell": "Table of Contents",
   "title_sidebar": "Contents",
   "toc_cell": false,
   "toc_position": {},
   "toc_section_display": true,
   "toc_window_display": true
  }
 },
 "nbformat": 4,
 "nbformat_minor": 1
}
