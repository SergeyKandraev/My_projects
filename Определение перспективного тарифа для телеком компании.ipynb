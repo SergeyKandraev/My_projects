{
 "cells": [
  {
   "cell_type": "markdown",
   "metadata": {},
   "source": [
    "# Определение перспективного тарифа для телеком-компании. "
   ]
  },
  {
   "cell_type": "markdown",
   "metadata": {},
   "source": [
    "Мы аналитик компании «Мегалайн» — федерального оператора сотовой связи. Клиентам предлагают два тарифных плана: «Смарт» и «Ультра». Чтобы скорректировать рекламный бюджет, коммерческий департамент хочет понять, какой тариф приносит больше денег.\n",
    "\n",
    "Нам предстоит сделать предварительный анализ тарифов на небольшой выборке клиентов. В нашем распоряжении данные 500 пользователей «Мегалайна»: кто они, откуда, каким тарифом пользуются, сколько звонков и сообщений каждый отправил за 2018 год. Нужно проанализировать поведение клиентов и сделать вывод — какой тариф лучше."
   ]
  },
  {
   "cell_type": "markdown",
   "metadata": {},
   "source": [
    "## Шаг: Откроем файлы с данными и изучим общую информацию.\n",
    "Путь к файлам:\n",
    "* /datasets/calls.csv. \n",
    "* /datasets/internet.csv. \n",
    "* /datasets/messages.csv. \n",
    "* /datasets/tariffs.csv. \n",
    "* /datasets/users.csv."
   ]
  },
  {
   "cell_type": "markdown",
   "metadata": {},
   "source": [
    "**Импортируем библиотеки:** "
   ]
  },
  {
   "cell_type": "code",
   "execution_count": 160,
   "metadata": {},
   "outputs": [],
   "source": [
    "import pandas as pd\n",
    "import numpy as np\n",
    "import matplotlib.pyplot as plt\n",
    "import math\n",
    "import numpy as np\n",
    "from scipy import stats as st\n",
    "from functools import reduce"
   ]
  },
  {
   "cell_type": "markdown",
   "metadata": {},
   "source": [
    "**1.1. Прочитаем файлы и сохраним их в переменную — `df_calls`.**"
   ]
  },
  {
   "cell_type": "code",
   "execution_count": 161,
   "metadata": {},
   "outputs": [
    {
     "data": {
      "text/html": [
       "<div>\n",
       "<style scoped>\n",
       "    .dataframe tbody tr th:only-of-type {\n",
       "        vertical-align: middle;\n",
       "    }\n",
       "\n",
       "    .dataframe tbody tr th {\n",
       "        vertical-align: top;\n",
       "    }\n",
       "\n",
       "    .dataframe thead th {\n",
       "        text-align: right;\n",
       "    }\n",
       "</style>\n",
       "<table border=\"1\" class=\"dataframe\">\n",
       "  <thead>\n",
       "    <tr style=\"text-align: right;\">\n",
       "      <th></th>\n",
       "      <th>id</th>\n",
       "      <th>call_date</th>\n",
       "      <th>duration</th>\n",
       "      <th>user_id</th>\n",
       "    </tr>\n",
       "  </thead>\n",
       "  <tbody>\n",
       "    <tr>\n",
       "      <th>0</th>\n",
       "      <td>1000_0</td>\n",
       "      <td>2018-07-25</td>\n",
       "      <td>0.00</td>\n",
       "      <td>1000</td>\n",
       "    </tr>\n",
       "    <tr>\n",
       "      <th>1</th>\n",
       "      <td>1000_1</td>\n",
       "      <td>2018-08-17</td>\n",
       "      <td>0.00</td>\n",
       "      <td>1000</td>\n",
       "    </tr>\n",
       "    <tr>\n",
       "      <th>2</th>\n",
       "      <td>1000_2</td>\n",
       "      <td>2018-06-11</td>\n",
       "      <td>2.85</td>\n",
       "      <td>1000</td>\n",
       "    </tr>\n",
       "    <tr>\n",
       "      <th>3</th>\n",
       "      <td>1000_3</td>\n",
       "      <td>2018-09-21</td>\n",
       "      <td>13.80</td>\n",
       "      <td>1000</td>\n",
       "    </tr>\n",
       "    <tr>\n",
       "      <th>4</th>\n",
       "      <td>1000_4</td>\n",
       "      <td>2018-12-15</td>\n",
       "      <td>5.18</td>\n",
       "      <td>1000</td>\n",
       "    </tr>\n",
       "    <tr>\n",
       "      <th>5</th>\n",
       "      <td>1000_5</td>\n",
       "      <td>2018-11-02</td>\n",
       "      <td>0.00</td>\n",
       "      <td>1000</td>\n",
       "    </tr>\n",
       "    <tr>\n",
       "      <th>6</th>\n",
       "      <td>1000_6</td>\n",
       "      <td>2018-10-18</td>\n",
       "      <td>0.00</td>\n",
       "      <td>1000</td>\n",
       "    </tr>\n",
       "    <tr>\n",
       "      <th>7</th>\n",
       "      <td>1000_7</td>\n",
       "      <td>2018-08-22</td>\n",
       "      <td>18.31</td>\n",
       "      <td>1000</td>\n",
       "    </tr>\n",
       "    <tr>\n",
       "      <th>8</th>\n",
       "      <td>1000_8</td>\n",
       "      <td>2018-09-15</td>\n",
       "      <td>18.44</td>\n",
       "      <td>1000</td>\n",
       "    </tr>\n",
       "    <tr>\n",
       "      <th>9</th>\n",
       "      <td>1000_9</td>\n",
       "      <td>2018-08-15</td>\n",
       "      <td>0.00</td>\n",
       "      <td>1000</td>\n",
       "    </tr>\n",
       "    <tr>\n",
       "      <th>10</th>\n",
       "      <td>1000_10</td>\n",
       "      <td>2018-08-22</td>\n",
       "      <td>5.03</td>\n",
       "      <td>1000</td>\n",
       "    </tr>\n",
       "    <tr>\n",
       "      <th>11</th>\n",
       "      <td>1000_11</td>\n",
       "      <td>2018-05-28</td>\n",
       "      <td>18.82</td>\n",
       "      <td>1000</td>\n",
       "    </tr>\n",
       "    <tr>\n",
       "      <th>12</th>\n",
       "      <td>1000_12</td>\n",
       "      <td>2018-07-05</td>\n",
       "      <td>2.02</td>\n",
       "      <td>1000</td>\n",
       "    </tr>\n",
       "    <tr>\n",
       "      <th>13</th>\n",
       "      <td>1000_13</td>\n",
       "      <td>2018-09-29</td>\n",
       "      <td>7.15</td>\n",
       "      <td>1000</td>\n",
       "    </tr>\n",
       "    <tr>\n",
       "      <th>14</th>\n",
       "      <td>1000_14</td>\n",
       "      <td>2018-12-11</td>\n",
       "      <td>9.13</td>\n",
       "      <td>1000</td>\n",
       "    </tr>\n",
       "  </tbody>\n",
       "</table>\n",
       "</div>"
      ],
      "text/plain": [
       "         id   call_date  duration  user_id\n",
       "0    1000_0  2018-07-25      0.00     1000\n",
       "1    1000_1  2018-08-17      0.00     1000\n",
       "2    1000_2  2018-06-11      2.85     1000\n",
       "3    1000_3  2018-09-21     13.80     1000\n",
       "4    1000_4  2018-12-15      5.18     1000\n",
       "5    1000_5  2018-11-02      0.00     1000\n",
       "6    1000_6  2018-10-18      0.00     1000\n",
       "7    1000_7  2018-08-22     18.31     1000\n",
       "8    1000_8  2018-09-15     18.44     1000\n",
       "9    1000_9  2018-08-15      0.00     1000\n",
       "10  1000_10  2018-08-22      5.03     1000\n",
       "11  1000_11  2018-05-28     18.82     1000\n",
       "12  1000_12  2018-07-05      2.02     1000\n",
       "13  1000_13  2018-09-29      7.15     1000\n",
       "14  1000_14  2018-12-11      9.13     1000"
      ]
     },
     "metadata": {},
     "output_type": "display_data"
    },
    {
     "name": "stdout",
     "output_type": "stream",
     "text": [
      "<class 'pandas.core.frame.DataFrame'>\n",
      "RangeIndex: 202607 entries, 0 to 202606\n",
      "Data columns (total 4 columns):\n",
      " #   Column     Non-Null Count   Dtype  \n",
      "---  ------     --------------   -----  \n",
      " 0   id         202607 non-null  object \n",
      " 1   call_date  202607 non-null  object \n",
      " 2   duration   202607 non-null  float64\n",
      " 3   user_id    202607 non-null  int64  \n",
      "dtypes: float64(1), int64(1), object(2)\n",
      "memory usage: 6.2+ MB\n"
     ]
    }
   ],
   "source": [
    "df_calls = pd.read_csv('/datasets/calls.csv')\n",
    "# выведем первые 15 строк датафрейма на экран\n",
    "display(df_calls.head(15))\n",
    "# выведем информацию о датафрейме\n",
    "df_calls.info()"
   ]
  },
  {
   "cell_type": "markdown",
   "metadata": {},
   "source": [
    "* id — уникальный номер звонка\n",
    "* call_date — дата звонка\n",
    "* duration — длительность звонка в минутах\n",
    "* user_id — идентификатор пользователя, сделавшего звонок"
   ]
  },
  {
   "cell_type": "markdown",
   "metadata": {},
   "source": [
    "**1.2. Прочитаем файлы и сохраним их в переменную — `df_internet`.**"
   ]
  },
  {
   "cell_type": "code",
   "execution_count": 162,
   "metadata": {},
   "outputs": [
    {
     "data": {
      "text/html": [
       "<div>\n",
       "<style scoped>\n",
       "    .dataframe tbody tr th:only-of-type {\n",
       "        vertical-align: middle;\n",
       "    }\n",
       "\n",
       "    .dataframe tbody tr th {\n",
       "        vertical-align: top;\n",
       "    }\n",
       "\n",
       "    .dataframe thead th {\n",
       "        text-align: right;\n",
       "    }\n",
       "</style>\n",
       "<table border=\"1\" class=\"dataframe\">\n",
       "  <thead>\n",
       "    <tr style=\"text-align: right;\">\n",
       "      <th></th>\n",
       "      <th>Unnamed: 0</th>\n",
       "      <th>id</th>\n",
       "      <th>mb_used</th>\n",
       "      <th>session_date</th>\n",
       "      <th>user_id</th>\n",
       "    </tr>\n",
       "  </thead>\n",
       "  <tbody>\n",
       "    <tr>\n",
       "      <th>0</th>\n",
       "      <td>0</td>\n",
       "      <td>1000_0</td>\n",
       "      <td>112.95</td>\n",
       "      <td>2018-11-25</td>\n",
       "      <td>1000</td>\n",
       "    </tr>\n",
       "    <tr>\n",
       "      <th>1</th>\n",
       "      <td>1</td>\n",
       "      <td>1000_1</td>\n",
       "      <td>1052.81</td>\n",
       "      <td>2018-09-07</td>\n",
       "      <td>1000</td>\n",
       "    </tr>\n",
       "    <tr>\n",
       "      <th>2</th>\n",
       "      <td>2</td>\n",
       "      <td>1000_2</td>\n",
       "      <td>1197.26</td>\n",
       "      <td>2018-06-25</td>\n",
       "      <td>1000</td>\n",
       "    </tr>\n",
       "    <tr>\n",
       "      <th>3</th>\n",
       "      <td>3</td>\n",
       "      <td>1000_3</td>\n",
       "      <td>550.27</td>\n",
       "      <td>2018-08-22</td>\n",
       "      <td>1000</td>\n",
       "    </tr>\n",
       "    <tr>\n",
       "      <th>4</th>\n",
       "      <td>4</td>\n",
       "      <td>1000_4</td>\n",
       "      <td>302.56</td>\n",
       "      <td>2018-09-24</td>\n",
       "      <td>1000</td>\n",
       "    </tr>\n",
       "    <tr>\n",
       "      <th>5</th>\n",
       "      <td>5</td>\n",
       "      <td>1000_5</td>\n",
       "      <td>399.97</td>\n",
       "      <td>2018-10-02</td>\n",
       "      <td>1000</td>\n",
       "    </tr>\n",
       "    <tr>\n",
       "      <th>6</th>\n",
       "      <td>6</td>\n",
       "      <td>1000_6</td>\n",
       "      <td>540.08</td>\n",
       "      <td>2018-09-07</td>\n",
       "      <td>1000</td>\n",
       "    </tr>\n",
       "    <tr>\n",
       "      <th>7</th>\n",
       "      <td>7</td>\n",
       "      <td>1000_7</td>\n",
       "      <td>415.70</td>\n",
       "      <td>2018-07-11</td>\n",
       "      <td>1000</td>\n",
       "    </tr>\n",
       "    <tr>\n",
       "      <th>8</th>\n",
       "      <td>8</td>\n",
       "      <td>1000_8</td>\n",
       "      <td>505.40</td>\n",
       "      <td>2018-10-08</td>\n",
       "      <td>1000</td>\n",
       "    </tr>\n",
       "    <tr>\n",
       "      <th>9</th>\n",
       "      <td>9</td>\n",
       "      <td>1000_9</td>\n",
       "      <td>345.54</td>\n",
       "      <td>2018-09-03</td>\n",
       "      <td>1000</td>\n",
       "    </tr>\n",
       "    <tr>\n",
       "      <th>10</th>\n",
       "      <td>10</td>\n",
       "      <td>1000_10</td>\n",
       "      <td>385.14</td>\n",
       "      <td>2018-09-27</td>\n",
       "      <td>1000</td>\n",
       "    </tr>\n",
       "    <tr>\n",
       "      <th>11</th>\n",
       "      <td>11</td>\n",
       "      <td>1000_11</td>\n",
       "      <td>0.00</td>\n",
       "      <td>2018-08-28</td>\n",
       "      <td>1000</td>\n",
       "    </tr>\n",
       "    <tr>\n",
       "      <th>12</th>\n",
       "      <td>12</td>\n",
       "      <td>1000_12</td>\n",
       "      <td>375.87</td>\n",
       "      <td>2018-06-20</td>\n",
       "      <td>1000</td>\n",
       "    </tr>\n",
       "    <tr>\n",
       "      <th>13</th>\n",
       "      <td>13</td>\n",
       "      <td>1000_13</td>\n",
       "      <td>393.83</td>\n",
       "      <td>2018-08-09</td>\n",
       "      <td>1000</td>\n",
       "    </tr>\n",
       "    <tr>\n",
       "      <th>14</th>\n",
       "      <td>14</td>\n",
       "      <td>1000_14</td>\n",
       "      <td>180.64</td>\n",
       "      <td>2018-08-11</td>\n",
       "      <td>1000</td>\n",
       "    </tr>\n",
       "  </tbody>\n",
       "</table>\n",
       "</div>"
      ],
      "text/plain": [
       "    Unnamed: 0       id  mb_used session_date  user_id\n",
       "0            0   1000_0   112.95   2018-11-25     1000\n",
       "1            1   1000_1  1052.81   2018-09-07     1000\n",
       "2            2   1000_2  1197.26   2018-06-25     1000\n",
       "3            3   1000_3   550.27   2018-08-22     1000\n",
       "4            4   1000_4   302.56   2018-09-24     1000\n",
       "5            5   1000_5   399.97   2018-10-02     1000\n",
       "6            6   1000_6   540.08   2018-09-07     1000\n",
       "7            7   1000_7   415.70   2018-07-11     1000\n",
       "8            8   1000_8   505.40   2018-10-08     1000\n",
       "9            9   1000_9   345.54   2018-09-03     1000\n",
       "10          10  1000_10   385.14   2018-09-27     1000\n",
       "11          11  1000_11     0.00   2018-08-28     1000\n",
       "12          12  1000_12   375.87   2018-06-20     1000\n",
       "13          13  1000_13   393.83   2018-08-09     1000\n",
       "14          14  1000_14   180.64   2018-08-11     1000"
      ]
     },
     "metadata": {},
     "output_type": "display_data"
    },
    {
     "name": "stdout",
     "output_type": "stream",
     "text": [
      "<class 'pandas.core.frame.DataFrame'>\n",
      "RangeIndex: 149396 entries, 0 to 149395\n",
      "Data columns (total 5 columns):\n",
      " #   Column        Non-Null Count   Dtype  \n",
      "---  ------        --------------   -----  \n",
      " 0   Unnamed: 0    149396 non-null  int64  \n",
      " 1   id            149396 non-null  object \n",
      " 2   mb_used       149396 non-null  float64\n",
      " 3   session_date  149396 non-null  object \n",
      " 4   user_id       149396 non-null  int64  \n",
      "dtypes: float64(1), int64(2), object(2)\n",
      "memory usage: 5.7+ MB\n"
     ]
    }
   ],
   "source": [
    "df_internet = pd.read_csv('/datasets/internet.csv')\n",
    "# выведем первые 15 строк датафрейма на экран\n",
    "display(df_internet.head(15))\n",
    "# выведем информацию о датафрейме\n",
    "df_internet.info()"
   ]
  },
  {
   "cell_type": "markdown",
   "metadata": {},
   "source": [
    "* Unnamed: 0 — данные в стобце дублируют индексацию, удалим его в предобработке\n",
    "* id — уникальный номер сессии\n",
    "* mb_used — объём потраченного за сессию интернет-трафика (в мегабайтах)\n",
    "* session_date — дата интернет-сессии\n",
    "* user_id — идентификатор пользователя"
   ]
  },
  {
   "cell_type": "markdown",
   "metadata": {},
   "source": [
    "**1.3. Прочитаем файлы и сохраним их в переменную — `df_messages`.**"
   ]
  },
  {
   "cell_type": "code",
   "execution_count": 163,
   "metadata": {},
   "outputs": [
    {
     "data": {
      "text/html": [
       "<div>\n",
       "<style scoped>\n",
       "    .dataframe tbody tr th:only-of-type {\n",
       "        vertical-align: middle;\n",
       "    }\n",
       "\n",
       "    .dataframe tbody tr th {\n",
       "        vertical-align: top;\n",
       "    }\n",
       "\n",
       "    .dataframe thead th {\n",
       "        text-align: right;\n",
       "    }\n",
       "</style>\n",
       "<table border=\"1\" class=\"dataframe\">\n",
       "  <thead>\n",
       "    <tr style=\"text-align: right;\">\n",
       "      <th></th>\n",
       "      <th>id</th>\n",
       "      <th>message_date</th>\n",
       "      <th>user_id</th>\n",
       "    </tr>\n",
       "  </thead>\n",
       "  <tbody>\n",
       "    <tr>\n",
       "      <th>0</th>\n",
       "      <td>1000_0</td>\n",
       "      <td>2018-06-27</td>\n",
       "      <td>1000</td>\n",
       "    </tr>\n",
       "    <tr>\n",
       "      <th>1</th>\n",
       "      <td>1000_1</td>\n",
       "      <td>2018-10-08</td>\n",
       "      <td>1000</td>\n",
       "    </tr>\n",
       "    <tr>\n",
       "      <th>2</th>\n",
       "      <td>1000_2</td>\n",
       "      <td>2018-08-04</td>\n",
       "      <td>1000</td>\n",
       "    </tr>\n",
       "    <tr>\n",
       "      <th>3</th>\n",
       "      <td>1000_3</td>\n",
       "      <td>2018-06-16</td>\n",
       "      <td>1000</td>\n",
       "    </tr>\n",
       "    <tr>\n",
       "      <th>4</th>\n",
       "      <td>1000_4</td>\n",
       "      <td>2018-12-05</td>\n",
       "      <td>1000</td>\n",
       "    </tr>\n",
       "    <tr>\n",
       "      <th>5</th>\n",
       "      <td>1000_5</td>\n",
       "      <td>2018-06-20</td>\n",
       "      <td>1000</td>\n",
       "    </tr>\n",
       "    <tr>\n",
       "      <th>6</th>\n",
       "      <td>1000_6</td>\n",
       "      <td>2018-11-19</td>\n",
       "      <td>1000</td>\n",
       "    </tr>\n",
       "    <tr>\n",
       "      <th>7</th>\n",
       "      <td>1000_7</td>\n",
       "      <td>2018-10-29</td>\n",
       "      <td>1000</td>\n",
       "    </tr>\n",
       "    <tr>\n",
       "      <th>8</th>\n",
       "      <td>1000_8</td>\n",
       "      <td>2018-06-25</td>\n",
       "      <td>1000</td>\n",
       "    </tr>\n",
       "    <tr>\n",
       "      <th>9</th>\n",
       "      <td>1000_9</td>\n",
       "      <td>2018-12-18</td>\n",
       "      <td>1000</td>\n",
       "    </tr>\n",
       "    <tr>\n",
       "      <th>10</th>\n",
       "      <td>1000_10</td>\n",
       "      <td>2018-05-30</td>\n",
       "      <td>1000</td>\n",
       "    </tr>\n",
       "    <tr>\n",
       "      <th>11</th>\n",
       "      <td>1000_11</td>\n",
       "      <td>2018-07-06</td>\n",
       "      <td>1000</td>\n",
       "    </tr>\n",
       "    <tr>\n",
       "      <th>12</th>\n",
       "      <td>1000_12</td>\n",
       "      <td>2018-08-20</td>\n",
       "      <td>1000</td>\n",
       "    </tr>\n",
       "    <tr>\n",
       "      <th>13</th>\n",
       "      <td>1000_13</td>\n",
       "      <td>2018-10-30</td>\n",
       "      <td>1000</td>\n",
       "    </tr>\n",
       "    <tr>\n",
       "      <th>14</th>\n",
       "      <td>1000_14</td>\n",
       "      <td>2018-09-14</td>\n",
       "      <td>1000</td>\n",
       "    </tr>\n",
       "  </tbody>\n",
       "</table>\n",
       "</div>"
      ],
      "text/plain": [
       "         id message_date  user_id\n",
       "0    1000_0   2018-06-27     1000\n",
       "1    1000_1   2018-10-08     1000\n",
       "2    1000_2   2018-08-04     1000\n",
       "3    1000_3   2018-06-16     1000\n",
       "4    1000_4   2018-12-05     1000\n",
       "5    1000_5   2018-06-20     1000\n",
       "6    1000_6   2018-11-19     1000\n",
       "7    1000_7   2018-10-29     1000\n",
       "8    1000_8   2018-06-25     1000\n",
       "9    1000_9   2018-12-18     1000\n",
       "10  1000_10   2018-05-30     1000\n",
       "11  1000_11   2018-07-06     1000\n",
       "12  1000_12   2018-08-20     1000\n",
       "13  1000_13   2018-10-30     1000\n",
       "14  1000_14   2018-09-14     1000"
      ]
     },
     "metadata": {},
     "output_type": "display_data"
    },
    {
     "name": "stdout",
     "output_type": "stream",
     "text": [
      "<class 'pandas.core.frame.DataFrame'>\n",
      "RangeIndex: 123036 entries, 0 to 123035\n",
      "Data columns (total 3 columns):\n",
      " #   Column        Non-Null Count   Dtype \n",
      "---  ------        --------------   ----- \n",
      " 0   id            123036 non-null  object\n",
      " 1   message_date  123036 non-null  object\n",
      " 2   user_id       123036 non-null  int64 \n",
      "dtypes: int64(1), object(2)\n",
      "memory usage: 2.8+ MB\n"
     ]
    }
   ],
   "source": [
    "df_messages = pd.read_csv('/datasets/messages.csv')\n",
    "# выведем первые 15 строк датафрейма на экран\n",
    "display(df_messages.head(15))\n",
    "# выведем информацию о датафрейме\n",
    "df_messages.info()"
   ]
  },
  {
   "cell_type": "markdown",
   "metadata": {},
   "source": [
    "* id — уникальный номер сообщения\n",
    "* message_date — дата сообщения\n",
    "* user_id — идентификатор пользователя, отправившего сообщение"
   ]
  },
  {
   "cell_type": "markdown",
   "metadata": {},
   "source": [
    "**1.4. Прочитаем файлы и сохраним их в переменную — `df_tariffs`.**"
   ]
  },
  {
   "cell_type": "code",
   "execution_count": 164,
   "metadata": {},
   "outputs": [
    {
     "data": {
      "text/html": [
       "<div>\n",
       "<style scoped>\n",
       "    .dataframe tbody tr th:only-of-type {\n",
       "        vertical-align: middle;\n",
       "    }\n",
       "\n",
       "    .dataframe tbody tr th {\n",
       "        vertical-align: top;\n",
       "    }\n",
       "\n",
       "    .dataframe thead th {\n",
       "        text-align: right;\n",
       "    }\n",
       "</style>\n",
       "<table border=\"1\" class=\"dataframe\">\n",
       "  <thead>\n",
       "    <tr style=\"text-align: right;\">\n",
       "      <th></th>\n",
       "      <th>messages_included</th>\n",
       "      <th>mb_per_month_included</th>\n",
       "      <th>minutes_included</th>\n",
       "      <th>rub_monthly_fee</th>\n",
       "      <th>rub_per_gb</th>\n",
       "      <th>rub_per_message</th>\n",
       "      <th>rub_per_minute</th>\n",
       "      <th>tariff_name</th>\n",
       "    </tr>\n",
       "  </thead>\n",
       "  <tbody>\n",
       "    <tr>\n",
       "      <th>0</th>\n",
       "      <td>50</td>\n",
       "      <td>15360</td>\n",
       "      <td>500</td>\n",
       "      <td>550</td>\n",
       "      <td>200</td>\n",
       "      <td>3</td>\n",
       "      <td>3</td>\n",
       "      <td>smart</td>\n",
       "    </tr>\n",
       "    <tr>\n",
       "      <th>1</th>\n",
       "      <td>1000</td>\n",
       "      <td>30720</td>\n",
       "      <td>3000</td>\n",
       "      <td>1950</td>\n",
       "      <td>150</td>\n",
       "      <td>1</td>\n",
       "      <td>1</td>\n",
       "      <td>ultra</td>\n",
       "    </tr>\n",
       "  </tbody>\n",
       "</table>\n",
       "</div>"
      ],
      "text/plain": [
       "   messages_included  mb_per_month_included  minutes_included  \\\n",
       "0                 50                  15360               500   \n",
       "1               1000                  30720              3000   \n",
       "\n",
       "   rub_monthly_fee  rub_per_gb  rub_per_message  rub_per_minute tariff_name  \n",
       "0              550         200                3               3       smart  \n",
       "1             1950         150                1               1       ultra  "
      ]
     },
     "metadata": {},
     "output_type": "display_data"
    },
    {
     "name": "stdout",
     "output_type": "stream",
     "text": [
      "<class 'pandas.core.frame.DataFrame'>\n",
      "RangeIndex: 2 entries, 0 to 1\n",
      "Data columns (total 8 columns):\n",
      " #   Column                 Non-Null Count  Dtype \n",
      "---  ------                 --------------  ----- \n",
      " 0   messages_included      2 non-null      int64 \n",
      " 1   mb_per_month_included  2 non-null      int64 \n",
      " 2   minutes_included       2 non-null      int64 \n",
      " 3   rub_monthly_fee        2 non-null      int64 \n",
      " 4   rub_per_gb             2 non-null      int64 \n",
      " 5   rub_per_message        2 non-null      int64 \n",
      " 6   rub_per_minute         2 non-null      int64 \n",
      " 7   tariff_name            2 non-null      object\n",
      "dtypes: int64(7), object(1)\n",
      "memory usage: 256.0+ bytes\n"
     ]
    }
   ],
   "source": [
    "df_tariffs = pd.read_csv('/datasets/tariffs.csv')\n",
    "# выведем датафрейм на эран\n",
    "display(df_tariffs)\n",
    "# выведем информацию о датафрейме\n",
    "df_tariffs.info()"
   ]
  },
  {
   "cell_type": "markdown",
   "metadata": {},
   "source": [
    "* messages_included — количество сообщений в месяц, включённых в абонентскую плату\n",
    "* mb_per_month_included — объём интернет-трафика, включённого в абонентскую плату (в мегабайтах)\n",
    "* minutes_included — количество минут разговора в месяц, включённых в абонентскую плату\n",
    "* rub_monthly_fee — ежемесячная абонентская плата в рублях\n",
    "* rub_per_gb — стоимость дополнительного гигабайта интернет-трафика сверх тарифного пакета (1 гигабайт = 1024 мегабайта)\n",
    "* rub_per_message — стоимость отправки сообщения сверх тарифного пакета\n",
    "* rub_per_minute — стоимость минуты разговора сверх тарифного пакета (например, если в тарифе 100 минут разговора в месяц, то со 101 минуты будет взиматься плата)\n",
    "* tariff_name — название тарифа"
   ]
  },
  {
   "cell_type": "markdown",
   "metadata": {},
   "source": [
    "**1.5. Прочитаем файлы и сохраним их в переменную — `df_users`.**"
   ]
  },
  {
   "cell_type": "code",
   "execution_count": 165,
   "metadata": {},
   "outputs": [
    {
     "data": {
      "text/html": [
       "<div>\n",
       "<style scoped>\n",
       "    .dataframe tbody tr th:only-of-type {\n",
       "        vertical-align: middle;\n",
       "    }\n",
       "\n",
       "    .dataframe tbody tr th {\n",
       "        vertical-align: top;\n",
       "    }\n",
       "\n",
       "    .dataframe thead th {\n",
       "        text-align: right;\n",
       "    }\n",
       "</style>\n",
       "<table border=\"1\" class=\"dataframe\">\n",
       "  <thead>\n",
       "    <tr style=\"text-align: right;\">\n",
       "      <th></th>\n",
       "      <th>user_id</th>\n",
       "      <th>age</th>\n",
       "      <th>churn_date</th>\n",
       "      <th>city</th>\n",
       "      <th>first_name</th>\n",
       "      <th>last_name</th>\n",
       "      <th>reg_date</th>\n",
       "      <th>tariff</th>\n",
       "    </tr>\n",
       "  </thead>\n",
       "  <tbody>\n",
       "    <tr>\n",
       "      <th>0</th>\n",
       "      <td>1000</td>\n",
       "      <td>52</td>\n",
       "      <td>NaN</td>\n",
       "      <td>Краснодар</td>\n",
       "      <td>Рафаил</td>\n",
       "      <td>Верещагин</td>\n",
       "      <td>2018-05-25</td>\n",
       "      <td>ultra</td>\n",
       "    </tr>\n",
       "    <tr>\n",
       "      <th>1</th>\n",
       "      <td>1001</td>\n",
       "      <td>41</td>\n",
       "      <td>NaN</td>\n",
       "      <td>Москва</td>\n",
       "      <td>Иван</td>\n",
       "      <td>Ежов</td>\n",
       "      <td>2018-11-01</td>\n",
       "      <td>smart</td>\n",
       "    </tr>\n",
       "    <tr>\n",
       "      <th>2</th>\n",
       "      <td>1002</td>\n",
       "      <td>59</td>\n",
       "      <td>NaN</td>\n",
       "      <td>Стерлитамак</td>\n",
       "      <td>Евгений</td>\n",
       "      <td>Абрамович</td>\n",
       "      <td>2018-06-17</td>\n",
       "      <td>smart</td>\n",
       "    </tr>\n",
       "    <tr>\n",
       "      <th>3</th>\n",
       "      <td>1003</td>\n",
       "      <td>23</td>\n",
       "      <td>NaN</td>\n",
       "      <td>Москва</td>\n",
       "      <td>Белла</td>\n",
       "      <td>Белякова</td>\n",
       "      <td>2018-08-17</td>\n",
       "      <td>ultra</td>\n",
       "    </tr>\n",
       "    <tr>\n",
       "      <th>4</th>\n",
       "      <td>1004</td>\n",
       "      <td>68</td>\n",
       "      <td>NaN</td>\n",
       "      <td>Новокузнецк</td>\n",
       "      <td>Татьяна</td>\n",
       "      <td>Авдеенко</td>\n",
       "      <td>2018-05-14</td>\n",
       "      <td>ultra</td>\n",
       "    </tr>\n",
       "    <tr>\n",
       "      <th>5</th>\n",
       "      <td>1005</td>\n",
       "      <td>67</td>\n",
       "      <td>NaN</td>\n",
       "      <td>Набережные Челны</td>\n",
       "      <td>Афанасий</td>\n",
       "      <td>Горлов</td>\n",
       "      <td>2018-01-25</td>\n",
       "      <td>smart</td>\n",
       "    </tr>\n",
       "    <tr>\n",
       "      <th>6</th>\n",
       "      <td>1006</td>\n",
       "      <td>21</td>\n",
       "      <td>NaN</td>\n",
       "      <td>Ульяновск</td>\n",
       "      <td>Леонид</td>\n",
       "      <td>Ермолаев</td>\n",
       "      <td>2018-02-26</td>\n",
       "      <td>smart</td>\n",
       "    </tr>\n",
       "    <tr>\n",
       "      <th>7</th>\n",
       "      <td>1007</td>\n",
       "      <td>65</td>\n",
       "      <td>NaN</td>\n",
       "      <td>Москва</td>\n",
       "      <td>Юна</td>\n",
       "      <td>Березина</td>\n",
       "      <td>2018-04-19</td>\n",
       "      <td>smart</td>\n",
       "    </tr>\n",
       "    <tr>\n",
       "      <th>8</th>\n",
       "      <td>1008</td>\n",
       "      <td>63</td>\n",
       "      <td>NaN</td>\n",
       "      <td>Челябинск</td>\n",
       "      <td>Рустэм</td>\n",
       "      <td>Пономарёв</td>\n",
       "      <td>2018-12-19</td>\n",
       "      <td>smart</td>\n",
       "    </tr>\n",
       "    <tr>\n",
       "      <th>9</th>\n",
       "      <td>1009</td>\n",
       "      <td>24</td>\n",
       "      <td>NaN</td>\n",
       "      <td>Пермь</td>\n",
       "      <td>Василиса</td>\n",
       "      <td>Блинова</td>\n",
       "      <td>2018-03-22</td>\n",
       "      <td>smart</td>\n",
       "    </tr>\n",
       "    <tr>\n",
       "      <th>10</th>\n",
       "      <td>1010</td>\n",
       "      <td>26</td>\n",
       "      <td>NaN</td>\n",
       "      <td>Тюмень</td>\n",
       "      <td>Эдуард</td>\n",
       "      <td>Кононов</td>\n",
       "      <td>2018-08-05</td>\n",
       "      <td>smart</td>\n",
       "    </tr>\n",
       "    <tr>\n",
       "      <th>11</th>\n",
       "      <td>1011</td>\n",
       "      <td>44</td>\n",
       "      <td>NaN</td>\n",
       "      <td>Самара</td>\n",
       "      <td>Веселина</td>\n",
       "      <td>Алёшко</td>\n",
       "      <td>2018-03-19</td>\n",
       "      <td>smart</td>\n",
       "    </tr>\n",
       "    <tr>\n",
       "      <th>12</th>\n",
       "      <td>1012</td>\n",
       "      <td>38</td>\n",
       "      <td>NaN</td>\n",
       "      <td>Санкт-Петербург</td>\n",
       "      <td>Варлам</td>\n",
       "      <td>Соловьев</td>\n",
       "      <td>2018-03-28</td>\n",
       "      <td>smart</td>\n",
       "    </tr>\n",
       "    <tr>\n",
       "      <th>13</th>\n",
       "      <td>1013</td>\n",
       "      <td>36</td>\n",
       "      <td>NaN</td>\n",
       "      <td>Иваново</td>\n",
       "      <td>Борис</td>\n",
       "      <td>Андреенко</td>\n",
       "      <td>2018-11-14</td>\n",
       "      <td>ultra</td>\n",
       "    </tr>\n",
       "    <tr>\n",
       "      <th>14</th>\n",
       "      <td>1014</td>\n",
       "      <td>64</td>\n",
       "      <td>NaN</td>\n",
       "      <td>Чебоксары</td>\n",
       "      <td>Яков</td>\n",
       "      <td>Акинфьев</td>\n",
       "      <td>2018-05-15</td>\n",
       "      <td>smart</td>\n",
       "    </tr>\n",
       "  </tbody>\n",
       "</table>\n",
       "</div>"
      ],
      "text/plain": [
       "    user_id  age churn_date              city first_name  last_name  \\\n",
       "0      1000   52        NaN         Краснодар     Рафаил  Верещагин   \n",
       "1      1001   41        NaN            Москва       Иван       Ежов   \n",
       "2      1002   59        NaN       Стерлитамак    Евгений  Абрамович   \n",
       "3      1003   23        NaN            Москва      Белла   Белякова   \n",
       "4      1004   68        NaN       Новокузнецк    Татьяна   Авдеенко   \n",
       "5      1005   67        NaN  Набережные Челны   Афанасий     Горлов   \n",
       "6      1006   21        NaN         Ульяновск     Леонид   Ермолаев   \n",
       "7      1007   65        NaN            Москва        Юна   Березина   \n",
       "8      1008   63        NaN         Челябинск     Рустэм  Пономарёв   \n",
       "9      1009   24        NaN             Пермь   Василиса    Блинова   \n",
       "10     1010   26        NaN            Тюмень     Эдуард    Кононов   \n",
       "11     1011   44        NaN            Самара   Веселина     Алёшко   \n",
       "12     1012   38        NaN   Санкт-Петербург     Варлам   Соловьев   \n",
       "13     1013   36        NaN           Иваново      Борис  Андреенко   \n",
       "14     1014   64        NaN         Чебоксары       Яков   Акинфьев   \n",
       "\n",
       "      reg_date tariff  \n",
       "0   2018-05-25  ultra  \n",
       "1   2018-11-01  smart  \n",
       "2   2018-06-17  smart  \n",
       "3   2018-08-17  ultra  \n",
       "4   2018-05-14  ultra  \n",
       "5   2018-01-25  smart  \n",
       "6   2018-02-26  smart  \n",
       "7   2018-04-19  smart  \n",
       "8   2018-12-19  smart  \n",
       "9   2018-03-22  smart  \n",
       "10  2018-08-05  smart  \n",
       "11  2018-03-19  smart  \n",
       "12  2018-03-28  smart  \n",
       "13  2018-11-14  ultra  \n",
       "14  2018-05-15  smart  "
      ]
     },
     "metadata": {},
     "output_type": "display_data"
    },
    {
     "name": "stdout",
     "output_type": "stream",
     "text": [
      "<class 'pandas.core.frame.DataFrame'>\n",
      "RangeIndex: 500 entries, 0 to 499\n",
      "Data columns (total 8 columns):\n",
      " #   Column      Non-Null Count  Dtype \n",
      "---  ------      --------------  ----- \n",
      " 0   user_id     500 non-null    int64 \n",
      " 1   age         500 non-null    int64 \n",
      " 2   churn_date  38 non-null     object\n",
      " 3   city        500 non-null    object\n",
      " 4   first_name  500 non-null    object\n",
      " 5   last_name   500 non-null    object\n",
      " 6   reg_date    500 non-null    object\n",
      " 7   tariff      500 non-null    object\n",
      "dtypes: int64(2), object(6)\n",
      "memory usage: 31.4+ KB\n"
     ]
    }
   ],
   "source": [
    "df_users = pd.read_csv('/datasets/users.csv')\n",
    "# выведем первые 15 строк датафрейма на экран\n",
    "display(df_users.head(15))\n",
    "# выведем информацию о датафрейме\n",
    "df_users.info()"
   ]
  },
  {
   "cell_type": "markdown",
   "metadata": {},
   "source": [
    "* user_id — уникальный идентификатор пользователя\n",
    "* age — возраст пользователя (годы)\n",
    "* churn_date — дата прекращения пользования тарифом (если значение пропущено, то тариф ещё действовал на момент выгрузки данных)\n",
    "* city — город проживания пользователя\n",
    "* first_name — имя пользователя\n",
    "* last_name — фамилия пользователя\n",
    "* reg_date — дата подключения тарифа (день, месяц, год)\n",
    "* tariff — название тарифного плана"
   ]
  },
  {
   "cell_type": "markdown",
   "metadata": {},
   "source": [
    "## Шаг: Предобработка данных."
   ]
  },
  {
   "cell_type": "markdown",
   "metadata": {},
   "source": [
    "**2.1. Предобработка в датафрейме — `df_calls`.**"
   ]
  },
  {
   "cell_type": "code",
   "execution_count": 166,
   "metadata": {},
   "outputs": [],
   "source": [
    "# переведём тип данных столбца call_date в datetime\n",
    "df_calls['call_date'] = pd.to_datetime(df_calls['call_date'], format = '%Y-%m-%d')"
   ]
  },
  {
   "cell_type": "code",
   "execution_count": 167,
   "metadata": {},
   "outputs": [],
   "source": [
    "# округлим значения времени звонков вверх и уберем дробную часть.\n",
    "def ceil_value(value):\n",
    "    return math.ceil(value)\n",
    "df_calls['duration'] = df_calls['duration'].apply(ceil_value)   \n",
    "df_calls['duration'] = df_calls['duration'].astype(int)\n",
    "# display(df_calls)"
   ]
  },
  {
   "cell_type": "code",
   "execution_count": 168,
   "metadata": {},
   "outputs": [],
   "source": [
    "# добавим новые столбцы, чтобы разделить день/месяц/год\n",
    "df_calls['day_weekday'] = df_calls['call_date'].dt.weekday\n",
    "df_calls['day_month'] = df_calls['call_date'].dt.month\n",
    "df_calls['day_year'] = df_calls['call_date'].dt.year\n",
    "# для проверки выведем первые пять строк датафрейма на экран\n",
    "# display(df_calls.head())"
   ]
  },
  {
   "cell_type": "markdown",
   "metadata": {},
   "source": [
    "**2.2. Предобработка в датафрейме — `df_internet`.**"
   ]
  },
  {
   "cell_type": "code",
   "execution_count": 169,
   "metadata": {},
   "outputs": [],
   "source": [
    "# видим, что данные session_date имеют не верный формат. Переведём данные столбца в тип datetime\n",
    "df_internet['session_date'] = pd.to_datetime(df_internet['session_date'], format = '%Y-%m-%d')"
   ]
  },
  {
   "cell_type": "code",
   "execution_count": 170,
   "metadata": {},
   "outputs": [],
   "source": [
    "# Удалим столбец Unnamed: 0 так как он не несет в себе важной информации.\n",
    "df_internet = df_internet.drop(df_internet.columns[[0]], axis=1)"
   ]
  },
  {
   "cell_type": "code",
   "execution_count": 171,
   "metadata": {},
   "outputs": [],
   "source": [
    "# добавим столбцы с отправленными сообщениями на день/месяц/год.\n",
    "df_internet['day_weekday'] = df_internet['session_date'].dt.weekday\n",
    "df_internet['day_month'] = df_internet['session_date'].dt.month\n",
    "df_internet['day_year'] = df_internet['session_date'].dt.year\n",
    "# для проверки выведем первые пять строк датафрейма на экран\n",
    "# display(df_internet.head())"
   ]
  },
  {
   "cell_type": "markdown",
   "metadata": {},
   "source": [
    "**2.3. Предобработка в датафрейме — `df_messages`.**"
   ]
  },
  {
   "cell_type": "code",
   "execution_count": 172,
   "metadata": {},
   "outputs": [],
   "source": [
    "# видим, что данные message_date так же не верного типа. Переведём данные столбца в тип datetime\n",
    "df_messages['message_date'] = pd.to_datetime(df_messages['message_date'], format = '%Y-%m-%d')"
   ]
  },
  {
   "cell_type": "code",
   "execution_count": 173,
   "metadata": {},
   "outputs": [],
   "source": [
    "# добавим столбцы с отправленными сообщениями на день/месяц/год\n",
    "df_messages['day_weekday'] = df_messages['message_date'].dt.weekday\n",
    "df_messages['day_month'] = df_messages['message_date'].dt.month\n",
    "df_messages['day_year'] = df_messages['message_date'].dt.year\n",
    "# для проверки выведем первые пять строк датафрейма на экран\n",
    "# display(df_messages.head())"
   ]
  },
  {
   "cell_type": "markdown",
   "metadata": {},
   "source": [
    "**2.4. Предобработка в датафрейме — `df_tariffs`.**"
   ]
  },
  {
   "cell_type": "code",
   "execution_count": 174,
   "metadata": {},
   "outputs": [
    {
     "data": {
      "text/html": [
       "<div>\n",
       "<style scoped>\n",
       "    .dataframe tbody tr th:only-of-type {\n",
       "        vertical-align: middle;\n",
       "    }\n",
       "\n",
       "    .dataframe tbody tr th {\n",
       "        vertical-align: top;\n",
       "    }\n",
       "\n",
       "    .dataframe thead th {\n",
       "        text-align: right;\n",
       "    }\n",
       "</style>\n",
       "<table border=\"1\" class=\"dataframe\">\n",
       "  <thead>\n",
       "    <tr style=\"text-align: right;\">\n",
       "      <th></th>\n",
       "      <th>messages_included</th>\n",
       "      <th>mb_per_month_included</th>\n",
       "      <th>minutes_included</th>\n",
       "      <th>rub_monthly_fee</th>\n",
       "      <th>rub_per_gb</th>\n",
       "      <th>rub_per_message</th>\n",
       "      <th>rub_per_minute</th>\n",
       "      <th>tariff_name</th>\n",
       "    </tr>\n",
       "  </thead>\n",
       "  <tbody>\n",
       "    <tr>\n",
       "      <th>0</th>\n",
       "      <td>50</td>\n",
       "      <td>15360</td>\n",
       "      <td>500</td>\n",
       "      <td>550</td>\n",
       "      <td>200</td>\n",
       "      <td>3</td>\n",
       "      <td>3</td>\n",
       "      <td>smart</td>\n",
       "    </tr>\n",
       "    <tr>\n",
       "      <th>1</th>\n",
       "      <td>1000</td>\n",
       "      <td>30720</td>\n",
       "      <td>3000</td>\n",
       "      <td>1950</td>\n",
       "      <td>150</td>\n",
       "      <td>1</td>\n",
       "      <td>1</td>\n",
       "      <td>ultra</td>\n",
       "    </tr>\n",
       "  </tbody>\n",
       "</table>\n",
       "</div>"
      ],
      "text/plain": [
       "   messages_included  mb_per_month_included  minutes_included  \\\n",
       "0                 50                  15360               500   \n",
       "1               1000                  30720              3000   \n",
       "\n",
       "   rub_monthly_fee  rub_per_gb  rub_per_message  rub_per_minute tariff_name  \n",
       "0              550         200                3               3       smart  \n",
       "1             1950         150                1               1       ultra  "
      ]
     },
     "metadata": {},
     "output_type": "display_data"
    }
   ],
   "source": [
    "display(df_tariffs)\n",
    "# данные в порядке, ничего менять не будем."
   ]
  },
  {
   "cell_type": "markdown",
   "metadata": {},
   "source": [
    "**2.5. Предобработка в датафрейме — `df_users`.**"
   ]
  },
  {
   "cell_type": "code",
   "execution_count": 175,
   "metadata": {},
   "outputs": [],
   "source": [
    "# мы обнаружили, что данные churn_date, reg_date не верного типа. Переведём данные столбцы в тип datetime\n",
    "df_users['reg_date'] = pd.to_datetime(df_users['reg_date'], format = '%Y-%m-%d')"
   ]
  },
  {
   "cell_type": "code",
   "execution_count": 176,
   "metadata": {},
   "outputs": [],
   "source": [
    "#добавим информацию о тарифах в users в виде 0 и 1\n",
    "def tariff_id(object):\n",
    "    if object == 'smart':\n",
    "        return 0\n",
    "    elif object == 'ultra':\n",
    "        return 1\n",
    "df_users['tariff_id'] = df_users['tariff'].apply(tariff_id)"
   ]
  },
  {
   "cell_type": "code",
   "execution_count": 177,
   "metadata": {},
   "outputs": [
    {
     "name": "stdout",
     "output_type": "stream",
     "text": [
      "Количество пользователей для которых тариф еще действует: 462\n",
      "Количество пользвателей, для которых не действует тариф: 38\n"
     ]
    }
   ],
   "source": [
    "# NaN значения в churn_date говорят, что тариф для пользователя еще действовал на момент выгрузки\n",
    "print('Количество пользователей для которых тариф еще действует:', df_users['churn_date'].isna().sum())\n",
    "print('Количество пользвателей, для которых не действует тариф:', df_users['churn_date'].value_counts().sum())"
   ]
  },
  {
   "cell_type": "code",
   "execution_count": 178,
   "metadata": {},
   "outputs": [],
   "source": [
    "# приведем даты в churn_date к типу datetime:\n",
    "def to_dt_func(row):\n",
    "    if row != 0:\n",
    "        return pd.to_datetime(row, format='%Y-%m-%d')\n",
    "    else:\n",
    "        return 0\n",
    "    \n",
    "df_users['churn_date'] = df_users['churn_date'].apply(to_dt_func)"
   ]
  },
  {
   "cell_type": "markdown",
   "metadata": {},
   "source": [
    "**Выводы:**\n",
    "1. Данные обработаны, даты заменены на объекты datetime.\n",
    "2. В таблице df_users вместо пропусков подставлены нули.\n",
    "3. В таблице df_calls были округлены до целого вверх длительности разговоров и нулевые значения были заменены на единицы.\n",
    "4. В таблице df_internet были округлены до целого вверх значения трафика."
   ]
  },
  {
   "cell_type": "markdown",
   "metadata": {},
   "source": [
    "**2.6. Расчеты:**\n",
    "* количество сделанных звонков и израсходованных минут разговора по месяцам;\n",
    "* количество отправленных сообщений по месяцам;\n",
    "* объем израсходованного интернет-трафика по месяцам;"
   ]
  },
  {
   "cell_type": "code",
   "execution_count": 179,
   "metadata": {},
   "outputs": [
    {
     "name": "stdout",
     "output_type": "stream",
     "text": [
      "Количество пропущенных значений в столбце mb_used 11\n",
      "duration     40\n",
      "calls        40\n",
      "messages    497\n",
      "gb_used       0\n",
      "dtype: int64\n"
     ]
    },
    {
     "data": {
      "text/html": [
       "<div>\n",
       "<style scoped>\n",
       "    .dataframe tbody tr th:only-of-type {\n",
       "        vertical-align: middle;\n",
       "    }\n",
       "\n",
       "    .dataframe tbody tr th {\n",
       "        vertical-align: top;\n",
       "    }\n",
       "\n",
       "    .dataframe thead th {\n",
       "        text-align: right;\n",
       "    }\n",
       "</style>\n",
       "<table border=\"1\" class=\"dataframe\">\n",
       "  <thead>\n",
       "    <tr style=\"text-align: right;\">\n",
       "      <th></th>\n",
       "      <th></th>\n",
       "      <th>duration</th>\n",
       "      <th>calls</th>\n",
       "      <th>messages</th>\n",
       "      <th>gb_used</th>\n",
       "    </tr>\n",
       "    <tr>\n",
       "      <th>user_id</th>\n",
       "      <th>day_month</th>\n",
       "      <th></th>\n",
       "      <th></th>\n",
       "      <th></th>\n",
       "      <th></th>\n",
       "    </tr>\n",
       "  </thead>\n",
       "  <tbody>\n",
       "    <tr>\n",
       "      <th rowspan=\"8\" valign=\"top\">1000</th>\n",
       "      <th>5</th>\n",
       "      <td>159.0</td>\n",
       "      <td>22.0</td>\n",
       "      <td>22.0</td>\n",
       "      <td>3</td>\n",
       "    </tr>\n",
       "    <tr>\n",
       "      <th>6</th>\n",
       "      <td>172.0</td>\n",
       "      <td>43.0</td>\n",
       "      <td>60.0</td>\n",
       "      <td>24</td>\n",
       "    </tr>\n",
       "    <tr>\n",
       "      <th>7</th>\n",
       "      <td>340.0</td>\n",
       "      <td>47.0</td>\n",
       "      <td>75.0</td>\n",
       "      <td>15</td>\n",
       "    </tr>\n",
       "    <tr>\n",
       "      <th>8</th>\n",
       "      <td>408.0</td>\n",
       "      <td>52.0</td>\n",
       "      <td>81.0</td>\n",
       "      <td>15</td>\n",
       "    </tr>\n",
       "    <tr>\n",
       "      <th>9</th>\n",
       "      <td>466.0</td>\n",
       "      <td>58.0</td>\n",
       "      <td>57.0</td>\n",
       "      <td>15</td>\n",
       "    </tr>\n",
       "    <tr>\n",
       "      <th>10</th>\n",
       "      <td>350.0</td>\n",
       "      <td>57.0</td>\n",
       "      <td>73.0</td>\n",
       "      <td>15</td>\n",
       "    </tr>\n",
       "    <tr>\n",
       "      <th>11</th>\n",
       "      <td>338.0</td>\n",
       "      <td>43.0</td>\n",
       "      <td>58.0</td>\n",
       "      <td>15</td>\n",
       "    </tr>\n",
       "    <tr>\n",
       "      <th>12</th>\n",
       "      <td>333.0</td>\n",
       "      <td>46.0</td>\n",
       "      <td>70.0</td>\n",
       "      <td>10</td>\n",
       "    </tr>\n",
       "    <tr>\n",
       "      <th rowspan=\"2\" valign=\"top\">1001</th>\n",
       "      <th>11</th>\n",
       "      <td>430.0</td>\n",
       "      <td>59.0</td>\n",
       "      <td>NaN</td>\n",
       "      <td>19</td>\n",
       "    </tr>\n",
       "    <tr>\n",
       "      <th>12</th>\n",
       "      <td>414.0</td>\n",
       "      <td>63.0</td>\n",
       "      <td>NaN</td>\n",
       "      <td>15</td>\n",
       "    </tr>\n",
       "    <tr>\n",
       "      <th rowspan=\"5\" valign=\"top\">1002</th>\n",
       "      <th>6</th>\n",
       "      <td>117.0</td>\n",
       "      <td>15.0</td>\n",
       "      <td>4.0</td>\n",
       "      <td>11</td>\n",
       "    </tr>\n",
       "    <tr>\n",
       "      <th>7</th>\n",
       "      <td>214.0</td>\n",
       "      <td>26.0</td>\n",
       "      <td>11.0</td>\n",
       "      <td>18</td>\n",
       "    </tr>\n",
       "    <tr>\n",
       "      <th>8</th>\n",
       "      <td>289.0</td>\n",
       "      <td>42.0</td>\n",
       "      <td>13.0</td>\n",
       "      <td>21</td>\n",
       "    </tr>\n",
       "    <tr>\n",
       "      <th>9</th>\n",
       "      <td>206.0</td>\n",
       "      <td>36.0</td>\n",
       "      <td>4.0</td>\n",
       "      <td>17</td>\n",
       "    </tr>\n",
       "    <tr>\n",
       "      <th>10</th>\n",
       "      <td>212.0</td>\n",
       "      <td>33.0</td>\n",
       "      <td>10.0</td>\n",
       "      <td>14</td>\n",
       "    </tr>\n",
       "  </tbody>\n",
       "</table>\n",
       "</div>"
      ],
      "text/plain": [
       "                   duration  calls  messages  gb_used\n",
       "user_id day_month                                    \n",
       "1000    5             159.0   22.0      22.0        3\n",
       "        6             172.0   43.0      60.0       24\n",
       "        7             340.0   47.0      75.0       15\n",
       "        8             408.0   52.0      81.0       15\n",
       "        9             466.0   58.0      57.0       15\n",
       "        10            350.0   57.0      73.0       15\n",
       "        11            338.0   43.0      58.0       15\n",
       "        12            333.0   46.0      70.0       10\n",
       "1001    11            430.0   59.0       NaN       19\n",
       "        12            414.0   63.0       NaN       15\n",
       "1002    6             117.0   15.0       4.0       11\n",
       "        7             214.0   26.0      11.0       18\n",
       "        8             289.0   42.0      13.0       21\n",
       "        9             206.0   36.0       4.0       17\n",
       "        10            212.0   33.0      10.0       14"
      ]
     },
     "metadata": {},
     "output_type": "display_data"
    }
   ],
   "source": [
    "# для подсчета количества при создании сводной таблицы сгенерируем уникальный код из имени и населенного пункта\n",
    "df_users['unique_name'] = df_users['city'] + df_users['first_name'] + df_users['last_name']\n",
    "\n",
    "\n",
    "# сводная таблица по звонкам\n",
    "df_calls_temp = df_calls.merge(df_users, on='user_id', how='inner')\n",
    "df_calls_grouped = df_calls_temp.pivot_table(values=['unique_name', 'duration'], \n",
    "                       index=['user_id', 'day_month'], \n",
    "                       aggfunc={'unique_name': 'count', 'duration': 'sum'})\n",
    "df_calls_grouped.columns = ['duration', 'calls']\n",
    "\n",
    "\n",
    "# сводная таблица по сообщениям\n",
    "df_messages_temp = df_messages.merge(df_users, on='user_id', how='inner')\n",
    "df_messages_grouped = df_messages_temp.pivot_table(values='unique_name', \n",
    "                       index=['user_id', 'day_month'], \n",
    "                       aggfunc={'unique_name': 'count'})\n",
    "df_messages_grouped.columns = ['messages']\n",
    "\n",
    "\n",
    "# сводная таблица по интернет-трафику\n",
    "df_internet_temp = df_internet.merge(df_users, on='user_id', how='inner')\n",
    "df_internet_grouped = df_internet_temp.pivot_table(values='mb_used', \n",
    "                       index=['user_id', 'day_month'], \n",
    "                       aggfunc={'mb_used': 'sum'})\n",
    "df_internet_grouped.columns = ['mb_used']\n",
    "\n",
    "\n",
    "# объединяем все три сводные таблицы в одну\n",
    "dfs = [df_calls_grouped, df_messages_grouped, df_internet_grouped]\n",
    "grouped_data = reduce(lambda left,right: pd.merge(left,right,on=['user_id', 'day_month'], how='outer'), dfs)\n",
    "# display(grouped_data.head(15))\n",
    "\n",
    "\n",
    "\n",
    "print('Количество пропущенных значений в столбце mb_used', grouped_data['mb_used'].isna().sum())\n",
    "# после групировки таблицы образовалось 11 строк с пропусками NaN заменим их на 0 \n",
    "grouped_data['mb_used'] = grouped_data['mb_used'].fillna(0)\n",
    "\n",
    "# округлим дробную часть \"килобайты\" в большую сторону и привидем в целочисленный формат \n",
    "def ceil_value(value):\n",
    "    return math.ceil(value)\n",
    " \n",
    "grouped_data['mb_used'] = grouped_data['mb_used'].apply(ceil_value)\n",
    "grouped_data['mb_used'] = grouped_data['mb_used'].astype(int)\n",
    "\n",
    "# приведем мегабайты в гигабайты тля соответствия условию задачи, округлим мегабайты до гигабайт в большую сторону\n",
    "# и приведем в челочисленный формат\n",
    "grouped_data['mb_used'] = grouped_data['mb_used']/1000 \n",
    "grouped_data['mb_used'] = grouped_data['mb_used'].apply(ceil_value)\n",
    "grouped_data['mb_used'] = grouped_data['mb_used'].astype(int)\n",
    "\n",
    "# Заменим название столбца mb_used на gb_used для соответствия условиям задачи\n",
    "grouped_data.rename(columns = {'user_id':'user_id', 'day_month':'day_month',\n",
    "                           'duration':'duration', 'calls':'calls',\n",
    "                           'messages':'messages', 'mb_used':'gb_used'}, inplace = True)\n",
    "\n",
    "print(grouped_data.isna().sum())\n",
    "display(grouped_data.head(15))"
   ]
  },
  {
   "cell_type": "markdown",
   "metadata": {},
   "source": [
    "Теперь для каждого пользователя почитаем помесячную выручку (вычтем бесплатный лимит из суммарного количества звонков, сообщений и интернет-трафика; остаток умножим на значение из тарифного плана; пирбавим абонентскую плату, соответствующую тарифному плану)."
   ]
  },
  {
   "cell_type": "code",
   "execution_count": 180,
   "metadata": {},
   "outputs": [
    {
     "data": {
      "text/html": [
       "<div>\n",
       "<style scoped>\n",
       "    .dataframe tbody tr th:only-of-type {\n",
       "        vertical-align: middle;\n",
       "    }\n",
       "\n",
       "    .dataframe tbody tr th {\n",
       "        vertical-align: top;\n",
       "    }\n",
       "\n",
       "    .dataframe thead th {\n",
       "        text-align: right;\n",
       "    }\n",
       "</style>\n",
       "<table border=\"1\" class=\"dataframe\">\n",
       "  <thead>\n",
       "    <tr style=\"text-align: right;\">\n",
       "      <th></th>\n",
       "      <th></th>\n",
       "      <th>duration</th>\n",
       "      <th>calls</th>\n",
       "      <th>messages</th>\n",
       "      <th>gb_used</th>\n",
       "      <th>tariff</th>\n",
       "      <th>income</th>\n",
       "    </tr>\n",
       "    <tr>\n",
       "      <th>user_id</th>\n",
       "      <th>day_month</th>\n",
       "      <th></th>\n",
       "      <th></th>\n",
       "      <th></th>\n",
       "      <th></th>\n",
       "      <th></th>\n",
       "      <th></th>\n",
       "    </tr>\n",
       "  </thead>\n",
       "  <tbody>\n",
       "    <tr>\n",
       "      <th rowspan=\"8\" valign=\"top\">1000</th>\n",
       "      <th>5</th>\n",
       "      <td>159.0</td>\n",
       "      <td>22.0</td>\n",
       "      <td>22.0</td>\n",
       "      <td>3</td>\n",
       "      <td>ultra</td>\n",
       "      <td>1950.0</td>\n",
       "    </tr>\n",
       "    <tr>\n",
       "      <th>6</th>\n",
       "      <td>172.0</td>\n",
       "      <td>43.0</td>\n",
       "      <td>60.0</td>\n",
       "      <td>24</td>\n",
       "      <td>ultra</td>\n",
       "      <td>1950.0</td>\n",
       "    </tr>\n",
       "    <tr>\n",
       "      <th>7</th>\n",
       "      <td>340.0</td>\n",
       "      <td>47.0</td>\n",
       "      <td>75.0</td>\n",
       "      <td>15</td>\n",
       "      <td>ultra</td>\n",
       "      <td>1950.0</td>\n",
       "    </tr>\n",
       "    <tr>\n",
       "      <th>8</th>\n",
       "      <td>408.0</td>\n",
       "      <td>52.0</td>\n",
       "      <td>81.0</td>\n",
       "      <td>15</td>\n",
       "      <td>ultra</td>\n",
       "      <td>1950.0</td>\n",
       "    </tr>\n",
       "    <tr>\n",
       "      <th>9</th>\n",
       "      <td>466.0</td>\n",
       "      <td>58.0</td>\n",
       "      <td>57.0</td>\n",
       "      <td>15</td>\n",
       "      <td>ultra</td>\n",
       "      <td>1950.0</td>\n",
       "    </tr>\n",
       "    <tr>\n",
       "      <th>10</th>\n",
       "      <td>350.0</td>\n",
       "      <td>57.0</td>\n",
       "      <td>73.0</td>\n",
       "      <td>15</td>\n",
       "      <td>ultra</td>\n",
       "      <td>1950.0</td>\n",
       "    </tr>\n",
       "    <tr>\n",
       "      <th>11</th>\n",
       "      <td>338.0</td>\n",
       "      <td>43.0</td>\n",
       "      <td>58.0</td>\n",
       "      <td>15</td>\n",
       "      <td>ultra</td>\n",
       "      <td>1950.0</td>\n",
       "    </tr>\n",
       "    <tr>\n",
       "      <th>12</th>\n",
       "      <td>333.0</td>\n",
       "      <td>46.0</td>\n",
       "      <td>70.0</td>\n",
       "      <td>10</td>\n",
       "      <td>ultra</td>\n",
       "      <td>1950.0</td>\n",
       "    </tr>\n",
       "    <tr>\n",
       "      <th rowspan=\"2\" valign=\"top\">1001</th>\n",
       "      <th>11</th>\n",
       "      <td>430.0</td>\n",
       "      <td>59.0</td>\n",
       "      <td>0.0</td>\n",
       "      <td>19</td>\n",
       "      <td>smart</td>\n",
       "      <td>550.0</td>\n",
       "    </tr>\n",
       "    <tr>\n",
       "      <th>12</th>\n",
       "      <td>414.0</td>\n",
       "      <td>63.0</td>\n",
       "      <td>0.0</td>\n",
       "      <td>15</td>\n",
       "      <td>smart</td>\n",
       "      <td>550.0</td>\n",
       "    </tr>\n",
       "  </tbody>\n",
       "</table>\n",
       "</div>"
      ],
      "text/plain": [
       "                   duration  calls  messages  gb_used tariff  income\n",
       "user_id day_month                                                   \n",
       "1000    5             159.0   22.0      22.0        3  ultra  1950.0\n",
       "        6             172.0   43.0      60.0       24  ultra  1950.0\n",
       "        7             340.0   47.0      75.0       15  ultra  1950.0\n",
       "        8             408.0   52.0      81.0       15  ultra  1950.0\n",
       "        9             466.0   58.0      57.0       15  ultra  1950.0\n",
       "        10            350.0   57.0      73.0       15  ultra  1950.0\n",
       "        11            338.0   43.0      58.0       15  ultra  1950.0\n",
       "        12            333.0   46.0      70.0       10  ultra  1950.0\n",
       "1001    11            430.0   59.0       0.0       19  smart   550.0\n",
       "        12            414.0   63.0       0.0       15  smart   550.0"
      ]
     },
     "metadata": {},
     "output_type": "display_data"
    }
   ],
   "source": [
    "# пропущенные значения заменяем на нули\n",
    "grouped_data.loc[grouped_data['duration'].isna(), 'duration'] = 0\n",
    "grouped_data.loc[grouped_data['messages'].isna(), 'messages'] = 0\n",
    "grouped_data.loc[grouped_data['gb_used'].isna(), 'gb_used'] = 0\n",
    "\n",
    "# добавим наименование используемого тарифа для каждого пользователя\n",
    "for user in grouped_data.index:\n",
    "    grouped_data.loc[user, 'tariff'] = df_users.loc[user[0]-1000, 'tariff']\n",
    "    \n",
    "# функция подсчета выручки с каждого пользователя в месяц\n",
    "def income(row):\n",
    "    messages = row['messages']\n",
    "    gb_used = row['gb_used']\n",
    "    tariff = row['tariff']\n",
    "    duration = row['duration']\n",
    "    calls = row['calls']\n",
    "    \n",
    "    if tariff == 'smart':\n",
    "        extra_duration = duration - df_tariffs.loc[0, 'minutes_included']\n",
    "        extra_mb = gb_used - df_tariffs.loc[0, 'mb_per_month_included']\n",
    "        extra_messages = messages - df_tariffs.loc[0, 'messages_included']\n",
    "        \n",
    "        if extra_duration < 0: extra_duration = 0\n",
    "        if extra_mb < 0: extra_mb = 0\n",
    "        if extra_messages < 0: extra_messages = 0\n",
    "        \n",
    "        return (df_tariffs.loc[0, 'rub_per_message'] * extra_messages + \n",
    "                   (df_tariffs.loc[0, 'rub_per_gb'] / 1024) * extra_mb + \n",
    "                   df_tariffs.loc[0, 'rub_per_minute'] * extra_duration + \n",
    "                   df_tariffs.loc[0, 'rub_monthly_fee']\n",
    "                  ) \n",
    "    else:\n",
    "        extra_duration = duration - df_tariffs.loc[1, 'minutes_included']\n",
    "        extra_mb = gb_used - df_tariffs.loc[1, 'mb_per_month_included']\n",
    "        extra_messages = messages - df_tariffs.loc[1, 'messages_included']\n",
    "        \n",
    "        if extra_duration < 0: extra_duration = 0\n",
    "        if extra_mb < 0: extra_mb = 0\n",
    "        if extra_messages < 0: extra_messages = 0\n",
    "        \n",
    "        return (df_tariffs.loc[1, 'rub_per_message'] * extra_messages + \n",
    "                   (df_tariffs.loc[1, 'rub_per_gb'] / 1024) * extra_mb + \n",
    "                   df_tariffs.loc[1, 'rub_per_minute'] * extra_duration + \n",
    "                   df_tariffs.loc[1, 'rub_monthly_fee']\n",
    "                  )\n",
    "\n",
    "grouped_data['income'] = grouped_data.apply(income, axis=1)\n",
    "display(grouped_data.head(10))\n",
    "\n",
    "# создадим генеральный датафрейм со значениями общего дохода для каждого пользователя, города его проживания, названия его \n",
    "# тарифа, и.т.д.\n",
    "general_data = grouped_data.merge(df_users, on='user_id', how='inner')\n",
    "# display(general_data.head(15))"
   ]
  },
  {
   "cell_type": "markdown",
   "metadata": {},
   "source": [
    "## Шаг. Проанализируем данные"
   ]
  },
  {
   "cell_type": "markdown",
   "metadata": {},
   "source": [
    "* Опишем поведение клиентов оператора, исходя из выборки. \n",
    "Сколько минут разговора? \n",
    "Сколько сообщений?\n",
    "Какой объём интернет-трафика требуется пользователям каждого тарифа в месяц? \n",
    "* Посчитаем среднее количество, дисперсию и стандартное отклонение. \n",
    "* Построем гистограммы. \n",
    "* Опишем распределения."
   ]
  },
  {
   "cell_type": "markdown",
   "metadata": {},
   "source": [
    "**3.1. посчитаем, сколько в среднем каждому пользователю требуется минут, сообщений и мегабайт в месяц**"
   ]
  },
  {
   "cell_type": "code",
   "execution_count": 181,
   "metadata": {},
   "outputs": [
    {
     "data": {
      "text/html": [
       "<div>\n",
       "<style scoped>\n",
       "    .dataframe tbody tr th:only-of-type {\n",
       "        vertical-align: middle;\n",
       "    }\n",
       "\n",
       "    .dataframe tbody tr th {\n",
       "        vertical-align: top;\n",
       "    }\n",
       "\n",
       "    .dataframe thead th {\n",
       "        text-align: right;\n",
       "    }\n",
       "</style>\n",
       "<table border=\"1\" class=\"dataframe\">\n",
       "  <thead>\n",
       "    <tr style=\"text-align: right;\">\n",
       "      <th></th>\n",
       "      <th>duration</th>\n",
       "      <th>gb_used</th>\n",
       "      <th>income</th>\n",
       "      <th>messages</th>\n",
       "      <th>tariff</th>\n",
       "    </tr>\n",
       "    <tr>\n",
       "      <th>user_id</th>\n",
       "      <th></th>\n",
       "      <th></th>\n",
       "      <th></th>\n",
       "      <th></th>\n",
       "      <th></th>\n",
       "    </tr>\n",
       "  </thead>\n",
       "  <tbody>\n",
       "    <tr>\n",
       "      <th>1000</th>\n",
       "      <td>339.0</td>\n",
       "      <td>15.0</td>\n",
       "      <td>1950.0</td>\n",
       "      <td>65.0</td>\n",
       "      <td>ultra</td>\n",
       "    </tr>\n",
       "    <tr>\n",
       "      <th>1001</th>\n",
       "      <td>422.0</td>\n",
       "      <td>17.0</td>\n",
       "      <td>550.0</td>\n",
       "      <td>0.0</td>\n",
       "      <td>smart</td>\n",
       "    </tr>\n",
       "    <tr>\n",
       "      <th>1002</th>\n",
       "      <td>214.0</td>\n",
       "      <td>18.0</td>\n",
       "      <td>550.0</td>\n",
       "      <td>11.0</td>\n",
       "      <td>smart</td>\n",
       "    </tr>\n",
       "    <tr>\n",
       "      <th>1003</th>\n",
       "      <td>824.0</td>\n",
       "      <td>12.0</td>\n",
       "      <td>1950.0</td>\n",
       "      <td>83.0</td>\n",
       "      <td>ultra</td>\n",
       "    </tr>\n",
       "    <tr>\n",
       "      <th>1004</th>\n",
       "      <td>132.5</td>\n",
       "      <td>18.5</td>\n",
       "      <td>1950.0</td>\n",
       "      <td>154.5</td>\n",
       "      <td>ultra</td>\n",
       "    </tr>\n",
       "  </tbody>\n",
       "</table>\n",
       "</div>"
      ],
      "text/plain": [
       "         duration  gb_used  income  messages tariff\n",
       "user_id                                            \n",
       "1000        339.0     15.0  1950.0      65.0  ultra\n",
       "1001        422.0     17.0   550.0       0.0  smart\n",
       "1002        214.0     18.0   550.0      11.0  smart\n",
       "1003        824.0     12.0  1950.0      83.0  ultra\n",
       "1004        132.5     18.5  1950.0     154.5  ultra"
      ]
     },
     "execution_count": 181,
     "metadata": {},
     "output_type": "execute_result"
    }
   ],
   "source": [
    "medians = grouped_data.pivot_table(index='user_id', values=['duration', 'messages', 'gb_used', 'income'], aggfunc='median')\n",
    "\n",
    "for user_id in df_users['user_id']:\n",
    "    medians.loc[user_id, 'tariff'] = df_users.loc[user_id-1000, 'tariff']\n",
    "medians.head()"
   ]
  },
  {
   "cell_type": "markdown",
   "metadata": {},
   "source": [
    "**3.2. Найдем среднее, дисперсию и стандартное отклонение**"
   ]
  },
  {
   "cell_type": "code",
   "execution_count": 182,
   "metadata": {},
   "outputs": [
    {
     "data": {
      "text/html": [
       "<div>\n",
       "<style scoped>\n",
       "    .dataframe tbody tr th:only-of-type {\n",
       "        vertical-align: middle;\n",
       "    }\n",
       "\n",
       "    .dataframe tbody tr th {\n",
       "        vertical-align: top;\n",
       "    }\n",
       "\n",
       "    .dataframe thead tr th {\n",
       "        text-align: left;\n",
       "    }\n",
       "\n",
       "    .dataframe thead tr:last-of-type th {\n",
       "        text-align: right;\n",
       "    }\n",
       "</style>\n",
       "<table border=\"1\" class=\"dataframe\">\n",
       "  <thead>\n",
       "    <tr>\n",
       "      <th></th>\n",
       "      <th colspan=\"3\" halign=\"left\">duration</th>\n",
       "      <th colspan=\"3\" halign=\"left\">gb_used</th>\n",
       "      <th colspan=\"3\" halign=\"left\">messages</th>\n",
       "    </tr>\n",
       "    <tr>\n",
       "      <th></th>\n",
       "      <th>mean</th>\n",
       "      <th>std</th>\n",
       "      <th>var</th>\n",
       "      <th>mean</th>\n",
       "      <th>std</th>\n",
       "      <th>var</th>\n",
       "      <th>mean</th>\n",
       "      <th>std</th>\n",
       "      <th>var</th>\n",
       "    </tr>\n",
       "    <tr>\n",
       "      <th>tariff</th>\n",
       "      <th></th>\n",
       "      <th></th>\n",
       "      <th></th>\n",
       "      <th></th>\n",
       "      <th></th>\n",
       "      <th></th>\n",
       "      <th></th>\n",
       "      <th></th>\n",
       "      <th></th>\n",
       "    </tr>\n",
       "  </thead>\n",
       "  <tbody>\n",
       "    <tr>\n",
       "      <th>smart</th>\n",
       "      <td>437.468571</td>\n",
       "      <td>160.266622</td>\n",
       "      <td>25685.390127</td>\n",
       "      <td>17.325714</td>\n",
       "      <td>4.170908</td>\n",
       "      <td>17.396472</td>\n",
       "      <td>33.770000</td>\n",
       "      <td>28.010653</td>\n",
       "      <td>784.596662</td>\n",
       "    </tr>\n",
       "    <tr>\n",
       "      <th>ultra</th>\n",
       "      <td>557.503378</td>\n",
       "      <td>303.793641</td>\n",
       "      <td>92290.576519</td>\n",
       "      <td>20.810811</td>\n",
       "      <td>8.938072</td>\n",
       "      <td>79.889134</td>\n",
       "      <td>56.983108</td>\n",
       "      <td>49.236809</td>\n",
       "      <td>2424.263318</td>\n",
       "    </tr>\n",
       "  </tbody>\n",
       "</table>\n",
       "</div>"
      ],
      "text/plain": [
       "          duration                              gb_used                       \\\n",
       "              mean         std           var       mean       std        var   \n",
       "tariff                                                                         \n",
       "smart   437.468571  160.266622  25685.390127  17.325714  4.170908  17.396472   \n",
       "ultra   557.503378  303.793641  92290.576519  20.810811  8.938072  79.889134   \n",
       "\n",
       "         messages                          \n",
       "             mean        std          var  \n",
       "tariff                                     \n",
       "smart   33.770000  28.010653   784.596662  \n",
       "ultra   56.983108  49.236809  2424.263318  "
      ]
     },
     "metadata": {},
     "output_type": "display_data"
    }
   ],
   "source": [
    "medians.dropna(subset=['duration'], inplace=True)\n",
    "desc_stat = medians.pivot_table(index=['tariff'], values=['duration', 'gb_used', 'messages'], \n",
    "                    aggfunc={'duration': [np.mean, np.var, np.std], \n",
    "                             'gb_used': [np.mean, np.var, np.std], \n",
    "                             'messages': [np.mean, np.var, np.std]})\n",
    "display(desc_stat)"
   ]
  },
  {
   "cell_type": "markdown",
   "metadata": {},
   "source": [
    "**3.3. Построем гистограммы**"
   ]
  },
  {
   "cell_type": "code",
   "execution_count": 183,
   "metadata": {},
   "outputs": [],
   "source": [
    "# cохраним в переменную sum_smart таблицу пользователей с тарифом Smart\n",
    "sum_smart = grouped_data[(grouped_data['tariff'] == 'smart')]\n",
    "\n",
    "# cохраним в переменную sum_ultra таблицу пользователей с тарифом Ultra\n",
    "sum_ultra = grouped_data[(grouped_data['tariff'] == 'ultra')]"
   ]
  },
  {
   "cell_type": "markdown",
   "metadata": {},
   "source": [
    "**Выведим гистограммы со статистикой пользователей Smart**"
   ]
  },
  {
   "cell_type": "markdown",
   "metadata": {},
   "source": [
    "Построим гистограмму с кол-ством минут для тарифа."
   ]
  },
  {
   "cell_type": "code",
   "execution_count": 228,
   "metadata": {},
   "outputs": [
    {
     "data": {
      "text/plain": [
       "<AxesSubplot:>"
      ]
     },
     "execution_count": 228,
     "metadata": {},
     "output_type": "execute_result"
    },
    {
     "data": {
      "image/png": "[encoded data removed]",
      "text/plain": [
       "<Figure size 432x288 with 1 Axes>"
      ]
     },
     "metadata": {
      "needs_background": "light"
     },
     "output_type": "display_data"
    }
   ],
   "source": [
    "sum_smart['duration'].hist(bins=35, range = (0, 2000), legend='duration')"
   ]
  },
  {
   "cell_type": "markdown",
   "metadata": {},
   "source": [
    "**Вывод:**\n",
    "Видим, что пик затрат минут как раз приходится на лимит тарифа: 250 - 500 минут, но довольно много пользователей тратят больше лимита, доходя до 600 - 750 минут, встречаются и около 1000."
   ]
  },
  {
   "cell_type": "markdown",
   "metadata": {},
   "source": [
    "Построим гистограмму с кол-ством сообщений для тарифа."
   ]
  },
  {
   "cell_type": "code",
   "execution_count": 211,
   "metadata": {},
   "outputs": [
    {
     "data": {
      "text/plain": [
       "<AxesSubplot:>"
      ]
     },
     "execution_count": 211,
     "metadata": {},
     "output_type": "execute_result"
    },
    {
     "data": {
      "image/png": "[encoded data removed]",
      "text/plain": [
       "<Figure size 432x288 with 1 Axes>"
      ]
     },
     "metadata": {
      "needs_background": "light"
     },
     "output_type": "display_data"
    }
   ],
   "source": [
    "sum_smart['messages'].hist(bins=35, range = (0, 150), legend='messages')"
   ]
  },
  {
   "cell_type": "markdown",
   "metadata": {},
   "source": [
    "**Вывод:**\n",
    "Видим, что очень много пользователей не отправляют сообщения, либо отправляют не более 5-ти.\n",
    "Несмотря на лимит в 50 сообщений, не мало пользователей превышают его и довольно много встречаются отправки 50-80 сообщений, есть выше 100 сообщений."
   ]
  },
  {
   "cell_type": "markdown",
   "metadata": {},
   "source": [
    "Построим гистограмму с кол-ством мегабайт для тарифа."
   ]
  },
  {
   "cell_type": "code",
   "execution_count": 210,
   "metadata": {},
   "outputs": [
    {
     "data": {
      "text/plain": [
       "<AxesSubplot:>"
      ]
     },
     "execution_count": 210,
     "metadata": {},
     "output_type": "execute_result"
    },
    {
     "data": {
      "image/png": "[encoded data removed]",
      "text/plain": [
       "<Figure size 432x288 with 1 Axes>"
      ]
     },
     "metadata": {
      "needs_background": "light"
     },
     "output_type": "display_data"
    }
   ],
   "source": [
    "sum_smart['gb_used'].hist(bins=40, range = (0, 50), legend='gb_used')"
   ]
  },
  {
   "cell_type": "markdown",
   "metadata": {},
   "source": [
    "**Вывод:** Видим, что небольшая часть пользователей не пользуются интернетом, либо же используют не больше 5 гб.\n",
    "Пик припадает на уровне 15 гб, но много пользователей превышают данный лимит и хвост доходит к 0 только ближе к 30 гб."
   ]
  },
  {
   "cell_type": "markdown",
   "metadata": {},
   "source": [
    "**Выведим гистограммы со статистикой пользователей Ultra**"
   ]
  },
  {
   "cell_type": "markdown",
   "metadata": {},
   "source": [
    "Построим гистограмму с кол-ством минут для тарифа."
   ]
  },
  {
   "cell_type": "code",
   "execution_count": 209,
   "metadata": {},
   "outputs": [
    {
     "data": {
      "text/plain": [
       "<AxesSubplot:>"
      ]
     },
     "execution_count": 209,
     "metadata": {},
     "output_type": "execute_result"
    },
    {
     "data": {
      "image/png": "[encoded data removed]",
      "text/plain": [
       "<Figure size 432x288 with 1 Axes>"
      ]
     },
     "metadata": {
      "needs_background": "light"
     },
     "output_type": "display_data"
    }
   ],
   "source": [
    "sum_ultra['duration'].hist(bins=35, range = (0, 2000), legend='duration')"
   ]
  },
  {
   "cell_type": "markdown",
   "metadata": {},
   "source": [
    "**Вывод:** Видим, что небольшая часть пользователей не пользуются сотовой связью, либо же используют не больше 250 минут.\n",
    "Пик кол-ства минут находится около 500-600 минут и держится до 800 минут, далее резкий спад, хвост приближается к 0 после 1300 минут."
   ]
  },
  {
   "cell_type": "markdown",
   "metadata": {},
   "source": [
    "Построим гистограмму с кол-ством сообщений для тарифа."
   ]
  },
  {
   "cell_type": "code",
   "execution_count": 208,
   "metadata": {},
   "outputs": [
    {
     "data": {
      "text/plain": [
       "<AxesSubplot:>"
      ]
     },
     "execution_count": 208,
     "metadata": {},
     "output_type": "execute_result"
    },
    {
     "data": {
      "image/png": "[encoded data removed]",
      "text/plain": [
       "<Figure size 432x288 with 1 Axes>"
      ]
     },
     "metadata": {
      "needs_background": "light"
     },
     "output_type": "display_data"
    }
   ],
   "source": [
    "sum_ultra['messages'].hist(bins=35, range = (0, 250), legend='messages')"
   ]
  },
  {
   "cell_type": "markdown",
   "metadata": {},
   "source": [
    "**Вывод:** Видим, что очень много пользователей не отпрааляю сообщения, либо же отправляют не больше 5.\n",
    "Те, кто пользуется отправкой сообщений отправляет около 20-100 сообщений, хвост приближается к 0 после 150 сообщений."
   ]
  },
  {
   "cell_type": "markdown",
   "metadata": {},
   "source": [
    "Построим гистограмму с кол-ством мегабайт для тарифа."
   ]
  },
  {
   "cell_type": "code",
   "execution_count": 227,
   "metadata": {},
   "outputs": [
    {
     "data": {
      "text/plain": [
       "<AxesSubplot:>"
      ]
     },
     "execution_count": 227,
     "metadata": {},
     "output_type": "execute_result"
    },
    {
     "data": {
      "image/png": "[encoded data removed]",
      "text/plain": [
       "<Figure size 432x288 with 1 Axes>"
      ]
     },
     "metadata": {
      "needs_background": "light"
     },
     "output_type": "display_data"
    }
   ],
   "source": [
    "sum_ultra['gb_used'].hist(bins=40, range = (0, 60), legend='gb_used')"
   ]
  },
  {
   "cell_type": "markdown",
   "metadata": {},
   "source": [
    "**Вывод:** Видим, что небольшая часть пользователей не использует интернет.\n",
    "Пик мегабайт приходит на 20-23 гб, так же виден скачёк ближе к 30 гб, хвост приближается к 0 после 45 гб."
   ]
  },
  {
   "cell_type": "markdown",
   "metadata": {},
   "source": [
    "## Шаг . Проверим гипотезы"
   ]
  },
  {
   "cell_type": "markdown",
   "metadata": {},
   "source": [
    "\n",
    "Гипотезы:\n",
    "* средняя выручка пользователей тарифов «Ультра» и «Смарт» различаются;\n",
    "* средняя выручка пользователей из Москвы отличается от выручки пользователей из других регионов.\n",
    "\n",
    "\n",
    "Поясним:\n",
    "* как вы формулировали нулевую и альтернативную гипотезы;\n",
    "* какой критерий использовали для проверки гипотез и почему.\n",
    "\n",
    "Критический уровень статистической значимости присвоим значением 0.05."
   ]
  },
  {
   "cell_type": "markdown",
   "metadata": {},
   "source": [
    "**4.1.** Начнём с формулировки нулевой гипотезы. H₀ всегда формулируется так, чтобы использовать знак равенства. H₀ - среднее рассматриваемой генеральной совокупности равно второй. Исходя из H₀ формулируется альтернативная гипотеза H₁. Для этой H₀ - среднее генеральной совокупности не равно второй.\n",
    "\n",
    "Будем проверять гипотезу H₀ которая будет гласить: среднее двух генеральных совокупностей равны друг другу.\n",
    "Следовательно гипотеза H₁ будет гласить что среднее двух генеральных совокупностей не равны."
   ]
  },
  {
   "cell_type": "code",
   "execution_count": 190,
   "metadata": {},
   "outputs": [
    {
     "name": "stdout",
     "output_type": "stream",
     "text": [
      "cреднее Smart:  692.2166890982503\n",
      "cреднее Ultra:  1950.0\n",
      "p-значение: 0.0\n",
      "Отвергаем нулевую гипотезу\n"
     ]
    }
   ],
   "source": [
    "smart = sum_smart['income']\n",
    "ultra = sum_ultra['income']\n",
    "\n",
    "print('cреднее Smart: ',pd.Series(smart).mean())\n",
    "print('cреднее Ultra: ',pd.Series(ultra).mean())\n",
    "\n",
    "alpha = 0.05\n",
    "\n",
    "results = st.ttest_ind(\n",
    "    smart, \n",
    "    ultra)\n",
    "\n",
    "print('p-значение:', results.pvalue)\n",
    "\n",
    "if (results.pvalue < alpha):\n",
    "    print(\"Отвергаем нулевую гипотезу\")\n",
    "else:\n",
    "    print(\"Не получилось отвергнуть нулевую гипотезу\")"
   ]
  },
  {
   "cell_type": "markdown",
   "metadata": {},
   "source": [
    "Исходя из выводов мы видим что среднее генеральных совокупностей сильно разлечается, соответсвенно мы можем отвергнуть гипотезу H₀. Точнее сказать только исходя из проверки гипотезы мы не можем сказать что больше, только что количество выручки отличается. Потому что гипотеза-то наша двухсторонняя: мы не знаем, в какую сторону оно отличается. Однако посчитав среднее количество выручки для обоих тарифов, с уверенностью можем сказать: cредняя выручка из тарифа Ultra выше."
   ]
  },
  {
   "cell_type": "markdown",
   "metadata": {},
   "source": [
    "**4.2.** Проверка гипотезы что средняя выручка пользователей из Москвы отличается от выручки пользователей из других регионов.\n",
    "\n",
    "Гипотеза H₀ будет гласить что средняя выручка для пользователей из Москву равна средней выручке пользователей из других регионов, соответственно гипотеза H₁ будет говорить об обратном."
   ]
  },
  {
   "cell_type": "code",
   "execution_count": 193,
   "metadata": {},
   "outputs": [],
   "source": [
    "# cохраним moscow_income список пользователей из Москвы.\n",
    "moscow_income = general_data[(general_data['city'] == 'Москва')]\n",
    "\n",
    "# cохраним other_income список пользователей из других регионов.\n",
    "other_income = general_data[(general_data['city'] != 'Москва')]"
   ]
  },
  {
   "cell_type": "markdown",
   "metadata": {},
   "source": [
    "Проверим, отличается ли среднняя выручка по пользователям Москвы и других регионов."
   ]
  },
  {
   "cell_type": "code",
   "execution_count": 194,
   "metadata": {},
   "outputs": [
    {
     "name": "stdout",
     "output_type": "stream",
     "text": [
      "Выручка по Москве:  1147.859247135843\n",
      "Выручка с других регионов:  1061.2212831348445\n",
      "p-значение: 0.0018497307474415958\n",
      "Отвергаем нулевую гипотезу\n"
     ]
    }
   ],
   "source": [
    "moscow = moscow_income['income']\n",
    "other = other_income['income']\n",
    "\n",
    "print('Выручка по Москве: ',pd.Series(moscow).mean())\n",
    "print('Выручка с других регионов: ',pd.Series(other).mean())\n",
    "\n",
    "alpha = 0.05\n",
    "\n",
    "results = st.ttest_ind(\n",
    "    moscow, \n",
    "    other) \n",
    "\n",
    "print('p-значение:', results.pvalue)\n",
    "\n",
    "if (results.pvalue < alpha):\n",
    "    print(\"Отвергаем нулевую гипотезу\")\n",
    "else:\n",
    "    print(\"Не получилось отвергнуть нулевую гипотезу\")"
   ]
  },
  {
   "cell_type": "markdown",
   "metadata": {},
   "source": [
    "По данным полученным в результате вывода кода можем сказать что выручка по Москве и других регионам почти не различается. Вернее, только исходя из проверки гипотезы мы не можем сказать, что больше, — только что количество выручки почти одинаково и входит в диапазон статистической значимости. Потому что гипотеза-то наша двухсторонняя: мы не знаем, в какую сторону оно отличается. Однако посчитав среднее количество выручки для Москвы и других регионов, с уверенностью можем сказать: выручка не отличается существенно."
   ]
  },
  {
   "cell_type": "markdown",
   "metadata": {},
   "source": [
    "## Шаг. Общий вывод"
   ]
  },
  {
   "cell_type": "markdown",
   "metadata": {},
   "source": [
    "Исходя из проделанной работы мы можем посоветовать компании следующее: Общая прибыль больше всего у тарифа Smart. Больше всего дополнительного дохода приносит тариф Smart. Его пользователи часто не вклиниваются в лимиты, чаще всего по кол-ству минут и очень много по лимиту мегабайт. Пользователи тарифа Ultra практически не превышают лимитов, кроме мегабайт интернета. Несмотря на то, что больше прибыли приносит тариф Smart, среднняя выручка выше у Ultra. Разница в средней вырчки из Москвы и других регонов - незначительная, это относится и к сравнению тарифов по Москве и регионам.\n",
    "\n",
    "В соответсвии с выводами я бы рекомендовал компании \"Мегалайн\" расширить круг пользователей тарифа Smart, провести рекламную компанию для привлечения большего числа клиентов!"
   ]
  }
 ],
 "metadata": {
  "ExecuteTimeLog": [
   {
    "duration": 400,
    "start_time": "2022-06-09T16:28:37.422Z"
   },
   {
    "duration": 23,
    "start_time": "2022-06-09T16:31:10.713Z"
   },
   {
    "duration": 2,
    "start_time": "2022-06-09T16:31:56.942Z"
   },
   {
    "duration": 1057,
    "start_time": "2022-06-09T16:33:12.899Z"
   },
   {
    "duration": 143,
    "start_time": "2022-06-09T16:33:53.507Z"
   },
   {
    "duration": 99,
    "start_time": "2022-06-09T16:34:01.370Z"
   },
   {
    "duration": 27,
    "start_time": "2022-06-09T16:34:06.305Z"
   },
   {
    "duration": 44,
    "start_time": "2022-06-09T20:07:41.396Z"
   },
   {
    "duration": 2,
    "start_time": "2022-06-09T20:10:51.241Z"
   },
   {
    "duration": 168,
    "start_time": "2022-06-09T20:10:51.244Z"
   },
   {
    "duration": 132,
    "start_time": "2022-06-09T20:10:51.414Z"
   },
   {
    "duration": 94,
    "start_time": "2022-06-09T20:10:51.548Z"
   },
   {
    "duration": 24,
    "start_time": "2022-06-09T20:10:51.643Z"
   },
   {
    "duration": 39,
    "start_time": "2022-06-09T20:10:51.668Z"
   },
   {
    "duration": 161,
    "start_time": "2022-06-09T20:19:58.430Z"
   },
   {
    "duration": 140,
    "start_time": "2022-06-09T20:20:37.322Z"
   },
   {
    "duration": 103,
    "start_time": "2022-06-09T20:24:15.852Z"
   },
   {
    "duration": 34,
    "start_time": "2022-06-09T20:27:14.811Z"
   },
   {
    "duration": 60,
    "start_time": "2022-06-09T20:40:56.852Z"
   },
   {
    "duration": 3,
    "start_time": "2022-06-09T20:44:40.572Z"
   },
   {
    "duration": 157,
    "start_time": "2022-06-09T20:44:42.360Z"
   },
   {
    "duration": 2,
    "start_time": "2022-06-09T20:44:46.369Z"
   },
   {
    "duration": 172,
    "start_time": "2022-06-09T20:44:46.372Z"
   },
   {
    "duration": 129,
    "start_time": "2022-06-09T20:44:46.546Z"
   },
   {
    "duration": 93,
    "start_time": "2022-06-09T20:44:46.676Z"
   },
   {
    "duration": 24,
    "start_time": "2022-06-09T20:44:46.770Z"
   },
   {
    "duration": 37,
    "start_time": "2022-06-09T20:44:46.795Z"
   },
   {
    "duration": 3,
    "start_time": "2022-06-09T20:45:00.218Z"
   },
   {
    "duration": 157,
    "start_time": "2022-06-09T20:45:01.354Z"
   },
   {
    "duration": 139,
    "start_time": "2022-06-09T20:45:02.566Z"
   },
   {
    "duration": 98,
    "start_time": "2022-06-09T20:45:03.231Z"
   },
   {
    "duration": 101,
    "start_time": "2022-06-09T20:45:20.757Z"
   },
   {
    "duration": 34,
    "start_time": "2022-06-09T21:22:15.327Z"
   },
   {
    "duration": 5,
    "start_time": "2022-06-09T21:26:54.860Z"
   },
   {
    "duration": 5,
    "start_time": "2022-06-09T21:26:57.469Z"
   },
   {
    "duration": 12,
    "start_time": "2022-06-09T21:27:49.946Z"
   },
   {
    "duration": 9,
    "start_time": "2022-06-09T21:28:01.304Z"
   },
   {
    "duration": 29,
    "start_time": "2022-06-09T21:29:09.345Z"
   },
   {
    "duration": 47,
    "start_time": "2022-06-09T21:29:29.201Z"
   },
   {
    "duration": 60,
    "start_time": "2022-06-09T21:31:05.690Z"
   },
   {
    "duration": 12,
    "start_time": "2022-06-09T21:31:50.292Z"
   },
   {
    "duration": 4,
    "start_time": "2022-06-09T21:31:54.236Z"
   },
   {
    "duration": 4,
    "start_time": "2022-06-09T21:31:56.590Z"
   },
   {
    "duration": 2,
    "start_time": "2022-06-09T21:36:30.595Z"
   },
   {
    "duration": 22,
    "start_time": "2022-06-09T21:42:58.587Z"
   },
   {
    "duration": 41,
    "start_time": "2022-06-09T21:43:19.385Z"
   },
   {
    "duration": 47,
    "start_time": "2022-06-09T22:08:46.774Z"
   },
   {
    "duration": 18,
    "start_time": "2022-06-09T22:11:23.262Z"
   },
   {
    "duration": 33,
    "start_time": "2022-06-09T22:11:34.049Z"
   },
   {
    "duration": 39,
    "start_time": "2022-06-09T22:11:55.164Z"
   },
   {
    "duration": 33,
    "start_time": "2022-06-09T22:15:07.668Z"
   },
   {
    "duration": 47,
    "start_time": "2022-06-09T22:17:30.919Z"
   },
   {
    "duration": 2,
    "start_time": "2022-06-09T22:21:19.484Z"
   },
   {
    "duration": 6,
    "start_time": "2022-06-09T22:25:11.449Z"
   },
   {
    "duration": 5,
    "start_time": "2022-06-09T22:25:14.013Z"
   },
   {
    "duration": 5,
    "start_time": "2022-06-09T22:25:25.645Z"
   },
   {
    "duration": 4,
    "start_time": "2022-06-09T22:25:28.569Z"
   },
   {
    "duration": 3,
    "start_time": "2022-06-09T23:41:25.712Z"
   },
   {
    "duration": 159,
    "start_time": "2022-06-09T23:41:25.721Z"
   },
   {
    "duration": 124,
    "start_time": "2022-06-09T23:41:25.882Z"
   },
   {
    "duration": 90,
    "start_time": "2022-06-09T23:41:26.008Z"
   },
   {
    "duration": 23,
    "start_time": "2022-06-09T23:41:26.099Z"
   },
   {
    "duration": 37,
    "start_time": "2022-06-09T23:41:26.123Z"
   },
   {
    "duration": 4,
    "start_time": "2022-06-09T23:41:26.161Z"
   },
   {
    "duration": 26,
    "start_time": "2022-06-09T23:41:26.166Z"
   },
   {
    "duration": 60,
    "start_time": "2022-06-09T23:41:26.194Z"
   },
   {
    "duration": 19,
    "start_time": "2022-06-09T23:41:26.256Z"
   },
   {
    "duration": 57,
    "start_time": "2022-06-09T23:41:26.277Z"
   },
   {
    "duration": 17,
    "start_time": "2022-06-09T23:41:26.335Z"
   },
   {
    "duration": 54,
    "start_time": "2022-06-09T23:41:26.353Z"
   },
   {
    "duration": 4,
    "start_time": "2022-06-09T23:41:26.408Z"
   },
   {
    "duration": 6,
    "start_time": "2022-06-09T23:41:26.413Z"
   },
   {
    "duration": 13,
    "start_time": "2022-06-09T23:45:54.291Z"
   },
   {
    "duration": 52,
    "start_time": "2022-06-09T23:46:23.545Z"
   },
   {
    "duration": 59,
    "start_time": "2022-06-09T23:46:32.592Z"
   },
   {
    "duration": 60,
    "start_time": "2022-06-09T23:46:36.061Z"
   },
   {
    "duration": 11,
    "start_time": "2022-06-09T23:49:16.766Z"
   },
   {
    "duration": 31,
    "start_time": "2022-06-09T23:49:21.644Z"
   },
   {
    "duration": 7,
    "start_time": "2022-06-09T23:49:41.975Z"
   },
   {
    "duration": 3,
    "start_time": "2022-06-09T23:49:49.076Z"
   },
   {
    "duration": 12,
    "start_time": "2022-06-09T23:54:38.161Z"
   },
   {
    "duration": 14,
    "start_time": "2022-06-09T23:56:05.569Z"
   },
   {
    "duration": 12,
    "start_time": "2022-06-09T23:56:21.613Z"
   },
   {
    "duration": 13,
    "start_time": "2022-06-10T00:02:45.305Z"
   },
   {
    "duration": 11,
    "start_time": "2022-06-10T00:03:00.825Z"
   },
   {
    "duration": 21,
    "start_time": "2022-06-10T00:05:22.928Z"
   },
   {
    "duration": 11,
    "start_time": "2022-06-10T00:05:37.056Z"
   },
   {
    "duration": 13,
    "start_time": "2022-06-10T00:05:41.160Z"
   },
   {
    "duration": 11,
    "start_time": "2022-06-10T00:05:41.980Z"
   },
   {
    "duration": 12,
    "start_time": "2022-06-10T00:06:32.013Z"
   },
   {
    "duration": 12,
    "start_time": "2022-06-10T00:07:23.476Z"
   },
   {
    "duration": 11,
    "start_time": "2022-06-10T00:07:31.047Z"
   },
   {
    "duration": 47,
    "start_time": "2022-06-10T00:07:54.487Z"
   },
   {
    "duration": 3,
    "start_time": "2022-06-10T00:08:16.750Z"
   },
   {
    "duration": 178,
    "start_time": "2022-06-10T00:08:16.755Z"
   },
   {
    "duration": 129,
    "start_time": "2022-06-10T00:08:16.935Z"
   },
   {
    "duration": 91,
    "start_time": "2022-06-10T00:08:17.066Z"
   },
   {
    "duration": 24,
    "start_time": "2022-06-10T00:08:17.159Z"
   },
   {
    "duration": 37,
    "start_time": "2022-06-10T00:08:17.184Z"
   },
   {
    "duration": 4,
    "start_time": "2022-06-10T00:08:17.223Z"
   },
   {
    "duration": 28,
    "start_time": "2022-06-10T00:08:17.228Z"
   },
   {
    "duration": 70,
    "start_time": "2022-06-10T00:08:17.259Z"
   },
   {
    "duration": 67,
    "start_time": "2022-06-10T00:08:17.330Z"
   },
   {
    "duration": 22,
    "start_time": "2022-06-10T00:08:17.399Z"
   },
   {
    "duration": 47,
    "start_time": "2022-06-10T00:08:17.422Z"
   },
   {
    "duration": 33,
    "start_time": "2022-06-10T00:08:17.471Z"
   },
   {
    "duration": 4,
    "start_time": "2022-06-10T00:08:17.505Z"
   },
   {
    "duration": 43,
    "start_time": "2022-06-10T00:08:17.510Z"
   },
   {
    "duration": 5,
    "start_time": "2022-06-10T00:08:17.555Z"
   },
   {
    "duration": 31,
    "start_time": "2022-06-10T00:08:17.562Z"
   },
   {
    "duration": 47,
    "start_time": "2022-06-10T00:09:06.046Z"
   },
   {
    "duration": 14,
    "start_time": "2022-06-10T00:12:34.788Z"
   },
   {
    "duration": 11,
    "start_time": "2022-06-10T00:12:38.512Z"
   },
   {
    "duration": 18,
    "start_time": "2022-06-10T00:12:52.336Z"
   },
   {
    "duration": 11,
    "start_time": "2022-06-10T00:13:24.781Z"
   },
   {
    "duration": 10,
    "start_time": "2022-06-10T00:13:35.605Z"
   },
   {
    "duration": 8,
    "start_time": "2022-06-10T00:14:08.804Z"
   },
   {
    "duration": 5,
    "start_time": "2022-06-10T00:14:17.617Z"
   },
   {
    "duration": 6,
    "start_time": "2022-06-10T00:14:20.448Z"
   },
   {
    "duration": 54,
    "start_time": "2022-06-10T00:14:21.707Z"
   },
   {
    "duration": 5,
    "start_time": "2022-06-10T00:15:33.795Z"
   },
   {
    "duration": 45,
    "start_time": "2022-06-10T00:15:34.550Z"
   },
   {
    "duration": 2,
    "start_time": "2022-06-10T00:15:39.773Z"
   },
   {
    "duration": 165,
    "start_time": "2022-06-10T00:15:39.777Z"
   },
   {
    "duration": 125,
    "start_time": "2022-06-10T00:15:39.944Z"
   },
   {
    "duration": 92,
    "start_time": "2022-06-10T00:15:40.071Z"
   },
   {
    "duration": 26,
    "start_time": "2022-06-10T00:15:40.165Z"
   },
   {
    "duration": 37,
    "start_time": "2022-06-10T00:15:40.192Z"
   },
   {
    "duration": 4,
    "start_time": "2022-06-10T00:15:40.231Z"
   },
   {
    "duration": 29,
    "start_time": "2022-06-10T00:15:40.236Z"
   },
   {
    "duration": 59,
    "start_time": "2022-06-10T00:15:40.266Z"
   },
   {
    "duration": 66,
    "start_time": "2022-06-10T00:15:40.326Z"
   },
   {
    "duration": 20,
    "start_time": "2022-06-10T00:15:40.394Z"
   },
   {
    "duration": 7,
    "start_time": "2022-06-10T00:15:40.415Z"
   },
   {
    "duration": 50,
    "start_time": "2022-06-10T00:15:40.423Z"
   },
   {
    "duration": 17,
    "start_time": "2022-06-10T00:15:40.491Z"
   },
   {
    "duration": 3,
    "start_time": "2022-06-10T00:15:40.509Z"
   },
   {
    "duration": 40,
    "start_time": "2022-06-10T00:15:40.514Z"
   },
   {
    "duration": 5,
    "start_time": "2022-06-10T00:15:40.555Z"
   },
   {
    "duration": 30,
    "start_time": "2022-06-10T00:15:40.561Z"
   },
   {
    "duration": 2,
    "start_time": "2022-06-10T00:15:58.757Z"
   },
   {
    "duration": 158,
    "start_time": "2022-06-10T00:15:58.761Z"
   },
   {
    "duration": 130,
    "start_time": "2022-06-10T00:15:58.921Z"
   },
   {
    "duration": 93,
    "start_time": "2022-06-10T00:15:59.053Z"
   },
   {
    "duration": 24,
    "start_time": "2022-06-10T00:15:59.148Z"
   },
   {
    "duration": 36,
    "start_time": "2022-06-10T00:15:59.173Z"
   },
   {
    "duration": 4,
    "start_time": "2022-06-10T00:15:59.211Z"
   },
   {
    "duration": 29,
    "start_time": "2022-06-10T00:15:59.216Z"
   },
   {
    "duration": 69,
    "start_time": "2022-06-10T00:15:59.247Z"
   },
   {
    "duration": 59,
    "start_time": "2022-06-10T00:15:59.318Z"
   },
   {
    "duration": 21,
    "start_time": "2022-06-10T00:15:59.390Z"
   },
   {
    "duration": 7,
    "start_time": "2022-06-10T00:15:59.412Z"
   },
   {
    "duration": 50,
    "start_time": "2022-06-10T00:15:59.420Z"
   },
   {
    "duration": 33,
    "start_time": "2022-06-10T00:15:59.471Z"
   },
   {
    "duration": 3,
    "start_time": "2022-06-10T00:15:59.505Z"
   },
   {
    "duration": 42,
    "start_time": "2022-06-10T00:15:59.510Z"
   },
   {
    "duration": 5,
    "start_time": "2022-06-10T00:15:59.553Z"
   },
   {
    "duration": 14,
    "start_time": "2022-06-10T00:15:59.559Z"
   },
   {
    "duration": 3,
    "start_time": "2022-06-10T00:20:26.805Z"
   },
   {
    "duration": 181,
    "start_time": "2022-06-10T00:20:26.810Z"
   },
   {
    "duration": 126,
    "start_time": "2022-06-10T00:20:26.993Z"
   },
   {
    "duration": 91,
    "start_time": "2022-06-10T00:20:27.121Z"
   },
   {
    "duration": 24,
    "start_time": "2022-06-10T00:20:27.214Z"
   },
   {
    "duration": 37,
    "start_time": "2022-06-10T00:20:27.239Z"
   },
   {
    "duration": 5,
    "start_time": "2022-06-10T00:20:27.278Z"
   },
   {
    "duration": 30,
    "start_time": "2022-06-10T00:20:27.291Z"
   },
   {
    "duration": 71,
    "start_time": "2022-06-10T00:20:27.323Z"
   },
   {
    "duration": 61,
    "start_time": "2022-06-10T00:20:27.396Z"
   },
   {
    "duration": 38,
    "start_time": "2022-06-10T00:20:27.458Z"
   },
   {
    "duration": 7,
    "start_time": "2022-06-10T00:20:27.498Z"
   },
   {
    "duration": 52,
    "start_time": "2022-06-10T00:20:27.506Z"
   },
   {
    "duration": 41,
    "start_time": "2022-06-10T00:20:27.560Z"
   },
   {
    "duration": 4,
    "start_time": "2022-06-10T00:20:27.602Z"
   },
   {
    "duration": 42,
    "start_time": "2022-06-10T00:20:27.608Z"
   },
   {
    "duration": 6,
    "start_time": "2022-06-10T00:20:27.652Z"
   },
   {
    "duration": 5,
    "start_time": "2022-06-10T00:20:27.659Z"
   },
   {
    "duration": 59,
    "start_time": "2022-06-10T00:35:23.857Z"
   },
   {
    "duration": 2,
    "start_time": "2022-06-10T00:35:32.361Z"
   },
   {
    "duration": 170,
    "start_time": "2022-06-10T00:35:32.365Z"
   },
   {
    "duration": 133,
    "start_time": "2022-06-10T00:35:32.537Z"
   },
   {
    "duration": 86,
    "start_time": "2022-06-10T00:35:32.671Z"
   },
   {
    "duration": 24,
    "start_time": "2022-06-10T00:35:32.758Z"
   },
   {
    "duration": 38,
    "start_time": "2022-06-10T00:35:32.784Z"
   },
   {
    "duration": 4,
    "start_time": "2022-06-10T00:35:32.824Z"
   },
   {
    "duration": 33,
    "start_time": "2022-06-10T00:35:32.830Z"
   },
   {
    "duration": 72,
    "start_time": "2022-06-10T00:35:32.864Z"
   },
   {
    "duration": 20,
    "start_time": "2022-06-10T00:35:32.938Z"
   },
   {
    "duration": 6,
    "start_time": "2022-06-10T00:35:32.960Z"
   },
   {
    "duration": 64,
    "start_time": "2022-06-10T00:35:32.967Z"
   },
   {
    "duration": 17,
    "start_time": "2022-06-10T00:35:33.032Z"
   },
   {
    "duration": 54,
    "start_time": "2022-06-10T00:35:33.050Z"
   },
   {
    "duration": 5,
    "start_time": "2022-06-10T00:35:33.105Z"
   },
   {
    "duration": 7,
    "start_time": "2022-06-10T00:35:33.111Z"
   },
   {
    "duration": 61,
    "start_time": "2022-06-10T00:37:51.081Z"
   },
   {
    "duration": 59,
    "start_time": "2022-06-10T00:37:58.499Z"
   },
   {
    "duration": 64,
    "start_time": "2022-06-10T00:38:00.168Z"
   },
   {
    "duration": 43,
    "start_time": "2022-06-10T12:33:34.785Z"
   },
   {
    "duration": 8,
    "start_time": "2022-06-10T12:34:23.006Z"
   },
   {
    "duration": 8,
    "start_time": "2022-06-10T12:34:23.603Z"
   },
   {
    "duration": 6,
    "start_time": "2022-06-10T12:34:24.204Z"
   },
   {
    "duration": 1103,
    "start_time": "2022-06-10T12:34:26.907Z"
   },
   {
    "duration": 534,
    "start_time": "2022-06-10T12:34:28.012Z"
   },
   {
    "duration": 385,
    "start_time": "2022-06-10T12:34:28.547Z"
   },
   {
    "duration": 168,
    "start_time": "2022-06-10T12:34:28.933Z"
   },
   {
    "duration": 75,
    "start_time": "2022-06-10T12:34:29.104Z"
   },
   {
    "duration": 72,
    "start_time": "2022-06-10T12:34:29.180Z"
   },
   {
    "duration": 6,
    "start_time": "2022-06-10T12:34:29.253Z"
   },
   {
    "duration": 33,
    "start_time": "2022-06-10T12:34:29.260Z"
   },
   {
    "duration": 68,
    "start_time": "2022-06-10T12:34:29.295Z"
   },
   {
    "duration": 72,
    "start_time": "2022-06-10T12:34:29.365Z"
   },
   {
    "duration": 20,
    "start_time": "2022-06-10T12:34:29.438Z"
   },
   {
    "duration": 7,
    "start_time": "2022-06-10T12:34:29.460Z"
   },
   {
    "duration": 63,
    "start_time": "2022-06-10T12:34:29.468Z"
   },
   {
    "duration": 16,
    "start_time": "2022-06-10T12:34:29.533Z"
   },
   {
    "duration": 55,
    "start_time": "2022-06-10T12:34:29.550Z"
   },
   {
    "duration": 5,
    "start_time": "2022-06-10T12:34:29.607Z"
   },
   {
    "duration": 5,
    "start_time": "2022-06-10T12:34:29.613Z"
   },
   {
    "duration": 65,
    "start_time": "2022-06-10T12:35:02.040Z"
   },
   {
    "duration": 55,
    "start_time": "2022-06-10T12:35:22.604Z"
   },
   {
    "duration": 45,
    "start_time": "2022-06-10T12:36:12.164Z"
   },
   {
    "duration": 34,
    "start_time": "2022-06-10T12:36:41.722Z"
   },
   {
    "duration": 35,
    "start_time": "2022-06-10T12:38:11.824Z"
   },
   {
    "duration": 2,
    "start_time": "2022-06-10T12:39:19.158Z"
   },
   {
    "duration": 6,
    "start_time": "2022-06-10T12:40:04.351Z"
   },
   {
    "duration": 5,
    "start_time": "2022-06-10T12:40:56.602Z"
   },
   {
    "duration": 13,
    "start_time": "2022-06-10T12:41:30.599Z"
   },
   {
    "duration": 3,
    "start_time": "2022-06-10T12:41:55.208Z"
   },
   {
    "duration": 168,
    "start_time": "2022-06-10T12:41:55.213Z"
   },
   {
    "duration": 144,
    "start_time": "2022-06-10T12:41:55.383Z"
   },
   {
    "duration": 94,
    "start_time": "2022-06-10T12:41:55.529Z"
   },
   {
    "duration": 25,
    "start_time": "2022-06-10T12:41:55.625Z"
   },
   {
    "duration": 39,
    "start_time": "2022-06-10T12:41:55.651Z"
   },
   {
    "duration": 4,
    "start_time": "2022-06-10T12:41:55.692Z"
   },
   {
    "duration": 35,
    "start_time": "2022-06-10T12:41:55.698Z"
   },
   {
    "duration": 58,
    "start_time": "2022-06-10T12:41:55.735Z"
   },
   {
    "duration": 57,
    "start_time": "2022-06-10T12:41:55.794Z"
   },
   {
    "duration": 20,
    "start_time": "2022-06-10T12:41:55.853Z"
   },
   {
    "duration": 6,
    "start_time": "2022-06-10T12:41:55.892Z"
   },
   {
    "duration": 45,
    "start_time": "2022-06-10T12:41:55.900Z"
   },
   {
    "duration": 17,
    "start_time": "2022-06-10T12:41:55.947Z"
   },
   {
    "duration": 48,
    "start_time": "2022-06-10T12:41:55.965Z"
   },
   {
    "duration": 6,
    "start_time": "2022-06-10T12:41:56.015Z"
   },
   {
    "duration": 6,
    "start_time": "2022-06-10T12:41:56.023Z"
   },
   {
    "duration": 16,
    "start_time": "2022-06-10T12:41:56.031Z"
   },
   {
    "duration": 50,
    "start_time": "2022-06-10T12:44:28.154Z"
   },
   {
    "duration": 11,
    "start_time": "2022-06-10T12:44:42.179Z"
   },
   {
    "duration": 3,
    "start_time": "2022-06-10T12:44:50.803Z"
   },
   {
    "duration": 176,
    "start_time": "2022-06-10T12:44:50.807Z"
   },
   {
    "duration": 121,
    "start_time": "2022-06-10T12:44:50.985Z"
   },
   {
    "duration": 97,
    "start_time": "2022-06-10T12:44:51.107Z"
   },
   {
    "duration": 26,
    "start_time": "2022-06-10T12:44:51.206Z"
   },
   {
    "duration": 69,
    "start_time": "2022-06-10T12:44:51.233Z"
   },
   {
    "duration": 4,
    "start_time": "2022-06-10T12:44:51.304Z"
   },
   {
    "duration": 73,
    "start_time": "2022-06-10T12:44:51.309Z"
   },
   {
    "duration": 78,
    "start_time": "2022-06-10T12:44:51.384Z"
   },
   {
    "duration": 57,
    "start_time": "2022-06-10T12:44:51.464Z"
   },
   {
    "duration": 21,
    "start_time": "2022-06-10T12:44:51.523Z"
   },
   {
    "duration": 17,
    "start_time": "2022-06-10T12:44:51.545Z"
   },
   {
    "duration": 93,
    "start_time": "2022-06-10T12:44:51.564Z"
   },
   {
    "duration": 28,
    "start_time": "2022-06-10T12:44:51.659Z"
   },
   {
    "duration": 56,
    "start_time": "2022-06-10T12:44:51.689Z"
   },
   {
    "duration": 8,
    "start_time": "2022-06-10T12:44:51.747Z"
   },
   {
    "duration": 34,
    "start_time": "2022-06-10T12:44:51.756Z"
   },
   {
    "duration": 37,
    "start_time": "2022-06-10T12:44:51.792Z"
   },
   {
    "duration": 11,
    "start_time": "2022-06-10T12:45:41.350Z"
   },
   {
    "duration": 231,
    "start_time": "2022-06-10T12:47:43.297Z"
   },
   {
    "duration": 282,
    "start_time": "2022-06-10T12:48:18.939Z"
   },
   {
    "duration": 2,
    "start_time": "2022-06-10T12:48:49.793Z"
   },
   {
    "duration": 157,
    "start_time": "2022-06-10T12:48:49.797Z"
   },
   {
    "duration": 127,
    "start_time": "2022-06-10T12:48:49.955Z"
   },
   {
    "duration": 93,
    "start_time": "2022-06-10T12:48:50.084Z"
   },
   {
    "duration": 31,
    "start_time": "2022-06-10T12:48:50.178Z"
   },
   {
    "duration": 42,
    "start_time": "2022-06-10T12:48:50.210Z"
   },
   {
    "duration": 4,
    "start_time": "2022-06-10T12:48:50.254Z"
   },
   {
    "duration": 31,
    "start_time": "2022-06-10T12:48:50.259Z"
   },
   {
    "duration": 59,
    "start_time": "2022-06-10T12:48:50.291Z"
   },
   {
    "duration": 63,
    "start_time": "2022-06-10T12:48:50.351Z"
   },
   {
    "duration": 20,
    "start_time": "2022-06-10T12:48:50.415Z"
   },
   {
    "duration": 6,
    "start_time": "2022-06-10T12:48:50.436Z"
   },
   {
    "duration": 60,
    "start_time": "2022-06-10T12:48:50.443Z"
   },
   {
    "duration": 16,
    "start_time": "2022-06-10T12:48:50.505Z"
   },
   {
    "duration": 35,
    "start_time": "2022-06-10T12:48:50.523Z"
   },
   {
    "duration": 6,
    "start_time": "2022-06-10T12:48:50.559Z"
   },
   {
    "duration": 6,
    "start_time": "2022-06-10T12:48:50.567Z"
   },
   {
    "duration": 13,
    "start_time": "2022-06-10T12:48:50.591Z"
   },
   {
    "duration": 13,
    "start_time": "2022-06-10T12:49:17.890Z"
   },
   {
    "duration": 13,
    "start_time": "2022-06-10T12:49:58.031Z"
   },
   {
    "duration": 89,
    "start_time": "2022-06-10T12:50:16.686Z"
   },
   {
    "duration": 12,
    "start_time": "2022-06-10T12:50:20.204Z"
   },
   {
    "duration": 12,
    "start_time": "2022-06-10T12:50:33.300Z"
   },
   {
    "duration": 3,
    "start_time": "2022-06-10T12:50:37.790Z"
   },
   {
    "duration": 164,
    "start_time": "2022-06-10T12:50:37.795Z"
   },
   {
    "duration": 131,
    "start_time": "2022-06-10T12:50:37.961Z"
   },
   {
    "duration": 87,
    "start_time": "2022-06-10T12:50:38.094Z"
   },
   {
    "duration": 24,
    "start_time": "2022-06-10T12:50:38.183Z"
   },
   {
    "duration": 40,
    "start_time": "2022-06-10T12:50:38.209Z"
   },
   {
    "duration": 4,
    "start_time": "2022-06-10T12:50:38.251Z"
   },
   {
    "duration": 26,
    "start_time": "2022-06-10T12:50:38.257Z"
   },
   {
    "duration": 60,
    "start_time": "2022-06-10T12:50:38.285Z"
   },
   {
    "duration": 62,
    "start_time": "2022-06-10T12:50:38.347Z"
   },
   {
    "duration": 19,
    "start_time": "2022-06-10T12:50:38.411Z"
   },
   {
    "duration": 7,
    "start_time": "2022-06-10T12:50:38.431Z"
   },
   {
    "duration": 54,
    "start_time": "2022-06-10T12:50:38.439Z"
   },
   {
    "duration": 16,
    "start_time": "2022-06-10T12:50:38.494Z"
   },
   {
    "duration": 34,
    "start_time": "2022-06-10T12:50:38.511Z"
   },
   {
    "duration": 6,
    "start_time": "2022-06-10T12:50:38.546Z"
   },
   {
    "duration": 11,
    "start_time": "2022-06-10T12:50:38.554Z"
   },
   {
    "duration": 32,
    "start_time": "2022-06-10T12:50:38.566Z"
   },
   {
    "duration": 2,
    "start_time": "2022-06-10T12:51:18.012Z"
   },
   {
    "duration": 157,
    "start_time": "2022-06-10T12:51:18.016Z"
   },
   {
    "duration": 135,
    "start_time": "2022-06-10T12:51:18.174Z"
   },
   {
    "duration": 92,
    "start_time": "2022-06-10T12:51:18.310Z"
   },
   {
    "duration": 25,
    "start_time": "2022-06-10T12:51:18.404Z"
   },
   {
    "duration": 41,
    "start_time": "2022-06-10T12:51:18.431Z"
   },
   {
    "duration": 5,
    "start_time": "2022-06-10T12:51:18.473Z"
   },
   {
    "duration": 29,
    "start_time": "2022-06-10T12:51:18.479Z"
   },
   {
    "duration": 61,
    "start_time": "2022-06-10T12:51:18.510Z"
   },
   {
    "duration": 59,
    "start_time": "2022-06-10T12:51:18.572Z"
   },
   {
    "duration": 22,
    "start_time": "2022-06-10T12:51:18.633Z"
   },
   {
    "duration": 6,
    "start_time": "2022-06-10T12:51:18.656Z"
   },
   {
    "duration": 58,
    "start_time": "2022-06-10T12:51:18.664Z"
   },
   {
    "duration": 16,
    "start_time": "2022-06-10T12:51:18.724Z"
   },
   {
    "duration": 35,
    "start_time": "2022-06-10T12:51:18.742Z"
   },
   {
    "duration": 13,
    "start_time": "2022-06-10T12:51:18.779Z"
   },
   {
    "duration": 6,
    "start_time": "2022-06-10T12:51:18.794Z"
   },
   {
    "duration": 15,
    "start_time": "2022-06-10T12:51:18.801Z"
   },
   {
    "duration": 12,
    "start_time": "2022-06-10T12:51:50.996Z"
   },
   {
    "duration": 2,
    "start_time": "2022-06-10T12:51:54.690Z"
   },
   {
    "duration": 162,
    "start_time": "2022-06-10T12:51:54.694Z"
   },
   {
    "duration": 126,
    "start_time": "2022-06-10T12:51:54.857Z"
   },
   {
    "duration": 93,
    "start_time": "2022-06-10T12:51:54.985Z"
   },
   {
    "duration": 25,
    "start_time": "2022-06-10T12:51:55.080Z"
   },
   {
    "duration": 40,
    "start_time": "2022-06-10T12:51:55.107Z"
   },
   {
    "duration": 5,
    "start_time": "2022-06-10T12:51:55.148Z"
   },
   {
    "duration": 27,
    "start_time": "2022-06-10T12:51:55.154Z"
   },
   {
    "duration": 60,
    "start_time": "2022-06-10T12:51:55.183Z"
   },
   {
    "duration": 63,
    "start_time": "2022-06-10T12:51:55.245Z"
   },
   {
    "duration": 19,
    "start_time": "2022-06-10T12:51:55.310Z"
   },
   {
    "duration": 6,
    "start_time": "2022-06-10T12:51:55.330Z"
   },
   {
    "duration": 54,
    "start_time": "2022-06-10T12:51:55.338Z"
   },
   {
    "duration": 17,
    "start_time": "2022-06-10T12:51:55.393Z"
   },
   {
    "duration": 36,
    "start_time": "2022-06-10T12:51:55.411Z"
   },
   {
    "duration": 8,
    "start_time": "2022-06-10T12:51:55.449Z"
   },
   {
    "duration": 10,
    "start_time": "2022-06-10T12:51:55.458Z"
   },
   {
    "duration": 33,
    "start_time": "2022-06-10T12:51:55.469Z"
   },
   {
    "duration": 12,
    "start_time": "2022-06-10T12:53:47.206Z"
   },
   {
    "duration": 4,
    "start_time": "2022-06-10T12:54:33.331Z"
   },
   {
    "duration": 5,
    "start_time": "2022-06-10T12:54:45.755Z"
   },
   {
    "duration": 2,
    "start_time": "2022-06-10T12:55:52.314Z"
   },
   {
    "duration": 160,
    "start_time": "2022-06-10T12:55:52.318Z"
   },
   {
    "duration": 124,
    "start_time": "2022-06-10T12:55:52.480Z"
   },
   {
    "duration": 92,
    "start_time": "2022-06-10T12:55:52.606Z"
   },
   {
    "duration": 25,
    "start_time": "2022-06-10T12:55:52.700Z"
   },
   {
    "duration": 39,
    "start_time": "2022-06-10T12:55:52.726Z"
   },
   {
    "duration": 4,
    "start_time": "2022-06-10T12:55:52.766Z"
   },
   {
    "duration": 32,
    "start_time": "2022-06-10T12:55:52.771Z"
   },
   {
    "duration": 71,
    "start_time": "2022-06-10T12:55:52.804Z"
   },
   {
    "duration": 58,
    "start_time": "2022-06-10T12:55:52.877Z"
   },
   {
    "duration": 20,
    "start_time": "2022-06-10T12:55:52.937Z"
   },
   {
    "duration": 6,
    "start_time": "2022-06-10T12:55:52.958Z"
   },
   {
    "duration": 55,
    "start_time": "2022-06-10T12:55:52.965Z"
   },
   {
    "duration": 16,
    "start_time": "2022-06-10T12:55:53.021Z"
   },
   {
    "duration": 34,
    "start_time": "2022-06-10T12:55:53.038Z"
   },
   {
    "duration": 22,
    "start_time": "2022-06-10T12:55:53.073Z"
   },
   {
    "duration": 7,
    "start_time": "2022-06-10T12:55:53.096Z"
   },
   {
    "duration": 7,
    "start_time": "2022-06-10T12:55:53.104Z"
   },
   {
    "duration": 36,
    "start_time": "2022-06-10T12:55:53.112Z"
   },
   {
    "duration": 21,
    "start_time": "2022-06-10T12:55:53.149Z"
   },
   {
    "duration": 2,
    "start_time": "2022-06-10T12:57:34.788Z"
   },
   {
    "duration": 168,
    "start_time": "2022-06-10T12:57:34.792Z"
   },
   {
    "duration": 123,
    "start_time": "2022-06-10T12:57:34.961Z"
   },
   {
    "duration": 88,
    "start_time": "2022-06-10T12:57:35.086Z"
   },
   {
    "duration": 24,
    "start_time": "2022-06-10T12:57:35.176Z"
   },
   {
    "duration": 40,
    "start_time": "2022-06-10T12:57:35.201Z"
   },
   {
    "duration": 4,
    "start_time": "2022-06-10T12:57:35.243Z"
   },
   {
    "duration": 41,
    "start_time": "2022-06-10T12:57:35.248Z"
   },
   {
    "duration": 62,
    "start_time": "2022-06-10T12:57:35.291Z"
   },
   {
    "duration": 56,
    "start_time": "2022-06-10T12:57:35.355Z"
   },
   {
    "duration": 20,
    "start_time": "2022-06-10T12:57:35.413Z"
   },
   {
    "duration": 7,
    "start_time": "2022-06-10T12:57:35.435Z"
   },
   {
    "duration": 73,
    "start_time": "2022-06-10T12:57:35.443Z"
   },
   {
    "duration": 16,
    "start_time": "2022-06-10T12:57:35.519Z"
   },
   {
    "duration": 40,
    "start_time": "2022-06-10T12:57:35.537Z"
   },
   {
    "duration": 14,
    "start_time": "2022-06-10T12:57:35.578Z"
   },
   {
    "duration": 33,
    "start_time": "2022-06-10T12:57:35.593Z"
   },
   {
    "duration": 30,
    "start_time": "2022-06-10T12:57:35.627Z"
   },
   {
    "duration": 50,
    "start_time": "2022-06-10T12:57:35.658Z"
   },
   {
    "duration": 32,
    "start_time": "2022-06-10T12:57:35.710Z"
   },
   {
    "duration": 2,
    "start_time": "2022-06-10T12:57:44.210Z"
   },
   {
    "duration": 164,
    "start_time": "2022-06-10T12:57:44.215Z"
   },
   {
    "duration": 125,
    "start_time": "2022-06-10T12:57:44.380Z"
   },
   {
    "duration": 88,
    "start_time": "2022-06-10T12:57:44.507Z"
   },
   {
    "duration": 25,
    "start_time": "2022-06-10T12:57:44.597Z"
   },
   {
    "duration": 48,
    "start_time": "2022-06-10T12:57:44.624Z"
   },
   {
    "duration": 6,
    "start_time": "2022-06-10T12:57:44.673Z"
   },
   {
    "duration": 32,
    "start_time": "2022-06-10T12:57:44.680Z"
   },
   {
    "duration": 57,
    "start_time": "2022-06-10T12:57:44.714Z"
   },
   {
    "duration": 62,
    "start_time": "2022-06-10T12:57:44.772Z"
   },
   {
    "duration": 20,
    "start_time": "2022-06-10T12:57:44.835Z"
   },
   {
    "duration": 11,
    "start_time": "2022-06-10T12:57:44.856Z"
   },
   {
    "duration": 53,
    "start_time": "2022-06-10T12:57:44.868Z"
   },
   {
    "duration": 17,
    "start_time": "2022-06-10T12:57:44.922Z"
   },
   {
    "duration": 35,
    "start_time": "2022-06-10T12:57:44.940Z"
   },
   {
    "duration": 17,
    "start_time": "2022-06-10T12:57:44.976Z"
   },
   {
    "duration": 5,
    "start_time": "2022-06-10T12:57:44.995Z"
   },
   {
    "duration": 15,
    "start_time": "2022-06-10T12:57:45.001Z"
   },
   {
    "duration": 45,
    "start_time": "2022-06-10T12:57:45.017Z"
   },
   {
    "duration": 14,
    "start_time": "2022-06-10T12:57:45.064Z"
   },
   {
    "duration": 16,
    "start_time": "2022-06-10T12:58:08.793Z"
   },
   {
    "duration": 10,
    "start_time": "2022-06-10T12:58:18.414Z"
   },
   {
    "duration": 2,
    "start_time": "2022-06-10T13:03:36.189Z"
   },
   {
    "duration": 11,
    "start_time": "2022-06-10T13:06:18.840Z"
   },
   {
    "duration": 12,
    "start_time": "2022-06-10T13:18:40.320Z"
   },
   {
    "duration": 11,
    "start_time": "2022-06-10T13:20:09.314Z"
   },
   {
    "duration": 11,
    "start_time": "2022-06-10T13:20:15.821Z"
   },
   {
    "duration": 10,
    "start_time": "2022-06-10T13:21:03.076Z"
   },
   {
    "duration": 5,
    "start_time": "2022-06-10T13:22:05.460Z"
   },
   {
    "duration": 4,
    "start_time": "2022-06-10T13:33:15.206Z"
   },
   {
    "duration": 189,
    "start_time": "2022-06-10T13:33:15.212Z"
   },
   {
    "duration": 144,
    "start_time": "2022-06-10T13:33:15.403Z"
   },
   {
    "duration": 94,
    "start_time": "2022-06-10T13:33:15.549Z"
   },
   {
    "duration": 25,
    "start_time": "2022-06-10T13:33:15.645Z"
   },
   {
    "duration": 40,
    "start_time": "2022-06-10T13:33:15.672Z"
   },
   {
    "duration": 4,
    "start_time": "2022-06-10T13:33:15.713Z"
   },
   {
    "duration": 28,
    "start_time": "2022-06-10T13:33:15.719Z"
   },
   {
    "duration": 73,
    "start_time": "2022-06-10T13:33:15.750Z"
   },
   {
    "duration": 56,
    "start_time": "2022-06-10T13:33:15.825Z"
   },
   {
    "duration": 20,
    "start_time": "2022-06-10T13:33:15.891Z"
   },
   {
    "duration": 6,
    "start_time": "2022-06-10T13:33:15.912Z"
   },
   {
    "duration": 6,
    "start_time": "2022-06-10T13:33:15.920Z"
   },
   {
    "duration": 41,
    "start_time": "2022-06-10T13:33:15.928Z"
   },
   {
    "duration": 19,
    "start_time": "2022-06-10T13:33:15.990Z"
   },
   {
    "duration": 36,
    "start_time": "2022-06-10T13:33:16.010Z"
   },
   {
    "duration": 7,
    "start_time": "2022-06-10T13:33:16.048Z"
   },
   {
    "duration": 10,
    "start_time": "2022-06-10T13:33:16.057Z"
   },
   {
    "duration": 25,
    "start_time": "2022-06-10T13:33:16.068Z"
   },
   {
    "duration": 4,
    "start_time": "2022-06-10T13:33:16.094Z"
   },
   {
    "duration": 36,
    "start_time": "2022-06-10T13:33:16.099Z"
   },
   {
    "duration": 18,
    "start_time": "2022-06-10T13:33:16.136Z"
   },
   {
    "duration": 18,
    "start_time": "2022-06-10T13:33:16.156Z"
   },
   {
    "duration": 7,
    "start_time": "2022-06-10T13:33:24.364Z"
   },
   {
    "duration": 6,
    "start_time": "2022-06-10T13:35:17.862Z"
   },
   {
    "duration": 21,
    "start_time": "2022-06-10T13:36:26.664Z"
   },
   {
    "duration": 13,
    "start_time": "2022-06-10T13:36:57.492Z"
   },
   {
    "duration": 18,
    "start_time": "2022-06-10T13:37:27.039Z"
   },
   {
    "duration": 21,
    "start_time": "2022-06-10T13:37:30.846Z"
   },
   {
    "duration": 21,
    "start_time": "2022-06-10T13:37:38.221Z"
   },
   {
    "duration": 19,
    "start_time": "2022-06-10T13:37:52.914Z"
   },
   {
    "duration": 21,
    "start_time": "2022-06-10T13:38:44.890Z"
   },
   {
    "duration": 15,
    "start_time": "2022-06-10T13:39:49.049Z"
   },
   {
    "duration": 15,
    "start_time": "2022-06-10T13:42:54.656Z"
   },
   {
    "duration": 10,
    "start_time": "2022-06-10T13:54:21.965Z"
   },
   {
    "duration": 7,
    "start_time": "2022-06-10T13:57:20.726Z"
   },
   {
    "duration": 2,
    "start_time": "2022-06-10T13:58:28.015Z"
   },
   {
    "duration": 26,
    "start_time": "2022-06-10T14:05:30.228Z"
   },
   {
    "duration": 17,
    "start_time": "2022-06-10T14:05:38.107Z"
   },
   {
    "duration": 8,
    "start_time": "2022-06-10T14:19:32.228Z"
   },
   {
    "duration": 13,
    "start_time": "2022-06-10T14:24:32.669Z"
   },
   {
    "duration": 111,
    "start_time": "2022-06-10T14:31:45.383Z"
   },
   {
    "duration": 114,
    "start_time": "2022-06-10T14:32:49.410Z"
   },
   {
    "duration": 6,
    "start_time": "2022-06-10T14:36:28.126Z"
   },
   {
    "duration": 108,
    "start_time": "2022-06-10T14:37:53.538Z"
   },
   {
    "duration": 128,
    "start_time": "2022-06-10T14:55:37.826Z"
   },
   {
    "duration": 194,
    "start_time": "2022-06-10T14:55:58.808Z"
   },
   {
    "duration": 239,
    "start_time": "2022-06-10T14:56:53.012Z"
   },
   {
    "duration": 234,
    "start_time": "2022-06-10T14:57:06.225Z"
   },
   {
    "duration": 281,
    "start_time": "2022-06-10T14:59:11.948Z"
   },
   {
    "duration": 266,
    "start_time": "2022-06-10T15:02:00.743Z"
   },
   {
    "duration": 235,
    "start_time": "2022-06-10T15:02:26.422Z"
   },
   {
    "duration": 237,
    "start_time": "2022-06-10T15:03:14.990Z"
   },
   {
    "duration": 234,
    "start_time": "2022-06-10T15:03:25.980Z"
   },
   {
    "duration": 225,
    "start_time": "2022-06-10T15:03:41.153Z"
   },
   {
    "duration": 243,
    "start_time": "2022-06-10T15:03:58.909Z"
   },
   {
    "duration": 237,
    "start_time": "2022-06-10T15:04:13.047Z"
   },
   {
    "duration": 4,
    "start_time": "2022-06-10T15:07:30.326Z"
   },
   {
    "duration": 2,
    "start_time": "2022-06-10T15:07:34.063Z"
   },
   {
    "duration": 353,
    "start_time": "2022-06-10T15:07:34.067Z"
   },
   {
    "duration": 138,
    "start_time": "2022-06-10T15:07:34.421Z"
   },
   {
    "duration": 102,
    "start_time": "2022-06-10T15:07:34.561Z"
   },
   {
    "duration": 31,
    "start_time": "2022-06-10T15:07:34.665Z"
   },
   {
    "duration": 55,
    "start_time": "2022-06-10T15:07:34.699Z"
   },
   {
    "duration": 5,
    "start_time": "2022-06-10T15:07:34.755Z"
   },
   {
    "duration": 54,
    "start_time": "2022-06-10T15:07:34.761Z"
   },
   {
    "duration": 75,
    "start_time": "2022-06-10T15:07:34.817Z"
   },
   {
    "duration": 62,
    "start_time": "2022-06-10T15:07:34.899Z"
   },
   {
    "duration": 33,
    "start_time": "2022-06-10T15:07:34.963Z"
   },
   {
    "duration": 15,
    "start_time": "2022-06-10T15:07:34.997Z"
   },
   {
    "duration": 11,
    "start_time": "2022-06-10T15:07:35.014Z"
   },
   {
    "duration": 58,
    "start_time": "2022-06-10T15:07:35.027Z"
   },
   {
    "duration": 31,
    "start_time": "2022-06-10T15:07:35.086Z"
   },
   {
    "duration": 42,
    "start_time": "2022-06-10T15:07:35.119Z"
   },
   {
    "duration": 8,
    "start_time": "2022-06-10T15:07:35.163Z"
   },
   {
    "duration": 41,
    "start_time": "2022-06-10T15:07:35.173Z"
   },
   {
    "duration": 10,
    "start_time": "2022-06-10T15:07:35.216Z"
   },
   {
    "duration": 14,
    "start_time": "2022-06-10T15:07:35.228Z"
   },
   {
    "duration": 60,
    "start_time": "2022-06-10T15:07:35.243Z"
   },
   {
    "duration": 11,
    "start_time": "2022-06-10T15:07:35.305Z"
   },
   {
    "duration": 11,
    "start_time": "2022-06-10T15:07:35.318Z"
   },
   {
    "duration": 11,
    "start_time": "2022-06-10T15:07:35.331Z"
   },
   {
    "duration": 302,
    "start_time": "2022-06-10T15:07:35.344Z"
   },
   {
    "duration": 275,
    "start_time": "2022-06-10T15:08:04.939Z"
   },
   {
    "duration": 305,
    "start_time": "2022-06-10T15:08:16.038Z"
   },
   {
    "duration": 253,
    "start_time": "2022-06-10T15:10:23.770Z"
   },
   {
    "duration": 247,
    "start_time": "2022-06-10T15:12:32.612Z"
   },
   {
    "duration": 4,
    "start_time": "2022-06-10T15:18:54.766Z"
   },
   {
    "duration": 3,
    "start_time": "2022-06-10T15:19:53.458Z"
   },
   {
    "duration": 170,
    "start_time": "2022-06-10T15:19:53.463Z"
   },
   {
    "duration": 129,
    "start_time": "2022-06-10T15:19:53.634Z"
   },
   {
    "duration": 97,
    "start_time": "2022-06-10T15:19:53.765Z"
   },
   {
    "duration": 32,
    "start_time": "2022-06-10T15:19:53.864Z"
   },
   {
    "duration": 48,
    "start_time": "2022-06-10T15:19:53.897Z"
   },
   {
    "duration": 5,
    "start_time": "2022-06-10T15:19:53.947Z"
   },
   {
    "duration": 37,
    "start_time": "2022-06-10T15:19:53.953Z"
   },
   {
    "duration": 77,
    "start_time": "2022-06-10T15:19:53.992Z"
   },
   {
    "duration": 72,
    "start_time": "2022-06-10T15:19:54.070Z"
   },
   {
    "duration": 20,
    "start_time": "2022-06-10T15:19:54.144Z"
   },
   {
    "duration": 5,
    "start_time": "2022-06-10T15:19:54.166Z"
   },
   {
    "duration": 18,
    "start_time": "2022-06-10T15:19:54.173Z"
   },
   {
    "duration": 67,
    "start_time": "2022-06-10T15:19:54.198Z"
   },
   {
    "duration": 30,
    "start_time": "2022-06-10T15:19:54.267Z"
   },
   {
    "duration": 41,
    "start_time": "2022-06-10T15:19:54.299Z"
   },
   {
    "duration": 8,
    "start_time": "2022-06-10T15:19:54.341Z"
   },
   {
    "duration": 6,
    "start_time": "2022-06-10T15:19:54.351Z"
   },
   {
    "duration": 12,
    "start_time": "2022-06-10T15:19:54.358Z"
   },
   {
    "duration": 38,
    "start_time": "2022-06-10T15:19:54.372Z"
   },
   {
    "duration": 44,
    "start_time": "2022-06-10T15:19:54.414Z"
   },
   {
    "duration": 8,
    "start_time": "2022-06-10T15:19:54.460Z"
   },
   {
    "duration": 11,
    "start_time": "2022-06-10T15:19:54.469Z"
   },
   {
    "duration": 18,
    "start_time": "2022-06-10T15:19:54.483Z"
   },
   {
    "duration": 293,
    "start_time": "2022-06-10T15:19:54.503Z"
   },
   {
    "duration": 7,
    "start_time": "2022-06-10T15:29:36.172Z"
   },
   {
    "duration": 7,
    "start_time": "2022-06-10T16:00:12.582Z"
   },
   {
    "duration": 10,
    "start_time": "2022-06-10T16:01:53.705Z"
   },
   {
    "duration": 642,
    "start_time": "2022-06-10T16:02:39.212Z"
   },
   {
    "duration": 946,
    "start_time": "2022-06-10T16:02:56.004Z"
   },
   {
    "duration": 1006,
    "start_time": "2022-06-10T16:03:52.149Z"
   },
   {
    "duration": 5,
    "start_time": "2022-06-10T16:04:54.516Z"
   },
   {
    "duration": 30,
    "start_time": "2022-06-10T16:05:16.680Z"
   },
   {
    "duration": 4,
    "start_time": "2022-06-10T16:05:21.603Z"
   },
   {
    "duration": 987,
    "start_time": "2022-06-10T16:05:46.676Z"
   },
   {
    "duration": 33,
    "start_time": "2022-06-10T16:06:10.072Z"
   },
   {
    "duration": 4,
    "start_time": "2022-06-10T16:06:20.979Z"
   },
   {
    "duration": 5,
    "start_time": "2022-06-10T16:06:26.200Z"
   },
   {
    "duration": 4,
    "start_time": "2022-06-10T16:06:36.735Z"
   },
   {
    "duration": 35,
    "start_time": "2022-06-10T16:06:40.876Z"
   },
   {
    "duration": 926,
    "start_time": "2022-06-10T16:06:45.463Z"
   },
   {
    "duration": 32,
    "start_time": "2022-06-10T16:06:51.951Z"
   },
   {
    "duration": 36,
    "start_time": "2022-06-10T16:06:57.493Z"
   },
   {
    "duration": 1009,
    "start_time": "2022-06-10T16:08:38.530Z"
   },
   {
    "duration": 1570,
    "start_time": "2022-06-10T16:09:00.566Z"
   },
   {
    "duration": 956,
    "start_time": "2022-06-10T16:09:29.548Z"
   },
   {
    "duration": 944,
    "start_time": "2022-06-10T16:11:09.033Z"
   },
   {
    "duration": 958,
    "start_time": "2022-06-10T16:11:13.175Z"
   },
   {
    "duration": 985,
    "start_time": "2022-06-10T16:12:16.397Z"
   },
   {
    "duration": 934,
    "start_time": "2022-06-10T16:19:23.888Z"
   },
   {
    "duration": 926,
    "start_time": "2022-06-10T16:21:04.105Z"
   },
   {
    "duration": 991,
    "start_time": "2022-06-10T16:21:39.025Z"
   },
   {
    "duration": 3,
    "start_time": "2022-06-10T16:28:27.937Z"
   },
   {
    "duration": 2,
    "start_time": "2022-06-10T16:28:34.817Z"
   },
   {
    "duration": 178,
    "start_time": "2022-06-10T16:28:34.821Z"
   },
   {
    "duration": 127,
    "start_time": "2022-06-10T16:28:35.001Z"
   },
   {
    "duration": 86,
    "start_time": "2022-06-10T16:28:35.130Z"
   },
   {
    "duration": 25,
    "start_time": "2022-06-10T16:28:35.218Z"
   },
   {
    "duration": 40,
    "start_time": "2022-06-10T16:28:35.245Z"
   },
   {
    "duration": 4,
    "start_time": "2022-06-10T16:28:35.286Z"
   },
   {
    "duration": 38,
    "start_time": "2022-06-10T16:28:35.291Z"
   },
   {
    "duration": 88,
    "start_time": "2022-06-10T16:28:35.331Z"
   },
   {
    "duration": 56,
    "start_time": "2022-06-10T16:28:35.421Z"
   },
   {
    "duration": 26,
    "start_time": "2022-06-10T16:28:35.479Z"
   },
   {
    "duration": 28,
    "start_time": "2022-06-10T16:28:35.507Z"
   },
   {
    "duration": 35,
    "start_time": "2022-06-10T16:28:35.536Z"
   },
   {
    "duration": 57,
    "start_time": "2022-06-10T16:28:35.572Z"
   },
   {
    "duration": 17,
    "start_time": "2022-06-10T16:28:35.631Z"
   },
   {
    "duration": 51,
    "start_time": "2022-06-10T16:28:35.649Z"
   },
   {
    "duration": 6,
    "start_time": "2022-06-10T16:28:35.702Z"
   },
   {
    "duration": 16,
    "start_time": "2022-06-10T16:28:35.710Z"
   },
   {
    "duration": 20,
    "start_time": "2022-06-10T16:28:35.727Z"
   },
   {
    "duration": 24,
    "start_time": "2022-06-10T16:28:35.748Z"
   },
   {
    "duration": 60,
    "start_time": "2022-06-10T16:28:35.774Z"
   },
   {
    "duration": 26,
    "start_time": "2022-06-10T16:28:35.835Z"
   },
   {
    "duration": 246,
    "start_time": "2022-06-10T16:28:35.863Z"
   },
   {
    "duration": 1408,
    "start_time": "2022-06-10T16:28:36.111Z"
   },
   {
    "duration": 970,
    "start_time": "2022-06-10T16:28:55.672Z"
   },
   {
    "duration": 1022,
    "start_time": "2022-06-10T16:30:00.406Z"
   },
   {
    "duration": 977,
    "start_time": "2022-06-10T16:30:23.649Z"
   },
   {
    "duration": 233,
    "start_time": "2022-06-10T16:34:36.115Z"
   },
   {
    "duration": 487,
    "start_time": "2022-06-10T16:34:59.652Z"
   },
   {
    "duration": 9,
    "start_time": "2022-06-10T16:35:36.469Z"
   },
   {
    "duration": 2,
    "start_time": "2022-06-10T16:36:08.654Z"
   },
   {
    "duration": 156,
    "start_time": "2022-06-10T16:36:08.658Z"
   },
   {
    "duration": 123,
    "start_time": "2022-06-10T16:36:08.815Z"
   },
   {
    "duration": 84,
    "start_time": "2022-06-10T16:36:08.940Z"
   },
   {
    "duration": 24,
    "start_time": "2022-06-10T16:36:09.026Z"
   },
   {
    "duration": 39,
    "start_time": "2022-06-10T16:36:09.051Z"
   },
   {
    "duration": 4,
    "start_time": "2022-06-10T16:36:09.091Z"
   },
   {
    "duration": 27,
    "start_time": "2022-06-10T16:36:09.096Z"
   },
   {
    "duration": 70,
    "start_time": "2022-06-10T16:36:09.125Z"
   },
   {
    "duration": 55,
    "start_time": "2022-06-10T16:36:09.196Z"
   },
   {
    "duration": 19,
    "start_time": "2022-06-10T16:36:09.253Z"
   },
   {
    "duration": 21,
    "start_time": "2022-06-10T16:36:09.273Z"
   },
   {
    "duration": 6,
    "start_time": "2022-06-10T16:36:09.295Z"
   },
   {
    "duration": 46,
    "start_time": "2022-06-10T16:36:09.303Z"
   },
   {
    "duration": 16,
    "start_time": "2022-06-10T16:36:09.350Z"
   },
   {
    "duration": 41,
    "start_time": "2022-06-10T16:36:09.368Z"
   },
   {
    "duration": 6,
    "start_time": "2022-06-10T16:36:09.410Z"
   },
   {
    "duration": 4,
    "start_time": "2022-06-10T16:36:09.418Z"
   },
   {
    "duration": 7,
    "start_time": "2022-06-10T16:36:09.424Z"
   },
   {
    "duration": 62,
    "start_time": "2022-06-10T16:36:09.432Z"
   },
   {
    "duration": 5,
    "start_time": "2022-06-10T16:36:09.496Z"
   },
   {
    "duration": 239,
    "start_time": "2022-06-10T16:36:09.502Z"
   },
   {
    "duration": 9,
    "start_time": "2022-06-10T16:36:09.742Z"
   },
   {
    "duration": 8,
    "start_time": "2022-06-10T16:36:57.612Z"
   },
   {
    "duration": 13,
    "start_time": "2022-06-10T16:37:04.206Z"
   },
   {
    "duration": 993,
    "start_time": "2022-06-10T16:37:25.680Z"
   },
   {
    "duration": 1658,
    "start_time": "2022-06-10T16:39:19.501Z"
   },
   {
    "duration": 1265,
    "start_time": "2022-06-10T16:40:50.896Z"
   },
   {
    "duration": 323,
    "start_time": "2022-06-10T16:41:49.253Z"
   },
   {
    "duration": 496,
    "start_time": "2022-06-10T16:42:19.732Z"
   },
   {
    "duration": 390,
    "start_time": "2022-06-10T16:42:37.631Z"
   },
   {
    "duration": 345,
    "start_time": "2022-06-10T16:43:24.111Z"
   },
   {
    "duration": 365,
    "start_time": "2022-06-10T16:45:06.362Z"
   },
   {
    "duration": 344,
    "start_time": "2022-06-10T16:46:08.661Z"
   },
   {
    "duration": 22,
    "start_time": "2022-06-10T16:46:28.730Z"
   },
   {
    "duration": 3,
    "start_time": "2022-06-10T16:47:00.068Z"
   },
   {
    "duration": 183,
    "start_time": "2022-06-10T16:47:00.072Z"
   },
   {
    "duration": 140,
    "start_time": "2022-06-10T16:47:00.257Z"
   },
   {
    "duration": 99,
    "start_time": "2022-06-10T16:47:00.406Z"
   },
   {
    "duration": 27,
    "start_time": "2022-06-10T16:47:00.506Z"
   },
   {
    "duration": 41,
    "start_time": "2022-06-10T16:47:00.534Z"
   },
   {
    "duration": 4,
    "start_time": "2022-06-10T16:47:00.577Z"
   },
   {
    "duration": 37,
    "start_time": "2022-06-10T16:47:00.582Z"
   },
   {
    "duration": 61,
    "start_time": "2022-06-10T16:47:00.621Z"
   },
   {
    "duration": 56,
    "start_time": "2022-06-10T16:47:00.696Z"
   },
   {
    "duration": 19,
    "start_time": "2022-06-10T16:47:00.753Z"
   },
   {
    "duration": 9,
    "start_time": "2022-06-10T16:47:00.774Z"
   },
   {
    "duration": 26,
    "start_time": "2022-06-10T16:47:00.790Z"
   },
   {
    "duration": 48,
    "start_time": "2022-06-10T16:47:00.817Z"
   },
   {
    "duration": 17,
    "start_time": "2022-06-10T16:47:00.866Z"
   },
   {
    "duration": 55,
    "start_time": "2022-06-10T16:47:00.884Z"
   },
   {
    "duration": 6,
    "start_time": "2022-06-10T16:47:00.941Z"
   },
   {
    "duration": 6,
    "start_time": "2022-06-10T16:47:00.949Z"
   },
   {
    "duration": 7,
    "start_time": "2022-06-10T16:47:00.956Z"
   },
   {
    "duration": 47,
    "start_time": "2022-06-10T16:47:00.964Z"
   },
   {
    "duration": 10,
    "start_time": "2022-06-10T16:47:01.013Z"
   },
   {
    "duration": 238,
    "start_time": "2022-06-10T16:47:01.024Z"
   },
   {
    "duration": 1235,
    "start_time": "2022-06-10T16:47:01.264Z"
   },
   {
    "duration": 3,
    "start_time": "2022-06-10T16:48:14.506Z"
   },
   {
    "duration": 157,
    "start_time": "2022-06-10T16:48:14.511Z"
   },
   {
    "duration": 146,
    "start_time": "2022-06-10T16:48:14.669Z"
   },
   {
    "duration": 94,
    "start_time": "2022-06-10T16:48:14.816Z"
   },
   {
    "duration": 25,
    "start_time": "2022-06-10T16:48:14.911Z"
   },
   {
    "duration": 39,
    "start_time": "2022-06-10T16:48:14.937Z"
   },
   {
    "duration": 4,
    "start_time": "2022-06-10T16:48:14.977Z"
   },
   {
    "duration": 36,
    "start_time": "2022-06-10T16:48:14.983Z"
   },
   {
    "duration": 68,
    "start_time": "2022-06-10T16:48:15.021Z"
   },
   {
    "duration": 58,
    "start_time": "2022-06-10T16:48:15.091Z"
   },
   {
    "duration": 20,
    "start_time": "2022-06-10T16:48:15.151Z"
   },
   {
    "duration": 23,
    "start_time": "2022-06-10T16:48:15.172Z"
   },
   {
    "duration": 8,
    "start_time": "2022-06-10T16:48:15.199Z"
   },
   {
    "duration": 57,
    "start_time": "2022-06-10T16:48:15.208Z"
   },
   {
    "duration": 18,
    "start_time": "2022-06-10T16:48:15.267Z"
   },
   {
    "duration": 54,
    "start_time": "2022-06-10T16:48:15.286Z"
   },
   {
    "duration": 7,
    "start_time": "2022-06-10T16:48:15.341Z"
   },
   {
    "duration": 20,
    "start_time": "2022-06-10T16:48:15.349Z"
   },
   {
    "duration": 31,
    "start_time": "2022-06-10T16:48:15.370Z"
   },
   {
    "duration": 48,
    "start_time": "2022-06-10T16:48:15.403Z"
   },
   {
    "duration": 17,
    "start_time": "2022-06-10T16:48:15.452Z"
   },
   {
    "duration": 246,
    "start_time": "2022-06-10T16:48:15.470Z"
   },
   {
    "duration": 340,
    "start_time": "2022-06-10T16:48:15.717Z"
   },
   {
    "duration": 4,
    "start_time": "2022-06-10T16:48:34.210Z"
   },
   {
    "duration": 161,
    "start_time": "2022-06-10T16:48:34.216Z"
   },
   {
    "duration": 149,
    "start_time": "2022-06-10T16:48:34.379Z"
   },
   {
    "duration": 93,
    "start_time": "2022-06-10T16:48:34.530Z"
   },
   {
    "duration": 25,
    "start_time": "2022-06-10T16:48:34.625Z"
   },
   {
    "duration": 40,
    "start_time": "2022-06-10T16:48:34.651Z"
   },
   {
    "duration": 8,
    "start_time": "2022-06-10T16:48:34.697Z"
   },
   {
    "duration": 28,
    "start_time": "2022-06-10T16:48:34.709Z"
   },
   {
    "duration": 75,
    "start_time": "2022-06-10T16:48:34.738Z"
   },
   {
    "duration": 56,
    "start_time": "2022-06-10T16:48:34.815Z"
   },
   {
    "duration": 37,
    "start_time": "2022-06-10T16:48:34.872Z"
   },
   {
    "duration": 7,
    "start_time": "2022-06-10T16:48:34.910Z"
   },
   {
    "duration": 8,
    "start_time": "2022-06-10T16:48:34.919Z"
   },
   {
    "duration": 46,
    "start_time": "2022-06-10T16:48:34.930Z"
   },
   {
    "duration": 30,
    "start_time": "2022-06-10T16:48:34.978Z"
   },
   {
    "duration": 45,
    "start_time": "2022-06-10T16:48:35.009Z"
   },
   {
    "duration": 9,
    "start_time": "2022-06-10T16:48:35.055Z"
   },
   {
    "duration": 10,
    "start_time": "2022-06-10T16:48:35.065Z"
   },
   {
    "duration": 18,
    "start_time": "2022-06-10T16:48:35.077Z"
   },
   {
    "duration": 52,
    "start_time": "2022-06-10T16:48:35.098Z"
   },
   {
    "duration": 8,
    "start_time": "2022-06-10T16:48:35.151Z"
   },
   {
    "duration": 245,
    "start_time": "2022-06-10T16:48:35.161Z"
   },
   {
    "duration": 359,
    "start_time": "2022-06-10T16:48:35.407Z"
   },
   {
    "duration": 3,
    "start_time": "2022-06-10T16:48:59.725Z"
   },
   {
    "duration": 155,
    "start_time": "2022-06-10T16:48:59.729Z"
   },
   {
    "duration": 137,
    "start_time": "2022-06-10T16:48:59.891Z"
   },
   {
    "duration": 96,
    "start_time": "2022-06-10T16:49:00.030Z"
   },
   {
    "duration": 26,
    "start_time": "2022-06-10T16:49:00.128Z"
   },
   {
    "duration": 45,
    "start_time": "2022-06-10T16:49:00.156Z"
   },
   {
    "duration": 5,
    "start_time": "2022-06-10T16:49:00.206Z"
   },
   {
    "duration": 45,
    "start_time": "2022-06-10T16:49:00.213Z"
   },
   {
    "duration": 89,
    "start_time": "2022-06-10T16:49:00.260Z"
   },
   {
    "duration": 69,
    "start_time": "2022-06-10T16:49:00.351Z"
   },
   {
    "duration": 23,
    "start_time": "2022-06-10T16:49:00.422Z"
   },
   {
    "duration": 8,
    "start_time": "2022-06-10T16:49:00.446Z"
   },
   {
    "duration": 12,
    "start_time": "2022-06-10T16:49:00.455Z"
   },
   {
    "duration": 62,
    "start_time": "2022-06-10T16:49:00.468Z"
   },
   {
    "duration": 18,
    "start_time": "2022-06-10T16:49:00.532Z"
   },
   {
    "duration": 51,
    "start_time": "2022-06-10T16:49:00.552Z"
   },
   {
    "duration": 7,
    "start_time": "2022-06-10T16:49:00.605Z"
   },
   {
    "duration": 20,
    "start_time": "2022-06-10T16:49:00.613Z"
   },
   {
    "duration": 14,
    "start_time": "2022-06-10T16:49:00.634Z"
   },
   {
    "duration": 56,
    "start_time": "2022-06-10T16:49:00.649Z"
   },
   {
    "duration": 7,
    "start_time": "2022-06-10T16:49:00.707Z"
   },
   {
    "duration": 248,
    "start_time": "2022-06-10T16:49:00.715Z"
   },
   {
    "duration": 374,
    "start_time": "2022-06-10T16:49:00.965Z"
   },
   {
    "duration": 3,
    "start_time": "2022-06-10T16:49:17.747Z"
   },
   {
    "duration": 170,
    "start_time": "2022-06-10T16:49:17.752Z"
   },
   {
    "duration": 135,
    "start_time": "2022-06-10T16:49:17.923Z"
   },
   {
    "duration": 90,
    "start_time": "2022-06-10T16:49:18.059Z"
   },
   {
    "duration": 24,
    "start_time": "2022-06-10T16:49:18.150Z"
   },
   {
    "duration": 44,
    "start_time": "2022-06-10T16:49:18.176Z"
   },
   {
    "duration": 4,
    "start_time": "2022-06-10T16:49:18.222Z"
   },
   {
    "duration": 30,
    "start_time": "2022-06-10T16:49:18.227Z"
   },
   {
    "duration": 73,
    "start_time": "2022-06-10T16:49:18.260Z"
   },
   {
    "duration": 57,
    "start_time": "2022-06-10T16:49:18.334Z"
   },
   {
    "duration": 24,
    "start_time": "2022-06-10T16:49:18.392Z"
   },
   {
    "duration": 6,
    "start_time": "2022-06-10T16:49:18.417Z"
   },
   {
    "duration": 10,
    "start_time": "2022-06-10T16:49:18.424Z"
   },
   {
    "duration": 61,
    "start_time": "2022-06-10T16:49:18.435Z"
   },
   {
    "duration": 16,
    "start_time": "2022-06-10T16:49:18.505Z"
   },
   {
    "duration": 34,
    "start_time": "2022-06-10T16:49:18.523Z"
   },
   {
    "duration": 7,
    "start_time": "2022-06-10T16:49:18.558Z"
   },
   {
    "duration": 6,
    "start_time": "2022-06-10T16:49:18.566Z"
   },
   {
    "duration": 8,
    "start_time": "2022-06-10T16:49:18.573Z"
   },
   {
    "duration": 39,
    "start_time": "2022-06-10T16:49:18.582Z"
   },
   {
    "duration": 2,
    "start_time": "2022-06-10T16:49:18.622Z"
   },
   {
    "duration": 237,
    "start_time": "2022-06-10T16:49:18.625Z"
   },
   {
    "duration": 1192,
    "start_time": "2022-06-10T16:49:18.864Z"
   },
   {
    "duration": 1161,
    "start_time": "2022-06-10T16:51:57.150Z"
   },
   {
    "duration": 1146,
    "start_time": "2022-06-10T16:53:09.153Z"
   },
   {
    "duration": 1224,
    "start_time": "2022-06-10T16:53:45.912Z"
   },
   {
    "duration": 105,
    "start_time": "2022-06-10T17:01:42.917Z"
   },
   {
    "duration": 25,
    "start_time": "2022-06-10T17:05:57.102Z"
   },
   {
    "duration": 23,
    "start_time": "2022-06-10T17:07:28.525Z"
   },
   {
    "duration": 23,
    "start_time": "2022-06-10T17:08:00.603Z"
   },
   {
    "duration": 306,
    "start_time": "2022-06-10T17:15:00.086Z"
   },
   {
    "duration": 133,
    "start_time": "2022-06-10T17:15:26.108Z"
   },
   {
    "duration": 128,
    "start_time": "2022-06-10T17:15:50.160Z"
   },
   {
    "duration": 110,
    "start_time": "2022-06-10T17:15:57.992Z"
   },
   {
    "duration": 99,
    "start_time": "2022-06-10T17:16:03.343Z"
   },
   {
    "duration": 110,
    "start_time": "2022-06-10T17:16:11.170Z"
   },
   {
    "duration": 163,
    "start_time": "2022-06-10T17:16:19.515Z"
   },
   {
    "duration": 434,
    "start_time": "2022-06-10T17:22:01.386Z"
   },
   {
    "duration": 26,
    "start_time": "2022-06-10T17:51:46.186Z"
   },
   {
    "duration": 456,
    "start_time": "2022-06-10T18:01:10.454Z"
   },
   {
    "duration": 347,
    "start_time": "2022-06-10T18:02:07.654Z"
   },
   {
    "duration": 10,
    "start_time": "2022-06-10T18:02:25.897Z"
   },
   {
    "duration": 27,
    "start_time": "2022-06-10T18:06:33.248Z"
   },
   {
    "duration": 7,
    "start_time": "2022-06-10T18:14:27.290Z"
   },
   {
    "duration": 78,
    "start_time": "2022-06-10T18:15:43.833Z"
   },
   {
    "duration": 877,
    "start_time": "2022-06-10T18:15:51.034Z"
   },
   {
    "duration": 4,
    "start_time": "2022-06-10T18:17:10.663Z"
   },
   {
    "duration": 795,
    "start_time": "2022-06-10T18:17:16.619Z"
   },
   {
    "duration": 3,
    "start_time": "2022-06-10T18:17:20.579Z"
   },
   {
    "duration": 155,
    "start_time": "2022-06-10T18:17:20.584Z"
   },
   {
    "duration": 129,
    "start_time": "2022-06-10T18:17:20.741Z"
   },
   {
    "duration": 88,
    "start_time": "2022-06-10T18:17:20.872Z"
   },
   {
    "duration": 25,
    "start_time": "2022-06-10T18:17:20.962Z"
   },
   {
    "duration": 40,
    "start_time": "2022-06-10T18:17:20.988Z"
   },
   {
    "duration": 4,
    "start_time": "2022-06-10T18:17:21.030Z"
   },
   {
    "duration": 32,
    "start_time": "2022-06-10T18:17:21.035Z"
   },
   {
    "duration": 62,
    "start_time": "2022-06-10T18:17:21.068Z"
   },
   {
    "duration": 64,
    "start_time": "2022-06-10T18:17:21.131Z"
   },
   {
    "duration": 20,
    "start_time": "2022-06-10T18:17:21.197Z"
   },
   {
    "duration": 6,
    "start_time": "2022-06-10T18:17:21.219Z"
   },
   {
    "duration": 11,
    "start_time": "2022-06-10T18:17:21.227Z"
   },
   {
    "duration": 52,
    "start_time": "2022-06-10T18:17:21.240Z"
   },
   {
    "duration": 17,
    "start_time": "2022-06-10T18:17:21.293Z"
   },
   {
    "duration": 35,
    "start_time": "2022-06-10T18:17:21.312Z"
   },
   {
    "duration": 7,
    "start_time": "2022-06-10T18:17:21.348Z"
   },
   {
    "duration": 9,
    "start_time": "2022-06-10T18:17:21.356Z"
   },
   {
    "duration": 12,
    "start_time": "2022-06-10T18:17:21.366Z"
   },
   {
    "duration": 37,
    "start_time": "2022-06-10T18:17:21.390Z"
   },
   {
    "duration": 8,
    "start_time": "2022-06-10T18:17:21.428Z"
   },
   {
    "duration": 239,
    "start_time": "2022-06-10T18:17:21.438Z"
   },
   {
    "duration": 1263,
    "start_time": "2022-06-10T18:17:21.679Z"
   },
   {
    "duration": 15,
    "start_time": "2022-06-10T18:17:22.944Z"
   },
   {
    "duration": 0,
    "start_time": "2022-06-10T18:17:22.960Z"
   },
   {
    "duration": 0,
    "start_time": "2022-06-10T18:17:22.962Z"
   },
   {
    "duration": 836,
    "start_time": "2022-06-10T18:17:28.809Z"
   },
   {
    "duration": 171,
    "start_time": "2022-06-10T18:18:37.105Z"
   },
   {
    "duration": 189,
    "start_time": "2022-06-10T18:20:42.135Z"
   },
   {
    "duration": 24,
    "start_time": "2022-06-10T18:33:03.586Z"
   },
   {
    "duration": 3,
    "start_time": "2022-06-10T18:35:14.784Z"
   },
   {
    "duration": 9,
    "start_time": "2022-06-10T18:35:21.176Z"
   },
   {
    "duration": 4,
    "start_time": "2022-06-10T18:36:28.847Z"
   },
   {
    "duration": 26,
    "start_time": "2022-06-10T18:37:03.665Z"
   },
   {
    "duration": 2,
    "start_time": "2022-06-10T18:37:17.173Z"
   },
   {
    "duration": 154,
    "start_time": "2022-06-10T18:37:17.177Z"
   },
   {
    "duration": 129,
    "start_time": "2022-06-10T18:37:17.333Z"
   },
   {
    "duration": 90,
    "start_time": "2022-06-10T18:37:17.463Z"
   },
   {
    "duration": 26,
    "start_time": "2022-06-10T18:37:17.554Z"
   },
   {
    "duration": 41,
    "start_time": "2022-06-10T18:37:17.581Z"
   },
   {
    "duration": 4,
    "start_time": "2022-06-10T18:37:17.623Z"
   },
   {
    "duration": 29,
    "start_time": "2022-06-10T18:37:17.629Z"
   },
   {
    "duration": 60,
    "start_time": "2022-06-10T18:37:17.661Z"
   },
   {
    "duration": 55,
    "start_time": "2022-06-10T18:37:17.723Z"
   },
   {
    "duration": 27,
    "start_time": "2022-06-10T18:37:17.779Z"
   },
   {
    "duration": 6,
    "start_time": "2022-06-10T18:37:17.808Z"
   },
   {
    "duration": 14,
    "start_time": "2022-06-10T18:37:17.816Z"
   },
   {
    "duration": 59,
    "start_time": "2022-06-10T18:37:17.832Z"
   },
   {
    "duration": 17,
    "start_time": "2022-06-10T18:37:17.893Z"
   },
   {
    "duration": 35,
    "start_time": "2022-06-10T18:37:17.911Z"
   },
   {
    "duration": 7,
    "start_time": "2022-06-10T18:37:17.948Z"
   },
   {
    "duration": 5,
    "start_time": "2022-06-10T18:37:17.957Z"
   },
   {
    "duration": 27,
    "start_time": "2022-06-10T18:37:17.964Z"
   },
   {
    "duration": 6,
    "start_time": "2022-06-10T18:37:17.994Z"
   },
   {
    "duration": 38,
    "start_time": "2022-06-10T18:37:18.002Z"
   },
   {
    "duration": 5,
    "start_time": "2022-06-10T18:37:18.042Z"
   },
   {
    "duration": 266,
    "start_time": "2022-06-10T18:37:18.049Z"
   },
   {
    "duration": 1175,
    "start_time": "2022-06-10T18:37:18.317Z"
   },
   {
    "duration": 110,
    "start_time": "2022-06-10T18:37:19.493Z"
   },
   {
    "duration": 23,
    "start_time": "2022-06-10T18:37:19.604Z"
   },
   {
    "duration": 8,
    "start_time": "2022-06-10T18:37:19.629Z"
   },
   {
    "duration": 441,
    "start_time": "2022-06-10T18:37:35.042Z"
   },
   {
    "duration": 437,
    "start_time": "2022-06-10T18:37:45.997Z"
   },
   {
    "duration": 446,
    "start_time": "2022-06-10T18:38:51.882Z"
   },
   {
    "duration": 457,
    "start_time": "2022-06-10T18:39:04.830Z"
   },
   {
    "duration": 453,
    "start_time": "2022-06-10T18:39:13.423Z"
   },
   {
    "duration": 3,
    "start_time": "2022-06-10T18:39:40.195Z"
   },
   {
    "duration": 3,
    "start_time": "2022-06-10T18:40:09.914Z"
   },
   {
    "duration": 4,
    "start_time": "2022-06-10T18:40:13.138Z"
   },
   {
    "duration": 173,
    "start_time": "2022-06-10T18:40:13.144Z"
   },
   {
    "duration": 133,
    "start_time": "2022-06-10T18:40:13.319Z"
   },
   {
    "duration": 87,
    "start_time": "2022-06-10T18:40:13.454Z"
   },
   {
    "duration": 27,
    "start_time": "2022-06-10T18:40:13.542Z"
   },
   {
    "duration": 41,
    "start_time": "2022-06-10T18:40:13.570Z"
   },
   {
    "duration": 6,
    "start_time": "2022-06-10T18:40:13.613Z"
   },
   {
    "duration": 49,
    "start_time": "2022-06-10T18:40:13.621Z"
   },
   {
    "duration": 69,
    "start_time": "2022-06-10T18:40:13.672Z"
   },
   {
    "duration": 63,
    "start_time": "2022-06-10T18:40:13.744Z"
   },
   {
    "duration": 21,
    "start_time": "2022-06-10T18:40:13.809Z"
   },
   {
    "duration": 6,
    "start_time": "2022-06-10T18:40:13.831Z"
   },
   {
    "duration": 7,
    "start_time": "2022-06-10T18:40:13.838Z"
   },
   {
    "duration": 61,
    "start_time": "2022-06-10T18:40:13.847Z"
   },
   {
    "duration": 18,
    "start_time": "2022-06-10T18:40:13.910Z"
   },
   {
    "duration": 35,
    "start_time": "2022-06-10T18:40:13.929Z"
   },
   {
    "duration": 7,
    "start_time": "2022-06-10T18:40:13.965Z"
   },
   {
    "duration": 19,
    "start_time": "2022-06-10T18:40:13.973Z"
   },
   {
    "duration": 9,
    "start_time": "2022-06-10T18:40:13.993Z"
   },
   {
    "duration": 6,
    "start_time": "2022-06-10T18:40:14.003Z"
   },
   {
    "duration": 36,
    "start_time": "2022-06-10T18:40:14.010Z"
   },
   {
    "duration": 20,
    "start_time": "2022-06-10T18:40:14.048Z"
   },
   {
    "duration": 251,
    "start_time": "2022-06-10T18:40:14.070Z"
   },
   {
    "duration": 1194,
    "start_time": "2022-06-10T18:40:14.323Z"
   },
   {
    "duration": 115,
    "start_time": "2022-06-10T18:40:15.519Z"
   },
   {
    "duration": 25,
    "start_time": "2022-06-10T18:40:15.635Z"
   },
   {
    "duration": 3,
    "start_time": "2022-06-10T18:40:15.661Z"
   },
   {
    "duration": 28,
    "start_time": "2022-06-10T18:42:25.489Z"
   },
   {
    "duration": 450,
    "start_time": "2022-06-10T18:43:49.408Z"
   },
   {
    "duration": 524,
    "start_time": "2022-06-10T18:45:19.771Z"
   },
   {
    "duration": 6,
    "start_time": "2022-06-10T18:45:30.470Z"
   },
   {
    "duration": 434,
    "start_time": "2022-06-10T18:45:45.508Z"
   },
   {
    "duration": 166,
    "start_time": "2022-06-10T18:46:44.642Z"
   },
   {
    "duration": 166,
    "start_time": "2022-06-10T18:50:01.201Z"
   },
   {
    "duration": 170,
    "start_time": "2022-06-10T18:50:50.717Z"
   },
   {
    "duration": 5,
    "start_time": "2022-06-10T19:10:23.291Z"
   },
   {
    "duration": 28,
    "start_time": "2022-06-10T19:11:05.954Z"
   },
   {
    "duration": 163,
    "start_time": "2022-06-10T19:11:32.089Z"
   },
   {
    "duration": 180,
    "start_time": "2022-06-10T19:13:29.382Z"
   },
   {
    "duration": 27,
    "start_time": "2022-06-10T19:17:10.149Z"
   },
   {
    "duration": 415,
    "start_time": "2022-06-10T19:17:22.166Z"
   },
   {
    "duration": 164,
    "start_time": "2022-06-10T19:17:33.197Z"
   },
   {
    "duration": 155,
    "start_time": "2022-06-10T19:19:45.477Z"
   },
   {
    "duration": 144,
    "start_time": "2022-06-10T19:20:32.400Z"
   },
   {
    "duration": 440,
    "start_time": "2022-06-10T19:52:05.457Z"
   },
   {
    "duration": 7,
    "start_time": "2022-06-10T19:52:32.116Z"
   },
   {
    "duration": 412,
    "start_time": "2022-06-10T20:07:48.844Z"
   },
   {
    "duration": 229,
    "start_time": "2022-06-10T20:26:38.023Z"
   },
   {
    "duration": 237,
    "start_time": "2022-06-10T20:26:48.348Z"
   },
   {
    "duration": 298,
    "start_time": "2022-06-10T20:28:18.305Z"
   },
   {
    "duration": 3,
    "start_time": "2022-06-10T20:28:50.336Z"
   },
   {
    "duration": 179,
    "start_time": "2022-06-10T20:28:50.341Z"
   },
   {
    "duration": 132,
    "start_time": "2022-06-10T20:28:50.521Z"
   },
   {
    "duration": 88,
    "start_time": "2022-06-10T20:28:50.654Z"
   },
   {
    "duration": 24,
    "start_time": "2022-06-10T20:28:50.744Z"
   },
   {
    "duration": 40,
    "start_time": "2022-06-10T20:28:50.769Z"
   },
   {
    "duration": 4,
    "start_time": "2022-06-10T20:28:50.811Z"
   },
   {
    "duration": 32,
    "start_time": "2022-06-10T20:28:50.818Z"
   },
   {
    "duration": 75,
    "start_time": "2022-06-10T20:28:50.852Z"
   },
   {
    "duration": 55,
    "start_time": "2022-06-10T20:28:50.929Z"
   },
   {
    "duration": 23,
    "start_time": "2022-06-10T20:28:50.993Z"
   },
   {
    "duration": 6,
    "start_time": "2022-06-10T20:28:51.018Z"
   },
   {
    "duration": 9,
    "start_time": "2022-06-10T20:28:51.025Z"
   },
   {
    "duration": 42,
    "start_time": "2022-06-10T20:28:51.036Z"
   },
   {
    "duration": 24,
    "start_time": "2022-06-10T20:28:51.079Z"
   },
   {
    "duration": 37,
    "start_time": "2022-06-10T20:28:51.104Z"
   },
   {
    "duration": 7,
    "start_time": "2022-06-10T20:28:51.143Z"
   },
   {
    "duration": 5,
    "start_time": "2022-06-10T20:28:51.151Z"
   },
   {
    "duration": 5,
    "start_time": "2022-06-10T20:28:51.157Z"
   },
   {
    "duration": 30,
    "start_time": "2022-06-10T20:28:51.164Z"
   },
   {
    "duration": 43,
    "start_time": "2022-06-10T20:28:51.195Z"
   },
   {
    "duration": 8,
    "start_time": "2022-06-10T20:28:51.240Z"
   },
   {
    "duration": 246,
    "start_time": "2022-06-10T20:28:51.250Z"
   },
   {
    "duration": 1176,
    "start_time": "2022-06-10T20:28:51.497Z"
   },
   {
    "duration": 107,
    "start_time": "2022-06-10T20:28:52.675Z"
   },
   {
    "duration": 38,
    "start_time": "2022-06-10T20:28:52.783Z"
   },
   {
    "duration": 5,
    "start_time": "2022-06-10T20:28:52.822Z"
   },
   {
    "duration": 184,
    "start_time": "2022-06-10T20:28:52.828Z"
   },
   {
    "duration": 260,
    "start_time": "2022-06-10T20:28:53.014Z"
   },
   {
    "duration": 171,
    "start_time": "2022-06-10T20:28:53.276Z"
   },
   {
    "duration": 188,
    "start_time": "2022-06-10T20:28:53.448Z"
   },
   {
    "duration": 156,
    "start_time": "2022-06-10T20:28:53.637Z"
   },
   {
    "duration": 155,
    "start_time": "2022-06-10T20:28:53.794Z"
   },
   {
    "duration": 5,
    "start_time": "2022-06-10T20:28:53.951Z"
   },
   {
    "duration": 471,
    "start_time": "2022-06-10T20:28:53.958Z"
   },
   {
    "duration": 233,
    "start_time": "2022-06-10T20:58:14.210Z"
   },
   {
    "duration": 3,
    "start_time": "2022-06-10T20:58:23.471Z"
   },
   {
    "duration": 173,
    "start_time": "2022-06-10T20:58:23.476Z"
   },
   {
    "duration": 146,
    "start_time": "2022-06-10T20:58:23.651Z"
   },
   {
    "duration": 94,
    "start_time": "2022-06-10T20:58:23.799Z"
   },
   {
    "duration": 26,
    "start_time": "2022-06-10T20:58:23.895Z"
   },
   {
    "duration": 42,
    "start_time": "2022-06-10T20:58:23.923Z"
   },
   {
    "duration": 5,
    "start_time": "2022-06-10T20:58:23.967Z"
   },
   {
    "duration": 45,
    "start_time": "2022-06-10T20:58:23.973Z"
   },
   {
    "duration": 74,
    "start_time": "2022-06-10T20:58:24.020Z"
   },
   {
    "duration": 59,
    "start_time": "2022-06-10T20:58:24.095Z"
   },
   {
    "duration": 35,
    "start_time": "2022-06-10T20:58:24.156Z"
   },
   {
    "duration": 8,
    "start_time": "2022-06-10T20:58:24.193Z"
   },
   {
    "duration": 23,
    "start_time": "2022-06-10T20:58:24.203Z"
   },
   {
    "duration": 67,
    "start_time": "2022-06-10T20:58:24.228Z"
   },
   {
    "duration": 17,
    "start_time": "2022-06-10T20:58:24.297Z"
   },
   {
    "duration": 46,
    "start_time": "2022-06-10T20:58:24.315Z"
   },
   {
    "duration": 7,
    "start_time": "2022-06-10T20:58:24.362Z"
   },
   {
    "duration": 21,
    "start_time": "2022-06-10T20:58:24.371Z"
   },
   {
    "duration": 20,
    "start_time": "2022-06-10T20:58:24.394Z"
   },
   {
    "duration": 28,
    "start_time": "2022-06-10T20:58:24.415Z"
   },
   {
    "duration": 50,
    "start_time": "2022-06-10T20:58:24.444Z"
   },
   {
    "duration": 13,
    "start_time": "2022-06-10T20:58:24.496Z"
   },
   {
    "duration": 277,
    "start_time": "2022-06-10T20:58:24.511Z"
   },
   {
    "duration": 1258,
    "start_time": "2022-06-10T20:58:24.793Z"
   },
   {
    "duration": 107,
    "start_time": "2022-06-10T20:58:26.052Z"
   },
   {
    "duration": 31,
    "start_time": "2022-06-10T20:58:26.160Z"
   },
   {
    "duration": 4,
    "start_time": "2022-06-10T20:58:26.193Z"
   },
   {
    "duration": 195,
    "start_time": "2022-06-10T20:58:26.198Z"
   },
   {
    "duration": 195,
    "start_time": "2022-06-10T20:58:26.395Z"
   },
   {
    "duration": 164,
    "start_time": "2022-06-10T20:58:26.591Z"
   },
   {
    "duration": 199,
    "start_time": "2022-06-10T20:58:26.757Z"
   },
   {
    "duration": 217,
    "start_time": "2022-06-10T20:58:26.991Z"
   },
   {
    "duration": 185,
    "start_time": "2022-06-10T20:58:27.209Z"
   },
   {
    "duration": 7,
    "start_time": "2022-06-10T20:58:27.396Z"
   },
   {
    "duration": 450,
    "start_time": "2022-06-10T20:58:27.405Z"
   },
   {
    "duration": 252,
    "start_time": "2022-06-10T20:59:07.444Z"
   },
   {
    "duration": 238,
    "start_time": "2022-06-10T20:59:13.582Z"
   },
   {
    "duration": 274,
    "start_time": "2022-06-10T20:59:26.173Z"
   },
   {
    "duration": 259,
    "start_time": "2022-06-10T21:00:00.234Z"
   },
   {
    "duration": 737,
    "start_time": "2022-06-10T21:00:56.676Z"
   },
   {
    "duration": 254,
    "start_time": "2022-06-10T21:02:20.805Z"
   },
   {
    "duration": 264,
    "start_time": "2022-06-10T21:05:29.986Z"
   },
   {
    "duration": 257,
    "start_time": "2022-06-10T21:05:34.377Z"
   },
   {
    "duration": 4,
    "start_time": "2022-06-10T21:05:51.446Z"
   },
   {
    "duration": 6,
    "start_time": "2022-06-10T21:08:22.196Z"
   },
   {
    "duration": 6,
    "start_time": "2022-06-10T21:10:18.283Z"
   },
   {
    "duration": 8,
    "start_time": "2022-06-10T21:10:42.423Z"
   },
   {
    "duration": 426,
    "start_time": "2022-06-10T21:11:35.099Z"
   },
   {
    "duration": 226,
    "start_time": "2022-06-10T21:12:29.048Z"
   },
   {
    "duration": 1158,
    "start_time": "2022-06-10T21:13:08.815Z"
   },
   {
    "duration": 6,
    "start_time": "2022-06-10T21:13:28.037Z"
   },
   {
    "duration": 8,
    "start_time": "2022-06-10T21:13:29.676Z"
   },
   {
    "duration": 1141,
    "start_time": "2022-06-10T21:16:27.139Z"
   },
   {
    "duration": 6,
    "start_time": "2022-06-10T21:19:13.588Z"
   },
   {
    "duration": 5,
    "start_time": "2022-06-10T21:19:24.479Z"
   },
   {
    "duration": 32,
    "start_time": "2022-06-10T21:29:20.071Z"
   },
   {
    "duration": 62,
    "start_time": "2022-06-11T23:09:41.155Z"
   },
   {
    "duration": 10,
    "start_time": "2022-06-11T23:09:49.064Z"
   },
   {
    "duration": 1252,
    "start_time": "2022-06-11T23:09:55.530Z"
   },
   {
    "duration": 265,
    "start_time": "2022-06-11T23:09:56.784Z"
   },
   {
    "duration": 512,
    "start_time": "2022-06-11T23:09:57.052Z"
   },
   {
    "duration": 333,
    "start_time": "2022-06-11T23:09:57.566Z"
   },
   {
    "duration": 83,
    "start_time": "2022-06-11T23:09:57.901Z"
   },
   {
    "duration": 68,
    "start_time": "2022-06-11T23:09:57.986Z"
   },
   {
    "duration": 6,
    "start_time": "2022-06-11T23:09:58.056Z"
   },
   {
    "duration": 38,
    "start_time": "2022-06-11T23:09:58.063Z"
   },
   {
    "duration": 91,
    "start_time": "2022-06-11T23:09:58.102Z"
   },
   {
    "duration": 68,
    "start_time": "2022-06-11T23:09:58.195Z"
   },
   {
    "duration": 24,
    "start_time": "2022-06-11T23:09:58.264Z"
   },
   {
    "duration": 9,
    "start_time": "2022-06-11T23:09:58.289Z"
   },
   {
    "duration": 9,
    "start_time": "2022-06-11T23:09:58.300Z"
   },
   {
    "duration": 58,
    "start_time": "2022-06-11T23:09:58.310Z"
   },
   {
    "duration": 19,
    "start_time": "2022-06-11T23:09:58.370Z"
   },
   {
    "duration": 36,
    "start_time": "2022-06-11T23:09:58.391Z"
   },
   {
    "duration": 7,
    "start_time": "2022-06-11T23:09:58.429Z"
   },
   {
    "duration": 23,
    "start_time": "2022-06-11T23:09:58.438Z"
   },
   {
    "duration": 7,
    "start_time": "2022-06-11T23:09:58.463Z"
   },
   {
    "duration": 13,
    "start_time": "2022-06-11T23:09:58.472Z"
   },
   {
    "duration": 46,
    "start_time": "2022-06-11T23:09:58.486Z"
   },
   {
    "duration": 345,
    "start_time": "2022-06-11T23:09:58.533Z"
   },
   {
    "duration": 1233,
    "start_time": "2022-06-11T23:09:58.880Z"
   },
   {
    "duration": 110,
    "start_time": "2022-06-11T23:10:00.114Z"
   },
   {
    "duration": 36,
    "start_time": "2022-06-11T23:10:00.226Z"
   },
   {
    "duration": 6,
    "start_time": "2022-06-11T23:10:00.264Z"
   },
   {
    "duration": 182,
    "start_time": "2022-06-11T23:10:00.272Z"
   },
   {
    "duration": 177,
    "start_time": "2022-06-11T23:10:00.460Z"
   },
   {
    "duration": 180,
    "start_time": "2022-06-11T23:10:00.639Z"
   },
   {
    "duration": 177,
    "start_time": "2022-06-11T23:10:00.821Z"
   },
   {
    "duration": 154,
    "start_time": "2022-06-11T23:10:00.999Z"
   },
   {
    "duration": 167,
    "start_time": "2022-06-11T23:10:01.159Z"
   },
   {
    "duration": 6,
    "start_time": "2022-06-11T23:10:01.327Z"
   },
   {
    "duration": 37,
    "start_time": "2022-06-11T23:10:01.335Z"
   },
   {
    "duration": 16,
    "start_time": "2022-06-11T23:10:01.374Z"
   },
   {
    "duration": 281,
    "start_time": "2022-06-11T23:10:23.847Z"
   },
   {
    "duration": 271,
    "start_time": "2022-06-11T23:10:40.528Z"
   },
   {
    "duration": 301,
    "start_time": "2022-06-11T23:11:16.450Z"
   },
   {
    "duration": 4,
    "start_time": "2022-06-12T21:03:12.063Z"
   },
   {
    "duration": 89,
    "start_time": "2022-06-12T21:05:14.313Z"
   },
   {
    "duration": 86,
    "start_time": "2022-06-12T21:05:24.289Z"
   },
   {
    "duration": 395,
    "start_time": "2022-06-12T21:13:41.365Z"
   },
   {
    "duration": 369,
    "start_time": "2022-06-12T21:14:10.213Z"
   },
   {
    "duration": 10,
    "start_time": "2022-06-12T21:15:08.376Z"
   },
   {
    "duration": 13,
    "start_time": "2022-06-12T21:15:15.200Z"
   },
   {
    "duration": 14,
    "start_time": "2022-06-12T21:15:20.304Z"
   },
   {
    "duration": 43,
    "start_time": "2022-06-12T21:15:57.680Z"
   },
   {
    "duration": 18,
    "start_time": "2022-06-12T21:16:04.557Z"
   },
   {
    "duration": 22,
    "start_time": "2022-06-12T21:16:12.825Z"
   },
   {
    "duration": 286,
    "start_time": "2022-06-12T21:17:50.470Z"
   },
   {
    "duration": 267,
    "start_time": "2022-06-12T21:18:11.546Z"
   },
   {
    "duration": 265,
    "start_time": "2022-06-12T21:20:44.019Z"
   },
   {
    "duration": 293,
    "start_time": "2022-06-12T21:21:37.971Z"
   },
   {
    "duration": 325,
    "start_time": "2022-06-12T21:21:47.557Z"
   },
   {
    "duration": 265,
    "start_time": "2022-06-12T21:22:57.850Z"
   },
   {
    "duration": 304,
    "start_time": "2022-06-12T21:26:19.943Z"
   },
   {
    "duration": 353,
    "start_time": "2022-06-12T21:26:56.492Z"
   },
   {
    "duration": 290,
    "start_time": "2022-06-12T21:30:41.847Z"
   },
   {
    "duration": 270,
    "start_time": "2022-06-12T21:31:19.903Z"
   },
   {
    "duration": 288,
    "start_time": "2022-06-12T21:31:44.710Z"
   },
   {
    "duration": 264,
    "start_time": "2022-06-12T21:33:53.962Z"
   },
   {
    "duration": 280,
    "start_time": "2022-06-12T21:35:55.862Z"
   },
   {
    "duration": 334,
    "start_time": "2022-06-12T21:36:26.341Z"
   },
   {
    "duration": 288,
    "start_time": "2022-06-12T21:36:41.583Z"
   },
   {
    "duration": 311,
    "start_time": "2022-06-12T21:38:05.395Z"
   },
   {
    "duration": 291,
    "start_time": "2022-06-12T21:38:13.759Z"
   },
   {
    "duration": 296,
    "start_time": "2022-06-12T21:38:37.616Z"
   },
   {
    "duration": 327,
    "start_time": "2022-06-12T21:41:39.589Z"
   },
   {
    "duration": 1366,
    "start_time": "2022-06-12T21:42:21.150Z"
   },
   {
    "duration": 145,
    "start_time": "2022-06-12T21:42:24.925Z"
   },
   {
    "duration": 9,
    "start_time": "2022-06-12T21:44:14.460Z"
   },
   {
    "duration": 347,
    "start_time": "2022-06-12T21:44:15.862Z"
   },
   {
    "duration": 215,
    "start_time": "2022-06-12T21:44:20.452Z"
   },
   {
    "duration": 157,
    "start_time": "2022-06-12T21:44:23.480Z"
   },
   {
    "duration": 196,
    "start_time": "2022-06-12T21:44:42.925Z"
   },
   {
    "duration": 149,
    "start_time": "2022-06-12T21:44:49.387Z"
   },
   {
    "duration": 158,
    "start_time": "2022-06-12T21:44:55.857Z"
   },
   {
    "duration": 156,
    "start_time": "2022-06-12T21:45:47.762Z"
   },
   {
    "duration": 178,
    "start_time": "2022-06-12T21:45:52.020Z"
   },
   {
    "duration": 226,
    "start_time": "2022-06-12T21:45:56.349Z"
   },
   {
    "duration": 112,
    "start_time": "2022-06-12T21:46:54.003Z"
   },
   {
    "duration": 311,
    "start_time": "2022-06-12T21:49:33.118Z"
   },
   {
    "duration": 1386,
    "start_time": "2022-06-12T21:51:45.710Z"
   },
   {
    "duration": 1568,
    "start_time": "2022-06-12T21:51:54.699Z"
   },
   {
    "duration": 1405,
    "start_time": "2022-06-12T21:52:13.362Z"
   },
   {
    "duration": 1372,
    "start_time": "2022-06-12T21:53:24.741Z"
   },
   {
    "duration": 6,
    "start_time": "2022-06-12T21:53:50.017Z"
   },
   {
    "duration": 213,
    "start_time": "2022-06-12T21:53:50.025Z"
   },
   {
    "duration": 154,
    "start_time": "2022-06-12T21:53:50.242Z"
   },
   {
    "duration": 115,
    "start_time": "2022-06-12T21:53:50.399Z"
   },
   {
    "duration": 35,
    "start_time": "2022-06-12T21:53:50.516Z"
   },
   {
    "duration": 45,
    "start_time": "2022-06-12T21:53:50.553Z"
   },
   {
    "duration": 33,
    "start_time": "2022-06-12T21:53:50.599Z"
   },
   {
    "duration": 85,
    "start_time": "2022-06-12T21:53:50.637Z"
   },
   {
    "duration": 64,
    "start_time": "2022-06-12T21:53:50.725Z"
   },
   {
    "duration": 24,
    "start_time": "2022-06-12T21:53:50.790Z"
   },
   {
    "duration": 10,
    "start_time": "2022-06-12T21:53:50.827Z"
   },
   {
    "duration": 54,
    "start_time": "2022-06-12T21:53:50.843Z"
   },
   {
    "duration": 19,
    "start_time": "2022-06-12T21:53:50.899Z"
   },
   {
    "duration": 48,
    "start_time": "2022-06-12T21:53:50.920Z"
   },
   {
    "duration": 8,
    "start_time": "2022-06-12T21:53:50.969Z"
   },
   {
    "duration": 13,
    "start_time": "2022-06-12T21:53:50.979Z"
   },
   {
    "duration": 8,
    "start_time": "2022-06-12T21:53:50.994Z"
   },
   {
    "duration": 7,
    "start_time": "2022-06-12T21:53:51.004Z"
   },
   {
    "duration": 51,
    "start_time": "2022-06-12T21:53:51.013Z"
   },
   {
    "duration": 308,
    "start_time": "2022-06-12T21:53:51.066Z"
   },
   {
    "duration": 1294,
    "start_time": "2022-06-12T21:53:51.376Z"
   },
   {
    "duration": 12,
    "start_time": "2022-06-12T21:53:52.672Z"
   },
   {
    "duration": 0,
    "start_time": "2022-06-12T21:53:52.686Z"
   },
   {
    "duration": 0,
    "start_time": "2022-06-12T21:53:52.687Z"
   },
   {
    "duration": 0,
    "start_time": "2022-06-12T21:53:52.689Z"
   },
   {
    "duration": 0,
    "start_time": "2022-06-12T21:53:52.691Z"
   },
   {
    "duration": 0,
    "start_time": "2022-06-12T21:53:52.692Z"
   },
   {
    "duration": 0,
    "start_time": "2022-06-12T21:53:52.693Z"
   },
   {
    "duration": 0,
    "start_time": "2022-06-12T21:53:52.695Z"
   },
   {
    "duration": 0,
    "start_time": "2022-06-12T21:53:52.696Z"
   },
   {
    "duration": 0,
    "start_time": "2022-06-12T21:53:52.727Z"
   },
   {
    "duration": 0,
    "start_time": "2022-06-12T21:53:52.728Z"
   },
   {
    "duration": 0,
    "start_time": "2022-06-12T21:53:52.730Z"
   },
   {
    "duration": 1307,
    "start_time": "2022-06-12T21:54:29.746Z"
   },
   {
    "duration": 1434,
    "start_time": "2022-06-12T21:54:45.075Z"
   },
   {
    "duration": 106,
    "start_time": "2022-06-12T21:55:32.419Z"
   },
   {
    "duration": 114,
    "start_time": "2022-06-12T21:56:28.143Z"
   },
   {
    "duration": 161,
    "start_time": "2022-06-12T21:57:31.985Z"
   },
   {
    "duration": 35,
    "start_time": "2022-06-12T21:59:04.890Z"
   },
   {
    "duration": 6,
    "start_time": "2022-06-12T21:59:27.414Z"
   },
   {
    "duration": 262,
    "start_time": "2022-06-12T21:59:30.125Z"
   },
   {
    "duration": 172,
    "start_time": "2022-06-12T21:59:34.075Z"
   },
   {
    "duration": 161,
    "start_time": "2022-06-12T21:59:40.045Z"
   },
   {
    "duration": 154,
    "start_time": "2022-06-12T21:59:42.923Z"
   },
   {
    "duration": 142,
    "start_time": "2022-06-12T21:59:48.188Z"
   },
   {
    "duration": 150,
    "start_time": "2022-06-12T22:00:05.345Z"
   },
   {
    "duration": 169,
    "start_time": "2022-06-12T22:00:15.151Z"
   },
   {
    "duration": 171,
    "start_time": "2022-06-12T22:00:42.925Z"
   },
   {
    "duration": 192,
    "start_time": "2022-06-12T22:00:44.747Z"
   },
   {
    "duration": 158,
    "start_time": "2022-06-12T22:00:52.383Z"
   },
   {
    "duration": 162,
    "start_time": "2022-06-12T22:03:48.463Z"
   },
   {
    "duration": 7,
    "start_time": "2022-06-12T22:05:20.041Z"
   },
   {
    "duration": 11,
    "start_time": "2022-06-12T22:05:22.143Z"
   },
   {
    "duration": 9,
    "start_time": "2022-06-12T22:05:32.479Z"
   },
   {
    "duration": 3,
    "start_time": "2022-06-12T22:05:37.394Z"
   },
   {
    "duration": 217,
    "start_time": "2022-06-12T22:05:37.399Z"
   },
   {
    "duration": 155,
    "start_time": "2022-06-12T22:05:37.627Z"
   },
   {
    "duration": 102,
    "start_time": "2022-06-12T22:05:37.784Z"
   },
   {
    "duration": 35,
    "start_time": "2022-06-12T22:05:37.887Z"
   },
   {
    "duration": 164,
    "start_time": "2022-06-12T22:05:37.924Z"
   },
   {
    "duration": 49,
    "start_time": "2022-06-12T22:05:38.090Z"
   },
   {
    "duration": 64,
    "start_time": "2022-06-12T22:05:38.144Z"
   },
   {
    "duration": 65,
    "start_time": "2022-06-12T22:05:38.212Z"
   },
   {
    "duration": 21,
    "start_time": "2022-06-12T22:05:38.279Z"
   },
   {
    "duration": 7,
    "start_time": "2022-06-12T22:05:38.301Z"
   },
   {
    "duration": 72,
    "start_time": "2022-06-12T22:05:38.309Z"
   },
   {
    "duration": 30,
    "start_time": "2022-06-12T22:05:38.383Z"
   },
   {
    "duration": 56,
    "start_time": "2022-06-12T22:05:38.415Z"
   },
   {
    "duration": 8,
    "start_time": "2022-06-12T22:05:38.473Z"
   },
   {
    "duration": 8,
    "start_time": "2022-06-12T22:05:38.483Z"
   },
   {
    "duration": 7,
    "start_time": "2022-06-12T22:05:38.493Z"
   },
   {
    "duration": 30,
    "start_time": "2022-06-12T22:05:38.502Z"
   },
   {
    "duration": 45,
    "start_time": "2022-06-12T22:05:38.535Z"
   },
   {
    "duration": 288,
    "start_time": "2022-06-12T22:05:38.582Z"
   },
   {
    "duration": 1303,
    "start_time": "2022-06-12T22:05:38.872Z"
   },
   {
    "duration": 119,
    "start_time": "2022-06-12T22:05:40.177Z"
   },
   {
    "duration": 44,
    "start_time": "2022-06-12T22:05:40.297Z"
   },
   {
    "duration": 13,
    "start_time": "2022-06-12T22:05:40.343Z"
   },
   {
    "duration": 154,
    "start_time": "2022-06-12T22:05:40.357Z"
   },
   {
    "duration": 175,
    "start_time": "2022-06-12T22:05:40.513Z"
   },
   {
    "duration": 185,
    "start_time": "2022-06-12T22:05:40.690Z"
   },
   {
    "duration": 179,
    "start_time": "2022-06-12T22:05:40.877Z"
   },
   {
    "duration": 176,
    "start_time": "2022-06-12T22:05:41.057Z"
   },
   {
    "duration": 153,
    "start_time": "2022-06-12T22:05:41.239Z"
   },
   {
    "duration": 6,
    "start_time": "2022-06-12T22:05:41.394Z"
   },
   {
    "duration": 10,
    "start_time": "2022-06-12T22:05:41.402Z"
   },
   {
    "duration": 19,
    "start_time": "2022-06-12T22:05:41.414Z"
   },
   {
    "duration": 7,
    "start_time": "2022-06-12T22:15:12.133Z"
   },
   {
    "duration": 7,
    "start_time": "2022-06-12T22:15:12.848Z"
   },
   {
    "duration": 46,
    "start_time": "2022-06-12T22:15:45.915Z"
   },
   {
    "duration": 157,
    "start_time": "2022-06-12T22:15:53.043Z"
   },
   {
    "duration": 9,
    "start_time": "2022-06-12T22:16:07.567Z"
   },
   {
    "duration": 146,
    "start_time": "2022-06-12T22:16:20.674Z"
   },
   {
    "duration": 166,
    "start_time": "2022-06-12T22:16:33.131Z"
   },
   {
    "duration": 160,
    "start_time": "2022-06-12T22:16:41.307Z"
   },
   {
    "duration": 20,
    "start_time": "2022-06-12T22:17:30.655Z"
   },
   {
    "duration": 168,
    "start_time": "2022-06-12T22:17:38.225Z"
   },
   {
    "duration": 148,
    "start_time": "2022-06-12T22:18:14.471Z"
   },
   {
    "duration": 324,
    "start_time": "2022-06-12T22:18:21.731Z"
   },
   {
    "duration": 171,
    "start_time": "2022-06-12T22:18:27.274Z"
   },
   {
    "duration": 156,
    "start_time": "2022-06-12T22:18:47.409Z"
   },
   {
    "duration": 27,
    "start_time": "2022-06-12T22:18:51.442Z"
   },
   {
    "duration": 170,
    "start_time": "2022-06-12T22:19:00.607Z"
   },
   {
    "duration": 200,
    "start_time": "2022-06-12T22:19:14.606Z"
   },
   {
    "duration": 173,
    "start_time": "2022-06-12T22:20:06.547Z"
   },
   {
    "duration": 179,
    "start_time": "2022-06-12T22:20:08.190Z"
   },
   {
    "duration": 10,
    "start_time": "2022-06-12T22:24:56.802Z"
   },
   {
    "duration": 12,
    "start_time": "2022-06-12T22:25:04.125Z"
   },
   {
    "duration": 182,
    "start_time": "2022-06-12T22:25:09.692Z"
   },
   {
    "duration": 209,
    "start_time": "2022-06-12T22:25:26.161Z"
   },
   {
    "duration": 151,
    "start_time": "2022-06-12T22:25:59.762Z"
   },
   {
    "duration": 199,
    "start_time": "2022-06-12T22:26:07.486Z"
   },
   {
    "duration": 173,
    "start_time": "2022-06-12T22:26:11.743Z"
   },
   {
    "duration": 9,
    "start_time": "2022-06-12T22:27:10.572Z"
   },
   {
    "duration": 146,
    "start_time": "2022-06-12T22:27:19.072Z"
   },
   {
    "duration": 165,
    "start_time": "2022-06-12T22:27:30.480Z"
   },
   {
    "duration": 368,
    "start_time": "2022-06-12T22:27:47.634Z"
   },
   {
    "duration": 19,
    "start_time": "2022-06-12T22:29:40.372Z"
   },
   {
    "duration": 53,
    "start_time": "2022-06-12T22:29:43.217Z"
   },
   {
    "duration": 40,
    "start_time": "2022-06-12T22:29:50.960Z"
   },
   {
    "duration": 22,
    "start_time": "2022-06-12T22:30:12.043Z"
   },
   {
    "duration": 195,
    "start_time": "2022-06-12T22:30:54.393Z"
   },
   {
    "duration": 213,
    "start_time": "2022-06-12T22:31:10.507Z"
   }
  ],
  "kernelspec": {
   "display_name": "Python 3 (ipykernel)",
   "language": "python",
   "name": "python3"
  },
  "language_info": {
   "codemirror_mode": {
    "name": "ipython",
    "version": 3
   },
   "file_extension": ".py",
   "mimetype": "text/x-python",
   "name": "python",
   "nbconvert_exporter": "python",
   "pygments_lexer": "ipython3",
   "version": "3.10.5"
  },
  "toc": {
   "base_numbering": 1,
   "nav_menu": {
    "height": "81px",
    "width": "449px"
   },
   "number_sections": true,
   "sideBar": true,
   "skip_h1_title": true,
   "title_cell": "Table of Contents",
   "title_sidebar": "Contents",
   "toc_cell": false,
   "toc_position": {},
   "toc_section_display": true,
   "toc_window_display": false
  }
 },
 "nbformat": 4,
 "nbformat_minor": 2
}
